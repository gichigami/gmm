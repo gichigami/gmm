{
 "cells": [
  {
   "cell_type": "code",
   "execution_count": 1,
   "metadata": {},
   "outputs": [],
   "source": [
    "from nltk.corpus import brown\n",
    "import textacy.preprocessing as p\n",
    "import numpy as np\n",
    "from nltk.tokenize import sent_tokenize\n",
    "from sklearn.metrics.pairwise import cosine_similarity\n",
    "from scipy.sparse import dok_matrix\n",
    "from tqdm import tqdm"
   ]
  },
  {
   "cell_type": "code",
   "execution_count": 2,
   "metadata": {},
   "outputs": [],
   "source": [
    "def cos(x,y):\n",
    "    numer = np.dot(x,y)\n",
    "    denom = np.linalg.norm(x)*np.linalg.norm(y)\n",
    "    return(numer/denom)\n",
    "\n",
    "def compare(x,y):\n",
    "    word1 = matrix[coocc.w2i[x]]\n",
    "    word2 = matrix[coocc.w2i[y]]\n",
    "    return(cos(word1, word2))"
   ]
  },
  {
   "cell_type": "code",
   "execution_count": 3,
   "metadata": {},
   "outputs": [],
   "source": [
    "#sentences = list(\" \".join(sentence) for sentence in brown.sents())\n",
    "\n",
    "kids = open(\"cbt_train.txt\", \"r\").read()\n",
    "kids = sent_tokenize(kids)\n"
   ]
  },
  {
   "cell_type": "code",
   "execution_count": 4,
   "metadata": {},
   "outputs": [
    {
     "name": "stdout",
     "output_type": "stream",
     "text": [
      "264495\n"
     ]
    }
   ],
   "source": [
    "#kids = sent_tokenize(kids)\n",
    "#print(len(sentences))\n",
    "print(len(kids))"
   ]
  },
  {
   "cell_type": "code",
   "execution_count": 5,
   "metadata": {},
   "outputs": [],
   "source": [
    "def clean_sentence(sent):\n",
    "    clean = p.normalize.normalize_whitespace(sent.lower())\n",
    "    clean = p.remove.remove_punctuation(clean)\n",
    "    clean = p.replace.replace_numbers(clean)\n",
    "    return(clean)"
   ]
  },
  {
   "cell_type": "code",
   "execution_count": 6,
   "metadata": {},
   "outputs": [
    {
     "name": "stdout",
     "output_type": "stream",
     "text": [
      "<s> once upon a time there reigned in pantouflia a king and a queen </s>\n",
      "<s> with almost everything else to make them happy they wanted one thing they had no children </s>\n",
      "<s> this vexed the king even more than the queen who was very clever and learned and who had hated dolls when she was a child </s>\n",
      "<s> however she too in spite of all the books she read and all the pictures she painted would have been glad enough to be the mother of a little prince </s>\n",
      "<s> the king was anxious to consult the fairies but the queen would not hear of such a thing </s>\n",
      "<s> she did not believe in fairies she said that they had never existed and that she maintained though the history of the royal family was full of chapters about nothing else </s>\n",
      "<s> well at long and at last they had a little boy who was generally regarded as the finest baby that had ever been seen </s>\n",
      "<s> even her majesty herself remarked that though she could never believe all the courtiers told her yet he certainly was a fine child a very fine child </s>\n"
     ]
    }
   ],
   "source": [
    "#for i in range(len(sentences)):\n",
    "#    sentences[i] = (\"<s> \" + clean_sentence(sentences[i]) + \" </s>\").split()\n",
    "    \n",
    "for i in range(len(kids)):\n",
    "    kids[i] = (\"<s> \" + clean_sentence(kids[i]) + \" </s>\").split()\n",
    "    \n",
    "    \n",
    "for i in range(2,10):\n",
    "    print(\" \".join(kids[i]))"
   ]
  },
  {
   "cell_type": "code",
   "execution_count": 7,
   "metadata": {},
   "outputs": [],
   "source": [
    "class CoOcc():\n",
    "    def __init__(self, corpus, window=1):\n",
    "        self.corpus = corpus\n",
    "        self.window = window\n",
    "        \n",
    "        self.counts = {}\n",
    "        \n",
    "        print(\"Calculating vocabulary\")\n",
    "        for sentence in self.corpus:\n",
    "            for word in sentence:\n",
    "                if word not in self.counts:\n",
    "                    self.counts[word] = {}\n",
    "        \n",
    "        self.w2i = dict([(w, i) for i, w in enumerate(self.counts.keys())])\n",
    "        self.i2w = dict([(i, w) for i, w in enumerate(self.counts.keys())])\n",
    "        \n",
    "    def sent_counts(self, sentence):\n",
    "        for i in range(len(sentence)):\n",
    "                for j in range(-self.window, self.window+1):\n",
    "                    if j!=0 and i+j >=0 and i+j < len(sentence):\n",
    "                        if sentence[i+j] in self.counts[sentence[i]]:\n",
    "                            self.counts[sentence[i]][sentence[i+j]] += 1\n",
    "                        else:\n",
    "                            self.counts[sentence[i]][sentence[i+j]] = 1\n",
    "        \n",
    "    def get_counts(self):\n",
    "        print(\"Getting counts...\")\n",
    "        for sentence in tqdm(self.corpus):\n",
    "            self.sent_counts(sentence)        \n",
    "        mat = dok_matrix((len(coocc.counts), len(coocc.counts)), dtype=np.int8)\n",
    "        print(\"Constructing matrix\")\n",
    "        for word, context in tqdm(coocc.counts.items()):\n",
    "            for entry in context:\n",
    "                mat[coocc.w2i[word], coocc.w2i[entry]] = coocc.counts[word][entry]\n",
    "        self.matrix = mat.toarray()\n",
    "        #print(\"Preparing pointwise similarity matrix\")\n",
    "        #self.similarities = cosine_similarity(self.matrix)\n",
    "        \n",
    "    def most_sim(self, word):\n",
    "        max = float(\"-inf\")\n",
    "        to_return = None\n",
    "        for cand in tqdm(self.counts):\n",
    "            if cand != word:\n",
    "                score = compare(word, cand)\n",
    "                if score > max:\n",
    "                    max = score\n",
    "                    to_return = cand\n",
    "        return(to_return)\n",
    "    \n",
    "    #def most_sim_alt(self, word):\n",
    "    #    scores = np.dot(self.matrix, self.matrix[self.w2i[word]])\n",
    "    #   return(self.i2w[np.argmax(scores)])\n",
    "    \n",
    "    def highest_count(self, word, n):\n",
    "        counts = self.matrix[self.w2i[word]]\n",
    "        highest_n = counts.argsort()[-n:][::-1]\n",
    "        return([self.i2w[result] for result in highest_n])\n",
    "        \n",
    "        \n",
    "#    def most_sim_mega_alt(self, word):\n",
    "#        return(self.i2w(np.argmax(self.similarities[self.w2i[word]])))"
   ]
  },
  {
   "cell_type": "code",
   "execution_count": 22,
   "metadata": {},
   "outputs": [
    {
     "name": "stdout",
     "output_type": "stream",
     "text": [
      "Calculating vocabulary\n"
     ]
    }
   ],
   "source": [
    "coocc = CoOcc(kids, window=8)"
   ]
  },
  {
   "cell_type": "code",
   "execution_count": 23,
   "metadata": {},
   "outputs": [
    {
     "name": "stderr",
     "output_type": "stream",
     "text": [
      "  0%|          | 765/264495 [00:00<00:34, 7638.77it/s]"
     ]
    },
    {
     "name": "stdout",
     "output_type": "stream",
     "text": [
      "Getting counts...\n"
     ]
    },
    {
     "name": "stderr",
     "output_type": "stream",
     "text": [
      "100%|██████████| 264495/264495 [00:35<00:00, 7398.93it/s] \n",
      "  0%|          | 0/42256 [00:00<?, ?it/s]"
     ]
    },
    {
     "name": "stdout",
     "output_type": "stream",
     "text": [
      "Constructing matrix\n"
     ]
    },
    {
     "name": "stderr",
     "output_type": "stream",
     "text": [
      "100%|██████████| 42256/42256 [01:22<00:00, 514.78it/s] \n"
     ]
    }
   ],
   "source": [
    "coocc.get_counts()"
   ]
  },
  {
   "cell_type": "code",
   "execution_count": 24,
   "metadata": {},
   "outputs": [
    {
     "data": {
      "text/plain": [
       "(42256, 42256)"
      ]
     },
     "execution_count": 24,
     "metadata": {},
     "output_type": "execute_result"
    }
   ],
   "source": [
    "coocc.matrix.shape"
   ]
  },
  {
   "cell_type": "code",
   "execution_count": 25,
   "metadata": {},
   "outputs": [
    {
     "name": "stdout",
     "output_type": "stream",
     "text": [
      "['from', 'do', 'very', 'they', 'did', 'he', 'been', 'like', 'good', 'about', 'old', 'to', 'were', 'poor', 'with']\n",
      "['do', 'there', 'would', 'young', 'were', 'me', 'good', 'she', 'could', 'it', 'an', 'poor', 'no', 'about', 'from']\n"
     ]
    }
   ],
   "source": [
    "print(coocc.highest_count(\"boy\", 15))\n",
    "print(coocc.highest_count(\"girl\", 15))\n"
   ]
  },
  {
   "cell_type": "code",
   "execution_count": 26,
   "metadata": {},
   "outputs": [],
   "source": [
    "def overlap(word1, word2, n):\n",
    "    highest_one =  coocc.highest_count(word1, n)\n",
    "    highest_two =  coocc.highest_count(word2, n)\n",
    "    olaps = len(set(highest_one).intersection(set(highest_two)))\n",
    "    return(olaps/n)"
   ]
  },
  {
   "cell_type": "code",
   "execution_count": 27,
   "metadata": {},
   "outputs": [],
   "source": [
    "syn_pairs = [(\"king\", \"reign\"), (\"dog\", \"ate\"), (\"king\", \"kingdom\"), (\"he\", \"ran\"), (\"for\", \"the\"), (\"pretty\", \"princess\")]\n",
    "par_pairs = [(\"boy\", \"girl\"), (\"man\", \"woman\"), (\"king\", \"queen\"), (\"the\", \"a\"),  (\"he\", \"she\"), (\"blue\", \"green\")]"
   ]
  },
  {
   "cell_type": "code",
   "execution_count": 28,
   "metadata": {},
   "outputs": [
    {
     "name": "stdout",
     "output_type": "stream",
     "text": [
      "syn_score: 0.3558333333333334\n",
      "par_score: 0.22333333333333336\n"
     ]
    }
   ],
   "source": [
    "syn_score = 0\n",
    "for pair in syn_pairs:\n",
    "    syn_score += overlap(pair[0], pair[1], 200)\n",
    "    \n",
    "print(\"syn_score:\", syn_score/len(syn_pairs))\n",
    "\n",
    "par_score = 0\n",
    "for pair in par_pairs:\n",
    "    par_score += overlap(pair[0], pair[1], 50)\n",
    "\n",
    "print(\"par_score:\", par_score/len(par_pairs))\n",
    "    "
   ]
  },
  {
   "cell_type": "code",
   "execution_count": 29,
   "metadata": {},
   "outputs": [],
   "source": [
    "del(coocc)"
   ]
  },
  {
   "cell_type": "code",
   "execution_count": null,
   "metadata": {},
   "outputs": [],
   "source": []
  }
 ],
 "metadata": {
  "kernelspec": {
   "display_name": "Python 3",
   "language": "python",
   "name": "python3"
  },
  "language_info": {
   "codemirror_mode": {
    "name": "ipython",
    "version": 3
   },
   "file_extension": ".py",
   "mimetype": "text/x-python",
   "name": "python",
   "nbconvert_exporter": "python",
   "pygments_lexer": "ipython3",
   "version": "3.6.8"
  }
 },
 "nbformat": 4,
 "nbformat_minor": 2
}
