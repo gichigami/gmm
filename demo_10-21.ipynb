{
 "cells": [
  {
   "cell_type": "markdown",
   "metadata": {},
   "source": [
    "Let's start by quickly going over a solution for turning a count-matrix into a tfidf matrix. Assume a 6$\\times$3 count-matrix, where there are six terms across three documents. Recall that the formula tfidf is $tf_{i,j}\\cdot idf_{j}$, where $tf=log(freq(i,j)+1)$, and $idf = log(\\frac{d}{df_{i}})$"
   ]
  },
  {
   "cell_type": "code",
   "execution_count": 380,
   "metadata": {},
   "outputs": [
    {
     "name": "stdout",
     "output_type": "stream",
     "text": [
      "[[0 1 2]\n",
      " [0 1 1]\n",
      " [1 1 0]\n",
      " [0 1 0]\n",
      " [1 1 1]\n",
      " [1 3 2]]\n",
      "[[0.        0.5849625 1.169925 ]\n",
      " [0.        0.5849625 0.5849625]\n",
      " [0.5849625 0.5849625 0.       ]\n",
      " [0.        1.5849625 0.       ]\n",
      " [0.        0.        0.       ]\n",
      " [0.        0.        0.       ]]\n"
     ]
    }
   ],
   "source": [
    "import numpy as np\n",
    "\n",
    "toy_counts = np.array([[0,1,2], [0,1,1], [1,1,0], [0,1,0], [1,1,1], [1,3,2]])\n",
    "#print(toy_counts)\n",
    "\n",
    "def tfidfify(count_matrix):\n",
    "    t, d = count_matrix.shape\n",
    "    idf = []\n",
    "    for term in count_matrix:\n",
    "        df = 0\n",
    "        for doc_count in term:\n",
    "            if doc_count != 0:\n",
    "                df += 1\n",
    "        idf.append(df)\n",
    "    idf = np.broadcast_to((np.log2(d / np.array(idf))).reshape(t, 1), (t, d))\n",
    "    tfidf = np.multiply(count_matrix, idf)\n",
    "    return(tfidf)\n",
    "\n",
    "my_tfidf = tfidfify(toy_counts)\n",
    "\n",
    "print(toy_counts)\n",
    "print(my_tfidf)\n"
   ]
  },
  {
   "cell_type": "code",
   "execution_count": 381,
   "metadata": {},
   "outputs": [],
   "source": [
    "import pandas as pd\n",
    "from sklearn.model_selection import train_test_split"
   ]
  },
  {
   "cell_type": "code",
   "execution_count": 382,
   "metadata": {},
   "outputs": [],
   "source": [
    "data = pd.read_csv(\"author_train.csv\", encoding=\"ISO-8859-1\")\n",
    "data.replace(to_replace={\"author\":6}, value=5, inplace=True)\n",
    "data = data[data.author < 7].values\n",
    "np.random.shuffle(data)\n",
    "data = data[:1800]"
   ]
  },
  {
   "cell_type": "code",
   "execution_count": 384,
   "metadata": {},
   "outputs": [
    {
     "name": "stdout",
     "output_type": "stream",
     "text": [
      "(1800, 2)\n",
      "[1 1 5 ... 4 4 4]\n",
      "['place of normal rest the left the boat at and was afterwards glad he did so he found one of the prettiest spots he had ever seen and a vegetation thoroughly tropical combined with a modern hotel whose were satisfactory in all respects by the time the next steamer arrived he had done the telegraph act himself and had the pleasure of sharing a room eight feet by five with a physician from who proved to be equal to several ordinary individuals in capacity for entertaining his companion the descent or possibly it is the ascent of the indian river is a journey not to be despised i learn that the means of travel have been improved since the date of which i am writing and are to be still more improved in the near future but was sure that had the steamer been even worse than it was a not easily conceivable and had he been obliged to share the easy chairs and sections of cabin floor on which most of the passengers had to sleep he would have found the trip worth taking the river often into a the strange trees on the waters preparing the way for land at some future date the ix winter t and the groves and orange the tropical birds the odd sometimes half a mile from shore made of to which passengers and freight are in with the hundred and one other sights to which the american of the north is wholly delighted him he felt as if sailing on some mystic stream at the end of which paradise must surely be found and he was nearly right in this conception of the indian river when one reaches and has the pleasure of seeing nay or passing through and within ten hours why should it astonish him when he finds just beyond them a truly land compared to which the of the jews was a very poor affair the groves of lake worth are in a prettier piece of tropical landscape than can be found anywhere else in all the southern states truly the wind blew good to thousands which cast that of upon this coast and his proved themselves wise men when they planted these nuts for miles along a shore till then shaded and no one should grudge that benefactor of his race whatever fortune has come to him from his named the grove house wanted to see a little of st early in the season there and was obliged to quit lake worth much sooner than he would have wished he was something of a hunter and and it him to desert such a s paradise where was to be had for five miles of tramp not to mention deer and innumerable miss giddy where bit on the other side the as ha had never known them to bite in any other waters the however was inexorable and he had to depart with a mental oath to return at no distant day prepared for a longer stay the river was no less impressive on the northern trip and even the twelve hours of daylight that the boat stuck on an bar was not without its enjoyment with a night s rest at our proceeded to winter park and several other places making brief stops and then he went to that marvel silver spring writers of of famous are apt to the language in their attractions it would require more than an ordinary pen to do justice to silver spring and the river those who make the journey to without boarding the little steamer that runs from the spring to have left the finest dish on the the moment the boat from its the finds himself apparently suspended in with a atmosphere of light blue above and below him so clear is the spring that the sensation of floating in water gives way to that of hanging in the as if the steamer were a then as the of the points toward the river a new astonishment begins and never ceases till the end of the journey is reached on the following morning ten minutes after the boat starts the world as we have known it the stream hardly wide enough at points to allow the up boat to pass the down one with a thousand curves is through the of groves whose tall tops almost shut the sky from view and whose exposed roots take on innumerable fantastic shapes this as impressive if not as dense as those of the snake shares with the both of them may be seen themselves on the broken trunks of trees and slipping off for more secure hiding as the wheel their seclusion strange birds fill the air overhead and every fish below is as clearly as through the glass walls of an the captain as jolly a fellow as ever managed a craft tells you how he once shot two deer contrary to the orders of his company and against the of which made that time of year a close season because his instinct would not let the animals cross his he says he paid the fine without a murmur and thought the adventure worth the money lovely as is the daylight trip the full of the come out only at night when the last rays of the setting sun have disappeared a fire it lighted in an iron on top of the pilot house the blaze the surrounding forest throws a red glare across the sky and colors in exquisite hues the on every side the of the wheel in the water the cries of disturbed birds and animals the calls of the pilot and the deck hands break the impressive stillness of the wild woods turning sometimes almost at a right angle in her course as the boat follows the current new scenes are constantly coming into view he must be a dull who before midnight and those who remain '\n",
      " 'who are to be turned out to morrow i should feel better leave that to god she said earnestly he who has done so much for us to night will not desert us if we trust in him i am going to pray before i sleep for â te i every soul in this town that he will hare them m his keeping every soul repeated shall you pray fo philip a tremor passed over her frame yes for him also she said devoutly i do not a man who needs god s grace more good night when every one around her was still lifted to heaven a long and earnest then though she did not expect to sleep exhaustion her the last sound she heard was the sharp voice of a as he some late through that armed camp that had been so recently the peaceful village oi chapter xiv â yes i understand she mill agent paced the rooms of the agency until past midnight sleep had of late become a stranger to his eyes he had begun to look haggard a habit of early hours and unbroken rest was completely destroyed he found to his surprise that he had nerves and ones that could be painfully too his appetite had left him he walked up and down the house in the that would be thus induced but the only effect was to make him more wide awake if possible than ever he knew much he needed the rest that so persistently fled from him at last discouraged in his vain at speaking of tempt he went to the rack in the front hall hit hat and overcoat and into the street it was quite chilly the overcoat was necessary for ordinary comfort on that october night he did not think of taking any particular direction but he soon found himself the village the town hall loomed upon his vision and as he was wondering whether any of the had found a place within its walls a stopped him it is a peculiar sensation â that of being for the first time in your life by a man who carries a and places the point of a within a few inches of your breast as the sharp word halt rang out on the air felt a shock in his condition of mind he had quite forgotten for the moment that colonel s men were in halt said the you cannot pass here the wanderer went away without a word it did not occur to him to say am agent of the great central which owns everything in and no man ever dared stop me before he was in the presence of a new force before which minds have besides he did not wish to excite and one direction was as agreeable to him as another the had time to notice by the dim light of a that the man he had did not seem to be a mill hand and he offered him this explanation it was feared the might attempt to enter the town house and we have been ordered to guard it on every side the agent wandered on twice more was he stopped by one of them told him the orders are that no one shall pass this way as the who are trying te sleep on the â not to be disturbed i understand hb another said sharply though in a purposely voice you cannot pass here sir no one but the women and children can be admitted to the officers tents at the last statement w followed with his eye the pointed finger of the and saw for the first time the white canvas houses un the common looking strangely out of place amid their surroundings you had best follow that street and get out of the lines added the soldier you will be constantly running into trouble if you do not the women and children only understood now the sent to protect the mill owners of had sided with the and taken part of them into the tents of its officers he had heard the of citizen troops doubted in cases of civil outbreak with the so soon truly a fine state of affairs then his heart gave a great throb at the that followed she was undoubtedly sleeping â if indeed she slept at all â in one of those white tents from which he had just been turned back the proud the scornful of whose hold on the two thousand of his was so much greater than his own she rested there at the head of her forces while he the general of the opposing army could rest nowhere the first day of the actual battle was over and she held her ground but to morrow said the agent to himself will put her to a test five hundred more of her people will be of their and where will she shelter them the next day another five hundred will follow and the next another by saturday night speaking of nearly h x f the inhabitants of will be out of doors then the agent drew his overcoat closer and it heavens how cold it is he muttered he strolled slowly back toward the agency not with any intention o entering it but because he thought it wise to heed the s advice and keep away from the soldiers as he the house he saw two female figures fully dressed at an upper window and as he reached the gate one of them â the j ash and spoke his name in a low voice mr yes â miss says if you are not too tired she would like to walk out a little way with you certainly i will wait here it was s maid who spoke and the other was of course miss herself it did not seem odd to that these two women should be up and '\n",
      " 'england tale ring every evil to the of one of the of power her children denied the appropriate pleasures of youth were driven to sins of a much deeper than those which mrs sought to avoid could have had even in her eyes for surely the very worst that ever were attributed to dancing or to romance reading cannot equal the secret dislike of a parent s authority the of the heart against a parent s tyranny and the falsehood and meanness that weakness always will employ in the of power and than which nothing will more certainly taint every thing that is pure in the character the cool reflection of the morning pointed out to mrs as the most discreet the very line of conduct justice would have dictated she knew she could not accuse jane without exposing and besides she did not care to have it known that her sagacity had been by these children therefore though she appeared at breakfast more sulky and unreasonable than usual she took no notice of the transactions of the preceding night and they remained secret to all but the actors in them except that we have reason to believe from mr s increased attention to jane shortly after that they had been faithfully to him by mary the of whose sympathy it cannot be deemed wonderful our little solitary should seek a new england tale chapter vi these are fine but what bird were tbey from there is nothing in new england so eagerly sought for or so highly by all classes of people as the advantages of education a farmer and his wife will deny themselves all other benefits that might result from the gains that have to them from a summer of self denial and toil to give their children the privilege of a grammar school during the winter the public or as they are called the town are open to the child of the poorest as knowledge is one of the best helps and most certain to virtue we doubtless owe a great portion of the morality of this blessed region where there are no dark corners of ignorance to these wise institutions of our pious ancestors in the fall subsequent to the events we have recorded a school had been opened in the village of of a higher and more expensive order than is common in a country town every mouth was filled with praises of the new teacher and with promises and expectations of the knowledge to be derived from this newly opened fountain all was bustle and preparation among the young companions of and for the school for though beyond the usual a new england tale age was to complete her education at the new the dancing school had passed without a sigh of regret from jane but now she felt severely her her watchful friend mary remarked the melancholy look that was at her aunt s and she inquired of jane why she was so downcast ah mary she replied it is a long time since i have felt the merry spirit which the wise man says is medicine to the heart that s true jane but then there s nobody that is there s nobody that has so little reason for it as you have that has a more cheerful look i have great reason to be cheerful mary in token of gratitude for my kind friends here and added she taking mr s infant who extended her arms to her you and i are too young to be very sad the child felt the tear that the cheek to which she was pressed and looking into jane s face with instinctive sympathy burst into tears mr entered at this moment and jane hastily the child in mary s lap and tying on her hat bade them farewell mr asked for some explanation mary believed nothing particular had happened but she said the poor girl s spirit with the life she leads it s a to live with mrs â a great change from a home and mother to such a work house and such a task woman mr had often regretted that it was so little in his power to benefit jane the school occurred to him and as nothing was more improbable than that mrs would herself the expense of jane s attendance he consulted with mary as to the best mode of doing it himself without a new provoking mrs s opposition or offending her pride a few days after when the agent for the school presented the list to mrs for her signature she saw there to her utter astonishment jane s name the agent handed her an note from mr in which he said that as it had been customary to send one person from t e house he now occupied to the school he had taken the liberty to continue the custom he hoped the measure would meet with mrs s tion without which it could not go into effect mrs at first said it was impossible she could not spare jane but afterwards she consented to take it into consideration the moment the man had shut the door she turned to and misunderstanding the flush of pleasure that brightened her usually pale face she exclaimed and so miss this is one of your plans to slip your neck out of the yoke of duty said she had nothing to do with the plan but she trusted her aunt would not oblige her to lose such a golden opportunity of advantage mrs made various objections and jane them all at last she said there would be a piece of linen to make up for david and that put it quite out of the question for said she i shall not take the girls from their studies and even you miss jane will probably have the grace to think my time more precious than yours well aunt said '\n",
      " ...\n",
      " 'have no objection to tobacco smoke to the of the eastern tobacco i am a little nervous and i find my an invaluable he applied a to the great bowl and the smoke merrily through the we sat all three in a with our heads advanced and our upon our hands while the strange little fellow with his high shining head puffed uneasily in the centre when i first determined to make this communication to you said he i might have given you my address but i feared that you might disregard my request and bring unpleasant people with you i took the liberty therefore of making an â h the sign of four ment in such a way that my man might be able to see you first i have complete confidence in his discretion and he had orders if he were dissatisfied to proceed no in the matter you will excuse these precautions but i am a man of somewhat retiring and i might even say refined tastes and there is nothing more than a policeman i have a natural shrinking from all forms of rough i seldom come in contact with the rough crowd i live as you see with some little atmosphere of elegance around me i may call myself a patron of the arts it is my weakness the landscape is a genuine and though a might perhaps throw a doubt upon that there cannot be the least question about the i am partial to the modern french school you will excuse me mr said miss but i am here at your i the story of the bald headed man request to learn something which you desire to tell me it is very late and i should desire the interview to be as short as possible at the best it must take some time he answered for we shall certainly have to go to and see brother we shall all go and try if we can get the better of brother he is very angry with me for taking the course which has seemed right to me i had quite high words with him last night you cannot imagine what a terrible fellow he is when he is angry if we are to go to it would perhaps be as well to start at once i ventured to remark he laughed until his ears were quite red that would hardly do he cried i don t know what he would say if i brought you in that sudden way no i must prepare you the sign of four by showing you how we all stand to each other in the first place i must tell you that there are several points in the story of which i am myself ignorant i can only lay the facts before you as far as i know them myself my father was as you may have guessed major john once of the indian army he retired some eleven years ago and came to live at lodge in upper he had in india and brought back with him a considerable sum of money a large collection of valuable and a staff of native servants with these advantages he bought himself a house and lived in great luxury my and i were the only children i very well remember the sensation which was caused by the disappearance of captain we read the details in the papers the story of the bald headed man and knowing that he had been a friend of our father s we discussed the case freely in his presence he used to join in our speculations as to what could have happened never for an instant did we suspect that he had the whole secret hidden in his own breast that of all men he alone knew the fate of arthur we did know however that some mystery some positive danger our father he was very fearful of going out alone and he always employed two prize to act as at lodge who drove you to night was one of them he was once light weight champion of england our father would never tell us what it was he feared but he had a most marked aversion to men with wooden legs on one occasion he actually fired his revolver at a wooden legged man who proved to be a harmless for orders the sign of four we had to pay a large sum to hush the matter up my brother and i used to think this a mere whim of my father s but events have since led us to change our opinion early in my father received a letter from india which was a great shock to him he nearly fainted at the breakfast table when he opened it and from that day he to his death what was in the letter we could never discover but i could see as he held it that it was short and written in a hand he had suffered for years from an enlarged but he now became rapidly worse and towards the end of april we were informed that he was beyond all hope and that he w shed to make a last communication to us when we entered his room he was propped up with pillows and breathing heavily he us to lock the door and j r to come upon either side of the bed then i the story of the bald headed man grasping our hands he made a remarkable statement to us in a voice which was broken as much by emotion as by pain i shall try and give it to you in his own very words i have only one thing he said which upon my mind at this supreme moment it is my treatment of poor s orphan the cursed which has been my sin through life has withheld from her the treasure half at least of which should have '\n",
      " 'â â do you mean to say all our s was wasted and your fit an speaking it was admirably done cried i looking in amazement at this man who was for ever me with some new phase of his it is an art which is often useful said he when i recovered i managed by a device which had perhaps some little merit of ingenuity to get old to write the word twelve so that i might compare it with the twelve upon the paper by of what an â s i have been i see that you were with me over my weakness said i was to cause you the pain which i know that you felt we then went upstairs together and having entered the room and seen the dressing gown hanging up behind the door i con by a to engage their attention for the moment and slipped back to examine thâ pockets i had hardly got the er however which was as i had expected in one of them when the two were on me and would i verily believe have murdered me then and there but for your prompt and friendly aid as it is i feel that young man s grip on my throat now and the father has twisted my wrist md in the effort to get the paper out of my hand they saw that i must know all about it you and sudden change from absolute security to complete despair made them perfectly desperate i had a little talk with old afterwards as to the motive of the crime he was enough though his son was a perfect demon ready to blow out his own or anybody else s by the brains if he could have got to his revolver when saw that the case against him was so strong he lost all heart and made a clean breast of everything it seems that william had secretly followed his two masters on the night when they made their upon mr s and having thus got them into his power proceeded under of exposure to upon them however was a dangerous man to play games of that sort with it was a stroke of positive genius on his part to see in the scare which was the country side an opportunity of getting rid of the man whom he feared william was up and shot and had they only got the whole of the note and paid a little more attention to detail in their it is very possible that suspicion might never have been aroused and the note i asked placed the paper before us it is very much the sort of thing that i expected said he of course we do not yet know what the relations may have been between by o op william and the result shows that the trap was i am sure that you cannot fail to be delighted with the traces of shown in the p s and in the tails of the g s the absence of the i in the old man s writing is also most characteristic i think our quiet rest in the country has been a distinct success and i shall certainly return much to baker street to morrow end of vou l f office of the by the of by a author of the adventures of etc edition in two volumes vol h by e library â from te of by contents of volume il the crooked man the resident patient the greek the naval treaty the final problem by by the crooked man by by the crooked man one summer night a few months after my marriage i was seated by my own hearth smoking a last pipe and nodding over a novel for my day s work had been an one my wife had already gone upstairs and the sound of the of the hall door some time before told me that the servants had also retired i had risen from my seat and was knocking out the ashes of my pipe when i suddenly heard the of the bell i looked at the clock it was a quarter to twelve this could not be a visitor at so late an hour a patient evidently and possibly an all night sitting with a face i went out into the hall by of and opened the door to my astonishment it was who stood upon my step ah said he i hoped that i might not be too late to catch you my dear fellow pray come in you looked surprised and no wonder relieved too i fancy hum you still smoke the mixture of your bachelor days then there s no that ash upon your coat it s easy to tell that you ve been accustomed to wear a uniform you ll never pass as a pure bred as long as you keep that habit of carrying your handkerchief in your sleeve could you put me up to night with pleasure you told me that you had bachelor quarters for one and i see that you have no gentleman visitor at present your hat stand as much i shall be delighted if you will stay thank you til fill a vacant th en sorry by crooked man ii to see that you ve had the british workman in the house he s a token of evil not the i hope no the gas ah he has left two nail marks from his boot upon your just where the light strikes it no thank you i had some supper at but ru smoke a pipe with you with pleasure i handed him my and he seated himself opposite to me and smoked for some time in silence i was well aware that nothing but business of importance could have brought him to me at such an hour so i waited patiently until he should come round to '\n",
      " 'io gentlemen said he i ll do it the three sprang from their seats the had seized his right hand the horse dealer his left and the him on the back good lad good lad the eh mon but if thou him thou ll rise in one day from being just a common doctor to the best known mon here and thou art a thou art and no mistake and if thou beat the master of thou ll find all the beer thou want for the rest of thy life waiting for thee at the four it is the most sporting thing i ever heard of in my life said young by george sir if you pull it off you ve got the in your pocket if you care to stand you know the in my garden next the road exactly i turned it into a for ted you ll find all you want there clubs bars dumb bells everything then you ll want a partner has been acting for but we don t think that he is class enough bears you no grudge he s a good hearted fellow though with strangers he looked upon you as a stranger this morning but he says he knows you now he is quite ready to with you for practice and he will come at any hour you will name thank you i will let you know the hour said and so the committee departed upon their way the medical assistant sat for a little time in the turning it over in his mind he had been trained originally at the university by the man who had been i the green flag etc middle weight in his day it was true that his teacher was long past his prime dow upon his feet and stiff in his joints but even so he was still a tough but had found at last that he more than hold his own with him he had won the university and his teacher who had trained so many students was emphatic in his opinion that he had never had one who was in the same with him he had been to go in for the amateur but he had no particular ambition in that direction once he had put on the gloves with hammer in a at a fair and had fought three rattling rounds in which he had the worst of it but had made the prize stretch himself to the there was his whole record and was it enough to encourage him to stand up to the master of he had never heard of the master before but then he had lost touch of the ring during the last few years of hard work after all what did it matter if he won there was the money which meant so much to him if he lost it would only mean a he could take punishment without of that he was certain if there were only one chance in a hundred of pulling it off it was worth his while to attempt it dr new come from church with an prayer book in his kid hand broke in upon his meditation you don t go to service i observe mr said he coldly no sir i have had some business to detain me it is very near to my heart that my household should set a good example there are so few educated people the in this district that a great responsibility upon us if we do not live up to the highest how can we expect these poor workers to do so it is a dreadful thing to reflect that the parish takes a great deal more interest in an approaching glove fight than in their religious duties a glove fight sir said i believe that to be the correct term one of my tells me that it is the talk of the district a local a patient of ours by the way is matched against a over at i cannot understand why the law does not step in and stop so degrading an exhibition it is really a prize fight a glove fight you said i am informed that a two glove is an by which they the law and make it difficult for the police to interfere they contend for a sum of money it seems dreadful and almost incredible â does it not â to think that such scenes can be within a few miles of our peaceful home but you will mr that while there are such influences for us to it is very necessary that we should live up to our highest the doctor s sermon would have had more effect if the assistant had not once or twice had occasion to test his highest and come upon it at humble it is always so particularly easy to compound for sins we re most to by those we have no mind to in any case felt that of all the men concerned in such a fight â spectators â it is the actual who holds the strongest and most honourable position his conscience gave him no concern upon the subject en to thb green flag etc and courage are virtues not vices and is at least better than there was a little tobacco shop at the comer of the street where got his bird s eye and also his local information for the was a soul who knew everything about the affairs of the district the assistant strolled down there after tea and asked in a casual way whether the had ever heard of the master of heard of him heard of the little man could hardly articulate in his astonishment why sir he s the first mon o the district an his name s as well known in the west riding as the o t but lor sir â here he stopped and among a heap of papers they ']\n"
     ]
    }
   ],
   "source": [
    "print(data.shape)\n",
    "print(data[:, 1])\n",
    "print(data[:,0])"
   ]
  },
  {
   "cell_type": "code",
   "execution_count": 385,
   "metadata": {},
   "outputs": [
    {
     "name": "stdout",
     "output_type": "stream",
     "text": [
      "Counts shape: (1800, 9966)\n",
      "tfidf shape: (1800, 9966)\n",
      "LSA shape: (1800, 1000)\n",
      "SVD variance explained with 1000d: 0.8541220749129519\n"
     ]
    }
   ],
   "source": [
    "\n",
    "from sklearn.feature_extraction.text import CountVectorizer, TfidfVectorizer\n",
    "from sklearn.decomposition import TruncatedSVD\n",
    "\n",
    "texts = data[:,0]\n",
    "\n",
    "cv = CountVectorizer()\n",
    "counts = cv.fit_transform(texts).toarray()\n",
    "\n",
    "tf = TfidfVectorizer()\n",
    "tfidf = tf.fit_transform(texts).toarray()\n",
    "\n",
    "svd = TruncatedSVD(n_components=1000)\n",
    "lsa = svd.fit_transform(tfidf)\n",
    "\n",
    "print(\"Counts shape:\", counts.shape)\n",
    "print(\"tfidf shape:\", tfidf.shape)\n",
    "print(\"LSA shape:\", lsa.shape)\n",
    "print(\"SVD variance explained with 1000d:\", svd.explained_variance_ratio_.sum())\n"
   ]
  },
  {
   "cell_type": "code",
   "execution_count": 386,
   "metadata": {},
   "outputs": [],
   "source": [
    "\n",
    "import pickle\n",
    "\n",
    "pickle.dump(counts, open(\"author_counts.p\", \"wb\"))\n",
    "pickle.dump(tfidf, open(\"author_tfidf.p\", \"wb\"))\n",
    "pickle.dump(lsa, open(\"author_lsa.p\", \"wb\"))\n"
   ]
  },
  {
   "cell_type": "markdown",
   "metadata": {},
   "source": [
    "Now we have three types of models, all vector-space models of our short texts from Victorian authors. We wish to see if we can predict the authors (the values of which are known to us) just using the text.\n",
    "\n",
    "We have different methods of doing this. We have: k-means clustering (where k=5), and agglomerative clustering. These are our unsupervised methods"
   ]
  },
  {
   "cell_type": "code",
   "execution_count": 387,
   "metadata": {},
   "outputs": [],
   "source": [
    "from time import time\n",
    "\n",
    "def timer(func):\n",
    "    def wrapper(vecs):\n",
    "        print(\"Beginning function\", func.__name__)\n",
    "        begin = time()\n",
    "        clusters = func(vecs)\n",
    "        end = time()\n",
    "        print(\"Function took:\", end-begin, \"seconds\\n\")\n",
    "        return(clusters)\n",
    "    return(wrapper)"
   ]
  },
  {
   "cell_type": "code",
   "execution_count": 388,
   "metadata": {},
   "outputs": [
    {
     "name": "stdout",
     "output_type": "stream",
     "text": [
      "Beginning function kmeans\n",
      "Function took: 14.868891477584839 seconds\n",
      "\n",
      "Beginning function kmeans\n",
      "Function took: 13.37974500656128 seconds\n",
      "\n",
      "Beginning function kmeans\n",
      "Function took: 2.0183801651000977 seconds\n",
      "\n",
      "Beginning function ac\n",
      "Function took: 9.762129545211792 seconds\n",
      "\n",
      "Beginning function ac\n",
      "Function took: 10.021447658538818 seconds\n",
      "\n",
      "Beginning function ac\n",
      "Function took: 0.9806346893310547 seconds\n",
      "\n"
     ]
    }
   ],
   "source": [
    "# Our models to test: counts, tfidf, lsa\n",
    "# Clustering methods to use: KMeans, Hierarchical Clustering (Agglomerative variety) \n",
    "from sklearn.cluster import KMeans, AgglomerativeClustering\n",
    "\n",
    "@timer\n",
    "def kmeans(vectors):\n",
    "    km = KMeans(n_clusters=5, random_state=0)\n",
    "    km.fit(vectors)\n",
    "    return(km)\n",
    "\n",
    "@timer\n",
    "def ac(vectors):\n",
    "    ac = AgglomerativeClustering(n_clusters=5, affinity=\"euclidean\", linkage=\"ward\")\n",
    "    ac.fit(vectors)\n",
    "    return(ac)\n",
    "\n",
    "kcounts = kmeans(counts)\n",
    "ktfidf = kmeans(tfidf)\n",
    "klsa = kmeans(lsa)\n",
    "accounts = ac(counts)\n",
    "actfidf = ac(tfidf)\n",
    "aclsa = ac(lsa)"
   ]
  },
  {
   "cell_type": "code",
   "execution_count": 389,
   "metadata": {},
   "outputs": [
    {
     "name": "stdout",
     "output_type": "stream",
     "text": [
      "KMeans on count vectors accuracy: 0.18276678923743214\n",
      "KMeans on tfidf vectors accuracy: 0.29369151006860555\n",
      "KMeans on lsa vectors accuracy: 0.28076957318972373\n",
      "Agglomerative Clustering on count vectors accuracy: 0.11676855293488145\n",
      "Agglomerative Clustering on tfidf vectors accuracy: 0.36603069953819645\n",
      "Agglomerative Clustering on lsa vectors accuracy: 0.49984915179395073\n"
     ]
    }
   ],
   "source": [
    "from sklearn.metrics import adjusted_rand_score as ars\n",
    "\n",
    "print(\"KMeans on count vectors accuracy:\", ars(kcounts.labels_, data[:,1]))\n",
    "print(\"KMeans on tfidf vectors accuracy:\", ars(ktfidf.labels_, data[:,1]))\n",
    "print(\"KMeans on lsa vectors accuracy:\", ars(klsa.labels_, data[:,1]))\n",
    "print(\"Agglomerative Clustering on count vectors accuracy:\", ars(accounts.labels_, data[:,1]))\n",
    "print(\"Agglomerative Clustering on tfidf vectors accuracy:\", ars(actfidf.labels_, data[:,1]))\n",
    "print(\"Agglomerative Clustering on lsa vectors accuracy:\", ars(aclsa.labels_, data[:,1]))\n",
    "\n",
    "\n"
   ]
  },
  {
   "cell_type": "code",
   "execution_count": 367,
   "metadata": {},
   "outputs": [],
   "source": [
    "counts_train, counts_test = train_test_split(counts, test_size=0.15, random_state=42)\n",
    "tfidf_train, tfidf_test = train_test_split(tfidf, test_size=0.15, random_state=42)\n",
    "lsa_train, lsa_test = train_test_split(lsa, test_size=0.15, random_state=42)\n",
    "y_train, y_test = train_test_split(data[:,1], test_size=0.15, random_state=42)\n",
    "y_train -= 1\n",
    "y_test -= 1"
   ]
  },
  {
   "cell_type": "code",
   "execution_count": 390,
   "metadata": {},
   "outputs": [
    {
     "name": "stdout",
     "output_type": "stream",
     "text": [
      "(1530, 9968) (270, 9968)\n",
      "(1530, 9968) (270, 9968)\n",
      "(1530, 1000) (270, 1000)\n",
      "(1530,) (270,)\n"
     ]
    }
   ],
   "source": [
    "print(counts_train.shape, counts_test.shape)\n",
    "print(tfidf_train.shape, tfidf_test.shape)\n",
    "print(lsa_train.shape, lsa_test.shape)\n",
    "print(y_train.shape, y_test.shape)"
   ]
  },
  {
   "cell_type": "code",
   "execution_count": 391,
   "metadata": {},
   "outputs": [],
   "source": [
    "import torch\n",
    "import torch.nn as nn\n",
    "import torch.nn.functional as F\n",
    "from tqdm import tqdm"
   ]
  },
  {
   "cell_type": "code",
   "execution_count": 392,
   "metadata": {},
   "outputs": [],
   "source": [
    "class MyNN(nn.Module):\n",
    "    def __init__(self, train_X, train_y, test_X, test_y, activation=\"tanh\", init=None, lr=0.1):\n",
    "        super(MyNN, self).__init__()\n",
    "        \n",
    "        self.train_X = torch.tensor(train_X, dtype=torch.float)\n",
    "        self.train_y = torch.tensor([[i] for i in train_y])\n",
    "        self.test_X = torch.tensor(test_X, dtype=torch.float)\n",
    "        self.test_y = torch.tensor([[i] for i in test_y])\n",
    "        self.activation = activation\n",
    "        self.init = init\n",
    "        self.lr = lr\n",
    "        \n",
    "        self.input_dim = train_X.shape[1]\n",
    "        self.num_classes = len(np.unique(train_y))\n",
    "        \n",
    "        self.Linear1 = nn.Linear(self.input_dim, 300, bias=True)\n",
    "        self.Linear2 = nn.Linear(300, self.num_classes, bias=True)\n",
    "        if self.init:\n",
    "            self.init(self.Linear1.weight)\n",
    "            self.init(self.Linear2.weight)\n",
    "            \n",
    "        \n",
    "        if self.activation == \"tanh\":\n",
    "            self.activation = torch.tanh\n",
    "        elif self.activation == \"relu\":\n",
    "            self.activation = torch.relu\n",
    "        elif self.activation == \"identity\":\n",
    "            self.activation = lambda x: x\n",
    "            \n",
    "        \n",
    "        self.loss = torch.nn.CrossEntropyLoss()\n",
    "        self.optimizer = torch.optim.SGD(self.parameters(), lr=self.lr, momentum = 0.0)\n",
    "        \n",
    "    def forward(self, vector):\n",
    "        a1 = self.activation(self.Linear1(vector))\n",
    "        #a2 = self.activation(self.Linear2(a1))\n",
    "        y_hat = self.Linear2(a1)\n",
    "        return(y_hat, y_hat.max(0)[1])\n",
    "        \n",
    "    def train(self, epochs=5):\n",
    "        for epoch in range(1, epochs+1):\n",
    "            counter = 0\n",
    "            correct = 0\n",
    "            running_loss = 0\n",
    "            \n",
    "            for i in tqdm(range(len(self.train_X))):\n",
    "                self.optimizer.zero_grad()\n",
    "                y_hat, prediction = self.forward(self.train_X[i])\n",
    "                y = self.train_y[i]\n",
    "                \n",
    "                if prediction == y:\n",
    "                    correct += 1\n",
    "                    \n",
    "                loss = self.loss(y_hat.unsqueeze(0), y)\n",
    "                loss.backward()\n",
    "                self.optimizer.step()\n",
    "                \n",
    "                running_loss += loss.item()\n",
    "                counter += 1\n",
    "                \n",
    "                    \n",
    "            print(\"Average loss on epoch\", str(epoch) + \":\", running_loss / counter)\n",
    "            print(\"Percentage correct on epoch\", str(epoch) + \":\", correct / counter)\n",
    "            \n",
    "    def test(self):\n",
    "        counter = 0\n",
    "        correct = 0\n",
    "            \n",
    "        print(\"Beginning Test\")\n",
    "        for i in tqdm(range(len(self.test_X))):\n",
    "            with torch.no_grad():\n",
    "                y_hat, prediction = self.forward(self.test_X[i])\n",
    "                y = self.test_y[i]\n",
    "                    \n",
    "                if prediction == y:\n",
    "                    correct += 1\n",
    "                counter += 1\n",
    "                    \n",
    "        print(\"Test accuracy:\", correct / counter)\n",
    "            "
   ]
  },
  {
   "cell_type": "code",
   "execution_count": 393,
   "metadata": {},
   "outputs": [
    {
     "name": "stderr",
     "output_type": "stream",
     "text": [
      "100%|██████████| 1530/1530 [00:13<00:00, 111.64it/s]\n",
      "  1%|          | 10/1530 [00:00<00:15, 98.14it/s]"
     ]
    },
    {
     "name": "stdout",
     "output_type": "stream",
     "text": [
      "Average loss on epoch 1: 0.8064674368870803\n",
      "Percentage correct on epoch 1: 0.6993464052287581\n"
     ]
    },
    {
     "name": "stderr",
     "output_type": "stream",
     "text": [
      "100%|██████████| 1530/1530 [00:13<00:00, 116.70it/s]\n",
      "  1%|          | 10/1530 [00:00<00:15, 95.91it/s]"
     ]
    },
    {
     "name": "stdout",
     "output_type": "stream",
     "text": [
      "Average loss on epoch 2: 0.4524309561922659\n",
      "Percentage correct on epoch 2: 0.8464052287581699\n"
     ]
    },
    {
     "name": "stderr",
     "output_type": "stream",
     "text": [
      "100%|██████████| 1530/1530 [00:13<00:00, 114.20it/s]\n",
      "  1%|          | 8/1530 [00:00<00:20, 72.63it/s]"
     ]
    },
    {
     "name": "stdout",
     "output_type": "stream",
     "text": [
      "Average loss on epoch 3: 0.3106791121118209\n",
      "Percentage correct on epoch 3: 0.9\n"
     ]
    },
    {
     "name": "stderr",
     "output_type": "stream",
     "text": [
      "100%|██████████| 1530/1530 [00:12<00:00, 120.53it/s]\n",
      "  1%|          | 11/1530 [00:00<00:14, 108.24it/s]"
     ]
    },
    {
     "name": "stdout",
     "output_type": "stream",
     "text": [
      "Average loss on epoch 4: 0.22148335502038594\n",
      "Percentage correct on epoch 4: 0.9333333333333333\n"
     ]
    },
    {
     "name": "stderr",
     "output_type": "stream",
     "text": [
      "100%|██████████| 1530/1530 [00:12<00:00, 118.72it/s]\n",
      "100%|██████████| 270/270 [00:00<00:00, 1672.95it/s]"
     ]
    },
    {
     "name": "stdout",
     "output_type": "stream",
     "text": [
      "Average loss on epoch 5: 0.15960837532492245\n",
      "Percentage correct on epoch 5: 0.9535947712418301\n",
      "Beginning Test\n",
      "Test accuracy: 0.9333333333333333\n"
     ]
    },
    {
     "name": "stderr",
     "output_type": "stream",
     "text": [
      "\n"
     ]
    }
   ],
   "source": [
    "NN_on_Counts = MyNN(counts_train, y_train, counts_test, y_test, activation=\"tanh\", init=None, lr=0.001)\n",
    "NN_on_Counts.train(epochs=5)\n",
    "NN_on_Counts.test()"
   ]
  },
  {
   "cell_type": "code",
   "execution_count": 394,
   "metadata": {},
   "outputs": [
    {
     "name": "stderr",
     "output_type": "stream",
     "text": [
      "100%|██████████| 1530/1530 [00:16<00:00, 95.55it/s] \n",
      "  1%|          | 10/1530 [00:00<00:16, 93.76it/s]"
     ]
    },
    {
     "name": "stdout",
     "output_type": "stream",
     "text": [
      "Average loss on epoch 1: 0.9181893484265197\n",
      "Percentage correct on epoch 1: 0.6679738562091503\n"
     ]
    },
    {
     "name": "stderr",
     "output_type": "stream",
     "text": [
      "100%|██████████| 1530/1530 [00:16<00:00, 103.04it/s]\n",
      "  1%|          | 10/1530 [00:00<00:16, 94.81it/s]"
     ]
    },
    {
     "name": "stdout",
     "output_type": "stream",
     "text": [
      "Average loss on epoch 2: 0.3112680663470349\n",
      "Percentage correct on epoch 2: 0.8993464052287582\n"
     ]
    },
    {
     "name": "stderr",
     "output_type": "stream",
     "text": [
      "100%|██████████| 1530/1530 [00:16<00:00, 93.58it/s] \n",
      "  1%|          | 9/1530 [00:00<00:17, 87.96it/s]"
     ]
    },
    {
     "name": "stdout",
     "output_type": "stream",
     "text": [
      "Average loss on epoch 3: 0.09866771394131231\n",
      "Percentage correct on epoch 3: 0.9758169934640523\n"
     ]
    },
    {
     "name": "stderr",
     "output_type": "stream",
     "text": [
      "100%|██████████| 1530/1530 [00:15<00:00, 97.89it/s] \n",
      "  1%|          | 10/1530 [00:00<00:15, 96.42it/s]"
     ]
    },
    {
     "name": "stdout",
     "output_type": "stream",
     "text": [
      "Average loss on epoch 4: 0.032291598569333946\n",
      "Percentage correct on epoch 4: 0.9986928104575163\n"
     ]
    },
    {
     "name": "stderr",
     "output_type": "stream",
     "text": [
      "100%|██████████| 1530/1530 [00:15<00:00, 99.19it/s] \n",
      "100%|██████████| 270/270 [00:00<00:00, 1715.14it/s]"
     ]
    },
    {
     "name": "stdout",
     "output_type": "stream",
     "text": [
      "Average loss on epoch 5: 0.01538658453748117\n",
      "Percentage correct on epoch 5: 1.0\n",
      "Beginning Test\n",
      "Test accuracy: 0.9592592592592593\n"
     ]
    },
    {
     "name": "stderr",
     "output_type": "stream",
     "text": [
      "\n"
     ]
    }
   ],
   "source": [
    "NN_on_tfidf = MyNN(tfidf_train, y_train, tfidf_test, y_test, activation=\"tanh\", init=torch.nn.init.xavier_uniform_, lr=0.1)\n",
    "NN_on_tfidf.train(epochs=5)\n",
    "NN_on_tfidf.test()"
   ]
  },
  {
   "cell_type": "code",
   "execution_count": 395,
   "metadata": {},
   "outputs": [
    {
     "name": "stderr",
     "output_type": "stream",
     "text": [
      "100%|██████████| 1530/1530 [00:00<00:00, 1838.65it/s]\n",
      " 12%|█▏        | 184/1530 [00:00<00:00, 1838.24it/s]"
     ]
    },
    {
     "name": "stdout",
     "output_type": "stream",
     "text": [
      "Average loss on epoch 1: 0.8857710665737102\n",
      "Percentage correct on epoch 1: 0.6797385620915033\n"
     ]
    },
    {
     "name": "stderr",
     "output_type": "stream",
     "text": [
      "100%|██████████| 1530/1530 [00:00<00:00, 1650.05it/s]\n",
      " 11%|█         | 167/1530 [00:00<00:00, 1664.51it/s]"
     ]
    },
    {
     "name": "stdout",
     "output_type": "stream",
     "text": [
      "Average loss on epoch 2: 0.29873171538309334\n",
      "Percentage correct on epoch 2: 0.9058823529411765\n"
     ]
    },
    {
     "name": "stderr",
     "output_type": "stream",
     "text": [
      "100%|██████████| 1530/1530 [00:00<00:00, 1784.13it/s]\n",
      " 11%|█         | 165/1530 [00:00<00:00, 1649.86it/s]"
     ]
    },
    {
     "name": "stdout",
     "output_type": "stream",
     "text": [
      "Average loss on epoch 3: 0.10294982416957033\n",
      "Percentage correct on epoch 3: 0.9751633986928104\n"
     ]
    },
    {
     "name": "stderr",
     "output_type": "stream",
     "text": [
      "100%|██████████| 1530/1530 [00:00<00:00, 1818.30it/s]\n",
      " 10%|█         | 153/1530 [00:00<00:00, 1529.14it/s]"
     ]
    },
    {
     "name": "stdout",
     "output_type": "stream",
     "text": [
      "Average loss on epoch 4: 0.03618009316375832\n",
      "Percentage correct on epoch 4: 0.9973856209150327\n"
     ]
    },
    {
     "name": "stderr",
     "output_type": "stream",
     "text": [
      "100%|██████████| 1530/1530 [00:01<00:00, 1280.06it/s]\n",
      "100%|██████████| 270/270 [00:00<00:00, 9499.72it/s]"
     ]
    },
    {
     "name": "stdout",
     "output_type": "stream",
     "text": [
      "Average loss on epoch 5: 0.017427550577649883\n",
      "Percentage correct on epoch 5: 1.0\n",
      "Beginning Test\n",
      "Test accuracy: 0.9666666666666667\n"
     ]
    },
    {
     "name": "stderr",
     "output_type": "stream",
     "text": [
      "\n"
     ]
    }
   ],
   "source": [
    "NN_on_lsa = MyNN(lsa_train, y_train, lsa_test, y_test, activation=\"tanh\", init=torch.nn.init.xavier_uniform_, lr=0.1)\n",
    "NN_on_lsa.train(epochs=5)\n",
    "NN_on_lsa.test()"
   ]
  },
  {
   "cell_type": "code",
   "execution_count": null,
   "metadata": {},
   "outputs": [],
   "source": []
  }
 ],
 "metadata": {
  "kernelspec": {
   "display_name": "Python 3",
   "language": "python",
   "name": "python3"
  },
  "language_info": {
   "codemirror_mode": {
    "name": "ipython",
    "version": 3
   },
   "file_extension": ".py",
   "mimetype": "text/x-python",
   "name": "python",
   "nbconvert_exporter": "python",
   "pygments_lexer": "ipython3",
   "version": "3.6.8"
  }
 },
 "nbformat": 4,
 "nbformat_minor": 2
}
