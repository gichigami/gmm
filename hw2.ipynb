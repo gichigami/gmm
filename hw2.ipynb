{
 "cells": [
  {
   "cell_type": "markdown",
   "metadata": {},
   "source": [
    "The first part of you notebook should be devoted to loading your dataset. As mentioned in the written file, what data you use is up to you. Don't spend too much time worrying about which dataset to use. The point of this homework is to provide practice with exploratory data analysis, not webscraping."
   ]
  },
  {
   "cell_type": "code",
   "execution_count": 1,
   "metadata": {},
   "outputs": [
    {
     "name": "stdout",
     "output_type": "stream",
     "text": [
      "Acton Town\n",
      "Aldgate\n",
      "Aldgate East\n",
      "Alperton\n",
      "Amersham\n",
      "Angel\n",
      "Archway\n",
      "Arnos Grove\n",
      "Arsenal\n",
      "Baker Street\n",
      "Balham\n",
      "Bank\n",
      "Barbican\n",
      "Barking\n",
      "Barkingside\n",
      "Barons Court\n",
      "Bayswater\n",
      "Becontree\n",
      "Belsize Park\n",
      "Bermondsey\n",
      "Bethnal Green\n",
      "Blackfriars\n",
      "Blackhorse Road\n",
      "Bond Street\n",
      "Borough\n",
      "Boston Manor\n",
      "Bounds Green\n",
      "Bow Road\n",
      "Brent Cross\n",
      "Brixton\n",
      "Bromley-by-Bow\n",
      "Buckhurst Hill\n",
      "Burnt Oak\n",
      "Caledonian Road\n",
      "Camden Town\n",
      "Canada Water\n",
      "Canary Wharf\n",
      "Canning Town\n",
      "Cannon Street\n",
      "Canons Park\n",
      "Chalfont & Latimer\n",
      "Chalk Farm\n",
      "Chancery Lane\n",
      "Charing Cross\n",
      "Chesham\n",
      "Chigwell\n",
      "Chiswick Park\n",
      "Chorleywood\n",
      "Clapham Common\n",
      "Clapham North\n",
      "Clapham South\n",
      "Cockfosters\n",
      "Colindale\n",
      "Colliers Wood\n",
      "Covent Garden\n",
      "Croxley\n",
      "Dagenham East\n",
      "Dagenham Heathway\n",
      "Debden\n",
      "Dollis Hill\n",
      "Ealing Broadway\n",
      "Ealing Common\n",
      "Earl's Court\n",
      "East Acton\n",
      "East Finchley\n",
      "East Ham\n",
      "East Putney\n",
      "Eastcote\n",
      "Edgware\n",
      "Edgware Road\n",
      "Edgware Road\n",
      "Elephant & Castle\n",
      "Elm Park\n",
      "Embankment\n",
      "Epping\n",
      "Euston\n",
      "Euston Square\n",
      "Fairlop\n",
      "Farringdon\n",
      "Finchley Central\n",
      "Finchley Road\n",
      "Finsbury Park\n",
      "Fulham Broadway\n",
      "Gants Hill\n",
      "Gloucester Road\n",
      "Golders Green\n",
      "Goldhawk Road\n",
      "Goodge Street\n",
      "Grange Hill\n",
      "Great Portland Street\n",
      "Greenford\n",
      "Green Park\n",
      "Gunnersbury\n",
      "Hainault\n"
     ]
    },
    {
     "name": "stderr",
     "output_type": "stream",
     "text": [
      "/Users/garrettjohnson/anaconda3/lib/python3.7/site-packages/wikipedia/wikipedia.py:389: UserWarning: No parser was explicitly specified, so I'm using the best available HTML parser for this system (\"lxml\"). This usually isn't a problem, but if you run this code on another system, or in a different virtual environment, it may use a different parser and behave differently.\n",
      "\n",
      "The code that caused this warning is on line 389 of the file /Users/garrettjohnson/anaconda3/lib/python3.7/site-packages/wikipedia/wikipedia.py. To get rid of this warning, pass the additional argument 'features=\"lxml\"' to the BeautifulSoup constructor.\n",
      "\n",
      "  lis = BeautifulSoup(html).find_all('li')\n"
     ]
    },
    {
     "name": "stdout",
     "output_type": "stream",
     "text": [
      "Hammersmith\n",
      "Hammersmith\n",
      "Hampstead\n",
      "Hanger Lane\n",
      "Harlesden\n",
      "Harrow & Wealdstone\n",
      "Harrow-on-the-Hill\n",
      "Hatton Cross\n",
      "Heathrow Terminals 2 & 3\n",
      "Heathrow Terminal 4\n",
      "Heathrow Terminal 5\n",
      "Hendon Central\n",
      "High Barnet\n",
      "Highbury & Islington\n",
      "Highgate\n",
      "High Street Kensington\n",
      "Hillingdon\n",
      "Holborn\n",
      "Holland Park\n",
      "Holloway Road\n",
      "Hornchurch\n",
      "Hounslow Central\n",
      "Hounslow East\n",
      "Hounslow West\n",
      "Hyde Park Corner\n",
      "Ickenham\n",
      "Kennington\n",
      "Kensal Green\n",
      "Kensington (Olympia)\n",
      "Kentish Town\n",
      "Kenton\n",
      "Kew Gardens\n",
      "Kilburn\n",
      "Kilburn Park\n",
      "Kingsbury\n",
      "King's Cross St Pancras\n",
      "Knightsbridge\n",
      "Ladbroke Grove\n",
      "Lambeth North\n",
      "Lancaster Gate\n",
      "Latimer Road\n",
      "Leicester Square\n",
      "Leyton\n",
      "Leytonstone\n",
      "Liverpool Street\n",
      "London Bridge\n",
      "Loughton\n",
      "Maida Vale\n",
      "Manor House\n",
      "Mansion House\n",
      "Marble Arch\n",
      "Marylebone\n",
      "Mile End\n",
      "Mill Hill East\n",
      "Monument\n",
      "Moorgate\n",
      "Moor Park\n",
      "Morden\n",
      "Mornington Crescent\n",
      "Neasden\n",
      "Newbury Park\n",
      "North Acton\n",
      "North Ealing\n",
      "North Greenwich\n",
      "North Harrow\n",
      "North Wembley\n",
      "Northfields\n",
      "Northolt\n",
      "Northwick Park\n",
      "Northwood\n",
      "Northwood Hills\n",
      "Notting Hill Gate\n",
      "Oakwood\n",
      "Old Street\n",
      "Osterley\n",
      "Oval\n",
      "Oxford Circus\n",
      "Paddington\n",
      "Paddington\n",
      "Park Royal\n",
      "Parsons Green\n",
      "Perivale\n",
      "Piccadilly Circus\n",
      "Pimlico\n",
      "Pinner\n",
      "Plaistow\n",
      "Preston Road\n",
      "Putney Bridge\n",
      "Queen's Park\n",
      "Queensbury\n",
      "Queensway\n",
      "Ravenscourt Park\n",
      "Rayners Lane\n",
      "Redbridge\n",
      "Regent's Park\n",
      "Richmond\n",
      "Rickmansworth\n",
      "Roding Valley\n",
      "Royal Oak\n",
      "Ruislip\n",
      "Ruislip Gardens\n",
      "Ruislip Manor\n",
      "Russell Square\n",
      "St. James's Park\n",
      "St. John's Wood\n",
      "St. Paul's\n",
      "Seven Sisters\n",
      "Shepherd's Bush\n",
      "Shepherd's Bush Market\n",
      "Sloane Square\n",
      "Snaresbrook\n",
      "South Ealing\n",
      "South Harrow\n",
      "South Kensington\n",
      "South Kenton\n",
      "South Ruislip\n",
      "South Wimbledon\n",
      "South Woodford\n",
      "Southfields\n",
      "Southgate\n",
      "Southwark\n",
      "Stamford Brook\n",
      "Stanmore\n",
      "Stepney Green\n",
      "Stockwell\n",
      "Stonebridge Park\n",
      "Stratford\n",
      "Sudbury Hill\n",
      "Sudbury Town\n",
      "Swiss Cottage\n",
      "Temple\n",
      "Theydon Bois\n",
      "Tooting Bec\n",
      "Tooting Broadway\n",
      "Tottenham Court Road\n",
      "Tottenham Hale\n",
      "Totteridge & Whetstone\n",
      "Tower Hill\n",
      "Tufnell Park\n",
      "Turnham Green\n",
      "Turnpike Lane\n",
      "Upminster\n",
      "Upminster Bridge\n",
      "Upney\n",
      "Upton Park\n",
      "Uxbridge\n",
      "Vauxhall\n",
      "Victoria\n",
      "Walthamstow Central\n",
      "Wanstead\n",
      "Warren Street\n",
      "Warwick Avenue\n",
      "Waterloo\n",
      "Watford\n",
      "Wembley Central\n",
      "Wembley Park\n",
      "West Acton\n",
      "West Brompton\n",
      "West Finchley\n",
      "West Ham\n",
      "West Hampstead\n",
      "West Harrow\n",
      "West Kensington\n",
      "West Ruislip\n",
      "Westbourne Park\n",
      "Westminster\n",
      "White City\n",
      "Whitechapel\n",
      "Willesden Green\n",
      "Willesden Junction\n",
      "Wimbledon\n",
      "Wimbledon Park\n",
      "Wood Green\n",
      "Wood Lane\n",
      "Woodford\n",
      "Woodside Park\n",
      "dict_keys(['Acton Town', 'Aldgate', 'Aldgate East', 'Alperton', 'Amersham', 'Angel', 'Archway', 'Arnos Grove', 'Arsenal', 'Baker Street', 'Balham', 'Bank', 'Barbican', 'Barking', 'Barkingside', 'Barons Court', 'Bayswater', 'Becontree', 'Belsize Park', 'Bermondsey', 'Bethnal Green', 'Blackfriars', 'Blackhorse Road', 'Bond Street', 'Borough', 'Boston Manor', 'Bounds Green', 'Bow Road', 'Brent Cross', 'Brixton', 'Bromley-by-Bow', 'Buckhurst Hill', 'Burnt Oak', 'Caledonian Road', 'Camden Town', 'Canada Water', 'Canary Wharf', 'Canning Town', 'Cannon Street', 'Canons Park', 'Chalfont & Latimer', 'Chalk Farm', 'Chancery Lane', 'Charing Cross', 'Chesham', 'Chigwell', 'Chiswick Park', 'Chorleywood', 'Clapham Common', 'Clapham North', 'Clapham South', 'Cockfosters', 'Colindale', 'Colliers Wood', 'Covent Garden', 'Croxley', 'Dagenham East', 'Dagenham Heathway', 'Debden', 'Dollis Hill', 'Ealing Broadway', 'Ealing Common', \"Earl's Court\", 'East Acton', 'East Finchley', 'East Ham', 'East Putney', 'Eastcote', 'Edgware', 'Edgware Road', 'Elephant & Castle', 'Elm Park', 'Embankment', 'Epping', 'Euston', 'Euston Square', 'Fairlop', 'Farringdon', 'Finchley Central', 'Finchley Road', 'Finsbury Park', 'Fulham Broadway', 'Gants Hill', 'Gloucester Road', 'Golders Green', 'Goldhawk Road', 'Goodge Street', 'Grange Hill', 'Great Portland Street', 'Greenford', 'Green Park', 'Gunnersbury', 'Hainault', 'Hammersmith (District and Piccadilly)', 'Hammersmith (Circle and H&C)', 'Hampstead', 'Hanger Lane', 'Harlesden', 'Harrow & Wealdstone', 'Harrow-on-the-Hill', 'Hatton Cross', 'Heathrow Terminals 2 & 3', 'Heathrow Terminal 4', 'Heathrow Terminal 5', 'Hendon Central', 'High Barnet', 'Highbury & Islington', 'Highgate', 'High Street Kensington', 'Hillingdon', 'Holborn', 'Holland Park', 'Holloway Road', 'Hornchurch', 'Hounslow Central', 'Hounslow East', 'Hounslow West', 'Hyde Park Corner', 'Ickenham', 'Kennington', 'Kensal Green', 'Kensington (Olympia)', 'Kentish Town', 'Kenton', 'Kew Gardens', 'Kilburn', 'Kilburn Park', 'Kingsbury', \"King's Cross St Pancras\", 'Knightsbridge', 'Ladbroke Grove', 'Lambeth North', 'Lancaster Gate', 'Latimer Road', 'Leicester Square', 'Leyton', 'Leytonstone', 'Liverpool Street', 'London Bridge', 'Loughton', 'Maida Vale', 'Manor House', 'Mansion House', 'Marble Arch', 'Marylebone', 'Mile End', 'Mill Hill East', 'Moorgate', 'Moor Park', 'Morden', 'Mornington Crescent', 'Neasden', 'Newbury Park', 'North Acton', 'North Ealing', 'North Greenwich', 'North Harrow', 'North Wembley', 'Northfields', 'Northolt', 'Northwick Park', 'Northwood', 'Northwood Hills', 'Notting Hill Gate', 'Oakwood', 'Old Street', 'Osterley', 'Oval', 'Oxford Circus', 'Paddington (Bakerloo, Circle, and District)', 'Paddington (Circle and H&C)', 'Park Royal', 'Parsons Green', 'Perivale', 'Piccadilly Circus', 'Pimlico', 'Pinner', 'Plaistow', 'Preston Road', 'Putney Bridge', \"Queen's Park\", 'Queensbury', 'Queensway', 'Ravenscourt Park', 'Rayners Lane', 'Redbridge', \"Regent's Park\", 'Richmond', 'Rickmansworth', 'Roding Valley', 'Royal Oak', 'Ruislip', 'Ruislip Gardens', 'Ruislip Manor', 'Russell Square', \"St. James's Park\", \"St. John's Wood\", \"St. Paul's\", 'Seven Sisters', \"Shepherd's Bush\", \"Shepherd's Bush Market\", 'Sloane Square', 'Snaresbrook', 'South Ealing', 'South Harrow', 'South Kensington', 'South Kenton', 'South Ruislip', 'South Wimbledon', 'South Woodford', 'Southfields', 'Southgate', 'Southwark', 'Stamford Brook', 'Stanmore', 'Stepney Green', 'Stockwell', 'Stonebridge Park', 'Stratford', 'Sudbury Hill', 'Sudbury Town', 'Swiss Cottage', 'Temple', 'Theydon Bois', 'Tooting Bec', 'Tooting Broadway', 'Tottenham Court Road', 'Tottenham Hale', 'Totteridge & Whetstone', 'Tower Hill', 'Tufnell Park', 'Turnham Green', 'Turnpike Lane', 'Upminster', 'Upminster Bridge', 'Upney', 'Upton Park', 'Uxbridge', 'Vauxhall', 'Victoria', 'Walthamstow Central', 'Wanstead', 'Warren Street', 'Warwick Avenue', 'Waterloo', 'Watford', 'Wembley Central', 'Wembley Park', 'West Acton', 'West Brompton', 'West Finchley', 'West Ham', 'West Hampstead', 'West Harrow', 'West Kensington', 'West Ruislip', 'Westbourne Park', 'Westminster', 'White City', 'Whitechapel', 'Willesden Green', 'Willesden Junction', 'Wimbledon', 'Wimbledon Park', 'Wood Green', 'Wood Lane', 'Woodford', 'Woodside Park'])\n"
     ]
    }
   ],
   "source": [
    "# Code for loading dataset to go here\n",
    "import wikipedia as wiki\n",
    "import pandas as pd\n",
    "\n",
    "webpage = \"https://en.wikipedia.org/wiki/List_of_London_Underground_stations\"\n",
    "stations = pd.read_html(webpage)\n",
    "stations = stations[0][\"Station\"]\n",
    "s = {}\n",
    "for station in stations:\n",
    "    if station == \"Hammersmith\":\n",
    "        s[\"Hammersmith (District and Piccadilly)\"] = wiki.page(\"Hammersmith tube station (District and Piccadilly lines)\").content\n",
    "        s[\"Hammersmith (Circle and H&C)\"] = wiki.page(\"Hammersmith tube station (Circle and Hammersmith & City lines)\").content\n",
    "    if station == \"Paddington\":\n",
    "        s[\"Paddington (Bakerloo, Circle, and District)\"] = wiki.page(\"Paddington tube station (Bakerloo, Circle and District lines)\").content\n",
    "        s[\"Paddington (Circle and H&C)\"] = wiki.page(\"Paddington tube station (Circle and Hammersmith & City lines)\").content\n",
    "    else:\n",
    "        try:\n",
    "            s[station] = wiki.page(station+\" tube station\").content\n",
    "        except:\n",
    "            pass\n",
    "    print(station)\n",
    "print(s.keys())"
   ]
  },
  {
   "cell_type": "code",
   "execution_count": 2,
   "metadata": {},
   "outputs": [
    {
     "data": {
      "text/html": [
       "<div>\n",
       "<style scoped>\n",
       "    .dataframe tbody tr th:only-of-type {\n",
       "        vertical-align: middle;\n",
       "    }\n",
       "\n",
       "    .dataframe tbody tr th {\n",
       "        vertical-align: top;\n",
       "    }\n",
       "\n",
       "    .dataframe thead th {\n",
       "        text-align: right;\n",
       "    }\n",
       "</style>\n",
       "<table border=\"1\" class=\"dataframe\">\n",
       "  <thead>\n",
       "    <tr style=\"text-align: right;\">\n",
       "      <th></th>\n",
       "      <th>text</th>\n",
       "    </tr>\n",
       "  </thead>\n",
       "  <tbody>\n",
       "    <tr>\n",
       "      <th>Acton Town</th>\n",
       "      <td>Acton Town is a London Underground station in ...</td>\n",
       "    </tr>\n",
       "    <tr>\n",
       "      <th>Aldgate</th>\n",
       "      <td>Aldgate is a London Underground station in Por...</td>\n",
       "    </tr>\n",
       "    <tr>\n",
       "      <th>Aldgate East</th>\n",
       "      <td>Aldgate East is a London Underground station o...</td>\n",
       "    </tr>\n",
       "    <tr>\n",
       "      <th>Alperton</th>\n",
       "      <td>Alperton is a London Underground station on th...</td>\n",
       "    </tr>\n",
       "    <tr>\n",
       "      <th>Amersham</th>\n",
       "      <td>Amersham is a London Underground and National ...</td>\n",
       "    </tr>\n",
       "    <tr>\n",
       "      <th>Angel</th>\n",
       "      <td>Angel is a London Underground station in the A...</td>\n",
       "    </tr>\n",
       "    <tr>\n",
       "      <th>Archway</th>\n",
       "      <td>Archway is a London Underground station at the...</td>\n",
       "    </tr>\n",
       "    <tr>\n",
       "      <th>Arnos Grove</th>\n",
       "      <td>Arnos Grove is a London Underground station lo...</td>\n",
       "    </tr>\n",
       "    <tr>\n",
       "      <th>Arsenal</th>\n",
       "      <td>Arsenal is a London Underground station locate...</td>\n",
       "    </tr>\n",
       "    <tr>\n",
       "      <th>Baker Street</th>\n",
       "      <td>Baker Street is a London Underground station a...</td>\n",
       "    </tr>\n",
       "    <tr>\n",
       "      <th>Balham</th>\n",
       "      <td>Balham is an interchange station formed of a r...</td>\n",
       "    </tr>\n",
       "    <tr>\n",
       "      <th>Bank</th>\n",
       "      <td>Bank and Monument are interlinked London Under...</td>\n",
       "    </tr>\n",
       "    <tr>\n",
       "      <th>Barbican</th>\n",
       "      <td>Barbican is a London Underground station situa...</td>\n",
       "    </tr>\n",
       "    <tr>\n",
       "      <th>Barking</th>\n",
       "      <td>Barking is an interchange railway station loca...</td>\n",
       "    </tr>\n",
       "    <tr>\n",
       "      <th>Barkingside</th>\n",
       "      <td>Barkingside is a London Underground station on...</td>\n",
       "    </tr>\n",
       "    <tr>\n",
       "      <th>Barons Court</th>\n",
       "      <td>Barons Court is a London Underground station i...</td>\n",
       "    </tr>\n",
       "    <tr>\n",
       "      <th>Bayswater</th>\n",
       "      <td>Bayswater is a London Underground station in t...</td>\n",
       "    </tr>\n",
       "    <tr>\n",
       "      <th>Becontree</th>\n",
       "      <td>Becontree is a London Underground station on G...</td>\n",
       "    </tr>\n",
       "    <tr>\n",
       "      <th>Belsize Park</th>\n",
       "      <td>Belsize Park is a London Underground station i...</td>\n",
       "    </tr>\n",
       "    <tr>\n",
       "      <th>Bermondsey</th>\n",
       "      <td>Bermondsey is a London Underground station. It...</td>\n",
       "    </tr>\n",
       "    <tr>\n",
       "      <th>Bethnal Green</th>\n",
       "      <td>Bethnal Green is a London Underground station ...</td>\n",
       "    </tr>\n",
       "    <tr>\n",
       "      <th>Blackfriars</th>\n",
       "      <td>Blackfriars, also known as London Blackfriars,...</td>\n",
       "    </tr>\n",
       "    <tr>\n",
       "      <th>Blackhorse Road</th>\n",
       "      <td>Blackhorse Road is a joint London Overground a...</td>\n",
       "    </tr>\n",
       "    <tr>\n",
       "      <th>Bond Street</th>\n",
       "      <td>Bond Street is a London Underground and future...</td>\n",
       "    </tr>\n",
       "    <tr>\n",
       "      <th>Borough</th>\n",
       "      <td>Borough is a London Underground station in the...</td>\n",
       "    </tr>\n",
       "    <tr>\n",
       "      <th>Boston Manor</th>\n",
       "      <td>Boston Manor is a London Underground station a...</td>\n",
       "    </tr>\n",
       "    <tr>\n",
       "      <th>Bounds Green</th>\n",
       "      <td>Bounds Green is a London Underground station, ...</td>\n",
       "    </tr>\n",
       "    <tr>\n",
       "      <th>Bow Road</th>\n",
       "      <td>Bow Road is a London Underground station locat...</td>\n",
       "    </tr>\n",
       "    <tr>\n",
       "      <th>Brent Cross</th>\n",
       "      <td>Brent Cross is a London Underground station lo...</td>\n",
       "    </tr>\n",
       "    <tr>\n",
       "      <th>Brixton</th>\n",
       "      <td>Brixton is a London Underground station on Bri...</td>\n",
       "    </tr>\n",
       "    <tr>\n",
       "      <th>...</th>\n",
       "      <td>...</td>\n",
       "    </tr>\n",
       "    <tr>\n",
       "      <th>Vauxhall</th>\n",
       "      <td>Vauxhall (, VOK-sawl) is a National Rail, Lond...</td>\n",
       "    </tr>\n",
       "    <tr>\n",
       "      <th>Victoria</th>\n",
       "      <td>Victoria station, also known as London Victori...</td>\n",
       "    </tr>\n",
       "    <tr>\n",
       "      <th>Walthamstow Central</th>\n",
       "      <td>Walthamstow Central  is a London Underground a...</td>\n",
       "    </tr>\n",
       "    <tr>\n",
       "      <th>Wanstead</th>\n",
       "      <td>Wanstead is a London Underground station in Wa...</td>\n",
       "    </tr>\n",
       "    <tr>\n",
       "      <th>Warren Street</th>\n",
       "      <td>Warren Street is a London Underground station,...</td>\n",
       "    </tr>\n",
       "    <tr>\n",
       "      <th>Warwick Avenue</th>\n",
       "      <td>Warwick Avenue () is a London Underground stat...</td>\n",
       "    </tr>\n",
       "    <tr>\n",
       "      <th>Waterloo</th>\n",
       "      <td>Waterloo is a London Underground station locat...</td>\n",
       "    </tr>\n",
       "    <tr>\n",
       "      <th>Watford</th>\n",
       "      <td>Watford tube station is the terminus of a Metr...</td>\n",
       "    </tr>\n",
       "    <tr>\n",
       "      <th>Wembley Central</th>\n",
       "      <td>Wembley Central is an interchange station on t...</td>\n",
       "    </tr>\n",
       "    <tr>\n",
       "      <th>Wembley Park</th>\n",
       "      <td>Wembley Park is a London Underground station i...</td>\n",
       "    </tr>\n",
       "    <tr>\n",
       "      <th>West Acton</th>\n",
       "      <td>West Acton is a London Underground station bet...</td>\n",
       "    </tr>\n",
       "    <tr>\n",
       "      <th>West Brompton</th>\n",
       "      <td>West Brompton is a Tube and National Rail stat...</td>\n",
       "    </tr>\n",
       "    <tr>\n",
       "      <th>West Finchley</th>\n",
       "      <td>West Finchley is a London Underground station ...</td>\n",
       "    </tr>\n",
       "    <tr>\n",
       "      <th>West Ham</th>\n",
       "      <td>West Ham is a London Underground, Docklands Li...</td>\n",
       "    </tr>\n",
       "    <tr>\n",
       "      <th>West Hampstead</th>\n",
       "      <td>West Hampstead is a London Underground Jubilee...</td>\n",
       "    </tr>\n",
       "    <tr>\n",
       "      <th>West Harrow</th>\n",
       "      <td>West Harrow is a London Underground station in...</td>\n",
       "    </tr>\n",
       "    <tr>\n",
       "      <th>West Kensington</th>\n",
       "      <td>West Kensington is a London Underground Distri...</td>\n",
       "    </tr>\n",
       "    <tr>\n",
       "      <th>West Ruislip</th>\n",
       "      <td>West Ruislip is a station on Ickenham High Roa...</td>\n",
       "    </tr>\n",
       "    <tr>\n",
       "      <th>Westbourne Park</th>\n",
       "      <td>Westbourne Park is a London Underground statio...</td>\n",
       "    </tr>\n",
       "    <tr>\n",
       "      <th>Westminster</th>\n",
       "      <td>Westminster is a London Underground station in...</td>\n",
       "    </tr>\n",
       "    <tr>\n",
       "      <th>White City</th>\n",
       "      <td>White City is a London Underground station on ...</td>\n",
       "    </tr>\n",
       "    <tr>\n",
       "      <th>Whitechapel</th>\n",
       "      <td>Whitechapel is a London Underground and London...</td>\n",
       "    </tr>\n",
       "    <tr>\n",
       "      <th>Willesden Green</th>\n",
       "      <td>Willesden Green is a London Underground statio...</td>\n",
       "    </tr>\n",
       "    <tr>\n",
       "      <th>Willesden Junction</th>\n",
       "      <td>Willesden Junction is a National Rail station ...</td>\n",
       "    </tr>\n",
       "    <tr>\n",
       "      <th>Wimbledon</th>\n",
       "      <td>Wimbledon is a National Rail, London Undergrou...</td>\n",
       "    </tr>\n",
       "    <tr>\n",
       "      <th>Wimbledon Park</th>\n",
       "      <td>Wimbledon Park is a London Underground station...</td>\n",
       "    </tr>\n",
       "    <tr>\n",
       "      <th>Wood Green</th>\n",
       "      <td>Wood Green is a London Underground station on ...</td>\n",
       "    </tr>\n",
       "    <tr>\n",
       "      <th>Wood Lane</th>\n",
       "      <td>Wood Lane is a London Underground station in t...</td>\n",
       "    </tr>\n",
       "    <tr>\n",
       "      <th>Woodford</th>\n",
       "      <td>Woodford is a London Underground station in th...</td>\n",
       "    </tr>\n",
       "    <tr>\n",
       "      <th>Woodside Park</th>\n",
       "      <td>Woodside Park is a London Underground station ...</td>\n",
       "    </tr>\n",
       "  </tbody>\n",
       "</table>\n",
       "<p>268 rows × 1 columns</p>\n",
       "</div>"
      ],
      "text/plain": [
       "                                                                  text\n",
       "Acton Town           Acton Town is a London Underground station in ...\n",
       "Aldgate              Aldgate is a London Underground station in Por...\n",
       "Aldgate East         Aldgate East is a London Underground station o...\n",
       "Alperton             Alperton is a London Underground station on th...\n",
       "Amersham             Amersham is a London Underground and National ...\n",
       "Angel                Angel is a London Underground station in the A...\n",
       "Archway              Archway is a London Underground station at the...\n",
       "Arnos Grove          Arnos Grove is a London Underground station lo...\n",
       "Arsenal              Arsenal is a London Underground station locate...\n",
       "Baker Street         Baker Street is a London Underground station a...\n",
       "Balham               Balham is an interchange station formed of a r...\n",
       "Bank                 Bank and Monument are interlinked London Under...\n",
       "Barbican             Barbican is a London Underground station situa...\n",
       "Barking              Barking is an interchange railway station loca...\n",
       "Barkingside          Barkingside is a London Underground station on...\n",
       "Barons Court         Barons Court is a London Underground station i...\n",
       "Bayswater            Bayswater is a London Underground station in t...\n",
       "Becontree            Becontree is a London Underground station on G...\n",
       "Belsize Park         Belsize Park is a London Underground station i...\n",
       "Bermondsey           Bermondsey is a London Underground station. It...\n",
       "Bethnal Green        Bethnal Green is a London Underground station ...\n",
       "Blackfriars          Blackfriars, also known as London Blackfriars,...\n",
       "Blackhorse Road      Blackhorse Road is a joint London Overground a...\n",
       "Bond Street          Bond Street is a London Underground and future...\n",
       "Borough              Borough is a London Underground station in the...\n",
       "Boston Manor         Boston Manor is a London Underground station a...\n",
       "Bounds Green         Bounds Green is a London Underground station, ...\n",
       "Bow Road             Bow Road is a London Underground station locat...\n",
       "Brent Cross          Brent Cross is a London Underground station lo...\n",
       "Brixton              Brixton is a London Underground station on Bri...\n",
       "...                                                                ...\n",
       "Vauxhall             Vauxhall (, VOK-sawl) is a National Rail, Lond...\n",
       "Victoria             Victoria station, also known as London Victori...\n",
       "Walthamstow Central  Walthamstow Central  is a London Underground a...\n",
       "Wanstead             Wanstead is a London Underground station in Wa...\n",
       "Warren Street        Warren Street is a London Underground station,...\n",
       "Warwick Avenue       Warwick Avenue () is a London Underground stat...\n",
       "Waterloo             Waterloo is a London Underground station locat...\n",
       "Watford              Watford tube station is the terminus of a Metr...\n",
       "Wembley Central      Wembley Central is an interchange station on t...\n",
       "Wembley Park         Wembley Park is a London Underground station i...\n",
       "West Acton           West Acton is a London Underground station bet...\n",
       "West Brompton        West Brompton is a Tube and National Rail stat...\n",
       "West Finchley        West Finchley is a London Underground station ...\n",
       "West Ham             West Ham is a London Underground, Docklands Li...\n",
       "West Hampstead       West Hampstead is a London Underground Jubilee...\n",
       "West Harrow          West Harrow is a London Underground station in...\n",
       "West Kensington      West Kensington is a London Underground Distri...\n",
       "West Ruislip         West Ruislip is a station on Ickenham High Roa...\n",
       "Westbourne Park      Westbourne Park is a London Underground statio...\n",
       "Westminster          Westminster is a London Underground station in...\n",
       "White City           White City is a London Underground station on ...\n",
       "Whitechapel          Whitechapel is a London Underground and London...\n",
       "Willesden Green      Willesden Green is a London Underground statio...\n",
       "Willesden Junction   Willesden Junction is a National Rail station ...\n",
       "Wimbledon            Wimbledon is a National Rail, London Undergrou...\n",
       "Wimbledon Park       Wimbledon Park is a London Underground station...\n",
       "Wood Green           Wood Green is a London Underground station on ...\n",
       "Wood Lane            Wood Lane is a London Underground station in t...\n",
       "Woodford             Woodford is a London Underground station in th...\n",
       "Woodside Park        Woodside Park is a London Underground station ...\n",
       "\n",
       "[268 rows x 1 columns]"
      ]
     },
     "execution_count": 2,
     "metadata": {},
     "output_type": "execute_result"
    }
   ],
   "source": [
    "stations_list = []\n",
    "for key in s.keys():\n",
    "    stations_list += [key,s[key]]\n",
    "\n",
    "tube_stations = pd.DataFrame(data=s,index=[\"text\"])\n",
    "tube_stations = tube_stations.transpose()\n",
    "tube_stations"
   ]
  },
  {
   "cell_type": "markdown",
   "metadata": {},
   "source": [
    "Are you doing any preprocessing of the dataset? You should probably do at least some... I recommend the textacy package. I have provided code using that package before, and I encourage you to look up the package's documentation here: https://chartbeat-labs.github.io/textacy/\n"
   ]
  },
  {
   "cell_type": "code",
   "execution_count": 3,
   "metadata": {},
   "outputs": [
    {
     "data": {
      "text/html": [
       "<div>\n",
       "<style scoped>\n",
       "    .dataframe tbody tr th:only-of-type {\n",
       "        vertical-align: middle;\n",
       "    }\n",
       "\n",
       "    .dataframe tbody tr th {\n",
       "        vertical-align: top;\n",
       "    }\n",
       "\n",
       "    .dataframe thead th {\n",
       "        text-align: right;\n",
       "    }\n",
       "</style>\n",
       "<table border=\"1\" class=\"dataframe\">\n",
       "  <thead>\n",
       "    <tr style=\"text-align: right;\">\n",
       "      <th></th>\n",
       "      <th>text</th>\n",
       "      <th>clean text</th>\n",
       "    </tr>\n",
       "  </thead>\n",
       "  <tbody>\n",
       "    <tr>\n",
       "      <th>Acton Town</th>\n",
       "      <td>Acton Town is a London Underground station in ...</td>\n",
       "      <td>acton town london underground station southwes...</td>\n",
       "    </tr>\n",
       "    <tr>\n",
       "      <th>Aldgate</th>\n",
       "      <td>Aldgate is a London Underground station in Por...</td>\n",
       "      <td>aldgate london underground station portsoken w...</td>\n",
       "    </tr>\n",
       "    <tr>\n",
       "      <th>Aldgate East</th>\n",
       "      <td>Aldgate East is a London Underground station o...</td>\n",
       "      <td>aldgate east london underground station whitec...</td>\n",
       "    </tr>\n",
       "    <tr>\n",
       "      <th>Alperton</th>\n",
       "      <td>Alperton is a London Underground station on th...</td>\n",
       "      <td>alperton london underground station uxbridge b...</td>\n",
       "    </tr>\n",
       "    <tr>\n",
       "      <th>Amersham</th>\n",
       "      <td>Amersham is a London Underground and National ...</td>\n",
       "      <td>amersham london underground national rail stat...</td>\n",
       "    </tr>\n",
       "    <tr>\n",
       "      <th>Angel</th>\n",
       "      <td>Angel is a London Underground station in the A...</td>\n",
       "      <td>angel london underground station angel area lo...</td>\n",
       "    </tr>\n",
       "    <tr>\n",
       "      <th>Archway</th>\n",
       "      <td>Archway is a London Underground station at the...</td>\n",
       "      <td>archway london underground station intersectio...</td>\n",
       "    </tr>\n",
       "    <tr>\n",
       "      <th>Arnos Grove</th>\n",
       "      <td>Arnos Grove is a London Underground station lo...</td>\n",
       "      <td>arnos grove london underground station locate ...</td>\n",
       "    </tr>\n",
       "    <tr>\n",
       "      <th>Arsenal</th>\n",
       "      <td>Arsenal is a London Underground station locate...</td>\n",
       "      <td>arsenal london underground station locate high...</td>\n",
       "    </tr>\n",
       "    <tr>\n",
       "      <th>Baker Street</th>\n",
       "      <td>Baker Street is a London Underground station a...</td>\n",
       "      <td>baker street london underground station juncti...</td>\n",
       "    </tr>\n",
       "    <tr>\n",
       "      <th>Balham</th>\n",
       "      <td>Balham is an interchange station formed of a r...</td>\n",
       "      <td>balham interchange station form range undergro...</td>\n",
       "    </tr>\n",
       "    <tr>\n",
       "      <th>Bank</th>\n",
       "      <td>Bank and Monument are interlinked London Under...</td>\n",
       "      <td>bank monument interlink london underground doc...</td>\n",
       "    </tr>\n",
       "    <tr>\n",
       "      <th>Barbican</th>\n",
       "      <td>Barbican is a London Underground station situa...</td>\n",
       "      <td>barbican london underground station situate ne...</td>\n",
       "    </tr>\n",
       "    <tr>\n",
       "      <th>Barking</th>\n",
       "      <td>Barking is an interchange railway station loca...</td>\n",
       "      <td>bark interchange railway station locate statio...</td>\n",
       "    </tr>\n",
       "    <tr>\n",
       "      <th>Barkingside</th>\n",
       "      <td>Barkingside is a London Underground station on...</td>\n",
       "      <td>barkingside london underground station central...</td>\n",
       "    </tr>\n",
       "    <tr>\n",
       "      <th>Barons Court</th>\n",
       "      <td>Barons Court is a London Underground station i...</td>\n",
       "      <td>barons court london underground station west k...</td>\n",
       "    </tr>\n",
       "    <tr>\n",
       "      <th>Bayswater</th>\n",
       "      <td>Bayswater is a London Underground station in t...</td>\n",
       "      <td>bayswater london underground station bayswater...</td>\n",
       "    </tr>\n",
       "    <tr>\n",
       "      <th>Becontree</th>\n",
       "      <td>Becontree is a London Underground station on G...</td>\n",
       "      <td>becontree london underground station gale stre...</td>\n",
       "    </tr>\n",
       "    <tr>\n",
       "      <th>Belsize Park</th>\n",
       "      <td>Belsize Park is a London Underground station i...</td>\n",
       "      <td>belsize park london underground station belsiz...</td>\n",
       "    </tr>\n",
       "    <tr>\n",
       "      <th>Bermondsey</th>\n",
       "      <td>Bermondsey is a London Underground station. It...</td>\n",
       "      <td>bermondsey london underground station \\n easte...</td>\n",
       "    </tr>\n",
       "    <tr>\n",
       "      <th>Bethnal Green</th>\n",
       "      <td>Bethnal Green is a London Underground station ...</td>\n",
       "      <td>bethnal green london underground station bethn...</td>\n",
       "    </tr>\n",
       "    <tr>\n",
       "      <th>Blackfriars</th>\n",
       "      <td>Blackfriars, also known as London Blackfriars,...</td>\n",
       "      <td>blackfriars know london blackfriars central lo...</td>\n",
       "    </tr>\n",
       "    <tr>\n",
       "      <th>Blackhorse Road</th>\n",
       "      <td>Blackhorse Road is a joint London Overground a...</td>\n",
       "      <td>blackhorse road joint london overground london...</td>\n",
       "    </tr>\n",
       "    <tr>\n",
       "      <th>Bond Street</th>\n",
       "      <td>Bond Street is a London Underground and future...</td>\n",
       "      <td>bond street london underground future elizabet...</td>\n",
       "    </tr>\n",
       "    <tr>\n",
       "      <th>Borough</th>\n",
       "      <td>Borough is a London Underground station in the...</td>\n",
       "      <td>borough london underground station borough are...</td>\n",
       "    </tr>\n",
       "    <tr>\n",
       "      <th>Boston Manor</th>\n",
       "      <td>Boston Manor is a London Underground station a...</td>\n",
       "      <td>boston manor london underground station bounda...</td>\n",
       "    </tr>\n",
       "    <tr>\n",
       "      <th>Bounds Green</th>\n",
       "      <td>Bounds Green is a London Underground station, ...</td>\n",
       "      <td>bounds green london underground station locate...</td>\n",
       "    </tr>\n",
       "    <tr>\n",
       "      <th>Bow Road</th>\n",
       "      <td>Bow Road is a London Underground station locat...</td>\n",
       "      <td>bow road london underground station locate bow...</td>\n",
       "    </tr>\n",
       "    <tr>\n",
       "      <th>Brent Cross</th>\n",
       "      <td>Brent Cross is a London Underground station lo...</td>\n",
       "      <td>brent cross london underground station locate ...</td>\n",
       "    </tr>\n",
       "    <tr>\n",
       "      <th>Brixton</th>\n",
       "      <td>Brixton is a London Underground station on Bri...</td>\n",
       "      <td>brixton london underground station brixton roa...</td>\n",
       "    </tr>\n",
       "    <tr>\n",
       "      <th>...</th>\n",
       "      <td>...</td>\n",
       "      <td>...</td>\n",
       "    </tr>\n",
       "    <tr>\n",
       "      <th>Vauxhall</th>\n",
       "      <td>Vauxhall (, VOK-sawl) is a National Rail, Lond...</td>\n",
       "      <td>vauxhall   voksawl national rail london underg...</td>\n",
       "    </tr>\n",
       "    <tr>\n",
       "      <th>Victoria</th>\n",
       "      <td>Victoria station, also known as London Victori...</td>\n",
       "      <td>victoria station know london victoria central ...</td>\n",
       "    </tr>\n",
       "    <tr>\n",
       "      <th>Walthamstow Central</th>\n",
       "      <td>Walthamstow Central  is a London Underground a...</td>\n",
       "      <td>walthamstow central london underground overgro...</td>\n",
       "    </tr>\n",
       "    <tr>\n",
       "      <th>Wanstead</th>\n",
       "      <td>Wanstead is a London Underground station in Wa...</td>\n",
       "      <td>wanstead london underground station wanstead l...</td>\n",
       "    </tr>\n",
       "    <tr>\n",
       "      <th>Warren Street</th>\n",
       "      <td>Warren Street is a London Underground station,...</td>\n",
       "      <td>warren street london underground station locat...</td>\n",
       "    </tr>\n",
       "    <tr>\n",
       "      <th>Warwick Avenue</th>\n",
       "      <td>Warwick Avenue () is a London Underground stat...</td>\n",
       "      <td>warwick avenue   london underground station li...</td>\n",
       "    </tr>\n",
       "    <tr>\n",
       "      <th>Waterloo</th>\n",
       "      <td>Waterloo is a London Underground station locat...</td>\n",
       "      <td>waterloo london underground station locate ben...</td>\n",
       "    </tr>\n",
       "    <tr>\n",
       "      <th>Watford</th>\n",
       "      <td>Watford tube station is the terminus of a Metr...</td>\n",
       "      <td>watford tube station terminus metropolitan lin...</td>\n",
       "    </tr>\n",
       "    <tr>\n",
       "      <th>Wembley Central</th>\n",
       "      <td>Wembley Central is an interchange station on t...</td>\n",
       "      <td>wembley central interchange station west coast...</td>\n",
       "    </tr>\n",
       "    <tr>\n",
       "      <th>Wembley Park</th>\n",
       "      <td>Wembley Park is a London Underground station i...</td>\n",
       "      <td>wembley park london underground station wemble...</td>\n",
       "    </tr>\n",
       "    <tr>\n",
       "      <th>West Acton</th>\n",
       "      <td>West Acton is a London Underground station bet...</td>\n",
       "      <td>west acton london underground station eale bro...</td>\n",
       "    </tr>\n",
       "    <tr>\n",
       "      <th>West Brompton</th>\n",
       "      <td>West Brompton is a Tube and National Rail stat...</td>\n",
       "      <td>west brompton tube national rail station distr...</td>\n",
       "    </tr>\n",
       "    <tr>\n",
       "      <th>West Finchley</th>\n",
       "      <td>West Finchley is a London Underground station ...</td>\n",
       "      <td>west finchley london underground station finch...</td>\n",
       "    </tr>\n",
       "    <tr>\n",
       "      <th>West Ham</th>\n",
       "      <td>West Ham is a London Underground, Docklands Li...</td>\n",
       "      <td>west ham london underground dockland light rai...</td>\n",
       "    </tr>\n",
       "    <tr>\n",
       "      <th>West Hampstead</th>\n",
       "      <td>West Hampstead is a London Underground Jubilee...</td>\n",
       "      <td>west hampstead london underground jubilee line...</td>\n",
       "    </tr>\n",
       "    <tr>\n",
       "      <th>West Harrow</th>\n",
       "      <td>West Harrow is a London Underground station in...</td>\n",
       "      <td>west harrow london underground station harrow ...</td>\n",
       "    </tr>\n",
       "    <tr>\n",
       "      <th>West Kensington</th>\n",
       "      <td>West Kensington is a London Underground Distri...</td>\n",
       "      <td>west kensington london underground district li...</td>\n",
       "    </tr>\n",
       "    <tr>\n",
       "      <th>West Ruislip</th>\n",
       "      <td>West Ruislip is a station on Ickenham High Roa...</td>\n",
       "      <td>west ruislip station ickenham high road border...</td>\n",
       "    </tr>\n",
       "    <tr>\n",
       "      <th>Westbourne Park</th>\n",
       "      <td>Westbourne Park is a London Underground statio...</td>\n",
       "      <td>westbourne park london underground station not...</td>\n",
       "    </tr>\n",
       "    <tr>\n",
       "      <th>Westminster</th>\n",
       "      <td>Westminster is a London Underground station in...</td>\n",
       "      <td>westminster london underground station city we...</td>\n",
       "    </tr>\n",
       "    <tr>\n",
       "      <th>White City</th>\n",
       "      <td>White City is a London Underground station on ...</td>\n",
       "      <td>white city london underground station wood lan...</td>\n",
       "    </tr>\n",
       "    <tr>\n",
       "      <th>Whitechapel</th>\n",
       "      <td>Whitechapel is a London Underground and London...</td>\n",
       "      <td>whitechapel london underground london overgrou...</td>\n",
       "    </tr>\n",
       "    <tr>\n",
       "      <th>Willesden Green</th>\n",
       "      <td>Willesden Green is a London Underground statio...</td>\n",
       "      <td>willesden green london underground station wal...</td>\n",
       "    </tr>\n",
       "    <tr>\n",
       "      <th>Willesden Junction</th>\n",
       "      <td>Willesden Junction is a National Rail station ...</td>\n",
       "      <td>willesden junction national rail station harle...</td>\n",
       "    </tr>\n",
       "    <tr>\n",
       "      <th>Wimbledon</th>\n",
       "      <td>Wimbledon is a National Rail, London Undergrou...</td>\n",
       "      <td>wimbledon national rail london underground tra...</td>\n",
       "    </tr>\n",
       "    <tr>\n",
       "      <th>Wimbledon Park</th>\n",
       "      <td>Wimbledon Park is a London Underground station...</td>\n",
       "      <td>wimbledon park london underground station wimb...</td>\n",
       "    </tr>\n",
       "    <tr>\n",
       "      <th>Wood Green</th>\n",
       "      <td>Wood Green is a London Underground station on ...</td>\n",
       "      <td>wood green london underground station piccadil...</td>\n",
       "    </tr>\n",
       "    <tr>\n",
       "      <th>Wood Lane</th>\n",
       "      <td>Wood Lane is a London Underground station in t...</td>\n",
       "      <td>wood lane london underground station white cit...</td>\n",
       "    </tr>\n",
       "    <tr>\n",
       "      <th>Woodford</th>\n",
       "      <td>Woodford is a London Underground station in th...</td>\n",
       "      <td>woodford london underground station town woodf...</td>\n",
       "    </tr>\n",
       "    <tr>\n",
       "      <th>Woodside Park</th>\n",
       "      <td>Woodside Park is a London Underground station ...</td>\n",
       "      <td>woodside park london underground station woods...</td>\n",
       "    </tr>\n",
       "  </tbody>\n",
       "</table>\n",
       "<p>268 rows × 2 columns</p>\n",
       "</div>"
      ],
      "text/plain": [
       "                                                                  text  \\\n",
       "Acton Town           Acton Town is a London Underground station in ...   \n",
       "Aldgate              Aldgate is a London Underground station in Por...   \n",
       "Aldgate East         Aldgate East is a London Underground station o...   \n",
       "Alperton             Alperton is a London Underground station on th...   \n",
       "Amersham             Amersham is a London Underground and National ...   \n",
       "Angel                Angel is a London Underground station in the A...   \n",
       "Archway              Archway is a London Underground station at the...   \n",
       "Arnos Grove          Arnos Grove is a London Underground station lo...   \n",
       "Arsenal              Arsenal is a London Underground station locate...   \n",
       "Baker Street         Baker Street is a London Underground station a...   \n",
       "Balham               Balham is an interchange station formed of a r...   \n",
       "Bank                 Bank and Monument are interlinked London Under...   \n",
       "Barbican             Barbican is a London Underground station situa...   \n",
       "Barking              Barking is an interchange railway station loca...   \n",
       "Barkingside          Barkingside is a London Underground station on...   \n",
       "Barons Court         Barons Court is a London Underground station i...   \n",
       "Bayswater            Bayswater is a London Underground station in t...   \n",
       "Becontree            Becontree is a London Underground station on G...   \n",
       "Belsize Park         Belsize Park is a London Underground station i...   \n",
       "Bermondsey           Bermondsey is a London Underground station. It...   \n",
       "Bethnal Green        Bethnal Green is a London Underground station ...   \n",
       "Blackfriars          Blackfriars, also known as London Blackfriars,...   \n",
       "Blackhorse Road      Blackhorse Road is a joint London Overground a...   \n",
       "Bond Street          Bond Street is a London Underground and future...   \n",
       "Borough              Borough is a London Underground station in the...   \n",
       "Boston Manor         Boston Manor is a London Underground station a...   \n",
       "Bounds Green         Bounds Green is a London Underground station, ...   \n",
       "Bow Road             Bow Road is a London Underground station locat...   \n",
       "Brent Cross          Brent Cross is a London Underground station lo...   \n",
       "Brixton              Brixton is a London Underground station on Bri...   \n",
       "...                                                                ...   \n",
       "Vauxhall             Vauxhall (, VOK-sawl) is a National Rail, Lond...   \n",
       "Victoria             Victoria station, also known as London Victori...   \n",
       "Walthamstow Central  Walthamstow Central  is a London Underground a...   \n",
       "Wanstead             Wanstead is a London Underground station in Wa...   \n",
       "Warren Street        Warren Street is a London Underground station,...   \n",
       "Warwick Avenue       Warwick Avenue () is a London Underground stat...   \n",
       "Waterloo             Waterloo is a London Underground station locat...   \n",
       "Watford              Watford tube station is the terminus of a Metr...   \n",
       "Wembley Central      Wembley Central is an interchange station on t...   \n",
       "Wembley Park         Wembley Park is a London Underground station i...   \n",
       "West Acton           West Acton is a London Underground station bet...   \n",
       "West Brompton        West Brompton is a Tube and National Rail stat...   \n",
       "West Finchley        West Finchley is a London Underground station ...   \n",
       "West Ham             West Ham is a London Underground, Docklands Li...   \n",
       "West Hampstead       West Hampstead is a London Underground Jubilee...   \n",
       "West Harrow          West Harrow is a London Underground station in...   \n",
       "West Kensington      West Kensington is a London Underground Distri...   \n",
       "West Ruislip         West Ruislip is a station on Ickenham High Roa...   \n",
       "Westbourne Park      Westbourne Park is a London Underground statio...   \n",
       "Westminster          Westminster is a London Underground station in...   \n",
       "White City           White City is a London Underground station on ...   \n",
       "Whitechapel          Whitechapel is a London Underground and London...   \n",
       "Willesden Green      Willesden Green is a London Underground statio...   \n",
       "Willesden Junction   Willesden Junction is a National Rail station ...   \n",
       "Wimbledon            Wimbledon is a National Rail, London Undergrou...   \n",
       "Wimbledon Park       Wimbledon Park is a London Underground station...   \n",
       "Wood Green           Wood Green is a London Underground station on ...   \n",
       "Wood Lane            Wood Lane is a London Underground station in t...   \n",
       "Woodford             Woodford is a London Underground station in th...   \n",
       "Woodside Park        Woodside Park is a London Underground station ...   \n",
       "\n",
       "                                                            clean text  \n",
       "Acton Town           acton town london underground station southwes...  \n",
       "Aldgate              aldgate london underground station portsoken w...  \n",
       "Aldgate East         aldgate east london underground station whitec...  \n",
       "Alperton             alperton london underground station uxbridge b...  \n",
       "Amersham             amersham london underground national rail stat...  \n",
       "Angel                angel london underground station angel area lo...  \n",
       "Archway              archway london underground station intersectio...  \n",
       "Arnos Grove          arnos grove london underground station locate ...  \n",
       "Arsenal              arsenal london underground station locate high...  \n",
       "Baker Street         baker street london underground station juncti...  \n",
       "Balham               balham interchange station form range undergro...  \n",
       "Bank                 bank monument interlink london underground doc...  \n",
       "Barbican             barbican london underground station situate ne...  \n",
       "Barking              bark interchange railway station locate statio...  \n",
       "Barkingside          barkingside london underground station central...  \n",
       "Barons Court         barons court london underground station west k...  \n",
       "Bayswater            bayswater london underground station bayswater...  \n",
       "Becontree            becontree london underground station gale stre...  \n",
       "Belsize Park         belsize park london underground station belsiz...  \n",
       "Bermondsey           bermondsey london underground station \\n easte...  \n",
       "Bethnal Green        bethnal green london underground station bethn...  \n",
       "Blackfriars          blackfriars know london blackfriars central lo...  \n",
       "Blackhorse Road      blackhorse road joint london overground london...  \n",
       "Bond Street          bond street london underground future elizabet...  \n",
       "Borough              borough london underground station borough are...  \n",
       "Boston Manor         boston manor london underground station bounda...  \n",
       "Bounds Green         bounds green london underground station locate...  \n",
       "Bow Road             bow road london underground station locate bow...  \n",
       "Brent Cross          brent cross london underground station locate ...  \n",
       "Brixton              brixton london underground station brixton roa...  \n",
       "...                                                                ...  \n",
       "Vauxhall             vauxhall   voksawl national rail london underg...  \n",
       "Victoria             victoria station know london victoria central ...  \n",
       "Walthamstow Central  walthamstow central london underground overgro...  \n",
       "Wanstead             wanstead london underground station wanstead l...  \n",
       "Warren Street        warren street london underground station locat...  \n",
       "Warwick Avenue       warwick avenue   london underground station li...  \n",
       "Waterloo             waterloo london underground station locate ben...  \n",
       "Watford              watford tube station terminus metropolitan lin...  \n",
       "Wembley Central      wembley central interchange station west coast...  \n",
       "Wembley Park         wembley park london underground station wemble...  \n",
       "West Acton           west acton london underground station eale bro...  \n",
       "West Brompton        west brompton tube national rail station distr...  \n",
       "West Finchley        west finchley london underground station finch...  \n",
       "West Ham             west ham london underground dockland light rai...  \n",
       "West Hampstead       west hampstead london underground jubilee line...  \n",
       "West Harrow          west harrow london underground station harrow ...  \n",
       "West Kensington      west kensington london underground district li...  \n",
       "West Ruislip         west ruislip station ickenham high road border...  \n",
       "Westbourne Park      westbourne park london underground station not...  \n",
       "Westminster          westminster london underground station city we...  \n",
       "White City           white city london underground station wood lan...  \n",
       "Whitechapel          whitechapel london underground london overgrou...  \n",
       "Willesden Green      willesden green london underground station wal...  \n",
       "Willesden Junction   willesden junction national rail station harle...  \n",
       "Wimbledon            wimbledon national rail london underground tra...  \n",
       "Wimbledon Park       wimbledon park london underground station wimb...  \n",
       "Wood Green           wood green london underground station piccadil...  \n",
       "Wood Lane            wood lane london underground station white cit...  \n",
       "Woodford             woodford london underground station town woodf...  \n",
       "Woodside Park        woodside park london underground station woods...  \n",
       "\n",
       "[268 rows x 2 columns]"
      ]
     },
     "execution_count": 3,
     "metadata": {},
     "output_type": "execute_result"
    }
   ],
   "source": [
    "# Preprocessing, if any, to go here\n",
    "from nltk.tokenize import sent_tokenize\n",
    "import re\n",
    "from spacy.lang.en.stop_words import STOP_WORDS\n",
    "import spacy\n",
    "\n",
    "pattern = re.compile(\"[^a-zA-Z]\")\n",
    "stops = STOP_WORDS\n",
    "nlp = spacy.load(\"en\", disable=[\"ner\", \"parser\"])\n",
    "\n",
    "def clean_text(text):\n",
    "    new_text = []\n",
    "    sentences = sent_tokenize(text)\n",
    "    sentences = [\" \".join([pattern.sub(\"\", i) for i in sentence.lower().split() if i not in stops]) for sentence in sentences]\n",
    "    for sentence in sentences:\n",
    "        doc = nlp(sentence)\n",
    "        lemmatized = \" \".join([token.lemma_ for token in doc])\n",
    "        new_text.append(lemmatized)\n",
    "    new_text = \" \\n \".join([sentence for sentence in new_text])\n",
    "    return(new_text)\n",
    "cleantexts = []\n",
    "for text in tube_stations[\"text\"]:\n",
    "    cleantexts += [clean_text(text)]\n",
    "\n",
    "tube_stations[\"clean text\"] = cleantexts\n",
    "tube_stations"
   ]
  },
  {
   "cell_type": "markdown",
   "metadata": {},
   "source": [
    "Now we are going to embed our data using two models. This code should go here. If you're going to use count-vectors or tfidf vectors, I recommend SKLearn's implementation: https://scikit-learn.org/stable/modules/generated/sklearn.feature_extraction.text.TfidfVectorizer.html\n",
    "\n",
    "If you're going to use LSA (elsewhere called LSI, for latent semantic indexing), then I recommend gensim's implementation https://radimrehurek.com/gensim/models/lsimodel.html\n",
    "\n",
    "If you want to use something else but aren't sure how, then feel free to get in touch with me and I'll try to help. "
   ]
  },
  {
   "cell_type": "code",
   "execution_count": 11,
   "metadata": {},
   "outputs": [
    {
     "data": {
      "text/plain": [
       "(268, 8127)"
      ]
     },
     "execution_count": 11,
     "metadata": {},
     "output_type": "execute_result"
    }
   ],
   "source": [
    "vectors.toarray().shape"
   ]
  },
  {
   "cell_type": "code",
   "execution_count": 15,
   "metadata": {},
   "outputs": [
    {
     "data": {
      "text/plain": [
       "numpy.ndarray"
      ]
     },
     "execution_count": 15,
     "metadata": {},
     "output_type": "execute_result"
    }
   ],
   "source": [
    "from sklearn.feature_extraction.text import TfidfVectorizer\n",
    "from sklearn.decomposition import TruncatedSVD\n",
    "\n",
    "tfidf = TfidfVectorizer()\n",
    "# tube_stations = tube_stations.drop(\"tfidf vectors\", axis=1)\n",
    "vectors = tfidf.fit_transform(tube_stations[\"clean text\"].tolist())\n",
    "#print(len(tube_stations[\"clean text\"].tolist()))\n",
    "# tube_stations[\"tfidf vectors\"] = vectors\n",
    "#veclist = []\n",
    "#for i in vectors.toarray():\n",
    "#    veclist += [i]\n",
    "#tube_stations[\"tfidf\"] = veclist\n",
    "#tube_stations\n",
    "svd = TruncatedSVD(n_components=268)\n",
    "lsa_embeddings = svd.fit_transform(vectors)\n",
    "\n",
    "#tube_stations[\"lsa\"] = lsa_embeddings.tolist()\n",
    "#lsa_embeddings.shape"
   ]
  },
  {
   "cell_type": "code",
   "execution_count": 31,
   "metadata": {},
   "outputs": [],
   "source": [
    "svd = TruncatedSVD(n_components=300)\n",
    "asdf = svd.fit_transform(vectors.toarray())\n"
   ]
  },
  {
   "cell_type": "markdown",
   "metadata": {},
   "source": [
    "Now we have two embedding models of the same corpus. You are going to use hierarchical clustering and provide a visualization to try to determine how many natural clusters your data has. I highly recommend using the following class to do your hierarchical clustering: https://scikit-learn.org/stable/modules/generated/sklearn.cluster.AgglomerativeClustering.html#sklearn.cluster.AgglomerativeClustering\n",
    "\n",
    "Note: If your original dataset is too large, feel free to use only a subset of it.\n",
    "\n",
    "Provide a visualization of your hierarchical clustering. I personally like plotly for visualization: https://plot.ly/python/dendrogram/"
   ]
  },
  {
   "cell_type": "code",
   "execution_count": 49,
   "metadata": {},
   "outputs": [
    {
     "data": {
      "application/vnd.plotly.v1+json": {
       "config": {
        "plotlyServerURL": "https://plot.ly"
       },
       "data": [
        {
         "hoverlabel": {
          "namelength": 0
         },
         "hovertemplate": "x=%{x}<br>y=%{y}<br>Word=%{text}",
         "legendgroup": "",
         "marker": {
          "color": "#636efa",
          "symbol": "circle"
         },
         "mode": "markers+text",
         "name": "",
         "showlegend": false,
         "text": [
          "Acton Town",
          "Aldgate",
          "Aldgate East",
          "Alperton",
          "Amersham",
          "Angel",
          "Archway",
          "Arnos Grove",
          "Arsenal",
          "Baker Street",
          "Balham",
          "Bank",
          "Barbican",
          "Barking",
          "Barkingside",
          "Barons Court",
          "Bayswater",
          "Becontree",
          "Belsize Park",
          "Bermondsey",
          "Bethnal Green",
          "Blackfriars",
          "Blackhorse Road",
          "Bond Street",
          "Borough",
          "Boston Manor",
          "Bounds Green",
          "Bow Road",
          "Brent Cross",
          "Brixton",
          "Bromley-by-Bow",
          "Buckhurst Hill",
          "Burnt Oak",
          "Caledonian Road",
          "Camden Town",
          "Canada Water",
          "Canary Wharf",
          "Canning Town",
          "Cannon Street",
          "Canons Park",
          "Chalfont & Latimer",
          "Chalk Farm",
          "Chancery Lane",
          "Charing Cross",
          "Chesham",
          "Chigwell",
          "Chiswick Park",
          "Chorleywood",
          "Clapham Common",
          "Clapham North",
          "Clapham South",
          "Cockfosters",
          "Colindale",
          "Colliers Wood",
          "Covent Garden",
          "Croxley",
          "Dagenham East",
          "Dagenham Heathway",
          "Debden",
          "Dollis Hill",
          "Ealing Broadway",
          "Ealing Common",
          "Earl's Court",
          "East Acton",
          "East Finchley",
          "East Ham",
          "East Putney",
          "Eastcote",
          "Edgware",
          "Edgware Road",
          "Elephant & Castle",
          "Elm Park",
          "Embankment",
          "Epping",
          "Euston",
          "Euston Square",
          "Fairlop",
          "Farringdon",
          "Finchley Central",
          "Finchley Road",
          "Finsbury Park",
          "Fulham Broadway",
          "Gants Hill",
          "Gloucester Road",
          "Golders Green",
          "Goldhawk Road",
          "Goodge Street",
          "Grange Hill",
          "Great Portland Street",
          "Greenford",
          "Green Park",
          "Gunnersbury",
          "Hainault",
          "Hammersmith (District and Piccadilly)",
          "Hammersmith (Circle and H&C)",
          "Hampstead",
          "Hanger Lane",
          "Harlesden",
          "Harrow & Wealdstone",
          "Harrow-on-the-Hill",
          "Hatton Cross",
          "Heathrow Terminals 2 & 3",
          "Heathrow Terminal 4",
          "Heathrow Terminal 5",
          "Hendon Central",
          "High Barnet",
          "Highbury & Islington",
          "Highgate",
          "High Street Kensington",
          "Hillingdon",
          "Holborn",
          "Holland Park",
          "Holloway Road",
          "Hornchurch",
          "Hounslow Central",
          "Hounslow East",
          "Hounslow West",
          "Hyde Park Corner",
          "Ickenham",
          "Kennington",
          "Kensal Green",
          "Kensington (Olympia)",
          "Kentish Town",
          "Kenton",
          "Kew Gardens",
          "Kilburn",
          "Kilburn Park",
          "Kingsbury",
          "King's Cross St Pancras",
          "Knightsbridge",
          "Ladbroke Grove",
          "Lambeth North",
          "Lancaster Gate",
          "Latimer Road",
          "Leicester Square",
          "Leyton",
          "Leytonstone",
          "Liverpool Street",
          "London Bridge",
          "Loughton",
          "Maida Vale",
          "Manor House",
          "Mansion House",
          "Marble Arch",
          "Marylebone",
          "Mile End",
          "Mill Hill East",
          "Moorgate",
          "Moor Park",
          "Morden",
          "Mornington Crescent",
          "Neasden",
          "Newbury Park",
          "North Acton",
          "North Ealing",
          "North Greenwich",
          "North Harrow",
          "North Wembley",
          "Northfields",
          "Northolt",
          "Northwick Park",
          "Northwood",
          "Northwood Hills",
          "Notting Hill Gate",
          "Oakwood",
          "Old Street",
          "Osterley",
          "Oval",
          "Oxford Circus",
          "Paddington (Bakerloo, Circle, and District)",
          "Paddington (Circle and H&C)",
          "Park Royal",
          "Parsons Green",
          "Perivale",
          "Piccadilly Circus",
          "Pimlico",
          "Pinner",
          "Plaistow",
          "Preston Road",
          "Putney Bridge",
          "Queen's Park",
          "Queensbury",
          "Queensway",
          "Ravenscourt Park",
          "Rayners Lane",
          "Redbridge",
          "Regent's Park",
          "Richmond",
          "Rickmansworth",
          "Roding Valley",
          "Royal Oak",
          "Ruislip",
          "Ruislip Gardens",
          "Ruislip Manor",
          "Russell Square",
          "St. James's Park",
          "St. John's Wood",
          "St. Paul's",
          "Seven Sisters",
          "Shepherd's Bush",
          "Shepherd's Bush Market",
          "Sloane Square",
          "Snaresbrook",
          "South Ealing",
          "South Harrow",
          "South Kensington",
          "South Kenton",
          "South Ruislip",
          "South Wimbledon",
          "South Woodford",
          "Southfields",
          "Southgate",
          "Southwark",
          "Stamford Brook",
          "Stanmore",
          "Stepney Green",
          "Stockwell",
          "Stonebridge Park",
          "Stratford",
          "Sudbury Hill",
          "Sudbury Town",
          "Swiss Cottage",
          "Temple",
          "Theydon Bois",
          "Tooting Bec",
          "Tooting Broadway",
          "Tottenham Court Road",
          "Tottenham Hale",
          "Totteridge & Whetstone",
          "Tower Hill",
          "Tufnell Park",
          "Turnham Green",
          "Turnpike Lane",
          "Upminster",
          "Upminster Bridge",
          "Upney",
          "Upton Park",
          "Uxbridge",
          "Vauxhall",
          "Victoria",
          "Walthamstow Central",
          "Wanstead",
          "Warren Street",
          "Warwick Avenue",
          "Waterloo",
          "Watford",
          "Wembley Central",
          "Wembley Park",
          "West Acton",
          "West Brompton",
          "West Finchley",
          "West Ham",
          "West Hampstead",
          "West Harrow",
          "West Kensington",
          "West Ruislip",
          "Westbourne Park",
          "Westminster",
          "White City",
          "Whitechapel",
          "Willesden Green",
          "Willesden Junction",
          "Wimbledon",
          "Wimbledon Park",
          "Wood Green",
          "Wood Lane",
          "Woodford",
          "Woodside Park"
         ],
         "textposition": "top center",
         "type": "scatter",
         "x": [
          0.5146611767594043,
          0.35926464263012964,
          0.5179306025883111,
          0.4783959657372199,
          0.3874835195065035,
          0.4415931255551079,
          0.36325394031945246,
          0.35829907237441416,
          0.3389146243362374,
          0.5855523181224053,
          0.40193270462816655,
          0.4800134682119342,
          0.4671214569748792,
          0.5520835694335925,
          0.36270663532839914,
          0.35350986474134455,
          0.36146265784938947,
          0.40537785531197046,
          0.3126737284526595,
          0.3017823638962778,
          0.26816842696770526,
          0.5055012260081191,
          0.4612666805777723,
          0.4246756919773415,
          0.38711163980464025,
          0.3624388029573669,
          0.3715612930399913,
          0.43608906074065196,
          0.36591266399070715,
          0.3919628168637587,
          0.5651694446030844,
          0.4238866156453554,
          0.27034670632024144,
          0.4491566486329573,
          0.44381072150462947,
          0.3485081026533665,
          0.33984409401699167,
          0.3851550890496927,
          0.47482320693760144,
          0.3514737907405205,
          0.32098300060045765,
          0.2995275466971388,
          0.32914406305454813,
          0.44627619059274914,
          0.366403041899375,
          0.42290041526993283,
          0.4557180627656603,
          0.4022516088822388,
          0.31319441925881575,
          0.3799456009125933,
          0.2921316043982029,
          0.3723932905162582,
          0.3172893712553669,
          0.35296375100413035,
          0.4130524184481914,
          0.19965775897050947,
          0.49645166305384386,
          0.4002683111502487,
          0.3473995353314509,
          0.22741953040940735,
          0.5898456666202815,
          0.5110085984371515,
          0.4353424002531435,
          0.38860503331710466,
          0.5029860152167349,
          0.5190821804983019,
          0.43592579532687253,
          0.4071063221655051,
          0.4596176079576592,
          0.5186679507181664,
          0.5055985551735708,
          0.436896257094414,
          0.516520954914464,
          0.31128949106349063,
          0.515722003093177,
          0.4990629791119604,
          0.3136667886282119,
          0.4309600214023413,
          0.5044500258537097,
          0.4651758373378763,
          0.5076493056083838,
          0.35604787085696404,
          0.3942485802595902,
          0.510375320247698,
          0.35259746608654324,
          0.272673686247163,
          0.2833684086314795,
          0.40984650144580237,
          0.43523608700707356,
          0.38288531435021944,
          0.49729730949978573,
          0.44498098686180254,
          0.44733499997332477,
          0.5012820926402387,
          0.5012820926402387,
          0.3674398636357261,
          0.4228127242483276,
          0.36944826433632644,
          0.4899387898990159,
          0.5304263002831182,
          0.2840429829147552,
          0.27188395057451864,
          0.2044891748397544,
          0.24096219298334015,
          0.3507213787472198,
          0.459046195424074,
          0.5151325426822146,
          0.5026609866127685,
          0.41742984365831814,
          0.44413590672058256,
          0.4740304198626362,
          0.3702840217434192,
          0.34668331820199705,
          0.48633653238371655,
          0.21144768831856336,
          0.257988501071166,
          0.31986915430073587,
          0.4056445125202262,
          0.44298247279327135,
          0.4082643845575026,
          0.3518951532895205,
          0.5019323321803459,
          0.46596778562123453,
          0.5110179594653637,
          0.34577550726740663,
          0.47112775319886563,
          0.32184478335733135,
          0.3053876656029928,
          0.4994510639237889,
          0.3848128562356488,
          0.24110861389858088,
          0.4146336808992325,
          0.3217410939579538,
          0.4428141446297684,
          0.37824157048789225,
          0.2939882921487604,
          0.3521218158489453,
          0.48665820708415153,
          0.593006111683955,
          0.4169883145184912,
          0.2520994689401843,
          0.3798377325485098,
          0.37726172425449755,
          0.31984055677874274,
          0.4591834695927202,
          0.38641423273042896,
          0.4909605159310943,
          0.5217042802916191,
          0.28374377296085485,
          0.3942798023225079,
          0.29582032148491855,
          0.3883934213485181,
          0.4328406131310298,
          0.4672517978189216,
          0.4516640255125698,
          0.29881366690706085,
          0.3836168928607976,
          0.41463417913244355,
          0.3533209345929206,
          0.4030481164960214,
          0.33966859925064374,
          0.3454454055146347,
          0.2699619261304243,
          0.3714888539972671,
          0.4107627725064717,
          0.5231696616659616,
          0.28911910191877127,
          0.337628912383224,
          0.5202878684607276,
          0.5916328593696571,
          0.504045167018256,
          0.5205501811775355,
          0.346437322092292,
          0.3076589738926225,
          0.45281161912465007,
          0.33241872335823663,
          0.3415717476308976,
          0.3908890436285041,
          0.33734761482257386,
          0.2937541795671983,
          0.4306741591091879,
          0.25078013046625236,
          0.30488438484223157,
          0.43146594106761194,
          0.5160414940776822,
          0.29235718857273163,
          0.3888993931685401,
          0.4561431959860542,
          0.2856218590322095,
          0.3585867662491611,
          0.35272593827918547,
          0.4778543541932645,
          0.3703189428763628,
          0.4812880082183126,
          0.3577905666153835,
          0.4429690876100154,
          0.34397782274188954,
          0.34531495476346136,
          0.4042453247139748,
          0.4264579019473927,
          0.29997177752947146,
          0.4679022549641221,
          0.46788461296881334,
          0.47864307206177,
          0.4768102575168268,
          0.5500545297530212,
          0.4137280181368925,
          0.3762455006213344,
          0.3588334927997394,
          0.4287840383450038,
          0.372236893931004,
          0.32806365424677736,
          0.32982435590864606,
          0.44859466495973893,
          0.4834957551478012,
          0.43626066530416757,
          0.4517717723930445,
          0.4548826524898263,
          0.4847958624116134,
          0.47540657431958927,
          0.4898115894987983,
          0.37940123686830113,
          0.3904836425696884,
          0.2792451713732469,
          0.2967994362095283,
          0.3316433270903768,
          0.5073586101115047,
          0.3772839926101827,
          0.3570051950973613,
          0.4141587990913135,
          0.40714424607147587,
          0.4496059728195966,
          0.32366301161794947,
          0.4477806407041986,
          0.46687884259944273,
          0.44073297991123933,
          0.3765374944244879,
          0.415236093518072,
          0.3176079094570124,
          0.5415339085649785,
          0.3995082420539405,
          0.27990374854526606,
          0.419185864653197,
          0.2665788174522935,
          0.4335787260122705,
          0.32424989309423696,
          0.4665105968390212,
          0.4227645072225209,
          0.39690841940594973,
          0.4290053362649886,
          0.44927196551403614,
          0.4994320295900236,
          0.4965598623419077,
          0.44969898717596013,
          0.44147790132011067,
          0.4742129245099763,
          0.4199525673371488,
          0.5461340798967516,
          0.451319910103305,
          0.4824919736825177,
          0.4499869682142899,
          0.5289091880081647,
          0.3643805879709228,
          0.41975870090051987,
          0.3885260325147071,
          0.39529669763175157,
          0.4267396826685003,
          0.4549536377134467
         ],
         "xaxis": "x",
         "y": [
          0.08762438081301,
          0.2149944747400354,
          0.10787011737167741,
          0.19715464845162237,
          0.14760668373319832,
          -0.14992162793118405,
          -0.13599124870319707,
          -0.10777236600755587,
          -0.10181232835225716,
          0.2182450040916724,
          -0.0298397185754155,
          -0.13105065525211232,
          0.2887240721291885,
          0.08087143343179094,
          0.012377648279424832,
          0.09635858656407231,
          0.05558220250672035,
          0.03640399548307388,
          -0.1363423792557805,
          -0.10918749909853186,
          0.003085692403205435,
          -0.03433727767350317,
          -0.02923440633585072,
          -0.11260444131318195,
          -0.14496787974126724,
          -0.01671358516800942,
          -0.138178132369424,
          0.07154777617177531,
          -0.1240910750994869,
          -0.127247099463119,
          0.07007465835844828,
          -0.12883859601504224,
          -0.038737961725077416,
          0.012687414274182492,
          -0.15495808421374838,
          -0.11358686211226145,
          -0.015866247276317767,
          0.03234855455305395,
          -0.049692656784408255,
          -0.05480313641867144,
          0.4575657360679362,
          -0.12572054023544585,
          -0.09352892901604043,
          -0.15095251964837633,
          0.09233350310297486,
          0.02290118508496975,
          -0.05910857008711937,
          0.4734070004107977,
          -0.10931181904196097,
          -0.1459033339439452,
          -0.12580066507923018,
          -0.06089585563332932,
          -0.10225854067482437,
          -0.1619638753687894,
          -0.13517668293424903,
          0.07189018392542615,
          -0.056427798790227024,
          0.10341404145949958,
          -0.048436542560262044,
          -0.027487987057879415,
          0.08787318479970305,
          0.22794507110965243,
          -0.09013004421517781,
          0.1437875082973792,
          -0.16447552058172804,
          -0.01881666332344729,
          -0.06144150380278174,
          0.5287404248200487,
          -0.1534172133120318,
          0.10146873961043924,
          -0.07953368380420034,
          -0.02476432464022529,
          -0.12236441196673861,
          -0.06645390271638081,
          -0.15571295253107945,
          0.44106854779617083,
          -0.06612644109029582,
          0.23930721115979645,
          -0.15546722503223856,
          0.025611443457008585,
          -0.12641032524013282,
          -0.05797785043219252,
          -0.017235509525875662,
          -0.08116887389211229,
          -0.14379746496789572,
          -0.05747297870312787,
          -0.10209020828817758,
          -0.04531481470463388,
          0.5218582839097187,
          0.04023508833078522,
          -0.1284910444406819,
          0.004363178187871064,
          -0.014094877721998977,
          -0.07844850577369851,
          -0.07844850577369851,
          -0.14807313433938404,
          -0.06219641747361327,
          -0.04023410485390885,
          0.06970904945702197,
          0.2840096507509369,
          -0.08905278729537866,
          -0.07922749898069466,
          -0.06541953411492452,
          -0.05131839587945074,
          -0.14735287365459585,
          -0.1516750158964466,
          -0.0778259953061571,
          -0.18796281706396373,
          0.12445975769342238,
          0.5365694854529895,
          -0.11701316934763828,
          -0.10430923842915646,
          -0.14135407393999783,
          -0.03605164020401404,
          -0.05835025069739957,
          -0.07773957195532613,
          -0.08880912880749321,
          -0.14404954209266604,
          0.609095181147069,
          -0.1598942757988417,
          -0.06656238483094495,
          -0.06807922515992701,
          -0.08474809082416809,
          0.024544369779241577,
          -0.019642915272961296,
          0.04937248432888,
          -0.09683171698833305,
          -0.011039228355687224,
          -0.13122299513754432,
          -0.14578460955157288,
          -0.07641412383332488,
          0.06322637242322211,
          -0.11310315947755936,
          -0.07871378636225222,
          -0.1527833784060112,
          -0.09850861608356799,
          -0.07766583915585373,
          -0.07848978982194688,
          0.005804550132395164,
          0.0016578579290077527,
          -0.10564339444011728,
          -0.11922006077691218,
          -0.05640407875140902,
          -0.11259842349536166,
          0.01121429616837392,
          -0.03427490076620307,
          -0.14510605806117138,
          0.2342346596702663,
          0.15985292097178042,
          -0.16795314610302794,
          -0.10951139507474014,
          0.02960486033839403,
          -0.012599585630386987,
          -0.03880586352131631,
          0.2538864749256217,
          -0.07073058070103194,
          0.31184380641639925,
          0.10981597716776695,
          -0.0403231239196512,
          -0.051212593523906086,
          0.5476814905819463,
          0.2903787562072262,
          0.23075993968263195,
          -0.09373421545918985,
          -0.10751140718292128,
          -0.07508491098343234,
          -0.0670627517090632,
          -0.11906316372422157,
          -0.05097459228671449,
          -0.09754793514872305,
          -0.0384971411777965,
          0.13706059298989934,
          -0.009845790518532386,
          -0.08075927258885479,
          -0.1367494209600683,
          -0.10698439711188762,
          0.1610738688412846,
          -0.025737971452242745,
          0.5138740546319784,
          -0.059593063489676315,
          0.08541961084136658,
          -0.05785499678065042,
          -0.09635417316552765,
          -0.021160087542513903,
          0.5850625565565774,
          -0.1095292233262495,
          0.12553676964359312,
          -0.04629326168895663,
          0.13585357672330325,
          -0.020268616366019208,
          -0.0446237955370785,
          0.5913013066895221,
          0.06536295544225207,
          0.5925116922520253,
          -0.12322426177570664,
          -0.08527776578792137,
          -0.0700824590645961,
          -0.11443182366026368,
          -0.10675109907951086,
          -0.1153595994784966,
          -0.059011994489574005,
          -0.08589274107192751,
          -0.13034049199220876,
          -0.028816568364502748,
          0.24694333155781353,
          -0.0993314233621115,
          -0.011897536540226608,
          0.045276895368601994,
          -0.16085948808176362,
          -0.11390535438043814,
          -0.09572645862516627,
          -0.1204115954567934,
          -0.12694322871964073,
          -0.014766240982492435,
          0.14331389115866575,
          0.18467350206793964,
          -0.16711938796167164,
          -0.06569818958805652,
          -0.062005476085782676,
          0.23078284041960287,
          0.19291812570455644,
          -0.04386459522896924,
          -0.06440532452037052,
          -0.0936732458158073,
          -0.12499692608819853,
          -0.08029324223925002,
          -0.17605518295497494,
          -0.012013154150800455,
          -0.11328639775530876,
          0.19798708985609303,
          -0.15039667489535058,
          -0.006185084050922765,
          -0.10875772441616771,
          0.05737701259874923,
          -0.061145583977342495,
          0.10108947545476193,
          -0.04483548063108445,
          0.43948267749387415,
          -0.07881044189732687,
          -0.039482620026221354,
          -0.05612490471835327,
          -0.11075468959512284,
          -0.11914090778791847,
          -0.10635122580903313,
          -0.11114981327962568,
          0.03581486199795664,
          0.07117731007472272,
          0.03547450074125951,
          -0.04809899417237152,
          -0.06819769645885418,
          -0.13824944653037854,
          -0.025705225041637688,
          -0.06568153377726868,
          0.6826906333820254,
          -0.010581023821451112,
          0.0983750602717924,
          -0.045337059264653784,
          -0.12273055618616241,
          -0.09384520220814573,
          -0.0007018828370043275,
          -0.02018609196823912,
          -0.012046625337529916,
          -0.0656440140843476,
          -0.059437910356172324,
          -0.1170411390472563,
          -0.060677436246505415,
          -0.11596334716231357,
          -0.1296476699210375
         ],
         "yaxis": "y"
        }
       ],
       "layout": {
        "height": 600,
        "legend": {
         "tracegroupgap": 0
        },
        "margin": {
         "t": 60
        },
        "template": {
         "data": {
          "bar": [
           {
            "error_x": {
             "color": "#2a3f5f"
            },
            "error_y": {
             "color": "#2a3f5f"
            },
            "marker": {
             "line": {
              "color": "#E5ECF6",
              "width": 0.5
             }
            },
            "type": "bar"
           }
          ],
          "barpolar": [
           {
            "marker": {
             "line": {
              "color": "#E5ECF6",
              "width": 0.5
             }
            },
            "type": "barpolar"
           }
          ],
          "carpet": [
           {
            "aaxis": {
             "endlinecolor": "#2a3f5f",
             "gridcolor": "white",
             "linecolor": "white",
             "minorgridcolor": "white",
             "startlinecolor": "#2a3f5f"
            },
            "baxis": {
             "endlinecolor": "#2a3f5f",
             "gridcolor": "white",
             "linecolor": "white",
             "minorgridcolor": "white",
             "startlinecolor": "#2a3f5f"
            },
            "type": "carpet"
           }
          ],
          "choropleth": [
           {
            "colorbar": {
             "outlinewidth": 0,
             "ticks": ""
            },
            "type": "choropleth"
           }
          ],
          "contour": [
           {
            "colorbar": {
             "outlinewidth": 0,
             "ticks": ""
            },
            "colorscale": [
             [
              0,
              "#0d0887"
             ],
             [
              0.1111111111111111,
              "#46039f"
             ],
             [
              0.2222222222222222,
              "#7201a8"
             ],
             [
              0.3333333333333333,
              "#9c179e"
             ],
             [
              0.4444444444444444,
              "#bd3786"
             ],
             [
              0.5555555555555556,
              "#d8576b"
             ],
             [
              0.6666666666666666,
              "#ed7953"
             ],
             [
              0.7777777777777778,
              "#fb9f3a"
             ],
             [
              0.8888888888888888,
              "#fdca26"
             ],
             [
              1,
              "#f0f921"
             ]
            ],
            "type": "contour"
           }
          ],
          "contourcarpet": [
           {
            "colorbar": {
             "outlinewidth": 0,
             "ticks": ""
            },
            "type": "contourcarpet"
           }
          ],
          "heatmap": [
           {
            "colorbar": {
             "outlinewidth": 0,
             "ticks": ""
            },
            "colorscale": [
             [
              0,
              "#0d0887"
             ],
             [
              0.1111111111111111,
              "#46039f"
             ],
             [
              0.2222222222222222,
              "#7201a8"
             ],
             [
              0.3333333333333333,
              "#9c179e"
             ],
             [
              0.4444444444444444,
              "#bd3786"
             ],
             [
              0.5555555555555556,
              "#d8576b"
             ],
             [
              0.6666666666666666,
              "#ed7953"
             ],
             [
              0.7777777777777778,
              "#fb9f3a"
             ],
             [
              0.8888888888888888,
              "#fdca26"
             ],
             [
              1,
              "#f0f921"
             ]
            ],
            "type": "heatmap"
           }
          ],
          "heatmapgl": [
           {
            "colorbar": {
             "outlinewidth": 0,
             "ticks": ""
            },
            "colorscale": [
             [
              0,
              "#0d0887"
             ],
             [
              0.1111111111111111,
              "#46039f"
             ],
             [
              0.2222222222222222,
              "#7201a8"
             ],
             [
              0.3333333333333333,
              "#9c179e"
             ],
             [
              0.4444444444444444,
              "#bd3786"
             ],
             [
              0.5555555555555556,
              "#d8576b"
             ],
             [
              0.6666666666666666,
              "#ed7953"
             ],
             [
              0.7777777777777778,
              "#fb9f3a"
             ],
             [
              0.8888888888888888,
              "#fdca26"
             ],
             [
              1,
              "#f0f921"
             ]
            ],
            "type": "heatmapgl"
           }
          ],
          "histogram": [
           {
            "marker": {
             "colorbar": {
              "outlinewidth": 0,
              "ticks": ""
             }
            },
            "type": "histogram"
           }
          ],
          "histogram2d": [
           {
            "colorbar": {
             "outlinewidth": 0,
             "ticks": ""
            },
            "colorscale": [
             [
              0,
              "#0d0887"
             ],
             [
              0.1111111111111111,
              "#46039f"
             ],
             [
              0.2222222222222222,
              "#7201a8"
             ],
             [
              0.3333333333333333,
              "#9c179e"
             ],
             [
              0.4444444444444444,
              "#bd3786"
             ],
             [
              0.5555555555555556,
              "#d8576b"
             ],
             [
              0.6666666666666666,
              "#ed7953"
             ],
             [
              0.7777777777777778,
              "#fb9f3a"
             ],
             [
              0.8888888888888888,
              "#fdca26"
             ],
             [
              1,
              "#f0f921"
             ]
            ],
            "type": "histogram2d"
           }
          ],
          "histogram2dcontour": [
           {
            "colorbar": {
             "outlinewidth": 0,
             "ticks": ""
            },
            "colorscale": [
             [
              0,
              "#0d0887"
             ],
             [
              0.1111111111111111,
              "#46039f"
             ],
             [
              0.2222222222222222,
              "#7201a8"
             ],
             [
              0.3333333333333333,
              "#9c179e"
             ],
             [
              0.4444444444444444,
              "#bd3786"
             ],
             [
              0.5555555555555556,
              "#d8576b"
             ],
             [
              0.6666666666666666,
              "#ed7953"
             ],
             [
              0.7777777777777778,
              "#fb9f3a"
             ],
             [
              0.8888888888888888,
              "#fdca26"
             ],
             [
              1,
              "#f0f921"
             ]
            ],
            "type": "histogram2dcontour"
           }
          ],
          "mesh3d": [
           {
            "colorbar": {
             "outlinewidth": 0,
             "ticks": ""
            },
            "type": "mesh3d"
           }
          ],
          "parcoords": [
           {
            "line": {
             "colorbar": {
              "outlinewidth": 0,
              "ticks": ""
             }
            },
            "type": "parcoords"
           }
          ],
          "scatter": [
           {
            "marker": {
             "colorbar": {
              "outlinewidth": 0,
              "ticks": ""
             }
            },
            "type": "scatter"
           }
          ],
          "scatter3d": [
           {
            "line": {
             "colorbar": {
              "outlinewidth": 0,
              "ticks": ""
             }
            },
            "marker": {
             "colorbar": {
              "outlinewidth": 0,
              "ticks": ""
             }
            },
            "type": "scatter3d"
           }
          ],
          "scattercarpet": [
           {
            "marker": {
             "colorbar": {
              "outlinewidth": 0,
              "ticks": ""
             }
            },
            "type": "scattercarpet"
           }
          ],
          "scattergeo": [
           {
            "marker": {
             "colorbar": {
              "outlinewidth": 0,
              "ticks": ""
             }
            },
            "type": "scattergeo"
           }
          ],
          "scattergl": [
           {
            "marker": {
             "colorbar": {
              "outlinewidth": 0,
              "ticks": ""
             }
            },
            "type": "scattergl"
           }
          ],
          "scattermapbox": [
           {
            "marker": {
             "colorbar": {
              "outlinewidth": 0,
              "ticks": ""
             }
            },
            "type": "scattermapbox"
           }
          ],
          "scatterpolar": [
           {
            "marker": {
             "colorbar": {
              "outlinewidth": 0,
              "ticks": ""
             }
            },
            "type": "scatterpolar"
           }
          ],
          "scatterpolargl": [
           {
            "marker": {
             "colorbar": {
              "outlinewidth": 0,
              "ticks": ""
             }
            },
            "type": "scatterpolargl"
           }
          ],
          "scatterternary": [
           {
            "marker": {
             "colorbar": {
              "outlinewidth": 0,
              "ticks": ""
             }
            },
            "type": "scatterternary"
           }
          ],
          "surface": [
           {
            "colorbar": {
             "outlinewidth": 0,
             "ticks": ""
            },
            "colorscale": [
             [
              0,
              "#0d0887"
             ],
             [
              0.1111111111111111,
              "#46039f"
             ],
             [
              0.2222222222222222,
              "#7201a8"
             ],
             [
              0.3333333333333333,
              "#9c179e"
             ],
             [
              0.4444444444444444,
              "#bd3786"
             ],
             [
              0.5555555555555556,
              "#d8576b"
             ],
             [
              0.6666666666666666,
              "#ed7953"
             ],
             [
              0.7777777777777778,
              "#fb9f3a"
             ],
             [
              0.8888888888888888,
              "#fdca26"
             ],
             [
              1,
              "#f0f921"
             ]
            ],
            "type": "surface"
           }
          ],
          "table": [
           {
            "cells": {
             "fill": {
              "color": "#EBF0F8"
             },
             "line": {
              "color": "white"
             }
            },
            "header": {
             "fill": {
              "color": "#C8D4E3"
             },
             "line": {
              "color": "white"
             }
            },
            "type": "table"
           }
          ]
         },
         "layout": {
          "annotationdefaults": {
           "arrowcolor": "#2a3f5f",
           "arrowhead": 0,
           "arrowwidth": 1
          },
          "colorscale": {
           "diverging": [
            [
             0,
             "#8e0152"
            ],
            [
             0.1,
             "#c51b7d"
            ],
            [
             0.2,
             "#de77ae"
            ],
            [
             0.3,
             "#f1b6da"
            ],
            [
             0.4,
             "#fde0ef"
            ],
            [
             0.5,
             "#f7f7f7"
            ],
            [
             0.6,
             "#e6f5d0"
            ],
            [
             0.7,
             "#b8e186"
            ],
            [
             0.8,
             "#7fbc41"
            ],
            [
             0.9,
             "#4d9221"
            ],
            [
             1,
             "#276419"
            ]
           ],
           "sequential": [
            [
             0,
             "#0d0887"
            ],
            [
             0.1111111111111111,
             "#46039f"
            ],
            [
             0.2222222222222222,
             "#7201a8"
            ],
            [
             0.3333333333333333,
             "#9c179e"
            ],
            [
             0.4444444444444444,
             "#bd3786"
            ],
            [
             0.5555555555555556,
             "#d8576b"
            ],
            [
             0.6666666666666666,
             "#ed7953"
            ],
            [
             0.7777777777777778,
             "#fb9f3a"
            ],
            [
             0.8888888888888888,
             "#fdca26"
            ],
            [
             1,
             "#f0f921"
            ]
           ],
           "sequentialminus": [
            [
             0,
             "#0d0887"
            ],
            [
             0.1111111111111111,
             "#46039f"
            ],
            [
             0.2222222222222222,
             "#7201a8"
            ],
            [
             0.3333333333333333,
             "#9c179e"
            ],
            [
             0.4444444444444444,
             "#bd3786"
            ],
            [
             0.5555555555555556,
             "#d8576b"
            ],
            [
             0.6666666666666666,
             "#ed7953"
            ],
            [
             0.7777777777777778,
             "#fb9f3a"
            ],
            [
             0.8888888888888888,
             "#fdca26"
            ],
            [
             1,
             "#f0f921"
            ]
           ]
          },
          "colorway": [
           "#636efa",
           "#EF553B",
           "#00cc96",
           "#ab63fa",
           "#FFA15A",
           "#19d3f3",
           "#FF6692",
           "#B6E880",
           "#FF97FF",
           "#FECB52"
          ],
          "font": {
           "color": "#2a3f5f"
          },
          "geo": {
           "bgcolor": "white",
           "lakecolor": "white",
           "landcolor": "#E5ECF6",
           "showlakes": true,
           "showland": true,
           "subunitcolor": "white"
          },
          "hoverlabel": {
           "align": "left"
          },
          "hovermode": "closest",
          "mapbox": {
           "style": "light"
          },
          "paper_bgcolor": "white",
          "plot_bgcolor": "#E5ECF6",
          "polar": {
           "angularaxis": {
            "gridcolor": "white",
            "linecolor": "white",
            "ticks": ""
           },
           "bgcolor": "#E5ECF6",
           "radialaxis": {
            "gridcolor": "white",
            "linecolor": "white",
            "ticks": ""
           }
          },
          "scene": {
           "xaxis": {
            "backgroundcolor": "#E5ECF6",
            "gridcolor": "white",
            "gridwidth": 2,
            "linecolor": "white",
            "showbackground": true,
            "ticks": "",
            "zerolinecolor": "white"
           },
           "yaxis": {
            "backgroundcolor": "#E5ECF6",
            "gridcolor": "white",
            "gridwidth": 2,
            "linecolor": "white",
            "showbackground": true,
            "ticks": "",
            "zerolinecolor": "white"
           },
           "zaxis": {
            "backgroundcolor": "#E5ECF6",
            "gridcolor": "white",
            "gridwidth": 2,
            "linecolor": "white",
            "showbackground": true,
            "ticks": "",
            "zerolinecolor": "white"
           }
          },
          "shapedefaults": {
           "line": {
            "color": "#2a3f5f"
           }
          },
          "ternary": {
           "aaxis": {
            "gridcolor": "white",
            "linecolor": "white",
            "ticks": ""
           },
           "baxis": {
            "gridcolor": "white",
            "linecolor": "white",
            "ticks": ""
           },
           "bgcolor": "#E5ECF6",
           "caxis": {
            "gridcolor": "white",
            "linecolor": "white",
            "ticks": ""
           }
          },
          "title": {
           "x": 0.05
          },
          "xaxis": {
           "automargin": true,
           "gridcolor": "white",
           "linecolor": "white",
           "ticks": "",
           "zerolinecolor": "white",
           "zerolinewidth": 2
          },
          "yaxis": {
           "automargin": true,
           "gridcolor": "white",
           "linecolor": "white",
           "ticks": "",
           "zerolinecolor": "white",
           "zerolinewidth": 2
          }
         }
        },
        "xaxis": {
         "anchor": "y",
         "domain": [
          0,
          0.98
         ],
         "title": {
          "text": "x"
         }
        },
        "yaxis": {
         "anchor": "x",
         "domain": [
          0,
          1
         ],
         "title": {
          "text": "y"
         }
        }
       }
      },
      "text/html": [
       "<div>\n",
       "        \n",
       "        \n",
       "            <div id=\"b9078f95-cc6e-4c71-82f1-18d38abb8821\" class=\"plotly-graph-div\" style=\"height:600px; width:100%;\"></div>\n",
       "            <script type=\"text/javascript\">\n",
       "                require([\"plotly\"], function(Plotly) {\n",
       "                    window.PLOTLYENV=window.PLOTLYENV || {};\n",
       "                    \n",
       "                if (document.getElementById(\"b9078f95-cc6e-4c71-82f1-18d38abb8821\")) {\n",
       "                    Plotly.newPlot(\n",
       "                        'b9078f95-cc6e-4c71-82f1-18d38abb8821',\n",
       "                        [{\"hoverlabel\": {\"namelength\": 0}, \"hovertemplate\": \"x=%{x}<br>y=%{y}<br>Word=%{text}\", \"legendgroup\": \"\", \"marker\": {\"color\": \"#636efa\", \"symbol\": \"circle\"}, \"mode\": \"markers+text\", \"name\": \"\", \"showlegend\": false, \"text\": [\"Acton Town\", \"Aldgate\", \"Aldgate East\", \"Alperton\", \"Amersham\", \"Angel\", \"Archway\", \"Arnos Grove\", \"Arsenal\", \"Baker Street\", \"Balham\", \"Bank\", \"Barbican\", \"Barking\", \"Barkingside\", \"Barons Court\", \"Bayswater\", \"Becontree\", \"Belsize Park\", \"Bermondsey\", \"Bethnal Green\", \"Blackfriars\", \"Blackhorse Road\", \"Bond Street\", \"Borough\", \"Boston Manor\", \"Bounds Green\", \"Bow Road\", \"Brent Cross\", \"Brixton\", \"Bromley-by-Bow\", \"Buckhurst Hill\", \"Burnt Oak\", \"Caledonian Road\", \"Camden Town\", \"Canada Water\", \"Canary Wharf\", \"Canning Town\", \"Cannon Street\", \"Canons Park\", \"Chalfont & Latimer\", \"Chalk Farm\", \"Chancery Lane\", \"Charing Cross\", \"Chesham\", \"Chigwell\", \"Chiswick Park\", \"Chorleywood\", \"Clapham Common\", \"Clapham North\", \"Clapham South\", \"Cockfosters\", \"Colindale\", \"Colliers Wood\", \"Covent Garden\", \"Croxley\", \"Dagenham East\", \"Dagenham Heathway\", \"Debden\", \"Dollis Hill\", \"Ealing Broadway\", \"Ealing Common\", \"Earl's Court\", \"East Acton\", \"East Finchley\", \"East Ham\", \"East Putney\", \"Eastcote\", \"Edgware\", \"Edgware Road\", \"Elephant & Castle\", \"Elm Park\", \"Embankment\", \"Epping\", \"Euston\", \"Euston Square\", \"Fairlop\", \"Farringdon\", \"Finchley Central\", \"Finchley Road\", \"Finsbury Park\", \"Fulham Broadway\", \"Gants Hill\", \"Gloucester Road\", \"Golders Green\", \"Goldhawk Road\", \"Goodge Street\", \"Grange Hill\", \"Great Portland Street\", \"Greenford\", \"Green Park\", \"Gunnersbury\", \"Hainault\", \"Hammersmith (District and Piccadilly)\", \"Hammersmith (Circle and H&C)\", \"Hampstead\", \"Hanger Lane\", \"Harlesden\", \"Harrow & Wealdstone\", \"Harrow-on-the-Hill\", \"Hatton Cross\", \"Heathrow Terminals 2 & 3\", \"Heathrow Terminal 4\", \"Heathrow Terminal 5\", \"Hendon Central\", \"High Barnet\", \"Highbury & Islington\", \"Highgate\", \"High Street Kensington\", \"Hillingdon\", \"Holborn\", \"Holland Park\", \"Holloway Road\", \"Hornchurch\", \"Hounslow Central\", \"Hounslow East\", \"Hounslow West\", \"Hyde Park Corner\", \"Ickenham\", \"Kennington\", \"Kensal Green\", \"Kensington (Olympia)\", \"Kentish Town\", \"Kenton\", \"Kew Gardens\", \"Kilburn\", \"Kilburn Park\", \"Kingsbury\", \"King's Cross St Pancras\", \"Knightsbridge\", \"Ladbroke Grove\", \"Lambeth North\", \"Lancaster Gate\", \"Latimer Road\", \"Leicester Square\", \"Leyton\", \"Leytonstone\", \"Liverpool Street\", \"London Bridge\", \"Loughton\", \"Maida Vale\", \"Manor House\", \"Mansion House\", \"Marble Arch\", \"Marylebone\", \"Mile End\", \"Mill Hill East\", \"Moorgate\", \"Moor Park\", \"Morden\", \"Mornington Crescent\", \"Neasden\", \"Newbury Park\", \"North Acton\", \"North Ealing\", \"North Greenwich\", \"North Harrow\", \"North Wembley\", \"Northfields\", \"Northolt\", \"Northwick Park\", \"Northwood\", \"Northwood Hills\", \"Notting Hill Gate\", \"Oakwood\", \"Old Street\", \"Osterley\", \"Oval\", \"Oxford Circus\", \"Paddington (Bakerloo, Circle, and District)\", \"Paddington (Circle and H&C)\", \"Park Royal\", \"Parsons Green\", \"Perivale\", \"Piccadilly Circus\", \"Pimlico\", \"Pinner\", \"Plaistow\", \"Preston Road\", \"Putney Bridge\", \"Queen's Park\", \"Queensbury\", \"Queensway\", \"Ravenscourt Park\", \"Rayners Lane\", \"Redbridge\", \"Regent's Park\", \"Richmond\", \"Rickmansworth\", \"Roding Valley\", \"Royal Oak\", \"Ruislip\", \"Ruislip Gardens\", \"Ruislip Manor\", \"Russell Square\", \"St. James's Park\", \"St. John's Wood\", \"St. Paul's\", \"Seven Sisters\", \"Shepherd's Bush\", \"Shepherd's Bush Market\", \"Sloane Square\", \"Snaresbrook\", \"South Ealing\", \"South Harrow\", \"South Kensington\", \"South Kenton\", \"South Ruislip\", \"South Wimbledon\", \"South Woodford\", \"Southfields\", \"Southgate\", \"Southwark\", \"Stamford Brook\", \"Stanmore\", \"Stepney Green\", \"Stockwell\", \"Stonebridge Park\", \"Stratford\", \"Sudbury Hill\", \"Sudbury Town\", \"Swiss Cottage\", \"Temple\", \"Theydon Bois\", \"Tooting Bec\", \"Tooting Broadway\", \"Tottenham Court Road\", \"Tottenham Hale\", \"Totteridge & Whetstone\", \"Tower Hill\", \"Tufnell Park\", \"Turnham Green\", \"Turnpike Lane\", \"Upminster\", \"Upminster Bridge\", \"Upney\", \"Upton Park\", \"Uxbridge\", \"Vauxhall\", \"Victoria\", \"Walthamstow Central\", \"Wanstead\", \"Warren Street\", \"Warwick Avenue\", \"Waterloo\", \"Watford\", \"Wembley Central\", \"Wembley Park\", \"West Acton\", \"West Brompton\", \"West Finchley\", \"West Ham\", \"West Hampstead\", \"West Harrow\", \"West Kensington\", \"West Ruislip\", \"Westbourne Park\", \"Westminster\", \"White City\", \"Whitechapel\", \"Willesden Green\", \"Willesden Junction\", \"Wimbledon\", \"Wimbledon Park\", \"Wood Green\", \"Wood Lane\", \"Woodford\", \"Woodside Park\"], \"textposition\": \"top center\", \"type\": \"scatter\", \"x\": [0.5146611767594043, 0.35926464263012964, 0.5179306025883111, 0.4783959657372199, 0.3874835195065035, 0.4415931255551079, 0.36325394031945246, 0.35829907237441416, 0.3389146243362374, 0.5855523181224053, 0.40193270462816655, 0.4800134682119342, 0.4671214569748792, 0.5520835694335925, 0.36270663532839914, 0.35350986474134455, 0.36146265784938947, 0.40537785531197046, 0.3126737284526595, 0.3017823638962778, 0.26816842696770526, 0.5055012260081191, 0.4612666805777723, 0.4246756919773415, 0.38711163980464025, 0.3624388029573669, 0.3715612930399913, 0.43608906074065196, 0.36591266399070715, 0.3919628168637587, 0.5651694446030844, 0.4238866156453554, 0.27034670632024144, 0.4491566486329573, 0.44381072150462947, 0.3485081026533665, 0.33984409401699167, 0.3851550890496927, 0.47482320693760144, 0.3514737907405205, 0.32098300060045765, 0.2995275466971388, 0.32914406305454813, 0.44627619059274914, 0.366403041899375, 0.42290041526993283, 0.4557180627656603, 0.4022516088822388, 0.31319441925881575, 0.3799456009125933, 0.2921316043982029, 0.3723932905162582, 0.3172893712553669, 0.35296375100413035, 0.4130524184481914, 0.19965775897050947, 0.49645166305384386, 0.4002683111502487, 0.3473995353314509, 0.22741953040940735, 0.5898456666202815, 0.5110085984371515, 0.4353424002531435, 0.38860503331710466, 0.5029860152167349, 0.5190821804983019, 0.43592579532687253, 0.4071063221655051, 0.4596176079576592, 0.5186679507181664, 0.5055985551735708, 0.436896257094414, 0.516520954914464, 0.31128949106349063, 0.515722003093177, 0.4990629791119604, 0.3136667886282119, 0.4309600214023413, 0.5044500258537097, 0.4651758373378763, 0.5076493056083838, 0.35604787085696404, 0.3942485802595902, 0.510375320247698, 0.35259746608654324, 0.272673686247163, 0.2833684086314795, 0.40984650144580237, 0.43523608700707356, 0.38288531435021944, 0.49729730949978573, 0.44498098686180254, 0.44733499997332477, 0.5012820926402387, 0.5012820926402387, 0.3674398636357261, 0.4228127242483276, 0.36944826433632644, 0.4899387898990159, 0.5304263002831182, 0.2840429829147552, 0.27188395057451864, 0.2044891748397544, 0.24096219298334015, 0.3507213787472198, 0.459046195424074, 0.5151325426822146, 0.5026609866127685, 0.41742984365831814, 0.44413590672058256, 0.4740304198626362, 0.3702840217434192, 0.34668331820199705, 0.48633653238371655, 0.21144768831856336, 0.257988501071166, 0.31986915430073587, 0.4056445125202262, 0.44298247279327135, 0.4082643845575026, 0.3518951532895205, 0.5019323321803459, 0.46596778562123453, 0.5110179594653637, 0.34577550726740663, 0.47112775319886563, 0.32184478335733135, 0.3053876656029928, 0.4994510639237889, 0.3848128562356488, 0.24110861389858088, 0.4146336808992325, 0.3217410939579538, 0.4428141446297684, 0.37824157048789225, 0.2939882921487604, 0.3521218158489453, 0.48665820708415153, 0.593006111683955, 0.4169883145184912, 0.2520994689401843, 0.3798377325485098, 0.37726172425449755, 0.31984055677874274, 0.4591834695927202, 0.38641423273042896, 0.4909605159310943, 0.5217042802916191, 0.28374377296085485, 0.3942798023225079, 0.29582032148491855, 0.3883934213485181, 0.4328406131310298, 0.4672517978189216, 0.4516640255125698, 0.29881366690706085, 0.3836168928607976, 0.41463417913244355, 0.3533209345929206, 0.4030481164960214, 0.33966859925064374, 0.3454454055146347, 0.2699619261304243, 0.3714888539972671, 0.4107627725064717, 0.5231696616659616, 0.28911910191877127, 0.337628912383224, 0.5202878684607276, 0.5916328593696571, 0.504045167018256, 0.5205501811775355, 0.346437322092292, 0.3076589738926225, 0.45281161912465007, 0.33241872335823663, 0.3415717476308976, 0.3908890436285041, 0.33734761482257386, 0.2937541795671983, 0.4306741591091879, 0.25078013046625236, 0.30488438484223157, 0.43146594106761194, 0.5160414940776822, 0.29235718857273163, 0.3888993931685401, 0.4561431959860542, 0.2856218590322095, 0.3585867662491611, 0.35272593827918547, 0.4778543541932645, 0.3703189428763628, 0.4812880082183126, 0.3577905666153835, 0.4429690876100154, 0.34397782274188954, 0.34531495476346136, 0.4042453247139748, 0.4264579019473927, 0.29997177752947146, 0.4679022549641221, 0.46788461296881334, 0.47864307206177, 0.4768102575168268, 0.5500545297530212, 0.4137280181368925, 0.3762455006213344, 0.3588334927997394, 0.4287840383450038, 0.372236893931004, 0.32806365424677736, 0.32982435590864606, 0.44859466495973893, 0.4834957551478012, 0.43626066530416757, 0.4517717723930445, 0.4548826524898263, 0.4847958624116134, 0.47540657431958927, 0.4898115894987983, 0.37940123686830113, 0.3904836425696884, 0.2792451713732469, 0.2967994362095283, 0.3316433270903768, 0.5073586101115047, 0.3772839926101827, 0.3570051950973613, 0.4141587990913135, 0.40714424607147587, 0.4496059728195966, 0.32366301161794947, 0.4477806407041986, 0.46687884259944273, 0.44073297991123933, 0.3765374944244879, 0.415236093518072, 0.3176079094570124, 0.5415339085649785, 0.3995082420539405, 0.27990374854526606, 0.419185864653197, 0.2665788174522935, 0.4335787260122705, 0.32424989309423696, 0.4665105968390212, 0.4227645072225209, 0.39690841940594973, 0.4290053362649886, 0.44927196551403614, 0.4994320295900236, 0.4965598623419077, 0.44969898717596013, 0.44147790132011067, 0.4742129245099763, 0.4199525673371488, 0.5461340798967516, 0.451319910103305, 0.4824919736825177, 0.4499869682142899, 0.5289091880081647, 0.3643805879709228, 0.41975870090051987, 0.3885260325147071, 0.39529669763175157, 0.4267396826685003, 0.4549536377134467], \"xaxis\": \"x\", \"y\": [0.08762438081301, 0.2149944747400354, 0.10787011737167741, 0.19715464845162237, 0.14760668373319832, -0.14992162793118405, -0.13599124870319707, -0.10777236600755587, -0.10181232835225716, 0.2182450040916724, -0.0298397185754155, -0.13105065525211232, 0.2887240721291885, 0.08087143343179094, 0.012377648279424832, 0.09635858656407231, 0.05558220250672035, 0.03640399548307388, -0.1363423792557805, -0.10918749909853186, 0.003085692403205435, -0.03433727767350317, -0.02923440633585072, -0.11260444131318195, -0.14496787974126724, -0.01671358516800942, -0.138178132369424, 0.07154777617177531, -0.1240910750994869, -0.127247099463119, 0.07007465835844828, -0.12883859601504224, -0.038737961725077416, 0.012687414274182492, -0.15495808421374838, -0.11358686211226145, -0.015866247276317767, 0.03234855455305395, -0.049692656784408255, -0.05480313641867144, 0.4575657360679362, -0.12572054023544585, -0.09352892901604043, -0.15095251964837633, 0.09233350310297486, 0.02290118508496975, -0.05910857008711937, 0.4734070004107977, -0.10931181904196097, -0.1459033339439452, -0.12580066507923018, -0.06089585563332932, -0.10225854067482437, -0.1619638753687894, -0.13517668293424903, 0.07189018392542615, -0.056427798790227024, 0.10341404145949958, -0.048436542560262044, -0.027487987057879415, 0.08787318479970305, 0.22794507110965243, -0.09013004421517781, 0.1437875082973792, -0.16447552058172804, -0.01881666332344729, -0.06144150380278174, 0.5287404248200487, -0.1534172133120318, 0.10146873961043924, -0.07953368380420034, -0.02476432464022529, -0.12236441196673861, -0.06645390271638081, -0.15571295253107945, 0.44106854779617083, -0.06612644109029582, 0.23930721115979645, -0.15546722503223856, 0.025611443457008585, -0.12641032524013282, -0.05797785043219252, -0.017235509525875662, -0.08116887389211229, -0.14379746496789572, -0.05747297870312787, -0.10209020828817758, -0.04531481470463388, 0.5218582839097187, 0.04023508833078522, -0.1284910444406819, 0.004363178187871064, -0.014094877721998977, -0.07844850577369851, -0.07844850577369851, -0.14807313433938404, -0.06219641747361327, -0.04023410485390885, 0.06970904945702197, 0.2840096507509369, -0.08905278729537866, -0.07922749898069466, -0.06541953411492452, -0.05131839587945074, -0.14735287365459585, -0.1516750158964466, -0.0778259953061571, -0.18796281706396373, 0.12445975769342238, 0.5365694854529895, -0.11701316934763828, -0.10430923842915646, -0.14135407393999783, -0.03605164020401404, -0.05835025069739957, -0.07773957195532613, -0.08880912880749321, -0.14404954209266604, 0.609095181147069, -0.1598942757988417, -0.06656238483094495, -0.06807922515992701, -0.08474809082416809, 0.024544369779241577, -0.019642915272961296, 0.04937248432888, -0.09683171698833305, -0.011039228355687224, -0.13122299513754432, -0.14578460955157288, -0.07641412383332488, 0.06322637242322211, -0.11310315947755936, -0.07871378636225222, -0.1527833784060112, -0.09850861608356799, -0.07766583915585373, -0.07848978982194688, 0.005804550132395164, 0.0016578579290077527, -0.10564339444011728, -0.11922006077691218, -0.05640407875140902, -0.11259842349536166, 0.01121429616837392, -0.03427490076620307, -0.14510605806117138, 0.2342346596702663, 0.15985292097178042, -0.16795314610302794, -0.10951139507474014, 0.02960486033839403, -0.012599585630386987, -0.03880586352131631, 0.2538864749256217, -0.07073058070103194, 0.31184380641639925, 0.10981597716776695, -0.0403231239196512, -0.051212593523906086, 0.5476814905819463, 0.2903787562072262, 0.23075993968263195, -0.09373421545918985, -0.10751140718292128, -0.07508491098343234, -0.0670627517090632, -0.11906316372422157, -0.05097459228671449, -0.09754793514872305, -0.0384971411777965, 0.13706059298989934, -0.009845790518532386, -0.08075927258885479, -0.1367494209600683, -0.10698439711188762, 0.1610738688412846, -0.025737971452242745, 0.5138740546319784, -0.059593063489676315, 0.08541961084136658, -0.05785499678065042, -0.09635417316552765, -0.021160087542513903, 0.5850625565565774, -0.1095292233262495, 0.12553676964359312, -0.04629326168895663, 0.13585357672330325, -0.020268616366019208, -0.0446237955370785, 0.5913013066895221, 0.06536295544225207, 0.5925116922520253, -0.12322426177570664, -0.08527776578792137, -0.0700824590645961, -0.11443182366026368, -0.10675109907951086, -0.1153595994784966, -0.059011994489574005, -0.08589274107192751, -0.13034049199220876, -0.028816568364502748, 0.24694333155781353, -0.0993314233621115, -0.011897536540226608, 0.045276895368601994, -0.16085948808176362, -0.11390535438043814, -0.09572645862516627, -0.1204115954567934, -0.12694322871964073, -0.014766240982492435, 0.14331389115866575, 0.18467350206793964, -0.16711938796167164, -0.06569818958805652, -0.062005476085782676, 0.23078284041960287, 0.19291812570455644, -0.04386459522896924, -0.06440532452037052, -0.0936732458158073, -0.12499692608819853, -0.08029324223925002, -0.17605518295497494, -0.012013154150800455, -0.11328639775530876, 0.19798708985609303, -0.15039667489535058, -0.006185084050922765, -0.10875772441616771, 0.05737701259874923, -0.061145583977342495, 0.10108947545476193, -0.04483548063108445, 0.43948267749387415, -0.07881044189732687, -0.039482620026221354, -0.05612490471835327, -0.11075468959512284, -0.11914090778791847, -0.10635122580903313, -0.11114981327962568, 0.03581486199795664, 0.07117731007472272, 0.03547450074125951, -0.04809899417237152, -0.06819769645885418, -0.13824944653037854, -0.025705225041637688, -0.06568153377726868, 0.6826906333820254, -0.010581023821451112, 0.0983750602717924, -0.045337059264653784, -0.12273055618616241, -0.09384520220814573, -0.0007018828370043275, -0.02018609196823912, -0.012046625337529916, -0.0656440140843476, -0.059437910356172324, -0.1170411390472563, -0.060677436246505415, -0.11596334716231357, -0.1296476699210375], \"yaxis\": \"y\"}],\n",
       "                        {\"height\": 600, \"legend\": {\"tracegroupgap\": 0}, \"margin\": {\"t\": 60}, \"template\": {\"data\": {\"bar\": [{\"error_x\": {\"color\": \"#2a3f5f\"}, \"error_y\": {\"color\": \"#2a3f5f\"}, \"marker\": {\"line\": {\"color\": \"#E5ECF6\", \"width\": 0.5}}, \"type\": \"bar\"}], \"barpolar\": [{\"marker\": {\"line\": {\"color\": \"#E5ECF6\", \"width\": 0.5}}, \"type\": \"barpolar\"}], \"carpet\": [{\"aaxis\": {\"endlinecolor\": \"#2a3f5f\", \"gridcolor\": \"white\", \"linecolor\": \"white\", \"minorgridcolor\": \"white\", \"startlinecolor\": \"#2a3f5f\"}, \"baxis\": {\"endlinecolor\": \"#2a3f5f\", \"gridcolor\": \"white\", \"linecolor\": \"white\", \"minorgridcolor\": \"white\", \"startlinecolor\": \"#2a3f5f\"}, \"type\": \"carpet\"}], \"choropleth\": [{\"colorbar\": {\"outlinewidth\": 0, \"ticks\": \"\"}, \"type\": \"choropleth\"}], \"contour\": [{\"colorbar\": {\"outlinewidth\": 0, \"ticks\": \"\"}, \"colorscale\": [[0.0, \"#0d0887\"], [0.1111111111111111, \"#46039f\"], [0.2222222222222222, \"#7201a8\"], [0.3333333333333333, \"#9c179e\"], [0.4444444444444444, \"#bd3786\"], [0.5555555555555556, \"#d8576b\"], [0.6666666666666666, \"#ed7953\"], [0.7777777777777778, \"#fb9f3a\"], [0.8888888888888888, \"#fdca26\"], [1.0, \"#f0f921\"]], \"type\": \"contour\"}], \"contourcarpet\": [{\"colorbar\": {\"outlinewidth\": 0, \"ticks\": \"\"}, \"type\": \"contourcarpet\"}], \"heatmap\": [{\"colorbar\": {\"outlinewidth\": 0, \"ticks\": \"\"}, \"colorscale\": [[0.0, \"#0d0887\"], [0.1111111111111111, \"#46039f\"], [0.2222222222222222, \"#7201a8\"], [0.3333333333333333, \"#9c179e\"], [0.4444444444444444, \"#bd3786\"], [0.5555555555555556, \"#d8576b\"], [0.6666666666666666, \"#ed7953\"], [0.7777777777777778, \"#fb9f3a\"], [0.8888888888888888, \"#fdca26\"], [1.0, \"#f0f921\"]], \"type\": \"heatmap\"}], \"heatmapgl\": [{\"colorbar\": {\"outlinewidth\": 0, \"ticks\": \"\"}, \"colorscale\": [[0.0, \"#0d0887\"], [0.1111111111111111, \"#46039f\"], [0.2222222222222222, \"#7201a8\"], [0.3333333333333333, \"#9c179e\"], [0.4444444444444444, \"#bd3786\"], [0.5555555555555556, \"#d8576b\"], [0.6666666666666666, \"#ed7953\"], [0.7777777777777778, \"#fb9f3a\"], [0.8888888888888888, \"#fdca26\"], [1.0, \"#f0f921\"]], \"type\": \"heatmapgl\"}], \"histogram\": [{\"marker\": {\"colorbar\": {\"outlinewidth\": 0, \"ticks\": \"\"}}, \"type\": \"histogram\"}], \"histogram2d\": [{\"colorbar\": {\"outlinewidth\": 0, \"ticks\": \"\"}, \"colorscale\": [[0.0, \"#0d0887\"], [0.1111111111111111, \"#46039f\"], [0.2222222222222222, \"#7201a8\"], [0.3333333333333333, \"#9c179e\"], [0.4444444444444444, \"#bd3786\"], [0.5555555555555556, \"#d8576b\"], [0.6666666666666666, \"#ed7953\"], [0.7777777777777778, \"#fb9f3a\"], [0.8888888888888888, \"#fdca26\"], [1.0, \"#f0f921\"]], \"type\": \"histogram2d\"}], \"histogram2dcontour\": [{\"colorbar\": {\"outlinewidth\": 0, \"ticks\": \"\"}, \"colorscale\": [[0.0, \"#0d0887\"], [0.1111111111111111, \"#46039f\"], [0.2222222222222222, \"#7201a8\"], [0.3333333333333333, \"#9c179e\"], [0.4444444444444444, \"#bd3786\"], [0.5555555555555556, \"#d8576b\"], [0.6666666666666666, \"#ed7953\"], [0.7777777777777778, \"#fb9f3a\"], [0.8888888888888888, \"#fdca26\"], [1.0, \"#f0f921\"]], \"type\": \"histogram2dcontour\"}], \"mesh3d\": [{\"colorbar\": {\"outlinewidth\": 0, \"ticks\": \"\"}, \"type\": \"mesh3d\"}], \"parcoords\": [{\"line\": {\"colorbar\": {\"outlinewidth\": 0, \"ticks\": \"\"}}, \"type\": \"parcoords\"}], \"scatter\": [{\"marker\": {\"colorbar\": {\"outlinewidth\": 0, \"ticks\": \"\"}}, \"type\": \"scatter\"}], \"scatter3d\": [{\"line\": {\"colorbar\": {\"outlinewidth\": 0, \"ticks\": \"\"}}, \"marker\": {\"colorbar\": {\"outlinewidth\": 0, \"ticks\": \"\"}}, \"type\": \"scatter3d\"}], \"scattercarpet\": [{\"marker\": {\"colorbar\": {\"outlinewidth\": 0, \"ticks\": \"\"}}, \"type\": \"scattercarpet\"}], \"scattergeo\": [{\"marker\": {\"colorbar\": {\"outlinewidth\": 0, \"ticks\": \"\"}}, \"type\": \"scattergeo\"}], \"scattergl\": [{\"marker\": {\"colorbar\": {\"outlinewidth\": 0, \"ticks\": \"\"}}, \"type\": \"scattergl\"}], \"scattermapbox\": [{\"marker\": {\"colorbar\": {\"outlinewidth\": 0, \"ticks\": \"\"}}, \"type\": \"scattermapbox\"}], \"scatterpolar\": [{\"marker\": {\"colorbar\": {\"outlinewidth\": 0, \"ticks\": \"\"}}, \"type\": \"scatterpolar\"}], \"scatterpolargl\": [{\"marker\": {\"colorbar\": {\"outlinewidth\": 0, \"ticks\": \"\"}}, \"type\": \"scatterpolargl\"}], \"scatterternary\": [{\"marker\": {\"colorbar\": {\"outlinewidth\": 0, \"ticks\": \"\"}}, \"type\": \"scatterternary\"}], \"surface\": [{\"colorbar\": {\"outlinewidth\": 0, \"ticks\": \"\"}, \"colorscale\": [[0.0, \"#0d0887\"], [0.1111111111111111, \"#46039f\"], [0.2222222222222222, \"#7201a8\"], [0.3333333333333333, \"#9c179e\"], [0.4444444444444444, \"#bd3786\"], [0.5555555555555556, \"#d8576b\"], [0.6666666666666666, \"#ed7953\"], [0.7777777777777778, \"#fb9f3a\"], [0.8888888888888888, \"#fdca26\"], [1.0, \"#f0f921\"]], \"type\": \"surface\"}], \"table\": [{\"cells\": {\"fill\": {\"color\": \"#EBF0F8\"}, \"line\": {\"color\": \"white\"}}, \"header\": {\"fill\": {\"color\": \"#C8D4E3\"}, \"line\": {\"color\": \"white\"}}, \"type\": \"table\"}]}, \"layout\": {\"annotationdefaults\": {\"arrowcolor\": \"#2a3f5f\", \"arrowhead\": 0, \"arrowwidth\": 1}, \"colorscale\": {\"diverging\": [[0, \"#8e0152\"], [0.1, \"#c51b7d\"], [0.2, \"#de77ae\"], [0.3, \"#f1b6da\"], [0.4, \"#fde0ef\"], [0.5, \"#f7f7f7\"], [0.6, \"#e6f5d0\"], [0.7, \"#b8e186\"], [0.8, \"#7fbc41\"], [0.9, \"#4d9221\"], [1, \"#276419\"]], \"sequential\": [[0.0, \"#0d0887\"], [0.1111111111111111, \"#46039f\"], [0.2222222222222222, \"#7201a8\"], [0.3333333333333333, \"#9c179e\"], [0.4444444444444444, \"#bd3786\"], [0.5555555555555556, \"#d8576b\"], [0.6666666666666666, \"#ed7953\"], [0.7777777777777778, \"#fb9f3a\"], [0.8888888888888888, \"#fdca26\"], [1.0, \"#f0f921\"]], \"sequentialminus\": [[0.0, \"#0d0887\"], [0.1111111111111111, \"#46039f\"], [0.2222222222222222, \"#7201a8\"], [0.3333333333333333, \"#9c179e\"], [0.4444444444444444, \"#bd3786\"], [0.5555555555555556, \"#d8576b\"], [0.6666666666666666, \"#ed7953\"], [0.7777777777777778, \"#fb9f3a\"], [0.8888888888888888, \"#fdca26\"], [1.0, \"#f0f921\"]]}, \"colorway\": [\"#636efa\", \"#EF553B\", \"#00cc96\", \"#ab63fa\", \"#FFA15A\", \"#19d3f3\", \"#FF6692\", \"#B6E880\", \"#FF97FF\", \"#FECB52\"], \"font\": {\"color\": \"#2a3f5f\"}, \"geo\": {\"bgcolor\": \"white\", \"lakecolor\": \"white\", \"landcolor\": \"#E5ECF6\", \"showlakes\": true, \"showland\": true, \"subunitcolor\": \"white\"}, \"hoverlabel\": {\"align\": \"left\"}, \"hovermode\": \"closest\", \"mapbox\": {\"style\": \"light\"}, \"paper_bgcolor\": \"white\", \"plot_bgcolor\": \"#E5ECF6\", \"polar\": {\"angularaxis\": {\"gridcolor\": \"white\", \"linecolor\": \"white\", \"ticks\": \"\"}, \"bgcolor\": \"#E5ECF6\", \"radialaxis\": {\"gridcolor\": \"white\", \"linecolor\": \"white\", \"ticks\": \"\"}}, \"scene\": {\"xaxis\": {\"backgroundcolor\": \"#E5ECF6\", \"gridcolor\": \"white\", \"gridwidth\": 2, \"linecolor\": \"white\", \"showbackground\": true, \"ticks\": \"\", \"zerolinecolor\": \"white\"}, \"yaxis\": {\"backgroundcolor\": \"#E5ECF6\", \"gridcolor\": \"white\", \"gridwidth\": 2, \"linecolor\": \"white\", \"showbackground\": true, \"ticks\": \"\", \"zerolinecolor\": \"white\"}, \"zaxis\": {\"backgroundcolor\": \"#E5ECF6\", \"gridcolor\": \"white\", \"gridwidth\": 2, \"linecolor\": \"white\", \"showbackground\": true, \"ticks\": \"\", \"zerolinecolor\": \"white\"}}, \"shapedefaults\": {\"line\": {\"color\": \"#2a3f5f\"}}, \"ternary\": {\"aaxis\": {\"gridcolor\": \"white\", \"linecolor\": \"white\", \"ticks\": \"\"}, \"baxis\": {\"gridcolor\": \"white\", \"linecolor\": \"white\", \"ticks\": \"\"}, \"bgcolor\": \"#E5ECF6\", \"caxis\": {\"gridcolor\": \"white\", \"linecolor\": \"white\", \"ticks\": \"\"}}, \"title\": {\"x\": 0.05}, \"xaxis\": {\"automargin\": true, \"gridcolor\": \"white\", \"linecolor\": \"white\", \"ticks\": \"\", \"zerolinecolor\": \"white\", \"zerolinewidth\": 2}, \"yaxis\": {\"automargin\": true, \"gridcolor\": \"white\", \"linecolor\": \"white\", \"ticks\": \"\", \"zerolinecolor\": \"white\", \"zerolinewidth\": 2}}}, \"xaxis\": {\"anchor\": \"y\", \"domain\": [0.0, 0.98], \"title\": {\"text\": \"x\"}}, \"yaxis\": {\"anchor\": \"x\", \"domain\": [0.0, 1.0], \"title\": {\"text\": \"y\"}}},\n",
       "                        {\"responsive\": true}\n",
       "                    ).then(function(){\n",
       "                            \n",
       "var gd = document.getElementById('b9078f95-cc6e-4c71-82f1-18d38abb8821');\n",
       "var x = new MutationObserver(function (mutations, observer) {{\n",
       "        var display = window.getComputedStyle(gd).display;\n",
       "        if (!display || display === 'none') {{\n",
       "            console.log([gd, 'removed!']);\n",
       "            Plotly.purge(gd);\n",
       "            observer.disconnect();\n",
       "        }}\n",
       "}});\n",
       "\n",
       "// Listen for the removal of the full notebook cells\n",
       "var notebookContainer = gd.closest('#notebook-container');\n",
       "if (notebookContainer) {{\n",
       "    x.observe(notebookContainer, {childList: true});\n",
       "}}\n",
       "\n",
       "// Listen for the clearing of the current output cell\n",
       "var outputEl = gd.closest('.output');\n",
       "if (outputEl) {{\n",
       "    x.observe(outputEl, {childList: true});\n",
       "}}\n",
       "\n",
       "                        })\n",
       "                };\n",
       "                });\n",
       "            </script>\n",
       "        </div>"
      ]
     },
     "metadata": {},
     "output_type": "display_data"
    }
   ],
   "source": [
    "from sklearn.cluster import AgglomerativeClustering\n",
    "import plotly.express as px\n",
    "import plotly.figure_factory as ff\n",
    "\n",
    "# clustering = AgglomerativeClustering(n_clusters=11).fit(vectors.toarray())\n",
    "svd2 = TruncatedSVD(n_components=2)\n",
    "twoD = svd2.fit_transform(vectors.toarray())\n",
    "# # cluster2D = AgglomerativeClustering(n_clusters=11).fit(twoD)\n",
    "# jjj = px.scatter(twoD)\n",
    "# jjj.show()\n",
    "\n",
    "def view_2D(points):\n",
    "    temp = pd.DataFrame(points, columns=[\"x\", \"y\"])\n",
    "    temp[\"Word\"] = tube_stations.index.values\n",
    "#     temp[\"POS\"] = mc_w2v.POS.values\n",
    "    fig = px.scatter(temp, x=\"x\", y=\"y\", text=\"Word\")\n",
    "    fig.update_traces(textposition=\"top center\")\n",
    "    fig.show()\n",
    "view_2D(twoD)\n",
    "\n"
   ]
  },
  {
   "cell_type": "code",
   "execution_count": 37,
   "metadata": {},
   "outputs": [
    {
     "data": {
      "application/vnd.plotly.v1+json": {
       "config": {
        "plotlyServerURL": "https://plot.ly"
       },
       "data": [
        {
         "hoverinfo": "text",
         "marker": {
          "color": "rgb(61,153,112)"
         },
         "mode": "lines",
         "type": "scatter",
         "x": [
          25,
          25,
          35,
          35
         ],
         "xaxis": "x",
         "y": [
          0,
          0.42240515687693697,
          0.42240515687693697,
          0
         ],
         "yaxis": "y"
        },
        {
         "hoverinfo": "text",
         "marker": {
          "color": "rgb(61,153,112)"
         },
         "mode": "lines",
         "type": "scatter",
         "x": [
          15,
          15,
          30,
          30
         ],
         "xaxis": "x",
         "y": [
          0,
          0.6227349344126765,
          0.6227349344126765,
          0.42240515687693697
         ],
         "yaxis": "y"
        },
        {
         "hoverinfo": "text",
         "marker": {
          "color": "rgb(61,153,112)"
         },
         "mode": "lines",
         "type": "scatter",
         "x": [
          5,
          5,
          22.5,
          22.5
         ],
         "xaxis": "x",
         "y": [
          0,
          0.8998010431147485,
          0.8998010431147485,
          0.6227349344126765
         ],
         "yaxis": "y"
        },
        {
         "hoverinfo": "text",
         "marker": {
          "color": "rgb(255,65,54)"
         },
         "mode": "lines",
         "type": "scatter",
         "x": [
          65,
          65,
          75,
          75
         ],
         "xaxis": "x",
         "y": [
          0,
          0.3478627533566429,
          0.3478627533566429,
          0
         ],
         "yaxis": "y"
        },
        {
         "hoverinfo": "text",
         "marker": {
          "color": "rgb(255,65,54)"
         },
         "mode": "lines",
         "type": "scatter",
         "x": [
          55,
          55,
          70,
          70
         ],
         "xaxis": "x",
         "y": [
          0,
          0.6175799875365046,
          0.6175799875365046,
          0.3478627533566429
         ],
         "yaxis": "y"
        },
        {
         "hoverinfo": "text",
         "marker": {
          "color": "rgb(0,116,217)"
         },
         "mode": "lines",
         "type": "scatter",
         "x": [
          85,
          85,
          95,
          95
         ],
         "xaxis": "x",
         "y": [
          0,
          1.0610817838484234,
          1.0610817838484234,
          0
         ],
         "yaxis": "y"
        },
        {
         "hoverinfo": "text",
         "marker": {
          "color": "rgb(0,116,217)"
         },
         "mode": "lines",
         "type": "scatter",
         "x": [
          62.5,
          62.5,
          90,
          90
         ],
         "xaxis": "x",
         "y": [
          0.6175799875365046,
          1.221105332438068,
          1.221105332438068,
          1.0610817838484234
         ],
         "yaxis": "y"
        },
        {
         "hoverinfo": "text",
         "marker": {
          "color": "rgb(0,116,217)"
         },
         "mode": "lines",
         "type": "scatter",
         "x": [
          45,
          45,
          76.25,
          76.25
         ],
         "xaxis": "x",
         "y": [
          0,
          1.2931984386740938,
          1.2931984386740938,
          1.221105332438068
         ],
         "yaxis": "y"
        },
        {
         "hoverinfo": "text",
         "marker": {
          "color": "rgb(0,116,217)"
         },
         "mode": "lines",
         "type": "scatter",
         "x": [
          13.75,
          13.75,
          60.625,
          60.625
         ],
         "xaxis": "x",
         "y": [
          0.8998010431147485,
          1.3754864218405751,
          1.3754864218405751,
          1.2931984386740938
         ],
         "yaxis": "y"
        },
        {
         "hoverinfo": "text",
         "marker": {
          "color": "rgb(35,205,205)"
         },
         "mode": "lines",
         "type": "scatter",
         "x": [
          105,
          105,
          115,
          115
         ],
         "xaxis": "x",
         "y": [
          0,
          0.9273792744257061,
          0.9273792744257061,
          0
         ],
         "yaxis": "y"
        },
        {
         "hoverinfo": "text",
         "marker": {
          "color": "rgb(133,20,75)"
         },
         "mode": "lines",
         "type": "scatter",
         "x": [
          155,
          155,
          165,
          165
         ],
         "xaxis": "x",
         "y": [
          0,
          0.7692996652608238,
          0.7692996652608238,
          0
         ],
         "yaxis": "y"
        },
        {
         "hoverinfo": "text",
         "marker": {
          "color": "rgb(0,116,217)"
         },
         "mode": "lines",
         "type": "scatter",
         "x": [
          145,
          145,
          160,
          160
         ],
         "xaxis": "x",
         "y": [
          0,
          1.0283309180967335,
          1.0283309180967335,
          0.7692996652608238
         ],
         "yaxis": "y"
        },
        {
         "hoverinfo": "text",
         "marker": {
          "color": "rgb(0,116,217)"
         },
         "mode": "lines",
         "type": "scatter",
         "x": [
          135,
          135,
          152.5,
          152.5
         ],
         "xaxis": "x",
         "y": [
          0,
          1.14568978351394,
          1.14568978351394,
          1.0283309180967335
         ],
         "yaxis": "y"
        },
        {
         "hoverinfo": "text",
         "marker": {
          "color": "rgb(0,116,217)"
         },
         "mode": "lines",
         "type": "scatter",
         "x": [
          125,
          125,
          143.75,
          143.75
         ],
         "xaxis": "x",
         "y": [
          0,
          1.1945238902454736,
          1.1945238902454736,
          1.14568978351394
         ],
         "yaxis": "y"
        },
        {
         "hoverinfo": "text",
         "marker": {
          "color": "rgb(255,220,0)"
         },
         "mode": "lines",
         "type": "scatter",
         "x": [
          195,
          195,
          205,
          205
         ],
         "xaxis": "x",
         "y": [
          0,
          0.9031425724902942,
          0.9031425724902942,
          0
         ],
         "yaxis": "y"
        },
        {
         "hoverinfo": "text",
         "marker": {
          "color": "rgb(0,116,217)"
         },
         "mode": "lines",
         "type": "scatter",
         "x": [
          185,
          185,
          200,
          200
         ],
         "xaxis": "x",
         "y": [
          0,
          1.132904348139233,
          1.132904348139233,
          0.9031425724902942
         ],
         "yaxis": "y"
        },
        {
         "hoverinfo": "text",
         "marker": {
          "color": "rgb(0,116,217)"
         },
         "mode": "lines",
         "type": "scatter",
         "x": [
          175,
          175,
          192.5,
          192.5
         ],
         "xaxis": "x",
         "y": [
          0,
          1.2176262193008671,
          1.2176262193008671,
          1.132904348139233
         ],
         "yaxis": "y"
        },
        {
         "hoverinfo": "text",
         "marker": {
          "color": "rgb(0,116,217)"
         },
         "mode": "lines",
         "type": "scatter",
         "x": [
          134.375,
          134.375,
          183.75,
          183.75
         ],
         "xaxis": "x",
         "y": [
          1.1945238902454736,
          1.2987909624796878,
          1.2987909624796878,
          1.2176262193008671
         ],
         "yaxis": "y"
        },
        {
         "hoverinfo": "text",
         "marker": {
          "color": "rgb(0,116,217)"
         },
         "mode": "lines",
         "type": "scatter",
         "x": [
          110,
          110,
          159.0625,
          159.0625
         ],
         "xaxis": "x",
         "y": [
          0.9273792744257061,
          1.34924354907317,
          1.34924354907317,
          1.2987909624796878
         ],
         "yaxis": "y"
        },
        {
         "hoverinfo": "text",
         "marker": {
          "color": "rgb(40,35,35)"
         },
         "mode": "lines",
         "type": "scatter",
         "x": [
          225,
          225,
          235,
          235
         ],
         "xaxis": "x",
         "y": [
          0,
          0.8927545911102477,
          0.8927545911102477,
          0
         ],
         "yaxis": "y"
        },
        {
         "hoverinfo": "text",
         "marker": {
          "color": "rgb(0,116,217)"
         },
         "mode": "lines",
         "type": "scatter",
         "x": [
          215,
          215,
          230,
          230
         ],
         "xaxis": "x",
         "y": [
          0,
          1.1063618954757113,
          1.1063618954757113,
          0.8927545911102477
         ],
         "yaxis": "y"
        },
        {
         "hoverinfo": "text",
         "marker": {
          "color": "rgb(61,153,112)"
         },
         "mode": "lines",
         "type": "scatter",
         "x": [
          245,
          245,
          255,
          255
         ],
         "xaxis": "x",
         "y": [
          0,
          0.8520523136800451,
          0.8520523136800451,
          0
         ],
         "yaxis": "y"
        },
        {
         "hoverinfo": "text",
         "marker": {
          "color": "rgb(255,65,54)"
         },
         "mode": "lines",
         "type": "scatter",
         "x": [
          265,
          265,
          275,
          275
         ],
         "xaxis": "x",
         "y": [
          0,
          0.9665491595406999,
          0.9665491595406999,
          0
         ],
         "yaxis": "y"
        },
        {
         "hoverinfo": "text",
         "marker": {
          "color": "rgb(0,116,217)"
         },
         "mode": "lines",
         "type": "scatter",
         "x": [
          250,
          250,
          270,
          270
         ],
         "xaxis": "x",
         "y": [
          0.8520523136800451,
          1.1519349023979542,
          1.1519349023979542,
          0.9665491595406999
         ],
         "yaxis": "y"
        },
        {
         "hoverinfo": "text",
         "marker": {
          "color": "rgb(0,116,217)"
         },
         "mode": "lines",
         "type": "scatter",
         "x": [
          285,
          285,
          295,
          295
         ],
         "xaxis": "x",
         "y": [
          0,
          1.1728682833523927,
          1.1728682833523927,
          0
         ],
         "yaxis": "y"
        },
        {
         "hoverinfo": "text",
         "marker": {
          "color": "rgb(0,116,217)"
         },
         "mode": "lines",
         "type": "scatter",
         "x": [
          260,
          260,
          290,
          290
         ],
         "xaxis": "x",
         "y": [
          1.1519349023979542,
          1.2285359855937716,
          1.2285359855937716,
          1.1728682833523927
         ],
         "yaxis": "y"
        },
        {
         "hoverinfo": "text",
         "marker": {
          "color": "rgb(0,116,217)"
         },
         "mode": "lines",
         "type": "scatter",
         "x": [
          222.5,
          222.5,
          275,
          275
         ],
         "xaxis": "x",
         "y": [
          1.1063618954757113,
          1.3280669069261894,
          1.3280669069261894,
          1.2285359855937716
         ],
         "yaxis": "y"
        },
        {
         "hoverinfo": "text",
         "marker": {
          "color": "rgb(0,116,217)"
         },
         "mode": "lines",
         "type": "scatter",
         "x": [
          305,
          305,
          315,
          315
         ],
         "xaxis": "x",
         "y": [
          0,
          1.1775819164110009,
          1.1775819164110009,
          0
         ],
         "yaxis": "y"
        },
        {
         "hoverinfo": "text",
         "marker": {
          "color": "rgb(0,116,217)"
         },
         "mode": "lines",
         "type": "scatter",
         "x": [
          325,
          325,
          335,
          335
         ],
         "xaxis": "x",
         "y": [
          0,
          1.2519288167795015,
          1.2519288167795015,
          0
         ],
         "yaxis": "y"
        },
        {
         "hoverinfo": "text",
         "marker": {
          "color": "rgb(0,116,217)"
         },
         "mode": "lines",
         "type": "scatter",
         "x": [
          310,
          310,
          330,
          330
         ],
         "xaxis": "x",
         "y": [
          1.1775819164110009,
          1.2844612857715567,
          1.2844612857715567,
          1.2519288167795015
         ],
         "yaxis": "y"
        },
        {
         "hoverinfo": "text",
         "marker": {
          "color": "rgb(0,116,217)"
         },
         "mode": "lines",
         "type": "scatter",
         "x": [
          355,
          355,
          365,
          365
         ],
         "xaxis": "x",
         "y": [
          0,
          1.0524428956859357,
          1.0524428956859357,
          0
         ],
         "yaxis": "y"
        },
        {
         "hoverinfo": "text",
         "marker": {
          "color": "rgb(0,116,217)"
         },
         "mode": "lines",
         "type": "scatter",
         "x": [
          345,
          345,
          360,
          360
         ],
         "xaxis": "x",
         "y": [
          0,
          1.254596430292282,
          1.254596430292282,
          1.0524428956859357
         ],
         "yaxis": "y"
        },
        {
         "hoverinfo": "text",
         "marker": {
          "color": "rgb(0,116,217)"
         },
         "mode": "lines",
         "type": "scatter",
         "x": [
          375,
          375,
          385,
          385
         ],
         "xaxis": "x",
         "y": [
          0,
          1.1453967193887677,
          1.1453967193887677,
          0
         ],
         "yaxis": "y"
        },
        {
         "hoverinfo": "text",
         "marker": {
          "color": "rgb(0,116,217)"
         },
         "mode": "lines",
         "type": "scatter",
         "x": [
          395,
          395,
          405,
          405
         ],
         "xaxis": "x",
         "y": [
          0,
          1.265087360214648,
          1.265087360214648,
          0
         ],
         "yaxis": "y"
        },
        {
         "hoverinfo": "text",
         "marker": {
          "color": "rgb(0,116,217)"
         },
         "mode": "lines",
         "type": "scatter",
         "x": [
          380,
          380,
          400,
          400
         ],
         "xaxis": "x",
         "y": [
          1.1453967193887677,
          1.2877852145570043,
          1.2877852145570043,
          1.265087360214648
         ],
         "yaxis": "y"
        },
        {
         "hoverinfo": "text",
         "marker": {
          "color": "rgb(0,116,217)"
         },
         "mode": "lines",
         "type": "scatter",
         "x": [
          352.5,
          352.5,
          390,
          390
         ],
         "xaxis": "x",
         "y": [
          1.254596430292282,
          1.3216704082587685,
          1.3216704082587685,
          1.2877852145570043
         ],
         "yaxis": "y"
        },
        {
         "hoverinfo": "text",
         "marker": {
          "color": "rgb(0,116,217)"
         },
         "mode": "lines",
         "type": "scatter",
         "x": [
          320,
          320,
          371.25,
          371.25
         ],
         "xaxis": "x",
         "y": [
          1.2844612857715567,
          1.3409441004758627,
          1.3409441004758627,
          1.3216704082587685
         ],
         "yaxis": "y"
        },
        {
         "hoverinfo": "text",
         "marker": {
          "color": "rgb(0,116,217)"
         },
         "mode": "lines",
         "type": "scatter",
         "x": [
          248.75,
          248.75,
          345.625,
          345.625
         ],
         "xaxis": "x",
         "y": [
          1.3280669069261894,
          1.348792602014047,
          1.348792602014047,
          1.3409441004758627
         ],
         "yaxis": "y"
        },
        {
         "hoverinfo": "text",
         "marker": {
          "color": "rgb(35,205,205)"
         },
         "mode": "lines",
         "type": "scatter",
         "x": [
          435,
          435,
          445,
          445
         ],
         "xaxis": "x",
         "y": [
          0,
          0.7174248598366338,
          0.7174248598366338,
          0
         ],
         "yaxis": "y"
        },
        {
         "hoverinfo": "text",
         "marker": {
          "color": "rgb(35,205,205)"
         },
         "mode": "lines",
         "type": "scatter",
         "x": [
          425,
          425,
          440,
          440
         ],
         "xaxis": "x",
         "y": [
          0,
          0.8585368671056559,
          0.8585368671056559,
          0.7174248598366338
         ],
         "yaxis": "y"
        },
        {
         "hoverinfo": "text",
         "marker": {
          "color": "rgb(0,116,217)"
         },
         "mode": "lines",
         "type": "scatter",
         "x": [
          415,
          415,
          432.5,
          432.5
         ],
         "xaxis": "x",
         "y": [
          0,
          1.036664919756365,
          1.036664919756365,
          0.8585368671056559
         ],
         "yaxis": "y"
        },
        {
         "hoverinfo": "text",
         "marker": {
          "color": "rgb(133,20,75)"
         },
         "mode": "lines",
         "type": "scatter",
         "x": [
          455,
          455,
          465,
          465
         ],
         "xaxis": "x",
         "y": [
          0,
          0.8411042763517581,
          0.8411042763517581,
          0
         ],
         "yaxis": "y"
        },
        {
         "hoverinfo": "text",
         "marker": {
          "color": "rgb(255,220,0)"
         },
         "mode": "lines",
         "type": "scatter",
         "x": [
          475,
          475,
          485,
          485
         ],
         "xaxis": "x",
         "y": [
          0,
          0.914139555205677,
          0.914139555205677,
          0
         ],
         "yaxis": "y"
        },
        {
         "hoverinfo": "text",
         "marker": {
          "color": "rgb(0,116,217)"
         },
         "mode": "lines",
         "type": "scatter",
         "x": [
          460,
          460,
          480,
          480
         ],
         "xaxis": "x",
         "y": [
          0.8411042763517581,
          1.163987300336958,
          1.163987300336958,
          0.914139555205677
         ],
         "yaxis": "y"
        },
        {
         "hoverinfo": "text",
         "marker": {
          "color": "rgb(0,116,217)"
         },
         "mode": "lines",
         "type": "scatter",
         "x": [
          423.75,
          423.75,
          470,
          470
         ],
         "xaxis": "x",
         "y": [
          1.036664919756365,
          1.2262273500963456,
          1.2262273500963456,
          1.163987300336958
         ],
         "yaxis": "y"
        },
        {
         "hoverinfo": "text",
         "marker": {
          "color": "rgb(0,116,217)"
         },
         "mode": "lines",
         "type": "scatter",
         "x": [
          495,
          495,
          505,
          505
         ],
         "xaxis": "x",
         "y": [
          0,
          1.2258593129850652,
          1.2258593129850652,
          0
         ],
         "yaxis": "y"
        },
        {
         "hoverinfo": "text",
         "marker": {
          "color": "rgb(0,116,217)"
         },
         "mode": "lines",
         "type": "scatter",
         "x": [
          535,
          535,
          545,
          545
         ],
         "xaxis": "x",
         "y": [
          0,
          1.0927522341597657,
          1.0927522341597657,
          0
         ],
         "yaxis": "y"
        },
        {
         "hoverinfo": "text",
         "marker": {
          "color": "rgb(0,116,217)"
         },
         "mode": "lines",
         "type": "scatter",
         "x": [
          525,
          525,
          540,
          540
         ],
         "xaxis": "x",
         "y": [
          0,
          1.1180091691817207,
          1.1180091691817207,
          1.0927522341597657
         ],
         "yaxis": "y"
        },
        {
         "hoverinfo": "text",
         "marker": {
          "color": "rgb(40,35,35)"
         },
         "mode": "lines",
         "type": "scatter",
         "x": [
          575,
          575,
          585,
          585
         ],
         "xaxis": "x",
         "y": [
          0,
          0.9630252214566587,
          0.9630252214566587,
          0
         ],
         "yaxis": "y"
        },
        {
         "hoverinfo": "text",
         "marker": {
          "color": "rgb(0,116,217)"
         },
         "mode": "lines",
         "type": "scatter",
         "x": [
          565,
          565,
          580,
          580
         ],
         "xaxis": "x",
         "y": [
          0,
          1.1209204055740405,
          1.1209204055740405,
          0.9630252214566587
         ],
         "yaxis": "y"
        },
        {
         "hoverinfo": "text",
         "marker": {
          "color": "rgb(0,116,217)"
         },
         "mode": "lines",
         "type": "scatter",
         "x": [
          555,
          555,
          572.5,
          572.5
         ],
         "xaxis": "x",
         "y": [
          0,
          1.1615775678662807,
          1.1615775678662807,
          1.1209204055740405
         ],
         "yaxis": "y"
        },
        {
         "hoverinfo": "text",
         "marker": {
          "color": "rgb(0,116,217)"
         },
         "mode": "lines",
         "type": "scatter",
         "x": [
          532.5,
          532.5,
          563.75,
          563.75
         ],
         "xaxis": "x",
         "y": [
          1.1180091691817207,
          1.2345249515329275,
          1.2345249515329275,
          1.1615775678662807
         ],
         "yaxis": "y"
        },
        {
         "hoverinfo": "text",
         "marker": {
          "color": "rgb(0,116,217)"
         },
         "mode": "lines",
         "type": "scatter",
         "x": [
          515,
          515,
          548.125,
          548.125
         ],
         "xaxis": "x",
         "y": [
          0,
          1.2599379646454139,
          1.2599379646454139,
          1.2345249515329275
         ],
         "yaxis": "y"
        },
        {
         "hoverinfo": "text",
         "marker": {
          "color": "rgb(0,116,217)"
         },
         "mode": "lines",
         "type": "scatter",
         "x": [
          500,
          500,
          531.5625,
          531.5625
         ],
         "xaxis": "x",
         "y": [
          1.2258593129850652,
          1.3323586711615967,
          1.3323586711615967,
          1.2599379646454139
         ],
         "yaxis": "y"
        },
        {
         "hoverinfo": "text",
         "marker": {
          "color": "rgb(0,116,217)"
         },
         "mode": "lines",
         "type": "scatter",
         "x": [
          446.875,
          446.875,
          515.78125,
          515.78125
         ],
         "xaxis": "x",
         "y": [
          1.2262273500963456,
          1.3347743441281275,
          1.3347743441281275,
          1.3323586711615967
         ],
         "yaxis": "y"
        },
        {
         "hoverinfo": "text",
         "marker": {
          "color": "rgb(61,153,112)"
         },
         "mode": "lines",
         "type": "scatter",
         "x": [
          605,
          605,
          615,
          615
         ],
         "xaxis": "x",
         "y": [
          0,
          0.9152496952124702,
          0.9152496952124702,
          0
         ],
         "yaxis": "y"
        },
        {
         "hoverinfo": "text",
         "marker": {
          "color": "rgb(0,116,217)"
         },
         "mode": "lines",
         "type": "scatter",
         "x": [
          595,
          595,
          610,
          610
         ],
         "xaxis": "x",
         "y": [
          0,
          1.0626679722306072,
          1.0626679722306072,
          0.9152496952124702
         ],
         "yaxis": "y"
        },
        {
         "hoverinfo": "text",
         "marker": {
          "color": "rgb(0,116,217)"
         },
         "mode": "lines",
         "type": "scatter",
         "x": [
          635,
          635,
          645,
          645
         ],
         "xaxis": "x",
         "y": [
          0,
          1.16710137433121,
          1.16710137433121,
          0
         ],
         "yaxis": "y"
        },
        {
         "hoverinfo": "text",
         "marker": {
          "color": "rgb(0,116,217)"
         },
         "mode": "lines",
         "type": "scatter",
         "x": [
          625,
          625,
          640,
          640
         ],
         "xaxis": "x",
         "y": [
          0,
          1.2682392991956792,
          1.2682392991956792,
          1.16710137433121
         ],
         "yaxis": "y"
        },
        {
         "hoverinfo": "text",
         "marker": {
          "color": "rgb(0,116,217)"
         },
         "mode": "lines",
         "type": "scatter",
         "x": [
          602.5,
          602.5,
          632.5,
          632.5
         ],
         "xaxis": "x",
         "y": [
          1.0626679722306072,
          1.291618251839339,
          1.291618251839339,
          1.2682392991956792
         ],
         "yaxis": "y"
        },
        {
         "hoverinfo": "text",
         "marker": {
          "color": "rgb(255,65,54)"
         },
         "mode": "lines",
         "type": "scatter",
         "x": [
          665,
          665,
          675,
          675
         ],
         "xaxis": "x",
         "y": [
          0,
          0.7720755622959998,
          0.7720755622959998,
          0
         ],
         "yaxis": "y"
        },
        {
         "hoverinfo": "text",
         "marker": {
          "color": "rgb(0,116,217)"
         },
         "mode": "lines",
         "type": "scatter",
         "x": [
          655,
          655,
          670,
          670
         ],
         "xaxis": "x",
         "y": [
          0,
          0.9893483082748181,
          0.9893483082748181,
          0.7720755622959998
         ],
         "yaxis": "y"
        },
        {
         "hoverinfo": "text",
         "marker": {
          "color": "rgb(0,116,217)"
         },
         "mode": "lines",
         "type": "scatter",
         "x": [
          685,
          685,
          695,
          695
         ],
         "xaxis": "x",
         "y": [
          0,
          1.0653565694183844,
          1.0653565694183844,
          0
         ],
         "yaxis": "y"
        },
        {
         "hoverinfo": "text",
         "marker": {
          "color": "rgb(0,116,217)"
         },
         "mode": "lines",
         "type": "scatter",
         "x": [
          705,
          705,
          715,
          715
         ],
         "xaxis": "x",
         "y": [
          0,
          1.0513870710597486,
          1.0513870710597486,
          0
         ],
         "yaxis": "y"
        },
        {
         "hoverinfo": "text",
         "marker": {
          "color": "rgb(35,205,205)"
         },
         "mode": "lines",
         "type": "scatter",
         "x": [
          735,
          735,
          745,
          745
         ],
         "xaxis": "x",
         "y": [
          0,
          0.8873435180238612,
          0.8873435180238612,
          0
         ],
         "yaxis": "y"
        },
        {
         "hoverinfo": "text",
         "marker": {
          "color": "rgb(0,116,217)"
         },
         "mode": "lines",
         "type": "scatter",
         "x": [
          725,
          725,
          740,
          740
         ],
         "xaxis": "x",
         "y": [
          0,
          1.0583236983356485,
          1.0583236983356485,
          0.8873435180238612
         ],
         "yaxis": "y"
        },
        {
         "hoverinfo": "text",
         "marker": {
          "color": "rgb(0,116,217)"
         },
         "mode": "lines",
         "type": "scatter",
         "x": [
          710,
          710,
          732.5,
          732.5
         ],
         "xaxis": "x",
         "y": [
          1.0513870710597486,
          1.250428081109252,
          1.250428081109252,
          1.0583236983356485
         ],
         "yaxis": "y"
        },
        {
         "hoverinfo": "text",
         "marker": {
          "color": "rgb(0,116,217)"
         },
         "mode": "lines",
         "type": "scatter",
         "x": [
          690,
          690,
          721.25,
          721.25
         ],
         "xaxis": "x",
         "y": [
          1.0653565694183844,
          1.2746569791534332,
          1.2746569791534332,
          1.250428081109252
         ],
         "yaxis": "y"
        },
        {
         "hoverinfo": "text",
         "marker": {
          "color": "rgb(0,116,217)"
         },
         "mode": "lines",
         "type": "scatter",
         "x": [
          662.5,
          662.5,
          705.625,
          705.625
         ],
         "xaxis": "x",
         "y": [
          0.9893483082748181,
          1.3094819622279184,
          1.3094819622279184,
          1.2746569791534332
         ],
         "yaxis": "y"
        },
        {
         "hoverinfo": "text",
         "marker": {
          "color": "rgb(0,116,217)"
         },
         "mode": "lines",
         "type": "scatter",
         "x": [
          617.5,
          617.5,
          684.0625,
          684.0625
         ],
         "xaxis": "x",
         "y": [
          1.291618251839339,
          1.333722528305378,
          1.333722528305378,
          1.3094819622279184
         ],
         "yaxis": "y"
        },
        {
         "hoverinfo": "text",
         "marker": {
          "color": "rgb(0,116,217)"
         },
         "mode": "lines",
         "type": "scatter",
         "x": [
          775,
          775,
          785,
          785
         ],
         "xaxis": "x",
         "y": [
          0,
          1.136537590231993,
          1.136537590231993,
          0
         ],
         "yaxis": "y"
        },
        {
         "hoverinfo": "text",
         "marker": {
          "color": "rgb(0,116,217)"
         },
         "mode": "lines",
         "type": "scatter",
         "x": [
          765,
          765,
          780,
          780
         ],
         "xaxis": "x",
         "y": [
          0,
          1.2151227382315284,
          1.2151227382315284,
          1.136537590231993
         ],
         "yaxis": "y"
        },
        {
         "hoverinfo": "text",
         "marker": {
          "color": "rgb(0,116,217)"
         },
         "mode": "lines",
         "type": "scatter",
         "x": [
          755,
          755,
          772.5,
          772.5
         ],
         "xaxis": "x",
         "y": [
          0,
          1.2272950494340396,
          1.2272950494340396,
          1.2151227382315284
         ],
         "yaxis": "y"
        },
        {
         "hoverinfo": "text",
         "marker": {
          "color": "rgb(133,20,75)"
         },
         "mode": "lines",
         "type": "scatter",
         "x": [
          825,
          825,
          835,
          835
         ],
         "xaxis": "x",
         "y": [
          0,
          0.8918171001049647,
          0.8918171001049647,
          0
         ],
         "yaxis": "y"
        },
        {
         "hoverinfo": "text",
         "marker": {
          "color": "rgb(0,116,217)"
         },
         "mode": "lines",
         "type": "scatter",
         "x": [
          815,
          815,
          830,
          830
         ],
         "xaxis": "x",
         "y": [
          0,
          0.9871228626434558,
          0.9871228626434558,
          0.8918171001049647
         ],
         "yaxis": "y"
        },
        {
         "hoverinfo": "text",
         "marker": {
          "color": "rgb(0,116,217)"
         },
         "mode": "lines",
         "type": "scatter",
         "x": [
          845,
          845,
          855,
          855
         ],
         "xaxis": "x",
         "y": [
          0,
          1.0274686635864239,
          1.0274686635864239,
          0
         ],
         "yaxis": "y"
        },
        {
         "hoverinfo": "text",
         "marker": {
          "color": "rgb(0,116,217)"
         },
         "mode": "lines",
         "type": "scatter",
         "x": [
          865,
          865,
          875,
          875
         ],
         "xaxis": "x",
         "y": [
          0,
          1.1022194742443505,
          1.1022194742443505,
          0
         ],
         "yaxis": "y"
        },
        {
         "hoverinfo": "text",
         "marker": {
          "color": "rgb(0,116,217)"
         },
         "mode": "lines",
         "type": "scatter",
         "x": [
          850,
          850,
          870,
          870
         ],
         "xaxis": "x",
         "y": [
          1.0274686635864239,
          1.117342896432935,
          1.117342896432935,
          1.1022194742443505
         ],
         "yaxis": "y"
        },
        {
         "hoverinfo": "text",
         "marker": {
          "color": "rgb(0,116,217)"
         },
         "mode": "lines",
         "type": "scatter",
         "x": [
          822.5,
          822.5,
          860,
          860
         ],
         "xaxis": "x",
         "y": [
          0.9871228626434558,
          1.1872775650717666,
          1.1872775650717666,
          1.117342896432935
         ],
         "yaxis": "y"
        },
        {
         "hoverinfo": "text",
         "marker": {
          "color": "rgb(0,116,217)"
         },
         "mode": "lines",
         "type": "scatter",
         "x": [
          805,
          805,
          841.25,
          841.25
         ],
         "xaxis": "x",
         "y": [
          0,
          1.2305482939339938,
          1.2305482939339938,
          1.1872775650717666
         ],
         "yaxis": "y"
        },
        {
         "hoverinfo": "text",
         "marker": {
          "color": "rgb(0,116,217)"
         },
         "mode": "lines",
         "type": "scatter",
         "x": [
          795,
          795,
          823.125,
          823.125
         ],
         "xaxis": "x",
         "y": [
          0,
          1.268485070231541,
          1.268485070231541,
          1.2305482939339938
         ],
         "yaxis": "y"
        },
        {
         "hoverinfo": "text",
         "marker": {
          "color": "rgb(0,116,217)"
         },
         "mode": "lines",
         "type": "scatter",
         "x": [
          763.75,
          763.75,
          809.0625,
          809.0625
         ],
         "xaxis": "x",
         "y": [
          1.2272950494340396,
          1.313072423870463,
          1.313072423870463,
          1.268485070231541
         ],
         "yaxis": "y"
        },
        {
         "hoverinfo": "text",
         "marker": {
          "color": "rgb(255,220,0)"
         },
         "mode": "lines",
         "type": "scatter",
         "x": [
          905,
          905,
          915,
          915
         ],
         "xaxis": "x",
         "y": [
          0,
          0.9264604038493872,
          0.9264604038493872,
          0
         ],
         "yaxis": "y"
        },
        {
         "hoverinfo": "text",
         "marker": {
          "color": "rgb(0,116,217)"
         },
         "mode": "lines",
         "type": "scatter",
         "x": [
          895,
          895,
          910,
          910
         ],
         "xaxis": "x",
         "y": [
          0,
          1.1026954896154746,
          1.1026954896154746,
          0.9264604038493872
         ],
         "yaxis": "y"
        },
        {
         "hoverinfo": "text",
         "marker": {
          "color": "rgb(0,116,217)"
         },
         "mode": "lines",
         "type": "scatter",
         "x": [
          935,
          935,
          945,
          945
         ],
         "xaxis": "x",
         "y": [
          0,
          1.0079497218784716,
          1.0079497218784716,
          0
         ],
         "yaxis": "y"
        },
        {
         "hoverinfo": "text",
         "marker": {
          "color": "rgb(0,116,217)"
         },
         "mode": "lines",
         "type": "scatter",
         "x": [
          925,
          925,
          940,
          940
         ],
         "xaxis": "x",
         "y": [
          0,
          1.1090480609243891,
          1.1090480609243891,
          1.0079497218784716
         ],
         "yaxis": "y"
        },
        {
         "hoverinfo": "text",
         "marker": {
          "color": "rgb(0,116,217)"
         },
         "mode": "lines",
         "type": "scatter",
         "x": [
          902.5,
          902.5,
          932.5,
          932.5
         ],
         "xaxis": "x",
         "y": [
          1.1026954896154746,
          1.157766766085865,
          1.157766766085865,
          1.1090480609243891
         ],
         "yaxis": "y"
        },
        {
         "hoverinfo": "text",
         "marker": {
          "color": "rgb(0,116,217)"
         },
         "mode": "lines",
         "type": "scatter",
         "x": [
          885,
          885,
          917.5,
          917.5
         ],
         "xaxis": "x",
         "y": [
          0,
          1.256205356880961,
          1.256205356880961,
          1.157766766085865
         ],
         "yaxis": "y"
        },
        {
         "hoverinfo": "text",
         "marker": {
          "color": "rgb(0,116,217)"
         },
         "mode": "lines",
         "type": "scatter",
         "x": [
          955,
          955,
          965,
          965
         ],
         "xaxis": "x",
         "y": [
          0,
          1.1046125376305613,
          1.1046125376305613,
          0
         ],
         "yaxis": "y"
        },
        {
         "hoverinfo": "text",
         "marker": {
          "color": "rgb(0,116,217)"
         },
         "mode": "lines",
         "type": "scatter",
         "x": [
          975,
          975,
          985,
          985
         ],
         "xaxis": "x",
         "y": [
          0,
          1.0810506286398254,
          1.0810506286398254,
          0
         ],
         "yaxis": "y"
        },
        {
         "hoverinfo": "text",
         "marker": {
          "color": "rgb(40,35,35)"
         },
         "mode": "lines",
         "type": "scatter",
         "x": [
          1025,
          1025,
          1035,
          1035
         ],
         "xaxis": "x",
         "y": [
          0,
          0.9367795263710886,
          0.9367795263710886,
          0
         ],
         "yaxis": "y"
        },
        {
         "hoverinfo": "text",
         "marker": {
          "color": "rgb(0,116,217)"
         },
         "mode": "lines",
         "type": "scatter",
         "x": [
          1015,
          1015,
          1030,
          1030
         ],
         "xaxis": "x",
         "y": [
          0,
          1.1304495590106964,
          1.1304495590106964,
          0.9367795263710886
         ],
         "yaxis": "y"
        },
        {
         "hoverinfo": "text",
         "marker": {
          "color": "rgb(0,116,217)"
         },
         "mode": "lines",
         "type": "scatter",
         "x": [
          1005,
          1005,
          1022.5,
          1022.5
         ],
         "xaxis": "x",
         "y": [
          0,
          1.179185405836438,
          1.179185405836438,
          1.1304495590106964
         ],
         "yaxis": "y"
        },
        {
         "hoverinfo": "text",
         "marker": {
          "color": "rgb(0,116,217)"
         },
         "mode": "lines",
         "type": "scatter",
         "x": [
          995,
          995,
          1013.75,
          1013.75
         ],
         "xaxis": "x",
         "y": [
          0,
          1.1998622088962927,
          1.1998622088962927,
          1.179185405836438
         ],
         "yaxis": "y"
        },
        {
         "hoverinfo": "text",
         "marker": {
          "color": "rgb(0,116,217)"
         },
         "mode": "lines",
         "type": "scatter",
         "x": [
          1045,
          1045,
          1055,
          1055
         ],
         "xaxis": "x",
         "y": [
          0,
          1.0642247103156197,
          1.0642247103156197,
          0
         ],
         "yaxis": "y"
        },
        {
         "hoverinfo": "text",
         "marker": {
          "color": "rgb(0,116,217)"
         },
         "mode": "lines",
         "type": "scatter",
         "x": [
          1065,
          1065,
          1075,
          1075
         ],
         "xaxis": "x",
         "y": [
          0,
          1.1357759615523428,
          1.1357759615523428,
          0
         ],
         "yaxis": "y"
        },
        {
         "hoverinfo": "text",
         "marker": {
          "color": "rgb(0,116,217)"
         },
         "mode": "lines",
         "type": "scatter",
         "x": [
          1050,
          1050,
          1070,
          1070
         ],
         "xaxis": "x",
         "y": [
          1.0642247103156197,
          1.2229773932104209,
          1.2229773932104209,
          1.1357759615523428
         ],
         "yaxis": "y"
        },
        {
         "hoverinfo": "text",
         "marker": {
          "color": "rgb(0,116,217)"
         },
         "mode": "lines",
         "type": "scatter",
         "x": [
          1004.375,
          1004.375,
          1060,
          1060
         ],
         "xaxis": "x",
         "y": [
          1.1998622088962927,
          1.255715043150761,
          1.255715043150761,
          1.2229773932104209
         ],
         "yaxis": "y"
        },
        {
         "hoverinfo": "text",
         "marker": {
          "color": "rgb(0,116,217)"
         },
         "mode": "lines",
         "type": "scatter",
         "x": [
          980,
          980,
          1032.1875,
          1032.1875
         ],
         "xaxis": "x",
         "y": [
          1.0810506286398254,
          1.2722257516414066,
          1.2722257516414066,
          1.255715043150761
         ],
         "yaxis": "y"
        },
        {
         "hoverinfo": "text",
         "marker": {
          "color": "rgb(0,116,217)"
         },
         "mode": "lines",
         "type": "scatter",
         "x": [
          960,
          960,
          1006.09375,
          1006.09375
         ],
         "xaxis": "x",
         "y": [
          1.1046125376305613,
          1.290879599311604,
          1.290879599311604,
          1.2722257516414066
         ],
         "yaxis": "y"
        },
        {
         "hoverinfo": "text",
         "marker": {
          "color": "rgb(0,116,217)"
         },
         "mode": "lines",
         "type": "scatter",
         "x": [
          901.25,
          901.25,
          983.046875,
          983.046875
         ],
         "xaxis": "x",
         "y": [
          1.256205356880961,
          1.3195035005635025,
          1.3195035005635025,
          1.290879599311604
         ],
         "yaxis": "y"
        },
        {
         "hoverinfo": "text",
         "marker": {
          "color": "rgb(0,116,217)"
         },
         "mode": "lines",
         "type": "scatter",
         "x": [
          786.40625,
          786.40625,
          942.1484375,
          942.1484375
         ],
         "xaxis": "x",
         "y": [
          1.313072423870463,
          1.3355839113780406,
          1.3355839113780406,
          1.3195035005635025
         ],
         "yaxis": "y"
        },
        {
         "hoverinfo": "text",
         "marker": {
          "color": "rgb(0,116,217)"
         },
         "mode": "lines",
         "type": "scatter",
         "x": [
          650.78125,
          650.78125,
          864.27734375,
          864.27734375
         ],
         "xaxis": "x",
         "y": [
          1.333722528305378,
          1.346923627839292,
          1.346923627839292,
          1.3355839113780406
         ],
         "yaxis": "y"
        },
        {
         "hoverinfo": "text",
         "marker": {
          "color": "rgb(0,116,217)"
         },
         "mode": "lines",
         "type": "scatter",
         "x": [
          481.328125,
          481.328125,
          757.529296875,
          757.529296875
         ],
         "xaxis": "x",
         "y": [
          1.3347743441281275,
          1.357452581937856,
          1.357452581937856,
          1.346923627839292
         ],
         "yaxis": "y"
        },
        {
         "hoverinfo": "text",
         "marker": {
          "color": "rgb(0,116,217)"
         },
         "mode": "lines",
         "type": "scatter",
         "x": [
          297.1875,
          297.1875,
          619.4287109375,
          619.4287109375
         ],
         "xaxis": "x",
         "y": [
          1.348792602014047,
          1.3615058950460324,
          1.3615058950460324,
          1.357452581937856
         ],
         "yaxis": "y"
        },
        {
         "hoverinfo": "text",
         "marker": {
          "color": "rgb(0,116,217)"
         },
         "mode": "lines",
         "type": "scatter",
         "x": [
          1085,
          1085,
          1095,
          1095
         ],
         "xaxis": "x",
         "y": [
          0,
          1.1355926153270206,
          1.1355926153270206,
          0
         ],
         "yaxis": "y"
        },
        {
         "hoverinfo": "text",
         "marker": {
          "color": "rgb(61,153,112)"
         },
         "mode": "lines",
         "type": "scatter",
         "x": [
          1105,
          1105,
          1115,
          1115
         ],
         "xaxis": "x",
         "y": [
          0,
          0.6987438604645011,
          0.6987438604645011,
          0
         ],
         "yaxis": "y"
        },
        {
         "hoverinfo": "text",
         "marker": {
          "color": "rgb(255,65,54)"
         },
         "mode": "lines",
         "type": "scatter",
         "x": [
          1125,
          1125,
          1135,
          1135
         ],
         "xaxis": "x",
         "y": [
          0,
          0.9392664750009818,
          0.9392664750009818,
          0
         ],
         "yaxis": "y"
        },
        {
         "hoverinfo": "text",
         "marker": {
          "color": "rgb(0,116,217)"
         },
         "mode": "lines",
         "type": "scatter",
         "x": [
          1110,
          1110,
          1130,
          1130
         ],
         "xaxis": "x",
         "y": [
          0.6987438604645011,
          1.1802672127035052,
          1.1802672127035052,
          0.9392664750009818
         ],
         "yaxis": "y"
        },
        {
         "hoverinfo": "text",
         "marker": {
          "color": "rgb(0,116,217)"
         },
         "mode": "lines",
         "type": "scatter",
         "x": [
          1090,
          1090,
          1120,
          1120
         ],
         "xaxis": "x",
         "y": [
          1.1355926153270206,
          1.3039724719062025,
          1.3039724719062025,
          1.1802672127035052
         ],
         "yaxis": "y"
        },
        {
         "hoverinfo": "text",
         "marker": {
          "color": "rgb(0,116,217)"
         },
         "mode": "lines",
         "type": "scatter",
         "x": [
          1145,
          1145,
          1155,
          1155
         ],
         "xaxis": "x",
         "y": [
          0,
          1.0388129709450096,
          1.0388129709450096,
          0
         ],
         "yaxis": "y"
        },
        {
         "hoverinfo": "text",
         "marker": {
          "color": "rgb(0,116,217)"
         },
         "mode": "lines",
         "type": "scatter",
         "x": [
          1165,
          1165,
          1175,
          1175
         ],
         "xaxis": "x",
         "y": [
          0,
          1.1049364605722274,
          1.1049364605722274,
          0
         ],
         "yaxis": "y"
        },
        {
         "hoverinfo": "text",
         "marker": {
          "color": "rgb(0,116,217)"
         },
         "mode": "lines",
         "type": "scatter",
         "x": [
          1150,
          1150,
          1170,
          1170
         ],
         "xaxis": "x",
         "y": [
          1.0388129709450096,
          1.3324070769505998,
          1.3324070769505998,
          1.1049364605722274
         ],
         "yaxis": "y"
        },
        {
         "hoverinfo": "text",
         "marker": {
          "color": "rgb(0,116,217)"
         },
         "mode": "lines",
         "type": "scatter",
         "x": [
          1105,
          1105,
          1160,
          1160
         ],
         "xaxis": "x",
         "y": [
          1.3039724719062025,
          1.350356009868851,
          1.350356009868851,
          1.3324070769505998
         ],
         "yaxis": "y"
        },
        {
         "hoverinfo": "text",
         "marker": {
          "color": "rgb(0,116,217)"
         },
         "mode": "lines",
         "type": "scatter",
         "x": [
          1195,
          1195,
          1205,
          1205
         ],
         "xaxis": "x",
         "y": [
          0,
          0.9962540057020569,
          0.9962540057020569,
          0
         ],
         "yaxis": "y"
        },
        {
         "hoverinfo": "text",
         "marker": {
          "color": "rgb(0,116,217)"
         },
         "mode": "lines",
         "type": "scatter",
         "x": [
          1185,
          1185,
          1200,
          1200
         ],
         "xaxis": "x",
         "y": [
          0,
          1.1993862354782545,
          1.1993862354782545,
          0.9962540057020569
         ],
         "yaxis": "y"
        },
        {
         "hoverinfo": "text",
         "marker": {
          "color": "rgb(0,116,217)"
         },
         "mode": "lines",
         "type": "scatter",
         "x": [
          1215,
          1215,
          1225,
          1225
         ],
         "xaxis": "x",
         "y": [
          0,
          1.0850823426562555,
          1.0850823426562555,
          0
         ],
         "yaxis": "y"
        },
        {
         "hoverinfo": "text",
         "marker": {
          "color": "rgb(0,116,217)"
         },
         "mode": "lines",
         "type": "scatter",
         "x": [
          1245,
          1245,
          1255,
          1255
         ],
         "xaxis": "x",
         "y": [
          0,
          1.0522950673219802,
          1.0522950673219802,
          0
         ],
         "yaxis": "y"
        },
        {
         "hoverinfo": "text",
         "marker": {
          "color": "rgb(0,116,217)"
         },
         "mode": "lines",
         "type": "scatter",
         "x": [
          1235,
          1235,
          1250,
          1250
         ],
         "xaxis": "x",
         "y": [
          0,
          1.2301005605384656,
          1.2301005605384656,
          1.0522950673219802
         ],
         "yaxis": "y"
        },
        {
         "hoverinfo": "text",
         "marker": {
          "color": "rgb(0,116,217)"
         },
         "mode": "lines",
         "type": "scatter",
         "x": [
          1220,
          1220,
          1242.5,
          1242.5
         ],
         "xaxis": "x",
         "y": [
          1.0850823426562555,
          1.2615217226985869,
          1.2615217226985869,
          1.2301005605384656
         ],
         "yaxis": "y"
        },
        {
         "hoverinfo": "text",
         "marker": {
          "color": "rgb(35,205,205)"
         },
         "mode": "lines",
         "type": "scatter",
         "x": [
          1285,
          1285,
          1295,
          1295
         ],
         "xaxis": "x",
         "y": [
          0,
          0.6795970435106122,
          0.6795970435106122,
          0
         ],
         "yaxis": "y"
        },
        {
         "hoverinfo": "text",
         "marker": {
          "color": "rgb(35,205,205)"
         },
         "mode": "lines",
         "type": "scatter",
         "x": [
          1305,
          1305,
          1315,
          1315
         ],
         "xaxis": "x",
         "y": [
          0,
          0.8278127274195197,
          0.8278127274195197,
          0
         ],
         "yaxis": "y"
        },
        {
         "hoverinfo": "text",
         "marker": {
          "color": "rgb(35,205,205)"
         },
         "mode": "lines",
         "type": "scatter",
         "x": [
          1290,
          1290,
          1310,
          1310
         ],
         "xaxis": "x",
         "y": [
          0.6795970435106122,
          0.926562074571063,
          0.926562074571063,
          0.8278127274195197
         ],
         "yaxis": "y"
        },
        {
         "hoverinfo": "text",
         "marker": {
          "color": "rgb(0,116,217)"
         },
         "mode": "lines",
         "type": "scatter",
         "x": [
          1275,
          1275,
          1300,
          1300
         ],
         "xaxis": "x",
         "y": [
          0,
          1.0558306127205164,
          1.0558306127205164,
          0.926562074571063
         ],
         "yaxis": "y"
        },
        {
         "hoverinfo": "text",
         "marker": {
          "color": "rgb(133,20,75)"
         },
         "mode": "lines",
         "type": "scatter",
         "x": [
          1345,
          1345,
          1355,
          1355
         ],
         "xaxis": "x",
         "y": [
          0,
          0.9305676667623499,
          0.9305676667623499,
          0
         ],
         "yaxis": "y"
        },
        {
         "hoverinfo": "text",
         "marker": {
          "color": "rgb(0,116,217)"
         },
         "mode": "lines",
         "type": "scatter",
         "x": [
          1335,
          1335,
          1350,
          1350
         ],
         "xaxis": "x",
         "y": [
          0,
          1.0372303456104979,
          1.0372303456104979,
          0.9305676667623499
         ],
         "yaxis": "y"
        },
        {
         "hoverinfo": "text",
         "marker": {
          "color": "rgb(0,116,217)"
         },
         "mode": "lines",
         "type": "scatter",
         "x": [
          1325,
          1325,
          1342.5,
          1342.5
         ],
         "xaxis": "x",
         "y": [
          0,
          1.1127055416613987,
          1.1127055416613987,
          1.0372303456104979
         ],
         "yaxis": "y"
        },
        {
         "hoverinfo": "text",
         "marker": {
          "color": "rgb(0,116,217)"
         },
         "mode": "lines",
         "type": "scatter",
         "x": [
          1287.5,
          1287.5,
          1333.75,
          1333.75
         ],
         "xaxis": "x",
         "y": [
          1.0558306127205164,
          1.2030435813373366,
          1.2030435813373366,
          1.1127055416613987
         ],
         "yaxis": "y"
        },
        {
         "hoverinfo": "text",
         "marker": {
          "color": "rgb(0,116,217)"
         },
         "mode": "lines",
         "type": "scatter",
         "x": [
          1265,
          1265,
          1310.625,
          1310.625
         ],
         "xaxis": "x",
         "y": [
          0,
          1.2662577113786706,
          1.2662577113786706,
          1.2030435813373366
         ],
         "yaxis": "y"
        },
        {
         "hoverinfo": "text",
         "marker": {
          "color": "rgb(0,116,217)"
         },
         "mode": "lines",
         "type": "scatter",
         "x": [
          1365,
          1365,
          1375,
          1375
         ],
         "xaxis": "x",
         "y": [
          0,
          1.1090167141335108,
          1.1090167141335108,
          0
         ],
         "yaxis": "y"
        },
        {
         "hoverinfo": "text",
         "marker": {
          "color": "rgb(0,116,217)"
         },
         "mode": "lines",
         "type": "scatter",
         "x": [
          1385,
          1385,
          1395,
          1395
         ],
         "xaxis": "x",
         "y": [
          0,
          1.1705122556055967,
          1.1705122556055967,
          0
         ],
         "yaxis": "y"
        },
        {
         "hoverinfo": "text",
         "marker": {
          "color": "rgb(0,116,217)"
         },
         "mode": "lines",
         "type": "scatter",
         "x": [
          1370,
          1370,
          1390,
          1390
         ],
         "xaxis": "x",
         "y": [
          1.1090167141335108,
          1.2770677839706872,
          1.2770677839706872,
          1.1705122556055967
         ],
         "yaxis": "y"
        },
        {
         "hoverinfo": "text",
         "marker": {
          "color": "rgb(0,116,217)"
         },
         "mode": "lines",
         "type": "scatter",
         "x": [
          1287.8125,
          1287.8125,
          1380,
          1380
         ],
         "xaxis": "x",
         "y": [
          1.2662577113786706,
          1.3176431522690286,
          1.3176431522690286,
          1.2770677839706872
         ],
         "yaxis": "y"
        },
        {
         "hoverinfo": "text",
         "marker": {
          "color": "rgb(0,116,217)"
         },
         "mode": "lines",
         "type": "scatter",
         "x": [
          1231.25,
          1231.25,
          1333.90625,
          1333.90625
         ],
         "xaxis": "x",
         "y": [
          1.2615217226985869,
          1.3304567218703207,
          1.3304567218703207,
          1.3176431522690286
         ],
         "yaxis": "y"
        },
        {
         "hoverinfo": "text",
         "marker": {
          "color": "rgb(0,116,217)"
         },
         "mode": "lines",
         "type": "scatter",
         "x": [
          1192.5,
          1192.5,
          1282.578125,
          1282.578125
         ],
         "xaxis": "x",
         "y": [
          1.1993862354782545,
          1.350393064568432,
          1.350393064568432,
          1.3304567218703207
         ],
         "yaxis": "y"
        },
        {
         "hoverinfo": "text",
         "marker": {
          "color": "rgb(0,116,217)"
         },
         "mode": "lines",
         "type": "scatter",
         "x": [
          1132.5,
          1132.5,
          1237.5390625,
          1237.5390625
         ],
         "xaxis": "x",
         "y": [
          1.350356009868851,
          1.3631780871471073,
          1.3631780871471073,
          1.350393064568432
         ],
         "yaxis": "y"
        },
        {
         "hoverinfo": "text",
         "marker": {
          "color": "rgb(0,116,217)"
         },
         "mode": "lines",
         "type": "scatter",
         "x": [
          458.30810546875,
          458.30810546875,
          1185.01953125,
          1185.01953125
         ],
         "xaxis": "x",
         "y": [
          1.3615058950460324,
          1.375019498127988,
          1.375019498127988,
          1.3631780871471073
         ],
         "yaxis": "y"
        },
        {
         "hoverinfo": "text",
         "marker": {
          "color": "rgb(0,116,217)"
         },
         "mode": "lines",
         "type": "scatter",
         "x": [
          1405,
          1405,
          1415,
          1415
         ],
         "xaxis": "x",
         "y": [
          0,
          1.2207761158208348,
          1.2207761158208348,
          0
         ],
         "yaxis": "y"
        },
        {
         "hoverinfo": "text",
         "marker": {
          "color": "rgb(0,116,217)"
         },
         "mode": "lines",
         "type": "scatter",
         "x": [
          1425,
          1425,
          1435,
          1435
         ],
         "xaxis": "x",
         "y": [
          0,
          1.154192072813613,
          1.154192072813613,
          0
         ],
         "yaxis": "y"
        },
        {
         "hoverinfo": "text",
         "marker": {
          "color": "rgb(0,116,217)"
         },
         "mode": "lines",
         "type": "scatter",
         "x": [
          1455,
          1455,
          1465,
          1465
         ],
         "xaxis": "x",
         "y": [
          0,
          1.0182603777795554,
          1.0182603777795554,
          0
         ],
         "yaxis": "y"
        },
        {
         "hoverinfo": "text",
         "marker": {
          "color": "rgb(0,116,217)"
         },
         "mode": "lines",
         "type": "scatter",
         "x": [
          1445,
          1445,
          1460,
          1460
         ],
         "xaxis": "x",
         "y": [
          0,
          1.219318587255107,
          1.219318587255107,
          1.0182603777795554
         ],
         "yaxis": "y"
        },
        {
         "hoverinfo": "text",
         "marker": {
          "color": "rgb(0,116,217)"
         },
         "mode": "lines",
         "type": "scatter",
         "x": [
          1430,
          1430,
          1452.5,
          1452.5
         ],
         "xaxis": "x",
         "y": [
          1.154192072813613,
          1.302541722215468,
          1.302541722215468,
          1.219318587255107
         ],
         "yaxis": "y"
        },
        {
         "hoverinfo": "text",
         "marker": {
          "color": "rgb(0,116,217)"
         },
         "mode": "lines",
         "type": "scatter",
         "x": [
          1410,
          1410,
          1441.25,
          1441.25
         ],
         "xaxis": "x",
         "y": [
          1.2207761158208348,
          1.3529916883721838,
          1.3529916883721838,
          1.302541722215468
         ],
         "yaxis": "y"
        },
        {
         "hoverinfo": "text",
         "marker": {
          "color": "rgb(0,116,217)"
         },
         "mode": "lines",
         "type": "scatter",
         "x": [
          1475,
          1475,
          1485,
          1485
         ],
         "xaxis": "x",
         "y": [
          0,
          1.191150556392896,
          1.191150556392896,
          0
         ],
         "yaxis": "y"
        },
        {
         "hoverinfo": "text",
         "marker": {
          "color": "rgb(255,220,0)"
         },
         "mode": "lines",
         "type": "scatter",
         "x": [
          1555,
          1555,
          1565,
          1565
         ],
         "xaxis": "x",
         "y": [
          0,
          0.5410074699452042,
          0.5410074699452042,
          0
         ],
         "yaxis": "y"
        },
        {
         "hoverinfo": "text",
         "marker": {
          "color": "rgb(255,220,0)"
         },
         "mode": "lines",
         "type": "scatter",
         "x": [
          1545,
          1545,
          1560,
          1560
         ],
         "xaxis": "x",
         "y": [
          0,
          0.7612026301516118,
          0.7612026301516118,
          0.5410074699452042
         ],
         "yaxis": "y"
        },
        {
         "hoverinfo": "text",
         "marker": {
          "color": "rgb(255,220,0)"
         },
         "mode": "lines",
         "type": "scatter",
         "x": [
          1535,
          1535,
          1552.5,
          1552.5
         ],
         "xaxis": "x",
         "y": [
          0,
          0.7649447892153856,
          0.7649447892153856,
          0.7612026301516118
         ],
         "yaxis": "y"
        },
        {
         "hoverinfo": "text",
         "marker": {
          "color": "rgb(255,220,0)"
         },
         "mode": "lines",
         "type": "scatter",
         "x": [
          1525,
          1525,
          1543.75,
          1543.75
         ],
         "xaxis": "x",
         "y": [
          0,
          0.813640417797926,
          0.813640417797926,
          0.7649447892153856
         ],
         "yaxis": "y"
        },
        {
         "hoverinfo": "text",
         "marker": {
          "color": "rgb(255,220,0)"
         },
         "mode": "lines",
         "type": "scatter",
         "x": [
          1515,
          1515,
          1534.375,
          1534.375
         ],
         "xaxis": "x",
         "y": [
          0,
          0.8836679042888336,
          0.8836679042888336,
          0.813640417797926
         ],
         "yaxis": "y"
        },
        {
         "hoverinfo": "text",
         "marker": {
          "color": "rgb(255,220,0)"
         },
         "mode": "lines",
         "type": "scatter",
         "x": [
          1505,
          1505,
          1524.6875,
          1524.6875
         ],
         "xaxis": "x",
         "y": [
          0,
          0.9476170398679045,
          0.9476170398679045,
          0.8836679042888336
         ],
         "yaxis": "y"
        },
        {
         "hoverinfo": "text",
         "marker": {
          "color": "rgb(0,116,217)"
         },
         "mode": "lines",
         "type": "scatter",
         "x": [
          1495,
          1495,
          1514.84375,
          1514.84375
         ],
         "xaxis": "x",
         "y": [
          0,
          1.0212460601069226,
          1.0212460601069226,
          0.9476170398679045
         ],
         "yaxis": "y"
        },
        {
         "hoverinfo": "text",
         "marker": {
          "color": "rgb(40,35,35)"
         },
         "mode": "lines",
         "type": "scatter",
         "x": [
          1585,
          1585,
          1595,
          1595
         ],
         "xaxis": "x",
         "y": [
          0,
          0.9414143013859468,
          0.9414143013859468,
          0
         ],
         "yaxis": "y"
        },
        {
         "hoverinfo": "text",
         "marker": {
          "color": "rgb(0,116,217)"
         },
         "mode": "lines",
         "type": "scatter",
         "x": [
          1575,
          1575,
          1590,
          1590
         ],
         "xaxis": "x",
         "y": [
          0,
          1.0006216407545994,
          1.0006216407545994,
          0.9414143013859468
         ],
         "yaxis": "y"
        },
        {
         "hoverinfo": "text",
         "marker": {
          "color": "rgb(61,153,112)"
         },
         "mode": "lines",
         "type": "scatter",
         "x": [
          1605,
          1605,
          1615,
          1615
         ],
         "xaxis": "x",
         "y": [
          0,
          0.4888732528138265,
          0.4888732528138265,
          0
         ],
         "yaxis": "y"
        },
        {
         "hoverinfo": "text",
         "marker": {
          "color": "rgb(255,65,54)"
         },
         "mode": "lines",
         "type": "scatter",
         "x": [
          1625,
          1625,
          1635,
          1635
         ],
         "xaxis": "x",
         "y": [
          0,
          0.7750698272585053,
          0.7750698272585053,
          0
         ],
         "yaxis": "y"
        },
        {
         "hoverinfo": "text",
         "marker": {
          "color": "rgb(0,116,217)"
         },
         "mode": "lines",
         "type": "scatter",
         "x": [
          1610,
          1610,
          1630,
          1630
         ],
         "xaxis": "x",
         "y": [
          0.4888732528138265,
          1.0683349203130366,
          1.0683349203130366,
          0.7750698272585053
         ],
         "yaxis": "y"
        },
        {
         "hoverinfo": "text",
         "marker": {
          "color": "rgb(0,116,217)"
         },
         "mode": "lines",
         "type": "scatter",
         "x": [
          1645,
          1645,
          1655,
          1655
         ],
         "xaxis": "x",
         "y": [
          0,
          1.070095144685992,
          1.070095144685992,
          0
         ],
         "yaxis": "y"
        },
        {
         "hoverinfo": "text",
         "marker": {
          "color": "rgb(0,116,217)"
         },
         "mode": "lines",
         "type": "scatter",
         "x": [
          1620,
          1620,
          1650,
          1650
         ],
         "xaxis": "x",
         "y": [
          1.0683349203130366,
          1.1795927256349288,
          1.1795927256349288,
          1.070095144685992
         ],
         "yaxis": "y"
        },
        {
         "hoverinfo": "text",
         "marker": {
          "color": "rgb(0,116,217)"
         },
         "mode": "lines",
         "type": "scatter",
         "x": [
          1582.5,
          1582.5,
          1635,
          1635
         ],
         "xaxis": "x",
         "y": [
          1.0006216407545994,
          1.2330794653848967,
          1.2330794653848967,
          1.1795927256349288
         ],
         "yaxis": "y"
        },
        {
         "hoverinfo": "text",
         "marker": {
          "color": "rgb(0,116,217)"
         },
         "mode": "lines",
         "type": "scatter",
         "x": [
          1504.921875,
          1504.921875,
          1608.75,
          1608.75
         ],
         "xaxis": "x",
         "y": [
          1.0212460601069226,
          1.264238845973992,
          1.264238845973992,
          1.2330794653848967
         ],
         "yaxis": "y"
        },
        {
         "hoverinfo": "text",
         "marker": {
          "color": "rgb(0,116,217)"
         },
         "mode": "lines",
         "type": "scatter",
         "x": [
          1480,
          1480,
          1556.8359375,
          1556.8359375
         ],
         "xaxis": "x",
         "y": [
          1.191150556392896,
          1.2810796530521251,
          1.2810796530521251,
          1.264238845973992
         ],
         "yaxis": "y"
        },
        {
         "hoverinfo": "text",
         "marker": {
          "color": "rgb(35,205,205)"
         },
         "mode": "lines",
         "type": "scatter",
         "x": [
          1685,
          1685,
          1695,
          1695
         ],
         "xaxis": "x",
         "y": [
          0,
          0.842634440165332,
          0.842634440165332,
          0
         ],
         "yaxis": "y"
        },
        {
         "hoverinfo": "text",
         "marker": {
          "color": "rgb(0,116,217)"
         },
         "mode": "lines",
         "type": "scatter",
         "x": [
          1675,
          1675,
          1690,
          1690
         ],
         "xaxis": "x",
         "y": [
          0,
          1.0651267477641124,
          1.0651267477641124,
          0.842634440165332
         ],
         "yaxis": "y"
        },
        {
         "hoverinfo": "text",
         "marker": {
          "color": "rgb(0,116,217)"
         },
         "mode": "lines",
         "type": "scatter",
         "x": [
          1665,
          1665,
          1682.5,
          1682.5
         ],
         "xaxis": "x",
         "y": [
          0,
          1.124880640471266,
          1.124880640471266,
          1.0651267477641124
         ],
         "yaxis": "y"
        },
        {
         "hoverinfo": "text",
         "marker": {
          "color": "rgb(0,116,217)"
         },
         "mode": "lines",
         "type": "scatter",
         "x": [
          1715,
          1715,
          1725,
          1725
         ],
         "xaxis": "x",
         "y": [
          0,
          1.1531095367744715,
          1.1531095367744715,
          0
         ],
         "yaxis": "y"
        },
        {
         "hoverinfo": "text",
         "marker": {
          "color": "rgb(0,116,217)"
         },
         "mode": "lines",
         "type": "scatter",
         "x": [
          1705,
          1705,
          1720,
          1720
         ],
         "xaxis": "x",
         "y": [
          0,
          1.2400835192068962,
          1.2400835192068962,
          1.1531095367744715
         ],
         "yaxis": "y"
        },
        {
         "hoverinfo": "text",
         "marker": {
          "color": "rgb(0,116,217)"
         },
         "mode": "lines",
         "type": "scatter",
         "x": [
          1673.75,
          1673.75,
          1712.5,
          1712.5
         ],
         "xaxis": "x",
         "y": [
          1.124880640471266,
          1.2867607453180712,
          1.2867607453180712,
          1.2400835192068962
         ],
         "yaxis": "y"
        },
        {
         "hoverinfo": "text",
         "marker": {
          "color": "rgb(133,20,75)"
         },
         "mode": "lines",
         "type": "scatter",
         "x": [
          1735,
          1735,
          1745,
          1745
         ],
         "xaxis": "x",
         "y": [
          0,
          0.79555812474998,
          0.79555812474998,
          0
         ],
         "yaxis": "y"
        },
        {
         "hoverinfo": "text",
         "marker": {
          "color": "rgb(0,116,217)"
         },
         "mode": "lines",
         "type": "scatter",
         "x": [
          1775,
          1775,
          1785,
          1785
         ],
         "xaxis": "x",
         "y": [
          0,
          0.9793924731453516,
          0.9793924731453516,
          0
         ],
         "yaxis": "y"
        },
        {
         "hoverinfo": "text",
         "marker": {
          "color": "rgb(255,220,0)"
         },
         "mode": "lines",
         "type": "scatter",
         "x": [
          1805,
          1805,
          1815,
          1815
         ],
         "xaxis": "x",
         "y": [
          0,
          0.6372788054293463,
          0.6372788054293463,
          0
         ],
         "yaxis": "y"
        },
        {
         "hoverinfo": "text",
         "marker": {
          "color": "rgb(0,116,217)"
         },
         "mode": "lines",
         "type": "scatter",
         "x": [
          1795,
          1795,
          1810,
          1810
         ],
         "xaxis": "x",
         "y": [
          0,
          1.0185487893326686,
          1.0185487893326686,
          0.6372788054293463
         ],
         "yaxis": "y"
        },
        {
         "hoverinfo": "text",
         "marker": {
          "color": "rgb(0,116,217)"
         },
         "mode": "lines",
         "type": "scatter",
         "x": [
          1780,
          1780,
          1802.5,
          1802.5
         ],
         "xaxis": "x",
         "y": [
          0.9793924731453516,
          1.0434898526235103,
          1.0434898526235103,
          1.0185487893326686
         ],
         "yaxis": "y"
        },
        {
         "hoverinfo": "text",
         "marker": {
          "color": "rgb(0,116,217)"
         },
         "mode": "lines",
         "type": "scatter",
         "x": [
          1765,
          1765,
          1791.25,
          1791.25
         ],
         "xaxis": "x",
         "y": [
          0,
          1.0855280431516352,
          1.0855280431516352,
          1.0434898526235103
         ],
         "yaxis": "y"
        },
        {
         "hoverinfo": "text",
         "marker": {
          "color": "rgb(0,116,217)"
         },
         "mode": "lines",
         "type": "scatter",
         "x": [
          1755,
          1755,
          1778.125,
          1778.125
         ],
         "xaxis": "x",
         "y": [
          0,
          1.1128043949559132,
          1.1128043949559132,
          1.0855280431516352
         ],
         "yaxis": "y"
        },
        {
         "hoverinfo": "text",
         "marker": {
          "color": "rgb(0,116,217)"
         },
         "mode": "lines",
         "type": "scatter",
         "x": [
          1740,
          1740,
          1766.5625,
          1766.5625
         ],
         "xaxis": "x",
         "y": [
          0.79555812474998,
          1.1989401033870364,
          1.1989401033870364,
          1.1128043949559132
         ],
         "yaxis": "y"
        },
        {
         "hoverinfo": "text",
         "marker": {
          "color": "rgb(0,116,217)"
         },
         "mode": "lines",
         "type": "scatter",
         "x": [
          1825,
          1825,
          1835,
          1835
         ],
         "xaxis": "x",
         "y": [
          0,
          1.0909001273177819,
          1.0909001273177819,
          0
         ],
         "yaxis": "y"
        },
        {
         "hoverinfo": "text",
         "marker": {
          "color": "rgb(40,35,35)"
         },
         "mode": "lines",
         "type": "scatter",
         "x": [
          1845,
          1845,
          1855,
          1855
         ],
         "xaxis": "x",
         "y": [
          0,
          0.9216160867766405,
          0.9216160867766405,
          0
         ],
         "yaxis": "y"
        },
        {
         "hoverinfo": "text",
         "marker": {
          "color": "rgb(61,153,112)"
         },
         "mode": "lines",
         "type": "scatter",
         "x": [
          1875,
          1875,
          1885,
          1885
         ],
         "xaxis": "x",
         "y": [
          0,
          0.9301013963311544,
          0.9301013963311544,
          0
         ],
         "yaxis": "y"
        },
        {
         "hoverinfo": "text",
         "marker": {
          "color": "rgb(0,116,217)"
         },
         "mode": "lines",
         "type": "scatter",
         "x": [
          1865,
          1865,
          1880,
          1880
         ],
         "xaxis": "x",
         "y": [
          0,
          1.065974811393584,
          1.065974811393584,
          0.9301013963311544
         ],
         "yaxis": "y"
        },
        {
         "hoverinfo": "text",
         "marker": {
          "color": "rgb(0,116,217)"
         },
         "mode": "lines",
         "type": "scatter",
         "x": [
          1850,
          1850,
          1872.5,
          1872.5
         ],
         "xaxis": "x",
         "y": [
          0.9216160867766405,
          1.185457107569964,
          1.185457107569964,
          1.065974811393584
         ],
         "yaxis": "y"
        },
        {
         "hoverinfo": "text",
         "marker": {
          "color": "rgb(0,116,217)"
         },
         "mode": "lines",
         "type": "scatter",
         "x": [
          1830,
          1830,
          1861.25,
          1861.25
         ],
         "xaxis": "x",
         "y": [
          1.0909001273177819,
          1.2387650941153918,
          1.2387650941153918,
          1.185457107569964
         ],
         "yaxis": "y"
        },
        {
         "hoverinfo": "text",
         "marker": {
          "color": "rgb(255,65,54)"
         },
         "mode": "lines",
         "type": "scatter",
         "x": [
          1895,
          1895,
          1905,
          1905
         ],
         "xaxis": "x",
         "y": [
          0,
          0.9288038581554555,
          0.9288038581554555,
          0
         ],
         "yaxis": "y"
        },
        {
         "hoverinfo": "text",
         "marker": {
          "color": "rgb(35,205,205)"
         },
         "mode": "lines",
         "type": "scatter",
         "x": [
          1925,
          1925,
          1935,
          1935
         ],
         "xaxis": "x",
         "y": [
          0,
          0.6692375593815909,
          0.6692375593815909,
          0
         ],
         "yaxis": "y"
        },
        {
         "hoverinfo": "text",
         "marker": {
          "color": "rgb(0,116,217)"
         },
         "mode": "lines",
         "type": "scatter",
         "x": [
          1915,
          1915,
          1930,
          1930
         ],
         "xaxis": "x",
         "y": [
          0,
          0.9976586631849541,
          0.9976586631849541,
          0.6692375593815909
         ],
         "yaxis": "y"
        },
        {
         "hoverinfo": "text",
         "marker": {
          "color": "rgb(0,116,217)"
         },
         "mode": "lines",
         "type": "scatter",
         "x": [
          1900,
          1900,
          1922.5,
          1922.5
         ],
         "xaxis": "x",
         "y": [
          0.9288038581554555,
          1.0368657673293,
          1.0368657673293,
          0.9976586631849541
         ],
         "yaxis": "y"
        },
        {
         "hoverinfo": "text",
         "marker": {
          "color": "rgb(133,20,75)"
         },
         "mode": "lines",
         "type": "scatter",
         "x": [
          1965,
          1965,
          1975,
          1975
         ],
         "xaxis": "x",
         "y": [
          0,
          0.49247702372566365,
          0.49247702372566365,
          0
         ],
         "yaxis": "y"
        },
        {
         "hoverinfo": "text",
         "marker": {
          "color": "rgb(133,20,75)"
         },
         "mode": "lines",
         "type": "scatter",
         "x": [
          1955,
          1955,
          1970,
          1970
         ],
         "xaxis": "x",
         "y": [
          0,
          0.891684059302858,
          0.891684059302858,
          0.49247702372566365
         ],
         "yaxis": "y"
        },
        {
         "hoverinfo": "text",
         "marker": {
          "color": "rgb(0,116,217)"
         },
         "mode": "lines",
         "type": "scatter",
         "x": [
          1945,
          1945,
          1962.5,
          1962.5
         ],
         "xaxis": "x",
         "y": [
          0,
          1.0836412009692946,
          1.0836412009692946,
          0.891684059302858
         ],
         "yaxis": "y"
        },
        {
         "hoverinfo": "text",
         "marker": {
          "color": "rgb(0,116,217)"
         },
         "mode": "lines",
         "type": "scatter",
         "x": [
          1911.25,
          1911.25,
          1953.75,
          1953.75
         ],
         "xaxis": "x",
         "y": [
          1.0368657673293,
          1.1870207170105938,
          1.1870207170105938,
          1.0836412009692946
         ],
         "yaxis": "y"
        },
        {
         "hoverinfo": "text",
         "marker": {
          "color": "rgb(255,220,0)"
         },
         "mode": "lines",
         "type": "scatter",
         "x": [
          1995,
          1995,
          2005,
          2005
         ],
         "xaxis": "x",
         "y": [
          0,
          4.706891929851762e-15,
          4.706891929851762e-15,
          0
         ],
         "yaxis": "y"
        },
        {
         "hoverinfo": "text",
         "marker": {
          "color": "rgb(40,35,35)"
         },
         "mode": "lines",
         "type": "scatter",
         "x": [
          2025,
          2025,
          2035,
          2035
         ],
         "xaxis": "x",
         "y": [
          0,
          0.9342921537261099,
          0.9342921537261099,
          0
         ],
         "yaxis": "y"
        },
        {
         "hoverinfo": "text",
         "marker": {
          "color": "rgb(0,116,217)"
         },
         "mode": "lines",
         "type": "scatter",
         "x": [
          2015,
          2015,
          2030,
          2030
         ],
         "xaxis": "x",
         "y": [
          0,
          1.009893033366468,
          1.009893033366468,
          0.9342921537261099
         ],
         "yaxis": "y"
        },
        {
         "hoverinfo": "text",
         "marker": {
          "color": "rgb(0,116,217)"
         },
         "mode": "lines",
         "type": "scatter",
         "x": [
          2000,
          2000,
          2022.5,
          2022.5
         ],
         "xaxis": "x",
         "y": [
          4.706891929851762e-15,
          1.1308749819491757,
          1.1308749819491757,
          1.009893033366468
         ],
         "yaxis": "y"
        },
        {
         "hoverinfo": "text",
         "marker": {
          "color": "rgb(0,116,217)"
         },
         "mode": "lines",
         "type": "scatter",
         "x": [
          1985,
          1985,
          2011.25,
          2011.25
         ],
         "xaxis": "x",
         "y": [
          0,
          1.1950048036559926,
          1.1950048036559926,
          1.1308749819491757
         ],
         "yaxis": "y"
        },
        {
         "hoverinfo": "text",
         "marker": {
          "color": "rgb(0,116,217)"
         },
         "mode": "lines",
         "type": "scatter",
         "x": [
          1932.5,
          1932.5,
          1998.125,
          1998.125
         ],
         "xaxis": "x",
         "y": [
          1.1870207170105938,
          1.2675406943732956,
          1.2675406943732956,
          1.1950048036559926
         ],
         "yaxis": "y"
        },
        {
         "hoverinfo": "text",
         "marker": {
          "color": "rgb(0,116,217)"
         },
         "mode": "lines",
         "type": "scatter",
         "x": [
          1845.625,
          1845.625,
          1965.3125,
          1965.3125
         ],
         "xaxis": "x",
         "y": [
          1.2387650941153918,
          1.2960476376953123,
          1.2960476376953123,
          1.2675406943732956
         ],
         "yaxis": "y"
        },
        {
         "hoverinfo": "text",
         "marker": {
          "color": "rgb(0,116,217)"
         },
         "mode": "lines",
         "type": "scatter",
         "x": [
          1753.28125,
          1753.28125,
          1905.46875,
          1905.46875
         ],
         "xaxis": "x",
         "y": [
          1.1989401033870364,
          1.3090337212155267,
          1.3090337212155267,
          1.2960476376953123
         ],
         "yaxis": "y"
        },
        {
         "hoverinfo": "text",
         "marker": {
          "color": "rgb(61,153,112)"
         },
         "mode": "lines",
         "type": "scatter",
         "x": [
          2055,
          2055,
          2065,
          2065
         ],
         "xaxis": "x",
         "y": [
          0,
          0.7438615406154329,
          0.7438615406154329,
          0
         ],
         "yaxis": "y"
        },
        {
         "hoverinfo": "text",
         "marker": {
          "color": "rgb(0,116,217)"
         },
         "mode": "lines",
         "type": "scatter",
         "x": [
          2045,
          2045,
          2060,
          2060
         ],
         "xaxis": "x",
         "y": [
          0,
          1.0128188354612957,
          1.0128188354612957,
          0.7438615406154329
         ],
         "yaxis": "y"
        },
        {
         "hoverinfo": "text",
         "marker": {
          "color": "rgb(255,65,54)"
         },
         "mode": "lines",
         "type": "scatter",
         "x": [
          2105,
          2105,
          2115,
          2115
         ],
         "xaxis": "x",
         "y": [
          0,
          0.6682664069573583,
          0.6682664069573583,
          0
         ],
         "yaxis": "y"
        },
        {
         "hoverinfo": "text",
         "marker": {
          "color": "rgb(255,65,54)"
         },
         "mode": "lines",
         "type": "scatter",
         "x": [
          2095,
          2095,
          2110,
          2110
         ],
         "xaxis": "x",
         "y": [
          0,
          0.9606469962583899,
          0.9606469962583899,
          0.6682664069573583
         ],
         "yaxis": "y"
        },
        {
         "hoverinfo": "text",
         "marker": {
          "color": "rgb(0,116,217)"
         },
         "mode": "lines",
         "type": "scatter",
         "x": [
          2085,
          2085,
          2102.5,
          2102.5
         ],
         "xaxis": "x",
         "y": [
          0,
          0.9824199457611248,
          0.9824199457611248,
          0.9606469962583899
         ],
         "yaxis": "y"
        },
        {
         "hoverinfo": "text",
         "marker": {
          "color": "rgb(0,116,217)"
         },
         "mode": "lines",
         "type": "scatter",
         "x": [
          2075,
          2075,
          2093.75,
          2093.75
         ],
         "xaxis": "x",
         "y": [
          0,
          1.1044189006673044,
          1.1044189006673044,
          0.9824199457611248
         ],
         "yaxis": "y"
        },
        {
         "hoverinfo": "text",
         "marker": {
          "color": "rgb(0,116,217)"
         },
         "mode": "lines",
         "type": "scatter",
         "x": [
          2052.5,
          2052.5,
          2084.375,
          2084.375
         ],
         "xaxis": "x",
         "y": [
          1.0128188354612957,
          1.1967658806703483,
          1.1967658806703483,
          1.1044189006673044
         ],
         "yaxis": "y"
        },
        {
         "hoverinfo": "text",
         "marker": {
          "color": "rgb(35,205,205)"
         },
         "mode": "lines",
         "type": "scatter",
         "x": [
          2155,
          2155,
          2165,
          2165
         ],
         "xaxis": "x",
         "y": [
          0,
          0.8875850629979113,
          0.8875850629979113,
          0
         ],
         "yaxis": "y"
        },
        {
         "hoverinfo": "text",
         "marker": {
          "color": "rgb(0,116,217)"
         },
         "mode": "lines",
         "type": "scatter",
         "x": [
          2145,
          2145,
          2160,
          2160
         ],
         "xaxis": "x",
         "y": [
          0,
          1.0026605484391764,
          1.0026605484391764,
          0.8875850629979113
         ],
         "yaxis": "y"
        },
        {
         "hoverinfo": "text",
         "marker": {
          "color": "rgb(0,116,217)"
         },
         "mode": "lines",
         "type": "scatter",
         "x": [
          2135,
          2135,
          2152.5,
          2152.5
         ],
         "xaxis": "x",
         "y": [
          0,
          1.0773621261434172,
          1.0773621261434172,
          1.0026605484391764
         ],
         "yaxis": "y"
        },
        {
         "hoverinfo": "text",
         "marker": {
          "color": "rgb(0,116,217)"
         },
         "mode": "lines",
         "type": "scatter",
         "x": [
          2125,
          2125,
          2143.75,
          2143.75
         ],
         "xaxis": "x",
         "y": [
          0,
          1.2131772446726348,
          1.2131772446726348,
          1.0773621261434172
         ],
         "yaxis": "y"
        },
        {
         "hoverinfo": "text",
         "marker": {
          "color": "rgb(0,116,217)"
         },
         "mode": "lines",
         "type": "scatter",
         "x": [
          2195,
          2195,
          2205,
          2205
         ],
         "xaxis": "x",
         "y": [
          0,
          1.0269068170964377,
          1.0269068170964377,
          0
         ],
         "yaxis": "y"
        },
        {
         "hoverinfo": "text",
         "marker": {
          "color": "rgb(0,116,217)"
         },
         "mode": "lines",
         "type": "scatter",
         "x": [
          2185,
          2185,
          2200,
          2200
         ],
         "xaxis": "x",
         "y": [
          0,
          1.0632797951596122,
          1.0632797951596122,
          1.0269068170964377
         ],
         "yaxis": "y"
        },
        {
         "hoverinfo": "text",
         "marker": {
          "color": "rgb(0,116,217)"
         },
         "mode": "lines",
         "type": "scatter",
         "x": [
          2175,
          2175,
          2192.5,
          2192.5
         ],
         "xaxis": "x",
         "y": [
          0,
          1.1478061943848508,
          1.1478061943848508,
          1.0632797951596122
         ],
         "yaxis": "y"
        },
        {
         "hoverinfo": "text",
         "marker": {
          "color": "rgb(0,116,217)"
         },
         "mode": "lines",
         "type": "scatter",
         "x": [
          2215,
          2215,
          2225,
          2225
         ],
         "xaxis": "x",
         "y": [
          0,
          1.2118823641992618,
          1.2118823641992618,
          0
         ],
         "yaxis": "y"
        },
        {
         "hoverinfo": "text",
         "marker": {
          "color": "rgb(0,116,217)"
         },
         "mode": "lines",
         "type": "scatter",
         "x": [
          2183.75,
          2183.75,
          2220,
          2220
         ],
         "xaxis": "x",
         "y": [
          1.1478061943848508,
          1.2539243732742686,
          1.2539243732742686,
          1.2118823641992618
         ],
         "yaxis": "y"
        },
        {
         "hoverinfo": "text",
         "marker": {
          "color": "rgb(0,116,217)"
         },
         "mode": "lines",
         "type": "scatter",
         "x": [
          2134.375,
          2134.375,
          2201.875,
          2201.875
         ],
         "xaxis": "x",
         "y": [
          1.2131772446726348,
          1.2904652209217484,
          1.2904652209217484,
          1.2539243732742686
         ],
         "yaxis": "y"
        },
        {
         "hoverinfo": "text",
         "marker": {
          "color": "rgb(0,116,217)"
         },
         "mode": "lines",
         "type": "scatter",
         "x": [
          2068.4375,
          2068.4375,
          2168.125,
          2168.125
         ],
         "xaxis": "x",
         "y": [
          1.1967658806703483,
          1.3171805823097062,
          1.3171805823097062,
          1.2904652209217484
         ],
         "yaxis": "y"
        },
        {
         "hoverinfo": "text",
         "marker": {
          "color": "rgb(0,116,217)"
         },
         "mode": "lines",
         "type": "scatter",
         "x": [
          1829.375,
          1829.375,
          2118.28125,
          2118.28125
         ],
         "xaxis": "x",
         "y": [
          1.3090337212155267,
          1.3351141103208293,
          1.3351141103208293,
          1.3171805823097062
         ],
         "yaxis": "y"
        },
        {
         "hoverinfo": "text",
         "marker": {
          "color": "rgb(0,116,217)"
         },
         "mode": "lines",
         "type": "scatter",
         "x": [
          1693.125,
          1693.125,
          1973.828125,
          1973.828125
         ],
         "xaxis": "x",
         "y": [
          1.2867607453180712,
          1.3483207006955331,
          1.3483207006955331,
          1.3351141103208293
         ],
         "yaxis": "y"
        },
        {
         "hoverinfo": "text",
         "marker": {
          "color": "rgb(0,116,217)"
         },
         "mode": "lines",
         "type": "scatter",
         "x": [
          2235,
          2235,
          2245,
          2245
         ],
         "xaxis": "x",
         "y": [
          0,
          1.315234753299126,
          1.315234753299126,
          0
         ],
         "yaxis": "y"
        },
        {
         "hoverinfo": "text",
         "marker": {
          "color": "rgb(0,116,217)"
         },
         "mode": "lines",
         "type": "scatter",
         "x": [
          2255,
          2255,
          2265,
          2265
         ],
         "xaxis": "x",
         "y": [
          0,
          1.1685500370666477,
          1.1685500370666477,
          0
         ],
         "yaxis": "y"
        },
        {
         "hoverinfo": "text",
         "marker": {
          "color": "rgb(133,20,75)"
         },
         "mode": "lines",
         "type": "scatter",
         "x": [
          2275,
          2275,
          2285,
          2285
         ],
         "xaxis": "x",
         "y": [
          0,
          0.9419807071874221,
          0.9419807071874221,
          0
         ],
         "yaxis": "y"
        },
        {
         "hoverinfo": "text",
         "marker": {
          "color": "rgb(0,116,217)"
         },
         "mode": "lines",
         "type": "scatter",
         "x": [
          2295,
          2295,
          2305,
          2305
         ],
         "xaxis": "x",
         "y": [
          0,
          1.0807285280414425,
          1.0807285280414425,
          0
         ],
         "yaxis": "y"
        },
        {
         "hoverinfo": "text",
         "marker": {
          "color": "rgb(0,116,217)"
         },
         "mode": "lines",
         "type": "scatter",
         "x": [
          2280,
          2280,
          2300,
          2300
         ],
         "xaxis": "x",
         "y": [
          0.9419807071874221,
          1.1524286902559748,
          1.1524286902559748,
          1.0807285280414425
         ],
         "yaxis": "y"
        },
        {
         "hoverinfo": "text",
         "marker": {
          "color": "rgb(0,116,217)"
         },
         "mode": "lines",
         "type": "scatter",
         "x": [
          2315,
          2315,
          2325,
          2325
         ],
         "xaxis": "x",
         "y": [
          0,
          1.0529792454691944,
          1.0529792454691944,
          0
         ],
         "yaxis": "y"
        },
        {
         "hoverinfo": "text",
         "marker": {
          "color": "rgb(0,116,217)"
         },
         "mode": "lines",
         "type": "scatter",
         "x": [
          2335,
          2335,
          2345,
          2345
         ],
         "xaxis": "x",
         "y": [
          0,
          1.140606839618206,
          1.140606839618206,
          0
         ],
         "yaxis": "y"
        },
        {
         "hoverinfo": "text",
         "marker": {
          "color": "rgb(0,116,217)"
         },
         "mode": "lines",
         "type": "scatter",
         "x": [
          2320,
          2320,
          2340,
          2340
         ],
         "xaxis": "x",
         "y": [
          1.0529792454691944,
          1.215329735691411,
          1.215329735691411,
          1.140606839618206
         ],
         "yaxis": "y"
        },
        {
         "hoverinfo": "text",
         "marker": {
          "color": "rgb(0,116,217)"
         },
         "mode": "lines",
         "type": "scatter",
         "x": [
          2290,
          2290,
          2330,
          2330
         ],
         "xaxis": "x",
         "y": [
          1.1524286902559748,
          1.2816265545951877,
          1.2816265545951877,
          1.215329735691411
         ],
         "yaxis": "y"
        },
        {
         "hoverinfo": "text",
         "marker": {
          "color": "rgb(0,116,217)"
         },
         "mode": "lines",
         "type": "scatter",
         "x": [
          2260,
          2260,
          2310,
          2310
         ],
         "xaxis": "x",
         "y": [
          1.1685500370666477,
          1.327057389800024,
          1.327057389800024,
          1.2816265545951877
         ],
         "yaxis": "y"
        },
        {
         "hoverinfo": "text",
         "marker": {
          "color": "rgb(0,116,217)"
         },
         "mode": "lines",
         "type": "scatter",
         "x": [
          2355,
          2355,
          2365,
          2365
         ],
         "xaxis": "x",
         "y": [
          0,
          1.1616392224009588,
          1.1616392224009588,
          0
         ],
         "yaxis": "y"
        },
        {
         "hoverinfo": "text",
         "marker": {
          "color": "rgb(255,220,0)"
         },
         "mode": "lines",
         "type": "scatter",
         "x": [
          2375,
          2375,
          2385,
          2385
         ],
         "xaxis": "x",
         "y": [
          0,
          0.9373506792898249,
          0.9373506792898249,
          0
         ],
         "yaxis": "y"
        },
        {
         "hoverinfo": "text",
         "marker": {
          "color": "rgb(0,116,217)"
         },
         "mode": "lines",
         "type": "scatter",
         "x": [
          2405,
          2405,
          2415,
          2415
         ],
         "xaxis": "x",
         "y": [
          0,
          0.9972809731303683,
          0.9972809731303683,
          0
         ],
         "yaxis": "y"
        },
        {
         "hoverinfo": "text",
         "marker": {
          "color": "rgb(0,116,217)"
         },
         "mode": "lines",
         "type": "scatter",
         "x": [
          2395,
          2395,
          2410,
          2410
         ],
         "xaxis": "x",
         "y": [
          0,
          1.1339715888640975,
          1.1339715888640975,
          0.9972809731303683
         ],
         "yaxis": "y"
        },
        {
         "hoverinfo": "text",
         "marker": {
          "color": "rgb(0,116,217)"
         },
         "mode": "lines",
         "type": "scatter",
         "x": [
          2380,
          2380,
          2402.5,
          2402.5
         ],
         "xaxis": "x",
         "y": [
          0.9373506792898249,
          1.20115116908696,
          1.20115116908696,
          1.1339715888640975
         ],
         "yaxis": "y"
        },
        {
         "hoverinfo": "text",
         "marker": {
          "color": "rgb(0,116,217)"
         },
         "mode": "lines",
         "type": "scatter",
         "x": [
          2360,
          2360,
          2391.25,
          2391.25
         ],
         "xaxis": "x",
         "y": [
          1.1616392224009588,
          1.2681930693264678,
          1.2681930693264678,
          1.20115116908696
         ],
         "yaxis": "y"
        },
        {
         "hoverinfo": "text",
         "marker": {
          "color": "rgb(0,116,217)"
         },
         "mode": "lines",
         "type": "scatter",
         "x": [
          2425,
          2425,
          2435,
          2435
         ],
         "xaxis": "x",
         "y": [
          0,
          1.2085402108965364,
          1.2085402108965364,
          0
         ],
         "yaxis": "y"
        },
        {
         "hoverinfo": "text",
         "marker": {
          "color": "rgb(0,116,217)"
         },
         "mode": "lines",
         "type": "scatter",
         "x": [
          2445,
          2445,
          2455,
          2455
         ],
         "xaxis": "x",
         "y": [
          0,
          1.0322245791187648,
          1.0322245791187648,
          0
         ],
         "yaxis": "y"
        },
        {
         "hoverinfo": "text",
         "marker": {
          "color": "rgb(0,116,217)"
         },
         "mode": "lines",
         "type": "scatter",
         "x": [
          2465,
          2465,
          2475,
          2475
         ],
         "xaxis": "x",
         "y": [
          0,
          1.1145683795447454,
          1.1145683795447454,
          0
         ],
         "yaxis": "y"
        },
        {
         "hoverinfo": "text",
         "marker": {
          "color": "rgb(0,116,217)"
         },
         "mode": "lines",
         "type": "scatter",
         "x": [
          2450,
          2450,
          2470,
          2470
         ],
         "xaxis": "x",
         "y": [
          1.0322245791187648,
          1.1626301513374497,
          1.1626301513374497,
          1.1145683795447454
         ],
         "yaxis": "y"
        },
        {
         "hoverinfo": "text",
         "marker": {
          "color": "rgb(0,116,217)"
         },
         "mode": "lines",
         "type": "scatter",
         "x": [
          2485,
          2485,
          2495,
          2495
         ],
         "xaxis": "x",
         "y": [
          0,
          1.1410764032822482,
          1.1410764032822482,
          0
         ],
         "yaxis": "y"
        },
        {
         "hoverinfo": "text",
         "marker": {
          "color": "rgb(0,116,217)"
         },
         "mode": "lines",
         "type": "scatter",
         "x": [
          2515,
          2515,
          2525,
          2525
         ],
         "xaxis": "x",
         "y": [
          0,
          1.07500618370124,
          1.07500618370124,
          0
         ],
         "yaxis": "y"
        },
        {
         "hoverinfo": "text",
         "marker": {
          "color": "rgb(0,116,217)"
         },
         "mode": "lines",
         "type": "scatter",
         "x": [
          2505,
          2505,
          2520,
          2520
         ],
         "xaxis": "x",
         "y": [
          0,
          1.1614372055762003,
          1.1614372055762003,
          1.07500618370124
         ],
         "yaxis": "y"
        },
        {
         "hoverinfo": "text",
         "marker": {
          "color": "rgb(0,116,217)"
         },
         "mode": "lines",
         "type": "scatter",
         "x": [
          2490,
          2490,
          2512.5,
          2512.5
         ],
         "xaxis": "x",
         "y": [
          1.1410764032822482,
          1.2307696474394818,
          1.2307696474394818,
          1.1614372055762003
         ],
         "yaxis": "y"
        },
        {
         "hoverinfo": "text",
         "marker": {
          "color": "rgb(0,116,217)"
         },
         "mode": "lines",
         "type": "scatter",
         "x": [
          2460,
          2460,
          2501.25,
          2501.25
         ],
         "xaxis": "x",
         "y": [
          1.1626301513374497,
          1.2687131092804256,
          1.2687131092804256,
          1.2307696474394818
         ],
         "yaxis": "y"
        },
        {
         "hoverinfo": "text",
         "marker": {
          "color": "rgb(0,116,217)"
         },
         "mode": "lines",
         "type": "scatter",
         "x": [
          2430,
          2430,
          2480.625,
          2480.625
         ],
         "xaxis": "x",
         "y": [
          1.2085402108965364,
          1.2873812381452754,
          1.2873812381452754,
          1.2687131092804256
         ],
         "yaxis": "y"
        },
        {
         "hoverinfo": "text",
         "marker": {
          "color": "rgb(0,116,217)"
         },
         "mode": "lines",
         "type": "scatter",
         "x": [
          2375.625,
          2375.625,
          2455.3125,
          2455.3125
         ],
         "xaxis": "x",
         "y": [
          1.2681930693264678,
          1.2953828098422269,
          1.2953828098422269,
          1.2873812381452754
         ],
         "yaxis": "y"
        },
        {
         "hoverinfo": "text",
         "marker": {
          "color": "rgb(0,116,217)"
         },
         "mode": "lines",
         "type": "scatter",
         "x": [
          2535,
          2535,
          2545,
          2545
         ],
         "xaxis": "x",
         "y": [
          0,
          1.0971769195659271,
          1.0971769195659271,
          0
         ],
         "yaxis": "y"
        },
        {
         "hoverinfo": "text",
         "marker": {
          "color": "rgb(0,116,217)"
         },
         "mode": "lines",
         "type": "scatter",
         "x": [
          2565,
          2565,
          2575,
          2575
         ],
         "xaxis": "x",
         "y": [
          0,
          1.1175932625008875,
          1.1175932625008875,
          0
         ],
         "yaxis": "y"
        },
        {
         "hoverinfo": "text",
         "marker": {
          "color": "rgb(0,116,217)"
         },
         "mode": "lines",
         "type": "scatter",
         "x": [
          2595,
          2595,
          2605,
          2605
         ],
         "xaxis": "x",
         "y": [
          0,
          1.0774937413811099,
          1.0774937413811099,
          0
         ],
         "yaxis": "y"
        },
        {
         "hoverinfo": "text",
         "marker": {
          "color": "rgb(0,116,217)"
         },
         "mode": "lines",
         "type": "scatter",
         "x": [
          2585,
          2585,
          2600,
          2600
         ],
         "xaxis": "x",
         "y": [
          0,
          1.1303965332979053,
          1.1303965332979053,
          1.0774937413811099
         ],
         "yaxis": "y"
        },
        {
         "hoverinfo": "text",
         "marker": {
          "color": "rgb(0,116,217)"
         },
         "mode": "lines",
         "type": "scatter",
         "x": [
          2570,
          2570,
          2592.5,
          2592.5
         ],
         "xaxis": "x",
         "y": [
          1.1175932625008875,
          1.2185871704413516,
          1.2185871704413516,
          1.1303965332979053
         ],
         "yaxis": "y"
        },
        {
         "hoverinfo": "text",
         "marker": {
          "color": "rgb(0,116,217)"
         },
         "mode": "lines",
         "type": "scatter",
         "x": [
          2555,
          2555,
          2581.25,
          2581.25
         ],
         "xaxis": "x",
         "y": [
          0,
          1.2632813556426699,
          1.2632813556426699,
          1.2185871704413516
         ],
         "yaxis": "y"
        },
        {
         "hoverinfo": "text",
         "marker": {
          "color": "rgb(0,116,217)"
         },
         "mode": "lines",
         "type": "scatter",
         "x": [
          2540,
          2540,
          2568.125,
          2568.125
         ],
         "xaxis": "x",
         "y": [
          1.0971769195659271,
          1.3070610671204388,
          1.3070610671204388,
          1.2632813556426699
         ],
         "yaxis": "y"
        },
        {
         "hoverinfo": "text",
         "marker": {
          "color": "rgb(0,116,217)"
         },
         "mode": "lines",
         "type": "scatter",
         "x": [
          2415.46875,
          2415.46875,
          2554.0625,
          2554.0625
         ],
         "xaxis": "x",
         "y": [
          1.2953828098422269,
          1.313623347729666,
          1.313623347729666,
          1.3070610671204388
         ],
         "yaxis": "y"
        },
        {
         "hoverinfo": "text",
         "marker": {
          "color": "rgb(0,116,217)"
         },
         "mode": "lines",
         "type": "scatter",
         "x": [
          2625,
          2625,
          2635,
          2635
         ],
         "xaxis": "x",
         "y": [
          0,
          1.207664155384337,
          1.207664155384337,
          0
         ],
         "yaxis": "y"
        },
        {
         "hoverinfo": "text",
         "marker": {
          "color": "rgb(0,116,217)"
         },
         "mode": "lines",
         "type": "scatter",
         "x": [
          2615,
          2615,
          2630,
          2630
         ],
         "xaxis": "x",
         "y": [
          0,
          1.2725294664973599,
          1.2725294664973599,
          1.207664155384337
         ],
         "yaxis": "y"
        },
        {
         "hoverinfo": "text",
         "marker": {
          "color": "rgb(0,116,217)"
         },
         "mode": "lines",
         "type": "scatter",
         "x": [
          2645,
          2645,
          2655,
          2655
         ],
         "xaxis": "x",
         "y": [
          0,
          1.0768610489135515,
          1.0768610489135515,
          0
         ],
         "yaxis": "y"
        },
        {
         "hoverinfo": "text",
         "marker": {
          "color": "rgb(0,116,217)"
         },
         "mode": "lines",
         "type": "scatter",
         "x": [
          2665,
          2665,
          2675,
          2675
         ],
         "xaxis": "x",
         "y": [
          0,
          1.0775178688386082,
          1.0775178688386082,
          0
         ],
         "yaxis": "y"
        },
        {
         "hoverinfo": "text",
         "marker": {
          "color": "rgb(0,116,217)"
         },
         "mode": "lines",
         "type": "scatter",
         "x": [
          2650,
          2650,
          2670,
          2670
         ],
         "xaxis": "x",
         "y": [
          1.0768610489135515,
          1.277063778831526,
          1.277063778831526,
          1.0775178688386082
         ],
         "yaxis": "y"
        },
        {
         "hoverinfo": "text",
         "marker": {
          "color": "rgb(0,116,217)"
         },
         "mode": "lines",
         "type": "scatter",
         "x": [
          2622.5,
          2622.5,
          2660,
          2660
         ],
         "xaxis": "x",
         "y": [
          1.2725294664973599,
          1.3221741712646438,
          1.3221741712646438,
          1.277063778831526
         ],
         "yaxis": "y"
        },
        {
         "hoverinfo": "text",
         "marker": {
          "color": "rgb(0,116,217)"
         },
         "mode": "lines",
         "type": "scatter",
         "x": [
          2484.765625,
          2484.765625,
          2641.25,
          2641.25
         ],
         "xaxis": "x",
         "y": [
          1.313623347729666,
          1.3332900346447236,
          1.3332900346447236,
          1.3221741712646438
         ],
         "yaxis": "y"
        },
        {
         "hoverinfo": "text",
         "marker": {
          "color": "rgb(0,116,217)"
         },
         "mode": "lines",
         "type": "scatter",
         "x": [
          2285,
          2285,
          2563.0078125,
          2563.0078125
         ],
         "xaxis": "x",
         "y": [
          1.327057389800024,
          1.3415426544729605,
          1.3415426544729605,
          1.3332900346447236
         ],
         "yaxis": "y"
        },
        {
         "hoverinfo": "text",
         "marker": {
          "color": "rgb(0,116,217)"
         },
         "mode": "lines",
         "type": "scatter",
         "x": [
          2240,
          2240,
          2424.00390625,
          2424.00390625
         ],
         "xaxis": "x",
         "y": [
          1.315234753299126,
          1.3560284581591722,
          1.3560284581591722,
          1.3415426544729605
         ],
         "yaxis": "y"
        },
        {
         "hoverinfo": "text",
         "marker": {
          "color": "rgb(0,116,217)"
         },
         "mode": "lines",
         "type": "scatter",
         "x": [
          1833.4765625,
          1833.4765625,
          2332.001953125,
          2332.001953125
         ],
         "xaxis": "x",
         "y": [
          1.3483207006955331,
          1.368815159504214,
          1.368815159504214,
          1.3560284581591722
         ],
         "yaxis": "y"
        },
        {
         "hoverinfo": "text",
         "marker": {
          "color": "rgb(0,116,217)"
         },
         "mode": "lines",
         "type": "scatter",
         "x": [
          1518.41796875,
          1518.41796875,
          2082.7392578125,
          2082.7392578125
         ],
         "xaxis": "x",
         "y": [
          1.2810796530521251,
          1.3721905994451575,
          1.3721905994451575,
          1.368815159504214
         ],
         "yaxis": "y"
        },
        {
         "hoverinfo": "text",
         "marker": {
          "color": "rgb(0,116,217)"
         },
         "mode": "lines",
         "type": "scatter",
         "x": [
          1425.625,
          1425.625,
          1800.57861328125,
          1800.57861328125
         ],
         "xaxis": "x",
         "y": [
          1.3529916883721838,
          1.3784150558479158,
          1.3784150558479158,
          1.3721905994451575
         ],
         "yaxis": "y"
        },
        {
         "hoverinfo": "text",
         "marker": {
          "color": "rgb(0,116,217)"
         },
         "mode": "lines",
         "type": "scatter",
         "x": [
          821.663818359375,
          821.663818359375,
          1613.101806640625,
          1613.101806640625
         ],
         "xaxis": "x",
         "y": [
          1.375019498127988,
          1.3842932691552008,
          1.3842932691552008,
          1.3784150558479158
         ],
         "yaxis": "y"
        },
        {
         "hoverinfo": "text",
         "marker": {
          "color": "rgb(0,116,217)"
         },
         "mode": "lines",
         "type": "scatter",
         "x": [
          134.53125,
          134.53125,
          1217.3828125,
          1217.3828125
         ],
         "xaxis": "x",
         "y": [
          1.34924354907317,
          1.386521185563146,
          1.386521185563146,
          1.3842932691552008
         ],
         "yaxis": "y"
        },
        {
         "hoverinfo": "text",
         "marker": {
          "color": "rgb(0,116,217)"
         },
         "mode": "lines",
         "type": "scatter",
         "x": [
          37.1875,
          37.1875,
          675.95703125,
          675.95703125
         ],
         "xaxis": "x",
         "y": [
          1.3754864218405751,
          1.3896291336231024,
          1.3896291336231024,
          1.386521185563146
         ],
         "yaxis": "y"
        }
       ],
       "layout": {
        "autosize": false,
        "height": null,
        "hovermode": "closest",
        "showlegend": false,
        "template": {
         "data": {
          "bar": [
           {
            "error_x": {
             "color": "#2a3f5f"
            },
            "error_y": {
             "color": "#2a3f5f"
            },
            "marker": {
             "line": {
              "color": "#E5ECF6",
              "width": 0.5
             }
            },
            "type": "bar"
           }
          ],
          "barpolar": [
           {
            "marker": {
             "line": {
              "color": "#E5ECF6",
              "width": 0.5
             }
            },
            "type": "barpolar"
           }
          ],
          "carpet": [
           {
            "aaxis": {
             "endlinecolor": "#2a3f5f",
             "gridcolor": "white",
             "linecolor": "white",
             "minorgridcolor": "white",
             "startlinecolor": "#2a3f5f"
            },
            "baxis": {
             "endlinecolor": "#2a3f5f",
             "gridcolor": "white",
             "linecolor": "white",
             "minorgridcolor": "white",
             "startlinecolor": "#2a3f5f"
            },
            "type": "carpet"
           }
          ],
          "choropleth": [
           {
            "colorbar": {
             "outlinewidth": 0,
             "ticks": ""
            },
            "type": "choropleth"
           }
          ],
          "contour": [
           {
            "colorbar": {
             "outlinewidth": 0,
             "ticks": ""
            },
            "colorscale": [
             [
              0,
              "#0d0887"
             ],
             [
              0.1111111111111111,
              "#46039f"
             ],
             [
              0.2222222222222222,
              "#7201a8"
             ],
             [
              0.3333333333333333,
              "#9c179e"
             ],
             [
              0.4444444444444444,
              "#bd3786"
             ],
             [
              0.5555555555555556,
              "#d8576b"
             ],
             [
              0.6666666666666666,
              "#ed7953"
             ],
             [
              0.7777777777777778,
              "#fb9f3a"
             ],
             [
              0.8888888888888888,
              "#fdca26"
             ],
             [
              1,
              "#f0f921"
             ]
            ],
            "type": "contour"
           }
          ],
          "contourcarpet": [
           {
            "colorbar": {
             "outlinewidth": 0,
             "ticks": ""
            },
            "type": "contourcarpet"
           }
          ],
          "heatmap": [
           {
            "colorbar": {
             "outlinewidth": 0,
             "ticks": ""
            },
            "colorscale": [
             [
              0,
              "#0d0887"
             ],
             [
              0.1111111111111111,
              "#46039f"
             ],
             [
              0.2222222222222222,
              "#7201a8"
             ],
             [
              0.3333333333333333,
              "#9c179e"
             ],
             [
              0.4444444444444444,
              "#bd3786"
             ],
             [
              0.5555555555555556,
              "#d8576b"
             ],
             [
              0.6666666666666666,
              "#ed7953"
             ],
             [
              0.7777777777777778,
              "#fb9f3a"
             ],
             [
              0.8888888888888888,
              "#fdca26"
             ],
             [
              1,
              "#f0f921"
             ]
            ],
            "type": "heatmap"
           }
          ],
          "heatmapgl": [
           {
            "colorbar": {
             "outlinewidth": 0,
             "ticks": ""
            },
            "colorscale": [
             [
              0,
              "#0d0887"
             ],
             [
              0.1111111111111111,
              "#46039f"
             ],
             [
              0.2222222222222222,
              "#7201a8"
             ],
             [
              0.3333333333333333,
              "#9c179e"
             ],
             [
              0.4444444444444444,
              "#bd3786"
             ],
             [
              0.5555555555555556,
              "#d8576b"
             ],
             [
              0.6666666666666666,
              "#ed7953"
             ],
             [
              0.7777777777777778,
              "#fb9f3a"
             ],
             [
              0.8888888888888888,
              "#fdca26"
             ],
             [
              1,
              "#f0f921"
             ]
            ],
            "type": "heatmapgl"
           }
          ],
          "histogram": [
           {
            "marker": {
             "colorbar": {
              "outlinewidth": 0,
              "ticks": ""
             }
            },
            "type": "histogram"
           }
          ],
          "histogram2d": [
           {
            "colorbar": {
             "outlinewidth": 0,
             "ticks": ""
            },
            "colorscale": [
             [
              0,
              "#0d0887"
             ],
             [
              0.1111111111111111,
              "#46039f"
             ],
             [
              0.2222222222222222,
              "#7201a8"
             ],
             [
              0.3333333333333333,
              "#9c179e"
             ],
             [
              0.4444444444444444,
              "#bd3786"
             ],
             [
              0.5555555555555556,
              "#d8576b"
             ],
             [
              0.6666666666666666,
              "#ed7953"
             ],
             [
              0.7777777777777778,
              "#fb9f3a"
             ],
             [
              0.8888888888888888,
              "#fdca26"
             ],
             [
              1,
              "#f0f921"
             ]
            ],
            "type": "histogram2d"
           }
          ],
          "histogram2dcontour": [
           {
            "colorbar": {
             "outlinewidth": 0,
             "ticks": ""
            },
            "colorscale": [
             [
              0,
              "#0d0887"
             ],
             [
              0.1111111111111111,
              "#46039f"
             ],
             [
              0.2222222222222222,
              "#7201a8"
             ],
             [
              0.3333333333333333,
              "#9c179e"
             ],
             [
              0.4444444444444444,
              "#bd3786"
             ],
             [
              0.5555555555555556,
              "#d8576b"
             ],
             [
              0.6666666666666666,
              "#ed7953"
             ],
             [
              0.7777777777777778,
              "#fb9f3a"
             ],
             [
              0.8888888888888888,
              "#fdca26"
             ],
             [
              1,
              "#f0f921"
             ]
            ],
            "type": "histogram2dcontour"
           }
          ],
          "mesh3d": [
           {
            "colorbar": {
             "outlinewidth": 0,
             "ticks": ""
            },
            "type": "mesh3d"
           }
          ],
          "parcoords": [
           {
            "line": {
             "colorbar": {
              "outlinewidth": 0,
              "ticks": ""
             }
            },
            "type": "parcoords"
           }
          ],
          "scatter": [
           {
            "marker": {
             "colorbar": {
              "outlinewidth": 0,
              "ticks": ""
             }
            },
            "type": "scatter"
           }
          ],
          "scatter3d": [
           {
            "line": {
             "colorbar": {
              "outlinewidth": 0,
              "ticks": ""
             }
            },
            "marker": {
             "colorbar": {
              "outlinewidth": 0,
              "ticks": ""
             }
            },
            "type": "scatter3d"
           }
          ],
          "scattercarpet": [
           {
            "marker": {
             "colorbar": {
              "outlinewidth": 0,
              "ticks": ""
             }
            },
            "type": "scattercarpet"
           }
          ],
          "scattergeo": [
           {
            "marker": {
             "colorbar": {
              "outlinewidth": 0,
              "ticks": ""
             }
            },
            "type": "scattergeo"
           }
          ],
          "scattergl": [
           {
            "marker": {
             "colorbar": {
              "outlinewidth": 0,
              "ticks": ""
             }
            },
            "type": "scattergl"
           }
          ],
          "scattermapbox": [
           {
            "marker": {
             "colorbar": {
              "outlinewidth": 0,
              "ticks": ""
             }
            },
            "type": "scattermapbox"
           }
          ],
          "scatterpolar": [
           {
            "marker": {
             "colorbar": {
              "outlinewidth": 0,
              "ticks": ""
             }
            },
            "type": "scatterpolar"
           }
          ],
          "scatterpolargl": [
           {
            "marker": {
             "colorbar": {
              "outlinewidth": 0,
              "ticks": ""
             }
            },
            "type": "scatterpolargl"
           }
          ],
          "scatterternary": [
           {
            "marker": {
             "colorbar": {
              "outlinewidth": 0,
              "ticks": ""
             }
            },
            "type": "scatterternary"
           }
          ],
          "surface": [
           {
            "colorbar": {
             "outlinewidth": 0,
             "ticks": ""
            },
            "colorscale": [
             [
              0,
              "#0d0887"
             ],
             [
              0.1111111111111111,
              "#46039f"
             ],
             [
              0.2222222222222222,
              "#7201a8"
             ],
             [
              0.3333333333333333,
              "#9c179e"
             ],
             [
              0.4444444444444444,
              "#bd3786"
             ],
             [
              0.5555555555555556,
              "#d8576b"
             ],
             [
              0.6666666666666666,
              "#ed7953"
             ],
             [
              0.7777777777777778,
              "#fb9f3a"
             ],
             [
              0.8888888888888888,
              "#fdca26"
             ],
             [
              1,
              "#f0f921"
             ]
            ],
            "type": "surface"
           }
          ],
          "table": [
           {
            "cells": {
             "fill": {
              "color": "#EBF0F8"
             },
             "line": {
              "color": "white"
             }
            },
            "header": {
             "fill": {
              "color": "#C8D4E3"
             },
             "line": {
              "color": "white"
             }
            },
            "type": "table"
           }
          ]
         },
         "layout": {
          "annotationdefaults": {
           "arrowcolor": "#2a3f5f",
           "arrowhead": 0,
           "arrowwidth": 1
          },
          "colorscale": {
           "diverging": [
            [
             0,
             "#8e0152"
            ],
            [
             0.1,
             "#c51b7d"
            ],
            [
             0.2,
             "#de77ae"
            ],
            [
             0.3,
             "#f1b6da"
            ],
            [
             0.4,
             "#fde0ef"
            ],
            [
             0.5,
             "#f7f7f7"
            ],
            [
             0.6,
             "#e6f5d0"
            ],
            [
             0.7,
             "#b8e186"
            ],
            [
             0.8,
             "#7fbc41"
            ],
            [
             0.9,
             "#4d9221"
            ],
            [
             1,
             "#276419"
            ]
           ],
           "sequential": [
            [
             0,
             "#0d0887"
            ],
            [
             0.1111111111111111,
             "#46039f"
            ],
            [
             0.2222222222222222,
             "#7201a8"
            ],
            [
             0.3333333333333333,
             "#9c179e"
            ],
            [
             0.4444444444444444,
             "#bd3786"
            ],
            [
             0.5555555555555556,
             "#d8576b"
            ],
            [
             0.6666666666666666,
             "#ed7953"
            ],
            [
             0.7777777777777778,
             "#fb9f3a"
            ],
            [
             0.8888888888888888,
             "#fdca26"
            ],
            [
             1,
             "#f0f921"
            ]
           ],
           "sequentialminus": [
            [
             0,
             "#0d0887"
            ],
            [
             0.1111111111111111,
             "#46039f"
            ],
            [
             0.2222222222222222,
             "#7201a8"
            ],
            [
             0.3333333333333333,
             "#9c179e"
            ],
            [
             0.4444444444444444,
             "#bd3786"
            ],
            [
             0.5555555555555556,
             "#d8576b"
            ],
            [
             0.6666666666666666,
             "#ed7953"
            ],
            [
             0.7777777777777778,
             "#fb9f3a"
            ],
            [
             0.8888888888888888,
             "#fdca26"
            ],
            [
             1,
             "#f0f921"
            ]
           ]
          },
          "colorway": [
           "#636efa",
           "#EF553B",
           "#00cc96",
           "#ab63fa",
           "#FFA15A",
           "#19d3f3",
           "#FF6692",
           "#B6E880",
           "#FF97FF",
           "#FECB52"
          ],
          "font": {
           "color": "#2a3f5f"
          },
          "geo": {
           "bgcolor": "white",
           "lakecolor": "white",
           "landcolor": "#E5ECF6",
           "showlakes": true,
           "showland": true,
           "subunitcolor": "white"
          },
          "hoverlabel": {
           "align": "left"
          },
          "hovermode": "closest",
          "mapbox": {
           "style": "light"
          },
          "paper_bgcolor": "white",
          "plot_bgcolor": "#E5ECF6",
          "polar": {
           "angularaxis": {
            "gridcolor": "white",
            "linecolor": "white",
            "ticks": ""
           },
           "bgcolor": "#E5ECF6",
           "radialaxis": {
            "gridcolor": "white",
            "linecolor": "white",
            "ticks": ""
           }
          },
          "scene": {
           "xaxis": {
            "backgroundcolor": "#E5ECF6",
            "gridcolor": "white",
            "gridwidth": 2,
            "linecolor": "white",
            "showbackground": true,
            "ticks": "",
            "zerolinecolor": "white"
           },
           "yaxis": {
            "backgroundcolor": "#E5ECF6",
            "gridcolor": "white",
            "gridwidth": 2,
            "linecolor": "white",
            "showbackground": true,
            "ticks": "",
            "zerolinecolor": "white"
           },
           "zaxis": {
            "backgroundcolor": "#E5ECF6",
            "gridcolor": "white",
            "gridwidth": 2,
            "linecolor": "white",
            "showbackground": true,
            "ticks": "",
            "zerolinecolor": "white"
           }
          },
          "shapedefaults": {
           "line": {
            "color": "#2a3f5f"
           }
          },
          "ternary": {
           "aaxis": {
            "gridcolor": "white",
            "linecolor": "white",
            "ticks": ""
           },
           "baxis": {
            "gridcolor": "white",
            "linecolor": "white",
            "ticks": ""
           },
           "bgcolor": "#E5ECF6",
           "caxis": {
            "gridcolor": "white",
            "linecolor": "white",
            "ticks": ""
           }
          },
          "title": {
           "x": 0.05
          },
          "xaxis": {
           "automargin": true,
           "gridcolor": "white",
           "linecolor": "white",
           "ticks": "",
           "zerolinecolor": "white",
           "zerolinewidth": 2
          },
          "yaxis": {
           "automargin": true,
           "gridcolor": "white",
           "linecolor": "white",
           "ticks": "",
           "zerolinecolor": "white",
           "zerolinewidth": 2
          }
         }
        },
        "width": null,
        "xaxis": {
         "mirror": "allticks",
         "rangemode": "tozero",
         "showgrid": false,
         "showline": true,
         "showticklabels": true,
         "tickmode": "array",
         "ticks": "outside",
         "ticktext": [
          "Hatton Cross",
          "Heathrow Terminal 5",
          "Heathrow Terminals 2 & 3",
          "Heathrow Terminal 4",
          "Osterley",
          "Hounslow West",
          "Hounslow Central",
          "Hounslow East",
          "Boston Manor",
          "Northfields",
          "Croxley",
          "Watford",
          "Chesham",
          "Rickmansworth",
          "Amersham",
          "Chalfont & Latimer",
          "Chorleywood",
          "Moor Park",
          "Pinner",
          "Northwood",
          "Northwood Hills",
          "Clapham South",
          "Clapham Common",
          "Clapham North",
          "Colliers Wood",
          "South Wimbledon",
          "Morden",
          "Tooting Broadway",
          "Balham",
          "Tooting Bec",
          "Brixton",
          "Stockwell",
          "Pimlico",
          "Vauxhall",
          "North Greenwich",
          "Canning Town",
          "Stratford",
          "Canada Water",
          "Canary Wharf",
          "Bermondsey",
          "Southwark",
          "Roding Valley",
          "Hainault",
          "Chigwell",
          "Grange Hill",
          "Gants Hill",
          "Newbury Park",
          "Barkingside",
          "Fairlop",
          "Leyton",
          "Theydon Bois",
          "Leytonstone",
          "Epping",
          "Debden",
          "Loughton",
          "Buckhurst Hill",
          "Snaresbrook",
          "South Woodford",
          "Woodford",
          "South Ruislip",
          "Ruislip Gardens",
          "West Ruislip",
          "Perivale",
          "Greenford",
          "Northolt",
          "Kew Gardens",
          "Gunnersbury",
          "Richmond",
          "Royal Oak",
          "Westbourne Park",
          "Hanger Lane",
          "Park Royal",
          "East Acton",
          "North Acton",
          "West Acton",
          "Tottenham Hale",
          "Walthamstow Central",
          "Blackhorse Road",
          "Seven Sisters",
          "Kensal Green",
          "Harlesden",
          "North Wembley",
          "Kenton",
          "South Kenton",
          "Harrow & Wealdstone",
          "Willesden Junction",
          "Queen's Park",
          "Stonebridge Park",
          "St. John's Wood",
          "West Hampstead",
          "Finchley Road",
          "Swiss Cottage",
          "Stanmore",
          "Baker Street",
          "Kilburn",
          "Lambeth North",
          "Regent's Park",
          "Wembley Central",
          "Wembley Park",
          "Marylebone",
          "Liverpool Street",
          "Cannon Street",
          "London Bridge",
          "Victoria",
          "Finsbury Park",
          "Highbury & Islington",
          "Bank",
          "Waterloo",
          "Goldhawk Road",
          "Latimer Road",
          "Shepherd's Bush",
          "Shepherd's Bush Market",
          "White City",
          "Wood Lane",
          "Ladbroke Grove",
          "Notting Hill Gate",
          "Bayswater",
          "Queensway",
          "Warwick Avenue",
          "Kilburn Park",
          "Maida Vale",
          "Golders Green",
          "Hampstead",
          "Belsize Park",
          "Camden Town",
          "Chalk Farm",
          "Archway",
          "Edgware",
          "Finchley Central",
          "Mill Hill East",
          "East Finchley",
          "Highgate",
          "West Finchley",
          "Woodside Park",
          "High Barnet",
          "Totteridge & Whetstone",
          "Brent Cross",
          "Hendon Central",
          "Burnt Oak",
          "Colindale",
          "Dollis Hill",
          "Mornington Crescent",
          "Canons Park",
          "Queensbury",
          "Kingsbury",
          "Neasden",
          "Willesden Green",
          "Aldgate",
          "Tower Hill",
          "Eastcote",
          "Uxbridge",
          "Hillingdon",
          "West Harrow",
          "Ickenham",
          "Rayners Lane",
          "Ruislip",
          "Ruislip Manor",
          "Farringdon",
          "Barbican",
          "Moorgate",
          "Northwick Park",
          "Preston Road",
          "Euston Square",
          "Great Portland Street",
          "Harrow-on-the-Hill",
          "North Harrow",
          "Wimbledon",
          "Southfields",
          "East Putney",
          "Wimbledon Park",
          "Parsons Green",
          "Fulham Broadway",
          "Putney Bridge",
          "Paddington (Bakerloo, Circle, and District)",
          "Paddington (Circle and H&C)",
          "Mansion House",
          "Sloane Square",
          "St. James's Park",
          "Temple",
          "Westminster",
          "Gloucester Road",
          "South Kensington",
          "Kensington (Olympia)",
          "West Brompton",
          "Edgware Road",
          "High Street Kensington",
          "Barons Court",
          "Earl's Court",
          "West Kensington",
          "Acton Town",
          "South Ealing",
          "Ealing Broadway",
          "Ealing Common",
          "North Ealing",
          "South Harrow",
          "Alperton",
          "Sudbury Hill",
          "Sudbury Town",
          "Chiswick Park",
          "Hammersmith (District and Piccadilly)",
          "Hammersmith (Circle and H&C)",
          "Stamford Brook",
          "Ravenscourt Park",
          "Turnham Green",
          "Upminster",
          "Hornchurch",
          "Upminster Bridge",
          "Becontree",
          "Dagenham East",
          "Elm Park",
          "Dagenham Heathway",
          "Upney",
          "Upton Park",
          "Bromley-by-Bow",
          "Plaistow",
          "East Ham",
          "West Ham",
          "Barking",
          "Stepney Green",
          "Aldgate East",
          "Whitechapel",
          "Bow Road",
          "Mile End",
          "Bethnal Green",
          "Goodge Street",
          "Redbridge",
          "Wanstead",
          "Manor House",
          "Turnpike Lane",
          "Bounds Green",
          "Wood Green",
          "Cockfosters",
          "Oakwood",
          "Arnos Grove",
          "Southgate",
          "Kentish Town",
          "Tufnell Park",
          "Charing Cross",
          "Embankment",
          "Warren Street",
          "Euston",
          "King's Cross St Pancras",
          "Caledonian Road",
          "Russell Square",
          "Green Park",
          "Oxford Circus",
          "Bond Street",
          "Tottenham Court Road",
          "Hyde Park Corner",
          "Knightsbridge",
          "Covent Garden",
          "Leicester Square",
          "Piccadilly Circus",
          "Arsenal",
          "Holloway Road",
          "Oval",
          "Angel",
          "Old Street",
          "Borough",
          "Elephant & Castle",
          "Kennington",
          "Holland Park",
          "Lancaster Gate",
          "Marble Arch",
          "Chancery Lane",
          "Holborn",
          "Blackfriars",
          "St. Paul's"
         ],
         "tickvals": [
          5,
          15,
          25,
          35,
          45,
          55,
          65,
          75,
          85,
          95,
          105,
          115,
          125,
          135,
          145,
          155,
          165,
          175,
          185,
          195,
          205,
          215,
          225,
          235,
          245,
          255,
          265,
          275,
          285,
          295,
          305,
          315,
          325,
          335,
          345,
          355,
          365,
          375,
          385,
          395,
          405,
          415,
          425,
          435,
          445,
          455,
          465,
          475,
          485,
          495,
          505,
          515,
          525,
          535,
          545,
          555,
          565,
          575,
          585,
          595,
          605,
          615,
          625,
          635,
          645,
          655,
          665,
          675,
          685,
          695,
          705,
          715,
          725,
          735,
          745,
          755,
          765,
          775,
          785,
          795,
          805,
          815,
          825,
          835,
          845,
          855,
          865,
          875,
          885,
          895,
          905,
          915,
          925,
          935,
          945,
          955,
          965,
          975,
          985,
          995,
          1005,
          1015,
          1025,
          1035,
          1045,
          1055,
          1065,
          1075,
          1085,
          1095,
          1105,
          1115,
          1125,
          1135,
          1145,
          1155,
          1165,
          1175,
          1185,
          1195,
          1205,
          1215,
          1225,
          1235,
          1245,
          1255,
          1265,
          1275,
          1285,
          1295,
          1305,
          1315,
          1325,
          1335,
          1345,
          1355,
          1365,
          1375,
          1385,
          1395,
          1405,
          1415,
          1425,
          1435,
          1445,
          1455,
          1465,
          1475,
          1485,
          1495,
          1505,
          1515,
          1525,
          1535,
          1545,
          1555,
          1565,
          1575,
          1585,
          1595,
          1605,
          1615,
          1625,
          1635,
          1645,
          1655,
          1665,
          1675,
          1685,
          1695,
          1705,
          1715,
          1725,
          1735,
          1745,
          1755,
          1765,
          1775,
          1785,
          1795,
          1805,
          1815,
          1825,
          1835,
          1845,
          1855,
          1865,
          1875,
          1885,
          1895,
          1905,
          1915,
          1925,
          1935,
          1945,
          1955,
          1965,
          1975,
          1985,
          1995,
          2005,
          2015,
          2025,
          2035,
          2045,
          2055,
          2065,
          2075,
          2085,
          2095,
          2105,
          2115,
          2125,
          2135,
          2145,
          2155,
          2165,
          2175,
          2185,
          2195,
          2205,
          2215,
          2225,
          2235,
          2245,
          2255,
          2265,
          2275,
          2285,
          2295,
          2305,
          2315,
          2325,
          2335,
          2345,
          2355,
          2365,
          2375,
          2385,
          2395,
          2405,
          2415,
          2425,
          2435,
          2445,
          2455,
          2465,
          2475,
          2485,
          2495,
          2505,
          2515,
          2525,
          2535,
          2545,
          2555,
          2565,
          2575,
          2585,
          2595,
          2605,
          2615,
          2625,
          2635,
          2645,
          2655,
          2665,
          2675
         ],
         "type": "linear",
         "zeroline": false
        },
        "yaxis": {
         "mirror": "allticks",
         "rangemode": "tozero",
         "showgrid": false,
         "showline": true,
         "showticklabels": true,
         "ticks": "outside",
         "type": "linear",
         "zeroline": false
        }
       }
      },
      "text/html": [
       "<div>\n",
       "        \n",
       "        \n",
       "            <div id=\"07637699-ca67-482a-9af3-64e18cf67f50\" class=\"plotly-graph-div\" style=\"height:infpx; width:infpx;\"></div>\n",
       "            <script type=\"text/javascript\">\n",
       "                require([\"plotly\"], function(Plotly) {\n",
       "                    window.PLOTLYENV=window.PLOTLYENV || {};\n",
       "                    \n",
       "                if (document.getElementById(\"07637699-ca67-482a-9af3-64e18cf67f50\")) {\n",
       "                    Plotly.newPlot(\n",
       "                        '07637699-ca67-482a-9af3-64e18cf67f50',\n",
       "                        [{\"hoverinfo\": \"text\", \"marker\": {\"color\": \"rgb(61,153,112)\"}, \"mode\": \"lines\", \"type\": \"scatter\", \"x\": [25.0, 25.0, 35.0, 35.0], \"xaxis\": \"x\", \"y\": [0.0, 0.42240515687693697, 0.42240515687693697, 0.0], \"yaxis\": \"y\"}, {\"hoverinfo\": \"text\", \"marker\": {\"color\": \"rgb(61,153,112)\"}, \"mode\": \"lines\", \"type\": \"scatter\", \"x\": [15.0, 15.0, 30.0, 30.0], \"xaxis\": \"x\", \"y\": [0.0, 0.6227349344126765, 0.6227349344126765, 0.42240515687693697], \"yaxis\": \"y\"}, {\"hoverinfo\": \"text\", \"marker\": {\"color\": \"rgb(61,153,112)\"}, \"mode\": \"lines\", \"type\": \"scatter\", \"x\": [5.0, 5.0, 22.5, 22.5], \"xaxis\": \"x\", \"y\": [0.0, 0.8998010431147485, 0.8998010431147485, 0.6227349344126765], \"yaxis\": \"y\"}, {\"hoverinfo\": \"text\", \"marker\": {\"color\": \"rgb(255,65,54)\"}, \"mode\": \"lines\", \"type\": \"scatter\", \"x\": [65.0, 65.0, 75.0, 75.0], \"xaxis\": \"x\", \"y\": [0.0, 0.3478627533566429, 0.3478627533566429, 0.0], \"yaxis\": \"y\"}, {\"hoverinfo\": \"text\", \"marker\": {\"color\": \"rgb(255,65,54)\"}, \"mode\": \"lines\", \"type\": \"scatter\", \"x\": [55.0, 55.0, 70.0, 70.0], \"xaxis\": \"x\", \"y\": [0.0, 0.6175799875365046, 0.6175799875365046, 0.3478627533566429], \"yaxis\": \"y\"}, {\"hoverinfo\": \"text\", \"marker\": {\"color\": \"rgb(0,116,217)\"}, \"mode\": \"lines\", \"type\": \"scatter\", \"x\": [85.0, 85.0, 95.0, 95.0], \"xaxis\": \"x\", \"y\": [0.0, 1.0610817838484234, 1.0610817838484234, 0.0], \"yaxis\": \"y\"}, {\"hoverinfo\": \"text\", \"marker\": {\"color\": \"rgb(0,116,217)\"}, \"mode\": \"lines\", \"type\": \"scatter\", \"x\": [62.5, 62.5, 90.0, 90.0], \"xaxis\": \"x\", \"y\": [0.6175799875365046, 1.221105332438068, 1.221105332438068, 1.0610817838484234], \"yaxis\": \"y\"}, {\"hoverinfo\": \"text\", \"marker\": {\"color\": \"rgb(0,116,217)\"}, \"mode\": \"lines\", \"type\": \"scatter\", \"x\": [45.0, 45.0, 76.25, 76.25], \"xaxis\": \"x\", \"y\": [0.0, 1.2931984386740938, 1.2931984386740938, 1.221105332438068], \"yaxis\": \"y\"}, {\"hoverinfo\": \"text\", \"marker\": {\"color\": \"rgb(0,116,217)\"}, \"mode\": \"lines\", \"type\": \"scatter\", \"x\": [13.75, 13.75, 60.625, 60.625], \"xaxis\": \"x\", \"y\": [0.8998010431147485, 1.3754864218405751, 1.3754864218405751, 1.2931984386740938], \"yaxis\": \"y\"}, {\"hoverinfo\": \"text\", \"marker\": {\"color\": \"rgb(35,205,205)\"}, \"mode\": \"lines\", \"type\": \"scatter\", \"x\": [105.0, 105.0, 115.0, 115.0], \"xaxis\": \"x\", \"y\": [0.0, 0.9273792744257061, 0.9273792744257061, 0.0], \"yaxis\": \"y\"}, {\"hoverinfo\": \"text\", \"marker\": {\"color\": \"rgb(133,20,75)\"}, \"mode\": \"lines\", \"type\": \"scatter\", \"x\": [155.0, 155.0, 165.0, 165.0], \"xaxis\": \"x\", \"y\": [0.0, 0.7692996652608238, 0.7692996652608238, 0.0], \"yaxis\": \"y\"}, {\"hoverinfo\": \"text\", \"marker\": {\"color\": \"rgb(0,116,217)\"}, \"mode\": \"lines\", \"type\": \"scatter\", \"x\": [145.0, 145.0, 160.0, 160.0], \"xaxis\": \"x\", \"y\": [0.0, 1.0283309180967335, 1.0283309180967335, 0.7692996652608238], \"yaxis\": \"y\"}, {\"hoverinfo\": \"text\", \"marker\": {\"color\": \"rgb(0,116,217)\"}, \"mode\": \"lines\", \"type\": \"scatter\", \"x\": [135.0, 135.0, 152.5, 152.5], \"xaxis\": \"x\", \"y\": [0.0, 1.14568978351394, 1.14568978351394, 1.0283309180967335], \"yaxis\": \"y\"}, {\"hoverinfo\": \"text\", \"marker\": {\"color\": \"rgb(0,116,217)\"}, \"mode\": \"lines\", \"type\": \"scatter\", \"x\": [125.0, 125.0, 143.75, 143.75], \"xaxis\": \"x\", \"y\": [0.0, 1.1945238902454736, 1.1945238902454736, 1.14568978351394], \"yaxis\": \"y\"}, {\"hoverinfo\": \"text\", \"marker\": {\"color\": \"rgb(255,220,0)\"}, \"mode\": \"lines\", \"type\": \"scatter\", \"x\": [195.0, 195.0, 205.0, 205.0], \"xaxis\": \"x\", \"y\": [0.0, 0.9031425724902942, 0.9031425724902942, 0.0], \"yaxis\": \"y\"}, {\"hoverinfo\": \"text\", \"marker\": {\"color\": \"rgb(0,116,217)\"}, \"mode\": \"lines\", \"type\": \"scatter\", \"x\": [185.0, 185.0, 200.0, 200.0], \"xaxis\": \"x\", \"y\": [0.0, 1.132904348139233, 1.132904348139233, 0.9031425724902942], \"yaxis\": \"y\"}, {\"hoverinfo\": \"text\", \"marker\": {\"color\": \"rgb(0,116,217)\"}, \"mode\": \"lines\", \"type\": \"scatter\", \"x\": [175.0, 175.0, 192.5, 192.5], \"xaxis\": \"x\", \"y\": [0.0, 1.2176262193008671, 1.2176262193008671, 1.132904348139233], \"yaxis\": \"y\"}, {\"hoverinfo\": \"text\", \"marker\": {\"color\": \"rgb(0,116,217)\"}, \"mode\": \"lines\", \"type\": \"scatter\", \"x\": [134.375, 134.375, 183.75, 183.75], \"xaxis\": \"x\", \"y\": [1.1945238902454736, 1.2987909624796878, 1.2987909624796878, 1.2176262193008671], \"yaxis\": \"y\"}, {\"hoverinfo\": \"text\", \"marker\": {\"color\": \"rgb(0,116,217)\"}, \"mode\": \"lines\", \"type\": \"scatter\", \"x\": [110.0, 110.0, 159.0625, 159.0625], \"xaxis\": \"x\", \"y\": [0.9273792744257061, 1.34924354907317, 1.34924354907317, 1.2987909624796878], \"yaxis\": \"y\"}, {\"hoverinfo\": \"text\", \"marker\": {\"color\": \"rgb(40,35,35)\"}, \"mode\": \"lines\", \"type\": \"scatter\", \"x\": [225.0, 225.0, 235.0, 235.0], \"xaxis\": \"x\", \"y\": [0.0, 0.8927545911102477, 0.8927545911102477, 0.0], \"yaxis\": \"y\"}, {\"hoverinfo\": \"text\", \"marker\": {\"color\": \"rgb(0,116,217)\"}, \"mode\": \"lines\", \"type\": \"scatter\", \"x\": [215.0, 215.0, 230.0, 230.0], \"xaxis\": \"x\", \"y\": [0.0, 1.1063618954757113, 1.1063618954757113, 0.8927545911102477], \"yaxis\": \"y\"}, {\"hoverinfo\": \"text\", \"marker\": {\"color\": \"rgb(61,153,112)\"}, \"mode\": \"lines\", \"type\": \"scatter\", \"x\": [245.0, 245.0, 255.0, 255.0], \"xaxis\": \"x\", \"y\": [0.0, 0.8520523136800451, 0.8520523136800451, 0.0], \"yaxis\": \"y\"}, {\"hoverinfo\": \"text\", \"marker\": {\"color\": \"rgb(255,65,54)\"}, \"mode\": \"lines\", \"type\": \"scatter\", \"x\": [265.0, 265.0, 275.0, 275.0], \"xaxis\": \"x\", \"y\": [0.0, 0.9665491595406999, 0.9665491595406999, 0.0], \"yaxis\": \"y\"}, {\"hoverinfo\": \"text\", \"marker\": {\"color\": \"rgb(0,116,217)\"}, \"mode\": \"lines\", \"type\": \"scatter\", \"x\": [250.0, 250.0, 270.0, 270.0], \"xaxis\": \"x\", \"y\": [0.8520523136800451, 1.1519349023979542, 1.1519349023979542, 0.9665491595406999], \"yaxis\": \"y\"}, {\"hoverinfo\": \"text\", \"marker\": {\"color\": \"rgb(0,116,217)\"}, \"mode\": \"lines\", \"type\": \"scatter\", \"x\": [285.0, 285.0, 295.0, 295.0], \"xaxis\": \"x\", \"y\": [0.0, 1.1728682833523927, 1.1728682833523927, 0.0], \"yaxis\": \"y\"}, {\"hoverinfo\": \"text\", \"marker\": {\"color\": \"rgb(0,116,217)\"}, \"mode\": \"lines\", \"type\": \"scatter\", \"x\": [260.0, 260.0, 290.0, 290.0], \"xaxis\": \"x\", \"y\": [1.1519349023979542, 1.2285359855937716, 1.2285359855937716, 1.1728682833523927], \"yaxis\": \"y\"}, {\"hoverinfo\": \"text\", \"marker\": {\"color\": \"rgb(0,116,217)\"}, \"mode\": \"lines\", \"type\": \"scatter\", \"x\": [222.5, 222.5, 275.0, 275.0], \"xaxis\": \"x\", \"y\": [1.1063618954757113, 1.3280669069261894, 1.3280669069261894, 1.2285359855937716], \"yaxis\": \"y\"}, {\"hoverinfo\": \"text\", \"marker\": {\"color\": \"rgb(0,116,217)\"}, \"mode\": \"lines\", \"type\": \"scatter\", \"x\": [305.0, 305.0, 315.0, 315.0], \"xaxis\": \"x\", \"y\": [0.0, 1.1775819164110009, 1.1775819164110009, 0.0], \"yaxis\": \"y\"}, {\"hoverinfo\": \"text\", \"marker\": {\"color\": \"rgb(0,116,217)\"}, \"mode\": \"lines\", \"type\": \"scatter\", \"x\": [325.0, 325.0, 335.0, 335.0], \"xaxis\": \"x\", \"y\": [0.0, 1.2519288167795015, 1.2519288167795015, 0.0], \"yaxis\": \"y\"}, {\"hoverinfo\": \"text\", \"marker\": {\"color\": \"rgb(0,116,217)\"}, \"mode\": \"lines\", \"type\": \"scatter\", \"x\": [310.0, 310.0, 330.0, 330.0], \"xaxis\": \"x\", \"y\": [1.1775819164110009, 1.2844612857715567, 1.2844612857715567, 1.2519288167795015], \"yaxis\": \"y\"}, {\"hoverinfo\": \"text\", \"marker\": {\"color\": \"rgb(0,116,217)\"}, \"mode\": \"lines\", \"type\": \"scatter\", \"x\": [355.0, 355.0, 365.0, 365.0], \"xaxis\": \"x\", \"y\": [0.0, 1.0524428956859357, 1.0524428956859357, 0.0], \"yaxis\": \"y\"}, {\"hoverinfo\": \"text\", \"marker\": {\"color\": \"rgb(0,116,217)\"}, \"mode\": \"lines\", \"type\": \"scatter\", \"x\": [345.0, 345.0, 360.0, 360.0], \"xaxis\": \"x\", \"y\": [0.0, 1.254596430292282, 1.254596430292282, 1.0524428956859357], \"yaxis\": \"y\"}, {\"hoverinfo\": \"text\", \"marker\": {\"color\": \"rgb(0,116,217)\"}, \"mode\": \"lines\", \"type\": \"scatter\", \"x\": [375.0, 375.0, 385.0, 385.0], \"xaxis\": \"x\", \"y\": [0.0, 1.1453967193887677, 1.1453967193887677, 0.0], \"yaxis\": \"y\"}, {\"hoverinfo\": \"text\", \"marker\": {\"color\": \"rgb(0,116,217)\"}, \"mode\": \"lines\", \"type\": \"scatter\", \"x\": [395.0, 395.0, 405.0, 405.0], \"xaxis\": \"x\", \"y\": [0.0, 1.265087360214648, 1.265087360214648, 0.0], \"yaxis\": \"y\"}, {\"hoverinfo\": \"text\", \"marker\": {\"color\": \"rgb(0,116,217)\"}, \"mode\": \"lines\", \"type\": \"scatter\", \"x\": [380.0, 380.0, 400.0, 400.0], \"xaxis\": \"x\", \"y\": [1.1453967193887677, 1.2877852145570043, 1.2877852145570043, 1.265087360214648], \"yaxis\": \"y\"}, {\"hoverinfo\": \"text\", \"marker\": {\"color\": \"rgb(0,116,217)\"}, \"mode\": \"lines\", \"type\": \"scatter\", \"x\": [352.5, 352.5, 390.0, 390.0], \"xaxis\": \"x\", \"y\": [1.254596430292282, 1.3216704082587685, 1.3216704082587685, 1.2877852145570043], \"yaxis\": \"y\"}, {\"hoverinfo\": \"text\", \"marker\": {\"color\": \"rgb(0,116,217)\"}, \"mode\": \"lines\", \"type\": \"scatter\", \"x\": [320.0, 320.0, 371.25, 371.25], \"xaxis\": \"x\", \"y\": [1.2844612857715567, 1.3409441004758627, 1.3409441004758627, 1.3216704082587685], \"yaxis\": \"y\"}, {\"hoverinfo\": \"text\", \"marker\": {\"color\": \"rgb(0,116,217)\"}, \"mode\": \"lines\", \"type\": \"scatter\", \"x\": [248.75, 248.75, 345.625, 345.625], \"xaxis\": \"x\", \"y\": [1.3280669069261894, 1.348792602014047, 1.348792602014047, 1.3409441004758627], \"yaxis\": \"y\"}, {\"hoverinfo\": \"text\", \"marker\": {\"color\": \"rgb(35,205,205)\"}, \"mode\": \"lines\", \"type\": \"scatter\", \"x\": [435.0, 435.0, 445.0, 445.0], \"xaxis\": \"x\", \"y\": [0.0, 0.7174248598366338, 0.7174248598366338, 0.0], \"yaxis\": \"y\"}, {\"hoverinfo\": \"text\", \"marker\": {\"color\": \"rgb(35,205,205)\"}, \"mode\": \"lines\", \"type\": \"scatter\", \"x\": [425.0, 425.0, 440.0, 440.0], \"xaxis\": \"x\", \"y\": [0.0, 0.8585368671056559, 0.8585368671056559, 0.7174248598366338], \"yaxis\": \"y\"}, {\"hoverinfo\": \"text\", \"marker\": {\"color\": \"rgb(0,116,217)\"}, \"mode\": \"lines\", \"type\": \"scatter\", \"x\": [415.0, 415.0, 432.5, 432.5], \"xaxis\": \"x\", \"y\": [0.0, 1.036664919756365, 1.036664919756365, 0.8585368671056559], \"yaxis\": \"y\"}, {\"hoverinfo\": \"text\", \"marker\": {\"color\": \"rgb(133,20,75)\"}, \"mode\": \"lines\", \"type\": \"scatter\", \"x\": [455.0, 455.0, 465.0, 465.0], \"xaxis\": \"x\", \"y\": [0.0, 0.8411042763517581, 0.8411042763517581, 0.0], \"yaxis\": \"y\"}, {\"hoverinfo\": \"text\", \"marker\": {\"color\": \"rgb(255,220,0)\"}, \"mode\": \"lines\", \"type\": \"scatter\", \"x\": [475.0, 475.0, 485.0, 485.0], \"xaxis\": \"x\", \"y\": [0.0, 0.914139555205677, 0.914139555205677, 0.0], \"yaxis\": \"y\"}, {\"hoverinfo\": \"text\", \"marker\": {\"color\": \"rgb(0,116,217)\"}, \"mode\": \"lines\", \"type\": \"scatter\", \"x\": [460.0, 460.0, 480.0, 480.0], \"xaxis\": \"x\", \"y\": [0.8411042763517581, 1.163987300336958, 1.163987300336958, 0.914139555205677], \"yaxis\": \"y\"}, {\"hoverinfo\": \"text\", \"marker\": {\"color\": \"rgb(0,116,217)\"}, \"mode\": \"lines\", \"type\": \"scatter\", \"x\": [423.75, 423.75, 470.0, 470.0], \"xaxis\": \"x\", \"y\": [1.036664919756365, 1.2262273500963456, 1.2262273500963456, 1.163987300336958], \"yaxis\": \"y\"}, {\"hoverinfo\": \"text\", \"marker\": {\"color\": \"rgb(0,116,217)\"}, \"mode\": \"lines\", \"type\": \"scatter\", \"x\": [495.0, 495.0, 505.0, 505.0], \"xaxis\": \"x\", \"y\": [0.0, 1.2258593129850652, 1.2258593129850652, 0.0], \"yaxis\": \"y\"}, {\"hoverinfo\": \"text\", \"marker\": {\"color\": \"rgb(0,116,217)\"}, \"mode\": \"lines\", \"type\": \"scatter\", \"x\": [535.0, 535.0, 545.0, 545.0], \"xaxis\": \"x\", \"y\": [0.0, 1.0927522341597657, 1.0927522341597657, 0.0], \"yaxis\": \"y\"}, {\"hoverinfo\": \"text\", \"marker\": {\"color\": \"rgb(0,116,217)\"}, \"mode\": \"lines\", \"type\": \"scatter\", \"x\": [525.0, 525.0, 540.0, 540.0], \"xaxis\": \"x\", \"y\": [0.0, 1.1180091691817207, 1.1180091691817207, 1.0927522341597657], \"yaxis\": \"y\"}, {\"hoverinfo\": \"text\", \"marker\": {\"color\": \"rgb(40,35,35)\"}, \"mode\": \"lines\", \"type\": \"scatter\", \"x\": [575.0, 575.0, 585.0, 585.0], \"xaxis\": \"x\", \"y\": [0.0, 0.9630252214566587, 0.9630252214566587, 0.0], \"yaxis\": \"y\"}, {\"hoverinfo\": \"text\", \"marker\": {\"color\": \"rgb(0,116,217)\"}, \"mode\": \"lines\", \"type\": \"scatter\", \"x\": [565.0, 565.0, 580.0, 580.0], \"xaxis\": \"x\", \"y\": [0.0, 1.1209204055740405, 1.1209204055740405, 0.9630252214566587], \"yaxis\": \"y\"}, {\"hoverinfo\": \"text\", \"marker\": {\"color\": \"rgb(0,116,217)\"}, \"mode\": \"lines\", \"type\": \"scatter\", \"x\": [555.0, 555.0, 572.5, 572.5], \"xaxis\": \"x\", \"y\": [0.0, 1.1615775678662807, 1.1615775678662807, 1.1209204055740405], \"yaxis\": \"y\"}, {\"hoverinfo\": \"text\", \"marker\": {\"color\": \"rgb(0,116,217)\"}, \"mode\": \"lines\", \"type\": \"scatter\", \"x\": [532.5, 532.5, 563.75, 563.75], \"xaxis\": \"x\", \"y\": [1.1180091691817207, 1.2345249515329275, 1.2345249515329275, 1.1615775678662807], \"yaxis\": \"y\"}, {\"hoverinfo\": \"text\", \"marker\": {\"color\": \"rgb(0,116,217)\"}, \"mode\": \"lines\", \"type\": \"scatter\", \"x\": [515.0, 515.0, 548.125, 548.125], \"xaxis\": \"x\", \"y\": [0.0, 1.2599379646454139, 1.2599379646454139, 1.2345249515329275], \"yaxis\": \"y\"}, {\"hoverinfo\": \"text\", \"marker\": {\"color\": \"rgb(0,116,217)\"}, \"mode\": \"lines\", \"type\": \"scatter\", \"x\": [500.0, 500.0, 531.5625, 531.5625], \"xaxis\": \"x\", \"y\": [1.2258593129850652, 1.3323586711615967, 1.3323586711615967, 1.2599379646454139], \"yaxis\": \"y\"}, {\"hoverinfo\": \"text\", \"marker\": {\"color\": \"rgb(0,116,217)\"}, \"mode\": \"lines\", \"type\": \"scatter\", \"x\": [446.875, 446.875, 515.78125, 515.78125], \"xaxis\": \"x\", \"y\": [1.2262273500963456, 1.3347743441281275, 1.3347743441281275, 1.3323586711615967], \"yaxis\": \"y\"}, {\"hoverinfo\": \"text\", \"marker\": {\"color\": \"rgb(61,153,112)\"}, \"mode\": \"lines\", \"type\": \"scatter\", \"x\": [605.0, 605.0, 615.0, 615.0], \"xaxis\": \"x\", \"y\": [0.0, 0.9152496952124702, 0.9152496952124702, 0.0], \"yaxis\": \"y\"}, {\"hoverinfo\": \"text\", \"marker\": {\"color\": \"rgb(0,116,217)\"}, \"mode\": \"lines\", \"type\": \"scatter\", \"x\": [595.0, 595.0, 610.0, 610.0], \"xaxis\": \"x\", \"y\": [0.0, 1.0626679722306072, 1.0626679722306072, 0.9152496952124702], \"yaxis\": \"y\"}, {\"hoverinfo\": \"text\", \"marker\": {\"color\": \"rgb(0,116,217)\"}, \"mode\": \"lines\", \"type\": \"scatter\", \"x\": [635.0, 635.0, 645.0, 645.0], \"xaxis\": \"x\", \"y\": [0.0, 1.16710137433121, 1.16710137433121, 0.0], \"yaxis\": \"y\"}, {\"hoverinfo\": \"text\", \"marker\": {\"color\": \"rgb(0,116,217)\"}, \"mode\": \"lines\", \"type\": \"scatter\", \"x\": [625.0, 625.0, 640.0, 640.0], \"xaxis\": \"x\", \"y\": [0.0, 1.2682392991956792, 1.2682392991956792, 1.16710137433121], \"yaxis\": \"y\"}, {\"hoverinfo\": \"text\", \"marker\": {\"color\": \"rgb(0,116,217)\"}, \"mode\": \"lines\", \"type\": \"scatter\", \"x\": [602.5, 602.5, 632.5, 632.5], \"xaxis\": \"x\", \"y\": [1.0626679722306072, 1.291618251839339, 1.291618251839339, 1.2682392991956792], \"yaxis\": \"y\"}, {\"hoverinfo\": \"text\", \"marker\": {\"color\": \"rgb(255,65,54)\"}, \"mode\": \"lines\", \"type\": \"scatter\", \"x\": [665.0, 665.0, 675.0, 675.0], \"xaxis\": \"x\", \"y\": [0.0, 0.7720755622959998, 0.7720755622959998, 0.0], \"yaxis\": \"y\"}, {\"hoverinfo\": \"text\", \"marker\": {\"color\": \"rgb(0,116,217)\"}, \"mode\": \"lines\", \"type\": \"scatter\", \"x\": [655.0, 655.0, 670.0, 670.0], \"xaxis\": \"x\", \"y\": [0.0, 0.9893483082748181, 0.9893483082748181, 0.7720755622959998], \"yaxis\": \"y\"}, {\"hoverinfo\": \"text\", \"marker\": {\"color\": \"rgb(0,116,217)\"}, \"mode\": \"lines\", \"type\": \"scatter\", \"x\": [685.0, 685.0, 695.0, 695.0], \"xaxis\": \"x\", \"y\": [0.0, 1.0653565694183844, 1.0653565694183844, 0.0], \"yaxis\": \"y\"}, {\"hoverinfo\": \"text\", \"marker\": {\"color\": \"rgb(0,116,217)\"}, \"mode\": \"lines\", \"type\": \"scatter\", \"x\": [705.0, 705.0, 715.0, 715.0], \"xaxis\": \"x\", \"y\": [0.0, 1.0513870710597486, 1.0513870710597486, 0.0], \"yaxis\": \"y\"}, {\"hoverinfo\": \"text\", \"marker\": {\"color\": \"rgb(35,205,205)\"}, \"mode\": \"lines\", \"type\": \"scatter\", \"x\": [735.0, 735.0, 745.0, 745.0], \"xaxis\": \"x\", \"y\": [0.0, 0.8873435180238612, 0.8873435180238612, 0.0], \"yaxis\": \"y\"}, {\"hoverinfo\": \"text\", \"marker\": {\"color\": \"rgb(0,116,217)\"}, \"mode\": \"lines\", \"type\": \"scatter\", \"x\": [725.0, 725.0, 740.0, 740.0], \"xaxis\": \"x\", \"y\": [0.0, 1.0583236983356485, 1.0583236983356485, 0.8873435180238612], \"yaxis\": \"y\"}, {\"hoverinfo\": \"text\", \"marker\": {\"color\": \"rgb(0,116,217)\"}, \"mode\": \"lines\", \"type\": \"scatter\", \"x\": [710.0, 710.0, 732.5, 732.5], \"xaxis\": \"x\", \"y\": [1.0513870710597486, 1.250428081109252, 1.250428081109252, 1.0583236983356485], \"yaxis\": \"y\"}, {\"hoverinfo\": \"text\", \"marker\": {\"color\": \"rgb(0,116,217)\"}, \"mode\": \"lines\", \"type\": \"scatter\", \"x\": [690.0, 690.0, 721.25, 721.25], \"xaxis\": \"x\", \"y\": [1.0653565694183844, 1.2746569791534332, 1.2746569791534332, 1.250428081109252], \"yaxis\": \"y\"}, {\"hoverinfo\": \"text\", \"marker\": {\"color\": \"rgb(0,116,217)\"}, \"mode\": \"lines\", \"type\": \"scatter\", \"x\": [662.5, 662.5, 705.625, 705.625], \"xaxis\": \"x\", \"y\": [0.9893483082748181, 1.3094819622279184, 1.3094819622279184, 1.2746569791534332], \"yaxis\": \"y\"}, {\"hoverinfo\": \"text\", \"marker\": {\"color\": \"rgb(0,116,217)\"}, \"mode\": \"lines\", \"type\": \"scatter\", \"x\": [617.5, 617.5, 684.0625, 684.0625], \"xaxis\": \"x\", \"y\": [1.291618251839339, 1.333722528305378, 1.333722528305378, 1.3094819622279184], \"yaxis\": \"y\"}, {\"hoverinfo\": \"text\", \"marker\": {\"color\": \"rgb(0,116,217)\"}, \"mode\": \"lines\", \"type\": \"scatter\", \"x\": [775.0, 775.0, 785.0, 785.0], \"xaxis\": \"x\", \"y\": [0.0, 1.136537590231993, 1.136537590231993, 0.0], \"yaxis\": \"y\"}, {\"hoverinfo\": \"text\", \"marker\": {\"color\": \"rgb(0,116,217)\"}, \"mode\": \"lines\", \"type\": \"scatter\", \"x\": [765.0, 765.0, 780.0, 780.0], \"xaxis\": \"x\", \"y\": [0.0, 1.2151227382315284, 1.2151227382315284, 1.136537590231993], \"yaxis\": \"y\"}, {\"hoverinfo\": \"text\", \"marker\": {\"color\": \"rgb(0,116,217)\"}, \"mode\": \"lines\", \"type\": \"scatter\", \"x\": [755.0, 755.0, 772.5, 772.5], \"xaxis\": \"x\", \"y\": [0.0, 1.2272950494340396, 1.2272950494340396, 1.2151227382315284], \"yaxis\": \"y\"}, {\"hoverinfo\": \"text\", \"marker\": {\"color\": \"rgb(133,20,75)\"}, \"mode\": \"lines\", \"type\": \"scatter\", \"x\": [825.0, 825.0, 835.0, 835.0], \"xaxis\": \"x\", \"y\": [0.0, 0.8918171001049647, 0.8918171001049647, 0.0], \"yaxis\": \"y\"}, {\"hoverinfo\": \"text\", \"marker\": {\"color\": \"rgb(0,116,217)\"}, \"mode\": \"lines\", \"type\": \"scatter\", \"x\": [815.0, 815.0, 830.0, 830.0], \"xaxis\": \"x\", \"y\": [0.0, 0.9871228626434558, 0.9871228626434558, 0.8918171001049647], \"yaxis\": \"y\"}, {\"hoverinfo\": \"text\", \"marker\": {\"color\": \"rgb(0,116,217)\"}, \"mode\": \"lines\", \"type\": \"scatter\", \"x\": [845.0, 845.0, 855.0, 855.0], \"xaxis\": \"x\", \"y\": [0.0, 1.0274686635864239, 1.0274686635864239, 0.0], \"yaxis\": \"y\"}, {\"hoverinfo\": \"text\", \"marker\": {\"color\": \"rgb(0,116,217)\"}, \"mode\": \"lines\", \"type\": \"scatter\", \"x\": [865.0, 865.0, 875.0, 875.0], \"xaxis\": \"x\", \"y\": [0.0, 1.1022194742443505, 1.1022194742443505, 0.0], \"yaxis\": \"y\"}, {\"hoverinfo\": \"text\", \"marker\": {\"color\": \"rgb(0,116,217)\"}, \"mode\": \"lines\", \"type\": \"scatter\", \"x\": [850.0, 850.0, 870.0, 870.0], \"xaxis\": \"x\", \"y\": [1.0274686635864239, 1.117342896432935, 1.117342896432935, 1.1022194742443505], \"yaxis\": \"y\"}, {\"hoverinfo\": \"text\", \"marker\": {\"color\": \"rgb(0,116,217)\"}, \"mode\": \"lines\", \"type\": \"scatter\", \"x\": [822.5, 822.5, 860.0, 860.0], \"xaxis\": \"x\", \"y\": [0.9871228626434558, 1.1872775650717666, 1.1872775650717666, 1.117342896432935], \"yaxis\": \"y\"}, {\"hoverinfo\": \"text\", \"marker\": {\"color\": \"rgb(0,116,217)\"}, \"mode\": \"lines\", \"type\": \"scatter\", \"x\": [805.0, 805.0, 841.25, 841.25], \"xaxis\": \"x\", \"y\": [0.0, 1.2305482939339938, 1.2305482939339938, 1.1872775650717666], \"yaxis\": \"y\"}, {\"hoverinfo\": \"text\", \"marker\": {\"color\": \"rgb(0,116,217)\"}, \"mode\": \"lines\", \"type\": \"scatter\", \"x\": [795.0, 795.0, 823.125, 823.125], \"xaxis\": \"x\", \"y\": [0.0, 1.268485070231541, 1.268485070231541, 1.2305482939339938], \"yaxis\": \"y\"}, {\"hoverinfo\": \"text\", \"marker\": {\"color\": \"rgb(0,116,217)\"}, \"mode\": \"lines\", \"type\": \"scatter\", \"x\": [763.75, 763.75, 809.0625, 809.0625], \"xaxis\": \"x\", \"y\": [1.2272950494340396, 1.313072423870463, 1.313072423870463, 1.268485070231541], \"yaxis\": \"y\"}, {\"hoverinfo\": \"text\", \"marker\": {\"color\": \"rgb(255,220,0)\"}, \"mode\": \"lines\", \"type\": \"scatter\", \"x\": [905.0, 905.0, 915.0, 915.0], \"xaxis\": \"x\", \"y\": [0.0, 0.9264604038493872, 0.9264604038493872, 0.0], \"yaxis\": \"y\"}, {\"hoverinfo\": \"text\", \"marker\": {\"color\": \"rgb(0,116,217)\"}, \"mode\": \"lines\", \"type\": \"scatter\", \"x\": [895.0, 895.0, 910.0, 910.0], \"xaxis\": \"x\", \"y\": [0.0, 1.1026954896154746, 1.1026954896154746, 0.9264604038493872], \"yaxis\": \"y\"}, {\"hoverinfo\": \"text\", \"marker\": {\"color\": \"rgb(0,116,217)\"}, \"mode\": \"lines\", \"type\": \"scatter\", \"x\": [935.0, 935.0, 945.0, 945.0], \"xaxis\": \"x\", \"y\": [0.0, 1.0079497218784716, 1.0079497218784716, 0.0], \"yaxis\": \"y\"}, {\"hoverinfo\": \"text\", \"marker\": {\"color\": \"rgb(0,116,217)\"}, \"mode\": \"lines\", \"type\": \"scatter\", \"x\": [925.0, 925.0, 940.0, 940.0], \"xaxis\": \"x\", \"y\": [0.0, 1.1090480609243891, 1.1090480609243891, 1.0079497218784716], \"yaxis\": \"y\"}, {\"hoverinfo\": \"text\", \"marker\": {\"color\": \"rgb(0,116,217)\"}, \"mode\": \"lines\", \"type\": \"scatter\", \"x\": [902.5, 902.5, 932.5, 932.5], \"xaxis\": \"x\", \"y\": [1.1026954896154746, 1.157766766085865, 1.157766766085865, 1.1090480609243891], \"yaxis\": \"y\"}, {\"hoverinfo\": \"text\", \"marker\": {\"color\": \"rgb(0,116,217)\"}, \"mode\": \"lines\", \"type\": \"scatter\", \"x\": [885.0, 885.0, 917.5, 917.5], \"xaxis\": \"x\", \"y\": [0.0, 1.256205356880961, 1.256205356880961, 1.157766766085865], \"yaxis\": \"y\"}, {\"hoverinfo\": \"text\", \"marker\": {\"color\": \"rgb(0,116,217)\"}, \"mode\": \"lines\", \"type\": \"scatter\", \"x\": [955.0, 955.0, 965.0, 965.0], \"xaxis\": \"x\", \"y\": [0.0, 1.1046125376305613, 1.1046125376305613, 0.0], \"yaxis\": \"y\"}, {\"hoverinfo\": \"text\", \"marker\": {\"color\": \"rgb(0,116,217)\"}, \"mode\": \"lines\", \"type\": \"scatter\", \"x\": [975.0, 975.0, 985.0, 985.0], \"xaxis\": \"x\", \"y\": [0.0, 1.0810506286398254, 1.0810506286398254, 0.0], \"yaxis\": \"y\"}, {\"hoverinfo\": \"text\", \"marker\": {\"color\": \"rgb(40,35,35)\"}, \"mode\": \"lines\", \"type\": \"scatter\", \"x\": [1025.0, 1025.0, 1035.0, 1035.0], \"xaxis\": \"x\", \"y\": [0.0, 0.9367795263710886, 0.9367795263710886, 0.0], \"yaxis\": \"y\"}, {\"hoverinfo\": \"text\", \"marker\": {\"color\": \"rgb(0,116,217)\"}, \"mode\": \"lines\", \"type\": \"scatter\", \"x\": [1015.0, 1015.0, 1030.0, 1030.0], \"xaxis\": \"x\", \"y\": [0.0, 1.1304495590106964, 1.1304495590106964, 0.9367795263710886], \"yaxis\": \"y\"}, {\"hoverinfo\": \"text\", \"marker\": {\"color\": \"rgb(0,116,217)\"}, \"mode\": \"lines\", \"type\": \"scatter\", \"x\": [1005.0, 1005.0, 1022.5, 1022.5], \"xaxis\": \"x\", \"y\": [0.0, 1.179185405836438, 1.179185405836438, 1.1304495590106964], \"yaxis\": \"y\"}, {\"hoverinfo\": \"text\", \"marker\": {\"color\": \"rgb(0,116,217)\"}, \"mode\": \"lines\", \"type\": \"scatter\", \"x\": [995.0, 995.0, 1013.75, 1013.75], \"xaxis\": \"x\", \"y\": [0.0, 1.1998622088962927, 1.1998622088962927, 1.179185405836438], \"yaxis\": \"y\"}, {\"hoverinfo\": \"text\", \"marker\": {\"color\": \"rgb(0,116,217)\"}, \"mode\": \"lines\", \"type\": \"scatter\", \"x\": [1045.0, 1045.0, 1055.0, 1055.0], \"xaxis\": \"x\", \"y\": [0.0, 1.0642247103156197, 1.0642247103156197, 0.0], \"yaxis\": \"y\"}, {\"hoverinfo\": \"text\", \"marker\": {\"color\": \"rgb(0,116,217)\"}, \"mode\": \"lines\", \"type\": \"scatter\", \"x\": [1065.0, 1065.0, 1075.0, 1075.0], \"xaxis\": \"x\", \"y\": [0.0, 1.1357759615523428, 1.1357759615523428, 0.0], \"yaxis\": \"y\"}, {\"hoverinfo\": \"text\", \"marker\": {\"color\": \"rgb(0,116,217)\"}, \"mode\": \"lines\", \"type\": \"scatter\", \"x\": [1050.0, 1050.0, 1070.0, 1070.0], \"xaxis\": \"x\", \"y\": [1.0642247103156197, 1.2229773932104209, 1.2229773932104209, 1.1357759615523428], \"yaxis\": \"y\"}, {\"hoverinfo\": \"text\", \"marker\": {\"color\": \"rgb(0,116,217)\"}, \"mode\": \"lines\", \"type\": \"scatter\", \"x\": [1004.375, 1004.375, 1060.0, 1060.0], \"xaxis\": \"x\", \"y\": [1.1998622088962927, 1.255715043150761, 1.255715043150761, 1.2229773932104209], \"yaxis\": \"y\"}, {\"hoverinfo\": \"text\", \"marker\": {\"color\": \"rgb(0,116,217)\"}, \"mode\": \"lines\", \"type\": \"scatter\", \"x\": [980.0, 980.0, 1032.1875, 1032.1875], \"xaxis\": \"x\", \"y\": [1.0810506286398254, 1.2722257516414066, 1.2722257516414066, 1.255715043150761], \"yaxis\": \"y\"}, {\"hoverinfo\": \"text\", \"marker\": {\"color\": \"rgb(0,116,217)\"}, \"mode\": \"lines\", \"type\": \"scatter\", \"x\": [960.0, 960.0, 1006.09375, 1006.09375], \"xaxis\": \"x\", \"y\": [1.1046125376305613, 1.290879599311604, 1.290879599311604, 1.2722257516414066], \"yaxis\": \"y\"}, {\"hoverinfo\": \"text\", \"marker\": {\"color\": \"rgb(0,116,217)\"}, \"mode\": \"lines\", \"type\": \"scatter\", \"x\": [901.25, 901.25, 983.046875, 983.046875], \"xaxis\": \"x\", \"y\": [1.256205356880961, 1.3195035005635025, 1.3195035005635025, 1.290879599311604], \"yaxis\": \"y\"}, {\"hoverinfo\": \"text\", \"marker\": {\"color\": \"rgb(0,116,217)\"}, \"mode\": \"lines\", \"type\": \"scatter\", \"x\": [786.40625, 786.40625, 942.1484375, 942.1484375], \"xaxis\": \"x\", \"y\": [1.313072423870463, 1.3355839113780406, 1.3355839113780406, 1.3195035005635025], \"yaxis\": \"y\"}, {\"hoverinfo\": \"text\", \"marker\": {\"color\": \"rgb(0,116,217)\"}, \"mode\": \"lines\", \"type\": \"scatter\", \"x\": [650.78125, 650.78125, 864.27734375, 864.27734375], \"xaxis\": \"x\", \"y\": [1.333722528305378, 1.346923627839292, 1.346923627839292, 1.3355839113780406], \"yaxis\": \"y\"}, {\"hoverinfo\": \"text\", \"marker\": {\"color\": \"rgb(0,116,217)\"}, \"mode\": \"lines\", \"type\": \"scatter\", \"x\": [481.328125, 481.328125, 757.529296875, 757.529296875], \"xaxis\": \"x\", \"y\": [1.3347743441281275, 1.357452581937856, 1.357452581937856, 1.346923627839292], \"yaxis\": \"y\"}, {\"hoverinfo\": \"text\", \"marker\": {\"color\": \"rgb(0,116,217)\"}, \"mode\": \"lines\", \"type\": \"scatter\", \"x\": [297.1875, 297.1875, 619.4287109375, 619.4287109375], \"xaxis\": \"x\", \"y\": [1.348792602014047, 1.3615058950460324, 1.3615058950460324, 1.357452581937856], \"yaxis\": \"y\"}, {\"hoverinfo\": \"text\", \"marker\": {\"color\": \"rgb(0,116,217)\"}, \"mode\": \"lines\", \"type\": \"scatter\", \"x\": [1085.0, 1085.0, 1095.0, 1095.0], \"xaxis\": \"x\", \"y\": [0.0, 1.1355926153270206, 1.1355926153270206, 0.0], \"yaxis\": \"y\"}, {\"hoverinfo\": \"text\", \"marker\": {\"color\": \"rgb(61,153,112)\"}, \"mode\": \"lines\", \"type\": \"scatter\", \"x\": [1105.0, 1105.0, 1115.0, 1115.0], \"xaxis\": \"x\", \"y\": [0.0, 0.6987438604645011, 0.6987438604645011, 0.0], \"yaxis\": \"y\"}, {\"hoverinfo\": \"text\", \"marker\": {\"color\": \"rgb(255,65,54)\"}, \"mode\": \"lines\", \"type\": \"scatter\", \"x\": [1125.0, 1125.0, 1135.0, 1135.0], \"xaxis\": \"x\", \"y\": [0.0, 0.9392664750009818, 0.9392664750009818, 0.0], \"yaxis\": \"y\"}, {\"hoverinfo\": \"text\", \"marker\": {\"color\": \"rgb(0,116,217)\"}, \"mode\": \"lines\", \"type\": \"scatter\", \"x\": [1110.0, 1110.0, 1130.0, 1130.0], \"xaxis\": \"x\", \"y\": [0.6987438604645011, 1.1802672127035052, 1.1802672127035052, 0.9392664750009818], \"yaxis\": \"y\"}, {\"hoverinfo\": \"text\", \"marker\": {\"color\": \"rgb(0,116,217)\"}, \"mode\": \"lines\", \"type\": \"scatter\", \"x\": [1090.0, 1090.0, 1120.0, 1120.0], \"xaxis\": \"x\", \"y\": [1.1355926153270206, 1.3039724719062025, 1.3039724719062025, 1.1802672127035052], \"yaxis\": \"y\"}, {\"hoverinfo\": \"text\", \"marker\": {\"color\": \"rgb(0,116,217)\"}, \"mode\": \"lines\", \"type\": \"scatter\", \"x\": [1145.0, 1145.0, 1155.0, 1155.0], \"xaxis\": \"x\", \"y\": [0.0, 1.0388129709450096, 1.0388129709450096, 0.0], \"yaxis\": \"y\"}, {\"hoverinfo\": \"text\", \"marker\": {\"color\": \"rgb(0,116,217)\"}, \"mode\": \"lines\", \"type\": \"scatter\", \"x\": [1165.0, 1165.0, 1175.0, 1175.0], \"xaxis\": \"x\", \"y\": [0.0, 1.1049364605722274, 1.1049364605722274, 0.0], \"yaxis\": \"y\"}, {\"hoverinfo\": \"text\", \"marker\": {\"color\": \"rgb(0,116,217)\"}, \"mode\": \"lines\", \"type\": \"scatter\", \"x\": [1150.0, 1150.0, 1170.0, 1170.0], \"xaxis\": \"x\", \"y\": [1.0388129709450096, 1.3324070769505998, 1.3324070769505998, 1.1049364605722274], \"yaxis\": \"y\"}, {\"hoverinfo\": \"text\", \"marker\": {\"color\": \"rgb(0,116,217)\"}, \"mode\": \"lines\", \"type\": \"scatter\", \"x\": [1105.0, 1105.0, 1160.0, 1160.0], \"xaxis\": \"x\", \"y\": [1.3039724719062025, 1.350356009868851, 1.350356009868851, 1.3324070769505998], \"yaxis\": \"y\"}, {\"hoverinfo\": \"text\", \"marker\": {\"color\": \"rgb(0,116,217)\"}, \"mode\": \"lines\", \"type\": \"scatter\", \"x\": [1195.0, 1195.0, 1205.0, 1205.0], \"xaxis\": \"x\", \"y\": [0.0, 0.9962540057020569, 0.9962540057020569, 0.0], \"yaxis\": \"y\"}, {\"hoverinfo\": \"text\", \"marker\": {\"color\": \"rgb(0,116,217)\"}, \"mode\": \"lines\", \"type\": \"scatter\", \"x\": [1185.0, 1185.0, 1200.0, 1200.0], \"xaxis\": \"x\", \"y\": [0.0, 1.1993862354782545, 1.1993862354782545, 0.9962540057020569], \"yaxis\": \"y\"}, {\"hoverinfo\": \"text\", \"marker\": {\"color\": \"rgb(0,116,217)\"}, \"mode\": \"lines\", \"type\": \"scatter\", \"x\": [1215.0, 1215.0, 1225.0, 1225.0], \"xaxis\": \"x\", \"y\": [0.0, 1.0850823426562555, 1.0850823426562555, 0.0], \"yaxis\": \"y\"}, {\"hoverinfo\": \"text\", \"marker\": {\"color\": \"rgb(0,116,217)\"}, \"mode\": \"lines\", \"type\": \"scatter\", \"x\": [1245.0, 1245.0, 1255.0, 1255.0], \"xaxis\": \"x\", \"y\": [0.0, 1.0522950673219802, 1.0522950673219802, 0.0], \"yaxis\": \"y\"}, {\"hoverinfo\": \"text\", \"marker\": {\"color\": \"rgb(0,116,217)\"}, \"mode\": \"lines\", \"type\": \"scatter\", \"x\": [1235.0, 1235.0, 1250.0, 1250.0], \"xaxis\": \"x\", \"y\": [0.0, 1.2301005605384656, 1.2301005605384656, 1.0522950673219802], \"yaxis\": \"y\"}, {\"hoverinfo\": \"text\", \"marker\": {\"color\": \"rgb(0,116,217)\"}, \"mode\": \"lines\", \"type\": \"scatter\", \"x\": [1220.0, 1220.0, 1242.5, 1242.5], \"xaxis\": \"x\", \"y\": [1.0850823426562555, 1.2615217226985869, 1.2615217226985869, 1.2301005605384656], \"yaxis\": \"y\"}, {\"hoverinfo\": \"text\", \"marker\": {\"color\": \"rgb(35,205,205)\"}, \"mode\": \"lines\", \"type\": \"scatter\", \"x\": [1285.0, 1285.0, 1295.0, 1295.0], \"xaxis\": \"x\", \"y\": [0.0, 0.6795970435106122, 0.6795970435106122, 0.0], \"yaxis\": \"y\"}, {\"hoverinfo\": \"text\", \"marker\": {\"color\": \"rgb(35,205,205)\"}, \"mode\": \"lines\", \"type\": \"scatter\", \"x\": [1305.0, 1305.0, 1315.0, 1315.0], \"xaxis\": \"x\", \"y\": [0.0, 0.8278127274195197, 0.8278127274195197, 0.0], \"yaxis\": \"y\"}, {\"hoverinfo\": \"text\", \"marker\": {\"color\": \"rgb(35,205,205)\"}, \"mode\": \"lines\", \"type\": \"scatter\", \"x\": [1290.0, 1290.0, 1310.0, 1310.0], \"xaxis\": \"x\", \"y\": [0.6795970435106122, 0.926562074571063, 0.926562074571063, 0.8278127274195197], \"yaxis\": \"y\"}, {\"hoverinfo\": \"text\", \"marker\": {\"color\": \"rgb(0,116,217)\"}, \"mode\": \"lines\", \"type\": \"scatter\", \"x\": [1275.0, 1275.0, 1300.0, 1300.0], \"xaxis\": \"x\", \"y\": [0.0, 1.0558306127205164, 1.0558306127205164, 0.926562074571063], \"yaxis\": \"y\"}, {\"hoverinfo\": \"text\", \"marker\": {\"color\": \"rgb(133,20,75)\"}, \"mode\": \"lines\", \"type\": \"scatter\", \"x\": [1345.0, 1345.0, 1355.0, 1355.0], \"xaxis\": \"x\", \"y\": [0.0, 0.9305676667623499, 0.9305676667623499, 0.0], \"yaxis\": \"y\"}, {\"hoverinfo\": \"text\", \"marker\": {\"color\": \"rgb(0,116,217)\"}, \"mode\": \"lines\", \"type\": \"scatter\", \"x\": [1335.0, 1335.0, 1350.0, 1350.0], \"xaxis\": \"x\", \"y\": [0.0, 1.0372303456104979, 1.0372303456104979, 0.9305676667623499], \"yaxis\": \"y\"}, {\"hoverinfo\": \"text\", \"marker\": {\"color\": \"rgb(0,116,217)\"}, \"mode\": \"lines\", \"type\": \"scatter\", \"x\": [1325.0, 1325.0, 1342.5, 1342.5], \"xaxis\": \"x\", \"y\": [0.0, 1.1127055416613987, 1.1127055416613987, 1.0372303456104979], \"yaxis\": \"y\"}, {\"hoverinfo\": \"text\", \"marker\": {\"color\": \"rgb(0,116,217)\"}, \"mode\": \"lines\", \"type\": \"scatter\", \"x\": [1287.5, 1287.5, 1333.75, 1333.75], \"xaxis\": \"x\", \"y\": [1.0558306127205164, 1.2030435813373366, 1.2030435813373366, 1.1127055416613987], \"yaxis\": \"y\"}, {\"hoverinfo\": \"text\", \"marker\": {\"color\": \"rgb(0,116,217)\"}, \"mode\": \"lines\", \"type\": \"scatter\", \"x\": [1265.0, 1265.0, 1310.625, 1310.625], \"xaxis\": \"x\", \"y\": [0.0, 1.2662577113786706, 1.2662577113786706, 1.2030435813373366], \"yaxis\": \"y\"}, {\"hoverinfo\": \"text\", \"marker\": {\"color\": \"rgb(0,116,217)\"}, \"mode\": \"lines\", \"type\": \"scatter\", \"x\": [1365.0, 1365.0, 1375.0, 1375.0], \"xaxis\": \"x\", \"y\": [0.0, 1.1090167141335108, 1.1090167141335108, 0.0], \"yaxis\": \"y\"}, {\"hoverinfo\": \"text\", \"marker\": {\"color\": \"rgb(0,116,217)\"}, \"mode\": \"lines\", \"type\": \"scatter\", \"x\": [1385.0, 1385.0, 1395.0, 1395.0], \"xaxis\": \"x\", \"y\": [0.0, 1.1705122556055967, 1.1705122556055967, 0.0], \"yaxis\": \"y\"}, {\"hoverinfo\": \"text\", \"marker\": {\"color\": \"rgb(0,116,217)\"}, \"mode\": \"lines\", \"type\": \"scatter\", \"x\": [1370.0, 1370.0, 1390.0, 1390.0], \"xaxis\": \"x\", \"y\": [1.1090167141335108, 1.2770677839706872, 1.2770677839706872, 1.1705122556055967], \"yaxis\": \"y\"}, {\"hoverinfo\": \"text\", \"marker\": {\"color\": \"rgb(0,116,217)\"}, \"mode\": \"lines\", \"type\": \"scatter\", \"x\": [1287.8125, 1287.8125, 1380.0, 1380.0], \"xaxis\": \"x\", \"y\": [1.2662577113786706, 1.3176431522690286, 1.3176431522690286, 1.2770677839706872], \"yaxis\": \"y\"}, {\"hoverinfo\": \"text\", \"marker\": {\"color\": \"rgb(0,116,217)\"}, \"mode\": \"lines\", \"type\": \"scatter\", \"x\": [1231.25, 1231.25, 1333.90625, 1333.90625], \"xaxis\": \"x\", \"y\": [1.2615217226985869, 1.3304567218703207, 1.3304567218703207, 1.3176431522690286], \"yaxis\": \"y\"}, {\"hoverinfo\": \"text\", \"marker\": {\"color\": \"rgb(0,116,217)\"}, \"mode\": \"lines\", \"type\": \"scatter\", \"x\": [1192.5, 1192.5, 1282.578125, 1282.578125], \"xaxis\": \"x\", \"y\": [1.1993862354782545, 1.350393064568432, 1.350393064568432, 1.3304567218703207], \"yaxis\": \"y\"}, {\"hoverinfo\": \"text\", \"marker\": {\"color\": \"rgb(0,116,217)\"}, \"mode\": \"lines\", \"type\": \"scatter\", \"x\": [1132.5, 1132.5, 1237.5390625, 1237.5390625], \"xaxis\": \"x\", \"y\": [1.350356009868851, 1.3631780871471073, 1.3631780871471073, 1.350393064568432], \"yaxis\": \"y\"}, {\"hoverinfo\": \"text\", \"marker\": {\"color\": \"rgb(0,116,217)\"}, \"mode\": \"lines\", \"type\": \"scatter\", \"x\": [458.30810546875, 458.30810546875, 1185.01953125, 1185.01953125], \"xaxis\": \"x\", \"y\": [1.3615058950460324, 1.375019498127988, 1.375019498127988, 1.3631780871471073], \"yaxis\": \"y\"}, {\"hoverinfo\": \"text\", \"marker\": {\"color\": \"rgb(0,116,217)\"}, \"mode\": \"lines\", \"type\": \"scatter\", \"x\": [1405.0, 1405.0, 1415.0, 1415.0], \"xaxis\": \"x\", \"y\": [0.0, 1.2207761158208348, 1.2207761158208348, 0.0], \"yaxis\": \"y\"}, {\"hoverinfo\": \"text\", \"marker\": {\"color\": \"rgb(0,116,217)\"}, \"mode\": \"lines\", \"type\": \"scatter\", \"x\": [1425.0, 1425.0, 1435.0, 1435.0], \"xaxis\": \"x\", \"y\": [0.0, 1.154192072813613, 1.154192072813613, 0.0], \"yaxis\": \"y\"}, {\"hoverinfo\": \"text\", \"marker\": {\"color\": \"rgb(0,116,217)\"}, \"mode\": \"lines\", \"type\": \"scatter\", \"x\": [1455.0, 1455.0, 1465.0, 1465.0], \"xaxis\": \"x\", \"y\": [0.0, 1.0182603777795554, 1.0182603777795554, 0.0], \"yaxis\": \"y\"}, {\"hoverinfo\": \"text\", \"marker\": {\"color\": \"rgb(0,116,217)\"}, \"mode\": \"lines\", \"type\": \"scatter\", \"x\": [1445.0, 1445.0, 1460.0, 1460.0], \"xaxis\": \"x\", \"y\": [0.0, 1.219318587255107, 1.219318587255107, 1.0182603777795554], \"yaxis\": \"y\"}, {\"hoverinfo\": \"text\", \"marker\": {\"color\": \"rgb(0,116,217)\"}, \"mode\": \"lines\", \"type\": \"scatter\", \"x\": [1430.0, 1430.0, 1452.5, 1452.5], \"xaxis\": \"x\", \"y\": [1.154192072813613, 1.302541722215468, 1.302541722215468, 1.219318587255107], \"yaxis\": \"y\"}, {\"hoverinfo\": \"text\", \"marker\": {\"color\": \"rgb(0,116,217)\"}, \"mode\": \"lines\", \"type\": \"scatter\", \"x\": [1410.0, 1410.0, 1441.25, 1441.25], \"xaxis\": \"x\", \"y\": [1.2207761158208348, 1.3529916883721838, 1.3529916883721838, 1.302541722215468], \"yaxis\": \"y\"}, {\"hoverinfo\": \"text\", \"marker\": {\"color\": \"rgb(0,116,217)\"}, \"mode\": \"lines\", \"type\": \"scatter\", \"x\": [1475.0, 1475.0, 1485.0, 1485.0], \"xaxis\": \"x\", \"y\": [0.0, 1.191150556392896, 1.191150556392896, 0.0], \"yaxis\": \"y\"}, {\"hoverinfo\": \"text\", \"marker\": {\"color\": \"rgb(255,220,0)\"}, \"mode\": \"lines\", \"type\": \"scatter\", \"x\": [1555.0, 1555.0, 1565.0, 1565.0], \"xaxis\": \"x\", \"y\": [0.0, 0.5410074699452042, 0.5410074699452042, 0.0], \"yaxis\": \"y\"}, {\"hoverinfo\": \"text\", \"marker\": {\"color\": \"rgb(255,220,0)\"}, \"mode\": \"lines\", \"type\": \"scatter\", \"x\": [1545.0, 1545.0, 1560.0, 1560.0], \"xaxis\": \"x\", \"y\": [0.0, 0.7612026301516118, 0.7612026301516118, 0.5410074699452042], \"yaxis\": \"y\"}, {\"hoverinfo\": \"text\", \"marker\": {\"color\": \"rgb(255,220,0)\"}, \"mode\": \"lines\", \"type\": \"scatter\", \"x\": [1535.0, 1535.0, 1552.5, 1552.5], \"xaxis\": \"x\", \"y\": [0.0, 0.7649447892153856, 0.7649447892153856, 0.7612026301516118], \"yaxis\": \"y\"}, {\"hoverinfo\": \"text\", \"marker\": {\"color\": \"rgb(255,220,0)\"}, \"mode\": \"lines\", \"type\": \"scatter\", \"x\": [1525.0, 1525.0, 1543.75, 1543.75], \"xaxis\": \"x\", \"y\": [0.0, 0.813640417797926, 0.813640417797926, 0.7649447892153856], \"yaxis\": \"y\"}, {\"hoverinfo\": \"text\", \"marker\": {\"color\": \"rgb(255,220,0)\"}, \"mode\": \"lines\", \"type\": \"scatter\", \"x\": [1515.0, 1515.0, 1534.375, 1534.375], \"xaxis\": \"x\", \"y\": [0.0, 0.8836679042888336, 0.8836679042888336, 0.813640417797926], \"yaxis\": \"y\"}, {\"hoverinfo\": \"text\", \"marker\": {\"color\": \"rgb(255,220,0)\"}, \"mode\": \"lines\", \"type\": \"scatter\", \"x\": [1505.0, 1505.0, 1524.6875, 1524.6875], \"xaxis\": \"x\", \"y\": [0.0, 0.9476170398679045, 0.9476170398679045, 0.8836679042888336], \"yaxis\": \"y\"}, {\"hoverinfo\": \"text\", \"marker\": {\"color\": \"rgb(0,116,217)\"}, \"mode\": \"lines\", \"type\": \"scatter\", \"x\": [1495.0, 1495.0, 1514.84375, 1514.84375], \"xaxis\": \"x\", \"y\": [0.0, 1.0212460601069226, 1.0212460601069226, 0.9476170398679045], \"yaxis\": \"y\"}, {\"hoverinfo\": \"text\", \"marker\": {\"color\": \"rgb(40,35,35)\"}, \"mode\": \"lines\", \"type\": \"scatter\", \"x\": [1585.0, 1585.0, 1595.0, 1595.0], \"xaxis\": \"x\", \"y\": [0.0, 0.9414143013859468, 0.9414143013859468, 0.0], \"yaxis\": \"y\"}, {\"hoverinfo\": \"text\", \"marker\": {\"color\": \"rgb(0,116,217)\"}, \"mode\": \"lines\", \"type\": \"scatter\", \"x\": [1575.0, 1575.0, 1590.0, 1590.0], \"xaxis\": \"x\", \"y\": [0.0, 1.0006216407545994, 1.0006216407545994, 0.9414143013859468], \"yaxis\": \"y\"}, {\"hoverinfo\": \"text\", \"marker\": {\"color\": \"rgb(61,153,112)\"}, \"mode\": \"lines\", \"type\": \"scatter\", \"x\": [1605.0, 1605.0, 1615.0, 1615.0], \"xaxis\": \"x\", \"y\": [0.0, 0.4888732528138265, 0.4888732528138265, 0.0], \"yaxis\": \"y\"}, {\"hoverinfo\": \"text\", \"marker\": {\"color\": \"rgb(255,65,54)\"}, \"mode\": \"lines\", \"type\": \"scatter\", \"x\": [1625.0, 1625.0, 1635.0, 1635.0], \"xaxis\": \"x\", \"y\": [0.0, 0.7750698272585053, 0.7750698272585053, 0.0], \"yaxis\": \"y\"}, {\"hoverinfo\": \"text\", \"marker\": {\"color\": \"rgb(0,116,217)\"}, \"mode\": \"lines\", \"type\": \"scatter\", \"x\": [1610.0, 1610.0, 1630.0, 1630.0], \"xaxis\": \"x\", \"y\": [0.4888732528138265, 1.0683349203130366, 1.0683349203130366, 0.7750698272585053], \"yaxis\": \"y\"}, {\"hoverinfo\": \"text\", \"marker\": {\"color\": \"rgb(0,116,217)\"}, \"mode\": \"lines\", \"type\": \"scatter\", \"x\": [1645.0, 1645.0, 1655.0, 1655.0], \"xaxis\": \"x\", \"y\": [0.0, 1.070095144685992, 1.070095144685992, 0.0], \"yaxis\": \"y\"}, {\"hoverinfo\": \"text\", \"marker\": {\"color\": \"rgb(0,116,217)\"}, \"mode\": \"lines\", \"type\": \"scatter\", \"x\": [1620.0, 1620.0, 1650.0, 1650.0], \"xaxis\": \"x\", \"y\": [1.0683349203130366, 1.1795927256349288, 1.1795927256349288, 1.070095144685992], \"yaxis\": \"y\"}, {\"hoverinfo\": \"text\", \"marker\": {\"color\": \"rgb(0,116,217)\"}, \"mode\": \"lines\", \"type\": \"scatter\", \"x\": [1582.5, 1582.5, 1635.0, 1635.0], \"xaxis\": \"x\", \"y\": [1.0006216407545994, 1.2330794653848967, 1.2330794653848967, 1.1795927256349288], \"yaxis\": \"y\"}, {\"hoverinfo\": \"text\", \"marker\": {\"color\": \"rgb(0,116,217)\"}, \"mode\": \"lines\", \"type\": \"scatter\", \"x\": [1504.921875, 1504.921875, 1608.75, 1608.75], \"xaxis\": \"x\", \"y\": [1.0212460601069226, 1.264238845973992, 1.264238845973992, 1.2330794653848967], \"yaxis\": \"y\"}, {\"hoverinfo\": \"text\", \"marker\": {\"color\": \"rgb(0,116,217)\"}, \"mode\": \"lines\", \"type\": \"scatter\", \"x\": [1480.0, 1480.0, 1556.8359375, 1556.8359375], \"xaxis\": \"x\", \"y\": [1.191150556392896, 1.2810796530521251, 1.2810796530521251, 1.264238845973992], \"yaxis\": \"y\"}, {\"hoverinfo\": \"text\", \"marker\": {\"color\": \"rgb(35,205,205)\"}, \"mode\": \"lines\", \"type\": \"scatter\", \"x\": [1685.0, 1685.0, 1695.0, 1695.0], \"xaxis\": \"x\", \"y\": [0.0, 0.842634440165332, 0.842634440165332, 0.0], \"yaxis\": \"y\"}, {\"hoverinfo\": \"text\", \"marker\": {\"color\": \"rgb(0,116,217)\"}, \"mode\": \"lines\", \"type\": \"scatter\", \"x\": [1675.0, 1675.0, 1690.0, 1690.0], \"xaxis\": \"x\", \"y\": [0.0, 1.0651267477641124, 1.0651267477641124, 0.842634440165332], \"yaxis\": \"y\"}, {\"hoverinfo\": \"text\", \"marker\": {\"color\": \"rgb(0,116,217)\"}, \"mode\": \"lines\", \"type\": \"scatter\", \"x\": [1665.0, 1665.0, 1682.5, 1682.5], \"xaxis\": \"x\", \"y\": [0.0, 1.124880640471266, 1.124880640471266, 1.0651267477641124], \"yaxis\": \"y\"}, {\"hoverinfo\": \"text\", \"marker\": {\"color\": \"rgb(0,116,217)\"}, \"mode\": \"lines\", \"type\": \"scatter\", \"x\": [1715.0, 1715.0, 1725.0, 1725.0], \"xaxis\": \"x\", \"y\": [0.0, 1.1531095367744715, 1.1531095367744715, 0.0], \"yaxis\": \"y\"}, {\"hoverinfo\": \"text\", \"marker\": {\"color\": \"rgb(0,116,217)\"}, \"mode\": \"lines\", \"type\": \"scatter\", \"x\": [1705.0, 1705.0, 1720.0, 1720.0], \"xaxis\": \"x\", \"y\": [0.0, 1.2400835192068962, 1.2400835192068962, 1.1531095367744715], \"yaxis\": \"y\"}, {\"hoverinfo\": \"text\", \"marker\": {\"color\": \"rgb(0,116,217)\"}, \"mode\": \"lines\", \"type\": \"scatter\", \"x\": [1673.75, 1673.75, 1712.5, 1712.5], \"xaxis\": \"x\", \"y\": [1.124880640471266, 1.2867607453180712, 1.2867607453180712, 1.2400835192068962], \"yaxis\": \"y\"}, {\"hoverinfo\": \"text\", \"marker\": {\"color\": \"rgb(133,20,75)\"}, \"mode\": \"lines\", \"type\": \"scatter\", \"x\": [1735.0, 1735.0, 1745.0, 1745.0], \"xaxis\": \"x\", \"y\": [0.0, 0.79555812474998, 0.79555812474998, 0.0], \"yaxis\": \"y\"}, {\"hoverinfo\": \"text\", \"marker\": {\"color\": \"rgb(0,116,217)\"}, \"mode\": \"lines\", \"type\": \"scatter\", \"x\": [1775.0, 1775.0, 1785.0, 1785.0], \"xaxis\": \"x\", \"y\": [0.0, 0.9793924731453516, 0.9793924731453516, 0.0], \"yaxis\": \"y\"}, {\"hoverinfo\": \"text\", \"marker\": {\"color\": \"rgb(255,220,0)\"}, \"mode\": \"lines\", \"type\": \"scatter\", \"x\": [1805.0, 1805.0, 1815.0, 1815.0], \"xaxis\": \"x\", \"y\": [0.0, 0.6372788054293463, 0.6372788054293463, 0.0], \"yaxis\": \"y\"}, {\"hoverinfo\": \"text\", \"marker\": {\"color\": \"rgb(0,116,217)\"}, \"mode\": \"lines\", \"type\": \"scatter\", \"x\": [1795.0, 1795.0, 1810.0, 1810.0], \"xaxis\": \"x\", \"y\": [0.0, 1.0185487893326686, 1.0185487893326686, 0.6372788054293463], \"yaxis\": \"y\"}, {\"hoverinfo\": \"text\", \"marker\": {\"color\": \"rgb(0,116,217)\"}, \"mode\": \"lines\", \"type\": \"scatter\", \"x\": [1780.0, 1780.0, 1802.5, 1802.5], \"xaxis\": \"x\", \"y\": [0.9793924731453516, 1.0434898526235103, 1.0434898526235103, 1.0185487893326686], \"yaxis\": \"y\"}, {\"hoverinfo\": \"text\", \"marker\": {\"color\": \"rgb(0,116,217)\"}, \"mode\": \"lines\", \"type\": \"scatter\", \"x\": [1765.0, 1765.0, 1791.25, 1791.25], \"xaxis\": \"x\", \"y\": [0.0, 1.0855280431516352, 1.0855280431516352, 1.0434898526235103], \"yaxis\": \"y\"}, {\"hoverinfo\": \"text\", \"marker\": {\"color\": \"rgb(0,116,217)\"}, \"mode\": \"lines\", \"type\": \"scatter\", \"x\": [1755.0, 1755.0, 1778.125, 1778.125], \"xaxis\": \"x\", \"y\": [0.0, 1.1128043949559132, 1.1128043949559132, 1.0855280431516352], \"yaxis\": \"y\"}, {\"hoverinfo\": \"text\", \"marker\": {\"color\": \"rgb(0,116,217)\"}, \"mode\": \"lines\", \"type\": \"scatter\", \"x\": [1740.0, 1740.0, 1766.5625, 1766.5625], \"xaxis\": \"x\", \"y\": [0.79555812474998, 1.1989401033870364, 1.1989401033870364, 1.1128043949559132], \"yaxis\": \"y\"}, {\"hoverinfo\": \"text\", \"marker\": {\"color\": \"rgb(0,116,217)\"}, \"mode\": \"lines\", \"type\": \"scatter\", \"x\": [1825.0, 1825.0, 1835.0, 1835.0], \"xaxis\": \"x\", \"y\": [0.0, 1.0909001273177819, 1.0909001273177819, 0.0], \"yaxis\": \"y\"}, {\"hoverinfo\": \"text\", \"marker\": {\"color\": \"rgb(40,35,35)\"}, \"mode\": \"lines\", \"type\": \"scatter\", \"x\": [1845.0, 1845.0, 1855.0, 1855.0], \"xaxis\": \"x\", \"y\": [0.0, 0.9216160867766405, 0.9216160867766405, 0.0], \"yaxis\": \"y\"}, {\"hoverinfo\": \"text\", \"marker\": {\"color\": \"rgb(61,153,112)\"}, \"mode\": \"lines\", \"type\": \"scatter\", \"x\": [1875.0, 1875.0, 1885.0, 1885.0], \"xaxis\": \"x\", \"y\": [0.0, 0.9301013963311544, 0.9301013963311544, 0.0], \"yaxis\": \"y\"}, {\"hoverinfo\": \"text\", \"marker\": {\"color\": \"rgb(0,116,217)\"}, \"mode\": \"lines\", \"type\": \"scatter\", \"x\": [1865.0, 1865.0, 1880.0, 1880.0], \"xaxis\": \"x\", \"y\": [0.0, 1.065974811393584, 1.065974811393584, 0.9301013963311544], \"yaxis\": \"y\"}, {\"hoverinfo\": \"text\", \"marker\": {\"color\": \"rgb(0,116,217)\"}, \"mode\": \"lines\", \"type\": \"scatter\", \"x\": [1850.0, 1850.0, 1872.5, 1872.5], \"xaxis\": \"x\", \"y\": [0.9216160867766405, 1.185457107569964, 1.185457107569964, 1.065974811393584], \"yaxis\": \"y\"}, {\"hoverinfo\": \"text\", \"marker\": {\"color\": \"rgb(0,116,217)\"}, \"mode\": \"lines\", \"type\": \"scatter\", \"x\": [1830.0, 1830.0, 1861.25, 1861.25], \"xaxis\": \"x\", \"y\": [1.0909001273177819, 1.2387650941153918, 1.2387650941153918, 1.185457107569964], \"yaxis\": \"y\"}, {\"hoverinfo\": \"text\", \"marker\": {\"color\": \"rgb(255,65,54)\"}, \"mode\": \"lines\", \"type\": \"scatter\", \"x\": [1895.0, 1895.0, 1905.0, 1905.0], \"xaxis\": \"x\", \"y\": [0.0, 0.9288038581554555, 0.9288038581554555, 0.0], \"yaxis\": \"y\"}, {\"hoverinfo\": \"text\", \"marker\": {\"color\": \"rgb(35,205,205)\"}, \"mode\": \"lines\", \"type\": \"scatter\", \"x\": [1925.0, 1925.0, 1935.0, 1935.0], \"xaxis\": \"x\", \"y\": [0.0, 0.6692375593815909, 0.6692375593815909, 0.0], \"yaxis\": \"y\"}, {\"hoverinfo\": \"text\", \"marker\": {\"color\": \"rgb(0,116,217)\"}, \"mode\": \"lines\", \"type\": \"scatter\", \"x\": [1915.0, 1915.0, 1930.0, 1930.0], \"xaxis\": \"x\", \"y\": [0.0, 0.9976586631849541, 0.9976586631849541, 0.6692375593815909], \"yaxis\": \"y\"}, {\"hoverinfo\": \"text\", \"marker\": {\"color\": \"rgb(0,116,217)\"}, \"mode\": \"lines\", \"type\": \"scatter\", \"x\": [1900.0, 1900.0, 1922.5, 1922.5], \"xaxis\": \"x\", \"y\": [0.9288038581554555, 1.0368657673293, 1.0368657673293, 0.9976586631849541], \"yaxis\": \"y\"}, {\"hoverinfo\": \"text\", \"marker\": {\"color\": \"rgb(133,20,75)\"}, \"mode\": \"lines\", \"type\": \"scatter\", \"x\": [1965.0, 1965.0, 1975.0, 1975.0], \"xaxis\": \"x\", \"y\": [0.0, 0.49247702372566365, 0.49247702372566365, 0.0], \"yaxis\": \"y\"}, {\"hoverinfo\": \"text\", \"marker\": {\"color\": \"rgb(133,20,75)\"}, \"mode\": \"lines\", \"type\": \"scatter\", \"x\": [1955.0, 1955.0, 1970.0, 1970.0], \"xaxis\": \"x\", \"y\": [0.0, 0.891684059302858, 0.891684059302858, 0.49247702372566365], \"yaxis\": \"y\"}, {\"hoverinfo\": \"text\", \"marker\": {\"color\": \"rgb(0,116,217)\"}, \"mode\": \"lines\", \"type\": \"scatter\", \"x\": [1945.0, 1945.0, 1962.5, 1962.5], \"xaxis\": \"x\", \"y\": [0.0, 1.0836412009692946, 1.0836412009692946, 0.891684059302858], \"yaxis\": \"y\"}, {\"hoverinfo\": \"text\", \"marker\": {\"color\": \"rgb(0,116,217)\"}, \"mode\": \"lines\", \"type\": \"scatter\", \"x\": [1911.25, 1911.25, 1953.75, 1953.75], \"xaxis\": \"x\", \"y\": [1.0368657673293, 1.1870207170105938, 1.1870207170105938, 1.0836412009692946], \"yaxis\": \"y\"}, {\"hoverinfo\": \"text\", \"marker\": {\"color\": \"rgb(255,220,0)\"}, \"mode\": \"lines\", \"type\": \"scatter\", \"x\": [1995.0, 1995.0, 2005.0, 2005.0], \"xaxis\": \"x\", \"y\": [0.0, 4.706891929851762e-15, 4.706891929851762e-15, 0.0], \"yaxis\": \"y\"}, {\"hoverinfo\": \"text\", \"marker\": {\"color\": \"rgb(40,35,35)\"}, \"mode\": \"lines\", \"type\": \"scatter\", \"x\": [2025.0, 2025.0, 2035.0, 2035.0], \"xaxis\": \"x\", \"y\": [0.0, 0.9342921537261099, 0.9342921537261099, 0.0], \"yaxis\": \"y\"}, {\"hoverinfo\": \"text\", \"marker\": {\"color\": \"rgb(0,116,217)\"}, \"mode\": \"lines\", \"type\": \"scatter\", \"x\": [2015.0, 2015.0, 2030.0, 2030.0], \"xaxis\": \"x\", \"y\": [0.0, 1.009893033366468, 1.009893033366468, 0.9342921537261099], \"yaxis\": \"y\"}, {\"hoverinfo\": \"text\", \"marker\": {\"color\": \"rgb(0,116,217)\"}, \"mode\": \"lines\", \"type\": \"scatter\", \"x\": [2000.0, 2000.0, 2022.5, 2022.5], \"xaxis\": \"x\", \"y\": [4.706891929851762e-15, 1.1308749819491757, 1.1308749819491757, 1.009893033366468], \"yaxis\": \"y\"}, {\"hoverinfo\": \"text\", \"marker\": {\"color\": \"rgb(0,116,217)\"}, \"mode\": \"lines\", \"type\": \"scatter\", \"x\": [1985.0, 1985.0, 2011.25, 2011.25], \"xaxis\": \"x\", \"y\": [0.0, 1.1950048036559926, 1.1950048036559926, 1.1308749819491757], \"yaxis\": \"y\"}, {\"hoverinfo\": \"text\", \"marker\": {\"color\": \"rgb(0,116,217)\"}, \"mode\": \"lines\", \"type\": \"scatter\", \"x\": [1932.5, 1932.5, 1998.125, 1998.125], \"xaxis\": \"x\", \"y\": [1.1870207170105938, 1.2675406943732956, 1.2675406943732956, 1.1950048036559926], \"yaxis\": \"y\"}, {\"hoverinfo\": \"text\", \"marker\": {\"color\": \"rgb(0,116,217)\"}, \"mode\": \"lines\", \"type\": \"scatter\", \"x\": [1845.625, 1845.625, 1965.3125, 1965.3125], \"xaxis\": \"x\", \"y\": [1.2387650941153918, 1.2960476376953123, 1.2960476376953123, 1.2675406943732956], \"yaxis\": \"y\"}, {\"hoverinfo\": \"text\", \"marker\": {\"color\": \"rgb(0,116,217)\"}, \"mode\": \"lines\", \"type\": \"scatter\", \"x\": [1753.28125, 1753.28125, 1905.46875, 1905.46875], \"xaxis\": \"x\", \"y\": [1.1989401033870364, 1.3090337212155267, 1.3090337212155267, 1.2960476376953123], \"yaxis\": \"y\"}, {\"hoverinfo\": \"text\", \"marker\": {\"color\": \"rgb(61,153,112)\"}, \"mode\": \"lines\", \"type\": \"scatter\", \"x\": [2055.0, 2055.0, 2065.0, 2065.0], \"xaxis\": \"x\", \"y\": [0.0, 0.7438615406154329, 0.7438615406154329, 0.0], \"yaxis\": \"y\"}, {\"hoverinfo\": \"text\", \"marker\": {\"color\": \"rgb(0,116,217)\"}, \"mode\": \"lines\", \"type\": \"scatter\", \"x\": [2045.0, 2045.0, 2060.0, 2060.0], \"xaxis\": \"x\", \"y\": [0.0, 1.0128188354612957, 1.0128188354612957, 0.7438615406154329], \"yaxis\": \"y\"}, {\"hoverinfo\": \"text\", \"marker\": {\"color\": \"rgb(255,65,54)\"}, \"mode\": \"lines\", \"type\": \"scatter\", \"x\": [2105.0, 2105.0, 2115.0, 2115.0], \"xaxis\": \"x\", \"y\": [0.0, 0.6682664069573583, 0.6682664069573583, 0.0], \"yaxis\": \"y\"}, {\"hoverinfo\": \"text\", \"marker\": {\"color\": \"rgb(255,65,54)\"}, \"mode\": \"lines\", \"type\": \"scatter\", \"x\": [2095.0, 2095.0, 2110.0, 2110.0], \"xaxis\": \"x\", \"y\": [0.0, 0.9606469962583899, 0.9606469962583899, 0.6682664069573583], \"yaxis\": \"y\"}, {\"hoverinfo\": \"text\", \"marker\": {\"color\": \"rgb(0,116,217)\"}, \"mode\": \"lines\", \"type\": \"scatter\", \"x\": [2085.0, 2085.0, 2102.5, 2102.5], \"xaxis\": \"x\", \"y\": [0.0, 0.9824199457611248, 0.9824199457611248, 0.9606469962583899], \"yaxis\": \"y\"}, {\"hoverinfo\": \"text\", \"marker\": {\"color\": \"rgb(0,116,217)\"}, \"mode\": \"lines\", \"type\": \"scatter\", \"x\": [2075.0, 2075.0, 2093.75, 2093.75], \"xaxis\": \"x\", \"y\": [0.0, 1.1044189006673044, 1.1044189006673044, 0.9824199457611248], \"yaxis\": \"y\"}, {\"hoverinfo\": \"text\", \"marker\": {\"color\": \"rgb(0,116,217)\"}, \"mode\": \"lines\", \"type\": \"scatter\", \"x\": [2052.5, 2052.5, 2084.375, 2084.375], \"xaxis\": \"x\", \"y\": [1.0128188354612957, 1.1967658806703483, 1.1967658806703483, 1.1044189006673044], \"yaxis\": \"y\"}, {\"hoverinfo\": \"text\", \"marker\": {\"color\": \"rgb(35,205,205)\"}, \"mode\": \"lines\", \"type\": \"scatter\", \"x\": [2155.0, 2155.0, 2165.0, 2165.0], \"xaxis\": \"x\", \"y\": [0.0, 0.8875850629979113, 0.8875850629979113, 0.0], \"yaxis\": \"y\"}, {\"hoverinfo\": \"text\", \"marker\": {\"color\": \"rgb(0,116,217)\"}, \"mode\": \"lines\", \"type\": \"scatter\", \"x\": [2145.0, 2145.0, 2160.0, 2160.0], \"xaxis\": \"x\", \"y\": [0.0, 1.0026605484391764, 1.0026605484391764, 0.8875850629979113], \"yaxis\": \"y\"}, {\"hoverinfo\": \"text\", \"marker\": {\"color\": \"rgb(0,116,217)\"}, \"mode\": \"lines\", \"type\": \"scatter\", \"x\": [2135.0, 2135.0, 2152.5, 2152.5], \"xaxis\": \"x\", \"y\": [0.0, 1.0773621261434172, 1.0773621261434172, 1.0026605484391764], \"yaxis\": \"y\"}, {\"hoverinfo\": \"text\", \"marker\": {\"color\": \"rgb(0,116,217)\"}, \"mode\": \"lines\", \"type\": \"scatter\", \"x\": [2125.0, 2125.0, 2143.75, 2143.75], \"xaxis\": \"x\", \"y\": [0.0, 1.2131772446726348, 1.2131772446726348, 1.0773621261434172], \"yaxis\": \"y\"}, {\"hoverinfo\": \"text\", \"marker\": {\"color\": \"rgb(0,116,217)\"}, \"mode\": \"lines\", \"type\": \"scatter\", \"x\": [2195.0, 2195.0, 2205.0, 2205.0], \"xaxis\": \"x\", \"y\": [0.0, 1.0269068170964377, 1.0269068170964377, 0.0], \"yaxis\": \"y\"}, {\"hoverinfo\": \"text\", \"marker\": {\"color\": \"rgb(0,116,217)\"}, \"mode\": \"lines\", \"type\": \"scatter\", \"x\": [2185.0, 2185.0, 2200.0, 2200.0], \"xaxis\": \"x\", \"y\": [0.0, 1.0632797951596122, 1.0632797951596122, 1.0269068170964377], \"yaxis\": \"y\"}, {\"hoverinfo\": \"text\", \"marker\": {\"color\": \"rgb(0,116,217)\"}, \"mode\": \"lines\", \"type\": \"scatter\", \"x\": [2175.0, 2175.0, 2192.5, 2192.5], \"xaxis\": \"x\", \"y\": [0.0, 1.1478061943848508, 1.1478061943848508, 1.0632797951596122], \"yaxis\": \"y\"}, {\"hoverinfo\": \"text\", \"marker\": {\"color\": \"rgb(0,116,217)\"}, \"mode\": \"lines\", \"type\": \"scatter\", \"x\": [2215.0, 2215.0, 2225.0, 2225.0], \"xaxis\": \"x\", \"y\": [0.0, 1.2118823641992618, 1.2118823641992618, 0.0], \"yaxis\": \"y\"}, {\"hoverinfo\": \"text\", \"marker\": {\"color\": \"rgb(0,116,217)\"}, \"mode\": \"lines\", \"type\": \"scatter\", \"x\": [2183.75, 2183.75, 2220.0, 2220.0], \"xaxis\": \"x\", \"y\": [1.1478061943848508, 1.2539243732742686, 1.2539243732742686, 1.2118823641992618], \"yaxis\": \"y\"}, {\"hoverinfo\": \"text\", \"marker\": {\"color\": \"rgb(0,116,217)\"}, \"mode\": \"lines\", \"type\": \"scatter\", \"x\": [2134.375, 2134.375, 2201.875, 2201.875], \"xaxis\": \"x\", \"y\": [1.2131772446726348, 1.2904652209217484, 1.2904652209217484, 1.2539243732742686], \"yaxis\": \"y\"}, {\"hoverinfo\": \"text\", \"marker\": {\"color\": \"rgb(0,116,217)\"}, \"mode\": \"lines\", \"type\": \"scatter\", \"x\": [2068.4375, 2068.4375, 2168.125, 2168.125], \"xaxis\": \"x\", \"y\": [1.1967658806703483, 1.3171805823097062, 1.3171805823097062, 1.2904652209217484], \"yaxis\": \"y\"}, {\"hoverinfo\": \"text\", \"marker\": {\"color\": \"rgb(0,116,217)\"}, \"mode\": \"lines\", \"type\": \"scatter\", \"x\": [1829.375, 1829.375, 2118.28125, 2118.28125], \"xaxis\": \"x\", \"y\": [1.3090337212155267, 1.3351141103208293, 1.3351141103208293, 1.3171805823097062], \"yaxis\": \"y\"}, {\"hoverinfo\": \"text\", \"marker\": {\"color\": \"rgb(0,116,217)\"}, \"mode\": \"lines\", \"type\": \"scatter\", \"x\": [1693.125, 1693.125, 1973.828125, 1973.828125], \"xaxis\": \"x\", \"y\": [1.2867607453180712, 1.3483207006955331, 1.3483207006955331, 1.3351141103208293], \"yaxis\": \"y\"}, {\"hoverinfo\": \"text\", \"marker\": {\"color\": \"rgb(0,116,217)\"}, \"mode\": \"lines\", \"type\": \"scatter\", \"x\": [2235.0, 2235.0, 2245.0, 2245.0], \"xaxis\": \"x\", \"y\": [0.0, 1.315234753299126, 1.315234753299126, 0.0], \"yaxis\": \"y\"}, {\"hoverinfo\": \"text\", \"marker\": {\"color\": \"rgb(0,116,217)\"}, \"mode\": \"lines\", \"type\": \"scatter\", \"x\": [2255.0, 2255.0, 2265.0, 2265.0], \"xaxis\": \"x\", \"y\": [0.0, 1.1685500370666477, 1.1685500370666477, 0.0], \"yaxis\": \"y\"}, {\"hoverinfo\": \"text\", \"marker\": {\"color\": \"rgb(133,20,75)\"}, \"mode\": \"lines\", \"type\": \"scatter\", \"x\": [2275.0, 2275.0, 2285.0, 2285.0], \"xaxis\": \"x\", \"y\": [0.0, 0.9419807071874221, 0.9419807071874221, 0.0], \"yaxis\": \"y\"}, {\"hoverinfo\": \"text\", \"marker\": {\"color\": \"rgb(0,116,217)\"}, \"mode\": \"lines\", \"type\": \"scatter\", \"x\": [2295.0, 2295.0, 2305.0, 2305.0], \"xaxis\": \"x\", \"y\": [0.0, 1.0807285280414425, 1.0807285280414425, 0.0], \"yaxis\": \"y\"}, {\"hoverinfo\": \"text\", \"marker\": {\"color\": \"rgb(0,116,217)\"}, \"mode\": \"lines\", \"type\": \"scatter\", \"x\": [2280.0, 2280.0, 2300.0, 2300.0], \"xaxis\": \"x\", \"y\": [0.9419807071874221, 1.1524286902559748, 1.1524286902559748, 1.0807285280414425], \"yaxis\": \"y\"}, {\"hoverinfo\": \"text\", \"marker\": {\"color\": \"rgb(0,116,217)\"}, \"mode\": \"lines\", \"type\": \"scatter\", \"x\": [2315.0, 2315.0, 2325.0, 2325.0], \"xaxis\": \"x\", \"y\": [0.0, 1.0529792454691944, 1.0529792454691944, 0.0], \"yaxis\": \"y\"}, {\"hoverinfo\": \"text\", \"marker\": {\"color\": \"rgb(0,116,217)\"}, \"mode\": \"lines\", \"type\": \"scatter\", \"x\": [2335.0, 2335.0, 2345.0, 2345.0], \"xaxis\": \"x\", \"y\": [0.0, 1.140606839618206, 1.140606839618206, 0.0], \"yaxis\": \"y\"}, {\"hoverinfo\": \"text\", \"marker\": {\"color\": \"rgb(0,116,217)\"}, \"mode\": \"lines\", \"type\": \"scatter\", \"x\": [2320.0, 2320.0, 2340.0, 2340.0], \"xaxis\": \"x\", \"y\": [1.0529792454691944, 1.215329735691411, 1.215329735691411, 1.140606839618206], \"yaxis\": \"y\"}, {\"hoverinfo\": \"text\", \"marker\": {\"color\": \"rgb(0,116,217)\"}, \"mode\": \"lines\", \"type\": \"scatter\", \"x\": [2290.0, 2290.0, 2330.0, 2330.0], \"xaxis\": \"x\", \"y\": [1.1524286902559748, 1.2816265545951877, 1.2816265545951877, 1.215329735691411], \"yaxis\": \"y\"}, {\"hoverinfo\": \"text\", \"marker\": {\"color\": \"rgb(0,116,217)\"}, \"mode\": \"lines\", \"type\": \"scatter\", \"x\": [2260.0, 2260.0, 2310.0, 2310.0], \"xaxis\": \"x\", \"y\": [1.1685500370666477, 1.327057389800024, 1.327057389800024, 1.2816265545951877], \"yaxis\": \"y\"}, {\"hoverinfo\": \"text\", \"marker\": {\"color\": \"rgb(0,116,217)\"}, \"mode\": \"lines\", \"type\": \"scatter\", \"x\": [2355.0, 2355.0, 2365.0, 2365.0], \"xaxis\": \"x\", \"y\": [0.0, 1.1616392224009588, 1.1616392224009588, 0.0], \"yaxis\": \"y\"}, {\"hoverinfo\": \"text\", \"marker\": {\"color\": \"rgb(255,220,0)\"}, \"mode\": \"lines\", \"type\": \"scatter\", \"x\": [2375.0, 2375.0, 2385.0, 2385.0], \"xaxis\": \"x\", \"y\": [0.0, 0.9373506792898249, 0.9373506792898249, 0.0], \"yaxis\": \"y\"}, {\"hoverinfo\": \"text\", \"marker\": {\"color\": \"rgb(0,116,217)\"}, \"mode\": \"lines\", \"type\": \"scatter\", \"x\": [2405.0, 2405.0, 2415.0, 2415.0], \"xaxis\": \"x\", \"y\": [0.0, 0.9972809731303683, 0.9972809731303683, 0.0], \"yaxis\": \"y\"}, {\"hoverinfo\": \"text\", \"marker\": {\"color\": \"rgb(0,116,217)\"}, \"mode\": \"lines\", \"type\": \"scatter\", \"x\": [2395.0, 2395.0, 2410.0, 2410.0], \"xaxis\": \"x\", \"y\": [0.0, 1.1339715888640975, 1.1339715888640975, 0.9972809731303683], \"yaxis\": \"y\"}, {\"hoverinfo\": \"text\", \"marker\": {\"color\": \"rgb(0,116,217)\"}, \"mode\": \"lines\", \"type\": \"scatter\", \"x\": [2380.0, 2380.0, 2402.5, 2402.5], \"xaxis\": \"x\", \"y\": [0.9373506792898249, 1.20115116908696, 1.20115116908696, 1.1339715888640975], \"yaxis\": \"y\"}, {\"hoverinfo\": \"text\", \"marker\": {\"color\": \"rgb(0,116,217)\"}, \"mode\": \"lines\", \"type\": \"scatter\", \"x\": [2360.0, 2360.0, 2391.25, 2391.25], \"xaxis\": \"x\", \"y\": [1.1616392224009588, 1.2681930693264678, 1.2681930693264678, 1.20115116908696], \"yaxis\": \"y\"}, {\"hoverinfo\": \"text\", \"marker\": {\"color\": \"rgb(0,116,217)\"}, \"mode\": \"lines\", \"type\": \"scatter\", \"x\": [2425.0, 2425.0, 2435.0, 2435.0], \"xaxis\": \"x\", \"y\": [0.0, 1.2085402108965364, 1.2085402108965364, 0.0], \"yaxis\": \"y\"}, {\"hoverinfo\": \"text\", \"marker\": {\"color\": \"rgb(0,116,217)\"}, \"mode\": \"lines\", \"type\": \"scatter\", \"x\": [2445.0, 2445.0, 2455.0, 2455.0], \"xaxis\": \"x\", \"y\": [0.0, 1.0322245791187648, 1.0322245791187648, 0.0], \"yaxis\": \"y\"}, {\"hoverinfo\": \"text\", \"marker\": {\"color\": \"rgb(0,116,217)\"}, \"mode\": \"lines\", \"type\": \"scatter\", \"x\": [2465.0, 2465.0, 2475.0, 2475.0], \"xaxis\": \"x\", \"y\": [0.0, 1.1145683795447454, 1.1145683795447454, 0.0], \"yaxis\": \"y\"}, {\"hoverinfo\": \"text\", \"marker\": {\"color\": \"rgb(0,116,217)\"}, \"mode\": \"lines\", \"type\": \"scatter\", \"x\": [2450.0, 2450.0, 2470.0, 2470.0], \"xaxis\": \"x\", \"y\": [1.0322245791187648, 1.1626301513374497, 1.1626301513374497, 1.1145683795447454], \"yaxis\": \"y\"}, {\"hoverinfo\": \"text\", \"marker\": {\"color\": \"rgb(0,116,217)\"}, \"mode\": \"lines\", \"type\": \"scatter\", \"x\": [2485.0, 2485.0, 2495.0, 2495.0], \"xaxis\": \"x\", \"y\": [0.0, 1.1410764032822482, 1.1410764032822482, 0.0], \"yaxis\": \"y\"}, {\"hoverinfo\": \"text\", \"marker\": {\"color\": \"rgb(0,116,217)\"}, \"mode\": \"lines\", \"type\": \"scatter\", \"x\": [2515.0, 2515.0, 2525.0, 2525.0], \"xaxis\": \"x\", \"y\": [0.0, 1.07500618370124, 1.07500618370124, 0.0], \"yaxis\": \"y\"}, {\"hoverinfo\": \"text\", \"marker\": {\"color\": \"rgb(0,116,217)\"}, \"mode\": \"lines\", \"type\": \"scatter\", \"x\": [2505.0, 2505.0, 2520.0, 2520.0], \"xaxis\": \"x\", \"y\": [0.0, 1.1614372055762003, 1.1614372055762003, 1.07500618370124], \"yaxis\": \"y\"}, {\"hoverinfo\": \"text\", \"marker\": {\"color\": \"rgb(0,116,217)\"}, \"mode\": \"lines\", \"type\": \"scatter\", \"x\": [2490.0, 2490.0, 2512.5, 2512.5], \"xaxis\": \"x\", \"y\": [1.1410764032822482, 1.2307696474394818, 1.2307696474394818, 1.1614372055762003], \"yaxis\": \"y\"}, {\"hoverinfo\": \"text\", \"marker\": {\"color\": \"rgb(0,116,217)\"}, \"mode\": \"lines\", \"type\": \"scatter\", \"x\": [2460.0, 2460.0, 2501.25, 2501.25], \"xaxis\": \"x\", \"y\": [1.1626301513374497, 1.2687131092804256, 1.2687131092804256, 1.2307696474394818], \"yaxis\": \"y\"}, {\"hoverinfo\": \"text\", \"marker\": {\"color\": \"rgb(0,116,217)\"}, \"mode\": \"lines\", \"type\": \"scatter\", \"x\": [2430.0, 2430.0, 2480.625, 2480.625], \"xaxis\": \"x\", \"y\": [1.2085402108965364, 1.2873812381452754, 1.2873812381452754, 1.2687131092804256], \"yaxis\": \"y\"}, {\"hoverinfo\": \"text\", \"marker\": {\"color\": \"rgb(0,116,217)\"}, \"mode\": \"lines\", \"type\": \"scatter\", \"x\": [2375.625, 2375.625, 2455.3125, 2455.3125], \"xaxis\": \"x\", \"y\": [1.2681930693264678, 1.2953828098422269, 1.2953828098422269, 1.2873812381452754], \"yaxis\": \"y\"}, {\"hoverinfo\": \"text\", \"marker\": {\"color\": \"rgb(0,116,217)\"}, \"mode\": \"lines\", \"type\": \"scatter\", \"x\": [2535.0, 2535.0, 2545.0, 2545.0], \"xaxis\": \"x\", \"y\": [0.0, 1.0971769195659271, 1.0971769195659271, 0.0], \"yaxis\": \"y\"}, {\"hoverinfo\": \"text\", \"marker\": {\"color\": \"rgb(0,116,217)\"}, \"mode\": \"lines\", \"type\": \"scatter\", \"x\": [2565.0, 2565.0, 2575.0, 2575.0], \"xaxis\": \"x\", \"y\": [0.0, 1.1175932625008875, 1.1175932625008875, 0.0], \"yaxis\": \"y\"}, {\"hoverinfo\": \"text\", \"marker\": {\"color\": \"rgb(0,116,217)\"}, \"mode\": \"lines\", \"type\": \"scatter\", \"x\": [2595.0, 2595.0, 2605.0, 2605.0], \"xaxis\": \"x\", \"y\": [0.0, 1.0774937413811099, 1.0774937413811099, 0.0], \"yaxis\": \"y\"}, {\"hoverinfo\": \"text\", \"marker\": {\"color\": \"rgb(0,116,217)\"}, \"mode\": \"lines\", \"type\": \"scatter\", \"x\": [2585.0, 2585.0, 2600.0, 2600.0], \"xaxis\": \"x\", \"y\": [0.0, 1.1303965332979053, 1.1303965332979053, 1.0774937413811099], \"yaxis\": \"y\"}, {\"hoverinfo\": \"text\", \"marker\": {\"color\": \"rgb(0,116,217)\"}, \"mode\": \"lines\", \"type\": \"scatter\", \"x\": [2570.0, 2570.0, 2592.5, 2592.5], \"xaxis\": \"x\", \"y\": [1.1175932625008875, 1.2185871704413516, 1.2185871704413516, 1.1303965332979053], \"yaxis\": \"y\"}, {\"hoverinfo\": \"text\", \"marker\": {\"color\": \"rgb(0,116,217)\"}, \"mode\": \"lines\", \"type\": \"scatter\", \"x\": [2555.0, 2555.0, 2581.25, 2581.25], \"xaxis\": \"x\", \"y\": [0.0, 1.2632813556426699, 1.2632813556426699, 1.2185871704413516], \"yaxis\": \"y\"}, {\"hoverinfo\": \"text\", \"marker\": {\"color\": \"rgb(0,116,217)\"}, \"mode\": \"lines\", \"type\": \"scatter\", \"x\": [2540.0, 2540.0, 2568.125, 2568.125], \"xaxis\": \"x\", \"y\": [1.0971769195659271, 1.3070610671204388, 1.3070610671204388, 1.2632813556426699], \"yaxis\": \"y\"}, {\"hoverinfo\": \"text\", \"marker\": {\"color\": \"rgb(0,116,217)\"}, \"mode\": \"lines\", \"type\": \"scatter\", \"x\": [2415.46875, 2415.46875, 2554.0625, 2554.0625], \"xaxis\": \"x\", \"y\": [1.2953828098422269, 1.313623347729666, 1.313623347729666, 1.3070610671204388], \"yaxis\": \"y\"}, {\"hoverinfo\": \"text\", \"marker\": {\"color\": \"rgb(0,116,217)\"}, \"mode\": \"lines\", \"type\": \"scatter\", \"x\": [2625.0, 2625.0, 2635.0, 2635.0], \"xaxis\": \"x\", \"y\": [0.0, 1.207664155384337, 1.207664155384337, 0.0], \"yaxis\": \"y\"}, {\"hoverinfo\": \"text\", \"marker\": {\"color\": \"rgb(0,116,217)\"}, \"mode\": \"lines\", \"type\": \"scatter\", \"x\": [2615.0, 2615.0, 2630.0, 2630.0], \"xaxis\": \"x\", \"y\": [0.0, 1.2725294664973599, 1.2725294664973599, 1.207664155384337], \"yaxis\": \"y\"}, {\"hoverinfo\": \"text\", \"marker\": {\"color\": \"rgb(0,116,217)\"}, \"mode\": \"lines\", \"type\": \"scatter\", \"x\": [2645.0, 2645.0, 2655.0, 2655.0], \"xaxis\": \"x\", \"y\": [0.0, 1.0768610489135515, 1.0768610489135515, 0.0], \"yaxis\": \"y\"}, {\"hoverinfo\": \"text\", \"marker\": {\"color\": \"rgb(0,116,217)\"}, \"mode\": \"lines\", \"type\": \"scatter\", \"x\": [2665.0, 2665.0, 2675.0, 2675.0], \"xaxis\": \"x\", \"y\": [0.0, 1.0775178688386082, 1.0775178688386082, 0.0], \"yaxis\": \"y\"}, {\"hoverinfo\": \"text\", \"marker\": {\"color\": \"rgb(0,116,217)\"}, \"mode\": \"lines\", \"type\": \"scatter\", \"x\": [2650.0, 2650.0, 2670.0, 2670.0], \"xaxis\": \"x\", \"y\": [1.0768610489135515, 1.277063778831526, 1.277063778831526, 1.0775178688386082], \"yaxis\": \"y\"}, {\"hoverinfo\": \"text\", \"marker\": {\"color\": \"rgb(0,116,217)\"}, \"mode\": \"lines\", \"type\": \"scatter\", \"x\": [2622.5, 2622.5, 2660.0, 2660.0], \"xaxis\": \"x\", \"y\": [1.2725294664973599, 1.3221741712646438, 1.3221741712646438, 1.277063778831526], \"yaxis\": \"y\"}, {\"hoverinfo\": \"text\", \"marker\": {\"color\": \"rgb(0,116,217)\"}, \"mode\": \"lines\", \"type\": \"scatter\", \"x\": [2484.765625, 2484.765625, 2641.25, 2641.25], \"xaxis\": \"x\", \"y\": [1.313623347729666, 1.3332900346447236, 1.3332900346447236, 1.3221741712646438], \"yaxis\": \"y\"}, {\"hoverinfo\": \"text\", \"marker\": {\"color\": \"rgb(0,116,217)\"}, \"mode\": \"lines\", \"type\": \"scatter\", \"x\": [2285.0, 2285.0, 2563.0078125, 2563.0078125], \"xaxis\": \"x\", \"y\": [1.327057389800024, 1.3415426544729605, 1.3415426544729605, 1.3332900346447236], \"yaxis\": \"y\"}, {\"hoverinfo\": \"text\", \"marker\": {\"color\": \"rgb(0,116,217)\"}, \"mode\": \"lines\", \"type\": \"scatter\", \"x\": [2240.0, 2240.0, 2424.00390625, 2424.00390625], \"xaxis\": \"x\", \"y\": [1.315234753299126, 1.3560284581591722, 1.3560284581591722, 1.3415426544729605], \"yaxis\": \"y\"}, {\"hoverinfo\": \"text\", \"marker\": {\"color\": \"rgb(0,116,217)\"}, \"mode\": \"lines\", \"type\": \"scatter\", \"x\": [1833.4765625, 1833.4765625, 2332.001953125, 2332.001953125], \"xaxis\": \"x\", \"y\": [1.3483207006955331, 1.368815159504214, 1.368815159504214, 1.3560284581591722], \"yaxis\": \"y\"}, {\"hoverinfo\": \"text\", \"marker\": {\"color\": \"rgb(0,116,217)\"}, \"mode\": \"lines\", \"type\": \"scatter\", \"x\": [1518.41796875, 1518.41796875, 2082.7392578125, 2082.7392578125], \"xaxis\": \"x\", \"y\": [1.2810796530521251, 1.3721905994451575, 1.3721905994451575, 1.368815159504214], \"yaxis\": \"y\"}, {\"hoverinfo\": \"text\", \"marker\": {\"color\": \"rgb(0,116,217)\"}, \"mode\": \"lines\", \"type\": \"scatter\", \"x\": [1425.625, 1425.625, 1800.57861328125, 1800.57861328125], \"xaxis\": \"x\", \"y\": [1.3529916883721838, 1.3784150558479158, 1.3784150558479158, 1.3721905994451575], \"yaxis\": \"y\"}, {\"hoverinfo\": \"text\", \"marker\": {\"color\": \"rgb(0,116,217)\"}, \"mode\": \"lines\", \"type\": \"scatter\", \"x\": [821.663818359375, 821.663818359375, 1613.101806640625, 1613.101806640625], \"xaxis\": \"x\", \"y\": [1.375019498127988, 1.3842932691552008, 1.3842932691552008, 1.3784150558479158], \"yaxis\": \"y\"}, {\"hoverinfo\": \"text\", \"marker\": {\"color\": \"rgb(0,116,217)\"}, \"mode\": \"lines\", \"type\": \"scatter\", \"x\": [134.53125, 134.53125, 1217.3828125, 1217.3828125], \"xaxis\": \"x\", \"y\": [1.34924354907317, 1.386521185563146, 1.386521185563146, 1.3842932691552008], \"yaxis\": \"y\"}, {\"hoverinfo\": \"text\", \"marker\": {\"color\": \"rgb(0,116,217)\"}, \"mode\": \"lines\", \"type\": \"scatter\", \"x\": [37.1875, 37.1875, 675.95703125, 675.95703125], \"xaxis\": \"x\", \"y\": [1.3754864218405751, 1.3896291336231024, 1.3896291336231024, 1.386521185563146], \"yaxis\": \"y\"}],\n",
       "                        {\"autosize\": false, \"height\": null, \"hovermode\": \"closest\", \"showlegend\": false, \"template\": {\"data\": {\"bar\": [{\"error_x\": {\"color\": \"#2a3f5f\"}, \"error_y\": {\"color\": \"#2a3f5f\"}, \"marker\": {\"line\": {\"color\": \"#E5ECF6\", \"width\": 0.5}}, \"type\": \"bar\"}], \"barpolar\": [{\"marker\": {\"line\": {\"color\": \"#E5ECF6\", \"width\": 0.5}}, \"type\": \"barpolar\"}], \"carpet\": [{\"aaxis\": {\"endlinecolor\": \"#2a3f5f\", \"gridcolor\": \"white\", \"linecolor\": \"white\", \"minorgridcolor\": \"white\", \"startlinecolor\": \"#2a3f5f\"}, \"baxis\": {\"endlinecolor\": \"#2a3f5f\", \"gridcolor\": \"white\", \"linecolor\": \"white\", \"minorgridcolor\": \"white\", \"startlinecolor\": \"#2a3f5f\"}, \"type\": \"carpet\"}], \"choropleth\": [{\"colorbar\": {\"outlinewidth\": 0, \"ticks\": \"\"}, \"type\": \"choropleth\"}], \"contour\": [{\"colorbar\": {\"outlinewidth\": 0, \"ticks\": \"\"}, \"colorscale\": [[0.0, \"#0d0887\"], [0.1111111111111111, \"#46039f\"], [0.2222222222222222, \"#7201a8\"], [0.3333333333333333, \"#9c179e\"], [0.4444444444444444, \"#bd3786\"], [0.5555555555555556, \"#d8576b\"], [0.6666666666666666, \"#ed7953\"], [0.7777777777777778, \"#fb9f3a\"], [0.8888888888888888, \"#fdca26\"], [1.0, \"#f0f921\"]], \"type\": \"contour\"}], \"contourcarpet\": [{\"colorbar\": {\"outlinewidth\": 0, \"ticks\": \"\"}, \"type\": \"contourcarpet\"}], \"heatmap\": [{\"colorbar\": {\"outlinewidth\": 0, \"ticks\": \"\"}, \"colorscale\": [[0.0, \"#0d0887\"], [0.1111111111111111, \"#46039f\"], [0.2222222222222222, \"#7201a8\"], [0.3333333333333333, \"#9c179e\"], [0.4444444444444444, \"#bd3786\"], [0.5555555555555556, \"#d8576b\"], [0.6666666666666666, \"#ed7953\"], [0.7777777777777778, \"#fb9f3a\"], [0.8888888888888888, \"#fdca26\"], [1.0, \"#f0f921\"]], \"type\": \"heatmap\"}], \"heatmapgl\": [{\"colorbar\": {\"outlinewidth\": 0, \"ticks\": \"\"}, \"colorscale\": [[0.0, \"#0d0887\"], [0.1111111111111111, \"#46039f\"], [0.2222222222222222, \"#7201a8\"], [0.3333333333333333, \"#9c179e\"], [0.4444444444444444, \"#bd3786\"], [0.5555555555555556, \"#d8576b\"], [0.6666666666666666, \"#ed7953\"], [0.7777777777777778, \"#fb9f3a\"], [0.8888888888888888, \"#fdca26\"], [1.0, \"#f0f921\"]], \"type\": \"heatmapgl\"}], \"histogram\": [{\"marker\": {\"colorbar\": {\"outlinewidth\": 0, \"ticks\": \"\"}}, \"type\": \"histogram\"}], \"histogram2d\": [{\"colorbar\": {\"outlinewidth\": 0, \"ticks\": \"\"}, \"colorscale\": [[0.0, \"#0d0887\"], [0.1111111111111111, \"#46039f\"], [0.2222222222222222, \"#7201a8\"], [0.3333333333333333, \"#9c179e\"], [0.4444444444444444, \"#bd3786\"], [0.5555555555555556, \"#d8576b\"], [0.6666666666666666, \"#ed7953\"], [0.7777777777777778, \"#fb9f3a\"], [0.8888888888888888, \"#fdca26\"], [1.0, \"#f0f921\"]], \"type\": \"histogram2d\"}], \"histogram2dcontour\": [{\"colorbar\": {\"outlinewidth\": 0, \"ticks\": \"\"}, \"colorscale\": [[0.0, \"#0d0887\"], [0.1111111111111111, \"#46039f\"], [0.2222222222222222, \"#7201a8\"], [0.3333333333333333, \"#9c179e\"], [0.4444444444444444, \"#bd3786\"], [0.5555555555555556, \"#d8576b\"], [0.6666666666666666, \"#ed7953\"], [0.7777777777777778, \"#fb9f3a\"], [0.8888888888888888, \"#fdca26\"], [1.0, \"#f0f921\"]], \"type\": \"histogram2dcontour\"}], \"mesh3d\": [{\"colorbar\": {\"outlinewidth\": 0, \"ticks\": \"\"}, \"type\": \"mesh3d\"}], \"parcoords\": [{\"line\": {\"colorbar\": {\"outlinewidth\": 0, \"ticks\": \"\"}}, \"type\": \"parcoords\"}], \"scatter\": [{\"marker\": {\"colorbar\": {\"outlinewidth\": 0, \"ticks\": \"\"}}, \"type\": \"scatter\"}], \"scatter3d\": [{\"line\": {\"colorbar\": {\"outlinewidth\": 0, \"ticks\": \"\"}}, \"marker\": {\"colorbar\": {\"outlinewidth\": 0, \"ticks\": \"\"}}, \"type\": \"scatter3d\"}], \"scattercarpet\": [{\"marker\": {\"colorbar\": {\"outlinewidth\": 0, \"ticks\": \"\"}}, \"type\": \"scattercarpet\"}], \"scattergeo\": [{\"marker\": {\"colorbar\": {\"outlinewidth\": 0, \"ticks\": \"\"}}, \"type\": \"scattergeo\"}], \"scattergl\": [{\"marker\": {\"colorbar\": {\"outlinewidth\": 0, \"ticks\": \"\"}}, \"type\": \"scattergl\"}], \"scattermapbox\": [{\"marker\": {\"colorbar\": {\"outlinewidth\": 0, \"ticks\": \"\"}}, \"type\": \"scattermapbox\"}], \"scatterpolar\": [{\"marker\": {\"colorbar\": {\"outlinewidth\": 0, \"ticks\": \"\"}}, \"type\": \"scatterpolar\"}], \"scatterpolargl\": [{\"marker\": {\"colorbar\": {\"outlinewidth\": 0, \"ticks\": \"\"}}, \"type\": \"scatterpolargl\"}], \"scatterternary\": [{\"marker\": {\"colorbar\": {\"outlinewidth\": 0, \"ticks\": \"\"}}, \"type\": \"scatterternary\"}], \"surface\": [{\"colorbar\": {\"outlinewidth\": 0, \"ticks\": \"\"}, \"colorscale\": [[0.0, \"#0d0887\"], [0.1111111111111111, \"#46039f\"], [0.2222222222222222, \"#7201a8\"], [0.3333333333333333, \"#9c179e\"], [0.4444444444444444, \"#bd3786\"], [0.5555555555555556, \"#d8576b\"], [0.6666666666666666, \"#ed7953\"], [0.7777777777777778, \"#fb9f3a\"], [0.8888888888888888, \"#fdca26\"], [1.0, \"#f0f921\"]], \"type\": \"surface\"}], \"table\": [{\"cells\": {\"fill\": {\"color\": \"#EBF0F8\"}, \"line\": {\"color\": \"white\"}}, \"header\": {\"fill\": {\"color\": \"#C8D4E3\"}, \"line\": {\"color\": \"white\"}}, \"type\": \"table\"}]}, \"layout\": {\"annotationdefaults\": {\"arrowcolor\": \"#2a3f5f\", \"arrowhead\": 0, \"arrowwidth\": 1}, \"colorscale\": {\"diverging\": [[0, \"#8e0152\"], [0.1, \"#c51b7d\"], [0.2, \"#de77ae\"], [0.3, \"#f1b6da\"], [0.4, \"#fde0ef\"], [0.5, \"#f7f7f7\"], [0.6, \"#e6f5d0\"], [0.7, \"#b8e186\"], [0.8, \"#7fbc41\"], [0.9, \"#4d9221\"], [1, \"#276419\"]], \"sequential\": [[0.0, \"#0d0887\"], [0.1111111111111111, \"#46039f\"], [0.2222222222222222, \"#7201a8\"], [0.3333333333333333, \"#9c179e\"], [0.4444444444444444, \"#bd3786\"], [0.5555555555555556, \"#d8576b\"], [0.6666666666666666, \"#ed7953\"], [0.7777777777777778, \"#fb9f3a\"], [0.8888888888888888, \"#fdca26\"], [1.0, \"#f0f921\"]], \"sequentialminus\": [[0.0, \"#0d0887\"], [0.1111111111111111, \"#46039f\"], [0.2222222222222222, \"#7201a8\"], [0.3333333333333333, \"#9c179e\"], [0.4444444444444444, \"#bd3786\"], [0.5555555555555556, \"#d8576b\"], [0.6666666666666666, \"#ed7953\"], [0.7777777777777778, \"#fb9f3a\"], [0.8888888888888888, \"#fdca26\"], [1.0, \"#f0f921\"]]}, \"colorway\": [\"#636efa\", \"#EF553B\", \"#00cc96\", \"#ab63fa\", \"#FFA15A\", \"#19d3f3\", \"#FF6692\", \"#B6E880\", \"#FF97FF\", \"#FECB52\"], \"font\": {\"color\": \"#2a3f5f\"}, \"geo\": {\"bgcolor\": \"white\", \"lakecolor\": \"white\", \"landcolor\": \"#E5ECF6\", \"showlakes\": true, \"showland\": true, \"subunitcolor\": \"white\"}, \"hoverlabel\": {\"align\": \"left\"}, \"hovermode\": \"closest\", \"mapbox\": {\"style\": \"light\"}, \"paper_bgcolor\": \"white\", \"plot_bgcolor\": \"#E5ECF6\", \"polar\": {\"angularaxis\": {\"gridcolor\": \"white\", \"linecolor\": \"white\", \"ticks\": \"\"}, \"bgcolor\": \"#E5ECF6\", \"radialaxis\": {\"gridcolor\": \"white\", \"linecolor\": \"white\", \"ticks\": \"\"}}, \"scene\": {\"xaxis\": {\"backgroundcolor\": \"#E5ECF6\", \"gridcolor\": \"white\", \"gridwidth\": 2, \"linecolor\": \"white\", \"showbackground\": true, \"ticks\": \"\", \"zerolinecolor\": \"white\"}, \"yaxis\": {\"backgroundcolor\": \"#E5ECF6\", \"gridcolor\": \"white\", \"gridwidth\": 2, \"linecolor\": \"white\", \"showbackground\": true, \"ticks\": \"\", \"zerolinecolor\": \"white\"}, \"zaxis\": {\"backgroundcolor\": \"#E5ECF6\", \"gridcolor\": \"white\", \"gridwidth\": 2, \"linecolor\": \"white\", \"showbackground\": true, \"ticks\": \"\", \"zerolinecolor\": \"white\"}}, \"shapedefaults\": {\"line\": {\"color\": \"#2a3f5f\"}}, \"ternary\": {\"aaxis\": {\"gridcolor\": \"white\", \"linecolor\": \"white\", \"ticks\": \"\"}, \"baxis\": {\"gridcolor\": \"white\", \"linecolor\": \"white\", \"ticks\": \"\"}, \"bgcolor\": \"#E5ECF6\", \"caxis\": {\"gridcolor\": \"white\", \"linecolor\": \"white\", \"ticks\": \"\"}}, \"title\": {\"x\": 0.05}, \"xaxis\": {\"automargin\": true, \"gridcolor\": \"white\", \"linecolor\": \"white\", \"ticks\": \"\", \"zerolinecolor\": \"white\", \"zerolinewidth\": 2}, \"yaxis\": {\"automargin\": true, \"gridcolor\": \"white\", \"linecolor\": \"white\", \"ticks\": \"\", \"zerolinecolor\": \"white\", \"zerolinewidth\": 2}}}, \"width\": null, \"xaxis\": {\"mirror\": \"allticks\", \"rangemode\": \"tozero\", \"showgrid\": false, \"showline\": true, \"showticklabels\": true, \"tickmode\": \"array\", \"ticks\": \"outside\", \"ticktext\": [\"Hatton Cross\", \"Heathrow Terminal 5\", \"Heathrow Terminals 2 & 3\", \"Heathrow Terminal 4\", \"Osterley\", \"Hounslow West\", \"Hounslow Central\", \"Hounslow East\", \"Boston Manor\", \"Northfields\", \"Croxley\", \"Watford\", \"Chesham\", \"Rickmansworth\", \"Amersham\", \"Chalfont & Latimer\", \"Chorleywood\", \"Moor Park\", \"Pinner\", \"Northwood\", \"Northwood Hills\", \"Clapham South\", \"Clapham Common\", \"Clapham North\", \"Colliers Wood\", \"South Wimbledon\", \"Morden\", \"Tooting Broadway\", \"Balham\", \"Tooting Bec\", \"Brixton\", \"Stockwell\", \"Pimlico\", \"Vauxhall\", \"North Greenwich\", \"Canning Town\", \"Stratford\", \"Canada Water\", \"Canary Wharf\", \"Bermondsey\", \"Southwark\", \"Roding Valley\", \"Hainault\", \"Chigwell\", \"Grange Hill\", \"Gants Hill\", \"Newbury Park\", \"Barkingside\", \"Fairlop\", \"Leyton\", \"Theydon Bois\", \"Leytonstone\", \"Epping\", \"Debden\", \"Loughton\", \"Buckhurst Hill\", \"Snaresbrook\", \"South Woodford\", \"Woodford\", \"South Ruislip\", \"Ruislip Gardens\", \"West Ruislip\", \"Perivale\", \"Greenford\", \"Northolt\", \"Kew Gardens\", \"Gunnersbury\", \"Richmond\", \"Royal Oak\", \"Westbourne Park\", \"Hanger Lane\", \"Park Royal\", \"East Acton\", \"North Acton\", \"West Acton\", \"Tottenham Hale\", \"Walthamstow Central\", \"Blackhorse Road\", \"Seven Sisters\", \"Kensal Green\", \"Harlesden\", \"North Wembley\", \"Kenton\", \"South Kenton\", \"Harrow & Wealdstone\", \"Willesden Junction\", \"Queen's Park\", \"Stonebridge Park\", \"St. John's Wood\", \"West Hampstead\", \"Finchley Road\", \"Swiss Cottage\", \"Stanmore\", \"Baker Street\", \"Kilburn\", \"Lambeth North\", \"Regent's Park\", \"Wembley Central\", \"Wembley Park\", \"Marylebone\", \"Liverpool Street\", \"Cannon Street\", \"London Bridge\", \"Victoria\", \"Finsbury Park\", \"Highbury & Islington\", \"Bank\", \"Waterloo\", \"Goldhawk Road\", \"Latimer Road\", \"Shepherd's Bush\", \"Shepherd's Bush Market\", \"White City\", \"Wood Lane\", \"Ladbroke Grove\", \"Notting Hill Gate\", \"Bayswater\", \"Queensway\", \"Warwick Avenue\", \"Kilburn Park\", \"Maida Vale\", \"Golders Green\", \"Hampstead\", \"Belsize Park\", \"Camden Town\", \"Chalk Farm\", \"Archway\", \"Edgware\", \"Finchley Central\", \"Mill Hill East\", \"East Finchley\", \"Highgate\", \"West Finchley\", \"Woodside Park\", \"High Barnet\", \"Totteridge & Whetstone\", \"Brent Cross\", \"Hendon Central\", \"Burnt Oak\", \"Colindale\", \"Dollis Hill\", \"Mornington Crescent\", \"Canons Park\", \"Queensbury\", \"Kingsbury\", \"Neasden\", \"Willesden Green\", \"Aldgate\", \"Tower Hill\", \"Eastcote\", \"Uxbridge\", \"Hillingdon\", \"West Harrow\", \"Ickenham\", \"Rayners Lane\", \"Ruislip\", \"Ruislip Manor\", \"Farringdon\", \"Barbican\", \"Moorgate\", \"Northwick Park\", \"Preston Road\", \"Euston Square\", \"Great Portland Street\", \"Harrow-on-the-Hill\", \"North Harrow\", \"Wimbledon\", \"Southfields\", \"East Putney\", \"Wimbledon Park\", \"Parsons Green\", \"Fulham Broadway\", \"Putney Bridge\", \"Paddington (Bakerloo, Circle, and District)\", \"Paddington (Circle and H&C)\", \"Mansion House\", \"Sloane Square\", \"St. James's Park\", \"Temple\", \"Westminster\", \"Gloucester Road\", \"South Kensington\", \"Kensington (Olympia)\", \"West Brompton\", \"Edgware Road\", \"High Street Kensington\", \"Barons Court\", \"Earl's Court\", \"West Kensington\", \"Acton Town\", \"South Ealing\", \"Ealing Broadway\", \"Ealing Common\", \"North Ealing\", \"South Harrow\", \"Alperton\", \"Sudbury Hill\", \"Sudbury Town\", \"Chiswick Park\", \"Hammersmith (District and Piccadilly)\", \"Hammersmith (Circle and H&C)\", \"Stamford Brook\", \"Ravenscourt Park\", \"Turnham Green\", \"Upminster\", \"Hornchurch\", \"Upminster Bridge\", \"Becontree\", \"Dagenham East\", \"Elm Park\", \"Dagenham Heathway\", \"Upney\", \"Upton Park\", \"Bromley-by-Bow\", \"Plaistow\", \"East Ham\", \"West Ham\", \"Barking\", \"Stepney Green\", \"Aldgate East\", \"Whitechapel\", \"Bow Road\", \"Mile End\", \"Bethnal Green\", \"Goodge Street\", \"Redbridge\", \"Wanstead\", \"Manor House\", \"Turnpike Lane\", \"Bounds Green\", \"Wood Green\", \"Cockfosters\", \"Oakwood\", \"Arnos Grove\", \"Southgate\", \"Kentish Town\", \"Tufnell Park\", \"Charing Cross\", \"Embankment\", \"Warren Street\", \"Euston\", \"King's Cross St Pancras\", \"Caledonian Road\", \"Russell Square\", \"Green Park\", \"Oxford Circus\", \"Bond Street\", \"Tottenham Court Road\", \"Hyde Park Corner\", \"Knightsbridge\", \"Covent Garden\", \"Leicester Square\", \"Piccadilly Circus\", \"Arsenal\", \"Holloway Road\", \"Oval\", \"Angel\", \"Old Street\", \"Borough\", \"Elephant & Castle\", \"Kennington\", \"Holland Park\", \"Lancaster Gate\", \"Marble Arch\", \"Chancery Lane\", \"Holborn\", \"Blackfriars\", \"St. Paul's\"], \"tickvals\": [5.0, 15.0, 25.0, 35.0, 45.0, 55.0, 65.0, 75.0, 85.0, 95.0, 105.0, 115.0, 125.0, 135.0, 145.0, 155.0, 165.0, 175.0, 185.0, 195.0, 205.0, 215.0, 225.0, 235.0, 245.0, 255.0, 265.0, 275.0, 285.0, 295.0, 305.0, 315.0, 325.0, 335.0, 345.0, 355.0, 365.0, 375.0, 385.0, 395.0, 405.0, 415.0, 425.0, 435.0, 445.0, 455.0, 465.0, 475.0, 485.0, 495.0, 505.0, 515.0, 525.0, 535.0, 545.0, 555.0, 565.0, 575.0, 585.0, 595.0, 605.0, 615.0, 625.0, 635.0, 645.0, 655.0, 665.0, 675.0, 685.0, 695.0, 705.0, 715.0, 725.0, 735.0, 745.0, 755.0, 765.0, 775.0, 785.0, 795.0, 805.0, 815.0, 825.0, 835.0, 845.0, 855.0, 865.0, 875.0, 885.0, 895.0, 905.0, 915.0, 925.0, 935.0, 945.0, 955.0, 965.0, 975.0, 985.0, 995.0, 1005.0, 1015.0, 1025.0, 1035.0, 1045.0, 1055.0, 1065.0, 1075.0, 1085.0, 1095.0, 1105.0, 1115.0, 1125.0, 1135.0, 1145.0, 1155.0, 1165.0, 1175.0, 1185.0, 1195.0, 1205.0, 1215.0, 1225.0, 1235.0, 1245.0, 1255.0, 1265.0, 1275.0, 1285.0, 1295.0, 1305.0, 1315.0, 1325.0, 1335.0, 1345.0, 1355.0, 1365.0, 1375.0, 1385.0, 1395.0, 1405.0, 1415.0, 1425.0, 1435.0, 1445.0, 1455.0, 1465.0, 1475.0, 1485.0, 1495.0, 1505.0, 1515.0, 1525.0, 1535.0, 1545.0, 1555.0, 1565.0, 1575.0, 1585.0, 1595.0, 1605.0, 1615.0, 1625.0, 1635.0, 1645.0, 1655.0, 1665.0, 1675.0, 1685.0, 1695.0, 1705.0, 1715.0, 1725.0, 1735.0, 1745.0, 1755.0, 1765.0, 1775.0, 1785.0, 1795.0, 1805.0, 1815.0, 1825.0, 1835.0, 1845.0, 1855.0, 1865.0, 1875.0, 1885.0, 1895.0, 1905.0, 1915.0, 1925.0, 1935.0, 1945.0, 1955.0, 1965.0, 1975.0, 1985.0, 1995.0, 2005.0, 2015.0, 2025.0, 2035.0, 2045.0, 2055.0, 2065.0, 2075.0, 2085.0, 2095.0, 2105.0, 2115.0, 2125.0, 2135.0, 2145.0, 2155.0, 2165.0, 2175.0, 2185.0, 2195.0, 2205.0, 2215.0, 2225.0, 2235.0, 2245.0, 2255.0, 2265.0, 2275.0, 2285.0, 2295.0, 2305.0, 2315.0, 2325.0, 2335.0, 2345.0, 2355.0, 2365.0, 2375.0, 2385.0, 2395.0, 2405.0, 2415.0, 2425.0, 2435.0, 2445.0, 2455.0, 2465.0, 2475.0, 2485.0, 2495.0, 2505.0, 2515.0, 2525.0, 2535.0, 2545.0, 2555.0, 2565.0, 2575.0, 2585.0, 2595.0, 2605.0, 2615.0, 2625.0, 2635.0, 2645.0, 2655.0, 2665.0, 2675.0], \"type\": \"linear\", \"zeroline\": false}, \"yaxis\": {\"mirror\": \"allticks\", \"rangemode\": \"tozero\", \"showgrid\": false, \"showline\": true, \"showticklabels\": true, \"ticks\": \"outside\", \"type\": \"linear\", \"zeroline\": false}},\n",
       "                        {\"responsive\": true}\n",
       "                    ).then(function(){\n",
       "                            \n",
       "var gd = document.getElementById('07637699-ca67-482a-9af3-64e18cf67f50');\n",
       "var x = new MutationObserver(function (mutations, observer) {{\n",
       "        var display = window.getComputedStyle(gd).display;\n",
       "        if (!display || display === 'none') {{\n",
       "            console.log([gd, 'removed!']);\n",
       "            Plotly.purge(gd);\n",
       "            observer.disconnect();\n",
       "        }}\n",
       "}});\n",
       "\n",
       "// Listen for the removal of the full notebook cells\n",
       "var notebookContainer = gd.closest('#notebook-container');\n",
       "if (notebookContainer) {{\n",
       "    x.observe(notebookContainer, {childList: true});\n",
       "}}\n",
       "\n",
       "// Listen for the clearing of the current output cell\n",
       "var outputEl = gd.closest('.output');\n",
       "if (outputEl) {{\n",
       "    x.observe(outputEl, {childList: true});\n",
       "}}\n",
       "\n",
       "                        })\n",
       "                };\n",
       "                });\n",
       "            </script>\n",
       "        </div>"
      ]
     },
     "metadata": {},
     "output_type": "display_data"
    }
   ],
   "source": [
    "import plotly.figure_factory as ff\n",
    "\n",
    "names = [i for i in tube_stations.index.values]\n",
    "asdfg = ff.create_dendrogram(asdf, labels=names)\n",
    "asdfg.show()"
   ]
  },
  {
   "cell_type": "markdown",
   "metadata": {},
   "source": [
    "Now we've decided how many clusters there are in our data, and we're going to try to reproduce these clusters using any two of SKLearn's clustering techniques. https://scikit-learn.org/stable/modules/classes.html#module-sklearn.cluster\n",
    "\n",
    "I recommend using KMeans for one of them, but you are free to choose whatever you like. Note that some of the algorithms incorporate hyperparameters we haven't discussed. If you use one of these, you are going to have to read the documentation on the class. It's a good thing to get used to reading documentation; if you decide you want to study NLP/Computational Linguistics in the future, you will have to get used it.\n",
    "\n",
    "In past Jupyter Notebooks there are demonstrations of KMeans and Agglomerative clustering, so go there if you get confused."
   ]
  },
  {
   "cell_type": "code",
   "execution_count": null,
   "metadata": {},
   "outputs": [],
   "source": [
    "# Perform your clustering analyses here"
   ]
  },
  {
   "cell_type": "markdown",
   "metadata": {},
   "source": [
    "We now have three clustering objects. One for agglomerative (which is your gold-standard assuming your dataset doesn't come with its own), and two for clustering methods of your choice. Use the Adjusted Rand Index to score them. https://scikit-learn.org/stable/modules/generated/sklearn.metrics.adjusted_rand_score.html"
   ]
  },
  {
   "cell_type": "code",
   "execution_count": null,
   "metadata": {},
   "outputs": [],
   "source": [
    "# Check ARI scores here"
   ]
  }
 ],
 "metadata": {
  "kernelspec": {
   "display_name": "Python 3",
   "language": "python",
   "name": "python3"
  },
  "language_info": {
   "codemirror_mode": {
    "name": "ipython",
    "version": 3
   },
   "file_extension": ".py",
   "mimetype": "text/x-python",
   "name": "python",
   "nbconvert_exporter": "python",
   "pygments_lexer": "ipython3",
   "version": "3.7.3"
  }
 },
 "nbformat": 4,
 "nbformat_minor": 2
}
