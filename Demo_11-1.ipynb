{
 "cells": [
  {
   "cell_type": "code",
   "execution_count": 13,
   "metadata": {},
   "outputs": [],
   "source": [
    "import textacy.preprocessing as p\n",
    "import numpy as np\n",
    "from tqdm import tqdm_notebook\n",
    "import nltk\n",
    "from sklearn.datasets import fetch_20newsgroups\n",
    "from nltk.tokenize import sent_tokenize\n",
    "import spacy\n",
    "import pandas as pd"
   ]
  },
  {
   "cell_type": "markdown",
   "metadata": {},
   "source": [
    "I've added some stuff to the clean_sentence function; since I'll be scraping e-mails---a type of text prone to having typos, phone numbers, and other such miscellanea---I'll need to normalize phone numbers, e-mail addresses, and the like.\n",
    "\n",
    "Pay attention those of you wanting to analyze tweets! Textacy also has functions for the automatic handling of things like emojis and hashtags."
   ]
  },
  {
   "cell_type": "code",
   "execution_count": 7,
   "metadata": {},
   "outputs": [],
   "source": [
    "\n",
    "def clean_sentence(sent):\n",
    "    clean = p.normalize.normalize_whitespace(sent.lower())\n",
    "    clean = p.remove.remove_punctuation(clean)\n",
    "    clean = p.replace.replace_emails(clean)\n",
    "    clean = p.replace.replace_phone_numbers(clean)\n",
    "    clean = p.replace.replace_urls(clean)\n",
    "    clean = p.replace.replace_numbers(clean)\n",
    "    return(clean)"
   ]
  },
  {
   "cell_type": "markdown",
   "metadata": {},
   "source": [
    "Let's look at our dataset, the 20 newsgroups dataset. Per the SKLearn team, the 20 newsgroups dataset comprises around 18,000 newsgroups posts on 20 topics split in two subsets, one for training and one for testing. \n",
    "\n",
    "The dataset is for text-classification purposes, the goal being to predict the topic given text alone. I'm using it here because it's document separated, meaning I can meaningfully train word vectors for models like tf-idf."
   ]
  },
  {
   "cell_type": "code",
   "execution_count": 8,
   "metadata": {},
   "outputs": [
    {
     "name": "stderr",
     "output_type": "stream",
     "text": [
      "Downloading 20news dataset. This may take a few minutes.\n",
      "Downloading dataset from https://ndownloader.figshare.com/files/5975967 (14 MB)\n"
     ]
    },
    {
     "data": {
      "text/plain": [
       "\"Well i'm not sure about the story nad it did seem biased. What\\nI disagree with is your statement that the U.S. Media is out to\\nruin Israels reputation. That is rediculous. The U.S. media is\\nthe most pro-israeli media in the world. Having lived in Europe\\nI realize that incidences such as the one described in the\\nletter have occured. The U.S. media as a whole seem to try to\\nignore them. The U.S. is subsidizing Israels existance and the\\nEuropeans are not (at least not to the same degree). So I think\\nthat might be a reason they report more clearly on the\\natrocities.\\n\\tWhat is a shame is that in Austria, daily reports of\\nthe inhuman acts commited by Israeli soldiers and the blessing\\nreceived from the Government makes some of the Holocaust guilt\\ngo away. After all, look how the Jews are treating other races\\nwhen they got power. It is unfortunate.\\n\""
      ]
     },
     "execution_count": 8,
     "metadata": {},
     "output_type": "execute_result"
    }
   ],
   "source": [
    "dataset = fetch_20newsgroups(shuffle=True, random_state=1, remove=('headers', 'footers'))\n",
    "\n",
    "dataset.data[0]"
   ]
  },
  {
   "cell_type": "code",
   "execution_count": 9,
   "metadata": {},
   "outputs": [
    {
     "data": {
      "application/vnd.jupyter.widget-view+json": {
       "model_id": "f546ec95990b4994a84a711140f3ef60",
       "version_major": 2,
       "version_minor": 0
      },
      "text/plain": [
       "HBox(children=(IntProgress(value=0, max=11314), HTML(value='')))"
      ]
     },
     "metadata": {},
     "output_type": "display_data"
    },
    {
     "name": "stdout",
     "output_type": "stream",
     "text": [
      "\n"
     ]
    }
   ],
   "source": [
    "X = []\n",
    "\n",
    "for mail in tqdm_notebook(dataset.data):\n",
    "    cleaned = []\n",
    "    sents = sent_tokenize(mail)\n",
    "    for sent in sents:\n",
    "        cleaned.append(clean_sentence(sent))\n",
    "    X.append(\". \".join([sent for sent in cleaned]))\n",
    "    "
   ]
  },
  {
   "cell_type": "code",
   "execution_count": null,
   "metadata": {},
   "outputs": [],
   "source": []
  },
  {
   "cell_type": "markdown",
   "metadata": {},
   "source": [
    "Let's now train our word/document embeddings using our traditional models "
   ]
  },
  {
   "cell_type": "code",
   "execution_count": 10,
   "metadata": {},
   "outputs": [],
   "source": [
    "from sklearn.feature_extraction.text import TfidfVectorizer, CountVectorizer\n",
    "from sklearn.decomposition import TruncatedSVD"
   ]
  },
  {
   "cell_type": "code",
   "execution_count": 11,
   "metadata": {},
   "outputs": [],
   "source": [
    "count = CountVectorizer()\n",
    "count_embeddings = count.fit_transform(X).T\n",
    "tfidf = TfidfVectorizer()\n",
    "tfidf_embeddings = tfidf.fit_transform(X).T\n",
    "svd = TruncatedSVD(n_components=300)\n",
    "lsa_embeddings = svd.fit_transform(tfidf_embeddings)"
   ]
  },
  {
   "cell_type": "code",
   "execution_count": 12,
   "metadata": {},
   "outputs": [
    {
     "name": "stdout",
     "output_type": "stream",
     "text": [
      "(103447, 11314)\n",
      "(103447, 11314)\n",
      "(103447, 300)\n",
      "0.3008538127181256\n",
      "[[ 1.12526110e-05  4.67549721e-05  6.23684888e-06 ... -8.68203222e-06\n",
      "   1.40763417e-06  2.43330462e-06]\n",
      " [ 1.12526110e-05  4.67549721e-05  6.23684885e-06 ... -8.68203223e-06\n",
      "   1.40763416e-06  2.43330459e-06]\n",
      " [ 1.12526110e-05  4.67549721e-05  6.23684884e-06 ... -8.68203223e-06\n",
      "   1.40763417e-06  2.43330462e-06]\n",
      " ...\n",
      " [ 1.77157514e-03 -6.21367483e-04 -2.41682244e-03 ...  3.78105472e-04\n",
      "  -2.37568416e-03  6.77284095e-05]\n",
      " [ 1.13762380e-03 -3.07518129e-04 -1.78660085e-04 ... -3.34097545e-03\n",
      "   1.38152804e-03  1.34102966e-03]\n",
      " [ 1.77157514e-03 -6.21367483e-04 -2.41682244e-03 ...  3.78105472e-04\n",
      "  -2.37568416e-03  6.77284095e-05]]\n"
     ]
    }
   ],
   "source": [
    "print(count_embeddings.shape)\n",
    "print(tfidf_embeddings.shape)\n",
    "print(lsa_embeddings.shape)\n",
    "print(svd.explained_variance_ratio_.sum())\n",
    "print(lsa_embeddings)"
   ]
  },
  {
   "cell_type": "markdown",
   "metadata": {},
   "source": [
    "Great. Note how we transposed the tfidf and count vectors. That was so we index directly into words rather than documents.\n",
    "\n",
    "Our word vectors live in 11,314D space, the number of documents there are. Also note that though we reduce dimension to 300 (roughly equal 1/40th the original dimension) we account for 30% of the information.\n",
    "\n",
    "Now, I'm going to collect our individual documents into one list of sentences, getting them ready for embedding by our more modern methods."
   ]
  },
  {
   "cell_type": "code",
   "execution_count": 360,
   "metadata": {},
   "outputs": [],
   "source": [
    "X_combined = []\n",
    "for doc in X:\n",
    "    new_sents = sent_tokenize(doc)\n",
    "    X_combined += new_sents"
   ]
  },
  {
   "cell_type": "code",
   "execution_count": 361,
   "metadata": {},
   "outputs": [
    {
     "name": "stdout",
     "output_type": "stream",
     "text": [
      "11314\n",
      "165563\n"
     ]
    }
   ],
   "source": [
    "print(len(X))\n",
    "print(len(X_combined))"
   ]
  },
  {
   "cell_type": "code",
   "execution_count": 362,
   "metadata": {},
   "outputs": [],
   "source": [
    "with open(\"./corpus.txt\", \"w\") as fout:\n",
    "    for sent in X_combined:\n",
    "        fout.write(sent + \"\\n\")"
   ]
  },
  {
   "cell_type": "markdown",
   "metadata": {},
   "source": [
    "To get our GloVe embeddings, we're going to use a python wrapper around the original C code. It's very easy to use; feel free to reuse this code (changing the corpus, of course) if you are going to collect GloVe embeddings.\n",
    "\n",
    "Also, this is going to take a couple of minutes, so let's use this opportunity to hear your elevator pitches for final projects."
   ]
  },
  {
   "cell_type": "code",
   "execution_count": 363,
   "metadata": {},
   "outputs": [
    {
     "name": "stdout",
     "output_type": "stream",
     "text": [
      "vocab count\n",
      "build/vocab_count -max-vocab 100000-min-count 5 -versbose 2 < ./corpus.txt > /home/dan/Geometric_Models/자료/demo/November/train_dir/glove/X_combined_vocab.txt\n",
      "coocurr matrix\n",
      "build/cooccur -memory 4.0 -vocab-file /home/dan/Geometric_Models/자료/demo/November/train_dir/glove/X_combined_vocab.txt -versbose 2 -window-size 10 -symmetric 1 -overflow-file tempoverflow < ./corpus.txt > /home/dan/Geometric_Models/자료/demo/November/train_dir/glove/X_combined_cooccurrence.bin\n",
      "coocurr matrix shuffle\n",
      "build/shuffle  -memory 4.0 -versbose 2 < /home/dan/Geometric_Models/자료/demo/November/train_dir/glove/X_combined_cooccurrence.bin > /home/dan/Geometric_Models/자료/demo/November/train_dir/glove/X_combined_cooccurrence.shuf.bin\n",
      "train glove\n",
      "build/glove  -save-file /home/dan/Geometric_Models/자료/demo/November/train_dir/glove/X_combined_vectors -threads 8 -input-file /home/dan/Geometric_Models/자료/demo/November/train_dir/glove/X_combined_cooccurrence.shuf.bin -x-max 10 -iter 25 -vector-size 300 -binary 2 -vocab-file /home/dan/Geometric_Models/자료/demo/November/train_dir/glove/X_combined_vocab.txt -verbose 2 -alpha 0.75 -eta 0.05 -model 2 -save-gradsq 0\n"
     ]
    }
   ],
   "source": [
    "import glove_pywrapper\n",
    "\n",
    "CORPUS = \"./corpus.txt\"\n",
    "glove = glove_pywrapper.GloveWrapper(CORPUS, \"X_combined\", vector_size=300, window_size=10)\n",
    "#prepare vocabulary count\n",
    "glove.vocab_count()\n",
    "#prepare co-occurrence matrix\n",
    "glove.cooccur()\n",
    "#reshuffle\n",
    "glove.shuffle()\n",
    "#glove train\n",
    "glove.glove()"
   ]
  },
  {
   "cell_type": "markdown",
   "metadata": {},
   "source": [
    "Now we're going to use a very cool package called gensim which has many uses, not least among them a very good implementation of word2vec. Here, we're going to use it to convert our GloVe embeddings output (which is a raw .txt file) to something manageable in Python. Again, this code should prove helpful if you're going to be using GloVe for your HW/project(s)."
   ]
  },
  {
   "cell_type": "code",
   "execution_count": 364,
   "metadata": {},
   "outputs": [],
   "source": [
    "from gensim.test.utils import get_tmpfile\n",
    "from gensim.models import KeyedVectors\n",
    "from gensim.scripts.glove2word2vec import glove2word2vec\n",
    "\n",
    "glove_file = \"./train_dir/glove/X_combined_vectors.txt\"\n",
    "tmp_file = get_tmpfile(\"test_word2vec.txt\")\n",
    "\n",
    "_ = glove2word2vec(glove_file, tmp_file)\n",
    "\n",
    "glove = KeyedVectors.load_word2vec_format(tmp_file)"
   ]
  },
  {
   "cell_type": "code",
   "execution_count": 365,
   "metadata": {},
   "outputs": [
    {
     "data": {
      "text/plain": [
       "array([ 0.949128,  0.200447, -0.212956,  0.86906 ,  0.437179, -0.16734 ,\n",
       "        0.035951, -0.038623, -0.125448,  0.588126, -0.589043,  0.524886,\n",
       "       -1.039198,  0.088763,  0.039482,  0.230936, -0.551745, -0.146105,\n",
       "       -0.364771,  0.04054 , -0.361246, -0.178435,  0.600075,  0.257776,\n",
       "        0.17523 ,  0.514284, -0.387354,  0.472283, -0.303998,  0.31414 ,\n",
       "        0.328614, -1.277768,  0.032194, -0.40022 ,  0.242385, -0.341265,\n",
       "        0.182074, -0.375374, -1.162917,  0.763035, -0.191276,  0.943603,\n",
       "        0.571229, -0.301747, -1.158828,  0.532953, -0.378093,  0.57381 ,\n",
       "       -0.427321, -0.295825,  0.111481,  0.37496 ,  0.139503,  1.021863,\n",
       "        0.458283,  0.253207, -0.454079, -0.136772, -0.455405, -0.0052  ,\n",
       "        0.085712, -0.02069 ,  0.426193, -0.66345 ,  0.220014, -0.75807 ,\n",
       "       -0.189003, -0.378212,  0.455509, -0.027778, -0.503643,  0.819416,\n",
       "        0.812403,  0.466262, -0.717948, -0.166966,  0.216494, -0.144243,\n",
       "        0.696485, -0.489462, -0.273684,  0.320622,  1.08249 ,  0.064207,\n",
       "       -0.494979, -0.283   , -0.883378,  0.163043, -0.017526, -0.591299,\n",
       "        0.044435, -0.388207,  0.773837,  0.413514,  0.630751, -0.257859,\n",
       "       -1.096037, -0.750627, -0.029007, -1.194775, -0.855452,  0.514382,\n",
       "        0.28248 ,  1.298001,  0.32781 , -0.002722, -0.368996,  0.031455,\n",
       "        0.352944, -0.302747,  0.848814,  0.324991, -0.35111 , -0.147904,\n",
       "       -0.919275, -0.313458,  0.074445,  0.25244 ,  0.17227 , -0.15098 ,\n",
       "       -0.361236, -0.299013, -0.461022,  0.728983,  0.885188, -0.259631,\n",
       "       -0.214466, -0.571264,  0.10298 , -0.892115,  0.003146, -0.018985,\n",
       "        0.455456, -0.084642, -0.160874, -0.244228,  0.527936,  1.315308,\n",
       "       -0.716672,  0.326131,  0.358618, -1.493139,  0.130605, -0.045943,\n",
       "        0.167452,  0.007975, -0.274296, -0.160025,  0.376704,  0.077816,\n",
       "       -0.098193,  1.635007,  1.22387 ,  0.366376, -0.787017, -1.012461,\n",
       "        0.930469,  0.639981, -0.257056, -0.883191, -0.52111 , -0.554841,\n",
       "       -0.214854,  0.172573, -0.279693, -0.397682,  0.256707, -0.264558,\n",
       "       -0.892507,  0.6058  ,  0.297307,  0.085096,  0.536503,  0.241386,\n",
       "        0.007975, -1.2748  ,  1.824871, -0.481612, -0.757665,  0.266523,\n",
       "       -0.004672,  0.377862, -0.115782,  0.824216, -0.097362,  0.570998,\n",
       "        0.264877,  0.687671, -0.212031, -0.517547,  1.322981,  0.460153,\n",
       "       -0.545605,  0.380942, -0.637485, -0.517751,  0.755351, -0.215365,\n",
       "        0.537267, -0.163298, -0.790623,  0.465146,  0.774921, -0.174059,\n",
       "        0.315147,  0.027921,  0.151842, -0.636915,  0.843606,  0.580246,\n",
       "       -0.056047,  0.174613,  0.352633,  0.486093,  0.210883, -0.306014,\n",
       "       -0.319617, -0.046467, -0.214907,  0.198991, -0.658426, -0.145459,\n",
       "        0.553634,  0.334429,  0.639957, -0.833334, -0.299347,  0.321954,\n",
       "       -0.437689,  1.39585 ,  0.481531, -0.259389,  0.4115  ,  0.764201,\n",
       "        0.098436,  0.723446, -0.242604,  0.279758,  0.622973,  0.332459,\n",
       "        0.541713, -0.408028, -0.202836, -0.173217, -0.477445, -0.508647,\n",
       "       -0.649019, -0.59479 , -0.361654,  0.17961 ,  0.456436,  0.214128,\n",
       "        0.037869, -0.890464, -0.127378,  0.870434, -0.838765,  0.086655,\n",
       "       -0.904178, -0.836046, -0.52389 , -0.552617, -0.146805,  0.235755,\n",
       "        1.181762,  0.127485,  0.4506  ,  0.168015,  0.455369,  0.38125 ,\n",
       "        0.192725,  0.036295,  0.86828 ,  0.150856,  0.271579, -0.429438,\n",
       "        0.20632 ,  0.297757,  0.520933, -0.747161, -0.111952,  0.12826 ,\n",
       "       -0.149139,  0.652688,  0.306833,  0.412833, -0.350462, -0.114842,\n",
       "        0.016933,  0.149457, -0.342687,  0.27648 , -0.113781, -0.423743,\n",
       "       -0.311095,  0.489922, -0.138039,  1.975625, -1.407187,  0.112754],\n",
       "      dtype=float32)"
      ]
     },
     "execution_count": 365,
     "metadata": {},
     "output_type": "execute_result"
    }
   ],
   "source": [
    "glove[\"the\"]"
   ]
  },
  {
   "cell_type": "markdown",
   "metadata": {},
   "source": [
    "Now we'll use the same package to train our W2V embeddings. The input to a w2v model is a list of sentences, where each sentence is a list of word tokens. Thus, it's a list of lists."
   ]
  },
  {
   "cell_type": "code",
   "execution_count": 14,
   "metadata": {},
   "outputs": [],
   "source": [
    "from gensim.models import Word2Vec"
   ]
  },
  {
   "cell_type": "code",
   "execution_count": 367,
   "metadata": {},
   "outputs": [],
   "source": [
    "w2v = Word2Vec([sent.split() for sent in X_combined], size=300, window=5, min_count=1, workers=8)"
   ]
  },
  {
   "cell_type": "code",
   "execution_count": 368,
   "metadata": {},
   "outputs": [
    {
     "data": {
      "text/plain": [
       "(37769903, 49734030)"
      ]
     },
     "execution_count": 368,
     "metadata": {},
     "output_type": "execute_result"
    }
   ],
   "source": [
    "w2v.train([sent.split() for sent in X_combined], total_examples=model.corpus_count, epochs=15)"
   ]
  },
  {
   "cell_type": "code",
   "execution_count": 369,
   "metadata": {},
   "outputs": [
    {
     "name": "stdout",
     "output_type": "stream",
     "text": [
      "300\n",
      "300\n",
      "11314\n",
      "11314\n",
      "300\n"
     ]
    }
   ],
   "source": [
    "print(len(w2v.wv[\"the\"]))\n",
    "print(len(glove[\"the\"]))\n",
    "print(len(count_embeddings[count.vocabulary_[\"the\"]].toarray()[0]))\n",
    "print(len(tfidf_embeddings[tfidf.vocabulary_[\"the\"]].toarray()[0]))\n",
    "print(len(lsa_embeddings[tfidf.vocabulary_[\"the\"]]))"
   ]
  },
  {
   "cell_type": "markdown",
   "metadata": {},
   "source": [
    "Now, we have roughly 100,000 word vocabulary, far too much if we want to do visualizations, or clustering, or anything exploratory.\n",
    "\n",
    "As such, we're going to discard the least common 99k or so words. Otherwise said, we'll keep around just the 1,000 or so most common words. "
   ]
  },
  {
   "cell_type": "code",
   "execution_count": 370,
   "metadata": {},
   "outputs": [],
   "source": [
    "from collections import Counter"
   ]
  },
  {
   "cell_type": "code",
   "execution_count": 371,
   "metadata": {},
   "outputs": [],
   "source": [
    "c = Counter()"
   ]
  },
  {
   "cell_type": "code",
   "execution_count": 372,
   "metadata": {},
   "outputs": [],
   "source": [
    "for mail in X:\n",
    "    c.update(word for word in mail.split())"
   ]
  },
  {
   "cell_type": "markdown",
   "metadata": {},
   "source": [
    "Note what I'm doing here. In addition to keeping only the most common words, I'm also taking their part-of-speech (POS). The POSs here serve to partition our word embeddings, a partition which we can then try to recreate by clustering.\n",
    "\n",
    "This is an example of the kind of linguistic test I mentioned in the syllabus."
   ]
  },
  {
   "cell_type": "code",
   "execution_count": 373,
   "metadata": {},
   "outputs": [],
   "source": [
    "most_common = dict([(nltk.pos_tag([w], tagset=\"universal\")[0]) for w, i in c.most_common(1000)])\n",
    "NUM_TAGS = len(np.unique(list(most_common.values())))"
   ]
  },
  {
   "cell_type": "code",
   "execution_count": 374,
   "metadata": {},
   "outputs": [
    {
     "data": {
      "text/plain": [
       "{'.': '.',\n",
       " 'the': 'DET',\n",
       " '_NUMBER_': 'NOUN',\n",
       " 'to': 'PRT',\n",
       " 'ax>': 'NOUN',\n",
       " 'of': 'ADP',\n",
       " 'a': 'DET',\n",
       " 'and': 'CONJ',\n",
       " 'i': 'NOUN',\n",
       " 'in': 'ADP',\n",
       " 'is': 'VERB',\n",
       " 'that': 'ADP',\n",
       " 'it': 'PRON',\n",
       " '>': 'NOUN',\n",
       " 'for': 'ADP',\n",
       " 'you': 'PRON',\n",
       " 's': 'NOUN',\n",
       " 'this': 'DET',\n",
       " 'on': 'ADP',\n",
       " 'be': 'VERB',\n",
       " 'are': 'VERB',\n",
       " 'have': 'VERB',\n",
       " 'not': 'ADV',\n",
       " 'with': 'ADP',\n",
       " 't': 'NOUN',\n",
       " 'as': 'ADP',\n",
       " 'or': 'CONJ',\n",
       " 'but': 'CONJ',\n",
       " 'if': 'ADP',\n",
       " 'was': 'VERB',\n",
       " 'they': 'PRON',\n",
       " 'can': 'VERB',\n",
       " 'from': 'ADP',\n",
       " 'by': 'ADP',\n",
       " 'at': 'ADP',\n",
       " 'an': 'DET',\n",
       " 'm': 'NOUN',\n",
       " 'there': 'ADV',\n",
       " 'what': 'PRON',\n",
       " 'will': 'VERB',\n",
       " 'all': 'DET',\n",
       " 'one': 'NUM',\n",
       " 'would': 'VERB',\n",
       " 'my': 'PRON',\n",
       " 'we': 'PRON',\n",
       " 'he': 'PRON',\n",
       " 'do': 'VERB',\n",
       " 'writes': 'NOUN',\n",
       " 'about': 'ADP',\n",
       " 'so': 'ADV',\n",
       " 'has': 'VERB',\n",
       " 'x': 'NOUN',\n",
       " 'your': 'PRON',\n",
       " 'article': 'NOUN',\n",
       " 'no': 'DET',\n",
       " 'edu': 'NOUN',\n",
       " '|>': 'NOUN',\n",
       " 'any': 'DET',\n",
       " '`': '.',\n",
       " 'some': 'DET',\n",
       " 'me': 'PRON',\n",
       " 'who': 'PRON',\n",
       " 'which': 'DET',\n",
       " 'out': 'ADP',\n",
       " 'people': 'NOUN',\n",
       " 'more': 'ADV',\n",
       " 'like': 'ADP',\n",
       " 'don': 'NOUN',\n",
       " 'their': 'PRON',\n",
       " 'when': 'ADV',\n",
       " 'just': 'ADV',\n",
       " 'were': 'VERB',\n",
       " 'up': 'ADV',\n",
       " 'other': 'ADJ',\n",
       " 'know': 'VERB',\n",
       " 'get': 'VERB',\n",
       " 'only': 'ADV',\n",
       " 'how': 'ADV',\n",
       " 'them': 'PRON',\n",
       " 'than': 'ADP',\n",
       " 'max>': 'NOUN',\n",
       " '>>': 'NOUN',\n",
       " 'had': 'VERB',\n",
       " 'his': 'PRON',\n",
       " '|': 'NOUN',\n",
       " 'been': 'VERB',\n",
       " 'think': 'NOUN',\n",
       " 'also': 'ADV',\n",
       " 'use': 'NOUN',\n",
       " '$_NUMBER_': 'NOUN',\n",
       " 'com': 'NOUN',\n",
       " 'time': 'NOUN',\n",
       " 'does': 'VERB',\n",
       " 'then': 'ADV',\n",
       " 'd': 'NOUN',\n",
       " '=': 'NOUN',\n",
       " 'these': 'DET',\n",
       " 'should': 'VERB',\n",
       " 'could': 'VERB',\n",
       " '_PHONE_': 'NOUN',\n",
       " 'good': 'ADJ',\n",
       " 'new': 'ADJ',\n",
       " 'edu>': 'NOUN',\n",
       " 'well': 'ADV',\n",
       " 'because': 'ADP',\n",
       " 'am': 'VERB',\n",
       " 'c': 'NOUN',\n",
       " 'very': 'ADV',\n",
       " 'even': 'ADV',\n",
       " 'may': 'VERB',\n",
       " 'into': 'ADP',\n",
       " 'see': 'VERB',\n",
       " 'now': 'ADV',\n",
       " 'two': 'NUM',\n",
       " 'p': 'NOUN',\n",
       " 'why': 'ADV',\n",
       " 'us': 'PRON',\n",
       " 'way': 'NOUN',\n",
       " 'first': 'ADV',\n",
       " 'much': 'ADJ',\n",
       " 'many': 'ADJ',\n",
       " '+': 'NOUN',\n",
       " 'god': 'NOUN',\n",
       " 'most': 'ADJ',\n",
       " 'make': 'VERB',\n",
       " 'such': 'ADJ',\n",
       " 'right': 'NOUN',\n",
       " 'e': 'NOUN',\n",
       " 'those': 'DET',\n",
       " 'system': 'NOUN',\n",
       " 'n': 'NOUN',\n",
       " 'here': 'ADV',\n",
       " 'where': 'ADV',\n",
       " 'say': 'VERB',\n",
       " 've': 'NOUN',\n",
       " 're': 'NOUN',\n",
       " 'want': 'NOUN',\n",
       " 'q': 'NOUN',\n",
       " 'our': 'PRON',\n",
       " 'used': 'VERB',\n",
       " 'o': 'NOUN',\n",
       " 'being': 'VERB',\n",
       " 'said': 'VERB',\n",
       " 'its': 'PRON',\n",
       " 'same': 'ADJ',\n",
       " 'anyone': 'NOUN',\n",
       " 'did': 'VERB',\n",
       " 'over': 'ADP',\n",
       " 'after': 'ADP',\n",
       " 'need': 'NOUN',\n",
       " 'something': 'NOUN',\n",
       " 'b': 'NOUN',\n",
       " 'too': 'ADV',\n",
       " 'problem': 'NOUN',\n",
       " 'work': 'NOUN',\n",
       " 'him': 'PRON',\n",
       " 'go': 'VERB',\n",
       " 'u': 'NOUN',\n",
       " 'really': 'ADV',\n",
       " 'r': 'NOUN',\n",
       " 'w': 'NOUN',\n",
       " 'off': 'ADP',\n",
       " 'year': 'NOUN',\n",
       " 'since': 'ADP',\n",
       " 'g': 'NOUN',\n",
       " 'back': 'ADV',\n",
       " 'file': 'NOUN',\n",
       " 'going': 'VERB',\n",
       " 'v': 'NOUN',\n",
       " 'believe': 'VERB',\n",
       " 'still': 'ADV',\n",
       " 'using': 'VERB',\n",
       " 'please': 'NOUN',\n",
       " 'find': 'VERB',\n",
       " 'point': 'NOUN',\n",
       " 'years': 'NOUN',\n",
       " 'take': 'VERB',\n",
       " 'before': 'ADP',\n",
       " 'must': 'VERB',\n",
       " 'last': 'ADJ',\n",
       " 'information': 'NOUN',\n",
       " 'com>': 'NOUN',\n",
       " '$': '.',\n",
       " 'll': 'NOUN',\n",
       " '_NUMBER_$q': 'NOUN',\n",
       " 'both': 'DET',\n",
       " 'while': 'ADP',\n",
       " 'government': 'NOUN',\n",
       " 'better': 'ADV',\n",
       " 'things': 'NOUN',\n",
       " 'windows': 'NOUN',\n",
       " 'might': 'VERB',\n",
       " '>i': 'NOUN',\n",
       " 'program': 'NOUN',\n",
       " 'number': 'NOUN',\n",
       " 'question': 'NOUN',\n",
       " 'never': 'ADV',\n",
       " 'another': 'DET',\n",
       " 'sure': 'NOUN',\n",
       " 'without': 'ADP',\n",
       " 'etc': 'NOUN',\n",
       " 'help': 'NOUN',\n",
       " 'own': 'ADJ',\n",
       " 'made': 'VERB',\n",
       " 'l': 'NOUN',\n",
       " 'k': 'NOUN',\n",
       " 'got': 'VERB',\n",
       " 'through': 'ADP',\n",
       " 'z': 'NOUN',\n",
       " 'bit': 'NOUN',\n",
       " 'read': 'NOUN',\n",
       " 'space': 'NOUN',\n",
       " 'down': 'ADV',\n",
       " 'available': 'ADJ',\n",
       " 'thanks': 'NOUN',\n",
       " 'data': 'NOUN',\n",
       " 'let': 'VERB',\n",
       " '>the': 'NOUN',\n",
       " 'drive': 'NOUN',\n",
       " 'mail': 'NOUN',\n",
       " 'world': 'NOUN',\n",
       " 'someone': 'NOUN',\n",
       " 'under': 'ADP',\n",
       " 'doesn': 'NOUN',\n",
       " 'few': 'ADJ',\n",
       " 'long': 'ADV',\n",
       " 'case': 'NOUN',\n",
       " 'thing': 'NOUN',\n",
       " 'key': 'NOUN',\n",
       " 'power': 'NOUN',\n",
       " 'look': 'NOUN',\n",
       " 'h': 'NOUN',\n",
       " 'between': 'ADP',\n",
       " 'law': 'NOUN',\n",
       " 'didn': 'NOUN',\n",
       " 'each': 'DET',\n",
       " '>in': 'NOUN',\n",
       " 'part': 'NOUN',\n",
       " 'cs': 'NOUN',\n",
       " 'come': 'VERB',\n",
       " 'little': 'ADJ',\n",
       " 'however': 'ADV',\n",
       " 'around': 'ADP',\n",
       " 'fact': 'NOUN',\n",
       " 'state': 'NOUN',\n",
       " '<': 'NOUN',\n",
       " 'anything': 'NOUN',\n",
       " 'every': 'DET',\n",
       " 'probably': 'ADV',\n",
       " 'day': 'NOUN',\n",
       " 'true': 'ADJ',\n",
       " 'name': 'NOUN',\n",
       " 'give': 'VERB',\n",
       " 'set': 'NOUN',\n",
       " 'f': 'NOUN',\n",
       " 'best': 'ADJ',\n",
       " 'again': 'ADV',\n",
       " 'j': 'NOUN',\n",
       " 'least': 'ADJ',\n",
       " 'tell': 'NOUN',\n",
       " 'seems': 'VERB',\n",
       " 'course': 'NOUN',\n",
       " 'against': 'ADP',\n",
       " 'different': 'ADJ',\n",
       " 'she': 'PRON',\n",
       " 'news': 'NOUN',\n",
       " 'put': 'NOUN',\n",
       " 'line': 'NOUN',\n",
       " 'lot': 'NOUN',\n",
       " 'car': 'NOUN',\n",
       " 'enough': 'ADV',\n",
       " 'second': 'ADJ',\n",
       " 'run': 'VERB',\n",
       " 'says': 'VERB',\n",
       " 'list': 'NOUN',\n",
       " 'far': 'ADV',\n",
       " 'try': 'NOUN',\n",
       " 'great': 'ADJ',\n",
       " 'jesus': 'NOUN',\n",
       " 'possible': 'ADJ',\n",
       " 'either': 'DET',\n",
       " 'actually': 'ADV',\n",
       " 'game': 'NOUN',\n",
       " 'though': 'ADP',\n",
       " 'ca': 'VERB',\n",
       " 'called': 'VERB',\n",
       " 'end': 'NOUN',\n",
       " 'high': 'ADJ',\n",
       " 'software': 'NOUN',\n",
       " 'hard': 'ADJ',\n",
       " 'real': 'ADJ',\n",
       " 'old': 'ADJ',\n",
       " 'rather': 'ADV',\n",
       " 'b8f': 'NOUN',\n",
       " 'life': 'NOUN',\n",
       " 'her': 'PRON',\n",
       " 'team': 'NOUN',\n",
       " 'non': 'NOUN',\n",
       " 'window': 'NOUN',\n",
       " 'r<g': 'NOUN',\n",
       " 'post': 'NOUN',\n",
       " '<_NUMBER_': 'NOUN',\n",
       " 'mean': 'NOUN',\n",
       " 'support': 'NOUN',\n",
       " 'public': 'NOUN',\n",
       " 'based': 'VERB',\n",
       " 'group': 'NOUN',\n",
       " 'example': 'NOUN',\n",
       " 'nothing': 'NOUN',\n",
       " 'done': 'VERB',\n",
       " 'found': 'NOUN',\n",
       " 'reason': 'NOUN',\n",
       " 'send': 'NOUN',\n",
       " 'wrong': 'ADJ',\n",
       " 'mr': 'NOUN',\n",
       " 'version': 'NOUN',\n",
       " 'y': 'NOUN',\n",
       " 'card': 'NOUN',\n",
       " 'order': 'NOUN',\n",
       " 'able': 'ADJ',\n",
       " 'call': 'NOUN',\n",
       " 'having': 'VERB',\n",
       " 'keep': 'VERB',\n",
       " 'person': 'NOUN',\n",
       " 'gun': 'NOUN',\n",
       " 'files': 'NOUN',\n",
       " 'following': 'VERB',\n",
       " 'else': 'ADV',\n",
       " 'next': 'ADJ',\n",
       " 'free': 'ADJ',\n",
       " 'three': 'NUM',\n",
       " 'less': 'ADV',\n",
       " 'several': 'ADJ',\n",
       " 'problems': 'NOUN',\n",
       " 'computer': 'NOUN',\n",
       " 'thought': 'NOUN',\n",
       " 'bad': 'ADJ',\n",
       " 'others': 'NOUN',\n",
       " 'above': 'ADP',\n",
       " 'doing': 'VERB',\n",
       " 'yes': 'NOUN',\n",
       " 'place': 'NOUN',\n",
       " 'looking': 'VERB',\n",
       " 'chip': 'NOUN',\n",
       " 'maybe': 'ADV',\n",
       " 'isn': 'NOUN',\n",
       " 'left': 'NOUN',\n",
       " 'general': 'ADJ',\n",
       " 'man': 'NOUN',\n",
       " 'seen': 'VERB',\n",
       " 'a86': 'NOUN',\n",
       " 'trying': 'VERB',\n",
       " 'heard': 'NOUN',\n",
       " 'times': 'NOUN',\n",
       " 'always': 'ADV',\n",
       " 'control': 'NOUN',\n",
       " 'wrote': 'VERB',\n",
       " 'means': 'NOUN',\n",
       " 'israel': 'NOUN',\n",
       " 'quite': 'ADV',\n",
       " '>|>': 'NOUN',\n",
       " 'john': 'NOUN',\n",
       " 'won': 'NOUN',\n",
       " 'yet': 'ADV',\n",
       " 'given': 'VERB',\n",
       " 'start': 'NOUN',\n",
       " 'away': 'ADV',\n",
       " 'subject': 'NOUN',\n",
       " 'info': 'NOUN',\n",
       " 'idea': 'NOUN',\n",
       " 'ever': 'ADV',\n",
       " 'whether': 'ADP',\n",
       " 'note': 'NOUN',\n",
       " 'email': 'NOUN',\n",
       " 'dos': 'NOUN',\n",
       " 'play': 'NOUN',\n",
       " 'getting': 'VERB',\n",
       " 'david': 'NOUN',\n",
       " 'big': 'ADJ',\n",
       " 'code': 'NOUN',\n",
       " 'during': 'ADP',\n",
       " '^': 'NOUN',\n",
       " 'scsi': 'NOUN',\n",
       " 'seem': 'NOUN',\n",
       " 'access': 'NOUN',\n",
       " 'current': 'ADJ',\n",
       " 'already': 'ADV',\n",
       " 'kind': 'NOUN',\n",
       " 'jews': 'NOUN',\n",
       " 'book': 'NOUN',\n",
       " 'once': 'ADV',\n",
       " 'source': 'NOUN',\n",
       " 'ftp': 'NOUN',\n",
       " 'image': 'NOUN',\n",
       " 'sun': 'NOUN',\n",
       " 'university': 'NOUN',\n",
       " 'cannot': 'NOUN',\n",
       " 'until': 'ADP',\n",
       " 'evidence': 'NOUN',\n",
       " 'money': 'NOUN',\n",
       " '_NUMBER_>': 'NOUN',\n",
       " 'human': 'NOUN',\n",
       " 'pc': 'NOUN',\n",
       " 'disk': 'NOUN',\n",
       " 'american': 'ADJ',\n",
       " 'today': 'NOUN',\n",
       " 'christian': 'NOUN',\n",
       " 'local': 'ADJ',\n",
       " 'makes': 'VERB',\n",
       " 'mac': 'NOUN',\n",
       " 'ago': 'ADV',\n",
       " 'systems': 'NOUN',\n",
       " 'issue': 'NOUN',\n",
       " 'large': 'ADJ',\n",
       " 'president': 'NOUN',\n",
       " 'graphics': 'NOUN',\n",
       " 'children': 'NOUN',\n",
       " 'remember': 'VERB',\n",
       " 'told': 'NOUN',\n",
       " 'ask': 'NOUN',\n",
       " 'research': 'NOUN',\n",
       " 'nasa': 'NOUN',\n",
       " 'questions': 'NOUN',\n",
       " 'small': 'ADJ',\n",
       " 'win': 'NOUN',\n",
       " 'change': 'NOUN',\n",
       " 'speed': 'NOUN',\n",
       " 'home': 'NOUN',\n",
       " 'answer': 'NOUN',\n",
       " 'games': 'NOUN',\n",
       " 'whole': 'ADJ',\n",
       " 'national': 'ADJ',\n",
       " 'running': 'VERB',\n",
       " 'came': 'VERB',\n",
       " '>_NUMBER_': 'NOUN',\n",
       " 'bible': 'ADJ',\n",
       " 'word': 'NOUN',\n",
       " 'perhaps': 'ADV',\n",
       " 'pretty': 'ADV',\n",
       " 'standard': 'NOUN',\n",
       " 'states': 'NOUN',\n",
       " 'encryption': 'NOUN',\n",
       " 'net': 'NOUN',\n",
       " 'works': 'NOUN',\n",
       " 'price': 'NOUN',\n",
       " 'type': 'NOUN',\n",
       " 'full': 'ADJ',\n",
       " 'open': 'ADJ',\n",
       " 'rights': 'NOUN',\n",
       " 'interested': 'ADJ',\n",
       " 'saying': 'VERB',\n",
       " 'memory': 'NOUN',\n",
       " 'hand': 'NOUN',\n",
       " 'address': 'NOUN',\n",
       " 'hope': 'NOUN',\n",
       " 'show': 'NOUN',\n",
       " 'went': 'VERB',\n",
       " 'stuff': 'NOUN',\n",
       " 'server': 'NOUN',\n",
       " 'side': 'NOUN',\n",
       " 'buy': 'VERB',\n",
       " 'war': 'NOUN',\n",
       " 'important': 'ADJ',\n",
       " 'days': 'NOUN',\n",
       " 'check': 'NOUN',\n",
       " 'including': 'VERB',\n",
       " 'message': 'NOUN',\n",
       " 'cost': 'NOUN',\n",
       " 'matter': 'NOUN',\n",
       " 'color': 'NOUN',\n",
       " 'live': 'ADJ',\n",
       " 'april': 'NOUN',\n",
       " 'output': 'NOUN',\n",
       " 'often': 'ADV',\n",
       " 'armenian': 'ADJ',\n",
       " 'feel': 'NOUN',\n",
       " 'original': 'ADJ',\n",
       " 'simply': 'ADV',\n",
       " 'agree': 'NOUN',\n",
       " 'comes': 'VERB',\n",
       " 'science': 'NOUN',\n",
       " 'working': 'VERB',\n",
       " 'everyone': 'NOUN',\n",
       " 'posting': 'VERB',\n",
       " 'phone': 'NOUN',\n",
       " 'everything': 'NOUN',\n",
       " 'center': 'NOUN',\n",
       " 'display': 'NOUN',\n",
       " 'almost': 'ADV',\n",
       " 'db': 'NOUN',\n",
       " 'include': 'NOUN',\n",
       " 'mark': 'NOUN',\n",
       " 'understand': 'NOUN',\n",
       " 'although': 'ADP',\n",
       " 'later': 'ADV',\n",
       " 'claim': 'NOUN',\n",
       " 'started': 'VERB',\n",
       " 'ac': 'NOUN',\n",
       " 'cause': 'NOUN',\n",
       " 'machine': 'NOUN',\n",
       " 'bill': 'NOUN',\n",
       " 'instead': 'ADV',\n",
       " 'area': 'NOUN',\n",
       " 'provide': 'NOUN',\n",
       " 'wouldn': 'NOUN',\n",
       " 'certainly': 'ADV',\n",
       " 'low': 'ADJ',\n",
       " 'known': 'VERB',\n",
       " 'apple': 'NOUN',\n",
       " 'package': 'NOUN',\n",
       " 'season': 'NOUN',\n",
       " 'anybody': 'NOUN',\n",
       " 'tried': 'VERB',\n",
       " 'men': 'NOUN',\n",
       " 'consider': 'VERB',\n",
       " 'israeli': 'ADJ',\n",
       " 'programs': 'NOUN',\n",
       " 'hp': 'NOUN',\n",
       " 'truth': 'NOUN',\n",
       " 'making': 'VERB',\n",
       " 'similar': 'ADJ',\n",
       " 'care': 'NOUN',\n",
       " 'technology': 'NOUN',\n",
       " 'guess': 'NOUN',\n",
       " 'history': 'NOUN',\n",
       " 'religion': 'NOUN',\n",
       " 'christians': 'NOUN',\n",
       " 'turkish': 'NOUN',\n",
       " 'write': 'NOUN',\n",
       " 'security': 'NOUN',\n",
       " 'church': 'NOUN',\n",
       " 'armenians': 'NOUN',\n",
       " 'size': 'NOUN',\n",
       " 'pub': 'NOUN',\n",
       " 'country': 'NOUN',\n",
       " 'anyway': 'ADV',\n",
       " 'mind': 'NOUN',\n",
       " 'video': 'NOUN',\n",
       " 'single': 'ADJ',\n",
       " 'took': 'VERB',\n",
       " 'cc': 'NOUN',\n",
       " 'mit': 'NOUN',\n",
       " 'keys': 'NOUN',\n",
       " 'house': 'NOUN',\n",
       " 'certain': 'ADJ',\n",
       " 'ibm': 'NOUN',\n",
       " 'likely': 'ADJ',\n",
       " 'difference': 'NOUN',\n",
       " 'unless': 'ADP',\n",
       " 'sort': 'NOUN',\n",
       " 'numbers': 'NOUN',\n",
       " 'couple': 'NOUN',\n",
       " 'argument': 'NOUN',\n",
       " 'hardware': 'NOUN',\n",
       " 'nice': 'ADJ',\n",
       " 'period': 'NOUN',\n",
       " 'application': 'NOUN',\n",
       " '>and': 'NOUN',\n",
       " 'correct': 'NOUN',\n",
       " 'internet': 'NOUN',\n",
       " 'talk': 'NOUN',\n",
       " 'gov': 'NOUN',\n",
       " 'screen': 'NOUN',\n",
       " 'ok': 'NOUN',\n",
       " 'usually': 'ADV',\n",
       " 'faith': 'NOUN',\n",
       " 'per': 'ADP',\n",
       " 'talking': 'VERB',\n",
       " 'white': 'ADJ',\n",
       " 'level': 'NOUN',\n",
       " 'police': 'NOUN',\n",
       " 'service': 'NOUN',\n",
       " 'within': 'ADP',\n",
       " 'earth': 'NOUN',\n",
       " 'clipper': 'NOUN',\n",
       " 'driver': 'NOUN',\n",
       " 'christ': 'NOUN',\n",
       " 'faq': 'NOUN',\n",
       " 'love': 'NOUN',\n",
       " 'saw': 'NOUN',\n",
       " 'contact': 'NOUN',\n",
       " 'players': 'NOUN',\n",
       " 'top': 'NOUN',\n",
       " '34u': 'NUM',\n",
       " 'exactly': 'ADV',\n",
       " 'groups': 'NOUN',\n",
       " 'hockey': 'NOUN',\n",
       " 'q<_NUMBER_': 'NOUN',\n",
       " 'box': 'NOUN',\n",
       " 'killed': 'VERB',\n",
       " 'body': 'NOUN',\n",
       " 'fast': 'NOUN',\n",
       " 'experience': 'NOUN',\n",
       " 'death': 'NOUN',\n",
       " 'user': 'NOUN',\n",
       " 'press': 'NOUN',\n",
       " 'hi': 'NOUN',\n",
       " 'deal': 'NOUN',\n",
       " '1d9': 'NUM',\n",
       " 'asked': 'VERB',\n",
       " 'uses': 'NOUN',\n",
       " 'hell': 'NOUN',\n",
       " 'themselves': 'PRON',\n",
       " 'pay': 'NOUN',\n",
       " 'city': 'NOUN',\n",
       " 'clear': 'ADJ',\n",
       " 'thus': 'ADV',\n",
       " 'simple': 'NOUN',\n",
       " 'third': 'ADJ',\n",
       " 'reading': 'NOUN',\n",
       " 'major': 'ADJ',\n",
       " 'especially': 'ADV',\n",
       " 'goes': 'VERB',\n",
       " 'uk': 'NOUN',\n",
       " 'org': 'NOUN',\n",
       " 'common': 'ADJ',\n",
       " 'value': 'NOUN',\n",
       " 'sense': 'NOUN',\n",
       " 'vs': 'NOUN',\n",
       " 'jewish': 'NOUN',\n",
       " 'points': 'NOUN',\n",
       " 'exist': 'NOUN',\n",
       " 'fine': 'NOUN',\n",
       " 'week': 'NOUN',\n",
       " 'except': 'ADP',\n",
       " '0t': 'NUM',\n",
       " 'words': 'NOUN',\n",
       " 'force': 'NOUN',\n",
       " 'short': 'ADJ',\n",
       " 'particular': 'ADJ',\n",
       " 'build': 'NOUN',\n",
       " 'bike': 'NOUN',\n",
       " 'copy': 'NOUN',\n",
       " 'paul': 'NOUN',\n",
       " 'head': 'NOUN',\n",
       " 'ms': 'NOUN',\n",
       " 'view': 'NOUN',\n",
       " 'guns': 'NOUN',\n",
       " 'among': 'ADP',\n",
       " 'private': 'ADJ',\n",
       " '>>>': 'NOUN',\n",
       " 'stop': 'NOUN',\n",
       " 'taken': 'VERB',\n",
       " '>to': 'NOUN',\n",
       " 'via': 'ADP',\n",
       " 'board': 'NOUN',\n",
       " 'turn': 'NOUN',\n",
       " 'entry': 'NOUN',\n",
       " 'posted': 'VERB',\n",
       " 'mode': 'NOUN',\n",
       " 'wanted': 'VERB',\n",
       " 'washington': 'NOUN',\n",
       " 'runs': 'NOUN',\n",
       " 'light': 'NOUN',\n",
       " 'lines': 'NOUN',\n",
       " 'black': 'ADJ',\n",
       " 'rate': 'NOUN',\n",
       " 'self': 'NOUN',\n",
       " 'bus': 'NOUN',\n",
       " 'written': 'VERB',\n",
       " 'fire': 'NOUN',\n",
       " 'steve': 'NOUN',\n",
       " 'return': 'NOUN',\n",
       " 'position': 'NOUN',\n",
       " 'sound': 'NOUN',\n",
       " 'drivers': 'NOUN',\n",
       " 'whatever': 'DET',\n",
       " 'league': 'NOUN',\n",
       " 'four': 'NUM',\n",
       " 'hit': 'NOUN',\n",
       " 'laws': 'NOUN',\n",
       " 'hear': 'NOUN',\n",
       " 'form': 'NOUN',\n",
       " 'become': 'NOUN',\n",
       " 'health': 'NOUN',\n",
       " 'model': 'NOUN',\n",
       " 'discussion': 'NOUN',\n",
       " 'happened': 'VERB',\n",
       " 'military': 'ADJ',\n",
       " 'section': 'NOUN',\n",
       " 'easy': 'ADJ',\n",
       " 'interesting': 'VERB',\n",
       " 'women': 'NOUN',\n",
       " 'strong': 'ADJ',\n",
       " 'built': 'NOUN',\n",
       " 'therefore': 'ADV',\n",
       " 'haven': 'NOUN',\n",
       " 'rest': 'NOUN',\n",
       " 'netcom': 'NOUN',\n",
       " 'business': 'NOUN',\n",
       " 'dead': 'ADJ',\n",
       " 'ones': 'NOUN',\n",
       " 'text': 'NOUN',\n",
       " 'anti': 'NOUN',\n",
       " 'itself': 'PRON',\n",
       " 'st': 'NOUN',\n",
       " 'oh': 'NOUN',\n",
       " 'situation': 'NOUN',\n",
       " 'weapons': 'NOUN',\n",
       " 'test': 'NOUN',\n",
       " 'advance': 'NOUN',\n",
       " 'gets': 'VERB',\n",
       " 'aren': 'NOUN',\n",
       " 'past': 'NOUN',\n",
       " 'sorry': 'NOUN',\n",
       " 'front': 'NOUN',\n",
       " 'assume': 'VERB',\n",
       " 'pl+': 'NOUN',\n",
       " 'add': 'VERB',\n",
       " 'myself': 'PRON',\n",
       " 'crime': 'NOUN',\n",
       " 'needs': 'NOUN',\n",
       " 'night': 'NOUN',\n",
       " 'opinion': 'NOUN',\n",
       " 'drives': 'NOUN',\n",
       " 'face': 'NOUN',\n",
       " 'early': 'ADV',\n",
       " 'due': 'ADJ',\n",
       " 'guy': 'NOUN',\n",
       " 'de': 'NOUN',\n",
       " 'uiuc': 'NOUN',\n",
       " 'statement': 'NOUN',\n",
       " 'ground': 'NOUN',\n",
       " '3t': 'NUM',\n",
       " 'sell': 'NOUN',\n",
       " 'future': 'NOUN',\n",
       " 'includes': 'VERB',\n",
       " 'defense': 'NOUN',\n",
       " 'society': 'NOUN',\n",
       " 'wasn': 'NOUN',\n",
       " 'clinton': 'NOUN',\n",
       " 'monitor': 'NOUN',\n",
       " 'looks': 'NOUN',\n",
       " 'unix': 'NOUN',\n",
       " 'effect': 'NOUN',\n",
       " 'job': 'NOUN',\n",
       " 'friend': 'NOUN',\n",
       " 'anonymous': 'ADJ',\n",
       " 'company': 'NOUN',\n",
       " 'lost': 'VERB',\n",
       " 'cars': 'NOUN',\n",
       " 'kill': 'NOUN',\n",
       " 'special': 'ADJ',\n",
       " 'motif': 'NOUN',\n",
       " 'offer': 'NOUN',\n",
       " 'act': 'NOUN',\n",
       " '>that': 'ADV',\n",
       " 'books': 'NOUN',\n",
       " 'recently': 'ADV',\n",
       " 'upon': 'ADP',\n",
       " 'sometimes': 'ADV',\n",
       " '>it': 'NOUN',\n",
       " 'mouse': 'NOUN',\n",
       " 'error': 'NOUN',\n",
       " 'soon': 'ADV',\n",
       " 'format': 'NOUN',\n",
       " 'cases': 'NOUN',\n",
       " 'religious': 'ADJ',\n",
       " 'legal': 'ADJ',\n",
       " 'coming': 'VERB',\n",
       " 'further': 'ADV',\n",
       " 'study': 'NOUN',\n",
       " 'process': 'NOUN',\n",
       " 'considered': 'VERB',\n",
       " 'os': 'NOUN',\n",
       " 'mike': 'NOUN',\n",
       " 'move': 'NOUN',\n",
       " 'users': 'NOUN',\n",
       " 'near': 'ADP',\n",
       " 'personal': 'ADJ',\n",
       " 'ca>': 'NOUN',\n",
       " 'behind': 'ADP',\n",
       " 'happen': 'VERB',\n",
       " 'united': 'ADJ',\n",
       " 'specific': 'ADJ',\n",
       " 'allow': 'VERB',\n",
       " 'purpose': 'NOUN',\n",
       " '>of': 'NOUN',\n",
       " 'water': 'NOUN',\n",
       " 'previous': 'ADJ',\n",
       " 'privacy': 'NOUN',\n",
       " 'cd': 'NOUN',\n",
       " 'accept': 'NOUN',\n",
       " 'result': 'NOUN',\n",
       " 'taking': 'VERB',\n",
       " 'ram': 'NOUN',\n",
       " 'worth': 'NOUN',\n",
       " 'sources': 'NOUN',\n",
       " 'office': 'NOUN',\n",
       " 'necessary': 'ADJ',\n",
       " 'controller': 'NOUN',\n",
       " 'total': 'ADJ',\n",
       " 'manager': 'NOUN',\n",
       " 'young': 'ADJ',\n",
       " 'months': 'NOUN',\n",
       " 'mentioned': 'VERB',\n",
       " 'policy': 'NOUN',\n",
       " 'rules': 'NOUN',\n",
       " 'half': 'NOUN',\n",
       " 'together': 'ADV',\n",
       " '>a': 'NOUN',\n",
       " 'members': 'NOUN',\n",
       " 'moral': 'ADJ',\n",
       " 'close': 'ADV',\n",
       " 'andrew': 'NOUN',\n",
       " 'along': 'ADP',\n",
       " 'parts': 'NOUN',\n",
       " 'court': 'NOUN',\n",
       " 'action': 'NOUN',\n",
       " 'federal': 'ADJ',\n",
       " 'expect': 'VERB',\n",
       " 'directory': 'NOUN',\n",
       " 'thinking': 'VERB',\n",
       " 'widget': 'NOUN',\n",
       " 'needed': 'VERB',\n",
       " 'himself': 'PRON',\n",
       " 'according': 'VERB',\n",
       " 'involved': 'VERB',\n",
       " '2di': 'NUM',\n",
       " 'various': 'ADJ',\n",
       " 'sent': 'NOUN',\n",
       " 'plus': 'CONJ',\n",
       " 'currently': 'ADV',\n",
       " 'date': 'NOUN',\n",
       " 'land': 'NOUN',\n",
       " 'fax': 'NOUN',\n",
       " 'school': 'NOUN',\n",
       " 'present': 'NOUN',\n",
       " 'series': 'NOUN',\n",
       " 'building': 'NOUN',\n",
       " 'radio': 'NOUN',\n",
       " '`p': 'NOUN',\n",
       " 'co': 'NOUN',\n",
       " 'cut': 'NOUN',\n",
       " 'air': 'NOUN',\n",
       " 'food': 'NOUN',\n",
       " 'network': 'NOUN',\n",
       " 'longer': 'NOUN',\n",
       " '_NUMBER_+': 'NOUN',\n",
       " 'administration': 'NOUN',\n",
       " 'nor': 'CONJ',\n",
       " 'population': 'NOUN',\n",
       " 'x^': 'NOUN',\n",
       " 'response': 'NOUN',\n",
       " 'reference': 'NOUN',\n",
       " 'main': 'ADJ',\n",
       " 'political': 'ADJ',\n",
       " 'robert': 'NOUN',\n",
       " 'york': 'NOUN',\n",
       " 'road': 'NOUN',\n",
       " 'million': 'NUM',\n",
       " 'related': 'ADJ',\n",
       " 'appreciated': 'VERB',\n",
       " 'san': 'NOUN',\n",
       " 'sale': 'NOUN',\n",
       " 'request': 'NOUN',\n",
       " 'knows': 'NOUN',\n",
       " 'outside': 'ADP',\n",
       " 'comments': 'NOUN',\n",
       " 'michael': 'NOUN',\n",
       " 'included': 'VERB',\n",
       " 'player': 'NOUN',\n",
       " 'mine': 'NOUN',\n",
       " 'create': 'NOUN',\n",
       " 'otherwise': 'ADV',\n",
       " 'knowledge': 'NOUN',\n",
       " 'couldn': 'NOUN',\n",
       " 'clearly': 'ADV',\n",
       " 'leave': 'VERB',\n",
       " 'interface': 'NOUN',\n",
       " 'save': 'VERB',\n",
       " 'fbi': 'NOUN',\n",
       " 'cover': 'NOUN',\n",
       " 'cards': 'NOUN',\n",
       " 'images': 'NOUN',\n",
       " 'red': 'ADJ',\n",
       " 'story': 'NOUN',\n",
       " 'reply': 'NOUN',\n",
       " 'comp': 'NOUN',\n",
       " 'toronto': 'NOUN',\n",
       " 'tv': 'NOUN',\n",
       " 'hold': 'NOUN',\n",
       " 'performance': 'NOUN',\n",
       " 'quality': 'NOUN',\n",
       " 'medical': 'ADJ',\n",
       " 'jim': 'NOUN',\n",
       " 'la': 'NOUN',\n",
       " '<1993apr15': 'NOUN',\n",
       " 'site': 'NOUN',\n",
       " 'yourself': 'PRON',\n",
       " 'doubt': 'NOUN',\n",
       " 'weeks': 'NOUN',\n",
       " 'report': 'NOUN',\n",
       " 'apr': 'NOUN',\n",
       " 'willing': 'ADJ',\n",
       " 'existence': 'NOUN',\n",
       " 'al': 'NOUN',\n",
       " 'device': 'NOUN',\n",
       " 'explain': 'NOUN',\n",
       " 'media': 'NOUN',\n",
       " 'baseball': 'NOUN',\n",
       " 'father': 'NOUN',\n",
       " 'serial': 'ADJ',\n",
       " 'canada': 'NOUN',\n",
       " 'engine': 'NOUN',\n",
       " 'division': 'NOUN',\n",
       " 'figure': 'NOUN',\n",
       " 'theory': 'NOUN',\n",
       " 'input': 'NOUN',\n",
       " 'teams': 'NOUN',\n",
       " 'james': 'NOUN',\n",
       " 'average': 'ADJ',\n",
       " 'completely': 'ADV',\n",
       " 'serious': 'ADJ',\n",
       " 'details': 'NOUN',\n",
       " 'higher': 'ADJ',\n",
       " 'family': 'NOUN',\n",
       " 'product': 'NOUN',\n",
       " 'algorithm': 'NOUN',\n",
       " 'results': 'NOUN',\n",
       " 'congress': 'NOUN',\n",
       " 'stephanopoulos': 'NOUN',\n",
       " 'record': 'NOUN',\n",
       " 'interest': 'NOUN',\n",
       " 'carry': 'NOUN',\n",
       " 'east': 'NOUN',\n",
       " 'follow': 'VERB',\n",
       " 'below': 'ADP',\n",
       " 'goal': 'NOUN',\n",
       " 'deleted': 'VERB',\n",
       " 'design': 'NOUN',\n",
       " 'complete': 'ADJ',\n",
       " 'tape': 'NOUN',\n",
       " 'market': 'NOUN',\n",
       " 'turkey': 'NOUN',\n",
       " 'command': 'NOUN',\n",
       " 'created': 'VERB',\n",
       " 'greek': 'NOUN',\n",
       " 'function': 'NOUN',\n",
       " 'basic': 'ADJ',\n",
       " 'inside': 'ADP',\n",
       " 'shall': 'VERB',\n",
       " 'living': 'NOUN',\n",
       " 'applications': 'NOUN',\n",
       " 'chance': 'NOUN',\n",
       " 'asking': 'VERB',\n",
       " 'opinions': 'NOUN',\n",
       " 'final': 'ADJ',\n",
       " 'launch': 'NOUN',\n",
       " 'term': 'NOUN',\n",
       " 'protect': 'NOUN',\n",
       " '>is': 'NOUN',\n",
       " 'insurance': 'NOUN',\n",
       " 'objective': 'NOUN',\n",
       " 'required': 'VERB',\n",
       " 'ii': 'NOUN',\n",
       " 'christianity': 'NOUN',\n",
       " 'newsgroup': 'NOUN',\n",
       " 'sci': 'NOUN',\n",
       " 'unit': 'NOUN',\n",
       " 'peace': 'NOUN',\n",
       " 'wants': 'VERB',\n",
       " 'russian': 'ADJ',\n",
       " 'rutgers': 'NOUN',\n",
       " 'bought': 'NOUN',\n",
       " 'gas': 'NOUN',\n",
       " 'looked': 'VERB',\n",
       " 'base': 'NOUN',\n",
       " 'normal': 'ADJ',\n",
       " 'dr': 'NOUN',\n",
       " 'son': 'NOUN',\n",
       " 'machines': 'NOUN',\n",
       " 'language': 'NOUN',\n",
       " 'easily': 'ADV',\n",
       " 'amount': 'NOUN',\n",
       " 'takes': 'VERB',\n",
       " 'usenet': 'NOUN',\n",
       " 'suggest': 'NOUN',\n",
       " 'international': 'ADJ',\n",
       " 'reasons': 'NOUN',\n",
       " 'indeed': 'ADV',\n",
       " 'commercial': 'ADJ',\n",
       " 'dave': 'NOUN',\n",
       " 'bob': 'NOUN',\n",
       " 'none': 'NOUN',\n",
       " 'individual': 'ADJ',\n",
       " 'secure': 'NOUN',\n",
       " '>this': 'NOUN',\n",
       " 'shot': 'NOUN',\n",
       " 'appears': 'VERB',\n",
       " 'gave': 'VERB',\n",
       " 'condition': 'NOUN',\n",
       " 'attack': 'NOUN',\n",
       " 'sounds': 'NOUN',\n",
       " 'designed': 'VERB',\n",
       " 'arab': 'NOUN',\n",
       " 'tax': 'NOUN',\n",
       " 'choice': 'NOUN',\n",
       " 'finally': 'ADV',\n",
       " 'scientific': 'ADJ'}"
      ]
     },
     "execution_count": 374,
     "metadata": {},
     "output_type": "execute_result"
    }
   ],
   "source": [
    "most_common"
   ]
  },
  {
   "cell_type": "code",
   "execution_count": 375,
   "metadata": {},
   "outputs": [],
   "source": [
    "mc_w2v = pd.DataFrame([(word, most_common[word], w2v.wv[word]) for word in most_common if word in count.vocabulary_], \n",
    "                      columns=[\"Word\", \"POS\", \"Vector\"])\n",
    "mc_glove = pd.DataFrame([(word, most_common[word], glove[word]) for word in most_common if word in count.vocabulary_], \n",
    "                        columns=[\"Word\", \"POS\", \"Vector\"])\n",
    "mc_counts = pd.DataFrame([(word, most_common[word], count_embeddings[count.vocabulary_[word]].toarray()[0]) \n",
    "                          for word in most_common if word in count.vocabulary_], columns=[\"Word\", \"POS\", \"Vector\"])\n",
    "mc_tfidf = pd.DataFrame([(word, most_common[word], tfidf_embeddings[count.vocabulary_[word]].toarray()[0]) \n",
    "                          for word in most_common if word in count.vocabulary_], columns=[\"Word\", \"POS\", \"Vector\"])\n",
    "mc_lsa = pd.DataFrame([(word, most_common[word], lsa_embeddings[count.vocabulary_[word]]) \n",
    "                          for word in most_common if word in count.vocabulary_], columns=[\"Word\", \"POS\", \"Vector\"])"
   ]
  },
  {
   "cell_type": "markdown",
   "metadata": {},
   "source": [
    "Let's look at an example of our new dataframe."
   ]
  },
  {
   "cell_type": "code",
   "execution_count": 376,
   "metadata": {},
   "outputs": [
    {
     "data": {
      "text/html": [
       "<div>\n",
       "<style scoped>\n",
       "    .dataframe tbody tr th:only-of-type {\n",
       "        vertical-align: middle;\n",
       "    }\n",
       "\n",
       "    .dataframe tbody tr th {\n",
       "        vertical-align: top;\n",
       "    }\n",
       "\n",
       "    .dataframe thead th {\n",
       "        text-align: right;\n",
       "    }\n",
       "</style>\n",
       "<table border=\"1\" class=\"dataframe\">\n",
       "  <thead>\n",
       "    <tr style=\"text-align: right;\">\n",
       "      <th></th>\n",
       "      <th>Word</th>\n",
       "      <th>POS</th>\n",
       "      <th>Vector</th>\n",
       "    </tr>\n",
       "  </thead>\n",
       "  <tbody>\n",
       "    <tr>\n",
       "      <th>0</th>\n",
       "      <td>the</td>\n",
       "      <td>DET</td>\n",
       "      <td>[-1.388606, 0.06583077, -0.13645032, -1.863539...</td>\n",
       "    </tr>\n",
       "    <tr>\n",
       "      <th>1</th>\n",
       "      <td>to</td>\n",
       "      <td>PRT</td>\n",
       "      <td>[-0.6417752, 1.9310826, 0.69087327, -1.1071494...</td>\n",
       "    </tr>\n",
       "    <tr>\n",
       "      <th>2</th>\n",
       "      <td>of</td>\n",
       "      <td>ADP</td>\n",
       "      <td>[0.42809805, -0.055565987, 0.10761638, 0.07476...</td>\n",
       "    </tr>\n",
       "    <tr>\n",
       "      <th>3</th>\n",
       "      <td>and</td>\n",
       "      <td>CONJ</td>\n",
       "      <td>[-1.2817402, 1.5832126, 0.4680638, -0.03984642...</td>\n",
       "    </tr>\n",
       "    <tr>\n",
       "      <th>4</th>\n",
       "      <td>in</td>\n",
       "      <td>ADP</td>\n",
       "      <td>[-1.2154648, 1.3424835, 0.38822988, -1.0937023...</td>\n",
       "    </tr>\n",
       "    <tr>\n",
       "      <th>5</th>\n",
       "      <td>is</td>\n",
       "      <td>VERB</td>\n",
       "      <td>[-0.660043, 0.89603996, 0.04622833, -0.2136076...</td>\n",
       "    </tr>\n",
       "    <tr>\n",
       "      <th>6</th>\n",
       "      <td>that</td>\n",
       "      <td>ADP</td>\n",
       "      <td>[1.9276302, 2.8953228, 0.47525463, 0.42097518,...</td>\n",
       "    </tr>\n",
       "    <tr>\n",
       "      <th>7</th>\n",
       "      <td>it</td>\n",
       "      <td>PRON</td>\n",
       "      <td>[-0.5596454, 0.16515075, 1.5768685, -1.1366521...</td>\n",
       "    </tr>\n",
       "    <tr>\n",
       "      <th>8</th>\n",
       "      <td>for</td>\n",
       "      <td>ADP</td>\n",
       "      <td>[0.2474737, 1.208332, 0.09670697, -0.6879694, ...</td>\n",
       "    </tr>\n",
       "    <tr>\n",
       "      <th>9</th>\n",
       "      <td>you</td>\n",
       "      <td>PRON</td>\n",
       "      <td>[0.2568737, 2.237701, -1.646235, -0.6529777, 1...</td>\n",
       "    </tr>\n",
       "    <tr>\n",
       "      <th>10</th>\n",
       "      <td>this</td>\n",
       "      <td>DET</td>\n",
       "      <td>[0.45022234, 2.504377, -0.38760823, -1.5811548...</td>\n",
       "    </tr>\n",
       "    <tr>\n",
       "      <th>11</th>\n",
       "      <td>on</td>\n",
       "      <td>ADP</td>\n",
       "      <td>[-1.4337754, 1.634278, -0.5130079, -0.99259084...</td>\n",
       "    </tr>\n",
       "    <tr>\n",
       "      <th>12</th>\n",
       "      <td>be</td>\n",
       "      <td>VERB</td>\n",
       "      <td>[-0.8957398, 0.122516714, 0.027975647, 0.79587...</td>\n",
       "    </tr>\n",
       "    <tr>\n",
       "      <th>13</th>\n",
       "      <td>are</td>\n",
       "      <td>VERB</td>\n",
       "      <td>[-0.62166446, 0.27450937, -0.105667874, -1.469...</td>\n",
       "    </tr>\n",
       "    <tr>\n",
       "      <th>14</th>\n",
       "      <td>have</td>\n",
       "      <td>VERB</td>\n",
       "      <td>[-1.7792752, 2.0101633, 2.0521023, -0.5163924,...</td>\n",
       "    </tr>\n",
       "    <tr>\n",
       "      <th>15</th>\n",
       "      <td>not</td>\n",
       "      <td>ADV</td>\n",
       "      <td>[-1.0069727, -0.5404367, -0.5321276, 0.4721747...</td>\n",
       "    </tr>\n",
       "    <tr>\n",
       "      <th>16</th>\n",
       "      <td>with</td>\n",
       "      <td>ADP</td>\n",
       "      <td>[-1.3540208, 2.4765291, 1.4602593, -1.5633833,...</td>\n",
       "    </tr>\n",
       "    <tr>\n",
       "      <th>17</th>\n",
       "      <td>as</td>\n",
       "      <td>ADP</td>\n",
       "      <td>[-0.63979524, 1.6742342, 0.93755984, 0.2783605...</td>\n",
       "    </tr>\n",
       "    <tr>\n",
       "      <th>18</th>\n",
       "      <td>or</td>\n",
       "      <td>CONJ</td>\n",
       "      <td>[-0.88228357, -0.34415302, 0.895704, 0.3442094...</td>\n",
       "    </tr>\n",
       "    <tr>\n",
       "      <th>19</th>\n",
       "      <td>but</td>\n",
       "      <td>CONJ</td>\n",
       "      <td>[1.0574985, 1.947617, -0.14288728, -0.37837383...</td>\n",
       "    </tr>\n",
       "    <tr>\n",
       "      <th>20</th>\n",
       "      <td>if</td>\n",
       "      <td>ADP</td>\n",
       "      <td>[-0.62423456, 2.8704352, 1.9194853, -0.3976996...</td>\n",
       "    </tr>\n",
       "    <tr>\n",
       "      <th>21</th>\n",
       "      <td>was</td>\n",
       "      <td>VERB</td>\n",
       "      <td>[-1.9670398, -0.029317917, 1.7869043, -0.57422...</td>\n",
       "    </tr>\n",
       "    <tr>\n",
       "      <th>22</th>\n",
       "      <td>they</td>\n",
       "      <td>PRON</td>\n",
       "      <td>[-2.012518, 1.8359697, -1.670946, 0.7380145, 0...</td>\n",
       "    </tr>\n",
       "    <tr>\n",
       "      <th>23</th>\n",
       "      <td>can</td>\n",
       "      <td>VERB</td>\n",
       "      <td>[-1.5134693, 1.7024001, 0.38570926, -0.9496106...</td>\n",
       "    </tr>\n",
       "    <tr>\n",
       "      <th>24</th>\n",
       "      <td>from</td>\n",
       "      <td>ADP</td>\n",
       "      <td>[-0.2165195, 2.1284182, 0.9184808, -2.3927174,...</td>\n",
       "    </tr>\n",
       "    <tr>\n",
       "      <th>25</th>\n",
       "      <td>by</td>\n",
       "      <td>ADP</td>\n",
       "      <td>[0.46932867, 0.5231655, -0.17884764, 1.0387315...</td>\n",
       "    </tr>\n",
       "    <tr>\n",
       "      <th>26</th>\n",
       "      <td>at</td>\n",
       "      <td>ADP</td>\n",
       "      <td>[-2.7569895, 2.3054838, 0.86052173, -1.1609752...</td>\n",
       "    </tr>\n",
       "    <tr>\n",
       "      <th>27</th>\n",
       "      <td>an</td>\n",
       "      <td>DET</td>\n",
       "      <td>[-2.217604, 0.11993043, 0.4041918, -0.67285275...</td>\n",
       "    </tr>\n",
       "    <tr>\n",
       "      <th>28</th>\n",
       "      <td>there</td>\n",
       "      <td>ADV</td>\n",
       "      <td>[-0.09669843, 2.5835145, 0.23293997, 1.7683715...</td>\n",
       "    </tr>\n",
       "    <tr>\n",
       "      <th>29</th>\n",
       "      <td>what</td>\n",
       "      <td>PRON</td>\n",
       "      <td>[1.859249, 1.8779271, -0.9557654, -0.359213, 0...</td>\n",
       "    </tr>\n",
       "    <tr>\n",
       "      <th>...</th>\n",
       "      <td>...</td>\n",
       "      <td>...</td>\n",
       "      <td>...</td>\n",
       "    </tr>\n",
       "    <tr>\n",
       "      <th>901</th>\n",
       "      <td>dr</td>\n",
       "      <td>NOUN</td>\n",
       "      <td>[0.6838002, -1.5621486, -0.26777837, 1.058227,...</td>\n",
       "    </tr>\n",
       "    <tr>\n",
       "      <th>902</th>\n",
       "      <td>son</td>\n",
       "      <td>NOUN</td>\n",
       "      <td>[-0.41538554, -0.38129354, 1.9742597, 0.407518...</td>\n",
       "    </tr>\n",
       "    <tr>\n",
       "      <th>903</th>\n",
       "      <td>machines</td>\n",
       "      <td>NOUN</td>\n",
       "      <td>[0.8377679, 0.3550538, -0.75344193, -0.6013071...</td>\n",
       "    </tr>\n",
       "    <tr>\n",
       "      <th>904</th>\n",
       "      <td>language</td>\n",
       "      <td>NOUN</td>\n",
       "      <td>[0.911309, -0.9219055, -0.25820258, 0.31793633...</td>\n",
       "    </tr>\n",
       "    <tr>\n",
       "      <th>905</th>\n",
       "      <td>easily</td>\n",
       "      <td>ADV</td>\n",
       "      <td>[-0.3519205, -0.16899711, -0.16391337, -0.1516...</td>\n",
       "    </tr>\n",
       "    <tr>\n",
       "      <th>906</th>\n",
       "      <td>amount</td>\n",
       "      <td>NOUN</td>\n",
       "      <td>[-1.9906845, 1.3067153, 0.9473632, 0.0397407, ...</td>\n",
       "    </tr>\n",
       "    <tr>\n",
       "      <th>907</th>\n",
       "      <td>takes</td>\n",
       "      <td>VERB</td>\n",
       "      <td>[-1.1517768, -0.28418168, 1.0093281, 0.2681712...</td>\n",
       "    </tr>\n",
       "    <tr>\n",
       "      <th>908</th>\n",
       "      <td>usenet</td>\n",
       "      <td>NOUN</td>\n",
       "      <td>[-0.95979244, -0.56599486, -2.3331037, 0.16486...</td>\n",
       "    </tr>\n",
       "    <tr>\n",
       "      <th>909</th>\n",
       "      <td>suggest</td>\n",
       "      <td>NOUN</td>\n",
       "      <td>[-0.3280402, 0.29760942, 0.47540823, -0.549686...</td>\n",
       "    </tr>\n",
       "    <tr>\n",
       "      <th>910</th>\n",
       "      <td>international</td>\n",
       "      <td>ADJ</td>\n",
       "      <td>[-0.31566358, 0.5566584, -0.2552387, -0.725442...</td>\n",
       "    </tr>\n",
       "    <tr>\n",
       "      <th>911</th>\n",
       "      <td>reasons</td>\n",
       "      <td>NOUN</td>\n",
       "      <td>[0.9086245, 3.7907755, -0.114427015, -0.598911...</td>\n",
       "    </tr>\n",
       "    <tr>\n",
       "      <th>912</th>\n",
       "      <td>indeed</td>\n",
       "      <td>ADV</td>\n",
       "      <td>[0.6821408, 0.5613629, 0.18801685, 0.24335109,...</td>\n",
       "    </tr>\n",
       "    <tr>\n",
       "      <th>913</th>\n",
       "      <td>commercial</td>\n",
       "      <td>ADJ</td>\n",
       "      <td>[-0.35941687, 0.5236869, -0.5339723, -0.235176...</td>\n",
       "    </tr>\n",
       "    <tr>\n",
       "      <th>914</th>\n",
       "      <td>dave</td>\n",
       "      <td>NOUN</td>\n",
       "      <td>[-0.49078363, -0.06443478, -0.38507956, -0.224...</td>\n",
       "    </tr>\n",
       "    <tr>\n",
       "      <th>915</th>\n",
       "      <td>bob</td>\n",
       "      <td>NOUN</td>\n",
       "      <td>[-0.65766644, -0.0014304243, -0.32688254, 0.32...</td>\n",
       "    </tr>\n",
       "    <tr>\n",
       "      <th>916</th>\n",
       "      <td>none</td>\n",
       "      <td>NOUN</td>\n",
       "      <td>[-0.60734177, 1.2910774, 0.24459481, -0.781394...</td>\n",
       "    </tr>\n",
       "    <tr>\n",
       "      <th>917</th>\n",
       "      <td>individual</td>\n",
       "      <td>ADJ</td>\n",
       "      <td>[-1.0346911, 0.36662525, 0.27677009, -1.156985...</td>\n",
       "    </tr>\n",
       "    <tr>\n",
       "      <th>918</th>\n",
       "      <td>secure</td>\n",
       "      <td>NOUN</td>\n",
       "      <td>[-0.6076623, 0.8609622, 0.31921628, 0.5764192,...</td>\n",
       "    </tr>\n",
       "    <tr>\n",
       "      <th>919</th>\n",
       "      <td>shot</td>\n",
       "      <td>NOUN</td>\n",
       "      <td>[-1.7029483, 0.6810418, 0.6790703, 0.14812224,...</td>\n",
       "    </tr>\n",
       "    <tr>\n",
       "      <th>920</th>\n",
       "      <td>appears</td>\n",
       "      <td>VERB</td>\n",
       "      <td>[-0.3745861, -0.61825186, 0.702156, 0.4749261,...</td>\n",
       "    </tr>\n",
       "    <tr>\n",
       "      <th>921</th>\n",
       "      <td>gave</td>\n",
       "      <td>VERB</td>\n",
       "      <td>[-1.7150091, 0.3517908, 1.2748203, 0.04128607,...</td>\n",
       "    </tr>\n",
       "    <tr>\n",
       "      <th>922</th>\n",
       "      <td>condition</td>\n",
       "      <td>NOUN</td>\n",
       "      <td>[0.17661816, 0.74001324, 0.4557542, -0.7832578...</td>\n",
       "    </tr>\n",
       "    <tr>\n",
       "      <th>923</th>\n",
       "      <td>attack</td>\n",
       "      <td>NOUN</td>\n",
       "      <td>[0.7279753, -0.3817082, 0.6780941, -0.8824509,...</td>\n",
       "    </tr>\n",
       "    <tr>\n",
       "      <th>924</th>\n",
       "      <td>sounds</td>\n",
       "      <td>NOUN</td>\n",
       "      <td>[1.3825724, -1.0857171, -0.5195648, -0.6102581...</td>\n",
       "    </tr>\n",
       "    <tr>\n",
       "      <th>925</th>\n",
       "      <td>designed</td>\n",
       "      <td>VERB</td>\n",
       "      <td>[-0.26072454, 0.4808543, 0.7609671, -2.1732643...</td>\n",
       "    </tr>\n",
       "    <tr>\n",
       "      <th>926</th>\n",
       "      <td>arab</td>\n",
       "      <td>NOUN</td>\n",
       "      <td>[-0.2657563, 1.2510513, -0.031733368, -1.77833...</td>\n",
       "    </tr>\n",
       "    <tr>\n",
       "      <th>927</th>\n",
       "      <td>tax</td>\n",
       "      <td>NOUN</td>\n",
       "      <td>[-0.8909336, 1.6188405, 0.55118656, -0.8409142...</td>\n",
       "    </tr>\n",
       "    <tr>\n",
       "      <th>928</th>\n",
       "      <td>choice</td>\n",
       "      <td>NOUN</td>\n",
       "      <td>[-0.12412289, 1.7054304, 0.46484634, -0.116499...</td>\n",
       "    </tr>\n",
       "    <tr>\n",
       "      <th>929</th>\n",
       "      <td>finally</td>\n",
       "      <td>ADV</td>\n",
       "      <td>[-0.03126164, 0.747408, 1.3638438, 0.40514696,...</td>\n",
       "    </tr>\n",
       "    <tr>\n",
       "      <th>930</th>\n",
       "      <td>scientific</td>\n",
       "      <td>ADJ</td>\n",
       "      <td>[0.15891123, 0.7465882, -0.9076462, 0.22536261...</td>\n",
       "    </tr>\n",
       "  </tbody>\n",
       "</table>\n",
       "<p>931 rows × 3 columns</p>\n",
       "</div>"
      ],
      "text/plain": [
       "              Word   POS                                             Vector\n",
       "0              the   DET  [-1.388606, 0.06583077, -0.13645032, -1.863539...\n",
       "1               to   PRT  [-0.6417752, 1.9310826, 0.69087327, -1.1071494...\n",
       "2               of   ADP  [0.42809805, -0.055565987, 0.10761638, 0.07476...\n",
       "3              and  CONJ  [-1.2817402, 1.5832126, 0.4680638, -0.03984642...\n",
       "4               in   ADP  [-1.2154648, 1.3424835, 0.38822988, -1.0937023...\n",
       "5               is  VERB  [-0.660043, 0.89603996, 0.04622833, -0.2136076...\n",
       "6             that   ADP  [1.9276302, 2.8953228, 0.47525463, 0.42097518,...\n",
       "7               it  PRON  [-0.5596454, 0.16515075, 1.5768685, -1.1366521...\n",
       "8              for   ADP  [0.2474737, 1.208332, 0.09670697, -0.6879694, ...\n",
       "9              you  PRON  [0.2568737, 2.237701, -1.646235, -0.6529777, 1...\n",
       "10            this   DET  [0.45022234, 2.504377, -0.38760823, -1.5811548...\n",
       "11              on   ADP  [-1.4337754, 1.634278, -0.5130079, -0.99259084...\n",
       "12              be  VERB  [-0.8957398, 0.122516714, 0.027975647, 0.79587...\n",
       "13             are  VERB  [-0.62166446, 0.27450937, -0.105667874, -1.469...\n",
       "14            have  VERB  [-1.7792752, 2.0101633, 2.0521023, -0.5163924,...\n",
       "15             not   ADV  [-1.0069727, -0.5404367, -0.5321276, 0.4721747...\n",
       "16            with   ADP  [-1.3540208, 2.4765291, 1.4602593, -1.5633833,...\n",
       "17              as   ADP  [-0.63979524, 1.6742342, 0.93755984, 0.2783605...\n",
       "18              or  CONJ  [-0.88228357, -0.34415302, 0.895704, 0.3442094...\n",
       "19             but  CONJ  [1.0574985, 1.947617, -0.14288728, -0.37837383...\n",
       "20              if   ADP  [-0.62423456, 2.8704352, 1.9194853, -0.3976996...\n",
       "21             was  VERB  [-1.9670398, -0.029317917, 1.7869043, -0.57422...\n",
       "22            they  PRON  [-2.012518, 1.8359697, -1.670946, 0.7380145, 0...\n",
       "23             can  VERB  [-1.5134693, 1.7024001, 0.38570926, -0.9496106...\n",
       "24            from   ADP  [-0.2165195, 2.1284182, 0.9184808, -2.3927174,...\n",
       "25              by   ADP  [0.46932867, 0.5231655, -0.17884764, 1.0387315...\n",
       "26              at   ADP  [-2.7569895, 2.3054838, 0.86052173, -1.1609752...\n",
       "27              an   DET  [-2.217604, 0.11993043, 0.4041918, -0.67285275...\n",
       "28           there   ADV  [-0.09669843, 2.5835145, 0.23293997, 1.7683715...\n",
       "29            what  PRON  [1.859249, 1.8779271, -0.9557654, -0.359213, 0...\n",
       "..             ...   ...                                                ...\n",
       "901             dr  NOUN  [0.6838002, -1.5621486, -0.26777837, 1.058227,...\n",
       "902            son  NOUN  [-0.41538554, -0.38129354, 1.9742597, 0.407518...\n",
       "903       machines  NOUN  [0.8377679, 0.3550538, -0.75344193, -0.6013071...\n",
       "904       language  NOUN  [0.911309, -0.9219055, -0.25820258, 0.31793633...\n",
       "905         easily   ADV  [-0.3519205, -0.16899711, -0.16391337, -0.1516...\n",
       "906         amount  NOUN  [-1.9906845, 1.3067153, 0.9473632, 0.0397407, ...\n",
       "907          takes  VERB  [-1.1517768, -0.28418168, 1.0093281, 0.2681712...\n",
       "908         usenet  NOUN  [-0.95979244, -0.56599486, -2.3331037, 0.16486...\n",
       "909        suggest  NOUN  [-0.3280402, 0.29760942, 0.47540823, -0.549686...\n",
       "910  international   ADJ  [-0.31566358, 0.5566584, -0.2552387, -0.725442...\n",
       "911        reasons  NOUN  [0.9086245, 3.7907755, -0.114427015, -0.598911...\n",
       "912         indeed   ADV  [0.6821408, 0.5613629, 0.18801685, 0.24335109,...\n",
       "913     commercial   ADJ  [-0.35941687, 0.5236869, -0.5339723, -0.235176...\n",
       "914           dave  NOUN  [-0.49078363, -0.06443478, -0.38507956, -0.224...\n",
       "915            bob  NOUN  [-0.65766644, -0.0014304243, -0.32688254, 0.32...\n",
       "916           none  NOUN  [-0.60734177, 1.2910774, 0.24459481, -0.781394...\n",
       "917     individual   ADJ  [-1.0346911, 0.36662525, 0.27677009, -1.156985...\n",
       "918         secure  NOUN  [-0.6076623, 0.8609622, 0.31921628, 0.5764192,...\n",
       "919           shot  NOUN  [-1.7029483, 0.6810418, 0.6790703, 0.14812224,...\n",
       "920        appears  VERB  [-0.3745861, -0.61825186, 0.702156, 0.4749261,...\n",
       "921           gave  VERB  [-1.7150091, 0.3517908, 1.2748203, 0.04128607,...\n",
       "922      condition  NOUN  [0.17661816, 0.74001324, 0.4557542, -0.7832578...\n",
       "923         attack  NOUN  [0.7279753, -0.3817082, 0.6780941, -0.8824509,...\n",
       "924         sounds  NOUN  [1.3825724, -1.0857171, -0.5195648, -0.6102581...\n",
       "925       designed  VERB  [-0.26072454, 0.4808543, 0.7609671, -2.1732643...\n",
       "926           arab  NOUN  [-0.2657563, 1.2510513, -0.031733368, -1.77833...\n",
       "927            tax  NOUN  [-0.8909336, 1.6188405, 0.55118656, -0.8409142...\n",
       "928         choice  NOUN  [-0.12412289, 1.7054304, 0.46484634, -0.116499...\n",
       "929        finally   ADV  [-0.03126164, 0.747408, 1.3638438, 0.40514696,...\n",
       "930     scientific   ADJ  [0.15891123, 0.7465882, -0.9076462, 0.22536261...\n",
       "\n",
       "[931 rows x 3 columns]"
      ]
     },
     "execution_count": 376,
     "metadata": {},
     "output_type": "execute_result"
    }
   ],
   "source": [
    "mc_w2v"
   ]
  },
  {
   "cell_type": "markdown",
   "metadata": {},
   "source": [
    "And if we want to reclaim just the word-embedding matrices..."
   ]
  },
  {
   "cell_type": "code",
   "execution_count": 377,
   "metadata": {},
   "outputs": [
    {
     "data": {
      "text/plain": [
       "(931, 11314)"
      ]
     },
     "execution_count": 377,
     "metadata": {},
     "output_type": "execute_result"
    }
   ],
   "source": [
    "np.stack(mc_tfidf.Vector.values, axis=0).shape"
   ]
  },
  {
   "cell_type": "markdown",
   "metadata": {},
   "source": [
    "Let's test our clusterings..."
   ]
  },
  {
   "cell_type": "code",
   "execution_count": 325,
   "metadata": {},
   "outputs": [],
   "source": [
    "from sklearn.cluster import AgglomerativeClustering\n",
    "from sklearn.metrics import adjusted_rand_score as ari"
   ]
  },
  {
   "cell_type": "code",
   "execution_count": 378,
   "metadata": {},
   "outputs": [
    {
     "data": {
      "text/plain": [
       "0.0063597023157344265"
      ]
     },
     "execution_count": 378,
     "metadata": {},
     "output_type": "execute_result"
    }
   ],
   "source": [
    "AC_w2v = AgglomerativeClustering(n_clusters=NUM_TAGS)\n",
    "AC_w2v.fit(np.stack(mc_w2v.Vector.values, axis=0))\n",
    "ari(AC_w2v.labels_, mc_w2v.POS)"
   ]
  },
  {
   "cell_type": "code",
   "execution_count": 379,
   "metadata": {},
   "outputs": [
    {
     "data": {
      "text/plain": [
       "0.028219603537472993"
      ]
     },
     "execution_count": 379,
     "metadata": {},
     "output_type": "execute_result"
    }
   ],
   "source": [
    "AC_glove = AgglomerativeClustering(n_clusters=NUM_TAGS)\n",
    "AC_glove.fit(np.stack(mc_glove.Vector.values, axis=0))\n",
    "ari(AC_glove.labels_, mc_glove.POS)"
   ]
  },
  {
   "cell_type": "code",
   "execution_count": 380,
   "metadata": {},
   "outputs": [
    {
     "data": {
      "text/plain": [
       "0.17998482982370506"
      ]
     },
     "execution_count": 380,
     "metadata": {},
     "output_type": "execute_result"
    }
   ],
   "source": [
    "AC_tfidf = AgglomerativeClustering(n_clusters=NUM_TAGS)\n",
    "AC_tfidf.fit(np.stack(mc_tfidf.Vector.values, axis=0))\n",
    "ari(AC_tfidf.labels_, mc_tfidf.POS)"
   ]
  },
  {
   "cell_type": "code",
   "execution_count": 381,
   "metadata": {},
   "outputs": [
    {
     "data": {
      "text/plain": [
       "0.2032500495348084"
      ]
     },
     "execution_count": 381,
     "metadata": {},
     "output_type": "execute_result"
    }
   ],
   "source": [
    "AC_counts = AgglomerativeClustering(n_clusters=NUM_TAGS)\n",
    "AC_counts.fit(np.stack(mc_counts.Vector.values, axis=0))\n",
    "ari(AC_counts.labels_, mc_counts.POS)"
   ]
  },
  {
   "cell_type": "code",
   "execution_count": 382,
   "metadata": {},
   "outputs": [
    {
     "data": {
      "text/plain": [
       "0.1902577385422497"
      ]
     },
     "execution_count": 382,
     "metadata": {},
     "output_type": "execute_result"
    }
   ],
   "source": [
    "AC_lsa = AgglomerativeClustering(n_clusters=NUM_TAGS)\n",
    "AC_lsa.fit(np.stack(mc_lsa.Vector.values, axis=0))\n",
    "ari(AC_lsa.labels_, mc_lsa.POS)"
   ]
  },
  {
   "cell_type": "markdown",
   "metadata": {},
   "source": [
    "We can examine clusters with code like the following:"
   ]
  },
  {
   "cell_type": "code",
   "execution_count": 340,
   "metadata": {},
   "outputs": [],
   "source": [
    "lsa_answers = [item for item in zip(mc_lsa[\"Word\"], mc_lsa[\"POS\"], AC_lsa.labels_)]"
   ]
  },
  {
   "cell_type": "code",
   "execution_count": 386,
   "metadata": {},
   "outputs": [
    {
     "data": {
      "text/plain": [
       "[('for', 'ADP', 5),\n",
       " ('this', 'DET', 5),\n",
       " ('on', 'ADP', 5),\n",
       " ('be', 'VERB', 5),\n",
       " ('are', 'VERB', 5),\n",
       " ('have', 'VERB', 5),\n",
       " ('not', 'ADV', 5),\n",
       " ('with', 'ADP', 5),\n",
       " ('as', 'ADP', 5),\n",
       " ('or', 'CONJ', 5),\n",
       " ('if', 'ADP', 5),\n",
       " ('they', 'PRON', 5),\n",
       " ('can', 'VERB', 5),\n",
       " ('there', 'ADV', 5),\n",
       " ('what', 'PRON', 5),\n",
       " ('will', 'VERB', 5),\n",
       " ('would', 'VERB', 5),\n",
       " ('my', 'PRON', 5),\n",
       " ('do', 'VERB', 5),\n",
       " ('your', 'PRON', 5),\n",
       " ('any', 'DET', 5)]"
      ]
     },
     "execution_count": 386,
     "metadata": {},
     "output_type": "execute_result"
    }
   ],
   "source": [
    "[item for item in lsa_answers if item[2] == 5]"
   ]
  },
  {
   "cell_type": "markdown",
   "metadata": {},
   "source": [
    "NOW! Let me ask you, why is it that our global vectors did so well here? How can they (seemingly) capture more syntactic information than something like w2v, which uses only local information? Scroll down for (my) answer.\n",
    "\n",
    "\n",
    "\n",
    "\n",
    "\n",
    "(It has to do with frequencies. It will more often than not nail things like prepositions and any function word, since their counts will be very high, and thus their geometry different. These words will be further out on the fringe of our embeddings. The question remains, will they perform as well on the intrinsic evaluation tests we discussed before? That's for you to find out...)"
   ]
  },
  {
   "cell_type": "markdown",
   "metadata": {},
   "source": [
    "Now we can visualize our embeddings"
   ]
  },
  {
   "cell_type": "code",
   "execution_count": 387,
   "metadata": {},
   "outputs": [],
   "source": [
    "import plotly.figure_factory as ff"
   ]
  },
  {
   "cell_type": "code",
   "execution_count": 388,
   "metadata": {},
   "outputs": [
    {
     "data": {
      "application/vnd.plotly.v1+json": {
       "config": {
        "plotlyServerURL": "https://plot.ly"
       },
       "data": [
        {
         "hoverinfo": "text",
         "marker": {
          "color": "rgb(0,116,217)"
         },
         "mode": "lines",
         "type": "scatter",
         "x": [
          15,
          15,
          25,
          25
         ],
         "xaxis": "x",
         "y": [
          0,
          9.477753450274145,
          9.477753450274145,
          0
         ],
         "yaxis": "y"
        },
        {
         "hoverinfo": "text",
         "marker": {
          "color": "rgb(61,153,112)"
         },
         "mode": "lines",
         "type": "scatter",
         "x": [
          55,
          55,
          65,
          65
         ],
         "xaxis": "x",
         "y": [
          0,
          7.442111249743226,
          7.442111249743226,
          0
         ],
         "yaxis": "y"
        },
        {
         "hoverinfo": "text",
         "marker": {
          "color": "rgb(61,153,112)"
         },
         "mode": "lines",
         "type": "scatter",
         "x": [
          45,
          45,
          60,
          60
         ],
         "xaxis": "x",
         "y": [
          0,
          8.837915936991864,
          8.837915936991864,
          7.442111249743226
         ],
         "yaxis": "y"
        },
        {
         "hoverinfo": "text",
         "marker": {
          "color": "rgb(0,116,217)"
         },
         "mode": "lines",
         "type": "scatter",
         "x": [
          35,
          35,
          52.5,
          52.5
         ],
         "xaxis": "x",
         "y": [
          0,
          9.7634419232035,
          9.7634419232035,
          8.837915936991864
         ],
         "yaxis": "y"
        },
        {
         "hoverinfo": "text",
         "marker": {
          "color": "rgb(0,116,217)"
         },
         "mode": "lines",
         "type": "scatter",
         "x": [
          20,
          20,
          43.75,
          43.75
         ],
         "xaxis": "x",
         "y": [
          9.477753450274145,
          10.077123252053509,
          10.077123252053509,
          9.7634419232035
         ],
         "yaxis": "y"
        },
        {
         "hoverinfo": "text",
         "marker": {
          "color": "rgb(0,116,217)"
         },
         "mode": "lines",
         "type": "scatter",
         "x": [
          5,
          5,
          31.875,
          31.875
         ],
         "xaxis": "x",
         "y": [
          0,
          10.455003715618483,
          10.455003715618483,
          10.077123252053509
         ],
         "yaxis": "y"
        },
        {
         "hoverinfo": "text",
         "marker": {
          "color": "rgb(0,116,217)"
         },
         "mode": "lines",
         "type": "scatter",
         "x": [
          85,
          85,
          95,
          95
         ],
         "xaxis": "x",
         "y": [
          0,
          9.256824420668062,
          9.256824420668062,
          0
         ],
         "yaxis": "y"
        },
        {
         "hoverinfo": "text",
         "marker": {
          "color": "rgb(0,116,217)"
         },
         "mode": "lines",
         "type": "scatter",
         "x": [
          75,
          75,
          90,
          90
         ],
         "xaxis": "x",
         "y": [
          0,
          10.145320137305676,
          10.145320137305676,
          9.256824420668062
         ],
         "yaxis": "y"
        },
        {
         "hoverinfo": "text",
         "marker": {
          "color": "rgb(0,116,217)"
         },
         "mode": "lines",
         "type": "scatter",
         "x": [
          115,
          115,
          125,
          125
         ],
         "xaxis": "x",
         "y": [
          0,
          9.505071723532488,
          9.505071723532488,
          0
         ],
         "yaxis": "y"
        },
        {
         "hoverinfo": "text",
         "marker": {
          "color": "rgb(0,116,217)"
         },
         "mode": "lines",
         "type": "scatter",
         "x": [
          105,
          105,
          120,
          120
         ],
         "xaxis": "x",
         "y": [
          0,
          10.15107417591266,
          10.15107417591266,
          9.505071723532488
         ],
         "yaxis": "y"
        },
        {
         "hoverinfo": "text",
         "marker": {
          "color": "rgb(0,116,217)"
         },
         "mode": "lines",
         "type": "scatter",
         "x": [
          82.5,
          82.5,
          112.5,
          112.5
         ],
         "xaxis": "x",
         "y": [
          10.145320137305676,
          10.685976554223863,
          10.685976554223863,
          10.15107417591266
         ],
         "yaxis": "y"
        },
        {
         "hoverinfo": "text",
         "marker": {
          "color": "rgb(255,65,54)"
         },
         "mode": "lines",
         "type": "scatter",
         "x": [
          145,
          145,
          155,
          155
         ],
         "xaxis": "x",
         "y": [
          0,
          7.116653625642481,
          7.116653625642481,
          0
         ],
         "yaxis": "y"
        },
        {
         "hoverinfo": "text",
         "marker": {
          "color": "rgb(255,65,54)"
         },
         "mode": "lines",
         "type": "scatter",
         "x": [
          135,
          135,
          150,
          150
         ],
         "xaxis": "x",
         "y": [
          0,
          7.974702705130686,
          7.974702705130686,
          7.116653625642481
         ],
         "yaxis": "y"
        },
        {
         "hoverinfo": "text",
         "marker": {
          "color": "rgb(255,65,54)"
         },
         "mode": "lines",
         "type": "scatter",
         "x": [
          185,
          185,
          195,
          195
         ],
         "xaxis": "x",
         "y": [
          0,
          7.469647565659477,
          7.469647565659477,
          0
         ],
         "yaxis": "y"
        },
        {
         "hoverinfo": "text",
         "marker": {
          "color": "rgb(255,65,54)"
         },
         "mode": "lines",
         "type": "scatter",
         "x": [
          175,
          175,
          190,
          190
         ],
         "xaxis": "x",
         "y": [
          0,
          7.608007033296675,
          7.608007033296675,
          7.469647565659477
         ],
         "yaxis": "y"
        },
        {
         "hoverinfo": "text",
         "marker": {
          "color": "rgb(255,65,54)"
         },
         "mode": "lines",
         "type": "scatter",
         "x": [
          165,
          165,
          182.5,
          182.5
         ],
         "xaxis": "x",
         "y": [
          0,
          8.301163130416743,
          8.301163130416743,
          7.608007033296675
         ],
         "yaxis": "y"
        },
        {
         "hoverinfo": "text",
         "marker": {
          "color": "rgb(255,65,54)"
         },
         "mode": "lines",
         "type": "scatter",
         "x": [
          142.5,
          142.5,
          173.75,
          173.75
         ],
         "xaxis": "x",
         "y": [
          7.974702705130686,
          8.582665621376881,
          8.582665621376881,
          8.301163130416743
         ],
         "yaxis": "y"
        },
        {
         "hoverinfo": "text",
         "marker": {
          "color": "rgb(255,65,54)"
         },
         "mode": "lines",
         "type": "scatter",
         "x": [
          225,
          225,
          235,
          235
         ],
         "xaxis": "x",
         "y": [
          0,
          5.892337106140139,
          5.892337106140139,
          0
         ],
         "yaxis": "y"
        },
        {
         "hoverinfo": "text",
         "marker": {
          "color": "rgb(255,65,54)"
         },
         "mode": "lines",
         "type": "scatter",
         "x": [
          215,
          215,
          230,
          230
         ],
         "xaxis": "x",
         "y": [
          0,
          6.164888175937696,
          6.164888175937696,
          5.892337106140139
         ],
         "yaxis": "y"
        },
        {
         "hoverinfo": "text",
         "marker": {
          "color": "rgb(255,65,54)"
         },
         "mode": "lines",
         "type": "scatter",
         "x": [
          205,
          205,
          222.5,
          222.5
         ],
         "xaxis": "x",
         "y": [
          0,
          6.6690891022283925,
          6.6690891022283925,
          6.164888175937696
         ],
         "yaxis": "y"
        },
        {
         "hoverinfo": "text",
         "marker": {
          "color": "rgb(255,65,54)"
         },
         "mode": "lines",
         "type": "scatter",
         "x": [
          245,
          245,
          255,
          255
         ],
         "xaxis": "x",
         "y": [
          0,
          6.742458136694603,
          6.742458136694603,
          0
         ],
         "yaxis": "y"
        },
        {
         "hoverinfo": "text",
         "marker": {
          "color": "rgb(255,65,54)"
         },
         "mode": "lines",
         "type": "scatter",
         "x": [
          213.75,
          213.75,
          250,
          250
         ],
         "xaxis": "x",
         "y": [
          6.6690891022283925,
          7.226932951121487,
          7.226932951121487,
          6.742458136694603
         ],
         "yaxis": "y"
        },
        {
         "hoverinfo": "text",
         "marker": {
          "color": "rgb(255,65,54)"
         },
         "mode": "lines",
         "type": "scatter",
         "x": [
          265,
          265,
          275,
          275
         ],
         "xaxis": "x",
         "y": [
          0,
          7.5889182285779135,
          7.5889182285779135,
          0
         ],
         "yaxis": "y"
        },
        {
         "hoverinfo": "text",
         "marker": {
          "color": "rgb(255,65,54)"
         },
         "mode": "lines",
         "type": "scatter",
         "x": [
          231.875,
          231.875,
          270,
          270
         ],
         "xaxis": "x",
         "y": [
          7.226932951121487,
          7.837361961679283,
          7.837361961679283,
          7.5889182285779135
         ],
         "yaxis": "y"
        },
        {
         "hoverinfo": "text",
         "marker": {
          "color": "rgb(255,65,54)"
         },
         "mode": "lines",
         "type": "scatter",
         "x": [
          305,
          305,
          315,
          315
         ],
         "xaxis": "x",
         "y": [
          0,
          5.840113624832813,
          5.840113624832813,
          0
         ],
         "yaxis": "y"
        },
        {
         "hoverinfo": "text",
         "marker": {
          "color": "rgb(255,65,54)"
         },
         "mode": "lines",
         "type": "scatter",
         "x": [
          295,
          295,
          310,
          310
         ],
         "xaxis": "x",
         "y": [
          0,
          6.1853267548478525,
          6.1853267548478525,
          5.840113624832813
         ],
         "yaxis": "y"
        },
        {
         "hoverinfo": "text",
         "marker": {
          "color": "rgb(255,65,54)"
         },
         "mode": "lines",
         "type": "scatter",
         "x": [
          335,
          335,
          345,
          345
         ],
         "xaxis": "x",
         "y": [
          0,
          5.766215380489116,
          5.766215380489116,
          0
         ],
         "yaxis": "y"
        },
        {
         "hoverinfo": "text",
         "marker": {
          "color": "rgb(255,65,54)"
         },
         "mode": "lines",
         "type": "scatter",
         "x": [
          325,
          325,
          340,
          340
         ],
         "xaxis": "x",
         "y": [
          0,
          6.856065030273713,
          6.856065030273713,
          5.766215380489116
         ],
         "yaxis": "y"
        },
        {
         "hoverinfo": "text",
         "marker": {
          "color": "rgb(255,65,54)"
         },
         "mode": "lines",
         "type": "scatter",
         "x": [
          302.5,
          302.5,
          332.5,
          332.5
         ],
         "xaxis": "x",
         "y": [
          6.1853267548478525,
          6.893338476846174,
          6.893338476846174,
          6.856065030273713
         ],
         "yaxis": "y"
        },
        {
         "hoverinfo": "text",
         "marker": {
          "color": "rgb(255,65,54)"
         },
         "mode": "lines",
         "type": "scatter",
         "x": [
          375,
          375,
          385,
          385
         ],
         "xaxis": "x",
         "y": [
          0,
          5.915244198732737,
          5.915244198732737,
          0
         ],
         "yaxis": "y"
        },
        {
         "hoverinfo": "text",
         "marker": {
          "color": "rgb(255,65,54)"
         },
         "mode": "lines",
         "type": "scatter",
         "x": [
          365,
          365,
          380,
          380
         ],
         "xaxis": "x",
         "y": [
          0,
          6.035195683702382,
          6.035195683702382,
          5.915244198732737
         ],
         "yaxis": "y"
        },
        {
         "hoverinfo": "text",
         "marker": {
          "color": "rgb(255,65,54)"
         },
         "mode": "lines",
         "type": "scatter",
         "x": [
          355,
          355,
          372.5,
          372.5
         ],
         "xaxis": "x",
         "y": [
          0,
          7.280702051036035,
          7.280702051036035,
          6.035195683702382
         ],
         "yaxis": "y"
        },
        {
         "hoverinfo": "text",
         "marker": {
          "color": "rgb(255,65,54)"
         },
         "mode": "lines",
         "type": "scatter",
         "x": [
          317.5,
          317.5,
          363.75,
          363.75
         ],
         "xaxis": "x",
         "y": [
          6.893338476846174,
          7.439024000600749,
          7.439024000600749,
          7.280702051036035
         ],
         "yaxis": "y"
        },
        {
         "hoverinfo": "text",
         "marker": {
          "color": "rgb(255,65,54)"
         },
         "mode": "lines",
         "type": "scatter",
         "x": [
          405,
          405,
          415,
          415
         ],
         "xaxis": "x",
         "y": [
          0,
          6.7237824688685235,
          6.7237824688685235,
          0
         ],
         "yaxis": "y"
        },
        {
         "hoverinfo": "text",
         "marker": {
          "color": "rgb(255,65,54)"
         },
         "mode": "lines",
         "type": "scatter",
         "x": [
          395,
          395,
          410,
          410
         ],
         "xaxis": "x",
         "y": [
          0,
          7.116220632898423,
          7.116220632898423,
          6.7237824688685235
         ],
         "yaxis": "y"
        },
        {
         "hoverinfo": "text",
         "marker": {
          "color": "rgb(255,65,54)"
         },
         "mode": "lines",
         "type": "scatter",
         "x": [
          435,
          435,
          445,
          445
         ],
         "xaxis": "x",
         "y": [
          0,
          6.287837517869732,
          6.287837517869732,
          0
         ],
         "yaxis": "y"
        },
        {
         "hoverinfo": "text",
         "marker": {
          "color": "rgb(255,65,54)"
         },
         "mode": "lines",
         "type": "scatter",
         "x": [
          425,
          425,
          440,
          440
         ],
         "xaxis": "x",
         "y": [
          0,
          7.20510095102563,
          7.20510095102563,
          6.287837517869732
         ],
         "yaxis": "y"
        },
        {
         "hoverinfo": "text",
         "marker": {
          "color": "rgb(255,65,54)"
         },
         "mode": "lines",
         "type": "scatter",
         "x": [
          402.5,
          402.5,
          432.5,
          432.5
         ],
         "xaxis": "x",
         "y": [
          7.116220632898423,
          7.902230696245095,
          7.902230696245095,
          7.20510095102563
         ],
         "yaxis": "y"
        },
        {
         "hoverinfo": "text",
         "marker": {
          "color": "rgb(255,65,54)"
         },
         "mode": "lines",
         "type": "scatter",
         "x": [
          340.625,
          340.625,
          417.5,
          417.5
         ],
         "xaxis": "x",
         "y": [
          7.439024000600749,
          7.978207425733143,
          7.978207425733143,
          7.902230696245095
         ],
         "yaxis": "y"
        },
        {
         "hoverinfo": "text",
         "marker": {
          "color": "rgb(255,65,54)"
         },
         "mode": "lines",
         "type": "scatter",
         "x": [
          285,
          285,
          379.0625,
          379.0625
         ],
         "xaxis": "x",
         "y": [
          0,
          8.396567113325617,
          8.396567113325617,
          7.978207425733143
         ],
         "yaxis": "y"
        },
        {
         "hoverinfo": "text",
         "marker": {
          "color": "rgb(255,65,54)"
         },
         "mode": "lines",
         "type": "scatter",
         "x": [
          250.9375,
          250.9375,
          332.03125,
          332.03125
         ],
         "xaxis": "x",
         "y": [
          7.837361961679283,
          8.825782655161648,
          8.825782655161648,
          8.396567113325617
         ],
         "yaxis": "y"
        },
        {
         "hoverinfo": "text",
         "marker": {
          "color": "rgb(255,65,54)"
         },
         "mode": "lines",
         "type": "scatter",
         "x": [
          158.125,
          158.125,
          291.484375,
          291.484375
         ],
         "xaxis": "x",
         "y": [
          8.582665621376881,
          9.009724143611527,
          9.009724143611527,
          8.825782655161648
         ],
         "yaxis": "y"
        },
        {
         "hoverinfo": "text",
         "marker": {
          "color": "rgb(35,205,205)"
         },
         "mode": "lines",
         "type": "scatter",
         "x": [
          465,
          465,
          475,
          475
         ],
         "xaxis": "x",
         "y": [
          0,
          6.064111516209264,
          6.064111516209264,
          0
         ],
         "yaxis": "y"
        },
        {
         "hoverinfo": "text",
         "marker": {
          "color": "rgb(35,205,205)"
         },
         "mode": "lines",
         "type": "scatter",
         "x": [
          455,
          455,
          470,
          470
         ],
         "xaxis": "x",
         "y": [
          0,
          7.950460861215096,
          7.950460861215096,
          6.064111516209264
         ],
         "yaxis": "y"
        },
        {
         "hoverinfo": "text",
         "marker": {
          "color": "rgb(35,205,205)"
         },
         "mode": "lines",
         "type": "scatter",
         "x": [
          485,
          485,
          495,
          495
         ],
         "xaxis": "x",
         "y": [
          0,
          6.454445158624305,
          6.454445158624305,
          0
         ],
         "yaxis": "y"
        },
        {
         "hoverinfo": "text",
         "marker": {
          "color": "rgb(35,205,205)"
         },
         "mode": "lines",
         "type": "scatter",
         "x": [
          505,
          505,
          515,
          515
         ],
         "xaxis": "x",
         "y": [
          0,
          7.018731867402618,
          7.018731867402618,
          0
         ],
         "yaxis": "y"
        },
        {
         "hoverinfo": "text",
         "marker": {
          "color": "rgb(35,205,205)"
         },
         "mode": "lines",
         "type": "scatter",
         "x": [
          490,
          490,
          510,
          510
         ],
         "xaxis": "x",
         "y": [
          6.454445158624305,
          8.370968012393526,
          8.370968012393526,
          7.018731867402618
         ],
         "yaxis": "y"
        },
        {
         "hoverinfo": "text",
         "marker": {
          "color": "rgb(35,205,205)"
         },
         "mode": "lines",
         "type": "scatter",
         "x": [
          462.5,
          462.5,
          500,
          500
         ],
         "xaxis": "x",
         "y": [
          7.950460861215096,
          8.764924493175169,
          8.764924493175169,
          8.370968012393526
         ],
         "yaxis": "y"
        },
        {
         "hoverinfo": "text",
         "marker": {
          "color": "rgb(133,20,75)"
         },
         "mode": "lines",
         "type": "scatter",
         "x": [
          565,
          565,
          575,
          575
         ],
         "xaxis": "x",
         "y": [
          0,
          6.158097887418459,
          6.158097887418459,
          0
         ],
         "yaxis": "y"
        },
        {
         "hoverinfo": "text",
         "marker": {
          "color": "rgb(133,20,75)"
         },
         "mode": "lines",
         "type": "scatter",
         "x": [
          555,
          555,
          570,
          570
         ],
         "xaxis": "x",
         "y": [
          0,
          6.375149791463748,
          6.375149791463748,
          6.158097887418459
         ],
         "yaxis": "y"
        },
        {
         "hoverinfo": "text",
         "marker": {
          "color": "rgb(133,20,75)"
         },
         "mode": "lines",
         "type": "scatter",
         "x": [
          545,
          545,
          562.5,
          562.5
         ],
         "xaxis": "x",
         "y": [
          0,
          7.124838967863035,
          7.124838967863035,
          6.375149791463748
         ],
         "yaxis": "y"
        },
        {
         "hoverinfo": "text",
         "marker": {
          "color": "rgb(133,20,75)"
         },
         "mode": "lines",
         "type": "scatter",
         "x": [
          535,
          535,
          553.75,
          553.75
         ],
         "xaxis": "x",
         "y": [
          0,
          7.925810034439748,
          7.925810034439748,
          7.124838967863035
         ],
         "yaxis": "y"
        },
        {
         "hoverinfo": "text",
         "marker": {
          "color": "rgb(133,20,75)"
         },
         "mode": "lines",
         "type": "scatter",
         "x": [
          525,
          525,
          544.375,
          544.375
         ],
         "xaxis": "x",
         "y": [
          0,
          8.446123271712635,
          8.446123271712635,
          7.925810034439748
         ],
         "yaxis": "y"
        },
        {
         "hoverinfo": "text",
         "marker": {
          "color": "rgb(133,20,75)"
         },
         "mode": "lines",
         "type": "scatter",
         "x": [
          595,
          595,
          605,
          605
         ],
         "xaxis": "x",
         "y": [
          0,
          7.42205912295255,
          7.42205912295255,
          0
         ],
         "yaxis": "y"
        },
        {
         "hoverinfo": "text",
         "marker": {
          "color": "rgb(133,20,75)"
         },
         "mode": "lines",
         "type": "scatter",
         "x": [
          585,
          585,
          600,
          600
         ],
         "xaxis": "x",
         "y": [
          0,
          8.170997079383506,
          8.170997079383506,
          7.42205912295255
         ],
         "yaxis": "y"
        },
        {
         "hoverinfo": "text",
         "marker": {
          "color": "rgb(133,20,75)"
         },
         "mode": "lines",
         "type": "scatter",
         "x": [
          625,
          625,
          635,
          635
         ],
         "xaxis": "x",
         "y": [
          0,
          7.3250559954278796,
          7.3250559954278796,
          0
         ],
         "yaxis": "y"
        },
        {
         "hoverinfo": "text",
         "marker": {
          "color": "rgb(133,20,75)"
         },
         "mode": "lines",
         "type": "scatter",
         "x": [
          615,
          615,
          630,
          630
         ],
         "xaxis": "x",
         "y": [
          0,
          8.47707441781292,
          8.47707441781292,
          7.3250559954278796
         ],
         "yaxis": "y"
        },
        {
         "hoverinfo": "text",
         "marker": {
          "color": "rgb(133,20,75)"
         },
         "mode": "lines",
         "type": "scatter",
         "x": [
          592.5,
          592.5,
          622.5,
          622.5
         ],
         "xaxis": "x",
         "y": [
          8.170997079383506,
          8.862810946586855,
          8.862810946586855,
          8.47707441781292
         ],
         "yaxis": "y"
        },
        {
         "hoverinfo": "text",
         "marker": {
          "color": "rgb(133,20,75)"
         },
         "mode": "lines",
         "type": "scatter",
         "x": [
          534.6875,
          534.6875,
          607.5,
          607.5
         ],
         "xaxis": "x",
         "y": [
          8.446123271712635,
          9.077371017653537,
          9.077371017653537,
          8.862810946586855
         ],
         "yaxis": "y"
        },
        {
         "hoverinfo": "text",
         "marker": {
          "color": "rgb(0,116,217)"
         },
         "mode": "lines",
         "type": "scatter",
         "x": [
          481.25,
          481.25,
          571.09375,
          571.09375
         ],
         "xaxis": "x",
         "y": [
          8.764924493175169,
          9.290952261060381,
          9.290952261060381,
          9.077371017653537
         ],
         "yaxis": "y"
        },
        {
         "hoverinfo": "text",
         "marker": {
          "color": "rgb(0,116,217)"
         },
         "mode": "lines",
         "type": "scatter",
         "x": [
          224.8046875,
          224.8046875,
          526.171875,
          526.171875
         ],
         "xaxis": "x",
         "y": [
          9.009724143611527,
          9.353059786258891,
          9.353059786258891,
          9.290952261060381
         ],
         "yaxis": "y"
        },
        {
         "hoverinfo": "text",
         "marker": {
          "color": "rgb(255,220,0)"
         },
         "mode": "lines",
         "type": "scatter",
         "x": [
          665,
          665,
          675,
          675
         ],
         "xaxis": "x",
         "y": [
          0,
          5.933067765599914,
          5.933067765599914,
          0
         ],
         "yaxis": "y"
        },
        {
         "hoverinfo": "text",
         "marker": {
          "color": "rgb(255,220,0)"
         },
         "mode": "lines",
         "type": "scatter",
         "x": [
          655,
          655,
          670,
          670
         ],
         "xaxis": "x",
         "y": [
          0,
          8.087460814062592,
          8.087460814062592,
          5.933067765599914
         ],
         "yaxis": "y"
        },
        {
         "hoverinfo": "text",
         "marker": {
          "color": "rgb(255,220,0)"
         },
         "mode": "lines",
         "type": "scatter",
         "x": [
          715,
          715,
          725,
          725
         ],
         "xaxis": "x",
         "y": [
          0,
          6.950308336794758,
          6.950308336794758,
          0
         ],
         "yaxis": "y"
        },
        {
         "hoverinfo": "text",
         "marker": {
          "color": "rgb(255,220,0)"
         },
         "mode": "lines",
         "type": "scatter",
         "x": [
          705,
          705,
          720,
          720
         ],
         "xaxis": "x",
         "y": [
          0,
          7.556107815130714,
          7.556107815130714,
          6.950308336794758
         ],
         "yaxis": "y"
        },
        {
         "hoverinfo": "text",
         "marker": {
          "color": "rgb(255,220,0)"
         },
         "mode": "lines",
         "type": "scatter",
         "x": [
          695,
          695,
          712.5,
          712.5
         ],
         "xaxis": "x",
         "y": [
          0,
          7.786126995964155,
          7.786126995964155,
          7.556107815130714
         ],
         "yaxis": "y"
        },
        {
         "hoverinfo": "text",
         "marker": {
          "color": "rgb(255,220,0)"
         },
         "mode": "lines",
         "type": "scatter",
         "x": [
          685,
          685,
          703.75,
          703.75
         ],
         "xaxis": "x",
         "y": [
          0,
          8.506632311028628,
          8.506632311028628,
          7.786126995964155
         ],
         "yaxis": "y"
        },
        {
         "hoverinfo": "text",
         "marker": {
          "color": "rgb(255,220,0)"
         },
         "mode": "lines",
         "type": "scatter",
         "x": [
          662.5,
          662.5,
          694.375,
          694.375
         ],
         "xaxis": "x",
         "y": [
          8.087460814062592,
          8.98421557984739,
          8.98421557984739,
          8.506632311028628
         ],
         "yaxis": "y"
        },
        {
         "hoverinfo": "text",
         "marker": {
          "color": "rgb(40,35,35)"
         },
         "mode": "lines",
         "type": "scatter",
         "x": [
          755,
          755,
          765,
          765
         ],
         "xaxis": "x",
         "y": [
          0,
          6.118760719113778,
          6.118760719113778,
          0
         ],
         "yaxis": "y"
        },
        {
         "hoverinfo": "text",
         "marker": {
          "color": "rgb(40,35,35)"
         },
         "mode": "lines",
         "type": "scatter",
         "x": [
          745,
          745,
          760,
          760
         ],
         "xaxis": "x",
         "y": [
          0,
          6.3537436822415785,
          6.3537436822415785,
          6.118760719113778
         ],
         "yaxis": "y"
        },
        {
         "hoverinfo": "text",
         "marker": {
          "color": "rgb(40,35,35)"
         },
         "mode": "lines",
         "type": "scatter",
         "x": [
          735,
          735,
          752.5,
          752.5
         ],
         "xaxis": "x",
         "y": [
          0,
          6.9932279913354,
          6.9932279913354,
          6.3537436822415785
         ],
         "yaxis": "y"
        },
        {
         "hoverinfo": "text",
         "marker": {
          "color": "rgb(40,35,35)"
         },
         "mode": "lines",
         "type": "scatter",
         "x": [
          785,
          785,
          795,
          795
         ],
         "xaxis": "x",
         "y": [
          0,
          6.352345343250467,
          6.352345343250467,
          0
         ],
         "yaxis": "y"
        },
        {
         "hoverinfo": "text",
         "marker": {
          "color": "rgb(40,35,35)"
         },
         "mode": "lines",
         "type": "scatter",
         "x": [
          775,
          775,
          790,
          790
         ],
         "xaxis": "x",
         "y": [
          0,
          7.46806228436681,
          7.46806228436681,
          6.352345343250467
         ],
         "yaxis": "y"
        },
        {
         "hoverinfo": "text",
         "marker": {
          "color": "rgb(40,35,35)"
         },
         "mode": "lines",
         "type": "scatter",
         "x": [
          743.75,
          743.75,
          782.5,
          782.5
         ],
         "xaxis": "x",
         "y": [
          6.9932279913354,
          8.26574620379051,
          8.26574620379051,
          7.46806228436681
         ],
         "yaxis": "y"
        },
        {
         "hoverinfo": "text",
         "marker": {
          "color": "rgb(40,35,35)"
         },
         "mode": "lines",
         "type": "scatter",
         "x": [
          815,
          815,
          825,
          825
         ],
         "xaxis": "x",
         "y": [
          0,
          7.5824429872728585,
          7.5824429872728585,
          0
         ],
         "yaxis": "y"
        },
        {
         "hoverinfo": "text",
         "marker": {
          "color": "rgb(40,35,35)"
         },
         "mode": "lines",
         "type": "scatter",
         "x": [
          805,
          805,
          820,
          820
         ],
         "xaxis": "x",
         "y": [
          0,
          8.402590335998617,
          8.402590335998617,
          7.5824429872728585
         ],
         "yaxis": "y"
        },
        {
         "hoverinfo": "text",
         "marker": {
          "color": "rgb(40,35,35)"
         },
         "mode": "lines",
         "type": "scatter",
         "x": [
          763.125,
          763.125,
          812.5,
          812.5
         ],
         "xaxis": "x",
         "y": [
          8.26574620379051,
          8.756883353279044,
          8.756883353279044,
          8.402590335998617
         ],
         "yaxis": "y"
        },
        {
         "hoverinfo": "text",
         "marker": {
          "color": "rgb(61,153,112)"
         },
         "mode": "lines",
         "type": "scatter",
         "x": [
          835,
          835,
          845,
          845
         ],
         "xaxis": "x",
         "y": [
          0,
          6.13879045029043,
          6.13879045029043,
          0
         ],
         "yaxis": "y"
        },
        {
         "hoverinfo": "text",
         "marker": {
          "color": "rgb(61,153,112)"
         },
         "mode": "lines",
         "type": "scatter",
         "x": [
          855,
          855,
          865,
          865
         ],
         "xaxis": "x",
         "y": [
          0,
          6.467088301852725,
          6.467088301852725,
          0
         ],
         "yaxis": "y"
        },
        {
         "hoverinfo": "text",
         "marker": {
          "color": "rgb(61,153,112)"
         },
         "mode": "lines",
         "type": "scatter",
         "x": [
          840,
          840,
          860,
          860
         ],
         "xaxis": "x",
         "y": [
          6.13879045029043,
          7.156251587284107,
          7.156251587284107,
          6.467088301852725
         ],
         "yaxis": "y"
        },
        {
         "hoverinfo": "text",
         "marker": {
          "color": "rgb(61,153,112)"
         },
         "mode": "lines",
         "type": "scatter",
         "x": [
          885,
          885,
          895,
          895
         ],
         "xaxis": "x",
         "y": [
          0,
          6.516945039643116,
          6.516945039643116,
          0
         ],
         "yaxis": "y"
        },
        {
         "hoverinfo": "text",
         "marker": {
          "color": "rgb(61,153,112)"
         },
         "mode": "lines",
         "type": "scatter",
         "x": [
          875,
          875,
          890,
          890
         ],
         "xaxis": "x",
         "y": [
          0,
          7.367849021045905,
          7.367849021045905,
          6.516945039643116
         ],
         "yaxis": "y"
        },
        {
         "hoverinfo": "text",
         "marker": {
          "color": "rgb(61,153,112)"
         },
         "mode": "lines",
         "type": "scatter",
         "x": [
          850,
          850,
          882.5,
          882.5
         ],
         "xaxis": "x",
         "y": [
          7.156251587284107,
          7.771845884705558,
          7.771845884705558,
          7.367849021045905
         ],
         "yaxis": "y"
        },
        {
         "hoverinfo": "text",
         "marker": {
          "color": "rgb(61,153,112)"
         },
         "mode": "lines",
         "type": "scatter",
         "x": [
          905,
          905,
          915,
          915
         ],
         "xaxis": "x",
         "y": [
          0,
          5.433362492355711,
          5.433362492355711,
          0
         ],
         "yaxis": "y"
        },
        {
         "hoverinfo": "text",
         "marker": {
          "color": "rgb(61,153,112)"
         },
         "mode": "lines",
         "type": "scatter",
         "x": [
          925,
          925,
          935,
          935
         ],
         "xaxis": "x",
         "y": [
          0,
          5.582817548679754,
          5.582817548679754,
          0
         ],
         "yaxis": "y"
        },
        {
         "hoverinfo": "text",
         "marker": {
          "color": "rgb(61,153,112)"
         },
         "mode": "lines",
         "type": "scatter",
         "x": [
          910,
          910,
          930,
          930
         ],
         "xaxis": "x",
         "y": [
          5.433362492355711,
          6.577330371231938,
          6.577330371231938,
          5.582817548679754
         ],
         "yaxis": "y"
        },
        {
         "hoverinfo": "text",
         "marker": {
          "color": "rgb(61,153,112)"
         },
         "mode": "lines",
         "type": "scatter",
         "x": [
          965,
          965,
          975,
          975
         ],
         "xaxis": "x",
         "y": [
          0,
          5.167005806914565,
          5.167005806914565,
          0
         ],
         "yaxis": "y"
        },
        {
         "hoverinfo": "text",
         "marker": {
          "color": "rgb(61,153,112)"
         },
         "mode": "lines",
         "type": "scatter",
         "x": [
          955,
          955,
          970,
          970
         ],
         "xaxis": "x",
         "y": [
          0,
          5.702805496173619,
          5.702805496173619,
          5.167005806914565
         ],
         "yaxis": "y"
        },
        {
         "hoverinfo": "text",
         "marker": {
          "color": "rgb(61,153,112)"
         },
         "mode": "lines",
         "type": "scatter",
         "x": [
          945,
          945,
          962.5,
          962.5
         ],
         "xaxis": "x",
         "y": [
          0,
          6.115021926086967,
          6.115021926086967,
          5.702805496173619
         ],
         "yaxis": "y"
        },
        {
         "hoverinfo": "text",
         "marker": {
          "color": "rgb(61,153,112)"
         },
         "mode": "lines",
         "type": "scatter",
         "x": [
          985,
          985,
          995,
          995
         ],
         "xaxis": "x",
         "y": [
          0,
          6.537228302670202,
          6.537228302670202,
          0
         ],
         "yaxis": "y"
        },
        {
         "hoverinfo": "text",
         "marker": {
          "color": "rgb(61,153,112)"
         },
         "mode": "lines",
         "type": "scatter",
         "x": [
          953.75,
          953.75,
          990,
          990
         ],
         "xaxis": "x",
         "y": [
          6.115021926086967,
          7.221630156078871,
          7.221630156078871,
          6.537228302670202
         ],
         "yaxis": "y"
        },
        {
         "hoverinfo": "text",
         "marker": {
          "color": "rgb(61,153,112)"
         },
         "mode": "lines",
         "type": "scatter",
         "x": [
          920,
          920,
          971.875,
          971.875
         ],
         "xaxis": "x",
         "y": [
          6.577330371231938,
          7.877630386755786,
          7.877630386755786,
          7.221630156078871
         ],
         "yaxis": "y"
        },
        {
         "hoverinfo": "text",
         "marker": {
          "color": "rgb(61,153,112)"
         },
         "mode": "lines",
         "type": "scatter",
         "x": [
          866.25,
          866.25,
          945.9375,
          945.9375
         ],
         "xaxis": "x",
         "y": [
          7.771845884705558,
          8.253536162857907,
          8.253536162857907,
          7.877630386755786
         ],
         "yaxis": "y"
        },
        {
         "hoverinfo": "text",
         "marker": {
          "color": "rgb(61,153,112)"
         },
         "mode": "lines",
         "type": "scatter",
         "x": [
          1005,
          1005,
          1015,
          1015
         ],
         "xaxis": "x",
         "y": [
          0,
          6.761546563085731,
          6.761546563085731,
          0
         ],
         "yaxis": "y"
        },
        {
         "hoverinfo": "text",
         "marker": {
          "color": "rgb(61,153,112)"
         },
         "mode": "lines",
         "type": "scatter",
         "x": [
          1025,
          1025,
          1035,
          1035
         ],
         "xaxis": "x",
         "y": [
          0,
          7.822725778881073,
          7.822725778881073,
          0
         ],
         "yaxis": "y"
        },
        {
         "hoverinfo": "text",
         "marker": {
          "color": "rgb(61,153,112)"
         },
         "mode": "lines",
         "type": "scatter",
         "x": [
          1010,
          1010,
          1030,
          1030
         ],
         "xaxis": "x",
         "y": [
          6.761546563085731,
          8.331381410841832,
          8.331381410841832,
          7.822725778881073
         ],
         "yaxis": "y"
        },
        {
         "hoverinfo": "text",
         "marker": {
          "color": "rgb(61,153,112)"
         },
         "mode": "lines",
         "type": "scatter",
         "x": [
          906.09375,
          906.09375,
          1020,
          1020
         ],
         "xaxis": "x",
         "y": [
          8.253536162857907,
          8.685258970163604,
          8.685258970163604,
          8.331381410841832
         ],
         "yaxis": "y"
        },
        {
         "hoverinfo": "text",
         "marker": {
          "color": "rgb(255,65,54)"
         },
         "mode": "lines",
         "type": "scatter",
         "x": [
          1045,
          1045,
          1055,
          1055
         ],
         "xaxis": "x",
         "y": [
          0,
          7.225958700422112,
          7.225958700422112,
          0
         ],
         "yaxis": "y"
        },
        {
         "hoverinfo": "text",
         "marker": {
          "color": "rgb(255,65,54)"
         },
         "mode": "lines",
         "type": "scatter",
         "x": [
          1075,
          1075,
          1085,
          1085
         ],
         "xaxis": "x",
         "y": [
          0,
          6.186812175148887,
          6.186812175148887,
          0
         ],
         "yaxis": "y"
        },
        {
         "hoverinfo": "text",
         "marker": {
          "color": "rgb(255,65,54)"
         },
         "mode": "lines",
         "type": "scatter",
         "x": [
          1095,
          1095,
          1105,
          1105
         ],
         "xaxis": "x",
         "y": [
          0,
          6.189336560959054,
          6.189336560959054,
          0
         ],
         "yaxis": "y"
        },
        {
         "hoverinfo": "text",
         "marker": {
          "color": "rgb(255,65,54)"
         },
         "mode": "lines",
         "type": "scatter",
         "x": [
          1080,
          1080,
          1100,
          1100
         ],
         "xaxis": "x",
         "y": [
          6.186812175148887,
          6.868640915893088,
          6.868640915893088,
          6.189336560959054
         ],
         "yaxis": "y"
        },
        {
         "hoverinfo": "text",
         "marker": {
          "color": "rgb(255,65,54)"
         },
         "mode": "lines",
         "type": "scatter",
         "x": [
          1065,
          1065,
          1090,
          1090
         ],
         "xaxis": "x",
         "y": [
          0,
          7.306451264222574,
          7.306451264222574,
          6.868640915893088
         ],
         "yaxis": "y"
        },
        {
         "hoverinfo": "text",
         "marker": {
          "color": "rgb(255,65,54)"
         },
         "mode": "lines",
         "type": "scatter",
         "x": [
          1125,
          1125,
          1135,
          1135
         ],
         "xaxis": "x",
         "y": [
          0,
          6.686638294874985,
          6.686638294874985,
          0
         ],
         "yaxis": "y"
        },
        {
         "hoverinfo": "text",
         "marker": {
          "color": "rgb(255,65,54)"
         },
         "mode": "lines",
         "type": "scatter",
         "x": [
          1115,
          1115,
          1130,
          1130
         ],
         "xaxis": "x",
         "y": [
          0,
          7.477665251512646,
          7.477665251512646,
          6.686638294874985
         ],
         "yaxis": "y"
        },
        {
         "hoverinfo": "text",
         "marker": {
          "color": "rgb(255,65,54)"
         },
         "mode": "lines",
         "type": "scatter",
         "x": [
          1077.5,
          1077.5,
          1122.5,
          1122.5
         ],
         "xaxis": "x",
         "y": [
          7.306451264222574,
          7.769109362834478,
          7.769109362834478,
          7.477665251512646
         ],
         "yaxis": "y"
        },
        {
         "hoverinfo": "text",
         "marker": {
          "color": "rgb(255,65,54)"
         },
         "mode": "lines",
         "type": "scatter",
         "x": [
          1050,
          1050,
          1100,
          1100
         ],
         "xaxis": "x",
         "y": [
          7.225958700422112,
          8.148329440500508,
          8.148329440500508,
          7.769109362834478
         ],
         "yaxis": "y"
        },
        {
         "hoverinfo": "text",
         "marker": {
          "color": "rgb(255,65,54)"
         },
         "mode": "lines",
         "type": "scatter",
         "x": [
          1155,
          1155,
          1165,
          1165
         ],
         "xaxis": "x",
         "y": [
          0,
          6.301273172187146,
          6.301273172187146,
          0
         ],
         "yaxis": "y"
        },
        {
         "hoverinfo": "text",
         "marker": {
          "color": "rgb(255,65,54)"
         },
         "mode": "lines",
         "type": "scatter",
         "x": [
          1175,
          1175,
          1185,
          1185
         ],
         "xaxis": "x",
         "y": [
          0,
          6.390969271723506,
          6.390969271723506,
          0
         ],
         "yaxis": "y"
        },
        {
         "hoverinfo": "text",
         "marker": {
          "color": "rgb(255,65,54)"
         },
         "mode": "lines",
         "type": "scatter",
         "x": [
          1160,
          1160,
          1180,
          1180
         ],
         "xaxis": "x",
         "y": [
          6.301273172187146,
          7.1329790025026005,
          7.1329790025026005,
          6.390969271723506
         ],
         "yaxis": "y"
        },
        {
         "hoverinfo": "text",
         "marker": {
          "color": "rgb(255,65,54)"
         },
         "mode": "lines",
         "type": "scatter",
         "x": [
          1145,
          1145,
          1170,
          1170
         ],
         "xaxis": "x",
         "y": [
          0,
          7.695814552445606,
          7.695814552445606,
          7.1329790025026005
         ],
         "yaxis": "y"
        },
        {
         "hoverinfo": "text",
         "marker": {
          "color": "rgb(255,65,54)"
         },
         "mode": "lines",
         "type": "scatter",
         "x": [
          1195,
          1195,
          1205,
          1205
         ],
         "xaxis": "x",
         "y": [
          0,
          6.094601207781587,
          6.094601207781587,
          0
         ],
         "yaxis": "y"
        },
        {
         "hoverinfo": "text",
         "marker": {
          "color": "rgb(255,65,54)"
         },
         "mode": "lines",
         "type": "scatter",
         "x": [
          1225,
          1225,
          1235,
          1235
         ],
         "xaxis": "x",
         "y": [
          0,
          6.186002527135236,
          6.186002527135236,
          0
         ],
         "yaxis": "y"
        },
        {
         "hoverinfo": "text",
         "marker": {
          "color": "rgb(255,65,54)"
         },
         "mode": "lines",
         "type": "scatter",
         "x": [
          1215,
          1215,
          1230,
          1230
         ],
         "xaxis": "x",
         "y": [
          0,
          6.535496005419421,
          6.535496005419421,
          6.186002527135236
         ],
         "yaxis": "y"
        },
        {
         "hoverinfo": "text",
         "marker": {
          "color": "rgb(255,65,54)"
         },
         "mode": "lines",
         "type": "scatter",
         "x": [
          1200,
          1200,
          1222.5,
          1222.5
         ],
         "xaxis": "x",
         "y": [
          6.094601207781587,
          7.424459851671713,
          7.424459851671713,
          6.535496005419421
         ],
         "yaxis": "y"
        },
        {
         "hoverinfo": "text",
         "marker": {
          "color": "rgb(255,65,54)"
         },
         "mode": "lines",
         "type": "scatter",
         "x": [
          1245,
          1245,
          1255,
          1255
         ],
         "xaxis": "x",
         "y": [
          0,
          6.322035580722838,
          6.322035580722838,
          0
         ],
         "yaxis": "y"
        },
        {
         "hoverinfo": "text",
         "marker": {
          "color": "rgb(255,65,54)"
         },
         "mode": "lines",
         "type": "scatter",
         "x": [
          1275,
          1275,
          1285,
          1285
         ],
         "xaxis": "x",
         "y": [
          0,
          6.404486592747604,
          6.404486592747604,
          0
         ],
         "yaxis": "y"
        },
        {
         "hoverinfo": "text",
         "marker": {
          "color": "rgb(255,65,54)"
         },
         "mode": "lines",
         "type": "scatter",
         "x": [
          1265,
          1265,
          1280,
          1280
         ],
         "xaxis": "x",
         "y": [
          0,
          7.085914660009358,
          7.085914660009358,
          6.404486592747604
         ],
         "yaxis": "y"
        },
        {
         "hoverinfo": "text",
         "marker": {
          "color": "rgb(255,65,54)"
         },
         "mode": "lines",
         "type": "scatter",
         "x": [
          1250,
          1250,
          1272.5,
          1272.5
         ],
         "xaxis": "x",
         "y": [
          6.322035580722838,
          7.35287946183056,
          7.35287946183056,
          7.085914660009358
         ],
         "yaxis": "y"
        },
        {
         "hoverinfo": "text",
         "marker": {
          "color": "rgb(255,65,54)"
         },
         "mode": "lines",
         "type": "scatter",
         "x": [
          1305,
          1305,
          1315,
          1315
         ],
         "xaxis": "x",
         "y": [
          0,
          5.238767628312305,
          5.238767628312305,
          0
         ],
         "yaxis": "y"
        },
        {
         "hoverinfo": "text",
         "marker": {
          "color": "rgb(255,65,54)"
         },
         "mode": "lines",
         "type": "scatter",
         "x": [
          1295,
          1295,
          1310,
          1310
         ],
         "xaxis": "x",
         "y": [
          0,
          6.800999039052948,
          6.800999039052948,
          5.238767628312305
         ],
         "yaxis": "y"
        },
        {
         "hoverinfo": "text",
         "marker": {
          "color": "rgb(255,65,54)"
         },
         "mode": "lines",
         "type": "scatter",
         "x": [
          1325,
          1325,
          1335,
          1335
         ],
         "xaxis": "x",
         "y": [
          0,
          6.004254997729834,
          6.004254997729834,
          0
         ],
         "yaxis": "y"
        },
        {
         "hoverinfo": "text",
         "marker": {
          "color": "rgb(255,65,54)"
         },
         "mode": "lines",
         "type": "scatter",
         "x": [
          1345,
          1345,
          1355,
          1355
         ],
         "xaxis": "x",
         "y": [
          0,
          6.197529747936563,
          6.197529747936563,
          0
         ],
         "yaxis": "y"
        },
        {
         "hoverinfo": "text",
         "marker": {
          "color": "rgb(255,65,54)"
         },
         "mode": "lines",
         "type": "scatter",
         "x": [
          1330,
          1330,
          1350,
          1350
         ],
         "xaxis": "x",
         "y": [
          6.004254997729834,
          7.2117889127849155,
          7.2117889127849155,
          6.197529747936563
         ],
         "yaxis": "y"
        },
        {
         "hoverinfo": "text",
         "marker": {
          "color": "rgb(255,65,54)"
         },
         "mode": "lines",
         "type": "scatter",
         "x": [
          1302.5,
          1302.5,
          1340,
          1340
         ],
         "xaxis": "x",
         "y": [
          6.800999039052948,
          7.7400706234227235,
          7.7400706234227235,
          7.2117889127849155
         ],
         "yaxis": "y"
        },
        {
         "hoverinfo": "text",
         "marker": {
          "color": "rgb(255,65,54)"
         },
         "mode": "lines",
         "type": "scatter",
         "x": [
          1261.25,
          1261.25,
          1321.25,
          1321.25
         ],
         "xaxis": "x",
         "y": [
          7.35287946183056,
          7.8915080841285565,
          7.8915080841285565,
          7.7400706234227235
         ],
         "yaxis": "y"
        },
        {
         "hoverinfo": "text",
         "marker": {
          "color": "rgb(255,65,54)"
         },
         "mode": "lines",
         "type": "scatter",
         "x": [
          1211.25,
          1211.25,
          1291.25,
          1291.25
         ],
         "xaxis": "x",
         "y": [
          7.424459851671713,
          7.968908771516982,
          7.968908771516982,
          7.8915080841285565
         ],
         "yaxis": "y"
        },
        {
         "hoverinfo": "text",
         "marker": {
          "color": "rgb(255,65,54)"
         },
         "mode": "lines",
         "type": "scatter",
         "x": [
          1157.5,
          1157.5,
          1251.25,
          1251.25
         ],
         "xaxis": "x",
         "y": [
          7.695814552445606,
          8.449297003572024,
          8.449297003572024,
          7.968908771516982
         ],
         "yaxis": "y"
        },
        {
         "hoverinfo": "text",
         "marker": {
          "color": "rgb(255,65,54)"
         },
         "mode": "lines",
         "type": "scatter",
         "x": [
          1075,
          1075,
          1204.375,
          1204.375
         ],
         "xaxis": "x",
         "y": [
          8.148329440500508,
          8.486216170085378,
          8.486216170085378,
          8.449297003572024
         ],
         "yaxis": "y"
        },
        {
         "hoverinfo": "text",
         "marker": {
          "color": "rgb(255,65,54)"
         },
         "mode": "lines",
         "type": "scatter",
         "x": [
          1365,
          1365,
          1375,
          1375
         ],
         "xaxis": "x",
         "y": [
          0,
          6.755667731630233,
          6.755667731630233,
          0
         ],
         "yaxis": "y"
        },
        {
         "hoverinfo": "text",
         "marker": {
          "color": "rgb(255,65,54)"
         },
         "mode": "lines",
         "type": "scatter",
         "x": [
          1385,
          1385,
          1395,
          1395
         ],
         "xaxis": "x",
         "y": [
          0,
          5.782606986490787,
          5.782606986490787,
          0
         ],
         "yaxis": "y"
        },
        {
         "hoverinfo": "text",
         "marker": {
          "color": "rgb(255,65,54)"
         },
         "mode": "lines",
         "type": "scatter",
         "x": [
          1405,
          1405,
          1415,
          1415
         ],
         "xaxis": "x",
         "y": [
          0,
          6.157249503184048,
          6.157249503184048,
          0
         ],
         "yaxis": "y"
        },
        {
         "hoverinfo": "text",
         "marker": {
          "color": "rgb(255,65,54)"
         },
         "mode": "lines",
         "type": "scatter",
         "x": [
          1390,
          1390,
          1410,
          1410
         ],
         "xaxis": "x",
         "y": [
          5.782606986490787,
          7.183274945493852,
          7.183274945493852,
          6.157249503184048
         ],
         "yaxis": "y"
        },
        {
         "hoverinfo": "text",
         "marker": {
          "color": "rgb(255,65,54)"
         },
         "mode": "lines",
         "type": "scatter",
         "x": [
          1370,
          1370,
          1400,
          1400
         ],
         "xaxis": "x",
         "y": [
          6.755667731630233,
          7.596710501797971,
          7.596710501797971,
          7.183274945493852
         ],
         "yaxis": "y"
        },
        {
         "hoverinfo": "text",
         "marker": {
          "color": "rgb(255,65,54)"
         },
         "mode": "lines",
         "type": "scatter",
         "x": [
          1425,
          1425,
          1435,
          1435
         ],
         "xaxis": "x",
         "y": [
          0,
          6.167276551350689,
          6.167276551350689,
          0
         ],
         "yaxis": "y"
        },
        {
         "hoverinfo": "text",
         "marker": {
          "color": "rgb(255,65,54)"
         },
         "mode": "lines",
         "type": "scatter",
         "x": [
          1445,
          1445,
          1455,
          1455
         ],
         "xaxis": "x",
         "y": [
          0,
          7.062521065084401,
          7.062521065084401,
          0
         ],
         "yaxis": "y"
        },
        {
         "hoverinfo": "text",
         "marker": {
          "color": "rgb(255,65,54)"
         },
         "mode": "lines",
         "type": "scatter",
         "x": [
          1430,
          1430,
          1450,
          1450
         ],
         "xaxis": "x",
         "y": [
          6.167276551350689,
          8.013355212434819,
          8.013355212434819,
          7.062521065084401
         ],
         "yaxis": "y"
        },
        {
         "hoverinfo": "text",
         "marker": {
          "color": "rgb(255,65,54)"
         },
         "mode": "lines",
         "type": "scatter",
         "x": [
          1385,
          1385,
          1440,
          1440
         ],
         "xaxis": "x",
         "y": [
          7.596710501797971,
          8.559538986130008,
          8.559538986130008,
          8.013355212434819
         ],
         "yaxis": "y"
        },
        {
         "hoverinfo": "text",
         "marker": {
          "color": "rgb(255,65,54)"
         },
         "mode": "lines",
         "type": "scatter",
         "x": [
          1465,
          1465,
          1475,
          1475
         ],
         "xaxis": "x",
         "y": [
          0,
          6.003637306756656,
          6.003637306756656,
          0
         ],
         "yaxis": "y"
        },
        {
         "hoverinfo": "text",
         "marker": {
          "color": "rgb(255,65,54)"
         },
         "mode": "lines",
         "type": "scatter",
         "x": [
          1505,
          1505,
          1515,
          1515
         ],
         "xaxis": "x",
         "y": [
          0,
          6.192840901075916,
          6.192840901075916,
          0
         ],
         "yaxis": "y"
        },
        {
         "hoverinfo": "text",
         "marker": {
          "color": "rgb(255,65,54)"
         },
         "mode": "lines",
         "type": "scatter",
         "x": [
          1495,
          1495,
          1510,
          1510
         ],
         "xaxis": "x",
         "y": [
          0,
          6.455066241085103,
          6.455066241085103,
          6.192840901075916
         ],
         "yaxis": "y"
        },
        {
         "hoverinfo": "text",
         "marker": {
          "color": "rgb(255,65,54)"
         },
         "mode": "lines",
         "type": "scatter",
         "x": [
          1485,
          1485,
          1502.5,
          1502.5
         ],
         "xaxis": "x",
         "y": [
          0,
          6.910350800536689,
          6.910350800536689,
          6.455066241085103
         ],
         "yaxis": "y"
        },
        {
         "hoverinfo": "text",
         "marker": {
          "color": "rgb(255,65,54)"
         },
         "mode": "lines",
         "type": "scatter",
         "x": [
          1525,
          1525,
          1535,
          1535
         ],
         "xaxis": "x",
         "y": [
          0,
          5.777872998599355,
          5.777872998599355,
          0
         ],
         "yaxis": "y"
        },
        {
         "hoverinfo": "text",
         "marker": {
          "color": "rgb(255,65,54)"
         },
         "mode": "lines",
         "type": "scatter",
         "x": [
          1545,
          1545,
          1555,
          1555
         ],
         "xaxis": "x",
         "y": [
          0,
          6.493647615410747,
          6.493647615410747,
          0
         ],
         "yaxis": "y"
        },
        {
         "hoverinfo": "text",
         "marker": {
          "color": "rgb(255,65,54)"
         },
         "mode": "lines",
         "type": "scatter",
         "x": [
          1530,
          1530,
          1550,
          1550
         ],
         "xaxis": "x",
         "y": [
          5.777872998599355,
          7.218514763813616,
          7.218514763813616,
          6.493647615410747
         ],
         "yaxis": "y"
        },
        {
         "hoverinfo": "text",
         "marker": {
          "color": "rgb(255,65,54)"
         },
         "mode": "lines",
         "type": "scatter",
         "x": [
          1493.75,
          1493.75,
          1540,
          1540
         ],
         "xaxis": "x",
         "y": [
          6.910350800536689,
          7.715619807426052,
          7.715619807426052,
          7.218514763813616
         ],
         "yaxis": "y"
        },
        {
         "hoverinfo": "text",
         "marker": {
          "color": "rgb(255,65,54)"
         },
         "mode": "lines",
         "type": "scatter",
         "x": [
          1470,
          1470,
          1516.875,
          1516.875
         ],
         "xaxis": "x",
         "y": [
          6.003637306756656,
          8.101419754396971,
          8.101419754396971,
          7.715619807426052
         ],
         "yaxis": "y"
        },
        {
         "hoverinfo": "text",
         "marker": {
          "color": "rgb(255,65,54)"
         },
         "mode": "lines",
         "type": "scatter",
         "x": [
          1585,
          1585,
          1595,
          1595
         ],
         "xaxis": "x",
         "y": [
          0,
          6.605206559339199,
          6.605206559339199,
          0
         ],
         "yaxis": "y"
        },
        {
         "hoverinfo": "text",
         "marker": {
          "color": "rgb(255,65,54)"
         },
         "mode": "lines",
         "type": "scatter",
         "x": [
          1575,
          1575,
          1590,
          1590
         ],
         "xaxis": "x",
         "y": [
          0,
          7.1617472871110355,
          7.1617472871110355,
          6.605206559339199
         ],
         "yaxis": "y"
        },
        {
         "hoverinfo": "text",
         "marker": {
          "color": "rgb(255,65,54)"
         },
         "mode": "lines",
         "type": "scatter",
         "x": [
          1565,
          1565,
          1582.5,
          1582.5
         ],
         "xaxis": "x",
         "y": [
          0,
          7.292978661478296,
          7.292978661478296,
          7.1617472871110355
         ],
         "yaxis": "y"
        },
        {
         "hoverinfo": "text",
         "marker": {
          "color": "rgb(255,65,54)"
         },
         "mode": "lines",
         "type": "scatter",
         "x": [
          1615,
          1615,
          1625,
          1625
         ],
         "xaxis": "x",
         "y": [
          0,
          7.0893842900480815,
          7.0893842900480815,
          0
         ],
         "yaxis": "y"
        },
        {
         "hoverinfo": "text",
         "marker": {
          "color": "rgb(255,65,54)"
         },
         "mode": "lines",
         "type": "scatter",
         "x": [
          1605,
          1605,
          1620,
          1620
         ],
         "xaxis": "x",
         "y": [
          0,
          7.935119642888212,
          7.935119642888212,
          7.0893842900480815
         ],
         "yaxis": "y"
        },
        {
         "hoverinfo": "text",
         "marker": {
          "color": "rgb(255,65,54)"
         },
         "mode": "lines",
         "type": "scatter",
         "x": [
          1573.75,
          1573.75,
          1612.5,
          1612.5
         ],
         "xaxis": "x",
         "y": [
          7.292978661478296,
          8.308600078416747,
          8.308600078416747,
          7.935119642888212
         ],
         "yaxis": "y"
        },
        {
         "hoverinfo": "text",
         "marker": {
          "color": "rgb(255,65,54)"
         },
         "mode": "lines",
         "type": "scatter",
         "x": [
          1493.4375,
          1493.4375,
          1593.125,
          1593.125
         ],
         "xaxis": "x",
         "y": [
          8.101419754396971,
          8.759368604031025,
          8.759368604031025,
          8.308600078416747
         ],
         "yaxis": "y"
        },
        {
         "hoverinfo": "text",
         "marker": {
          "color": "rgb(255,65,54)"
         },
         "mode": "lines",
         "type": "scatter",
         "x": [
          1412.5,
          1412.5,
          1543.28125,
          1543.28125
         ],
         "xaxis": "x",
         "y": [
          8.559538986130008,
          8.8982972940785,
          8.8982972940785,
          8.759368604031025
         ],
         "yaxis": "y"
        },
        {
         "hoverinfo": "text",
         "marker": {
          "color": "rgb(255,65,54)"
         },
         "mode": "lines",
         "type": "scatter",
         "x": [
          1139.6875,
          1139.6875,
          1477.890625,
          1477.890625
         ],
         "xaxis": "x",
         "y": [
          8.486216170085378,
          8.98511818022492,
          8.98511818022492,
          8.8982972940785
         ],
         "yaxis": "y"
        },
        {
         "hoverinfo": "text",
         "marker": {
          "color": "rgb(0,116,217)"
         },
         "mode": "lines",
         "type": "scatter",
         "x": [
          963.046875,
          963.046875,
          1308.7890625,
          1308.7890625
         ],
         "xaxis": "x",
         "y": [
          8.685258970163604,
          9.149309722372928,
          9.149309722372928,
          8.98511818022492
         ],
         "yaxis": "y"
        },
        {
         "hoverinfo": "text",
         "marker": {
          "color": "rgb(0,116,217)"
         },
         "mode": "lines",
         "type": "scatter",
         "x": [
          787.8125,
          787.8125,
          1135.91796875,
          1135.91796875
         ],
         "xaxis": "x",
         "y": [
          8.756883353279044,
          9.247481245683579,
          9.247481245683579,
          9.149309722372928
         ],
         "yaxis": "y"
        },
        {
         "hoverinfo": "text",
         "marker": {
          "color": "rgb(0,116,217)"
         },
         "mode": "lines",
         "type": "scatter",
         "x": [
          678.4375,
          678.4375,
          961.865234375,
          961.865234375
         ],
         "xaxis": "x",
         "y": [
          8.98421557984739,
          9.570994741028416,
          9.570994741028416,
          9.247481245683579
         ],
         "yaxis": "y"
        },
        {
         "hoverinfo": "text",
         "marker": {
          "color": "rgb(0,116,217)"
         },
         "mode": "lines",
         "type": "scatter",
         "x": [
          645,
          645,
          820.1513671875,
          820.1513671875
         ],
         "xaxis": "x",
         "y": [
          0,
          9.702949469384272,
          9.702949469384272,
          9.570994741028416
         ],
         "yaxis": "y"
        },
        {
         "hoverinfo": "text",
         "marker": {
          "color": "rgb(0,116,217)"
         },
         "mode": "lines",
         "type": "scatter",
         "x": [
          375.48828125,
          375.48828125,
          732.57568359375,
          732.57568359375
         ],
         "xaxis": "x",
         "y": [
          9.353059786258891,
          9.806477477667444,
          9.806477477667444,
          9.702949469384272
         ],
         "yaxis": "y"
        },
        {
         "hoverinfo": "text",
         "marker": {
          "color": "rgb(35,205,205)"
         },
         "mode": "lines",
         "type": "scatter",
         "x": [
          1685,
          1685,
          1695,
          1695
         ],
         "xaxis": "x",
         "y": [
          0,
          6.729649640888298,
          6.729649640888298,
          0
         ],
         "yaxis": "y"
        },
        {
         "hoverinfo": "text",
         "marker": {
          "color": "rgb(35,205,205)"
         },
         "mode": "lines",
         "type": "scatter",
         "x": [
          1675,
          1675,
          1690,
          1690
         ],
         "xaxis": "x",
         "y": [
          0,
          7.009456738040745,
          7.009456738040745,
          6.729649640888298
         ],
         "yaxis": "y"
        },
        {
         "hoverinfo": "text",
         "marker": {
          "color": "rgb(35,205,205)"
         },
         "mode": "lines",
         "type": "scatter",
         "x": [
          1665,
          1665,
          1682.5,
          1682.5
         ],
         "xaxis": "x",
         "y": [
          0,
          8.178669263156245,
          8.178669263156245,
          7.009456738040745
         ],
         "yaxis": "y"
        },
        {
         "hoverinfo": "text",
         "marker": {
          "color": "rgb(0,116,217)"
         },
         "mode": "lines",
         "type": "scatter",
         "x": [
          1655,
          1655,
          1673.75,
          1673.75
         ],
         "xaxis": "x",
         "y": [
          0,
          9.33319756965775,
          9.33319756965775,
          8.178669263156245
         ],
         "yaxis": "y"
        },
        {
         "hoverinfo": "text",
         "marker": {
          "color": "rgb(0,116,217)"
         },
         "mode": "lines",
         "type": "scatter",
         "x": [
          1645,
          1645,
          1664.375,
          1664.375
         ],
         "xaxis": "x",
         "y": [
          0,
          9.70830098269894,
          9.70830098269894,
          9.33319756965775
         ],
         "yaxis": "y"
        },
        {
         "hoverinfo": "text",
         "marker": {
          "color": "rgb(0,116,217)"
         },
         "mode": "lines",
         "type": "scatter",
         "x": [
          1635,
          1635,
          1654.6875,
          1654.6875
         ],
         "xaxis": "x",
         "y": [
          0,
          9.83684934751978,
          9.83684934751978,
          9.70830098269894
         ],
         "yaxis": "y"
        },
        {
         "hoverinfo": "text",
         "marker": {
          "color": "rgb(0,116,217)"
         },
         "mode": "lines",
         "type": "scatter",
         "x": [
          554.031982421875,
          554.031982421875,
          1644.84375,
          1644.84375
         ],
         "xaxis": "x",
         "y": [
          9.806477477667444,
          10.107126537932363,
          10.107126537932363,
          9.83684934751978
         ],
         "yaxis": "y"
        },
        {
         "hoverinfo": "text",
         "marker": {
          "color": "rgb(0,116,217)"
         },
         "mode": "lines",
         "type": "scatter",
         "x": [
          1715,
          1715,
          1725,
          1725
         ],
         "xaxis": "x",
         "y": [
          0,
          10.09836849497017,
          10.09836849497017,
          0
         ],
         "yaxis": "y"
        },
        {
         "hoverinfo": "text",
         "marker": {
          "color": "rgb(0,116,217)"
         },
         "mode": "lines",
         "type": "scatter",
         "x": [
          1705,
          1705,
          1720,
          1720
         ],
         "xaxis": "x",
         "y": [
          0,
          10.296112221256127,
          10.296112221256127,
          10.09836849497017
         ],
         "yaxis": "y"
        },
        {
         "hoverinfo": "text",
         "marker": {
          "color": "rgb(0,116,217)"
         },
         "mode": "lines",
         "type": "scatter",
         "x": [
          1099.4378662109375,
          1099.4378662109375,
          1712.5,
          1712.5
         ],
         "xaxis": "x",
         "y": [
          10.107126537932363,
          10.37474167145348,
          10.37474167145348,
          10.296112221256127
         ],
         "yaxis": "y"
        },
        {
         "hoverinfo": "text",
         "marker": {
          "color": "rgb(0,116,217)"
         },
         "mode": "lines",
         "type": "scatter",
         "x": [
          1735,
          1735,
          1745,
          1745
         ],
         "xaxis": "x",
         "y": [
          0,
          10.387426473625691,
          10.387426473625691,
          0
         ],
         "yaxis": "y"
        },
        {
         "hoverinfo": "text",
         "marker": {
          "color": "rgb(0,116,217)"
         },
         "mode": "lines",
         "type": "scatter",
         "x": [
          1405.9689331054688,
          1405.9689331054688,
          1740,
          1740
         ],
         "xaxis": "x",
         "y": [
          10.37474167145348,
          10.59340619632016,
          10.59340619632016,
          10.387426473625691
         ],
         "yaxis": "y"
        },
        {
         "hoverinfo": "text",
         "marker": {
          "color": "rgb(133,20,75)"
         },
         "mode": "lines",
         "type": "scatter",
         "x": [
          1755,
          1755,
          1765,
          1765
         ],
         "xaxis": "x",
         "y": [
          0,
          8.91318008876589,
          8.91318008876589,
          0
         ],
         "yaxis": "y"
        },
        {
         "hoverinfo": "text",
         "marker": {
          "color": "rgb(255,220,0)"
         },
         "mode": "lines",
         "type": "scatter",
         "x": [
          1795,
          1795,
          1805,
          1805
         ],
         "xaxis": "x",
         "y": [
          0,
          8.127396409235004,
          8.127396409235004,
          0
         ],
         "yaxis": "y"
        },
        {
         "hoverinfo": "text",
         "marker": {
          "color": "rgb(255,220,0)"
         },
         "mode": "lines",
         "type": "scatter",
         "x": [
          1785,
          1785,
          1800,
          1800
         ],
         "xaxis": "x",
         "y": [
          0,
          8.796868906270864,
          8.796868906270864,
          8.127396409235004
         ],
         "yaxis": "y"
        },
        {
         "hoverinfo": "text",
         "marker": {
          "color": "rgb(255,220,0)"
         },
         "mode": "lines",
         "type": "scatter",
         "x": [
          1775,
          1775,
          1792.5,
          1792.5
         ],
         "xaxis": "x",
         "y": [
          0,
          9.027845406765652,
          9.027845406765652,
          8.796868906270864
         ],
         "yaxis": "y"
        },
        {
         "hoverinfo": "text",
         "marker": {
          "color": "rgb(0,116,217)"
         },
         "mode": "lines",
         "type": "scatter",
         "x": [
          1760,
          1760,
          1783.75,
          1783.75
         ],
         "xaxis": "x",
         "y": [
          8.91318008876589,
          9.804269675689055,
          9.804269675689055,
          9.027845406765652
         ],
         "yaxis": "y"
        },
        {
         "hoverinfo": "text",
         "marker": {
          "color": "rgb(40,35,35)"
         },
         "mode": "lines",
         "type": "scatter",
         "x": [
          1815,
          1815,
          1825,
          1825
         ],
         "xaxis": "x",
         "y": [
          0,
          9.0494845360666,
          9.0494845360666,
          0
         ],
         "yaxis": "y"
        },
        {
         "hoverinfo": "text",
         "marker": {
          "color": "rgb(0,116,217)"
         },
         "mode": "lines",
         "type": "scatter",
         "x": [
          1835,
          1835,
          1845,
          1845
         ],
         "xaxis": "x",
         "y": [
          0,
          9.549596906531368,
          9.549596906531368,
          0
         ],
         "yaxis": "y"
        },
        {
         "hoverinfo": "text",
         "marker": {
          "color": "rgb(0,116,217)"
         },
         "mode": "lines",
         "type": "scatter",
         "x": [
          1820,
          1820,
          1840,
          1840
         ],
         "xaxis": "x",
         "y": [
          9.0494845360666,
          9.999394596968601,
          9.999394596968601,
          9.549596906531368
         ],
         "yaxis": "y"
        },
        {
         "hoverinfo": "text",
         "marker": {
          "color": "rgb(0,116,217)"
         },
         "mode": "lines",
         "type": "scatter",
         "x": [
          1771.875,
          1771.875,
          1830,
          1830
         ],
         "xaxis": "x",
         "y": [
          9.804269675689055,
          10.047801206058315,
          10.047801206058315,
          9.999394596968601
         ],
         "yaxis": "y"
        },
        {
         "hoverinfo": "text",
         "marker": {
          "color": "rgb(0,116,217)"
         },
         "mode": "lines",
         "type": "scatter",
         "x": [
          1865,
          1865,
          1875,
          1875
         ],
         "xaxis": "x",
         "y": [
          0,
          9.794399452131666,
          9.794399452131666,
          0
         ],
         "yaxis": "y"
        },
        {
         "hoverinfo": "text",
         "marker": {
          "color": "rgb(0,116,217)"
         },
         "mode": "lines",
         "type": "scatter",
         "x": [
          1855,
          1855,
          1870,
          1870
         ],
         "xaxis": "x",
         "y": [
          0,
          10.212583887884081,
          10.212583887884081,
          9.794399452131666
         ],
         "yaxis": "y"
        },
        {
         "hoverinfo": "text",
         "marker": {
          "color": "rgb(61,153,112)"
         },
         "mode": "lines",
         "type": "scatter",
         "x": [
          1935,
          1935,
          1945,
          1945
         ],
         "xaxis": "x",
         "y": [
          0,
          6.507323182778789,
          6.507323182778789,
          0
         ],
         "yaxis": "y"
        },
        {
         "hoverinfo": "text",
         "marker": {
          "color": "rgb(61,153,112)"
         },
         "mode": "lines",
         "type": "scatter",
         "x": [
          1925,
          1925,
          1940,
          1940
         ],
         "xaxis": "x",
         "y": [
          0,
          7.031504931018597,
          7.031504931018597,
          6.507323182778789
         ],
         "yaxis": "y"
        },
        {
         "hoverinfo": "text",
         "marker": {
          "color": "rgb(61,153,112)"
         },
         "mode": "lines",
         "type": "scatter",
         "x": [
          1915,
          1915,
          1932.5,
          1932.5
         ],
         "xaxis": "x",
         "y": [
          0,
          7.777665411245235,
          7.777665411245235,
          7.031504931018597
         ],
         "yaxis": "y"
        },
        {
         "hoverinfo": "text",
         "marker": {
          "color": "rgb(61,153,112)"
         },
         "mode": "lines",
         "type": "scatter",
         "x": [
          1905,
          1905,
          1923.75,
          1923.75
         ],
         "xaxis": "x",
         "y": [
          0,
          8.169897175611368,
          8.169897175611368,
          7.777665411245235
         ],
         "yaxis": "y"
        },
        {
         "hoverinfo": "text",
         "marker": {
          "color": "rgb(0,116,217)"
         },
         "mode": "lines",
         "type": "scatter",
         "x": [
          1895,
          1895,
          1914.375,
          1914.375
         ],
         "xaxis": "x",
         "y": [
          0,
          9.404469560885747,
          9.404469560885747,
          8.169897175611368
         ],
         "yaxis": "y"
        },
        {
         "hoverinfo": "text",
         "marker": {
          "color": "rgb(0,116,217)"
         },
         "mode": "lines",
         "type": "scatter",
         "x": [
          1885,
          1885,
          1904.6875,
          1904.6875
         ],
         "xaxis": "x",
         "y": [
          0,
          9.707827973636299,
          9.707827973636299,
          9.404469560885747
         ],
         "yaxis": "y"
        },
        {
         "hoverinfo": "text",
         "marker": {
          "color": "rgb(255,65,54)"
         },
         "mode": "lines",
         "type": "scatter",
         "x": [
          1965,
          1965,
          1975,
          1975
         ],
         "xaxis": "x",
         "y": [
          0,
          8.216691945244179,
          8.216691945244179,
          0
         ],
         "yaxis": "y"
        },
        {
         "hoverinfo": "text",
         "marker": {
          "color": "rgb(255,65,54)"
         },
         "mode": "lines",
         "type": "scatter",
         "x": [
          1995,
          1995,
          2005,
          2005
         ],
         "xaxis": "x",
         "y": [
          0,
          8.323482418359106,
          8.323482418359106,
          0
         ],
         "yaxis": "y"
        },
        {
         "hoverinfo": "text",
         "marker": {
          "color": "rgb(255,65,54)"
         },
         "mode": "lines",
         "type": "scatter",
         "x": [
          1985,
          1985,
          2000,
          2000
         ],
         "xaxis": "x",
         "y": [
          0,
          8.55687282976201,
          8.55687282976201,
          8.323482418359106
         ],
         "yaxis": "y"
        },
        {
         "hoverinfo": "text",
         "marker": {
          "color": "rgb(255,65,54)"
         },
         "mode": "lines",
         "type": "scatter",
         "x": [
          1970,
          1970,
          1992.5,
          1992.5
         ],
         "xaxis": "x",
         "y": [
          8.216691945244179,
          9.109953124188195,
          9.109953124188195,
          8.55687282976201
         ],
         "yaxis": "y"
        },
        {
         "hoverinfo": "text",
         "marker": {
          "color": "rgb(35,205,205)"
         },
         "mode": "lines",
         "type": "scatter",
         "x": [
          2025,
          2025,
          2035,
          2035
         ],
         "xaxis": "x",
         "y": [
          0,
          8.915060926054773,
          8.915060926054773,
          0
         ],
         "yaxis": "y"
        },
        {
         "hoverinfo": "text",
         "marker": {
          "color": "rgb(35,205,205)"
         },
         "mode": "lines",
         "type": "scatter",
         "x": [
          2015,
          2015,
          2030,
          2030
         ],
         "xaxis": "x",
         "y": [
          0,
          9.13046923220767,
          9.13046923220767,
          8.915060926054773
         ],
         "yaxis": "y"
        },
        {
         "hoverinfo": "text",
         "marker": {
          "color": "rgb(0,116,217)"
         },
         "mode": "lines",
         "type": "scatter",
         "x": [
          1981.25,
          1981.25,
          2022.5,
          2022.5
         ],
         "xaxis": "x",
         "y": [
          9.109953124188195,
          9.605666189933501,
          9.605666189933501,
          9.13046923220767
         ],
         "yaxis": "y"
        },
        {
         "hoverinfo": "text",
         "marker": {
          "color": "rgb(0,116,217)"
         },
         "mode": "lines",
         "type": "scatter",
         "x": [
          1955,
          1955,
          2001.875,
          2001.875
         ],
         "xaxis": "x",
         "y": [
          0,
          9.669954085176604,
          9.669954085176604,
          9.605666189933501
         ],
         "yaxis": "y"
        },
        {
         "hoverinfo": "text",
         "marker": {
          "color": "rgb(133,20,75)"
         },
         "mode": "lines",
         "type": "scatter",
         "x": [
          2045,
          2045,
          2055,
          2055
         ],
         "xaxis": "x",
         "y": [
          0,
          8.98731781658577,
          8.98731781658577,
          0
         ],
         "yaxis": "y"
        },
        {
         "hoverinfo": "text",
         "marker": {
          "color": "rgb(255,220,0)"
         },
         "mode": "lines",
         "type": "scatter",
         "x": [
          2095,
          2095,
          2105,
          2105
         ],
         "xaxis": "x",
         "y": [
          0,
          6.9474356791264835,
          6.9474356791264835,
          0
         ],
         "yaxis": "y"
        },
        {
         "hoverinfo": "text",
         "marker": {
          "color": "rgb(255,220,0)"
         },
         "mode": "lines",
         "type": "scatter",
         "x": [
          2085,
          2085,
          2100,
          2100
         ],
         "xaxis": "x",
         "y": [
          0,
          8.312396939500525,
          8.312396939500525,
          6.9474356791264835
         ],
         "yaxis": "y"
        },
        {
         "hoverinfo": "text",
         "marker": {
          "color": "rgb(255,220,0)"
         },
         "mode": "lines",
         "type": "scatter",
         "x": [
          2075,
          2075,
          2092.5,
          2092.5
         ],
         "xaxis": "x",
         "y": [
          0,
          8.689212975503088,
          8.689212975503088,
          8.312396939500525
         ],
         "yaxis": "y"
        },
        {
         "hoverinfo": "text",
         "marker": {
          "color": "rgb(40,35,35)"
         },
         "mode": "lines",
         "type": "scatter",
         "x": [
          2115,
          2115,
          2125,
          2125
         ],
         "xaxis": "x",
         "y": [
          0,
          5.855278859173128,
          5.855278859173128,
          0
         ],
         "yaxis": "y"
        },
        {
         "hoverinfo": "text",
         "marker": {
          "color": "rgb(40,35,35)"
         },
         "mode": "lines",
         "type": "scatter",
         "x": [
          2145,
          2145,
          2155,
          2155
         ],
         "xaxis": "x",
         "y": [
          0,
          5.729972694106034,
          5.729972694106034,
          0
         ],
         "yaxis": "y"
        },
        {
         "hoverinfo": "text",
         "marker": {
          "color": "rgb(40,35,35)"
         },
         "mode": "lines",
         "type": "scatter",
         "x": [
          2135,
          2135,
          2150,
          2150
         ],
         "xaxis": "x",
         "y": [
          0,
          6.252443800598514,
          6.252443800598514,
          5.729972694106034
         ],
         "yaxis": "y"
        },
        {
         "hoverinfo": "text",
         "marker": {
          "color": "rgb(40,35,35)"
         },
         "mode": "lines",
         "type": "scatter",
         "x": [
          2120,
          2120,
          2142.5,
          2142.5
         ],
         "xaxis": "x",
         "y": [
          5.855278859173128,
          7.006387928117227,
          7.006387928117227,
          6.252443800598514
         ],
         "yaxis": "y"
        },
        {
         "hoverinfo": "text",
         "marker": {
          "color": "rgb(40,35,35)"
         },
         "mode": "lines",
         "type": "scatter",
         "x": [
          2185,
          2185,
          2195,
          2195
         ],
         "xaxis": "x",
         "y": [
          0,
          5.599090081732703,
          5.599090081732703,
          0
         ],
         "yaxis": "y"
        },
        {
         "hoverinfo": "text",
         "marker": {
          "color": "rgb(40,35,35)"
         },
         "mode": "lines",
         "type": "scatter",
         "x": [
          2175,
          2175,
          2190,
          2190
         ],
         "xaxis": "x",
         "y": [
          0,
          6.507468300159263,
          6.507468300159263,
          5.599090081732703
         ],
         "yaxis": "y"
        },
        {
         "hoverinfo": "text",
         "marker": {
          "color": "rgb(40,35,35)"
         },
         "mode": "lines",
         "type": "scatter",
         "x": [
          2165,
          2165,
          2182.5,
          2182.5
         ],
         "xaxis": "x",
         "y": [
          0,
          7.139765274520109,
          7.139765274520109,
          6.507468300159263
         ],
         "yaxis": "y"
        },
        {
         "hoverinfo": "text",
         "marker": {
          "color": "rgb(40,35,35)"
         },
         "mode": "lines",
         "type": "scatter",
         "x": [
          2131.25,
          2131.25,
          2173.75,
          2173.75
         ],
         "xaxis": "x",
         "y": [
          7.006387928117227,
          7.445174264609385,
          7.445174264609385,
          7.139765274520109
         ],
         "yaxis": "y"
        },
        {
         "hoverinfo": "text",
         "marker": {
          "color": "rgb(40,35,35)"
         },
         "mode": "lines",
         "type": "scatter",
         "x": [
          2215,
          2215,
          2225,
          2225
         ],
         "xaxis": "x",
         "y": [
          0,
          7.63719412685781,
          7.63719412685781,
          0
         ],
         "yaxis": "y"
        },
        {
         "hoverinfo": "text",
         "marker": {
          "color": "rgb(40,35,35)"
         },
         "mode": "lines",
         "type": "scatter",
         "x": [
          2205,
          2205,
          2220,
          2220
         ],
         "xaxis": "x",
         "y": [
          0,
          7.88062303270904,
          7.88062303270904,
          7.63719412685781
         ],
         "yaxis": "y"
        },
        {
         "hoverinfo": "text",
         "marker": {
          "color": "rgb(40,35,35)"
         },
         "mode": "lines",
         "type": "scatter",
         "x": [
          2152.5,
          2152.5,
          2212.5,
          2212.5
         ],
         "xaxis": "x",
         "y": [
          7.445174264609385,
          8.360357192992836,
          8.360357192992836,
          7.88062303270904
         ],
         "yaxis": "y"
        },
        {
         "hoverinfo": "text",
         "marker": {
          "color": "rgb(40,35,35)"
         },
         "mode": "lines",
         "type": "scatter",
         "x": [
          2245,
          2245,
          2255,
          2255
         ],
         "xaxis": "x",
         "y": [
          0,
          6.401816438035842,
          6.401816438035842,
          0
         ],
         "yaxis": "y"
        },
        {
         "hoverinfo": "text",
         "marker": {
          "color": "rgb(40,35,35)"
         },
         "mode": "lines",
         "type": "scatter",
         "x": [
          2235,
          2235,
          2250,
          2250
         ],
         "xaxis": "x",
         "y": [
          0,
          7.59311532861778,
          7.59311532861778,
          6.401816438035842
         ],
         "yaxis": "y"
        },
        {
         "hoverinfo": "text",
         "marker": {
          "color": "rgb(40,35,35)"
         },
         "mode": "lines",
         "type": "scatter",
         "x": [
          2275,
          2275,
          2285,
          2285
         ],
         "xaxis": "x",
         "y": [
          0,
          5.478616605716021,
          5.478616605716021,
          0
         ],
         "yaxis": "y"
        },
        {
         "hoverinfo": "text",
         "marker": {
          "color": "rgb(40,35,35)"
         },
         "mode": "lines",
         "type": "scatter",
         "x": [
          2265,
          2265,
          2280,
          2280
         ],
         "xaxis": "x",
         "y": [
          0,
          6.512034186011757,
          6.512034186011757,
          5.478616605716021
         ],
         "yaxis": "y"
        },
        {
         "hoverinfo": "text",
         "marker": {
          "color": "rgb(40,35,35)"
         },
         "mode": "lines",
         "type": "scatter",
         "x": [
          2305,
          2305,
          2315,
          2315
         ],
         "xaxis": "x",
         "y": [
          0,
          6.11603270613828,
          6.11603270613828,
          0
         ],
         "yaxis": "y"
        },
        {
         "hoverinfo": "text",
         "marker": {
          "color": "rgb(40,35,35)"
         },
         "mode": "lines",
         "type": "scatter",
         "x": [
          2295,
          2295,
          2310,
          2310
         ],
         "xaxis": "x",
         "y": [
          0,
          7.330318634661048,
          7.330318634661048,
          6.11603270613828
         ],
         "yaxis": "y"
        },
        {
         "hoverinfo": "text",
         "marker": {
          "color": "rgb(40,35,35)"
         },
         "mode": "lines",
         "type": "scatter",
         "x": [
          2272.5,
          2272.5,
          2302.5,
          2302.5
         ],
         "xaxis": "x",
         "y": [
          6.512034186011757,
          7.748141465089869,
          7.748141465089869,
          7.330318634661048
         ],
         "yaxis": "y"
        },
        {
         "hoverinfo": "text",
         "marker": {
          "color": "rgb(40,35,35)"
         },
         "mode": "lines",
         "type": "scatter",
         "x": [
          2242.5,
          2242.5,
          2287.5,
          2287.5
         ],
         "xaxis": "x",
         "y": [
          7.59311532861778,
          8.129151340344432,
          8.129151340344432,
          7.748141465089869
         ],
         "yaxis": "y"
        },
        {
         "hoverinfo": "text",
         "marker": {
          "color": "rgb(40,35,35)"
         },
         "mode": "lines",
         "type": "scatter",
         "x": [
          2335,
          2335,
          2345,
          2345
         ],
         "xaxis": "x",
         "y": [
          0,
          6.169016777208617,
          6.169016777208617,
          0
         ],
         "yaxis": "y"
        },
        {
         "hoverinfo": "text",
         "marker": {
          "color": "rgb(40,35,35)"
         },
         "mode": "lines",
         "type": "scatter",
         "x": [
          2325,
          2325,
          2340,
          2340
         ],
         "xaxis": "x",
         "y": [
          0,
          7.123969253913992,
          7.123969253913992,
          6.169016777208617
         ],
         "yaxis": "y"
        },
        {
         "hoverinfo": "text",
         "marker": {
          "color": "rgb(40,35,35)"
         },
         "mode": "lines",
         "type": "scatter",
         "x": [
          2365,
          2365,
          2375,
          2375
         ],
         "xaxis": "x",
         "y": [
          0,
          5.822291980203346,
          5.822291980203346,
          0
         ],
         "yaxis": "y"
        },
        {
         "hoverinfo": "text",
         "marker": {
          "color": "rgb(40,35,35)"
         },
         "mode": "lines",
         "type": "scatter",
         "x": [
          2355,
          2355,
          2370,
          2370
         ],
         "xaxis": "x",
         "y": [
          0,
          7.232147964993622,
          7.232147964993622,
          5.822291980203346
         ],
         "yaxis": "y"
        },
        {
         "hoverinfo": "text",
         "marker": {
          "color": "rgb(40,35,35)"
         },
         "mode": "lines",
         "type": "scatter",
         "x": [
          2395,
          2395,
          2405,
          2405
         ],
         "xaxis": "x",
         "y": [
          0,
          6.361189976270215,
          6.361189976270215,
          0
         ],
         "yaxis": "y"
        },
        {
         "hoverinfo": "text",
         "marker": {
          "color": "rgb(40,35,35)"
         },
         "mode": "lines",
         "type": "scatter",
         "x": [
          2385,
          2385,
          2400,
          2400
         ],
         "xaxis": "x",
         "y": [
          0,
          7.8641180730966145,
          7.8641180730966145,
          6.361189976270215
         ],
         "yaxis": "y"
        },
        {
         "hoverinfo": "text",
         "marker": {
          "color": "rgb(40,35,35)"
         },
         "mode": "lines",
         "type": "scatter",
         "x": [
          2362.5,
          2362.5,
          2392.5,
          2392.5
         ],
         "xaxis": "x",
         "y": [
          7.232147964993622,
          8.472584713875262,
          8.472584713875262,
          7.8641180730966145
         ],
         "yaxis": "y"
        },
        {
         "hoverinfo": "text",
         "marker": {
          "color": "rgb(40,35,35)"
         },
         "mode": "lines",
         "type": "scatter",
         "x": [
          2332.5,
          2332.5,
          2377.5,
          2377.5
         ],
         "xaxis": "x",
         "y": [
          7.123969253913992,
          8.677870459221312,
          8.677870459221312,
          8.472584713875262
         ],
         "yaxis": "y"
        },
        {
         "hoverinfo": "text",
         "marker": {
          "color": "rgb(40,35,35)"
         },
         "mode": "lines",
         "type": "scatter",
         "x": [
          2265,
          2265,
          2355,
          2355
         ],
         "xaxis": "x",
         "y": [
          8.129151340344432,
          8.911132047703584,
          8.911132047703584,
          8.677870459221312
         ],
         "yaxis": "y"
        },
        {
         "hoverinfo": "text",
         "marker": {
          "color": "rgb(40,35,35)"
         },
         "mode": "lines",
         "type": "scatter",
         "x": [
          2182.5,
          2182.5,
          2310,
          2310
         ],
         "xaxis": "x",
         "y": [
          8.360357192992836,
          9.07376208401481,
          9.07376208401481,
          8.911132047703584
         ],
         "yaxis": "y"
        },
        {
         "hoverinfo": "text",
         "marker": {
          "color": "rgb(0,116,217)"
         },
         "mode": "lines",
         "type": "scatter",
         "x": [
          2083.75,
          2083.75,
          2246.25,
          2246.25
         ],
         "xaxis": "x",
         "y": [
          8.689212975503088,
          9.257853377414667,
          9.257853377414667,
          9.07376208401481
         ],
         "yaxis": "y"
        },
        {
         "hoverinfo": "text",
         "marker": {
          "color": "rgb(0,116,217)"
         },
         "mode": "lines",
         "type": "scatter",
         "x": [
          2065,
          2065,
          2165,
          2165
         ],
         "xaxis": "x",
         "y": [
          0,
          9.493577314699383,
          9.493577314699383,
          9.257853377414667
         ],
         "yaxis": "y"
        },
        {
         "hoverinfo": "text",
         "marker": {
          "color": "rgb(0,116,217)"
         },
         "mode": "lines",
         "type": "scatter",
         "x": [
          2050,
          2050,
          2115,
          2115
         ],
         "xaxis": "x",
         "y": [
          8.98731781658577,
          9.687761633092867,
          9.687761633092867,
          9.493577314699383
         ],
         "yaxis": "y"
        },
        {
         "hoverinfo": "text",
         "marker": {
          "color": "rgb(0,116,217)"
         },
         "mode": "lines",
         "type": "scatter",
         "x": [
          1978.4375,
          1978.4375,
          2082.5,
          2082.5
         ],
         "xaxis": "x",
         "y": [
          9.669954085176604,
          9.952768830273573,
          9.952768830273573,
          9.687761633092867
         ],
         "yaxis": "y"
        },
        {
         "hoverinfo": "text",
         "marker": {
          "color": "rgb(0,116,217)"
         },
         "mode": "lines",
         "type": "scatter",
         "x": [
          1894.84375,
          1894.84375,
          2030.46875,
          2030.46875
         ],
         "xaxis": "x",
         "y": [
          9.707827973636299,
          10.222434355008115,
          10.222434355008115,
          9.952768830273573
         ],
         "yaxis": "y"
        },
        {
         "hoverinfo": "text",
         "marker": {
          "color": "rgb(0,116,217)"
         },
         "mode": "lines",
         "type": "scatter",
         "x": [
          1862.5,
          1862.5,
          1962.65625,
          1962.65625
         ],
         "xaxis": "x",
         "y": [
          10.212583887884081,
          10.249328534980988,
          10.249328534980988,
          10.222434355008115
         ],
         "yaxis": "y"
        },
        {
         "hoverinfo": "text",
         "marker": {
          "color": "rgb(0,116,217)"
         },
         "mode": "lines",
         "type": "scatter",
         "x": [
          1800.9375,
          1800.9375,
          1912.578125,
          1912.578125
         ],
         "xaxis": "x",
         "y": [
          10.047801206058315,
          10.43135715785032,
          10.43135715785032,
          10.249328534980988
         ],
         "yaxis": "y"
        },
        {
         "hoverinfo": "text",
         "marker": {
          "color": "rgb(61,153,112)"
         },
         "mode": "lines",
         "type": "scatter",
         "x": [
          2445,
          2445,
          2455,
          2455
         ],
         "xaxis": "x",
         "y": [
          0,
          7.209996583607493,
          7.209996583607493,
          0
         ],
         "yaxis": "y"
        },
        {
         "hoverinfo": "text",
         "marker": {
          "color": "rgb(61,153,112)"
         },
         "mode": "lines",
         "type": "scatter",
         "x": [
          2435,
          2435,
          2450,
          2450
         ],
         "xaxis": "x",
         "y": [
          0,
          8.186663535266044,
          8.186663535266044,
          7.209996583607493
         ],
         "yaxis": "y"
        },
        {
         "hoverinfo": "text",
         "marker": {
          "color": "rgb(61,153,112)"
         },
         "mode": "lines",
         "type": "scatter",
         "x": [
          2425,
          2425,
          2442.5,
          2442.5
         ],
         "xaxis": "x",
         "y": [
          0,
          8.568463522358542,
          8.568463522358542,
          8.186663535266044
         ],
         "yaxis": "y"
        },
        {
         "hoverinfo": "text",
         "marker": {
          "color": "rgb(0,116,217)"
         },
         "mode": "lines",
         "type": "scatter",
         "x": [
          2465,
          2465,
          2475,
          2475
         ],
         "xaxis": "x",
         "y": [
          0,
          9.504925554923306,
          9.504925554923306,
          0
         ],
         "yaxis": "y"
        },
        {
         "hoverinfo": "text",
         "marker": {
          "color": "rgb(0,116,217)"
         },
         "mode": "lines",
         "type": "scatter",
         "x": [
          2433.75,
          2433.75,
          2470,
          2470
         ],
         "xaxis": "x",
         "y": [
          8.568463522358542,
          9.807683304904412,
          9.807683304904412,
          9.504925554923306
         ],
         "yaxis": "y"
        },
        {
         "hoverinfo": "text",
         "marker": {
          "color": "rgb(0,116,217)"
         },
         "mode": "lines",
         "type": "scatter",
         "x": [
          2495,
          2495,
          2505,
          2505
         ],
         "xaxis": "x",
         "y": [
          0,
          9.332414674121825,
          9.332414674121825,
          0
         ],
         "yaxis": "y"
        },
        {
         "hoverinfo": "text",
         "marker": {
          "color": "rgb(0,116,217)"
         },
         "mode": "lines",
         "type": "scatter",
         "x": [
          2485,
          2485,
          2500,
          2500
         ],
         "xaxis": "x",
         "y": [
          0,
          9.813063061844241,
          9.813063061844241,
          9.332414674121825
         ],
         "yaxis": "y"
        },
        {
         "hoverinfo": "text",
         "marker": {
          "color": "rgb(0,116,217)"
         },
         "mode": "lines",
         "type": "scatter",
         "x": [
          2451.875,
          2451.875,
          2492.5,
          2492.5
         ],
         "xaxis": "x",
         "y": [
          9.807683304904412,
          10.02254838480925,
          10.02254838480925,
          9.813063061844241
         ],
         "yaxis": "y"
        },
        {
         "hoverinfo": "text",
         "marker": {
          "color": "rgb(255,65,54)"
         },
         "mode": "lines",
         "type": "scatter",
         "x": [
          2525,
          2525,
          2535,
          2535
         ],
         "xaxis": "x",
         "y": [
          0,
          9.094666766717832,
          9.094666766717832,
          0
         ],
         "yaxis": "y"
        },
        {
         "hoverinfo": "text",
         "marker": {
          "color": "rgb(0,116,217)"
         },
         "mode": "lines",
         "type": "scatter",
         "x": [
          2515,
          2515,
          2530,
          2530
         ],
         "xaxis": "x",
         "y": [
          0,
          9.877010996237601,
          9.877010996237601,
          9.094666766717832
         ],
         "yaxis": "y"
        },
        {
         "hoverinfo": "text",
         "marker": {
          "color": "rgb(0,116,217)"
         },
         "mode": "lines",
         "type": "scatter",
         "x": [
          2545,
          2545,
          2555,
          2555
         ],
         "xaxis": "x",
         "y": [
          0,
          10.006090352737756,
          10.006090352737756,
          0
         ],
         "yaxis": "y"
        },
        {
         "hoverinfo": "text",
         "marker": {
          "color": "rgb(0,116,217)"
         },
         "mode": "lines",
         "type": "scatter",
         "x": [
          2522.5,
          2522.5,
          2550,
          2550
         ],
         "xaxis": "x",
         "y": [
          9.877010996237601,
          10.21345022113607,
          10.21345022113607,
          10.006090352737756
         ],
         "yaxis": "y"
        },
        {
         "hoverinfo": "text",
         "marker": {
          "color": "rgb(0,116,217)"
         },
         "mode": "lines",
         "type": "scatter",
         "x": [
          2472.1875,
          2472.1875,
          2536.25,
          2536.25
         ],
         "xaxis": "x",
         "y": [
          10.02254838480925,
          10.412080921750993,
          10.412080921750993,
          10.21345022113607
         ],
         "yaxis": "y"
        },
        {
         "hoverinfo": "text",
         "marker": {
          "color": "rgb(0,116,217)"
         },
         "mode": "lines",
         "type": "scatter",
         "x": [
          2415,
          2415,
          2504.21875,
          2504.21875
         ],
         "xaxis": "x",
         "y": [
          0,
          10.546984896578756,
          10.546984896578756,
          10.412080921750993
         ],
         "yaxis": "y"
        },
        {
         "hoverinfo": "text",
         "marker": {
          "color": "rgb(0,116,217)"
         },
         "mode": "lines",
         "type": "scatter",
         "x": [
          1856.7578125,
          1856.7578125,
          2459.609375,
          2459.609375
         ],
         "xaxis": "x",
         "y": [
          10.43135715785032,
          10.697495230747927,
          10.697495230747927,
          10.546984896578756
         ],
         "yaxis": "y"
        },
        {
         "hoverinfo": "text",
         "marker": {
          "color": "rgb(0,116,217)"
         },
         "mode": "lines",
         "type": "scatter",
         "x": [
          1572.9844665527344,
          1572.9844665527344,
          2158.18359375,
          2158.18359375
         ],
         "xaxis": "x",
         "y": [
          10.59340619632016,
          10.842225340883177,
          10.842225340883177,
          10.697495230747927
         ],
         "yaxis": "y"
        },
        {
         "hoverinfo": "text",
         "marker": {
          "color": "rgb(0,116,217)"
         },
         "mode": "lines",
         "type": "scatter",
         "x": [
          97.5,
          97.5,
          1865.5840301513672,
          1865.5840301513672
         ],
         "xaxis": "x",
         "y": [
          10.685976554223863,
          10.930167874385134,
          10.930167874385134,
          10.842225340883177
         ],
         "yaxis": "y"
        },
        {
         "hoverinfo": "text",
         "marker": {
          "color": "rgb(0,116,217)"
         },
         "mode": "lines",
         "type": "scatter",
         "x": [
          18.4375,
          18.4375,
          981.5420150756836,
          981.5420150756836
         ],
         "xaxis": "x",
         "y": [
          10.455003715618483,
          11.194456399041725,
          11.194456399041725,
          10.930167874385134
         ],
         "yaxis": "y"
        },
        {
         "hoverinfo": "text",
         "marker": {
          "color": "rgb(35,205,205)"
         },
         "mode": "lines",
         "type": "scatter",
         "x": [
          2575,
          2575,
          2585,
          2585
         ],
         "xaxis": "x",
         "y": [
          0,
          6.455361492903304,
          6.455361492903304,
          0
         ],
         "yaxis": "y"
        },
        {
         "hoverinfo": "text",
         "marker": {
          "color": "rgb(35,205,205)"
         },
         "mode": "lines",
         "type": "scatter",
         "x": [
          2565,
          2565,
          2580,
          2580
         ],
         "xaxis": "x",
         "y": [
          0,
          7.791398072416283,
          7.791398072416283,
          6.455361492903304
         ],
         "yaxis": "y"
        },
        {
         "hoverinfo": "text",
         "marker": {
          "color": "rgb(35,205,205)"
         },
         "mode": "lines",
         "type": "scatter",
         "x": [
          2615,
          2615,
          2625,
          2625
         ],
         "xaxis": "x",
         "y": [
          0,
          6.029026627871869,
          6.029026627871869,
          0
         ],
         "yaxis": "y"
        },
        {
         "hoverinfo": "text",
         "marker": {
          "color": "rgb(35,205,205)"
         },
         "mode": "lines",
         "type": "scatter",
         "x": [
          2605,
          2605,
          2620,
          2620
         ],
         "xaxis": "x",
         "y": [
          0,
          6.442352236579363,
          6.442352236579363,
          6.029026627871869
         ],
         "yaxis": "y"
        },
        {
         "hoverinfo": "text",
         "marker": {
          "color": "rgb(35,205,205)"
         },
         "mode": "lines",
         "type": "scatter",
         "x": [
          2635,
          2635,
          2645,
          2645
         ],
         "xaxis": "x",
         "y": [
          0,
          6.748768929432775,
          6.748768929432775,
          0
         ],
         "yaxis": "y"
        },
        {
         "hoverinfo": "text",
         "marker": {
          "color": "rgb(35,205,205)"
         },
         "mode": "lines",
         "type": "scatter",
         "x": [
          2612.5,
          2612.5,
          2640,
          2640
         ],
         "xaxis": "x",
         "y": [
          6.442352236579363,
          7.36168971808594,
          7.36168971808594,
          6.748768929432775
         ],
         "yaxis": "y"
        },
        {
         "hoverinfo": "text",
         "marker": {
          "color": "rgb(35,205,205)"
         },
         "mode": "lines",
         "type": "scatter",
         "x": [
          2595,
          2595,
          2626.25,
          2626.25
         ],
         "xaxis": "x",
         "y": [
          0,
          8.18283004417211,
          8.18283004417211,
          7.36168971808594
         ],
         "yaxis": "y"
        },
        {
         "hoverinfo": "text",
         "marker": {
          "color": "rgb(35,205,205)"
         },
         "mode": "lines",
         "type": "scatter",
         "x": [
          2572.5,
          2572.5,
          2610.625,
          2610.625
         ],
         "xaxis": "x",
         "y": [
          7.791398072416283,
          8.388709575127356,
          8.388709575127356,
          8.18283004417211
         ],
         "yaxis": "y"
        },
        {
         "hoverinfo": "text",
         "marker": {
          "color": "rgb(133,20,75)"
         },
         "mode": "lines",
         "type": "scatter",
         "x": [
          2675,
          2675,
          2685,
          2685
         ],
         "xaxis": "x",
         "y": [
          0,
          7.890049296031066,
          7.890049296031066,
          0
         ],
         "yaxis": "y"
        },
        {
         "hoverinfo": "text",
         "marker": {
          "color": "rgb(133,20,75)"
         },
         "mode": "lines",
         "type": "scatter",
         "x": [
          2665,
          2665,
          2680,
          2680
         ],
         "xaxis": "x",
         "y": [
          0,
          9.01480204255817,
          9.01480204255817,
          7.890049296031066
         ],
         "yaxis": "y"
        },
        {
         "hoverinfo": "text",
         "marker": {
          "color": "rgb(133,20,75)"
         },
         "mode": "lines",
         "type": "scatter",
         "x": [
          2655,
          2655,
          2672.5,
          2672.5
         ],
         "xaxis": "x",
         "y": [
          0,
          9.113799020466335,
          9.113799020466335,
          9.01480204255817
         ],
         "yaxis": "y"
        },
        {
         "hoverinfo": "text",
         "marker": {
          "color": "rgb(255,220,0)"
         },
         "mode": "lines",
         "type": "scatter",
         "x": [
          2705,
          2705,
          2715,
          2715
         ],
         "xaxis": "x",
         "y": [
          0,
          8.722325627218899,
          8.722325627218899,
          0
         ],
         "yaxis": "y"
        },
        {
         "hoverinfo": "text",
         "marker": {
          "color": "rgb(0,116,217)"
         },
         "mode": "lines",
         "type": "scatter",
         "x": [
          2695,
          2695,
          2710,
          2710
         ],
         "xaxis": "x",
         "y": [
          0,
          9.177791336357155,
          9.177791336357155,
          8.722325627218899
         ],
         "yaxis": "y"
        },
        {
         "hoverinfo": "text",
         "marker": {
          "color": "rgb(0,116,217)"
         },
         "mode": "lines",
         "type": "scatter",
         "x": [
          2663.75,
          2663.75,
          2702.5,
          2702.5
         ],
         "xaxis": "x",
         "y": [
          9.113799020466335,
          9.585383722466062,
          9.585383722466062,
          9.177791336357155
         ],
         "yaxis": "y"
        },
        {
         "hoverinfo": "text",
         "marker": {
          "color": "rgb(0,116,217)"
         },
         "mode": "lines",
         "type": "scatter",
         "x": [
          2591.5625,
          2591.5625,
          2683.125,
          2683.125
         ],
         "xaxis": "x",
         "y": [
          8.388709575127356,
          9.881065582714392,
          9.881065582714392,
          9.585383722466062
         ],
         "yaxis": "y"
        },
        {
         "hoverinfo": "text",
         "marker": {
          "color": "rgb(40,35,35)"
         },
         "mode": "lines",
         "type": "scatter",
         "x": [
          2725,
          2725,
          2735,
          2735
         ],
         "xaxis": "x",
         "y": [
          0,
          5.947335138981524,
          5.947335138981524,
          0
         ],
         "yaxis": "y"
        },
        {
         "hoverinfo": "text",
         "marker": {
          "color": "rgb(40,35,35)"
         },
         "mode": "lines",
         "type": "scatter",
         "x": [
          2765,
          2765,
          2775,
          2775
         ],
         "xaxis": "x",
         "y": [
          0,
          5.677594655954883,
          5.677594655954883,
          0
         ],
         "yaxis": "y"
        },
        {
         "hoverinfo": "text",
         "marker": {
          "color": "rgb(40,35,35)"
         },
         "mode": "lines",
         "type": "scatter",
         "x": [
          2755,
          2755,
          2770,
          2770
         ],
         "xaxis": "x",
         "y": [
          0,
          6.448944623674623,
          6.448944623674623,
          5.677594655954883
         ],
         "yaxis": "y"
        },
        {
         "hoverinfo": "text",
         "marker": {
          "color": "rgb(40,35,35)"
         },
         "mode": "lines",
         "type": "scatter",
         "x": [
          2745,
          2745,
          2762.5,
          2762.5
         ],
         "xaxis": "x",
         "y": [
          0,
          6.552083255252004,
          6.552083255252004,
          6.448944623674623
         ],
         "yaxis": "y"
        },
        {
         "hoverinfo": "text",
         "marker": {
          "color": "rgb(40,35,35)"
         },
         "mode": "lines",
         "type": "scatter",
         "x": [
          2730,
          2730,
          2753.75,
          2753.75
         ],
         "xaxis": "x",
         "y": [
          5.947335138981524,
          7.471419835127718,
          7.471419835127718,
          6.552083255252004
         ],
         "yaxis": "y"
        },
        {
         "hoverinfo": "text",
         "marker": {
          "color": "rgb(40,35,35)"
         },
         "mode": "lines",
         "type": "scatter",
         "x": [
          2805,
          2805,
          2815,
          2815
         ],
         "xaxis": "x",
         "y": [
          0,
          6.0485783691053765,
          6.0485783691053765,
          0
         ],
         "yaxis": "y"
        },
        {
         "hoverinfo": "text",
         "marker": {
          "color": "rgb(40,35,35)"
         },
         "mode": "lines",
         "type": "scatter",
         "x": [
          2795,
          2795,
          2810,
          2810
         ],
         "xaxis": "x",
         "y": [
          0,
          6.377732926549594,
          6.377732926549594,
          6.0485783691053765
         ],
         "yaxis": "y"
        },
        {
         "hoverinfo": "text",
         "marker": {
          "color": "rgb(40,35,35)"
         },
         "mode": "lines",
         "type": "scatter",
         "x": [
          2785,
          2785,
          2802.5,
          2802.5
         ],
         "xaxis": "x",
         "y": [
          0,
          6.662949008093224,
          6.662949008093224,
          6.377732926549594
         ],
         "yaxis": "y"
        },
        {
         "hoverinfo": "text",
         "marker": {
          "color": "rgb(40,35,35)"
         },
         "mode": "lines",
         "type": "scatter",
         "x": [
          2835,
          2835,
          2845,
          2845
         ],
         "xaxis": "x",
         "y": [
          0,
          6.15772694378012,
          6.15772694378012,
          0
         ],
         "yaxis": "y"
        },
        {
         "hoverinfo": "text",
         "marker": {
          "color": "rgb(40,35,35)"
         },
         "mode": "lines",
         "type": "scatter",
         "x": [
          2825,
          2825,
          2840,
          2840
         ],
         "xaxis": "x",
         "y": [
          0,
          6.622389769111675,
          6.622389769111675,
          6.15772694378012
         ],
         "yaxis": "y"
        },
        {
         "hoverinfo": "text",
         "marker": {
          "color": "rgb(40,35,35)"
         },
         "mode": "lines",
         "type": "scatter",
         "x": [
          2865,
          2865,
          2875,
          2875
         ],
         "xaxis": "x",
         "y": [
          0,
          6.134575903506765,
          6.134575903506765,
          0
         ],
         "yaxis": "y"
        },
        {
         "hoverinfo": "text",
         "marker": {
          "color": "rgb(40,35,35)"
         },
         "mode": "lines",
         "type": "scatter",
         "x": [
          2855,
          2855,
          2870,
          2870
         ],
         "xaxis": "x",
         "y": [
          0,
          7.096887516809364,
          7.096887516809364,
          6.134575903506765
         ],
         "yaxis": "y"
        },
        {
         "hoverinfo": "text",
         "marker": {
          "color": "rgb(40,35,35)"
         },
         "mode": "lines",
         "type": "scatter",
         "x": [
          2832.5,
          2832.5,
          2862.5,
          2862.5
         ],
         "xaxis": "x",
         "y": [
          6.622389769111675,
          7.713646021986176,
          7.713646021986176,
          7.096887516809364
         ],
         "yaxis": "y"
        },
        {
         "hoverinfo": "text",
         "marker": {
          "color": "rgb(40,35,35)"
         },
         "mode": "lines",
         "type": "scatter",
         "x": [
          2793.75,
          2793.75,
          2847.5,
          2847.5
         ],
         "xaxis": "x",
         "y": [
          6.662949008093224,
          7.976496263464631,
          7.976496263464631,
          7.713646021986176
         ],
         "yaxis": "y"
        },
        {
         "hoverinfo": "text",
         "marker": {
          "color": "rgb(40,35,35)"
         },
         "mode": "lines",
         "type": "scatter",
         "x": [
          2741.875,
          2741.875,
          2820.625,
          2820.625
         ],
         "xaxis": "x",
         "y": [
          7.471419835127718,
          8.505521271061193,
          8.505521271061193,
          7.976496263464631
         ],
         "yaxis": "y"
        },
        {
         "hoverinfo": "text",
         "marker": {
          "color": "rgb(61,153,112)"
         },
         "mode": "lines",
         "type": "scatter",
         "x": [
          2885,
          2885,
          2895,
          2895
         ],
         "xaxis": "x",
         "y": [
          0,
          6.8490972725759764,
          6.8490972725759764,
          0
         ],
         "yaxis": "y"
        },
        {
         "hoverinfo": "text",
         "marker": {
          "color": "rgb(61,153,112)"
         },
         "mode": "lines",
         "type": "scatter",
         "x": [
          2905,
          2905,
          2915,
          2915
         ],
         "xaxis": "x",
         "y": [
          0,
          7.040967720640345,
          7.040967720640345,
          0
         ],
         "yaxis": "y"
        },
        {
         "hoverinfo": "text",
         "marker": {
          "color": "rgb(61,153,112)"
         },
         "mode": "lines",
         "type": "scatter",
         "x": [
          2890,
          2890,
          2910,
          2910
         ],
         "xaxis": "x",
         "y": [
          6.8490972725759764,
          7.272451959450661,
          7.272451959450661,
          7.040967720640345
         ],
         "yaxis": "y"
        },
        {
         "hoverinfo": "text",
         "marker": {
          "color": "rgb(61,153,112)"
         },
         "mode": "lines",
         "type": "scatter",
         "x": [
          2935,
          2935,
          2945,
          2945
         ],
         "xaxis": "x",
         "y": [
          0,
          6.1821176869158005,
          6.1821176869158005,
          0
         ],
         "yaxis": "y"
        },
        {
         "hoverinfo": "text",
         "marker": {
          "color": "rgb(61,153,112)"
         },
         "mode": "lines",
         "type": "scatter",
         "x": [
          2925,
          2925,
          2940,
          2940
         ],
         "xaxis": "x",
         "y": [
          0,
          6.708426265188501,
          6.708426265188501,
          6.1821176869158005
         ],
         "yaxis": "y"
        },
        {
         "hoverinfo": "text",
         "marker": {
          "color": "rgb(61,153,112)"
         },
         "mode": "lines",
         "type": "scatter",
         "x": [
          2965,
          2965,
          2975,
          2975
         ],
         "xaxis": "x",
         "y": [
          0,
          5.750554285986182,
          5.750554285986182,
          0
         ],
         "yaxis": "y"
        },
        {
         "hoverinfo": "text",
         "marker": {
          "color": "rgb(61,153,112)"
         },
         "mode": "lines",
         "type": "scatter",
         "x": [
          2955,
          2955,
          2970,
          2970
         ],
         "xaxis": "x",
         "y": [
          0,
          6.709497945501285,
          6.709497945501285,
          5.750554285986182
         ],
         "yaxis": "y"
        },
        {
         "hoverinfo": "text",
         "marker": {
          "color": "rgb(61,153,112)"
         },
         "mode": "lines",
         "type": "scatter",
         "x": [
          2932.5,
          2932.5,
          2962.5,
          2962.5
         ],
         "xaxis": "x",
         "y": [
          6.708426265188501,
          7.448553996028293,
          7.448553996028293,
          6.709497945501285
         ],
         "yaxis": "y"
        },
        {
         "hoverinfo": "text",
         "marker": {
          "color": "rgb(61,153,112)"
         },
         "mode": "lines",
         "type": "scatter",
         "x": [
          2985,
          2985,
          2995,
          2995
         ],
         "xaxis": "x",
         "y": [
          0,
          5.5866029087494296,
          5.5866029087494296,
          0
         ],
         "yaxis": "y"
        },
        {
         "hoverinfo": "text",
         "marker": {
          "color": "rgb(61,153,112)"
         },
         "mode": "lines",
         "type": "scatter",
         "x": [
          3005,
          3005,
          3015,
          3015
         ],
         "xaxis": "x",
         "y": [
          0,
          6.074069239033769,
          6.074069239033769,
          0
         ],
         "yaxis": "y"
        },
        {
         "hoverinfo": "text",
         "marker": {
          "color": "rgb(61,153,112)"
         },
         "mode": "lines",
         "type": "scatter",
         "x": [
          2990,
          2990,
          3010,
          3010
         ],
         "xaxis": "x",
         "y": [
          5.5866029087494296,
          6.7487647994651105,
          6.7487647994651105,
          6.074069239033769
         ],
         "yaxis": "y"
        },
        {
         "hoverinfo": "text",
         "marker": {
          "color": "rgb(61,153,112)"
         },
         "mode": "lines",
         "type": "scatter",
         "x": [
          3045,
          3045,
          3055,
          3055
         ],
         "xaxis": "x",
         "y": [
          0,
          5.458625736141576,
          5.458625736141576,
          0
         ],
         "yaxis": "y"
        },
        {
         "hoverinfo": "text",
         "marker": {
          "color": "rgb(61,153,112)"
         },
         "mode": "lines",
         "type": "scatter",
         "x": [
          3035,
          3035,
          3050,
          3050
         ],
         "xaxis": "x",
         "y": [
          0,
          6.3532541832011225,
          6.3532541832011225,
          5.458625736141576
         ],
         "yaxis": "y"
        },
        {
         "hoverinfo": "text",
         "marker": {
          "color": "rgb(61,153,112)"
         },
         "mode": "lines",
         "type": "scatter",
         "x": [
          3025,
          3025,
          3042.5,
          3042.5
         ],
         "xaxis": "x",
         "y": [
          0,
          6.754354179043856,
          6.754354179043856,
          6.3532541832011225
         ],
         "yaxis": "y"
        },
        {
         "hoverinfo": "text",
         "marker": {
          "color": "rgb(61,153,112)"
         },
         "mode": "lines",
         "type": "scatter",
         "x": [
          3000,
          3000,
          3033.75,
          3033.75
         ],
         "xaxis": "x",
         "y": [
          6.7487647994651105,
          7.492473570377124,
          7.492473570377124,
          6.754354179043856
         ],
         "yaxis": "y"
        },
        {
         "hoverinfo": "text",
         "marker": {
          "color": "rgb(61,153,112)"
         },
         "mode": "lines",
         "type": "scatter",
         "x": [
          2947.5,
          2947.5,
          3016.875,
          3016.875
         ],
         "xaxis": "x",
         "y": [
          7.448553996028293,
          7.760627961060617,
          7.760627961060617,
          7.492473570377124
         ],
         "yaxis": "y"
        },
        {
         "hoverinfo": "text",
         "marker": {
          "color": "rgb(61,153,112)"
         },
         "mode": "lines",
         "type": "scatter",
         "x": [
          3075,
          3075,
          3085,
          3085
         ],
         "xaxis": "x",
         "y": [
          0,
          5.813096346393318,
          5.813096346393318,
          0
         ],
         "yaxis": "y"
        },
        {
         "hoverinfo": "text",
         "marker": {
          "color": "rgb(61,153,112)"
         },
         "mode": "lines",
         "type": "scatter",
         "x": [
          3065,
          3065,
          3080,
          3080
         ],
         "xaxis": "x",
         "y": [
          0,
          6.936462312599334,
          6.936462312599334,
          5.813096346393318
         ],
         "yaxis": "y"
        },
        {
         "hoverinfo": "text",
         "marker": {
          "color": "rgb(61,153,112)"
         },
         "mode": "lines",
         "type": "scatter",
         "x": [
          3115,
          3115,
          3125,
          3125
         ],
         "xaxis": "x",
         "y": [
          0,
          6.325777934588598,
          6.325777934588598,
          0
         ],
         "yaxis": "y"
        },
        {
         "hoverinfo": "text",
         "marker": {
          "color": "rgb(61,153,112)"
         },
         "mode": "lines",
         "type": "scatter",
         "x": [
          3105,
          3105,
          3120,
          3120
         ],
         "xaxis": "x",
         "y": [
          0,
          6.479785932919455,
          6.479785932919455,
          6.325777934588598
         ],
         "yaxis": "y"
        },
        {
         "hoverinfo": "text",
         "marker": {
          "color": "rgb(61,153,112)"
         },
         "mode": "lines",
         "type": "scatter",
         "x": [
          3095,
          3095,
          3112.5,
          3112.5
         ],
         "xaxis": "x",
         "y": [
          0,
          7.485907782957097,
          7.485907782957097,
          6.479785932919455
         ],
         "yaxis": "y"
        },
        {
         "hoverinfo": "text",
         "marker": {
          "color": "rgb(61,153,112)"
         },
         "mode": "lines",
         "type": "scatter",
         "x": [
          3072.5,
          3072.5,
          3103.75,
          3103.75
         ],
         "xaxis": "x",
         "y": [
          6.936462312599334,
          8.057733903482388,
          8.057733903482388,
          7.485907782957097
         ],
         "yaxis": "y"
        },
        {
         "hoverinfo": "text",
         "marker": {
          "color": "rgb(61,153,112)"
         },
         "mode": "lines",
         "type": "scatter",
         "x": [
          2982.1875,
          2982.1875,
          3088.125,
          3088.125
         ],
         "xaxis": "x",
         "y": [
          7.760627961060617,
          8.195489645546026,
          8.195489645546026,
          8.057733903482388
         ],
         "yaxis": "y"
        },
        {
         "hoverinfo": "text",
         "marker": {
          "color": "rgb(61,153,112)"
         },
         "mode": "lines",
         "type": "scatter",
         "x": [
          3135,
          3135,
          3145,
          3145
         ],
         "xaxis": "x",
         "y": [
          0,
          6.451874273311211,
          6.451874273311211,
          0
         ],
         "yaxis": "y"
        },
        {
         "hoverinfo": "text",
         "marker": {
          "color": "rgb(61,153,112)"
         },
         "mode": "lines",
         "type": "scatter",
         "x": [
          3155,
          3155,
          3165,
          3165
         ],
         "xaxis": "x",
         "y": [
          0,
          6.500669264200113,
          6.500669264200113,
          0
         ],
         "yaxis": "y"
        },
        {
         "hoverinfo": "text",
         "marker": {
          "color": "rgb(61,153,112)"
         },
         "mode": "lines",
         "type": "scatter",
         "x": [
          3140,
          3140,
          3160,
          3160
         ],
         "xaxis": "x",
         "y": [
          6.451874273311211,
          6.924826614354592,
          6.924826614354592,
          6.500669264200113
         ],
         "yaxis": "y"
        },
        {
         "hoverinfo": "text",
         "marker": {
          "color": "rgb(61,153,112)"
         },
         "mode": "lines",
         "type": "scatter",
         "x": [
          3185,
          3185,
          3195,
          3195
         ],
         "xaxis": "x",
         "y": [
          0,
          6.006429875283416,
          6.006429875283416,
          0
         ],
         "yaxis": "y"
        },
        {
         "hoverinfo": "text",
         "marker": {
          "color": "rgb(61,153,112)"
         },
         "mode": "lines",
         "type": "scatter",
         "x": [
          3175,
          3175,
          3190,
          3190
         ],
         "xaxis": "x",
         "y": [
          0,
          7.300029451108077,
          7.300029451108077,
          6.006429875283416
         ],
         "yaxis": "y"
        },
        {
         "hoverinfo": "text",
         "marker": {
          "color": "rgb(61,153,112)"
         },
         "mode": "lines",
         "type": "scatter",
         "x": [
          3150,
          3150,
          3182.5,
          3182.5
         ],
         "xaxis": "x",
         "y": [
          6.924826614354592,
          8.316695512578024,
          8.316695512578024,
          7.300029451108077
         ],
         "yaxis": "y"
        },
        {
         "hoverinfo": "text",
         "marker": {
          "color": "rgb(61,153,112)"
         },
         "mode": "lines",
         "type": "scatter",
         "x": [
          3035.15625,
          3035.15625,
          3166.25,
          3166.25
         ],
         "xaxis": "x",
         "y": [
          8.195489645546026,
          8.49642865372025,
          8.49642865372025,
          8.316695512578024
         ],
         "yaxis": "y"
        },
        {
         "hoverinfo": "text",
         "marker": {
          "color": "rgb(61,153,112)"
         },
         "mode": "lines",
         "type": "scatter",
         "x": [
          2900,
          2900,
          3100.703125,
          3100.703125
         ],
         "xaxis": "x",
         "y": [
          7.272451959450661,
          8.721625020804774,
          8.721625020804774,
          8.49642865372025
         ],
         "yaxis": "y"
        },
        {
         "hoverinfo": "text",
         "marker": {
          "color": "rgb(0,116,217)"
         },
         "mode": "lines",
         "type": "scatter",
         "x": [
          2781.25,
          2781.25,
          3000.3515625,
          3000.3515625
         ],
         "xaxis": "x",
         "y": [
          8.505521271061193,
          9.149135501934678,
          9.149135501934678,
          8.721625020804774
         ],
         "yaxis": "y"
        },
        {
         "hoverinfo": "text",
         "marker": {
          "color": "rgb(255,65,54)"
         },
         "mode": "lines",
         "type": "scatter",
         "x": [
          3215,
          3215,
          3225,
          3225
         ],
         "xaxis": "x",
         "y": [
          0,
          6.383451915811953,
          6.383451915811953,
          0
         ],
         "yaxis": "y"
        },
        {
         "hoverinfo": "text",
         "marker": {
          "color": "rgb(255,65,54)"
         },
         "mode": "lines",
         "type": "scatter",
         "x": [
          3205,
          3205,
          3220,
          3220
         ],
         "xaxis": "x",
         "y": [
          0,
          7.757501749346434,
          7.757501749346434,
          6.383451915811953
         ],
         "yaxis": "y"
        },
        {
         "hoverinfo": "text",
         "marker": {
          "color": "rgb(35,205,205)"
         },
         "mode": "lines",
         "type": "scatter",
         "x": [
          3255,
          3255,
          3265,
          3265
         ],
         "xaxis": "x",
         "y": [
          0,
          6.506550441857814,
          6.506550441857814,
          0
         ],
         "yaxis": "y"
        },
        {
         "hoverinfo": "text",
         "marker": {
          "color": "rgb(35,205,205)"
         },
         "mode": "lines",
         "type": "scatter",
         "x": [
          3245,
          3245,
          3260,
          3260
         ],
         "xaxis": "x",
         "y": [
          0,
          7.198961861952579,
          7.198961861952579,
          6.506550441857814
         ],
         "yaxis": "y"
        },
        {
         "hoverinfo": "text",
         "marker": {
          "color": "rgb(35,205,205)"
         },
         "mode": "lines",
         "type": "scatter",
         "x": [
          3235,
          3235,
          3252.5,
          3252.5
         ],
         "xaxis": "x",
         "y": [
          0,
          7.70394454002164,
          7.70394454002164,
          7.198961861952579
         ],
         "yaxis": "y"
        },
        {
         "hoverinfo": "text",
         "marker": {
          "color": "rgb(35,205,205)"
         },
         "mode": "lines",
         "type": "scatter",
         "x": [
          3285,
          3285,
          3295,
          3295
         ],
         "xaxis": "x",
         "y": [
          0,
          5.804235862145823,
          5.804235862145823,
          0
         ],
         "yaxis": "y"
        },
        {
         "hoverinfo": "text",
         "marker": {
          "color": "rgb(35,205,205)"
         },
         "mode": "lines",
         "type": "scatter",
         "x": [
          3315,
          3315,
          3325,
          3325
         ],
         "xaxis": "x",
         "y": [
          0,
          6.0117950650124685,
          6.0117950650124685,
          0
         ],
         "yaxis": "y"
        },
        {
         "hoverinfo": "text",
         "marker": {
          "color": "rgb(35,205,205)"
         },
         "mode": "lines",
         "type": "scatter",
         "x": [
          3305,
          3305,
          3320,
          3320
         ],
         "xaxis": "x",
         "y": [
          0,
          6.402496771504721,
          6.402496771504721,
          6.0117950650124685
         ],
         "yaxis": "y"
        },
        {
         "hoverinfo": "text",
         "marker": {
          "color": "rgb(35,205,205)"
         },
         "mode": "lines",
         "type": "scatter",
         "x": [
          3290,
          3290,
          3312.5,
          3312.5
         ],
         "xaxis": "x",
         "y": [
          5.804235862145823,
          7.297568686195941,
          7.297568686195941,
          6.402496771504721
         ],
         "yaxis": "y"
        },
        {
         "hoverinfo": "text",
         "marker": {
          "color": "rgb(35,205,205)"
         },
         "mode": "lines",
         "type": "scatter",
         "x": [
          3275,
          3275,
          3301.25,
          3301.25
         ],
         "xaxis": "x",
         "y": [
          0,
          7.911846890846669,
          7.911846890846669,
          7.297568686195941
         ],
         "yaxis": "y"
        },
        {
         "hoverinfo": "text",
         "marker": {
          "color": "rgb(35,205,205)"
         },
         "mode": "lines",
         "type": "scatter",
         "x": [
          3243.75,
          3243.75,
          3288.125,
          3288.125
         ],
         "xaxis": "x",
         "y": [
          7.70394454002164,
          8.20025003766403,
          8.20025003766403,
          7.911846890846669
         ],
         "yaxis": "y"
        },
        {
         "hoverinfo": "text",
         "marker": {
          "color": "rgb(0,116,217)"
         },
         "mode": "lines",
         "type": "scatter",
         "x": [
          3212.5,
          3212.5,
          3265.9375,
          3265.9375
         ],
         "xaxis": "x",
         "y": [
          7.757501749346434,
          9.194710715306211,
          9.194710715306211,
          8.20025003766403
         ],
         "yaxis": "y"
        },
        {
         "hoverinfo": "text",
         "marker": {
          "color": "rgb(0,116,217)"
         },
         "mode": "lines",
         "type": "scatter",
         "x": [
          2890.80078125,
          2890.80078125,
          3239.21875,
          3239.21875
         ],
         "xaxis": "x",
         "y": [
          9.149135501934678,
          9.46190162467866,
          9.46190162467866,
          9.194710715306211
         ],
         "yaxis": "y"
        },
        {
         "hoverinfo": "text",
         "marker": {
          "color": "rgb(133,20,75)"
         },
         "mode": "lines",
         "type": "scatter",
         "x": [
          3335,
          3335,
          3345,
          3345
         ],
         "xaxis": "x",
         "y": [
          0,
          6.864626974187386,
          6.864626974187386,
          0
         ],
         "yaxis": "y"
        },
        {
         "hoverinfo": "text",
         "marker": {
          "color": "rgb(133,20,75)"
         },
         "mode": "lines",
         "type": "scatter",
         "x": [
          3355,
          3355,
          3365,
          3365
         ],
         "xaxis": "x",
         "y": [
          0,
          6.305359849971606,
          6.305359849971606,
          0
         ],
         "yaxis": "y"
        },
        {
         "hoverinfo": "text",
         "marker": {
          "color": "rgb(133,20,75)"
         },
         "mode": "lines",
         "type": "scatter",
         "x": [
          3375,
          3375,
          3385,
          3385
         ],
         "xaxis": "x",
         "y": [
          0,
          6.381369687466905,
          6.381369687466905,
          0
         ],
         "yaxis": "y"
        },
        {
         "hoverinfo": "text",
         "marker": {
          "color": "rgb(133,20,75)"
         },
         "mode": "lines",
         "type": "scatter",
         "x": [
          3360,
          3360,
          3380,
          3380
         ],
         "xaxis": "x",
         "y": [
          6.305359849971606,
          7.270902100881495,
          7.270902100881495,
          6.381369687466905
         ],
         "yaxis": "y"
        },
        {
         "hoverinfo": "text",
         "marker": {
          "color": "rgb(133,20,75)"
         },
         "mode": "lines",
         "type": "scatter",
         "x": [
          3395,
          3395,
          3405,
          3405
         ],
         "xaxis": "x",
         "y": [
          0,
          5.958962569926668,
          5.958962569926668,
          0
         ],
         "yaxis": "y"
        },
        {
         "hoverinfo": "text",
         "marker": {
          "color": "rgb(133,20,75)"
         },
         "mode": "lines",
         "type": "scatter",
         "x": [
          3415,
          3415,
          3425,
          3425
         ],
         "xaxis": "x",
         "y": [
          0,
          6.309295455456276,
          6.309295455456276,
          0
         ],
         "yaxis": "y"
        },
        {
         "hoverinfo": "text",
         "marker": {
          "color": "rgb(133,20,75)"
         },
         "mode": "lines",
         "type": "scatter",
         "x": [
          3400,
          3400,
          3420,
          3420
         ],
         "xaxis": "x",
         "y": [
          5.958962569926668,
          7.380426216753366,
          7.380426216753366,
          6.309295455456276
         ],
         "yaxis": "y"
        },
        {
         "hoverinfo": "text",
         "marker": {
          "color": "rgb(133,20,75)"
         },
         "mode": "lines",
         "type": "scatter",
         "x": [
          3370,
          3370,
          3410,
          3410
         ],
         "xaxis": "x",
         "y": [
          7.270902100881495,
          7.688116141005588,
          7.688116141005588,
          7.380426216753366
         ],
         "yaxis": "y"
        },
        {
         "hoverinfo": "text",
         "marker": {
          "color": "rgb(133,20,75)"
         },
         "mode": "lines",
         "type": "scatter",
         "x": [
          3340,
          3340,
          3390,
          3390
         ],
         "xaxis": "x",
         "y": [
          6.864626974187386,
          8.019389568619268,
          8.019389568619268,
          7.688116141005588
         ],
         "yaxis": "y"
        },
        {
         "hoverinfo": "text",
         "marker": {
          "color": "rgb(133,20,75)"
         },
         "mode": "lines",
         "type": "scatter",
         "x": [
          3435,
          3435,
          3445,
          3445
         ],
         "xaxis": "x",
         "y": [
          0,
          6.635345703323729,
          6.635345703323729,
          0
         ],
         "yaxis": "y"
        },
        {
         "hoverinfo": "text",
         "marker": {
          "color": "rgb(133,20,75)"
         },
         "mode": "lines",
         "type": "scatter",
         "x": [
          3455,
          3455,
          3465,
          3465
         ],
         "xaxis": "x",
         "y": [
          0,
          6.035844781140648,
          6.035844781140648,
          0
         ],
         "yaxis": "y"
        },
        {
         "hoverinfo": "text",
         "marker": {
          "color": "rgb(133,20,75)"
         },
         "mode": "lines",
         "type": "scatter",
         "x": [
          3485,
          3485,
          3495,
          3495
         ],
         "xaxis": "x",
         "y": [
          0,
          5.743438698263656,
          5.743438698263656,
          0
         ],
         "yaxis": "y"
        },
        {
         "hoverinfo": "text",
         "marker": {
          "color": "rgb(133,20,75)"
         },
         "mode": "lines",
         "type": "scatter",
         "x": [
          3475,
          3475,
          3490,
          3490
         ],
         "xaxis": "x",
         "y": [
          0,
          6.820661587262829,
          6.820661587262829,
          5.743438698263656
         ],
         "yaxis": "y"
        },
        {
         "hoverinfo": "text",
         "marker": {
          "color": "rgb(133,20,75)"
         },
         "mode": "lines",
         "type": "scatter",
         "x": [
          3460,
          3460,
          3482.5,
          3482.5
         ],
         "xaxis": "x",
         "y": [
          6.035844781140648,
          7.289285507401284,
          7.289285507401284,
          6.820661587262829
         ],
         "yaxis": "y"
        },
        {
         "hoverinfo": "text",
         "marker": {
          "color": "rgb(133,20,75)"
         },
         "mode": "lines",
         "type": "scatter",
         "x": [
          3440,
          3440,
          3471.25,
          3471.25
         ],
         "xaxis": "x",
         "y": [
          6.635345703323729,
          7.65871316067603,
          7.65871316067603,
          7.289285507401284
         ],
         "yaxis": "y"
        },
        {
         "hoverinfo": "text",
         "marker": {
          "color": "rgb(133,20,75)"
         },
         "mode": "lines",
         "type": "scatter",
         "x": [
          3505,
          3505,
          3515,
          3515
         ],
         "xaxis": "x",
         "y": [
          0,
          6.275307625131217,
          6.275307625131217,
          0
         ],
         "yaxis": "y"
        },
        {
         "hoverinfo": "text",
         "marker": {
          "color": "rgb(133,20,75)"
         },
         "mode": "lines",
         "type": "scatter",
         "x": [
          3525,
          3525,
          3535,
          3535
         ],
         "xaxis": "x",
         "y": [
          0,
          6.448955734569946,
          6.448955734569946,
          0
         ],
         "yaxis": "y"
        },
        {
         "hoverinfo": "text",
         "marker": {
          "color": "rgb(133,20,75)"
         },
         "mode": "lines",
         "type": "scatter",
         "x": [
          3510,
          3510,
          3530,
          3530
         ],
         "xaxis": "x",
         "y": [
          6.275307625131217,
          7.247671715465121,
          7.247671715465121,
          6.448955734569946
         ],
         "yaxis": "y"
        },
        {
         "hoverinfo": "text",
         "marker": {
          "color": "rgb(133,20,75)"
         },
         "mode": "lines",
         "type": "scatter",
         "x": [
          3555,
          3555,
          3565,
          3565
         ],
         "xaxis": "x",
         "y": [
          0,
          5.010963260128555,
          5.010963260128555,
          0
         ],
         "yaxis": "y"
        },
        {
         "hoverinfo": "text",
         "marker": {
          "color": "rgb(133,20,75)"
         },
         "mode": "lines",
         "type": "scatter",
         "x": [
          3545,
          3545,
          3560,
          3560
         ],
         "xaxis": "x",
         "y": [
          0,
          6.2626703331312745,
          6.2626703331312745,
          5.010963260128555
         ],
         "yaxis": "y"
        },
        {
         "hoverinfo": "text",
         "marker": {
          "color": "rgb(133,20,75)"
         },
         "mode": "lines",
         "type": "scatter",
         "x": [
          3575,
          3575,
          3585,
          3585
         ],
         "xaxis": "x",
         "y": [
          0,
          7.101461219905849,
          7.101461219905849,
          0
         ],
         "yaxis": "y"
        },
        {
         "hoverinfo": "text",
         "marker": {
          "color": "rgb(133,20,75)"
         },
         "mode": "lines",
         "type": "scatter",
         "x": [
          3552.5,
          3552.5,
          3580,
          3580
         ],
         "xaxis": "x",
         "y": [
          6.2626703331312745,
          7.512544705055696,
          7.512544705055696,
          7.101461219905849
         ],
         "yaxis": "y"
        },
        {
         "hoverinfo": "text",
         "marker": {
          "color": "rgb(133,20,75)"
         },
         "mode": "lines",
         "type": "scatter",
         "x": [
          3520,
          3520,
          3566.25,
          3566.25
         ],
         "xaxis": "x",
         "y": [
          7.247671715465121,
          8.027484462481343,
          8.027484462481343,
          7.512544705055696
         ],
         "yaxis": "y"
        },
        {
         "hoverinfo": "text",
         "marker": {
          "color": "rgb(133,20,75)"
         },
         "mode": "lines",
         "type": "scatter",
         "x": [
          3455.625,
          3455.625,
          3543.125,
          3543.125
         ],
         "xaxis": "x",
         "y": [
          7.65871316067603,
          8.252595189724751,
          8.252595189724751,
          8.027484462481343
         ],
         "yaxis": "y"
        },
        {
         "hoverinfo": "text",
         "marker": {
          "color": "rgb(133,20,75)"
         },
         "mode": "lines",
         "type": "scatter",
         "x": [
          3365,
          3365,
          3499.375,
          3499.375
         ],
         "xaxis": "x",
         "y": [
          8.019389568619268,
          8.464570599028432,
          8.464570599028432,
          8.252595189724751
         ],
         "yaxis": "y"
        },
        {
         "hoverinfo": "text",
         "marker": {
          "color": "rgb(133,20,75)"
         },
         "mode": "lines",
         "type": "scatter",
         "x": [
          3615,
          3615,
          3625,
          3625
         ],
         "xaxis": "x",
         "y": [
          0,
          5.942901205120866,
          5.942901205120866,
          0
         ],
         "yaxis": "y"
        },
        {
         "hoverinfo": "text",
         "marker": {
          "color": "rgb(133,20,75)"
         },
         "mode": "lines",
         "type": "scatter",
         "x": [
          3605,
          3605,
          3620,
          3620
         ],
         "xaxis": "x",
         "y": [
          0,
          6.760767135619402,
          6.760767135619402,
          5.942901205120866
         ],
         "yaxis": "y"
        },
        {
         "hoverinfo": "text",
         "marker": {
          "color": "rgb(133,20,75)"
         },
         "mode": "lines",
         "type": "scatter",
         "x": [
          3595,
          3595,
          3612.5,
          3612.5
         ],
         "xaxis": "x",
         "y": [
          0,
          7.262183094736307,
          7.262183094736307,
          6.760767135619402
         ],
         "yaxis": "y"
        },
        {
         "hoverinfo": "text",
         "marker": {
          "color": "rgb(133,20,75)"
         },
         "mode": "lines",
         "type": "scatter",
         "x": [
          3635,
          3635,
          3645,
          3645
         ],
         "xaxis": "x",
         "y": [
          0,
          6.144046472728935,
          6.144046472728935,
          0
         ],
         "yaxis": "y"
        },
        {
         "hoverinfo": "text",
         "marker": {
          "color": "rgb(133,20,75)"
         },
         "mode": "lines",
         "type": "scatter",
         "x": [
          3665,
          3665,
          3675,
          3675
         ],
         "xaxis": "x",
         "y": [
          0,
          5.7122327480955715,
          5.7122327480955715,
          0
         ],
         "yaxis": "y"
        },
        {
         "hoverinfo": "text",
         "marker": {
          "color": "rgb(133,20,75)"
         },
         "mode": "lines",
         "type": "scatter",
         "x": [
          3655,
          3655,
          3670,
          3670
         ],
         "xaxis": "x",
         "y": [
          0,
          6.267362353421288,
          6.267362353421288,
          5.7122327480955715
         ],
         "yaxis": "y"
        },
        {
         "hoverinfo": "text",
         "marker": {
          "color": "rgb(133,20,75)"
         },
         "mode": "lines",
         "type": "scatter",
         "x": [
          3640,
          3640,
          3662.5,
          3662.5
         ],
         "xaxis": "x",
         "y": [
          6.144046472728935,
          6.826813541132363,
          6.826813541132363,
          6.267362353421288
         ],
         "yaxis": "y"
        },
        {
         "hoverinfo": "text",
         "marker": {
          "color": "rgb(133,20,75)"
         },
         "mode": "lines",
         "type": "scatter",
         "x": [
          3695,
          3695,
          3705,
          3705
         ],
         "xaxis": "x",
         "y": [
          0,
          6.637301791609361,
          6.637301791609361,
          0
         ],
         "yaxis": "y"
        },
        {
         "hoverinfo": "text",
         "marker": {
          "color": "rgb(133,20,75)"
         },
         "mode": "lines",
         "type": "scatter",
         "x": [
          3685,
          3685,
          3700,
          3700
         ],
         "xaxis": "x",
         "y": [
          0,
          7.158898898100042,
          7.158898898100042,
          6.637301791609361
         ],
         "yaxis": "y"
        },
        {
         "hoverinfo": "text",
         "marker": {
          "color": "rgb(133,20,75)"
         },
         "mode": "lines",
         "type": "scatter",
         "x": [
          3651.25,
          3651.25,
          3692.5,
          3692.5
         ],
         "xaxis": "x",
         "y": [
          6.826813541132363,
          7.498247132148653,
          7.498247132148653,
          7.158898898100042
         ],
         "yaxis": "y"
        },
        {
         "hoverinfo": "text",
         "marker": {
          "color": "rgb(133,20,75)"
         },
         "mode": "lines",
         "type": "scatter",
         "x": [
          3715,
          3715,
          3725,
          3725
         ],
         "xaxis": "x",
         "y": [
          0,
          4.991709404877414,
          4.991709404877414,
          0
         ],
         "yaxis": "y"
        },
        {
         "hoverinfo": "text",
         "marker": {
          "color": "rgb(133,20,75)"
         },
         "mode": "lines",
         "type": "scatter",
         "x": [
          3735,
          3735,
          3745,
          3745
         ],
         "xaxis": "x",
         "y": [
          0,
          5.884946389195752,
          5.884946389195752,
          0
         ],
         "yaxis": "y"
        },
        {
         "hoverinfo": "text",
         "marker": {
          "color": "rgb(133,20,75)"
         },
         "mode": "lines",
         "type": "scatter",
         "x": [
          3755,
          3755,
          3765,
          3765
         ],
         "xaxis": "x",
         "y": [
          0,
          5.886790359323124,
          5.886790359323124,
          0
         ],
         "yaxis": "y"
        },
        {
         "hoverinfo": "text",
         "marker": {
          "color": "rgb(133,20,75)"
         },
         "mode": "lines",
         "type": "scatter",
         "x": [
          3740,
          3740,
          3760,
          3760
         ],
         "xaxis": "x",
         "y": [
          5.884946389195752,
          6.682228809263469,
          6.682228809263469,
          5.886790359323124
         ],
         "yaxis": "y"
        },
        {
         "hoverinfo": "text",
         "marker": {
          "color": "rgb(133,20,75)"
         },
         "mode": "lines",
         "type": "scatter",
         "x": [
          3720,
          3720,
          3750,
          3750
         ],
         "xaxis": "x",
         "y": [
          4.991709404877414,
          7.1984520566251335,
          7.1984520566251335,
          6.682228809263469
         ],
         "yaxis": "y"
        },
        {
         "hoverinfo": "text",
         "marker": {
          "color": "rgb(133,20,75)"
         },
         "mode": "lines",
         "type": "scatter",
         "x": [
          3785,
          3785,
          3795,
          3795
         ],
         "xaxis": "x",
         "y": [
          0,
          5.89093474741304,
          5.89093474741304,
          0
         ],
         "yaxis": "y"
        },
        {
         "hoverinfo": "text",
         "marker": {
          "color": "rgb(133,20,75)"
         },
         "mode": "lines",
         "type": "scatter",
         "x": [
          3775,
          3775,
          3790,
          3790
         ],
         "xaxis": "x",
         "y": [
          0,
          6.731598829930923,
          6.731598829930923,
          5.89093474741304
         ],
         "yaxis": "y"
        },
        {
         "hoverinfo": "text",
         "marker": {
          "color": "rgb(133,20,75)"
         },
         "mode": "lines",
         "type": "scatter",
         "x": [
          3815,
          3815,
          3825,
          3825
         ],
         "xaxis": "x",
         "y": [
          0,
          5.89489431171039,
          5.89489431171039,
          0
         ],
         "yaxis": "y"
        },
        {
         "hoverinfo": "text",
         "marker": {
          "color": "rgb(133,20,75)"
         },
         "mode": "lines",
         "type": "scatter",
         "x": [
          3805,
          3805,
          3820,
          3820
         ],
         "xaxis": "x",
         "y": [
          0,
          6.822210996669857,
          6.822210996669857,
          5.89489431171039
         ],
         "yaxis": "y"
        },
        {
         "hoverinfo": "text",
         "marker": {
          "color": "rgb(133,20,75)"
         },
         "mode": "lines",
         "type": "scatter",
         "x": [
          3782.5,
          3782.5,
          3812.5,
          3812.5
         ],
         "xaxis": "x",
         "y": [
          6.731598829930923,
          7.3927345286999655,
          7.3927345286999655,
          6.822210996669857
         ],
         "yaxis": "y"
        },
        {
         "hoverinfo": "text",
         "marker": {
          "color": "rgb(133,20,75)"
         },
         "mode": "lines",
         "type": "scatter",
         "x": [
          3735,
          3735,
          3797.5,
          3797.5
         ],
         "xaxis": "x",
         "y": [
          7.1984520566251335,
          7.81071923861074,
          7.81071923861074,
          7.3927345286999655
         ],
         "yaxis": "y"
        },
        {
         "hoverinfo": "text",
         "marker": {
          "color": "rgb(133,20,75)"
         },
         "mode": "lines",
         "type": "scatter",
         "x": [
          3671.875,
          3671.875,
          3766.25,
          3766.25
         ],
         "xaxis": "x",
         "y": [
          7.498247132148653,
          8.02994301130535,
          8.02994301130535,
          7.81071923861074
         ],
         "yaxis": "y"
        },
        {
         "hoverinfo": "text",
         "marker": {
          "color": "rgb(133,20,75)"
         },
         "mode": "lines",
         "type": "scatter",
         "x": [
          3603.75,
          3603.75,
          3719.0625,
          3719.0625
         ],
         "xaxis": "x",
         "y": [
          7.262183094736307,
          8.650466143641312,
          8.650466143641312,
          8.02994301130535
         ],
         "yaxis": "y"
        },
        {
         "hoverinfo": "text",
         "marker": {
          "color": "rgb(133,20,75)"
         },
         "mode": "lines",
         "type": "scatter",
         "x": [
          3432.1875,
          3432.1875,
          3661.40625,
          3661.40625
         ],
         "xaxis": "x",
         "y": [
          8.464570599028432,
          8.719231332197793,
          8.719231332197793,
          8.650466143641312
         ],
         "yaxis": "y"
        },
        {
         "hoverinfo": "text",
         "marker": {
          "color": "rgb(133,20,75)"
         },
         "mode": "lines",
         "type": "scatter",
         "x": [
          3845,
          3845,
          3855,
          3855
         ],
         "xaxis": "x",
         "y": [
          0,
          5.7778500792262095,
          5.7778500792262095,
          0
         ],
         "yaxis": "y"
        },
        {
         "hoverinfo": "text",
         "marker": {
          "color": "rgb(133,20,75)"
         },
         "mode": "lines",
         "type": "scatter",
         "x": [
          3865,
          3865,
          3875,
          3875
         ],
         "xaxis": "x",
         "y": [
          0,
          5.929716467693455,
          5.929716467693455,
          0
         ],
         "yaxis": "y"
        },
        {
         "hoverinfo": "text",
         "marker": {
          "color": "rgb(133,20,75)"
         },
         "mode": "lines",
         "type": "scatter",
         "x": [
          3850,
          3850,
          3870,
          3870
         ],
         "xaxis": "x",
         "y": [
          5.7778500792262095,
          6.822510035986444,
          6.822510035986444,
          5.929716467693455
         ],
         "yaxis": "y"
        },
        {
         "hoverinfo": "text",
         "marker": {
          "color": "rgb(133,20,75)"
         },
         "mode": "lines",
         "type": "scatter",
         "x": [
          3835,
          3835,
          3860,
          3860
         ],
         "xaxis": "x",
         "y": [
          0,
          7.315204265659056,
          7.315204265659056,
          6.822510035986444
         ],
         "yaxis": "y"
        },
        {
         "hoverinfo": "text",
         "marker": {
          "color": "rgb(133,20,75)"
         },
         "mode": "lines",
         "type": "scatter",
         "x": [
          3885,
          3885,
          3895,
          3895
         ],
         "xaxis": "x",
         "y": [
          0,
          5.589567295310162,
          5.589567295310162,
          0
         ],
         "yaxis": "y"
        },
        {
         "hoverinfo": "text",
         "marker": {
          "color": "rgb(133,20,75)"
         },
         "mode": "lines",
         "type": "scatter",
         "x": [
          3925,
          3925,
          3935,
          3935
         ],
         "xaxis": "x",
         "y": [
          0,
          4.812153252873742,
          4.812153252873742,
          0
         ],
         "yaxis": "y"
        },
        {
         "hoverinfo": "text",
         "marker": {
          "color": "rgb(133,20,75)"
         },
         "mode": "lines",
         "type": "scatter",
         "x": [
          3915,
          3915,
          3930,
          3930
         ],
         "xaxis": "x",
         "y": [
          0,
          4.992652484877607,
          4.992652484877607,
          4.812153252873742
         ],
         "yaxis": "y"
        },
        {
         "hoverinfo": "text",
         "marker": {
          "color": "rgb(133,20,75)"
         },
         "mode": "lines",
         "type": "scatter",
         "x": [
          3905,
          3905,
          3922.5,
          3922.5
         ],
         "xaxis": "x",
         "y": [
          0,
          5.567003864165371,
          5.567003864165371,
          4.992652484877607
         ],
         "yaxis": "y"
        },
        {
         "hoverinfo": "text",
         "marker": {
          "color": "rgb(133,20,75)"
         },
         "mode": "lines",
         "type": "scatter",
         "x": [
          3945,
          3945,
          3955,
          3955
         ],
         "xaxis": "x",
         "y": [
          0,
          5.8408819570319555,
          5.8408819570319555,
          0
         ],
         "yaxis": "y"
        },
        {
         "hoverinfo": "text",
         "marker": {
          "color": "rgb(133,20,75)"
         },
         "mode": "lines",
         "type": "scatter",
         "x": [
          3913.75,
          3913.75,
          3950,
          3950
         ],
         "xaxis": "x",
         "y": [
          5.567003864165371,
          6.092034791922843,
          6.092034791922843,
          5.8408819570319555
         ],
         "yaxis": "y"
        },
        {
         "hoverinfo": "text",
         "marker": {
          "color": "rgb(133,20,75)"
         },
         "mode": "lines",
         "type": "scatter",
         "x": [
          3890,
          3890,
          3931.875,
          3931.875
         ],
         "xaxis": "x",
         "y": [
          5.589567295310162,
          6.607770800345474,
          6.607770800345474,
          6.092034791922843
         ],
         "yaxis": "y"
        },
        {
         "hoverinfo": "text",
         "marker": {
          "color": "rgb(133,20,75)"
         },
         "mode": "lines",
         "type": "scatter",
         "x": [
          3965,
          3965,
          3975,
          3975
         ],
         "xaxis": "x",
         "y": [
          0,
          6.15297861149328,
          6.15297861149328,
          0
         ],
         "yaxis": "y"
        },
        {
         "hoverinfo": "text",
         "marker": {
          "color": "rgb(133,20,75)"
         },
         "mode": "lines",
         "type": "scatter",
         "x": [
          3985,
          3985,
          3995,
          3995
         ],
         "xaxis": "x",
         "y": [
          0,
          6.164890189500006,
          6.164890189500006,
          0
         ],
         "yaxis": "y"
        },
        {
         "hoverinfo": "text",
         "marker": {
          "color": "rgb(133,20,75)"
         },
         "mode": "lines",
         "type": "scatter",
         "x": [
          3970,
          3970,
          3990,
          3990
         ],
         "xaxis": "x",
         "y": [
          6.15297861149328,
          6.978508002684294,
          6.978508002684294,
          6.164890189500006
         ],
         "yaxis": "y"
        },
        {
         "hoverinfo": "text",
         "marker": {
          "color": "rgb(133,20,75)"
         },
         "mode": "lines",
         "type": "scatter",
         "x": [
          3910.9375,
          3910.9375,
          3980,
          3980
         ],
         "xaxis": "x",
         "y": [
          6.607770800345474,
          7.392222960110962,
          7.392222960110962,
          6.978508002684294
         ],
         "yaxis": "y"
        },
        {
         "hoverinfo": "text",
         "marker": {
          "color": "rgb(133,20,75)"
         },
         "mode": "lines",
         "type": "scatter",
         "x": [
          3847.5,
          3847.5,
          3945.46875,
          3945.46875
         ],
         "xaxis": "x",
         "y": [
          7.315204265659056,
          7.713454472195142,
          7.713454472195142,
          7.392222960110962
         ],
         "yaxis": "y"
        },
        {
         "hoverinfo": "text",
         "marker": {
          "color": "rgb(133,20,75)"
         },
         "mode": "lines",
         "type": "scatter",
         "x": [
          4005,
          4005,
          4015,
          4015
         ],
         "xaxis": "x",
         "y": [
          0,
          6.993537110625681,
          6.993537110625681,
          0
         ],
         "yaxis": "y"
        },
        {
         "hoverinfo": "text",
         "marker": {
          "color": "rgb(133,20,75)"
         },
         "mode": "lines",
         "type": "scatter",
         "x": [
          4035,
          4035,
          4045,
          4045
         ],
         "xaxis": "x",
         "y": [
          0,
          6.519508715334349,
          6.519508715334349,
          0
         ],
         "yaxis": "y"
        },
        {
         "hoverinfo": "text",
         "marker": {
          "color": "rgb(133,20,75)"
         },
         "mode": "lines",
         "type": "scatter",
         "x": [
          4025,
          4025,
          4040,
          4040
         ],
         "xaxis": "x",
         "y": [
          0,
          7.236448364726682,
          7.236448364726682,
          6.519508715334349
         ],
         "yaxis": "y"
        },
        {
         "hoverinfo": "text",
         "marker": {
          "color": "rgb(133,20,75)"
         },
         "mode": "lines",
         "type": "scatter",
         "x": [
          4010,
          4010,
          4032.5,
          4032.5
         ],
         "xaxis": "x",
         "y": [
          6.993537110625681,
          7.8822502355305115,
          7.8822502355305115,
          7.236448364726682
         ],
         "yaxis": "y"
        },
        {
         "hoverinfo": "text",
         "marker": {
          "color": "rgb(133,20,75)"
         },
         "mode": "lines",
         "type": "scatter",
         "x": [
          3896.484375,
          3896.484375,
          4021.25,
          4021.25
         ],
         "xaxis": "x",
         "y": [
          7.713454472195142,
          8.299015325460758,
          8.299015325460758,
          7.8822502355305115
         ],
         "yaxis": "y"
        },
        {
         "hoverinfo": "text",
         "marker": {
          "color": "rgb(133,20,75)"
         },
         "mode": "lines",
         "type": "scatter",
         "x": [
          4065,
          4065,
          4075,
          4075
         ],
         "xaxis": "x",
         "y": [
          0,
          5.675370345024058,
          5.675370345024058,
          0
         ],
         "yaxis": "y"
        },
        {
         "hoverinfo": "text",
         "marker": {
          "color": "rgb(133,20,75)"
         },
         "mode": "lines",
         "type": "scatter",
         "x": [
          4055,
          4055,
          4070,
          4070
         ],
         "xaxis": "x",
         "y": [
          0,
          6.634190277376284,
          6.634190277376284,
          5.675370345024058
         ],
         "yaxis": "y"
        },
        {
         "hoverinfo": "text",
         "marker": {
          "color": "rgb(133,20,75)"
         },
         "mode": "lines",
         "type": "scatter",
         "x": [
          4085,
          4085,
          4095,
          4095
         ],
         "xaxis": "x",
         "y": [
          0,
          5.5869161212557,
          5.5869161212557,
          0
         ],
         "yaxis": "y"
        },
        {
         "hoverinfo": "text",
         "marker": {
          "color": "rgb(133,20,75)"
         },
         "mode": "lines",
         "type": "scatter",
         "x": [
          4105,
          4105,
          4115,
          4115
         ],
         "xaxis": "x",
         "y": [
          0,
          4.7931861610422795,
          4.7931861610422795,
          0
         ],
         "yaxis": "y"
        },
        {
         "hoverinfo": "text",
         "marker": {
          "color": "rgb(133,20,75)"
         },
         "mode": "lines",
         "type": "scatter",
         "x": [
          4125,
          4125,
          4135,
          4135
         ],
         "xaxis": "x",
         "y": [
          0,
          4.821267484773976,
          4.821267484773976,
          0
         ],
         "yaxis": "y"
        },
        {
         "hoverinfo": "text",
         "marker": {
          "color": "rgb(133,20,75)"
         },
         "mode": "lines",
         "type": "scatter",
         "x": [
          4110,
          4110,
          4130,
          4130
         ],
         "xaxis": "x",
         "y": [
          4.7931861610422795,
          6.392613650419103,
          6.392613650419103,
          4.821267484773976
         ],
         "yaxis": "y"
        },
        {
         "hoverinfo": "text",
         "marker": {
          "color": "rgb(133,20,75)"
         },
         "mode": "lines",
         "type": "scatter",
         "x": [
          4090,
          4090,
          4120,
          4120
         ],
         "xaxis": "x",
         "y": [
          5.5869161212557,
          6.828820902974722,
          6.828820902974722,
          6.392613650419103
         ],
         "yaxis": "y"
        },
        {
         "hoverinfo": "text",
         "marker": {
          "color": "rgb(133,20,75)"
         },
         "mode": "lines",
         "type": "scatter",
         "x": [
          4062.5,
          4062.5,
          4105,
          4105
         ],
         "xaxis": "x",
         "y": [
          6.634190277376284,
          7.374787019013183,
          7.374787019013183,
          6.828820902974722
         ],
         "yaxis": "y"
        },
        {
         "hoverinfo": "text",
         "marker": {
          "color": "rgb(133,20,75)"
         },
         "mode": "lines",
         "type": "scatter",
         "x": [
          4155,
          4155,
          4165,
          4165
         ],
         "xaxis": "x",
         "y": [
          0,
          5.3196120978287675,
          5.3196120978287675,
          0
         ],
         "yaxis": "y"
        },
        {
         "hoverinfo": "text",
         "marker": {
          "color": "rgb(133,20,75)"
         },
         "mode": "lines",
         "type": "scatter",
         "x": [
          4145,
          4145,
          4160,
          4160
         ],
         "xaxis": "x",
         "y": [
          0,
          6.0215243182352856,
          6.0215243182352856,
          5.3196120978287675
         ],
         "yaxis": "y"
        },
        {
         "hoverinfo": "text",
         "marker": {
          "color": "rgb(133,20,75)"
         },
         "mode": "lines",
         "type": "scatter",
         "x": [
          4175,
          4175,
          4185,
          4185
         ],
         "xaxis": "x",
         "y": [
          0,
          6.549641432764589,
          6.549641432764589,
          0
         ],
         "yaxis": "y"
        },
        {
         "hoverinfo": "text",
         "marker": {
          "color": "rgb(133,20,75)"
         },
         "mode": "lines",
         "type": "scatter",
         "x": [
          4152.5,
          4152.5,
          4180,
          4180
         ],
         "xaxis": "x",
         "y": [
          6.0215243182352856,
          6.911041585420572,
          6.911041585420572,
          6.549641432764589
         ],
         "yaxis": "y"
        },
        {
         "hoverinfo": "text",
         "marker": {
          "color": "rgb(133,20,75)"
         },
         "mode": "lines",
         "type": "scatter",
         "x": [
          4195,
          4195,
          4205,
          4205
         ],
         "xaxis": "x",
         "y": [
          0,
          5.521509250563471,
          5.521509250563471,
          0
         ],
         "yaxis": "y"
        },
        {
         "hoverinfo": "text",
         "marker": {
          "color": "rgb(133,20,75)"
         },
         "mode": "lines",
         "type": "scatter",
         "x": [
          4215,
          4215,
          4225,
          4225
         ],
         "xaxis": "x",
         "y": [
          0,
          6.066732961345646,
          6.066732961345646,
          0
         ],
         "yaxis": "y"
        },
        {
         "hoverinfo": "text",
         "marker": {
          "color": "rgb(133,20,75)"
         },
         "mode": "lines",
         "type": "scatter",
         "x": [
          4200,
          4200,
          4220,
          4220
         ],
         "xaxis": "x",
         "y": [
          5.521509250563471,
          7.06688960799976,
          7.06688960799976,
          6.066732961345646
         ],
         "yaxis": "y"
        },
        {
         "hoverinfo": "text",
         "marker": {
          "color": "rgb(133,20,75)"
         },
         "mode": "lines",
         "type": "scatter",
         "x": [
          4166.25,
          4166.25,
          4210,
          4210
         ],
         "xaxis": "x",
         "y": [
          6.911041585420572,
          7.7977111010703375,
          7.7977111010703375,
          7.06688960799976
         ],
         "yaxis": "y"
        },
        {
         "hoverinfo": "text",
         "marker": {
          "color": "rgb(133,20,75)"
         },
         "mode": "lines",
         "type": "scatter",
         "x": [
          4083.75,
          4083.75,
          4188.125,
          4188.125
         ],
         "xaxis": "x",
         "y": [
          7.374787019013183,
          8.07600597149578,
          8.07600597149578,
          7.7977111010703375
         ],
         "yaxis": "y"
        },
        {
         "hoverinfo": "text",
         "marker": {
          "color": "rgb(133,20,75)"
         },
         "mode": "lines",
         "type": "scatter",
         "x": [
          4235,
          4235,
          4245,
          4245
         ],
         "xaxis": "x",
         "y": [
          0,
          6.058322985533943,
          6.058322985533943,
          0
         ],
         "yaxis": "y"
        },
        {
         "hoverinfo": "text",
         "marker": {
          "color": "rgb(133,20,75)"
         },
         "mode": "lines",
         "type": "scatter",
         "x": [
          4255,
          4255,
          4265,
          4265
         ],
         "xaxis": "x",
         "y": [
          0,
          6.1069295210774825,
          6.1069295210774825,
          0
         ],
         "yaxis": "y"
        },
        {
         "hoverinfo": "text",
         "marker": {
          "color": "rgb(133,20,75)"
         },
         "mode": "lines",
         "type": "scatter",
         "x": [
          4240,
          4240,
          4260,
          4260
         ],
         "xaxis": "x",
         "y": [
          6.058322985533943,
          6.763520187504369,
          6.763520187504369,
          6.1069295210774825
         ],
         "yaxis": "y"
        },
        {
         "hoverinfo": "text",
         "marker": {
          "color": "rgb(133,20,75)"
         },
         "mode": "lines",
         "type": "scatter",
         "x": [
          4275,
          4275,
          4285,
          4285
         ],
         "xaxis": "x",
         "y": [
          0,
          6.330581294848885,
          6.330581294848885,
          0
         ],
         "yaxis": "y"
        },
        {
         "hoverinfo": "text",
         "marker": {
          "color": "rgb(133,20,75)"
         },
         "mode": "lines",
         "type": "scatter",
         "x": [
          4295,
          4295,
          4305,
          4305
         ],
         "xaxis": "x",
         "y": [
          0,
          5.803873235554976,
          5.803873235554976,
          0
         ],
         "yaxis": "y"
        },
        {
         "hoverinfo": "text",
         "marker": {
          "color": "rgb(133,20,75)"
         },
         "mode": "lines",
         "type": "scatter",
         "x": [
          4315,
          4315,
          4325,
          4325
         ],
         "xaxis": "x",
         "y": [
          0,
          5.872920850627406,
          5.872920850627406,
          0
         ],
         "yaxis": "y"
        },
        {
         "hoverinfo": "text",
         "marker": {
          "color": "rgb(133,20,75)"
         },
         "mode": "lines",
         "type": "scatter",
         "x": [
          4300,
          4300,
          4320,
          4320
         ],
         "xaxis": "x",
         "y": [
          5.803873235554976,
          6.5581216187112945,
          6.5581216187112945,
          5.872920850627406
         ],
         "yaxis": "y"
        },
        {
         "hoverinfo": "text",
         "marker": {
          "color": "rgb(133,20,75)"
         },
         "mode": "lines",
         "type": "scatter",
         "x": [
          4355,
          4355,
          4365,
          4365
         ],
         "xaxis": "x",
         "y": [
          0,
          5.913662033079005,
          5.913662033079005,
          0
         ],
         "yaxis": "y"
        },
        {
         "hoverinfo": "text",
         "marker": {
          "color": "rgb(133,20,75)"
         },
         "mode": "lines",
         "type": "scatter",
         "x": [
          4345,
          4345,
          4360,
          4360
         ],
         "xaxis": "x",
         "y": [
          0,
          6.49951064970364,
          6.49951064970364,
          5.913662033079005
         ],
         "yaxis": "y"
        },
        {
         "hoverinfo": "text",
         "marker": {
          "color": "rgb(133,20,75)"
         },
         "mode": "lines",
         "type": "scatter",
         "x": [
          4335,
          4335,
          4352.5,
          4352.5
         ],
         "xaxis": "x",
         "y": [
          0,
          7.103728476090663,
          7.103728476090663,
          6.49951064970364
         ],
         "yaxis": "y"
        },
        {
         "hoverinfo": "text",
         "marker": {
          "color": "rgb(133,20,75)"
         },
         "mode": "lines",
         "type": "scatter",
         "x": [
          4310,
          4310,
          4343.75,
          4343.75
         ],
         "xaxis": "x",
         "y": [
          6.5581216187112945,
          7.230410346452669,
          7.230410346452669,
          7.103728476090663
         ],
         "yaxis": "y"
        },
        {
         "hoverinfo": "text",
         "marker": {
          "color": "rgb(133,20,75)"
         },
         "mode": "lines",
         "type": "scatter",
         "x": [
          4280,
          4280,
          4326.875,
          4326.875
         ],
         "xaxis": "x",
         "y": [
          6.330581294848885,
          7.44620990031989,
          7.44620990031989,
          7.230410346452669
         ],
         "yaxis": "y"
        },
        {
         "hoverinfo": "text",
         "marker": {
          "color": "rgb(133,20,75)"
         },
         "mode": "lines",
         "type": "scatter",
         "x": [
          4250,
          4250,
          4303.4375,
          4303.4375
         ],
         "xaxis": "x",
         "y": [
          6.763520187504369,
          7.557345498611481,
          7.557345498611481,
          7.44620990031989
         ],
         "yaxis": "y"
        },
        {
         "hoverinfo": "text",
         "marker": {
          "color": "rgb(133,20,75)"
         },
         "mode": "lines",
         "type": "scatter",
         "x": [
          4385,
          4385,
          4395,
          4395
         ],
         "xaxis": "x",
         "y": [
          0,
          5.876538666291586,
          5.876538666291586,
          0
         ],
         "yaxis": "y"
        },
        {
         "hoverinfo": "text",
         "marker": {
          "color": "rgb(133,20,75)"
         },
         "mode": "lines",
         "type": "scatter",
         "x": [
          4375,
          4375,
          4390,
          4390
         ],
         "xaxis": "x",
         "y": [
          0,
          6.122250008822476,
          6.122250008822476,
          5.876538666291586
         ],
         "yaxis": "y"
        },
        {
         "hoverinfo": "text",
         "marker": {
          "color": "rgb(133,20,75)"
         },
         "mode": "lines",
         "type": "scatter",
         "x": [
          4415,
          4415,
          4425,
          4425
         ],
         "xaxis": "x",
         "y": [
          0,
          6.077870502938414,
          6.077870502938414,
          0
         ],
         "yaxis": "y"
        },
        {
         "hoverinfo": "text",
         "marker": {
          "color": "rgb(133,20,75)"
         },
         "mode": "lines",
         "type": "scatter",
         "x": [
          4405,
          4405,
          4420,
          4420
         ],
         "xaxis": "x",
         "y": [
          0,
          6.210376414800604,
          6.210376414800604,
          6.077870502938414
         ],
         "yaxis": "y"
        },
        {
         "hoverinfo": "text",
         "marker": {
          "color": "rgb(133,20,75)"
         },
         "mode": "lines",
         "type": "scatter",
         "x": [
          4382.5,
          4382.5,
          4412.5,
          4412.5
         ],
         "xaxis": "x",
         "y": [
          6.122250008822476,
          6.9116802834878115,
          6.9116802834878115,
          6.210376414800604
         ],
         "yaxis": "y"
        },
        {
         "hoverinfo": "text",
         "marker": {
          "color": "rgb(133,20,75)"
         },
         "mode": "lines",
         "type": "scatter",
         "x": [
          4445,
          4445,
          4455,
          4455
         ],
         "xaxis": "x",
         "y": [
          0,
          5.0824647586540275,
          5.0824647586540275,
          0
         ],
         "yaxis": "y"
        },
        {
         "hoverinfo": "text",
         "marker": {
          "color": "rgb(133,20,75)"
         },
         "mode": "lines",
         "type": "scatter",
         "x": [
          4435,
          4435,
          4450,
          4450
         ],
         "xaxis": "x",
         "y": [
          0,
          6.331384047871772,
          6.331384047871772,
          5.0824647586540275
         ],
         "yaxis": "y"
        },
        {
         "hoverinfo": "text",
         "marker": {
          "color": "rgb(133,20,75)"
         },
         "mode": "lines",
         "type": "scatter",
         "x": [
          4465,
          4465,
          4475,
          4475
         ],
         "xaxis": "x",
         "y": [
          0,
          5.923833015822348,
          5.923833015822348,
          0
         ],
         "yaxis": "y"
        },
        {
         "hoverinfo": "text",
         "marker": {
          "color": "rgb(133,20,75)"
         },
         "mode": "lines",
         "type": "scatter",
         "x": [
          4485,
          4485,
          4495,
          4495
         ],
         "xaxis": "x",
         "y": [
          0,
          6.037724390978024,
          6.037724390978024,
          0
         ],
         "yaxis": "y"
        },
        {
         "hoverinfo": "text",
         "marker": {
          "color": "rgb(133,20,75)"
         },
         "mode": "lines",
         "type": "scatter",
         "x": [
          4470,
          4470,
          4490,
          4490
         ],
         "xaxis": "x",
         "y": [
          5.923833015822348,
          6.5964485877934695,
          6.5964485877934695,
          6.037724390978024
         ],
         "yaxis": "y"
        },
        {
         "hoverinfo": "text",
         "marker": {
          "color": "rgb(133,20,75)"
         },
         "mode": "lines",
         "type": "scatter",
         "x": [
          4442.5,
          4442.5,
          4480,
          4480
         ],
         "xaxis": "x",
         "y": [
          6.331384047871772,
          7.039014892603038,
          7.039014892603038,
          6.5964485877934695
         ],
         "yaxis": "y"
        },
        {
         "hoverinfo": "text",
         "marker": {
          "color": "rgb(133,20,75)"
         },
         "mode": "lines",
         "type": "scatter",
         "x": [
          4397.5,
          4397.5,
          4461.25,
          4461.25
         ],
         "xaxis": "x",
         "y": [
          6.9116802834878115,
          7.329439007259494,
          7.329439007259494,
          7.039014892603038
         ],
         "yaxis": "y"
        },
        {
         "hoverinfo": "text",
         "marker": {
          "color": "rgb(133,20,75)"
         },
         "mode": "lines",
         "type": "scatter",
         "x": [
          4505,
          4505,
          4515,
          4515
         ],
         "xaxis": "x",
         "y": [
          0,
          6.416556153279093,
          6.416556153279093,
          0
         ],
         "yaxis": "y"
        },
        {
         "hoverinfo": "text",
         "marker": {
          "color": "rgb(133,20,75)"
         },
         "mode": "lines",
         "type": "scatter",
         "x": [
          4535,
          4535,
          4545,
          4545
         ],
         "xaxis": "x",
         "y": [
          0,
          5.300055315615082,
          5.300055315615082,
          0
         ],
         "yaxis": "y"
        },
        {
         "hoverinfo": "text",
         "marker": {
          "color": "rgb(133,20,75)"
         },
         "mode": "lines",
         "type": "scatter",
         "x": [
          4555,
          4555,
          4565,
          4565
         ],
         "xaxis": "x",
         "y": [
          0,
          5.844297190050498,
          5.844297190050498,
          0
         ],
         "yaxis": "y"
        },
        {
         "hoverinfo": "text",
         "marker": {
          "color": "rgb(133,20,75)"
         },
         "mode": "lines",
         "type": "scatter",
         "x": [
          4540,
          4540,
          4560,
          4560
         ],
         "xaxis": "x",
         "y": [
          5.300055315615082,
          6.363791101483926,
          6.363791101483926,
          5.844297190050498
         ],
         "yaxis": "y"
        },
        {
         "hoverinfo": "text",
         "marker": {
          "color": "rgb(133,20,75)"
         },
         "mode": "lines",
         "type": "scatter",
         "x": [
          4525,
          4525,
          4550,
          4550
         ],
         "xaxis": "x",
         "y": [
          0,
          6.7099541487757355,
          6.7099541487757355,
          6.363791101483926
         ],
         "yaxis": "y"
        },
        {
         "hoverinfo": "text",
         "marker": {
          "color": "rgb(133,20,75)"
         },
         "mode": "lines",
         "type": "scatter",
         "x": [
          4510,
          4510,
          4537.5,
          4537.5
         ],
         "xaxis": "x",
         "y": [
          6.416556153279093,
          7.104171289059921,
          7.104171289059921,
          6.7099541487757355
         ],
         "yaxis": "y"
        },
        {
         "hoverinfo": "text",
         "marker": {
          "color": "rgb(133,20,75)"
         },
         "mode": "lines",
         "type": "scatter",
         "x": [
          4585,
          4585,
          4595,
          4595
         ],
         "xaxis": "x",
         "y": [
          0,
          5.660507833660799,
          5.660507833660799,
          0
         ],
         "yaxis": "y"
        },
        {
         "hoverinfo": "text",
         "marker": {
          "color": "rgb(133,20,75)"
         },
         "mode": "lines",
         "type": "scatter",
         "x": [
          4575,
          4575,
          4590,
          4590
         ],
         "xaxis": "x",
         "y": [
          0,
          6.501519335901578,
          6.501519335901578,
          5.660507833660799
         ],
         "yaxis": "y"
        },
        {
         "hoverinfo": "text",
         "marker": {
          "color": "rgb(133,20,75)"
         },
         "mode": "lines",
         "type": "scatter",
         "x": [
          4605,
          4605,
          4615,
          4615
         ],
         "xaxis": "x",
         "y": [
          0,
          5.838320329643017,
          5.838320329643017,
          0
         ],
         "yaxis": "y"
        },
        {
         "hoverinfo": "text",
         "marker": {
          "color": "rgb(133,20,75)"
         },
         "mode": "lines",
         "type": "scatter",
         "x": [
          4625,
          4625,
          4635,
          4635
         ],
         "xaxis": "x",
         "y": [
          0,
          6.236128352950404,
          6.236128352950404,
          0
         ],
         "yaxis": "y"
        },
        {
         "hoverinfo": "text",
         "marker": {
          "color": "rgb(133,20,75)"
         },
         "mode": "lines",
         "type": "scatter",
         "x": [
          4610,
          4610,
          4630,
          4630
         ],
         "xaxis": "x",
         "y": [
          5.838320329643017,
          6.8947113677778855,
          6.8947113677778855,
          6.236128352950404
         ],
         "yaxis": "y"
        },
        {
         "hoverinfo": "text",
         "marker": {
          "color": "rgb(133,20,75)"
         },
         "mode": "lines",
         "type": "scatter",
         "x": [
          4582.5,
          4582.5,
          4620,
          4620
         ],
         "xaxis": "x",
         "y": [
          6.501519335901578,
          7.123894643689883,
          7.123894643689883,
          6.8947113677778855
         ],
         "yaxis": "y"
        },
        {
         "hoverinfo": "text",
         "marker": {
          "color": "rgb(133,20,75)"
         },
         "mode": "lines",
         "type": "scatter",
         "x": [
          4523.75,
          4523.75,
          4601.25,
          4601.25
         ],
         "xaxis": "x",
         "y": [
          7.104171289059921,
          7.64681154365021,
          7.64681154365021,
          7.123894643689883
         ],
         "yaxis": "y"
        },
        {
         "hoverinfo": "text",
         "marker": {
          "color": "rgb(133,20,75)"
         },
         "mode": "lines",
         "type": "scatter",
         "x": [
          4429.375,
          4429.375,
          4562.5,
          4562.5
         ],
         "xaxis": "x",
         "y": [
          7.329439007259494,
          7.893619610569423,
          7.893619610569423,
          7.64681154365021
         ],
         "yaxis": "y"
        },
        {
         "hoverinfo": "text",
         "marker": {
          "color": "rgb(133,20,75)"
         },
         "mode": "lines",
         "type": "scatter",
         "x": [
          4276.71875,
          4276.71875,
          4495.9375,
          4495.9375
         ],
         "xaxis": "x",
         "y": [
          7.557345498611481,
          8.172028933212394,
          8.172028933212394,
          7.893619610569423
         ],
         "yaxis": "y"
        },
        {
         "hoverinfo": "text",
         "marker": {
          "color": "rgb(133,20,75)"
         },
         "mode": "lines",
         "type": "scatter",
         "x": [
          4135.9375,
          4135.9375,
          4386.328125,
          4386.328125
         ],
         "xaxis": "x",
         "y": [
          8.07600597149578,
          8.33410374350518,
          8.33410374350518,
          8.172028933212394
         ],
         "yaxis": "y"
        },
        {
         "hoverinfo": "text",
         "marker": {
          "color": "rgb(133,20,75)"
         },
         "mode": "lines",
         "type": "scatter",
         "x": [
          3958.8671875,
          3958.8671875,
          4261.1328125,
          4261.1328125
         ],
         "xaxis": "x",
         "y": [
          8.299015325460758,
          8.765019928752045,
          8.765019928752045,
          8.33410374350518
         ],
         "yaxis": "y"
        },
        {
         "hoverinfo": "text",
         "marker": {
          "color": "rgb(133,20,75)"
         },
         "mode": "lines",
         "type": "scatter",
         "x": [
          3546.796875,
          3546.796875,
          4110,
          4110
         ],
         "xaxis": "x",
         "y": [
          8.719231332197793,
          8.946502004102863,
          8.946502004102863,
          8.765019928752045
         ],
         "yaxis": "y"
        },
        {
         "hoverinfo": "text",
         "marker": {
          "color": "rgb(255,220,0)"
         },
         "mode": "lines",
         "type": "scatter",
         "x": [
          4645,
          4645,
          4655,
          4655
         ],
         "xaxis": "x",
         "y": [
          0,
          6.692799665035846,
          6.692799665035846,
          0
         ],
         "yaxis": "y"
        },
        {
         "hoverinfo": "text",
         "marker": {
          "color": "rgb(255,220,0)"
         },
         "mode": "lines",
         "type": "scatter",
         "x": [
          4665,
          4665,
          4675,
          4675
         ],
         "xaxis": "x",
         "y": [
          0,
          5.0382324376236705,
          5.0382324376236705,
          0
         ],
         "yaxis": "y"
        },
        {
         "hoverinfo": "text",
         "marker": {
          "color": "rgb(255,220,0)"
         },
         "mode": "lines",
         "type": "scatter",
         "x": [
          4695,
          4695,
          4705,
          4705
         ],
         "xaxis": "x",
         "y": [
          0,
          5.599307767711425,
          5.599307767711425,
          0
         ],
         "yaxis": "y"
        },
        {
         "hoverinfo": "text",
         "marker": {
          "color": "rgb(255,220,0)"
         },
         "mode": "lines",
         "type": "scatter",
         "x": [
          4685,
          4685,
          4700,
          4700
         ],
         "xaxis": "x",
         "y": [
          0,
          6.318015082764131,
          6.318015082764131,
          5.599307767711425
         ],
         "yaxis": "y"
        },
        {
         "hoverinfo": "text",
         "marker": {
          "color": "rgb(255,220,0)"
         },
         "mode": "lines",
         "type": "scatter",
         "x": [
          4670,
          4670,
          4692.5,
          4692.5
         ],
         "xaxis": "x",
         "y": [
          5.0382324376236705,
          7.293105756461753,
          7.293105756461753,
          6.318015082764131
         ],
         "yaxis": "y"
        },
        {
         "hoverinfo": "text",
         "marker": {
          "color": "rgb(255,220,0)"
         },
         "mode": "lines",
         "type": "scatter",
         "x": [
          4650,
          4650,
          4681.25,
          4681.25
         ],
         "xaxis": "x",
         "y": [
          6.692799665035846,
          7.923150819412074,
          7.923150819412074,
          7.293105756461753
         ],
         "yaxis": "y"
        },
        {
         "hoverinfo": "text",
         "marker": {
          "color": "rgb(255,220,0)"
         },
         "mode": "lines",
         "type": "scatter",
         "x": [
          4725,
          4725,
          4735,
          4735
         ],
         "xaxis": "x",
         "y": [
          0,
          5.73218887647297,
          5.73218887647297,
          0
         ],
         "yaxis": "y"
        },
        {
         "hoverinfo": "text",
         "marker": {
          "color": "rgb(255,220,0)"
         },
         "mode": "lines",
         "type": "scatter",
         "x": [
          4715,
          4715,
          4730,
          4730
         ],
         "xaxis": "x",
         "y": [
          0,
          6.081745154018472,
          6.081745154018472,
          5.73218887647297
         ],
         "yaxis": "y"
        },
        {
         "hoverinfo": "text",
         "marker": {
          "color": "rgb(255,220,0)"
         },
         "mode": "lines",
         "type": "scatter",
         "x": [
          4745,
          4745,
          4755,
          4755
         ],
         "xaxis": "x",
         "y": [
          0,
          6.765288675041108,
          6.765288675041108,
          0
         ],
         "yaxis": "y"
        },
        {
         "hoverinfo": "text",
         "marker": {
          "color": "rgb(255,220,0)"
         },
         "mode": "lines",
         "type": "scatter",
         "x": [
          4722.5,
          4722.5,
          4750,
          4750
         ],
         "xaxis": "x",
         "y": [
          6.081745154018472,
          7.239410250490967,
          7.239410250490967,
          6.765288675041108
         ],
         "yaxis": "y"
        },
        {
         "hoverinfo": "text",
         "marker": {
          "color": "rgb(255,220,0)"
         },
         "mode": "lines",
         "type": "scatter",
         "x": [
          4775,
          4775,
          4785,
          4785
         ],
         "xaxis": "x",
         "y": [
          0,
          6.247946761861758,
          6.247946761861758,
          0
         ],
         "yaxis": "y"
        },
        {
         "hoverinfo": "text",
         "marker": {
          "color": "rgb(255,220,0)"
         },
         "mode": "lines",
         "type": "scatter",
         "x": [
          4765,
          4765,
          4780,
          4780
         ],
         "xaxis": "x",
         "y": [
          0,
          6.909167059435789,
          6.909167059435789,
          6.247946761861758
         ],
         "yaxis": "y"
        },
        {
         "hoverinfo": "text",
         "marker": {
          "color": "rgb(255,220,0)"
         },
         "mode": "lines",
         "type": "scatter",
         "x": [
          4805,
          4805,
          4815,
          4815
         ],
         "xaxis": "x",
         "y": [
          0,
          6.484752413695499,
          6.484752413695499,
          0
         ],
         "yaxis": "y"
        },
        {
         "hoverinfo": "text",
         "marker": {
          "color": "rgb(255,220,0)"
         },
         "mode": "lines",
         "type": "scatter",
         "x": [
          4795,
          4795,
          4810,
          4810
         ],
         "xaxis": "x",
         "y": [
          0,
          6.9396306676418655,
          6.9396306676418655,
          6.484752413695499
         ],
         "yaxis": "y"
        },
        {
         "hoverinfo": "text",
         "marker": {
          "color": "rgb(255,220,0)"
         },
         "mode": "lines",
         "type": "scatter",
         "x": [
          4772.5,
          4772.5,
          4802.5,
          4802.5
         ],
         "xaxis": "x",
         "y": [
          6.909167059435789,
          7.428650701420006,
          7.428650701420006,
          6.9396306676418655
         ],
         "yaxis": "y"
        },
        {
         "hoverinfo": "text",
         "marker": {
          "color": "rgb(255,220,0)"
         },
         "mode": "lines",
         "type": "scatter",
         "x": [
          4835,
          4835,
          4845,
          4845
         ],
         "xaxis": "x",
         "y": [
          0,
          5.996836112076329,
          5.996836112076329,
          0
         ],
         "yaxis": "y"
        },
        {
         "hoverinfo": "text",
         "marker": {
          "color": "rgb(255,220,0)"
         },
         "mode": "lines",
         "type": "scatter",
         "x": [
          4825,
          4825,
          4840,
          4840
         ],
         "xaxis": "x",
         "y": [
          0,
          6.556249347280286,
          6.556249347280286,
          5.996836112076329
         ],
         "yaxis": "y"
        },
        {
         "hoverinfo": "text",
         "marker": {
          "color": "rgb(255,220,0)"
         },
         "mode": "lines",
         "type": "scatter",
         "x": [
          4855,
          4855,
          4865,
          4865
         ],
         "xaxis": "x",
         "y": [
          0,
          6.568981324116194,
          6.568981324116194,
          0
         ],
         "yaxis": "y"
        },
        {
         "hoverinfo": "text",
         "marker": {
          "color": "rgb(255,220,0)"
         },
         "mode": "lines",
         "type": "scatter",
         "x": [
          4832.5,
          4832.5,
          4860,
          4860
         ],
         "xaxis": "x",
         "y": [
          6.556249347280286,
          7.578145398467767,
          7.578145398467767,
          6.568981324116194
         ],
         "yaxis": "y"
        },
        {
         "hoverinfo": "text",
         "marker": {
          "color": "rgb(255,220,0)"
         },
         "mode": "lines",
         "type": "scatter",
         "x": [
          4787.5,
          4787.5,
          4846.25,
          4846.25
         ],
         "xaxis": "x",
         "y": [
          7.428650701420006,
          7.987671331419068,
          7.987671331419068,
          7.578145398467767
         ],
         "yaxis": "y"
        },
        {
         "hoverinfo": "text",
         "marker": {
          "color": "rgb(255,220,0)"
         },
         "mode": "lines",
         "type": "scatter",
         "x": [
          4736.25,
          4736.25,
          4816.875,
          4816.875
         ],
         "xaxis": "x",
         "y": [
          7.239410250490967,
          8.443037040681347,
          8.443037040681347,
          7.987671331419068
         ],
         "yaxis": "y"
        },
        {
         "hoverinfo": "text",
         "marker": {
          "color": "rgb(255,220,0)"
         },
         "mode": "lines",
         "type": "scatter",
         "x": [
          4665.625,
          4665.625,
          4776.5625,
          4776.5625
         ],
         "xaxis": "x",
         "y": [
          7.923150819412074,
          8.6251496708819,
          8.6251496708819,
          8.443037040681347
         ],
         "yaxis": "y"
        },
        {
         "hoverinfo": "text",
         "marker": {
          "color": "rgb(40,35,35)"
         },
         "mode": "lines",
         "type": "scatter",
         "x": [
          4875,
          4875,
          4885,
          4885
         ],
         "xaxis": "x",
         "y": [
          0,
          6.388991137139687,
          6.388991137139687,
          0
         ],
         "yaxis": "y"
        },
        {
         "hoverinfo": "text",
         "marker": {
          "color": "rgb(40,35,35)"
         },
         "mode": "lines",
         "type": "scatter",
         "x": [
          4905,
          4905,
          4915,
          4915
         ],
         "xaxis": "x",
         "y": [
          0,
          5.900512955241053,
          5.900512955241053,
          0
         ],
         "yaxis": "y"
        },
        {
         "hoverinfo": "text",
         "marker": {
          "color": "rgb(40,35,35)"
         },
         "mode": "lines",
         "type": "scatter",
         "x": [
          4895,
          4895,
          4910,
          4910
         ],
         "xaxis": "x",
         "y": [
          0,
          6.895308134718881,
          6.895308134718881,
          5.900512955241053
         ],
         "yaxis": "y"
        },
        {
         "hoverinfo": "text",
         "marker": {
          "color": "rgb(40,35,35)"
         },
         "mode": "lines",
         "type": "scatter",
         "x": [
          4925,
          4925,
          4935,
          4935
         ],
         "xaxis": "x",
         "y": [
          0,
          6.314044809120643,
          6.314044809120643,
          0
         ],
         "yaxis": "y"
        },
        {
         "hoverinfo": "text",
         "marker": {
          "color": "rgb(40,35,35)"
         },
         "mode": "lines",
         "type": "scatter",
         "x": [
          4945,
          4945,
          4955,
          4955
         ],
         "xaxis": "x",
         "y": [
          0,
          6.571515838886851,
          6.571515838886851,
          0
         ],
         "yaxis": "y"
        },
        {
         "hoverinfo": "text",
         "marker": {
          "color": "rgb(40,35,35)"
         },
         "mode": "lines",
         "type": "scatter",
         "x": [
          4930,
          4930,
          4950,
          4950
         ],
         "xaxis": "x",
         "y": [
          6.314044809120643,
          7.535853562916663,
          7.535853562916663,
          6.571515838886851
         ],
         "yaxis": "y"
        },
        {
         "hoverinfo": "text",
         "marker": {
          "color": "rgb(40,35,35)"
         },
         "mode": "lines",
         "type": "scatter",
         "x": [
          4902.5,
          4902.5,
          4940,
          4940
         ],
         "xaxis": "x",
         "y": [
          6.895308134718881,
          8.139129906360129,
          8.139129906360129,
          7.535853562916663
         ],
         "yaxis": "y"
        },
        {
         "hoverinfo": "text",
         "marker": {
          "color": "rgb(40,35,35)"
         },
         "mode": "lines",
         "type": "scatter",
         "x": [
          4880,
          4880,
          4921.25,
          4921.25
         ],
         "xaxis": "x",
         "y": [
          6.388991137139687,
          8.406227392221062,
          8.406227392221062,
          8.139129906360129
         ],
         "yaxis": "y"
        },
        {
         "hoverinfo": "text",
         "marker": {
          "color": "rgb(40,35,35)"
         },
         "mode": "lines",
         "type": "scatter",
         "x": [
          4965,
          4965,
          4975,
          4975
         ],
         "xaxis": "x",
         "y": [
          0,
          7.346544171671376,
          7.346544171671376,
          0
         ],
         "yaxis": "y"
        },
        {
         "hoverinfo": "text",
         "marker": {
          "color": "rgb(40,35,35)"
         },
         "mode": "lines",
         "type": "scatter",
         "x": [
          4985,
          4985,
          4995,
          4995
         ],
         "xaxis": "x",
         "y": [
          0,
          6.661682905160445,
          6.661682905160445,
          0
         ],
         "yaxis": "y"
        },
        {
         "hoverinfo": "text",
         "marker": {
          "color": "rgb(40,35,35)"
         },
         "mode": "lines",
         "type": "scatter",
         "x": [
          5005,
          5005,
          5015,
          5015
         ],
         "xaxis": "x",
         "y": [
          0,
          5.805168021565202,
          5.805168021565202,
          0
         ],
         "yaxis": "y"
        },
        {
         "hoverinfo": "text",
         "marker": {
          "color": "rgb(40,35,35)"
         },
         "mode": "lines",
         "type": "scatter",
         "x": [
          5025,
          5025,
          5035,
          5035
         ],
         "xaxis": "x",
         "y": [
          0,
          6.093998647635772,
          6.093998647635772,
          0
         ],
         "yaxis": "y"
        },
        {
         "hoverinfo": "text",
         "marker": {
          "color": "rgb(40,35,35)"
         },
         "mode": "lines",
         "type": "scatter",
         "x": [
          5010,
          5010,
          5030,
          5030
         ],
         "xaxis": "x",
         "y": [
          5.805168021565202,
          6.900685955103818,
          6.900685955103818,
          6.093998647635772
         ],
         "yaxis": "y"
        },
        {
         "hoverinfo": "text",
         "marker": {
          "color": "rgb(40,35,35)"
         },
         "mode": "lines",
         "type": "scatter",
         "x": [
          4990,
          4990,
          5020,
          5020
         ],
         "xaxis": "x",
         "y": [
          6.661682905160445,
          7.8324619721523385,
          7.8324619721523385,
          6.900685955103818
         ],
         "yaxis": "y"
        },
        {
         "hoverinfo": "text",
         "marker": {
          "color": "rgb(40,35,35)"
         },
         "mode": "lines",
         "type": "scatter",
         "x": [
          4970,
          4970,
          5005,
          5005
         ],
         "xaxis": "x",
         "y": [
          7.346544171671376,
          8.412204426854007,
          8.412204426854007,
          7.8324619721523385
         ],
         "yaxis": "y"
        },
        {
         "hoverinfo": "text",
         "marker": {
          "color": "rgb(40,35,35)"
         },
         "mode": "lines",
         "type": "scatter",
         "x": [
          4900.625,
          4900.625,
          4987.5,
          4987.5
         ],
         "xaxis": "x",
         "y": [
          8.406227392221062,
          8.704503343450126,
          8.704503343450126,
          8.412204426854007
         ],
         "yaxis": "y"
        },
        {
         "hoverinfo": "text",
         "marker": {
          "color": "rgb(0,116,217)"
         },
         "mode": "lines",
         "type": "scatter",
         "x": [
          4721.09375,
          4721.09375,
          4944.0625,
          4944.0625
         ],
         "xaxis": "x",
         "y": [
          8.6251496708819,
          9.150337936690597,
          9.150337936690597,
          8.704503343450126
         ],
         "yaxis": "y"
        },
        {
         "hoverinfo": "text",
         "marker": {
          "color": "rgb(0,116,217)"
         },
         "mode": "lines",
         "type": "scatter",
         "x": [
          3828.3984375,
          3828.3984375,
          4832.578125,
          4832.578125
         ],
         "xaxis": "x",
         "y": [
          8.946502004102863,
          9.27570995999955,
          9.27570995999955,
          9.150337936690597
         ],
         "yaxis": "y"
        },
        {
         "hoverinfo": "text",
         "marker": {
          "color": "rgb(61,153,112)"
         },
         "mode": "lines",
         "type": "scatter",
         "x": [
          5055,
          5055,
          5065,
          5065
         ],
         "xaxis": "x",
         "y": [
          0,
          4.866090060337397,
          4.866090060337397,
          0
         ],
         "yaxis": "y"
        },
        {
         "hoverinfo": "text",
         "marker": {
          "color": "rgb(61,153,112)"
         },
         "mode": "lines",
         "type": "scatter",
         "x": [
          5085,
          5085,
          5095,
          5095
         ],
         "xaxis": "x",
         "y": [
          0,
          5.537771826839716,
          5.537771826839716,
          0
         ],
         "yaxis": "y"
        },
        {
         "hoverinfo": "text",
         "marker": {
          "color": "rgb(61,153,112)"
         },
         "mode": "lines",
         "type": "scatter",
         "x": [
          5075,
          5075,
          5090,
          5090
         ],
         "xaxis": "x",
         "y": [
          0,
          5.897000684001294,
          5.897000684001294,
          5.537771826839716
         ],
         "yaxis": "y"
        },
        {
         "hoverinfo": "text",
         "marker": {
          "color": "rgb(61,153,112)"
         },
         "mode": "lines",
         "type": "scatter",
         "x": [
          5060,
          5060,
          5082.5,
          5082.5
         ],
         "xaxis": "x",
         "y": [
          4.866090060337397,
          7.650385389423435,
          7.650385389423435,
          5.897000684001294
         ],
         "yaxis": "y"
        },
        {
         "hoverinfo": "text",
         "marker": {
          "color": "rgb(61,153,112)"
         },
         "mode": "lines",
         "type": "scatter",
         "x": [
          5045,
          5045,
          5071.25,
          5071.25
         ],
         "xaxis": "x",
         "y": [
          0,
          7.950782594823288,
          7.950782594823288,
          7.650385389423435
         ],
         "yaxis": "y"
        },
        {
         "hoverinfo": "text",
         "marker": {
          "color": "rgb(61,153,112)"
         },
         "mode": "lines",
         "type": "scatter",
         "x": [
          5105,
          5105,
          5115,
          5115
         ],
         "xaxis": "x",
         "y": [
          0,
          3.5348578192968305,
          3.5348578192968305,
          0
         ],
         "yaxis": "y"
        },
        {
         "hoverinfo": "text",
         "marker": {
          "color": "rgb(61,153,112)"
         },
         "mode": "lines",
         "type": "scatter",
         "x": [
          5125,
          5125,
          5135,
          5135
         ],
         "xaxis": "x",
         "y": [
          0,
          5.945338675164711,
          5.945338675164711,
          0
         ],
         "yaxis": "y"
        },
        {
         "hoverinfo": "text",
         "marker": {
          "color": "rgb(61,153,112)"
         },
         "mode": "lines",
         "type": "scatter",
         "x": [
          5110,
          5110,
          5130,
          5130
         ],
         "xaxis": "x",
         "y": [
          3.5348578192968305,
          7.202495424648093,
          7.202495424648093,
          5.945338675164711
         ],
         "yaxis": "y"
        },
        {
         "hoverinfo": "text",
         "marker": {
          "color": "rgb(61,153,112)"
         },
         "mode": "lines",
         "type": "scatter",
         "x": [
          5145,
          5145,
          5155,
          5155
         ],
         "xaxis": "x",
         "y": [
          0,
          7.315529069309004,
          7.315529069309004,
          0
         ],
         "yaxis": "y"
        },
        {
         "hoverinfo": "text",
         "marker": {
          "color": "rgb(61,153,112)"
         },
         "mode": "lines",
         "type": "scatter",
         "x": [
          5120,
          5120,
          5150,
          5150
         ],
         "xaxis": "x",
         "y": [
          7.202495424648093,
          8.322150076183329,
          8.322150076183329,
          7.315529069309004
         ],
         "yaxis": "y"
        },
        {
         "hoverinfo": "text",
         "marker": {
          "color": "rgb(61,153,112)"
         },
         "mode": "lines",
         "type": "scatter",
         "x": [
          5165,
          5165,
          5175,
          5175
         ],
         "xaxis": "x",
         "y": [
          0,
          6.217261383011438,
          6.217261383011438,
          0
         ],
         "yaxis": "y"
        },
        {
         "hoverinfo": "text",
         "marker": {
          "color": "rgb(61,153,112)"
         },
         "mode": "lines",
         "type": "scatter",
         "x": [
          5195,
          5195,
          5205,
          5205
         ],
         "xaxis": "x",
         "y": [
          0,
          6.512958939910896,
          6.512958939910896,
          0
         ],
         "yaxis": "y"
        },
        {
         "hoverinfo": "text",
         "marker": {
          "color": "rgb(61,153,112)"
         },
         "mode": "lines",
         "type": "scatter",
         "x": [
          5185,
          5185,
          5200,
          5200
         ],
         "xaxis": "x",
         "y": [
          0,
          6.642034033295352,
          6.642034033295352,
          6.512958939910896
         ],
         "yaxis": "y"
        },
        {
         "hoverinfo": "text",
         "marker": {
          "color": "rgb(61,153,112)"
         },
         "mode": "lines",
         "type": "scatter",
         "x": [
          5215,
          5215,
          5225,
          5225
         ],
         "xaxis": "x",
         "y": [
          0,
          5.663750426860736,
          5.663750426860736,
          0
         ],
         "yaxis": "y"
        },
        {
         "hoverinfo": "text",
         "marker": {
          "color": "rgb(61,153,112)"
         },
         "mode": "lines",
         "type": "scatter",
         "x": [
          5245,
          5245,
          5255,
          5255
         ],
         "xaxis": "x",
         "y": [
          0,
          6.187459743209236,
          6.187459743209236,
          0
         ],
         "yaxis": "y"
        },
        {
         "hoverinfo": "text",
         "marker": {
          "color": "rgb(61,153,112)"
         },
         "mode": "lines",
         "type": "scatter",
         "x": [
          5235,
          5235,
          5250,
          5250
         ],
         "xaxis": "x",
         "y": [
          0,
          6.512192569581091,
          6.512192569581091,
          6.187459743209236
         ],
         "yaxis": "y"
        },
        {
         "hoverinfo": "text",
         "marker": {
          "color": "rgb(61,153,112)"
         },
         "mode": "lines",
         "type": "scatter",
         "x": [
          5220,
          5220,
          5242.5,
          5242.5
         ],
         "xaxis": "x",
         "y": [
          5.663750426860736,
          7.042988653403311,
          7.042988653403311,
          6.512192569581091
         ],
         "yaxis": "y"
        },
        {
         "hoverinfo": "text",
         "marker": {
          "color": "rgb(61,153,112)"
         },
         "mode": "lines",
         "type": "scatter",
         "x": [
          5192.5,
          5192.5,
          5231.25,
          5231.25
         ],
         "xaxis": "x",
         "y": [
          6.642034033295352,
          7.668657238935077,
          7.668657238935077,
          7.042988653403311
         ],
         "yaxis": "y"
        },
        {
         "hoverinfo": "text",
         "marker": {
          "color": "rgb(61,153,112)"
         },
         "mode": "lines",
         "type": "scatter",
         "x": [
          5170,
          5170,
          5211.875,
          5211.875
         ],
         "xaxis": "x",
         "y": [
          6.217261383011438,
          7.8227026168287,
          7.8227026168287,
          7.668657238935077
         ],
         "yaxis": "y"
        },
        {
         "hoverinfo": "text",
         "marker": {
          "color": "rgb(61,153,112)"
         },
         "mode": "lines",
         "type": "scatter",
         "x": [
          5275,
          5275,
          5285,
          5285
         ],
         "xaxis": "x",
         "y": [
          0,
          5.580752053281181,
          5.580752053281181,
          0
         ],
         "yaxis": "y"
        },
        {
         "hoverinfo": "text",
         "marker": {
          "color": "rgb(61,153,112)"
         },
         "mode": "lines",
         "type": "scatter",
         "x": [
          5295,
          5295,
          5305,
          5305
         ],
         "xaxis": "x",
         "y": [
          0,
          5.775873522859503,
          5.775873522859503,
          0
         ],
         "yaxis": "y"
        },
        {
         "hoverinfo": "text",
         "marker": {
          "color": "rgb(61,153,112)"
         },
         "mode": "lines",
         "type": "scatter",
         "x": [
          5280,
          5280,
          5300,
          5300
         ],
         "xaxis": "x",
         "y": [
          5.580752053281181,
          6.228221900557345,
          6.228221900557345,
          5.775873522859503
         ],
         "yaxis": "y"
        },
        {
         "hoverinfo": "text",
         "marker": {
          "color": "rgb(61,153,112)"
         },
         "mode": "lines",
         "type": "scatter",
         "x": [
          5265,
          5265,
          5290,
          5290
         ],
         "xaxis": "x",
         "y": [
          0,
          6.721354986377026,
          6.721354986377026,
          6.228221900557345
         ],
         "yaxis": "y"
        },
        {
         "hoverinfo": "text",
         "marker": {
          "color": "rgb(61,153,112)"
         },
         "mode": "lines",
         "type": "scatter",
         "x": [
          5315,
          5315,
          5325,
          5325
         ],
         "xaxis": "x",
         "y": [
          0,
          6.949839400507643,
          6.949839400507643,
          0
         ],
         "yaxis": "y"
        },
        {
         "hoverinfo": "text",
         "marker": {
          "color": "rgb(61,153,112)"
         },
         "mode": "lines",
         "type": "scatter",
         "x": [
          5277.5,
          5277.5,
          5320,
          5320
         ],
         "xaxis": "x",
         "y": [
          6.721354986377026,
          7.886838126005867,
          7.886838126005867,
          6.949839400507643
         ],
         "yaxis": "y"
        },
        {
         "hoverinfo": "text",
         "marker": {
          "color": "rgb(61,153,112)"
         },
         "mode": "lines",
         "type": "scatter",
         "x": [
          5190.9375,
          5190.9375,
          5298.75,
          5298.75
         ],
         "xaxis": "x",
         "y": [
          7.8227026168287,
          8.787543278831244,
          8.787543278831244,
          7.886838126005867
         ],
         "yaxis": "y"
        },
        {
         "hoverinfo": "text",
         "marker": {
          "color": "rgb(61,153,112)"
         },
         "mode": "lines",
         "type": "scatter",
         "x": [
          5135,
          5135,
          5244.84375,
          5244.84375
         ],
         "xaxis": "x",
         "y": [
          8.322150076183329,
          8.906451267894266,
          8.906451267894266,
          8.787543278831244
         ],
         "yaxis": "y"
        },
        {
         "hoverinfo": "text",
         "marker": {
          "color": "rgb(61,153,112)"
         },
         "mode": "lines",
         "type": "scatter",
         "x": [
          5058.125,
          5058.125,
          5189.921875,
          5189.921875
         ],
         "xaxis": "x",
         "y": [
          7.950782594823288,
          9.03552028542915,
          9.03552028542915,
          8.906451267894266
         ],
         "yaxis": "y"
        },
        {
         "hoverinfo": "text",
         "marker": {
          "color": "rgb(255,65,54)"
         },
         "mode": "lines",
         "type": "scatter",
         "x": [
          5345,
          5345,
          5355,
          5355
         ],
         "xaxis": "x",
         "y": [
          0,
          6.5304148332926415,
          6.5304148332926415,
          0
         ],
         "yaxis": "y"
        },
        {
         "hoverinfo": "text",
         "marker": {
          "color": "rgb(255,65,54)"
         },
         "mode": "lines",
         "type": "scatter",
         "x": [
          5335,
          5335,
          5350,
          5350
         ],
         "xaxis": "x",
         "y": [
          0,
          7.356572769931956,
          7.356572769931956,
          6.5304148332926415
         ],
         "yaxis": "y"
        },
        {
         "hoverinfo": "text",
         "marker": {
          "color": "rgb(255,65,54)"
         },
         "mode": "lines",
         "type": "scatter",
         "x": [
          5365,
          5365,
          5375,
          5375
         ],
         "xaxis": "x",
         "y": [
          0,
          5.569520409939342,
          5.569520409939342,
          0
         ],
         "yaxis": "y"
        },
        {
         "hoverinfo": "text",
         "marker": {
          "color": "rgb(255,65,54)"
         },
         "mode": "lines",
         "type": "scatter",
         "x": [
          5385,
          5385,
          5395,
          5395
         ],
         "xaxis": "x",
         "y": [
          0,
          6.157474043932803,
          6.157474043932803,
          0
         ],
         "yaxis": "y"
        },
        {
         "hoverinfo": "text",
         "marker": {
          "color": "rgb(255,65,54)"
         },
         "mode": "lines",
         "type": "scatter",
         "x": [
          5370,
          5370,
          5390,
          5390
         ],
         "xaxis": "x",
         "y": [
          5.569520409939342,
          7.1406129596183465,
          7.1406129596183465,
          6.157474043932803
         ],
         "yaxis": "y"
        },
        {
         "hoverinfo": "text",
         "marker": {
          "color": "rgb(255,65,54)"
         },
         "mode": "lines",
         "type": "scatter",
         "x": [
          5415,
          5415,
          5425,
          5425
         ],
         "xaxis": "x",
         "y": [
          0,
          5.3788989669322556,
          5.3788989669322556,
          0
         ],
         "yaxis": "y"
        },
        {
         "hoverinfo": "text",
         "marker": {
          "color": "rgb(255,65,54)"
         },
         "mode": "lines",
         "type": "scatter",
         "x": [
          5405,
          5405,
          5420,
          5420
         ],
         "xaxis": "x",
         "y": [
          0,
          6.039781848530569,
          6.039781848530569,
          5.3788989669322556
         ],
         "yaxis": "y"
        },
        {
         "hoverinfo": "text",
         "marker": {
          "color": "rgb(255,65,54)"
         },
         "mode": "lines",
         "type": "scatter",
         "x": [
          5445,
          5445,
          5455,
          5455
         ],
         "xaxis": "x",
         "y": [
          0,
          6.2328018720452025,
          6.2328018720452025,
          0
         ],
         "yaxis": "y"
        },
        {
         "hoverinfo": "text",
         "marker": {
          "color": "rgb(255,65,54)"
         },
         "mode": "lines",
         "type": "scatter",
         "x": [
          5435,
          5435,
          5450,
          5450
         ],
         "xaxis": "x",
         "y": [
          0,
          6.7255178668534725,
          6.7255178668534725,
          6.2328018720452025
         ],
         "yaxis": "y"
        },
        {
         "hoverinfo": "text",
         "marker": {
          "color": "rgb(255,65,54)"
         },
         "mode": "lines",
         "type": "scatter",
         "x": [
          5412.5,
          5412.5,
          5442.5,
          5442.5
         ],
         "xaxis": "x",
         "y": [
          6.039781848530569,
          7.447820317571277,
          7.447820317571277,
          6.7255178668534725
         ],
         "yaxis": "y"
        },
        {
         "hoverinfo": "text",
         "marker": {
          "color": "rgb(255,65,54)"
         },
         "mode": "lines",
         "type": "scatter",
         "x": [
          5380,
          5380,
          5427.5,
          5427.5
         ],
         "xaxis": "x",
         "y": [
          7.1406129596183465,
          7.9806964828022515,
          7.9806964828022515,
          7.447820317571277
         ],
         "yaxis": "y"
        },
        {
         "hoverinfo": "text",
         "marker": {
          "color": "rgb(255,65,54)"
         },
         "mode": "lines",
         "type": "scatter",
         "x": [
          5342.5,
          5342.5,
          5403.75,
          5403.75
         ],
         "xaxis": "x",
         "y": [
          7.356572769931956,
          8.136190764681606,
          8.136190764681606,
          7.9806964828022515
         ],
         "yaxis": "y"
        },
        {
         "hoverinfo": "text",
         "marker": {
          "color": "rgb(255,65,54)"
         },
         "mode": "lines",
         "type": "scatter",
         "x": [
          5465,
          5465,
          5475,
          5475
         ],
         "xaxis": "x",
         "y": [
          0,
          6.810765423674648,
          6.810765423674648,
          0
         ],
         "yaxis": "y"
        },
        {
         "hoverinfo": "text",
         "marker": {
          "color": "rgb(255,65,54)"
         },
         "mode": "lines",
         "type": "scatter",
         "x": [
          5485,
          5485,
          5495,
          5495
         ],
         "xaxis": "x",
         "y": [
          0,
          6.292494384560477,
          6.292494384560477,
          0
         ],
         "yaxis": "y"
        },
        {
         "hoverinfo": "text",
         "marker": {
          "color": "rgb(255,65,54)"
         },
         "mode": "lines",
         "type": "scatter",
         "x": [
          5505,
          5505,
          5515,
          5515
         ],
         "xaxis": "x",
         "y": [
          0,
          6.178465702315916,
          6.178465702315916,
          0
         ],
         "yaxis": "y"
        },
        {
         "hoverinfo": "text",
         "marker": {
          "color": "rgb(255,65,54)"
         },
         "mode": "lines",
         "type": "scatter",
         "x": [
          5525,
          5525,
          5535,
          5535
         ],
         "xaxis": "x",
         "y": [
          0,
          6.207288000700711,
          6.207288000700711,
          0
         ],
         "yaxis": "y"
        },
        {
         "hoverinfo": "text",
         "marker": {
          "color": "rgb(255,65,54)"
         },
         "mode": "lines",
         "type": "scatter",
         "x": [
          5545,
          5545,
          5555,
          5555
         ],
         "xaxis": "x",
         "y": [
          0,
          6.324201847155134,
          6.324201847155134,
          0
         ],
         "yaxis": "y"
        },
        {
         "hoverinfo": "text",
         "marker": {
          "color": "rgb(255,65,54)"
         },
         "mode": "lines",
         "type": "scatter",
         "x": [
          5530,
          5530,
          5550,
          5550
         ],
         "xaxis": "x",
         "y": [
          6.207288000700711,
          6.708077883469556,
          6.708077883469556,
          6.324201847155134
         ],
         "yaxis": "y"
        },
        {
         "hoverinfo": "text",
         "marker": {
          "color": "rgb(255,65,54)"
         },
         "mode": "lines",
         "type": "scatter",
         "x": [
          5510,
          5510,
          5540,
          5540
         ],
         "xaxis": "x",
         "y": [
          6.178465702315916,
          7.20903503567223,
          7.20903503567223,
          6.708077883469556
         ],
         "yaxis": "y"
        },
        {
         "hoverinfo": "text",
         "marker": {
          "color": "rgb(255,65,54)"
         },
         "mode": "lines",
         "type": "scatter",
         "x": [
          5490,
          5490,
          5525,
          5525
         ],
         "xaxis": "x",
         "y": [
          6.292494384560477,
          7.3796423572734,
          7.3796423572734,
          7.20903503567223
         ],
         "yaxis": "y"
        },
        {
         "hoverinfo": "text",
         "marker": {
          "color": "rgb(255,65,54)"
         },
         "mode": "lines",
         "type": "scatter",
         "x": [
          5470,
          5470,
          5507.5,
          5507.5
         ],
         "xaxis": "x",
         "y": [
          6.810765423674648,
          7.9576267984287,
          7.9576267984287,
          7.3796423572734
         ],
         "yaxis": "y"
        },
        {
         "hoverinfo": "text",
         "marker": {
          "color": "rgb(255,65,54)"
         },
         "mode": "lines",
         "type": "scatter",
         "x": [
          5575,
          5575,
          5585,
          5585
         ],
         "xaxis": "x",
         "y": [
          0,
          6.139018443211414,
          6.139018443211414,
          0
         ],
         "yaxis": "y"
        },
        {
         "hoverinfo": "text",
         "marker": {
          "color": "rgb(255,65,54)"
         },
         "mode": "lines",
         "type": "scatter",
         "x": [
          5595,
          5595,
          5605,
          5605
         ],
         "xaxis": "x",
         "y": [
          0,
          6.186662080598287,
          6.186662080598287,
          0
         ],
         "yaxis": "y"
        },
        {
         "hoverinfo": "text",
         "marker": {
          "color": "rgb(255,65,54)"
         },
         "mode": "lines",
         "type": "scatter",
         "x": [
          5580,
          5580,
          5600,
          5600
         ],
         "xaxis": "x",
         "y": [
          6.139018443211414,
          6.953913157101538,
          6.953913157101538,
          6.186662080598287
         ],
         "yaxis": "y"
        },
        {
         "hoverinfo": "text",
         "marker": {
          "color": "rgb(255,65,54)"
         },
         "mode": "lines",
         "type": "scatter",
         "x": [
          5565,
          5565,
          5590,
          5590
         ],
         "xaxis": "x",
         "y": [
          0,
          7.3099045731087715,
          7.3099045731087715,
          6.953913157101538
         ],
         "yaxis": "y"
        },
        {
         "hoverinfo": "text",
         "marker": {
          "color": "rgb(255,65,54)"
         },
         "mode": "lines",
         "type": "scatter",
         "x": [
          5625,
          5625,
          5635,
          5635
         ],
         "xaxis": "x",
         "y": [
          0,
          5.864636962144476,
          5.864636962144476,
          0
         ],
         "yaxis": "y"
        },
        {
         "hoverinfo": "text",
         "marker": {
          "color": "rgb(255,65,54)"
         },
         "mode": "lines",
         "type": "scatter",
         "x": [
          5615,
          5615,
          5630,
          5630
         ],
         "xaxis": "x",
         "y": [
          0,
          7.053269095105669,
          7.053269095105669,
          5.864636962144476
         ],
         "yaxis": "y"
        },
        {
         "hoverinfo": "text",
         "marker": {
          "color": "rgb(255,65,54)"
         },
         "mode": "lines",
         "type": "scatter",
         "x": [
          5655,
          5655,
          5665,
          5665
         ],
         "xaxis": "x",
         "y": [
          0,
          6.608231671085905,
          6.608231671085905,
          0
         ],
         "yaxis": "y"
        },
        {
         "hoverinfo": "text",
         "marker": {
          "color": "rgb(255,65,54)"
         },
         "mode": "lines",
         "type": "scatter",
         "x": [
          5645,
          5645,
          5660,
          5660
         ],
         "xaxis": "x",
         "y": [
          0,
          7.064791480265351,
          7.064791480265351,
          6.608231671085905
         ],
         "yaxis": "y"
        },
        {
         "hoverinfo": "text",
         "marker": {
          "color": "rgb(255,65,54)"
         },
         "mode": "lines",
         "type": "scatter",
         "x": [
          5622.5,
          5622.5,
          5652.5,
          5652.5
         ],
         "xaxis": "x",
         "y": [
          7.053269095105669,
          7.788970047336734,
          7.788970047336734,
          7.064791480265351
         ],
         "yaxis": "y"
        },
        {
         "hoverinfo": "text",
         "marker": {
          "color": "rgb(255,65,54)"
         },
         "mode": "lines",
         "type": "scatter",
         "x": [
          5577.5,
          5577.5,
          5637.5,
          5637.5
         ],
         "xaxis": "x",
         "y": [
          7.3099045731087715,
          8.001493845786078,
          8.001493845786078,
          7.788970047336734
         ],
         "yaxis": "y"
        },
        {
         "hoverinfo": "text",
         "marker": {
          "color": "rgb(255,65,54)"
         },
         "mode": "lines",
         "type": "scatter",
         "x": [
          5488.75,
          5488.75,
          5607.5,
          5607.5
         ],
         "xaxis": "x",
         "y": [
          7.9576267984287,
          8.33486248561885,
          8.33486248561885,
          8.001493845786078
         ],
         "yaxis": "y"
        },
        {
         "hoverinfo": "text",
         "marker": {
          "color": "rgb(255,65,54)"
         },
         "mode": "lines",
         "type": "scatter",
         "x": [
          5373.125,
          5373.125,
          5548.125,
          5548.125
         ],
         "xaxis": "x",
         "y": [
          8.136190764681606,
          8.594016899386473,
          8.594016899386473,
          8.33486248561885
         ],
         "yaxis": "y"
        },
        {
         "hoverinfo": "text",
         "marker": {
          "color": "rgb(35,205,205)"
         },
         "mode": "lines",
         "type": "scatter",
         "x": [
          5685,
          5685,
          5695,
          5695
         ],
         "xaxis": "x",
         "y": [
          0,
          5.784988681908441,
          5.784988681908441,
          0
         ],
         "yaxis": "y"
        },
        {
         "hoverinfo": "text",
         "marker": {
          "color": "rgb(35,205,205)"
         },
         "mode": "lines",
         "type": "scatter",
         "x": [
          5715,
          5715,
          5725,
          5725
         ],
         "xaxis": "x",
         "y": [
          0,
          5.833430619724528,
          5.833430619724528,
          0
         ],
         "yaxis": "y"
        },
        {
         "hoverinfo": "text",
         "marker": {
          "color": "rgb(35,205,205)"
         },
         "mode": "lines",
         "type": "scatter",
         "x": [
          5705,
          5705,
          5720,
          5720
         ],
         "xaxis": "x",
         "y": [
          0,
          6.223385382350095,
          6.223385382350095,
          5.833430619724528
         ],
         "yaxis": "y"
        },
        {
         "hoverinfo": "text",
         "marker": {
          "color": "rgb(35,205,205)"
         },
         "mode": "lines",
         "type": "scatter",
         "x": [
          5690,
          5690,
          5712.5,
          5712.5
         ],
         "xaxis": "x",
         "y": [
          5.784988681908441,
          6.626921642058846,
          6.626921642058846,
          6.223385382350095
         ],
         "yaxis": "y"
        },
        {
         "hoverinfo": "text",
         "marker": {
          "color": "rgb(35,205,205)"
         },
         "mode": "lines",
         "type": "scatter",
         "x": [
          5675,
          5675,
          5701.25,
          5701.25
         ],
         "xaxis": "x",
         "y": [
          0,
          7.1970074462771825,
          7.1970074462771825,
          6.626921642058846
         ],
         "yaxis": "y"
        },
        {
         "hoverinfo": "text",
         "marker": {
          "color": "rgb(35,205,205)"
         },
         "mode": "lines",
         "type": "scatter",
         "x": [
          5735,
          5735,
          5745,
          5745
         ],
         "xaxis": "x",
         "y": [
          0,
          5.52706937343443,
          5.52706937343443,
          0
         ],
         "yaxis": "y"
        },
        {
         "hoverinfo": "text",
         "marker": {
          "color": "rgb(35,205,205)"
         },
         "mode": "lines",
         "type": "scatter",
         "x": [
          5755,
          5755,
          5765,
          5765
         ],
         "xaxis": "x",
         "y": [
          0,
          5.0252641459313345,
          5.0252641459313345,
          0
         ],
         "yaxis": "y"
        },
        {
         "hoverinfo": "text",
         "marker": {
          "color": "rgb(35,205,205)"
         },
         "mode": "lines",
         "type": "scatter",
         "x": [
          5775,
          5775,
          5785,
          5785
         ],
         "xaxis": "x",
         "y": [
          0,
          6.071219363771629,
          6.071219363771629,
          0
         ],
         "yaxis": "y"
        },
        {
         "hoverinfo": "text",
         "marker": {
          "color": "rgb(35,205,205)"
         },
         "mode": "lines",
         "type": "scatter",
         "x": [
          5760,
          5760,
          5780,
          5780
         ],
         "xaxis": "x",
         "y": [
          5.0252641459313345,
          6.887787751094627,
          6.887787751094627,
          6.071219363771629
         ],
         "yaxis": "y"
        },
        {
         "hoverinfo": "text",
         "marker": {
          "color": "rgb(35,205,205)"
         },
         "mode": "lines",
         "type": "scatter",
         "x": [
          5740,
          5740,
          5770,
          5770
         ],
         "xaxis": "x",
         "y": [
          5.52706937343443,
          7.349882631413456,
          7.349882631413456,
          6.887787751094627
         ],
         "yaxis": "y"
        },
        {
         "hoverinfo": "text",
         "marker": {
          "color": "rgb(35,205,205)"
         },
         "mode": "lines",
         "type": "scatter",
         "x": [
          5688.125,
          5688.125,
          5755,
          5755
         ],
         "xaxis": "x",
         "y": [
          7.1970074462771825,
          8.025036628950087,
          8.025036628950087,
          7.349882631413456
         ],
         "yaxis": "y"
        },
        {
         "hoverinfo": "text",
         "marker": {
          "color": "rgb(35,205,205)"
         },
         "mode": "lines",
         "type": "scatter",
         "x": [
          5805,
          5805,
          5815,
          5815
         ],
         "xaxis": "x",
         "y": [
          0,
          6.358738749273389,
          6.358738749273389,
          0
         ],
         "yaxis": "y"
        },
        {
         "hoverinfo": "text",
         "marker": {
          "color": "rgb(35,205,205)"
         },
         "mode": "lines",
         "type": "scatter",
         "x": [
          5795,
          5795,
          5810,
          5810
         ],
         "xaxis": "x",
         "y": [
          0,
          7.525182240995887,
          7.525182240995887,
          6.358738749273389
         ],
         "yaxis": "y"
        },
        {
         "hoverinfo": "text",
         "marker": {
          "color": "rgb(35,205,205)"
         },
         "mode": "lines",
         "type": "scatter",
         "x": [
          5835,
          5835,
          5845,
          5845
         ],
         "xaxis": "x",
         "y": [
          0,
          6.9603059083689045,
          6.9603059083689045,
          0
         ],
         "yaxis": "y"
        },
        {
         "hoverinfo": "text",
         "marker": {
          "color": "rgb(35,205,205)"
         },
         "mode": "lines",
         "type": "scatter",
         "x": [
          5825,
          5825,
          5840,
          5840
         ],
         "xaxis": "x",
         "y": [
          0,
          7.549909963246636,
          7.549909963246636,
          6.9603059083689045
         ],
         "yaxis": "y"
        },
        {
         "hoverinfo": "text",
         "marker": {
          "color": "rgb(35,205,205)"
         },
         "mode": "lines",
         "type": "scatter",
         "x": [
          5802.5,
          5802.5,
          5832.5,
          5832.5
         ],
         "xaxis": "x",
         "y": [
          7.525182240995887,
          8.260513132500023,
          8.260513132500023,
          7.549909963246636
         ],
         "yaxis": "y"
        },
        {
         "hoverinfo": "text",
         "marker": {
          "color": "rgb(35,205,205)"
         },
         "mode": "lines",
         "type": "scatter",
         "x": [
          5721.5625,
          5721.5625,
          5817.5,
          5817.5
         ],
         "xaxis": "x",
         "y": [
          8.025036628950087,
          8.541499498139661,
          8.541499498139661,
          8.260513132500023
         ],
         "yaxis": "y"
        },
        {
         "hoverinfo": "text",
         "marker": {
          "color": "rgb(35,205,205)"
         },
         "mode": "lines",
         "type": "scatter",
         "x": [
          5875,
          5875,
          5885,
          5885
         ],
         "xaxis": "x",
         "y": [
          0,
          5.933634583648748,
          5.933634583648748,
          0
         ],
         "yaxis": "y"
        },
        {
         "hoverinfo": "text",
         "marker": {
          "color": "rgb(35,205,205)"
         },
         "mode": "lines",
         "type": "scatter",
         "x": [
          5865,
          5865,
          5880,
          5880
         ],
         "xaxis": "x",
         "y": [
          0,
          6.245909706686052,
          6.245909706686052,
          5.933634583648748
         ],
         "yaxis": "y"
        },
        {
         "hoverinfo": "text",
         "marker": {
          "color": "rgb(35,205,205)"
         },
         "mode": "lines",
         "type": "scatter",
         "x": [
          5895,
          5895,
          5905,
          5905
         ],
         "xaxis": "x",
         "y": [
          0,
          6.3695509514870805,
          6.3695509514870805,
          0
         ],
         "yaxis": "y"
        },
        {
         "hoverinfo": "text",
         "marker": {
          "color": "rgb(35,205,205)"
         },
         "mode": "lines",
         "type": "scatter",
         "x": [
          5872.5,
          5872.5,
          5900,
          5900
         ],
         "xaxis": "x",
         "y": [
          6.245909706686052,
          7.610082054448151,
          7.610082054448151,
          6.3695509514870805
         ],
         "yaxis": "y"
        },
        {
         "hoverinfo": "text",
         "marker": {
          "color": "rgb(35,205,205)"
         },
         "mode": "lines",
         "type": "scatter",
         "x": [
          5855,
          5855,
          5886.25,
          5886.25
         ],
         "xaxis": "x",
         "y": [
          0,
          7.748510177720592,
          7.748510177720592,
          7.610082054448151
         ],
         "yaxis": "y"
        },
        {
         "hoverinfo": "text",
         "marker": {
          "color": "rgb(35,205,205)"
         },
         "mode": "lines",
         "type": "scatter",
         "x": [
          5915,
          5915,
          5925,
          5925
         ],
         "xaxis": "x",
         "y": [
          0,
          5.833651208501757,
          5.833651208501757,
          0
         ],
         "yaxis": "y"
        },
        {
         "hoverinfo": "text",
         "marker": {
          "color": "rgb(35,205,205)"
         },
         "mode": "lines",
         "type": "scatter",
         "x": [
          5935,
          5935,
          5945,
          5945
         ],
         "xaxis": "x",
         "y": [
          0,
          6.626781219485048,
          6.626781219485048,
          0
         ],
         "yaxis": "y"
        },
        {
         "hoverinfo": "text",
         "marker": {
          "color": "rgb(35,205,205)"
         },
         "mode": "lines",
         "type": "scatter",
         "x": [
          5920,
          5920,
          5940,
          5940
         ],
         "xaxis": "x",
         "y": [
          5.833651208501757,
          7.179365230884279,
          7.179365230884279,
          6.626781219485048
         ],
         "yaxis": "y"
        },
        {
         "hoverinfo": "text",
         "marker": {
          "color": "rgb(35,205,205)"
         },
         "mode": "lines",
         "type": "scatter",
         "x": [
          5955,
          5955,
          5965,
          5965
         ],
         "xaxis": "x",
         "y": [
          0,
          6.370261837606904,
          6.370261837606904,
          0
         ],
         "yaxis": "y"
        },
        {
         "hoverinfo": "text",
         "marker": {
          "color": "rgb(35,205,205)"
         },
         "mode": "lines",
         "type": "scatter",
         "x": [
          5975,
          5975,
          5985,
          5985
         ],
         "xaxis": "x",
         "y": [
          0,
          6.462756490891616,
          6.462756490891616,
          0
         ],
         "yaxis": "y"
        },
        {
         "hoverinfo": "text",
         "marker": {
          "color": "rgb(35,205,205)"
         },
         "mode": "lines",
         "type": "scatter",
         "x": [
          5960,
          5960,
          5980,
          5980
         ],
         "xaxis": "x",
         "y": [
          6.370261837606904,
          7.198013888968953,
          7.198013888968953,
          6.462756490891616
         ],
         "yaxis": "y"
        },
        {
         "hoverinfo": "text",
         "marker": {
          "color": "rgb(35,205,205)"
         },
         "mode": "lines",
         "type": "scatter",
         "x": [
          5930,
          5930,
          5970,
          5970
         ],
         "xaxis": "x",
         "y": [
          7.179365230884279,
          7.847363763439675,
          7.847363763439675,
          7.198013888968953
         ],
         "yaxis": "y"
        },
        {
         "hoverinfo": "text",
         "marker": {
          "color": "rgb(35,205,205)"
         },
         "mode": "lines",
         "type": "scatter",
         "x": [
          5870.625,
          5870.625,
          5950,
          5950
         ],
         "xaxis": "x",
         "y": [
          7.748510177720592,
          8.245851939440657,
          8.245851939440657,
          7.847363763439675
         ],
         "yaxis": "y"
        },
        {
         "hoverinfo": "text",
         "marker": {
          "color": "rgb(35,205,205)"
         },
         "mode": "lines",
         "type": "scatter",
         "x": [
          5995,
          5995,
          6005,
          6005
         ],
         "xaxis": "x",
         "y": [
          0,
          5.641855699340735,
          5.641855699340735,
          0
         ],
         "yaxis": "y"
        },
        {
         "hoverinfo": "text",
         "marker": {
          "color": "rgb(35,205,205)"
         },
         "mode": "lines",
         "type": "scatter",
         "x": [
          6015,
          6015,
          6025,
          6025
         ],
         "xaxis": "x",
         "y": [
          0,
          6.265873155990408,
          6.265873155990408,
          0
         ],
         "yaxis": "y"
        },
        {
         "hoverinfo": "text",
         "marker": {
          "color": "rgb(35,205,205)"
         },
         "mode": "lines",
         "type": "scatter",
         "x": [
          6000,
          6000,
          6020,
          6020
         ],
         "xaxis": "x",
         "y": [
          5.641855699340735,
          6.97039321653385,
          6.97039321653385,
          6.265873155990408
         ],
         "yaxis": "y"
        },
        {
         "hoverinfo": "text",
         "marker": {
          "color": "rgb(35,205,205)"
         },
         "mode": "lines",
         "type": "scatter",
         "x": [
          6045,
          6045,
          6055,
          6055
         ],
         "xaxis": "x",
         "y": [
          0,
          6.166988388779104,
          6.166988388779104,
          0
         ],
         "yaxis": "y"
        },
        {
         "hoverinfo": "text",
         "marker": {
          "color": "rgb(35,205,205)"
         },
         "mode": "lines",
         "type": "scatter",
         "x": [
          6035,
          6035,
          6050,
          6050
         ],
         "xaxis": "x",
         "y": [
          0,
          6.534392116227569,
          6.534392116227569,
          6.166988388779104
         ],
         "yaxis": "y"
        },
        {
         "hoverinfo": "text",
         "marker": {
          "color": "rgb(35,205,205)"
         },
         "mode": "lines",
         "type": "scatter",
         "x": [
          6065,
          6065,
          6075,
          6075
         ],
         "xaxis": "x",
         "y": [
          0,
          5.705643284875302,
          5.705643284875302,
          0
         ],
         "yaxis": "y"
        },
        {
         "hoverinfo": "text",
         "marker": {
          "color": "rgb(35,205,205)"
         },
         "mode": "lines",
         "type": "scatter",
         "x": [
          6095,
          6095,
          6105,
          6105
         ],
         "xaxis": "x",
         "y": [
          0,
          5.450945320784393,
          5.450945320784393,
          0
         ],
         "yaxis": "y"
        },
        {
         "hoverinfo": "text",
         "marker": {
          "color": "rgb(35,205,205)"
         },
         "mode": "lines",
         "type": "scatter",
         "x": [
          6085,
          6085,
          6100,
          6100
         ],
         "xaxis": "x",
         "y": [
          0,
          6.113172845468206,
          6.113172845468206,
          5.450945320784393
         ],
         "yaxis": "y"
        },
        {
         "hoverinfo": "text",
         "marker": {
          "color": "rgb(35,205,205)"
         },
         "mode": "lines",
         "type": "scatter",
         "x": [
          6070,
          6070,
          6092.5,
          6092.5
         ],
         "xaxis": "x",
         "y": [
          5.705643284875302,
          6.605641295015422,
          6.605641295015422,
          6.113172845468206
         ],
         "yaxis": "y"
        },
        {
         "hoverinfo": "text",
         "marker": {
          "color": "rgb(35,205,205)"
         },
         "mode": "lines",
         "type": "scatter",
         "x": [
          6042.5,
          6042.5,
          6081.25,
          6081.25
         ],
         "xaxis": "x",
         "y": [
          6.534392116227569,
          7.231643249865714,
          7.231643249865714,
          6.605641295015422
         ],
         "yaxis": "y"
        },
        {
         "hoverinfo": "text",
         "marker": {
          "color": "rgb(35,205,205)"
         },
         "mode": "lines",
         "type": "scatter",
         "x": [
          6010,
          6010,
          6061.875,
          6061.875
         ],
         "xaxis": "x",
         "y": [
          6.97039321653385,
          7.423450340940802,
          7.423450340940802,
          7.231643249865714
         ],
         "yaxis": "y"
        },
        {
         "hoverinfo": "text",
         "marker": {
          "color": "rgb(35,205,205)"
         },
         "mode": "lines",
         "type": "scatter",
         "x": [
          6115,
          6115,
          6125,
          6125
         ],
         "xaxis": "x",
         "y": [
          0,
          6.659835176786228,
          6.659835176786228,
          0
         ],
         "yaxis": "y"
        },
        {
         "hoverinfo": "text",
         "marker": {
          "color": "rgb(35,205,205)"
         },
         "mode": "lines",
         "type": "scatter",
         "x": [
          6135,
          6135,
          6145,
          6145
         ],
         "xaxis": "x",
         "y": [
          0,
          6.080465487858545,
          6.080465487858545,
          0
         ],
         "yaxis": "y"
        },
        {
         "hoverinfo": "text",
         "marker": {
          "color": "rgb(35,205,205)"
         },
         "mode": "lines",
         "type": "scatter",
         "x": [
          6155,
          6155,
          6165,
          6165
         ],
         "xaxis": "x",
         "y": [
          0,
          6.531490730618877,
          6.531490730618877,
          0
         ],
         "yaxis": "y"
        },
        {
         "hoverinfo": "text",
         "marker": {
          "color": "rgb(35,205,205)"
         },
         "mode": "lines",
         "type": "scatter",
         "x": [
          6140,
          6140,
          6160,
          6160
         ],
         "xaxis": "x",
         "y": [
          6.080465487858545,
          7.080680990088819,
          7.080680990088819,
          6.531490730618877
         ],
         "yaxis": "y"
        },
        {
         "hoverinfo": "text",
         "marker": {
          "color": "rgb(35,205,205)"
         },
         "mode": "lines",
         "type": "scatter",
         "x": [
          6120,
          6120,
          6150,
          6150
         ],
         "xaxis": "x",
         "y": [
          6.659835176786228,
          7.550946421603881,
          7.550946421603881,
          7.080680990088819
         ],
         "yaxis": "y"
        },
        {
         "hoverinfo": "text",
         "marker": {
          "color": "rgb(35,205,205)"
         },
         "mode": "lines",
         "type": "scatter",
         "x": [
          6185,
          6185,
          6195,
          6195
         ],
         "xaxis": "x",
         "y": [
          0,
          6.283505656069016,
          6.283505656069016,
          0
         ],
         "yaxis": "y"
        },
        {
         "hoverinfo": "text",
         "marker": {
          "color": "rgb(35,205,205)"
         },
         "mode": "lines",
         "type": "scatter",
         "x": [
          6175,
          6175,
          6190,
          6190
         ],
         "xaxis": "x",
         "y": [
          0,
          6.758787821195727,
          6.758787821195727,
          6.283505656069016
         ],
         "yaxis": "y"
        },
        {
         "hoverinfo": "text",
         "marker": {
          "color": "rgb(35,205,205)"
         },
         "mode": "lines",
         "type": "scatter",
         "x": [
          6215,
          6215,
          6225,
          6225
         ],
         "xaxis": "x",
         "y": [
          0,
          5.572339509054533,
          5.572339509054533,
          0
         ],
         "yaxis": "y"
        },
        {
         "hoverinfo": "text",
         "marker": {
          "color": "rgb(35,205,205)"
         },
         "mode": "lines",
         "type": "scatter",
         "x": [
          6205,
          6205,
          6220,
          6220
         ],
         "xaxis": "x",
         "y": [
          0,
          6.850341211535091,
          6.850341211535091,
          5.572339509054533
         ],
         "yaxis": "y"
        },
        {
         "hoverinfo": "text",
         "marker": {
          "color": "rgb(35,205,205)"
         },
         "mode": "lines",
         "type": "scatter",
         "x": [
          6235,
          6235,
          6245,
          6245
         ],
         "xaxis": "x",
         "y": [
          0,
          5.809266488723452,
          5.809266488723452,
          0
         ],
         "yaxis": "y"
        },
        {
         "hoverinfo": "text",
         "marker": {
          "color": "rgb(35,205,205)"
         },
         "mode": "lines",
         "type": "scatter",
         "x": [
          6255,
          6255,
          6265,
          6265
         ],
         "xaxis": "x",
         "y": [
          0,
          5.90587645896088,
          5.90587645896088,
          0
         ],
         "yaxis": "y"
        },
        {
         "hoverinfo": "text",
         "marker": {
          "color": "rgb(35,205,205)"
         },
         "mode": "lines",
         "type": "scatter",
         "x": [
          6285,
          6285,
          6295,
          6295
         ],
         "xaxis": "x",
         "y": [
          0,
          5.663913141318885,
          5.663913141318885,
          0
         ],
         "yaxis": "y"
        },
        {
         "hoverinfo": "text",
         "marker": {
          "color": "rgb(35,205,205)"
         },
         "mode": "lines",
         "type": "scatter",
         "x": [
          6275,
          6275,
          6290,
          6290
         ],
         "xaxis": "x",
         "y": [
          0,
          6.403877116861616,
          6.403877116861616,
          5.663913141318885
         ],
         "yaxis": "y"
        },
        {
         "hoverinfo": "text",
         "marker": {
          "color": "rgb(35,205,205)"
         },
         "mode": "lines",
         "type": "scatter",
         "x": [
          6260,
          6260,
          6282.5,
          6282.5
         ],
         "xaxis": "x",
         "y": [
          5.90587645896088,
          6.829377302039139,
          6.829377302039139,
          6.403877116861616
         ],
         "yaxis": "y"
        },
        {
         "hoverinfo": "text",
         "marker": {
          "color": "rgb(35,205,205)"
         },
         "mode": "lines",
         "type": "scatter",
         "x": [
          6240,
          6240,
          6271.25,
          6271.25
         ],
         "xaxis": "x",
         "y": [
          5.809266488723452,
          6.925894680354084,
          6.925894680354084,
          6.829377302039139
         ],
         "yaxis": "y"
        },
        {
         "hoverinfo": "text",
         "marker": {
          "color": "rgb(35,205,205)"
         },
         "mode": "lines",
         "type": "scatter",
         "x": [
          6212.5,
          6212.5,
          6255.625,
          6255.625
         ],
         "xaxis": "x",
         "y": [
          6.850341211535091,
          7.44617779678828,
          7.44617779678828,
          6.925894680354084
         ],
         "yaxis": "y"
        },
        {
         "hoverinfo": "text",
         "marker": {
          "color": "rgb(35,205,205)"
         },
         "mode": "lines",
         "type": "scatter",
         "x": [
          6182.5,
          6182.5,
          6234.0625,
          6234.0625
         ],
         "xaxis": "x",
         "y": [
          6.758787821195727,
          7.658568222712811,
          7.658568222712811,
          7.44617779678828
         ],
         "yaxis": "y"
        },
        {
         "hoverinfo": "text",
         "marker": {
          "color": "rgb(35,205,205)"
         },
         "mode": "lines",
         "type": "scatter",
         "x": [
          6135,
          6135,
          6208.28125,
          6208.28125
         ],
         "xaxis": "x",
         "y": [
          7.550946421603881,
          7.835267941898323,
          7.835267941898323,
          7.658568222712811
         ],
         "yaxis": "y"
        },
        {
         "hoverinfo": "text",
         "marker": {
          "color": "rgb(35,205,205)"
         },
         "mode": "lines",
         "type": "scatter",
         "x": [
          6035.9375,
          6035.9375,
          6171.640625,
          6171.640625
         ],
         "xaxis": "x",
         "y": [
          7.423450340940802,
          7.85935360252078,
          7.85935360252078,
          7.835267941898323
         ],
         "yaxis": "y"
        },
        {
         "hoverinfo": "text",
         "marker": {
          "color": "rgb(35,205,205)"
         },
         "mode": "lines",
         "type": "scatter",
         "x": [
          6315,
          6315,
          6325,
          6325
         ],
         "xaxis": "x",
         "y": [
          0,
          5.6921827834907415,
          5.6921827834907415,
          0
         ],
         "yaxis": "y"
        },
        {
         "hoverinfo": "text",
         "marker": {
          "color": "rgb(35,205,205)"
         },
         "mode": "lines",
         "type": "scatter",
         "x": [
          6305,
          6305,
          6320,
          6320
         ],
         "xaxis": "x",
         "y": [
          0,
          6.460979814673346,
          6.460979814673346,
          5.6921827834907415
         ],
         "yaxis": "y"
        },
        {
         "hoverinfo": "text",
         "marker": {
          "color": "rgb(35,205,205)"
         },
         "mode": "lines",
         "type": "scatter",
         "x": [
          6355,
          6355,
          6365,
          6365
         ],
         "xaxis": "x",
         "y": [
          0,
          5.717829858582411,
          5.717829858582411,
          0
         ],
         "yaxis": "y"
        },
        {
         "hoverinfo": "text",
         "marker": {
          "color": "rgb(35,205,205)"
         },
         "mode": "lines",
         "type": "scatter",
         "x": [
          6345,
          6345,
          6360,
          6360
         ],
         "xaxis": "x",
         "y": [
          0,
          6.20719622737676,
          6.20719622737676,
          5.717829858582411
         ],
         "yaxis": "y"
        },
        {
         "hoverinfo": "text",
         "marker": {
          "color": "rgb(35,205,205)"
         },
         "mode": "lines",
         "type": "scatter",
         "x": [
          6335,
          6335,
          6352.5,
          6352.5
         ],
         "xaxis": "x",
         "y": [
          0,
          6.653462032488997,
          6.653462032488997,
          6.20719622737676
         ],
         "yaxis": "y"
        },
        {
         "hoverinfo": "text",
         "marker": {
          "color": "rgb(35,205,205)"
         },
         "mode": "lines",
         "type": "scatter",
         "x": [
          6385,
          6385,
          6395,
          6395
         ],
         "xaxis": "x",
         "y": [
          0,
          5.7803487290888125,
          5.7803487290888125,
          0
         ],
         "yaxis": "y"
        },
        {
         "hoverinfo": "text",
         "marker": {
          "color": "rgb(35,205,205)"
         },
         "mode": "lines",
         "type": "scatter",
         "x": [
          6375,
          6375,
          6390,
          6390
         ],
         "xaxis": "x",
         "y": [
          0,
          6.524154021263008,
          6.524154021263008,
          5.7803487290888125
         ],
         "yaxis": "y"
        },
        {
         "hoverinfo": "text",
         "marker": {
          "color": "rgb(35,205,205)"
         },
         "mode": "lines",
         "type": "scatter",
         "x": [
          6405,
          6405,
          6415,
          6415
         ],
         "xaxis": "x",
         "y": [
          0,
          6.74016613645787,
          6.74016613645787,
          0
         ],
         "yaxis": "y"
        },
        {
         "hoverinfo": "text",
         "marker": {
          "color": "rgb(35,205,205)"
         },
         "mode": "lines",
         "type": "scatter",
         "x": [
          6382.5,
          6382.5,
          6410,
          6410
         ],
         "xaxis": "x",
         "y": [
          6.524154021263008,
          7.2343807642394165,
          7.2343807642394165,
          6.74016613645787
         ],
         "yaxis": "y"
        },
        {
         "hoverinfo": "text",
         "marker": {
          "color": "rgb(35,205,205)"
         },
         "mode": "lines",
         "type": "scatter",
         "x": [
          6343.75,
          6343.75,
          6396.25,
          6396.25
         ],
         "xaxis": "x",
         "y": [
          6.653462032488997,
          7.465852098035536,
          7.465852098035536,
          7.2343807642394165
         ],
         "yaxis": "y"
        },
        {
         "hoverinfo": "text",
         "marker": {
          "color": "rgb(35,205,205)"
         },
         "mode": "lines",
         "type": "scatter",
         "x": [
          6312.5,
          6312.5,
          6370,
          6370
         ],
         "xaxis": "x",
         "y": [
          6.460979814673346,
          7.65234612344974,
          7.65234612344974,
          7.465852098035536
         ],
         "yaxis": "y"
        },
        {
         "hoverinfo": "text",
         "marker": {
          "color": "rgb(35,205,205)"
         },
         "mode": "lines",
         "type": "scatter",
         "x": [
          6435,
          6435,
          6445,
          6445
         ],
         "xaxis": "x",
         "y": [
          0,
          5.724817690676647,
          5.724817690676647,
          0
         ],
         "yaxis": "y"
        },
        {
         "hoverinfo": "text",
         "marker": {
          "color": "rgb(35,205,205)"
         },
         "mode": "lines",
         "type": "scatter",
         "x": [
          6455,
          6455,
          6465,
          6465
         ],
         "xaxis": "x",
         "y": [
          0,
          6.294719281753862,
          6.294719281753862,
          0
         ],
         "yaxis": "y"
        },
        {
         "hoverinfo": "text",
         "marker": {
          "color": "rgb(35,205,205)"
         },
         "mode": "lines",
         "type": "scatter",
         "x": [
          6440,
          6440,
          6460,
          6460
         ],
         "xaxis": "x",
         "y": [
          5.724817690676647,
          7.1508080337655,
          7.1508080337655,
          6.294719281753862
         ],
         "yaxis": "y"
        },
        {
         "hoverinfo": "text",
         "marker": {
          "color": "rgb(35,205,205)"
         },
         "mode": "lines",
         "type": "scatter",
         "x": [
          6425,
          6425,
          6450,
          6450
         ],
         "xaxis": "x",
         "y": [
          0,
          7.399324920403884,
          7.399324920403884,
          7.1508080337655
         ],
         "yaxis": "y"
        },
        {
         "hoverinfo": "text",
         "marker": {
          "color": "rgb(35,205,205)"
         },
         "mode": "lines",
         "type": "scatter",
         "x": [
          6485,
          6485,
          6495,
          6495
         ],
         "xaxis": "x",
         "y": [
          0,
          5.772509026663255,
          5.772509026663255,
          0
         ],
         "yaxis": "y"
        },
        {
         "hoverinfo": "text",
         "marker": {
          "color": "rgb(35,205,205)"
         },
         "mode": "lines",
         "type": "scatter",
         "x": [
          6505,
          6505,
          6515,
          6515
         ],
         "xaxis": "x",
         "y": [
          0,
          5.840573310423449,
          5.840573310423449,
          0
         ],
         "yaxis": "y"
        },
        {
         "hoverinfo": "text",
         "marker": {
          "color": "rgb(35,205,205)"
         },
         "mode": "lines",
         "type": "scatter",
         "x": [
          6490,
          6490,
          6510,
          6510
         ],
         "xaxis": "x",
         "y": [
          5.772509026663255,
          6.321179228572961,
          6.321179228572961,
          5.840573310423449
         ],
         "yaxis": "y"
        },
        {
         "hoverinfo": "text",
         "marker": {
          "color": "rgb(35,205,205)"
         },
         "mode": "lines",
         "type": "scatter",
         "x": [
          6475,
          6475,
          6500,
          6500
         ],
         "xaxis": "x",
         "y": [
          0,
          7.086994774075587,
          7.086994774075587,
          6.321179228572961
         ],
         "yaxis": "y"
        },
        {
         "hoverinfo": "text",
         "marker": {
          "color": "rgb(35,205,205)"
         },
         "mode": "lines",
         "type": "scatter",
         "x": [
          6525,
          6525,
          6535,
          6535
         ],
         "xaxis": "x",
         "y": [
          0,
          6.542517480551381,
          6.542517480551381,
          0
         ],
         "yaxis": "y"
        },
        {
         "hoverinfo": "text",
         "marker": {
          "color": "rgb(35,205,205)"
         },
         "mode": "lines",
         "type": "scatter",
         "x": [
          6555,
          6555,
          6565,
          6565
         ],
         "xaxis": "x",
         "y": [
          0,
          6.38663264436794,
          6.38663264436794,
          0
         ],
         "yaxis": "y"
        },
        {
         "hoverinfo": "text",
         "marker": {
          "color": "rgb(35,205,205)"
         },
         "mode": "lines",
         "type": "scatter",
         "x": [
          6545,
          6545,
          6560,
          6560
         ],
         "xaxis": "x",
         "y": [
          0,
          6.768823284331616,
          6.768823284331616,
          6.38663264436794
         ],
         "yaxis": "y"
        },
        {
         "hoverinfo": "text",
         "marker": {
          "color": "rgb(35,205,205)"
         },
         "mode": "lines",
         "type": "scatter",
         "x": [
          6530,
          6530,
          6552.5,
          6552.5
         ],
         "xaxis": "x",
         "y": [
          6.542517480551381,
          7.383352087960424,
          7.383352087960424,
          6.768823284331616
         ],
         "yaxis": "y"
        },
        {
         "hoverinfo": "text",
         "marker": {
          "color": "rgb(35,205,205)"
         },
         "mode": "lines",
         "type": "scatter",
         "x": [
          6487.5,
          6487.5,
          6541.25,
          6541.25
         ],
         "xaxis": "x",
         "y": [
          7.086994774075587,
          7.685894369069437,
          7.685894369069437,
          7.383352087960424
         ],
         "yaxis": "y"
        },
        {
         "hoverinfo": "text",
         "marker": {
          "color": "rgb(35,205,205)"
         },
         "mode": "lines",
         "type": "scatter",
         "x": [
          6437.5,
          6437.5,
          6514.375,
          6514.375
         ],
         "xaxis": "x",
         "y": [
          7.399324920403884,
          7.871096555539473,
          7.871096555539473,
          7.685894369069437
         ],
         "yaxis": "y"
        },
        {
         "hoverinfo": "text",
         "marker": {
          "color": "rgb(35,205,205)"
         },
         "mode": "lines",
         "type": "scatter",
         "x": [
          6341.25,
          6341.25,
          6475.9375,
          6475.9375
         ],
         "xaxis": "x",
         "y": [
          7.65234612344974,
          8.117801133474712,
          8.117801133474712,
          7.871096555539473
         ],
         "yaxis": "y"
        },
        {
         "hoverinfo": "text",
         "marker": {
          "color": "rgb(35,205,205)"
         },
         "mode": "lines",
         "type": "scatter",
         "x": [
          6103.7890625,
          6103.7890625,
          6408.59375,
          6408.59375
         ],
         "xaxis": "x",
         "y": [
          7.85935360252078,
          8.324145270591432,
          8.324145270591432,
          8.117801133474712
         ],
         "yaxis": "y"
        },
        {
         "hoverinfo": "text",
         "marker": {
          "color": "rgb(35,205,205)"
         },
         "mode": "lines",
         "type": "scatter",
         "x": [
          6585,
          6585,
          6595,
          6595
         ],
         "xaxis": "x",
         "y": [
          0,
          6.202751941199803,
          6.202751941199803,
          0
         ],
         "yaxis": "y"
        },
        {
         "hoverinfo": "text",
         "marker": {
          "color": "rgb(35,205,205)"
         },
         "mode": "lines",
         "type": "scatter",
         "x": [
          6575,
          6575,
          6590,
          6590
         ],
         "xaxis": "x",
         "y": [
          0,
          6.877978710533267,
          6.877978710533267,
          6.202751941199803
         ],
         "yaxis": "y"
        },
        {
         "hoverinfo": "text",
         "marker": {
          "color": "rgb(35,205,205)"
         },
         "mode": "lines",
         "type": "scatter",
         "x": [
          6605,
          6605,
          6615,
          6615
         ],
         "xaxis": "x",
         "y": [
          0,
          5.767036006448365,
          5.767036006448365,
          0
         ],
         "yaxis": "y"
        },
        {
         "hoverinfo": "text",
         "marker": {
          "color": "rgb(35,205,205)"
         },
         "mode": "lines",
         "type": "scatter",
         "x": [
          6635,
          6635,
          6645,
          6645
         ],
         "xaxis": "x",
         "y": [
          0,
          5.863568731797431,
          5.863568731797431,
          0
         ],
         "yaxis": "y"
        },
        {
         "hoverinfo": "text",
         "marker": {
          "color": "rgb(35,205,205)"
         },
         "mode": "lines",
         "type": "scatter",
         "x": [
          6625,
          6625,
          6640,
          6640
         ],
         "xaxis": "x",
         "y": [
          0,
          5.998162162935807,
          5.998162162935807,
          5.863568731797431
         ],
         "yaxis": "y"
        },
        {
         "hoverinfo": "text",
         "marker": {
          "color": "rgb(35,205,205)"
         },
         "mode": "lines",
         "type": "scatter",
         "x": [
          6665,
          6665,
          6675,
          6675
         ],
         "xaxis": "x",
         "y": [
          0,
          5.32390903755993,
          5.32390903755993,
          0
         ],
         "yaxis": "y"
        },
        {
         "hoverinfo": "text",
         "marker": {
          "color": "rgb(35,205,205)"
         },
         "mode": "lines",
         "type": "scatter",
         "x": [
          6655,
          6655,
          6670,
          6670
         ],
         "xaxis": "x",
         "y": [
          0,
          6.006424537621119,
          6.006424537621119,
          5.32390903755993
         ],
         "yaxis": "y"
        },
        {
         "hoverinfo": "text",
         "marker": {
          "color": "rgb(35,205,205)"
         },
         "mode": "lines",
         "type": "scatter",
         "x": [
          6632.5,
          6632.5,
          6662.5,
          6662.5
         ],
         "xaxis": "x",
         "y": [
          5.998162162935807,
          6.910592760673706,
          6.910592760673706,
          6.006424537621119
         ],
         "yaxis": "y"
        },
        {
         "hoverinfo": "text",
         "marker": {
          "color": "rgb(35,205,205)"
         },
         "mode": "lines",
         "type": "scatter",
         "x": [
          6610,
          6610,
          6647.5,
          6647.5
         ],
         "xaxis": "x",
         "y": [
          5.767036006448365,
          7.079830706161077,
          7.079830706161077,
          6.910592760673706
         ],
         "yaxis": "y"
        },
        {
         "hoverinfo": "text",
         "marker": {
          "color": "rgb(35,205,205)"
         },
         "mode": "lines",
         "type": "scatter",
         "x": [
          6582.5,
          6582.5,
          6628.75,
          6628.75
         ],
         "xaxis": "x",
         "y": [
          6.877978710533267,
          7.47078071256714,
          7.47078071256714,
          7.079830706161077
         ],
         "yaxis": "y"
        },
        {
         "hoverinfo": "text",
         "marker": {
          "color": "rgb(35,205,205)"
         },
         "mode": "lines",
         "type": "scatter",
         "x": [
          6685,
          6685,
          6695,
          6695
         ],
         "xaxis": "x",
         "y": [
          0,
          5.873706898721198,
          5.873706898721198,
          0
         ],
         "yaxis": "y"
        },
        {
         "hoverinfo": "text",
         "marker": {
          "color": "rgb(35,205,205)"
         },
         "mode": "lines",
         "type": "scatter",
         "x": [
          6705,
          6705,
          6715,
          6715
         ],
         "xaxis": "x",
         "y": [
          0,
          5.4092371012143685,
          5.4092371012143685,
          0
         ],
         "yaxis": "y"
        },
        {
         "hoverinfo": "text",
         "marker": {
          "color": "rgb(35,205,205)"
         },
         "mode": "lines",
         "type": "scatter",
         "x": [
          6735,
          6735,
          6745,
          6745
         ],
         "xaxis": "x",
         "y": [
          0,
          5.508498205099683,
          5.508498205099683,
          0
         ],
         "yaxis": "y"
        },
        {
         "hoverinfo": "text",
         "marker": {
          "color": "rgb(35,205,205)"
         },
         "mode": "lines",
         "type": "scatter",
         "x": [
          6725,
          6725,
          6740,
          6740
         ],
         "xaxis": "x",
         "y": [
          0,
          5.863585259277411,
          5.863585259277411,
          5.508498205099683
         ],
         "yaxis": "y"
        },
        {
         "hoverinfo": "text",
         "marker": {
          "color": "rgb(35,205,205)"
         },
         "mode": "lines",
         "type": "scatter",
         "x": [
          6710,
          6710,
          6732.5,
          6732.5
         ],
         "xaxis": "x",
         "y": [
          5.4092371012143685,
          6.2805472257567665,
          6.2805472257567665,
          5.863585259277411
         ],
         "yaxis": "y"
        },
        {
         "hoverinfo": "text",
         "marker": {
          "color": "rgb(35,205,205)"
         },
         "mode": "lines",
         "type": "scatter",
         "x": [
          6690,
          6690,
          6721.25,
          6721.25
         ],
         "xaxis": "x",
         "y": [
          5.873706898721198,
          7.113860803845928,
          7.113860803845928,
          6.2805472257567665
         ],
         "yaxis": "y"
        },
        {
         "hoverinfo": "text",
         "marker": {
          "color": "rgb(35,205,205)"
         },
         "mode": "lines",
         "type": "scatter",
         "x": [
          6765,
          6765,
          6775,
          6775
         ],
         "xaxis": "x",
         "y": [
          0,
          5.192325575112698,
          5.192325575112698,
          0
         ],
         "yaxis": "y"
        },
        {
         "hoverinfo": "text",
         "marker": {
          "color": "rgb(35,205,205)"
         },
         "mode": "lines",
         "type": "scatter",
         "x": [
          6755,
          6755,
          6770,
          6770
         ],
         "xaxis": "x",
         "y": [
          0,
          6.276739390510103,
          6.276739390510103,
          5.192325575112698
         ],
         "yaxis": "y"
        },
        {
         "hoverinfo": "text",
         "marker": {
          "color": "rgb(35,205,205)"
         },
         "mode": "lines",
         "type": "scatter",
         "x": [
          6795,
          6795,
          6805,
          6805
         ],
         "xaxis": "x",
         "y": [
          0,
          6.0343860480338884,
          6.0343860480338884,
          0
         ],
         "yaxis": "y"
        },
        {
         "hoverinfo": "text",
         "marker": {
          "color": "rgb(35,205,205)"
         },
         "mode": "lines",
         "type": "scatter",
         "x": [
          6785,
          6785,
          6800,
          6800
         ],
         "xaxis": "x",
         "y": [
          0,
          6.604537576243604,
          6.604537576243604,
          6.0343860480338884
         ],
         "yaxis": "y"
        },
        {
         "hoverinfo": "text",
         "marker": {
          "color": "rgb(35,205,205)"
         },
         "mode": "lines",
         "type": "scatter",
         "x": [
          6762.5,
          6762.5,
          6792.5,
          6792.5
         ],
         "xaxis": "x",
         "y": [
          6.276739390510103,
          6.73094462875626,
          6.73094462875626,
          6.604537576243604
         ],
         "yaxis": "y"
        },
        {
         "hoverinfo": "text",
         "marker": {
          "color": "rgb(35,205,205)"
         },
         "mode": "lines",
         "type": "scatter",
         "x": [
          6825,
          6825,
          6835,
          6835
         ],
         "xaxis": "x",
         "y": [
          0,
          6.207774465354503,
          6.207774465354503,
          0
         ],
         "yaxis": "y"
        },
        {
         "hoverinfo": "text",
         "marker": {
          "color": "rgb(35,205,205)"
         },
         "mode": "lines",
         "type": "scatter",
         "x": [
          6815,
          6815,
          6830,
          6830
         ],
         "xaxis": "x",
         "y": [
          0,
          6.63221425698985,
          6.63221425698985,
          6.207774465354503
         ],
         "yaxis": "y"
        },
        {
         "hoverinfo": "text",
         "marker": {
          "color": "rgb(35,205,205)"
         },
         "mode": "lines",
         "type": "scatter",
         "x": [
          6845,
          6845,
          6855,
          6855
         ],
         "xaxis": "x",
         "y": [
          0,
          5.898381440807829,
          5.898381440807829,
          0
         ],
         "yaxis": "y"
        },
        {
         "hoverinfo": "text",
         "marker": {
          "color": "rgb(35,205,205)"
         },
         "mode": "lines",
         "type": "scatter",
         "x": [
          6865,
          6865,
          6875,
          6875
         ],
         "xaxis": "x",
         "y": [
          0,
          5.7672944678545965,
          5.7672944678545965,
          0
         ],
         "yaxis": "y"
        },
        {
         "hoverinfo": "text",
         "marker": {
          "color": "rgb(35,205,205)"
         },
         "mode": "lines",
         "type": "scatter",
         "x": [
          6885,
          6885,
          6895,
          6895
         ],
         "xaxis": "x",
         "y": [
          0,
          6.054300839723125,
          6.054300839723125,
          0
         ],
         "yaxis": "y"
        },
        {
         "hoverinfo": "text",
         "marker": {
          "color": "rgb(35,205,205)"
         },
         "mode": "lines",
         "type": "scatter",
         "x": [
          6870,
          6870,
          6890,
          6890
         ],
         "xaxis": "x",
         "y": [
          5.7672944678545965,
          6.397843930131305,
          6.397843930131305,
          6.054300839723125
         ],
         "yaxis": "y"
        },
        {
         "hoverinfo": "text",
         "marker": {
          "color": "rgb(35,205,205)"
         },
         "mode": "lines",
         "type": "scatter",
         "x": [
          6850,
          6850,
          6880,
          6880
         ],
         "xaxis": "x",
         "y": [
          5.898381440807829,
          6.829245356496403,
          6.829245356496403,
          6.397843930131305
         ],
         "yaxis": "y"
        },
        {
         "hoverinfo": "text",
         "marker": {
          "color": "rgb(35,205,205)"
         },
         "mode": "lines",
         "type": "scatter",
         "x": [
          6822.5,
          6822.5,
          6865,
          6865
         ],
         "xaxis": "x",
         "y": [
          6.63221425698985,
          6.967537272207265,
          6.967537272207265,
          6.829245356496403
         ],
         "yaxis": "y"
        },
        {
         "hoverinfo": "text",
         "marker": {
          "color": "rgb(35,205,205)"
         },
         "mode": "lines",
         "type": "scatter",
         "x": [
          6777.5,
          6777.5,
          6843.75,
          6843.75
         ],
         "xaxis": "x",
         "y": [
          6.73094462875626,
          7.176251697195888,
          7.176251697195888,
          6.967537272207265
         ],
         "yaxis": "y"
        },
        {
         "hoverinfo": "text",
         "marker": {
          "color": "rgb(35,205,205)"
         },
         "mode": "lines",
         "type": "scatter",
         "x": [
          6705.625,
          6705.625,
          6810.625,
          6810.625
         ],
         "xaxis": "x",
         "y": [
          7.113860803845928,
          7.5297756476804345,
          7.5297756476804345,
          7.176251697195888
         ],
         "yaxis": "y"
        },
        {
         "hoverinfo": "text",
         "marker": {
          "color": "rgb(35,205,205)"
         },
         "mode": "lines",
         "type": "scatter",
         "x": [
          6605.625,
          6605.625,
          6758.125,
          6758.125
         ],
         "xaxis": "x",
         "y": [
          7.47078071256714,
          7.707112759495636,
          7.707112759495636,
          7.5297756476804345
         ],
         "yaxis": "y"
        },
        {
         "hoverinfo": "text",
         "marker": {
          "color": "rgb(35,205,205)"
         },
         "mode": "lines",
         "type": "scatter",
         "x": [
          6905,
          6905,
          6915,
          6915
         ],
         "xaxis": "x",
         "y": [
          0,
          5.984965245004259,
          5.984965245004259,
          0
         ],
         "yaxis": "y"
        },
        {
         "hoverinfo": "text",
         "marker": {
          "color": "rgb(35,205,205)"
         },
         "mode": "lines",
         "type": "scatter",
         "x": [
          6925,
          6925,
          6935,
          6935
         ],
         "xaxis": "x",
         "y": [
          0,
          5.11944385226439,
          5.11944385226439,
          0
         ],
         "yaxis": "y"
        },
        {
         "hoverinfo": "text",
         "marker": {
          "color": "rgb(35,205,205)"
         },
         "mode": "lines",
         "type": "scatter",
         "x": [
          6955,
          6955,
          6965,
          6965
         ],
         "xaxis": "x",
         "y": [
          0,
          5.6218656529794,
          5.6218656529794,
          0
         ],
         "yaxis": "y"
        },
        {
         "hoverinfo": "text",
         "marker": {
          "color": "rgb(35,205,205)"
         },
         "mode": "lines",
         "type": "scatter",
         "x": [
          6945,
          6945,
          6960,
          6960
         ],
         "xaxis": "x",
         "y": [
          0,
          6.05634219091121,
          6.05634219091121,
          5.6218656529794
         ],
         "yaxis": "y"
        },
        {
         "hoverinfo": "text",
         "marker": {
          "color": "rgb(35,205,205)"
         },
         "mode": "lines",
         "type": "scatter",
         "x": [
          6930,
          6930,
          6952.5,
          6952.5
         ],
         "xaxis": "x",
         "y": [
          5.11944385226439,
          6.449454898184912,
          6.449454898184912,
          6.05634219091121
         ],
         "yaxis": "y"
        },
        {
         "hoverinfo": "text",
         "marker": {
          "color": "rgb(35,205,205)"
         },
         "mode": "lines",
         "type": "scatter",
         "x": [
          6975,
          6975,
          6985,
          6985
         ],
         "xaxis": "x",
         "y": [
          0,
          5.85666447312673,
          5.85666447312673,
          0
         ],
         "yaxis": "y"
        },
        {
         "hoverinfo": "text",
         "marker": {
          "color": "rgb(35,205,205)"
         },
         "mode": "lines",
         "type": "scatter",
         "x": [
          7005,
          7005,
          7015,
          7015
         ],
         "xaxis": "x",
         "y": [
          0,
          5.498630677655052,
          5.498630677655052,
          0
         ],
         "yaxis": "y"
        },
        {
         "hoverinfo": "text",
         "marker": {
          "color": "rgb(35,205,205)"
         },
         "mode": "lines",
         "type": "scatter",
         "x": [
          6995,
          6995,
          7010,
          7010
         ],
         "xaxis": "x",
         "y": [
          0,
          6.19720728908718,
          6.19720728908718,
          5.498630677655052
         ],
         "yaxis": "y"
        },
        {
         "hoverinfo": "text",
         "marker": {
          "color": "rgb(35,205,205)"
         },
         "mode": "lines",
         "type": "scatter",
         "x": [
          6980,
          6980,
          7002.5,
          7002.5
         ],
         "xaxis": "x",
         "y": [
          5.85666447312673,
          6.6777697500007696,
          6.6777697500007696,
          6.19720728908718
         ],
         "yaxis": "y"
        },
        {
         "hoverinfo": "text",
         "marker": {
          "color": "rgb(35,205,205)"
         },
         "mode": "lines",
         "type": "scatter",
         "x": [
          6941.25,
          6941.25,
          6991.25,
          6991.25
         ],
         "xaxis": "x",
         "y": [
          6.449454898184912,
          6.980329309615594,
          6.980329309615594,
          6.6777697500007696
         ],
         "yaxis": "y"
        },
        {
         "hoverinfo": "text",
         "marker": {
          "color": "rgb(35,205,205)"
         },
         "mode": "lines",
         "type": "scatter",
         "x": [
          7035,
          7035,
          7045,
          7045
         ],
         "xaxis": "x",
         "y": [
          0,
          5.790914532655528,
          5.790914532655528,
          0
         ],
         "yaxis": "y"
        },
        {
         "hoverinfo": "text",
         "marker": {
          "color": "rgb(35,205,205)"
         },
         "mode": "lines",
         "type": "scatter",
         "x": [
          7025,
          7025,
          7040,
          7040
         ],
         "xaxis": "x",
         "y": [
          0,
          6.407149083991918,
          6.407149083991918,
          5.790914532655528
         ],
         "yaxis": "y"
        },
        {
         "hoverinfo": "text",
         "marker": {
          "color": "rgb(35,205,205)"
         },
         "mode": "lines",
         "type": "scatter",
         "x": [
          7065,
          7065,
          7075,
          7075
         ],
         "xaxis": "x",
         "y": [
          0,
          5.811725119753648,
          5.811725119753648,
          0
         ],
         "yaxis": "y"
        },
        {
         "hoverinfo": "text",
         "marker": {
          "color": "rgb(35,205,205)"
         },
         "mode": "lines",
         "type": "scatter",
         "x": [
          7055,
          7055,
          7070,
          7070
         ],
         "xaxis": "x",
         "y": [
          0,
          6.520451806654981,
          6.520451806654981,
          5.811725119753648
         ],
         "yaxis": "y"
        },
        {
         "hoverinfo": "text",
         "marker": {
          "color": "rgb(35,205,205)"
         },
         "mode": "lines",
         "type": "scatter",
         "x": [
          7032.5,
          7032.5,
          7062.5,
          7062.5
         ],
         "xaxis": "x",
         "y": [
          6.407149083991918,
          6.845016650301082,
          6.845016650301082,
          6.520451806654981
         ],
         "yaxis": "y"
        },
        {
         "hoverinfo": "text",
         "marker": {
          "color": "rgb(35,205,205)"
         },
         "mode": "lines",
         "type": "scatter",
         "x": [
          7085,
          7085,
          7095,
          7095
         ],
         "xaxis": "x",
         "y": [
          0,
          6.159861041098311,
          6.159861041098311,
          0
         ],
         "yaxis": "y"
        },
        {
         "hoverinfo": "text",
         "marker": {
          "color": "rgb(35,205,205)"
         },
         "mode": "lines",
         "type": "scatter",
         "x": [
          7105,
          7105,
          7115,
          7115
         ],
         "xaxis": "x",
         "y": [
          0,
          6.499455277510627,
          6.499455277510627,
          0
         ],
         "yaxis": "y"
        },
        {
         "hoverinfo": "text",
         "marker": {
          "color": "rgb(35,205,205)"
         },
         "mode": "lines",
         "type": "scatter",
         "x": [
          7090,
          7090,
          7110,
          7110
         ],
         "xaxis": "x",
         "y": [
          6.159861041098311,
          7.05024936702946,
          7.05024936702946,
          6.499455277510627
         ],
         "yaxis": "y"
        },
        {
         "hoverinfo": "text",
         "marker": {
          "color": "rgb(35,205,205)"
         },
         "mode": "lines",
         "type": "scatter",
         "x": [
          7047.5,
          7047.5,
          7100,
          7100
         ],
         "xaxis": "x",
         "y": [
          6.845016650301082,
          7.318476524208145,
          7.318476524208145,
          7.05024936702946
         ],
         "yaxis": "y"
        },
        {
         "hoverinfo": "text",
         "marker": {
          "color": "rgb(35,205,205)"
         },
         "mode": "lines",
         "type": "scatter",
         "x": [
          6966.25,
          6966.25,
          7073.75,
          7073.75
         ],
         "xaxis": "x",
         "y": [
          6.980329309615594,
          7.576018160544338,
          7.576018160544338,
          7.318476524208145
         ],
         "yaxis": "y"
        },
        {
         "hoverinfo": "text",
         "marker": {
          "color": "rgb(35,205,205)"
         },
         "mode": "lines",
         "type": "scatter",
         "x": [
          6910,
          6910,
          7020,
          7020
         ],
         "xaxis": "x",
         "y": [
          5.984965245004259,
          7.761595299529078,
          7.761595299529078,
          7.576018160544338
         ],
         "yaxis": "y"
        },
        {
         "hoverinfo": "text",
         "marker": {
          "color": "rgb(35,205,205)"
         },
         "mode": "lines",
         "type": "scatter",
         "x": [
          6681.875,
          6681.875,
          6965,
          6965
         ],
         "xaxis": "x",
         "y": [
          7.707112759495636,
          8.057542094367854,
          8.057542094367854,
          7.761595299529078
         ],
         "yaxis": "y"
        },
        {
         "hoverinfo": "text",
         "marker": {
          "color": "rgb(35,205,205)"
         },
         "mode": "lines",
         "type": "scatter",
         "x": [
          7125,
          7125,
          7135,
          7135
         ],
         "xaxis": "x",
         "y": [
          0,
          6.501833001700604,
          6.501833001700604,
          0
         ],
         "yaxis": "y"
        },
        {
         "hoverinfo": "text",
         "marker": {
          "color": "rgb(35,205,205)"
         },
         "mode": "lines",
         "type": "scatter",
         "x": [
          7155,
          7155,
          7165,
          7165
         ],
         "xaxis": "x",
         "y": [
          0,
          6.268407266634665,
          6.268407266634665,
          0
         ],
         "yaxis": "y"
        },
        {
         "hoverinfo": "text",
         "marker": {
          "color": "rgb(35,205,205)"
         },
         "mode": "lines",
         "type": "scatter",
         "x": [
          7145,
          7145,
          7160,
          7160
         ],
         "xaxis": "x",
         "y": [
          0,
          6.948029435969857,
          6.948029435969857,
          6.268407266634665
         ],
         "yaxis": "y"
        },
        {
         "hoverinfo": "text",
         "marker": {
          "color": "rgb(35,205,205)"
         },
         "mode": "lines",
         "type": "scatter",
         "x": [
          7130,
          7130,
          7152.5,
          7152.5
         ],
         "xaxis": "x",
         "y": [
          6.501833001700604,
          7.275903508006793,
          7.275903508006793,
          6.948029435969857
         ],
         "yaxis": "y"
        },
        {
         "hoverinfo": "text",
         "marker": {
          "color": "rgb(35,205,205)"
         },
         "mode": "lines",
         "type": "scatter",
         "x": [
          7175,
          7175,
          7185,
          7185
         ],
         "xaxis": "x",
         "y": [
          0,
          6.327729493956266,
          6.327729493956266,
          0
         ],
         "yaxis": "y"
        },
        {
         "hoverinfo": "text",
         "marker": {
          "color": "rgb(35,205,205)"
         },
         "mode": "lines",
         "type": "scatter",
         "x": [
          7205,
          7205,
          7215,
          7215
         ],
         "xaxis": "x",
         "y": [
          0,
          5.8524655093205125,
          5.8524655093205125,
          0
         ],
         "yaxis": "y"
        },
        {
         "hoverinfo": "text",
         "marker": {
          "color": "rgb(35,205,205)"
         },
         "mode": "lines",
         "type": "scatter",
         "x": [
          7195,
          7195,
          7210,
          7210
         ],
         "xaxis": "x",
         "y": [
          0,
          6.771072815537624,
          6.771072815537624,
          5.8524655093205125
         ],
         "yaxis": "y"
        },
        {
         "hoverinfo": "text",
         "marker": {
          "color": "rgb(35,205,205)"
         },
         "mode": "lines",
         "type": "scatter",
         "x": [
          7180,
          7180,
          7202.5,
          7202.5
         ],
         "xaxis": "x",
         "y": [
          6.327729493956266,
          6.791083379711175,
          6.791083379711175,
          6.771072815537624
         ],
         "yaxis": "y"
        },
        {
         "hoverinfo": "text",
         "marker": {
          "color": "rgb(35,205,205)"
         },
         "mode": "lines",
         "type": "scatter",
         "x": [
          7225,
          7225,
          7235,
          7235
         ],
         "xaxis": "x",
         "y": [
          0,
          6.612485857123884,
          6.612485857123884,
          0
         ],
         "yaxis": "y"
        },
        {
         "hoverinfo": "text",
         "marker": {
          "color": "rgb(35,205,205)"
         },
         "mode": "lines",
         "type": "scatter",
         "x": [
          7245,
          7245,
          7255,
          7255
         ],
         "xaxis": "x",
         "y": [
          0,
          5.603881214882897,
          5.603881214882897,
          0
         ],
         "yaxis": "y"
        },
        {
         "hoverinfo": "text",
         "marker": {
          "color": "rgb(35,205,205)"
         },
         "mode": "lines",
         "type": "scatter",
         "x": [
          7265,
          7265,
          7275,
          7275
         ],
         "xaxis": "x",
         "y": [
          0,
          5.976486745268279,
          5.976486745268279,
          0
         ],
         "yaxis": "y"
        },
        {
         "hoverinfo": "text",
         "marker": {
          "color": "rgb(35,205,205)"
         },
         "mode": "lines",
         "type": "scatter",
         "x": [
          7250,
          7250,
          7270,
          7270
         ],
         "xaxis": "x",
         "y": [
          5.603881214882897,
          6.631677922947902,
          6.631677922947902,
          5.976486745268279
         ],
         "yaxis": "y"
        },
        {
         "hoverinfo": "text",
         "marker": {
          "color": "rgb(35,205,205)"
         },
         "mode": "lines",
         "type": "scatter",
         "x": [
          7230,
          7230,
          7260,
          7260
         ],
         "xaxis": "x",
         "y": [
          6.612485857123884,
          7.087485313312175,
          7.087485313312175,
          6.631677922947902
         ],
         "yaxis": "y"
        },
        {
         "hoverinfo": "text",
         "marker": {
          "color": "rgb(35,205,205)"
         },
         "mode": "lines",
         "type": "scatter",
         "x": [
          7191.25,
          7191.25,
          7245,
          7245
         ],
         "xaxis": "x",
         "y": [
          6.791083379711175,
          7.5273442194641875,
          7.5273442194641875,
          7.087485313312175
         ],
         "yaxis": "y"
        },
        {
         "hoverinfo": "text",
         "marker": {
          "color": "rgb(35,205,205)"
         },
         "mode": "lines",
         "type": "scatter",
         "x": [
          7141.25,
          7141.25,
          7218.125,
          7218.125
         ],
         "xaxis": "x",
         "y": [
          7.275903508006793,
          7.6671477386503435,
          7.6671477386503435,
          7.5273442194641875
         ],
         "yaxis": "y"
        },
        {
         "hoverinfo": "text",
         "marker": {
          "color": "rgb(35,205,205)"
         },
         "mode": "lines",
         "type": "scatter",
         "x": [
          7285,
          7285,
          7295,
          7295
         ],
         "xaxis": "x",
         "y": [
          0,
          5.517346236988209,
          5.517346236988209,
          0
         ],
         "yaxis": "y"
        },
        {
         "hoverinfo": "text",
         "marker": {
          "color": "rgb(35,205,205)"
         },
         "mode": "lines",
         "type": "scatter",
         "x": [
          7305,
          7305,
          7315,
          7315
         ],
         "xaxis": "x",
         "y": [
          0,
          5.657045364025522,
          5.657045364025522,
          0
         ],
         "yaxis": "y"
        },
        {
         "hoverinfo": "text",
         "marker": {
          "color": "rgb(35,205,205)"
         },
         "mode": "lines",
         "type": "scatter",
         "x": [
          7290,
          7290,
          7310,
          7310
         ],
         "xaxis": "x",
         "y": [
          5.517346236988209,
          6.428961127916182,
          6.428961127916182,
          5.657045364025522
         ],
         "yaxis": "y"
        },
        {
         "hoverinfo": "text",
         "marker": {
          "color": "rgb(35,205,205)"
         },
         "mode": "lines",
         "type": "scatter",
         "x": [
          7325,
          7325,
          7335,
          7335
         ],
         "xaxis": "x",
         "y": [
          0,
          6.667016550626714,
          6.667016550626714,
          0
         ],
         "yaxis": "y"
        },
        {
         "hoverinfo": "text",
         "marker": {
          "color": "rgb(35,205,205)"
         },
         "mode": "lines",
         "type": "scatter",
         "x": [
          7300,
          7300,
          7330,
          7330
         ],
         "xaxis": "x",
         "y": [
          6.428961127916182,
          7.091589449317905,
          7.091589449317905,
          6.667016550626714
         ],
         "yaxis": "y"
        },
        {
         "hoverinfo": "text",
         "marker": {
          "color": "rgb(35,205,205)"
         },
         "mode": "lines",
         "type": "scatter",
         "x": [
          7355,
          7355,
          7365,
          7365
         ],
         "xaxis": "x",
         "y": [
          0,
          5.867355057316546,
          5.867355057316546,
          0
         ],
         "yaxis": "y"
        },
        {
         "hoverinfo": "text",
         "marker": {
          "color": "rgb(35,205,205)"
         },
         "mode": "lines",
         "type": "scatter",
         "x": [
          7345,
          7345,
          7360,
          7360
         ],
         "xaxis": "x",
         "y": [
          0,
          6.366264492101283,
          6.366264492101283,
          5.867355057316546
         ],
         "yaxis": "y"
        },
        {
         "hoverinfo": "text",
         "marker": {
          "color": "rgb(35,205,205)"
         },
         "mode": "lines",
         "type": "scatter",
         "x": [
          7385,
          7385,
          7395,
          7395
         ],
         "xaxis": "x",
         "y": [
          0,
          5.264488393697897,
          5.264488393697897,
          0
         ],
         "yaxis": "y"
        },
        {
         "hoverinfo": "text",
         "marker": {
          "color": "rgb(35,205,205)"
         },
         "mode": "lines",
         "type": "scatter",
         "x": [
          7375,
          7375,
          7390,
          7390
         ],
         "xaxis": "x",
         "y": [
          0,
          5.8594088267459234,
          5.8594088267459234,
          5.264488393697897
         ],
         "yaxis": "y"
        },
        {
         "hoverinfo": "text",
         "marker": {
          "color": "rgb(35,205,205)"
         },
         "mode": "lines",
         "type": "scatter",
         "x": [
          7415,
          7415,
          7425,
          7425
         ],
         "xaxis": "x",
         "y": [
          0,
          5.702771168606472,
          5.702771168606472,
          0
         ],
         "yaxis": "y"
        },
        {
         "hoverinfo": "text",
         "marker": {
          "color": "rgb(35,205,205)"
         },
         "mode": "lines",
         "type": "scatter",
         "x": [
          7405,
          7405,
          7420,
          7420
         ],
         "xaxis": "x",
         "y": [
          0,
          6.053997040015828,
          6.053997040015828,
          5.702771168606472
         ],
         "yaxis": "y"
        },
        {
         "hoverinfo": "text",
         "marker": {
          "color": "rgb(35,205,205)"
         },
         "mode": "lines",
         "type": "scatter",
         "x": [
          7382.5,
          7382.5,
          7412.5,
          7412.5
         ],
         "xaxis": "x",
         "y": [
          5.8594088267459234,
          6.457556968486451,
          6.457556968486451,
          6.053997040015828
         ],
         "yaxis": "y"
        },
        {
         "hoverinfo": "text",
         "marker": {
          "color": "rgb(35,205,205)"
         },
         "mode": "lines",
         "type": "scatter",
         "x": [
          7352.5,
          7352.5,
          7397.5,
          7397.5
         ],
         "xaxis": "x",
         "y": [
          6.366264492101283,
          6.9005267528017304,
          6.9005267528017304,
          6.457556968486451
         ],
         "yaxis": "y"
        },
        {
         "hoverinfo": "text",
         "marker": {
          "color": "rgb(35,205,205)"
         },
         "mode": "lines",
         "type": "scatter",
         "x": [
          7435,
          7435,
          7445,
          7445
         ],
         "xaxis": "x",
         "y": [
          0,
          5.348109092953458,
          5.348109092953458,
          0
         ],
         "yaxis": "y"
        },
        {
         "hoverinfo": "text",
         "marker": {
          "color": "rgb(35,205,205)"
         },
         "mode": "lines",
         "type": "scatter",
         "x": [
          7455,
          7455,
          7465,
          7465
         ],
         "xaxis": "x",
         "y": [
          0,
          6.237767916735745,
          6.237767916735745,
          0
         ],
         "yaxis": "y"
        },
        {
         "hoverinfo": "text",
         "marker": {
          "color": "rgb(35,205,205)"
         },
         "mode": "lines",
         "type": "scatter",
         "x": [
          7440,
          7440,
          7460,
          7460
         ],
         "xaxis": "x",
         "y": [
          5.348109092953458,
          6.902437264038076,
          6.902437264038076,
          6.237767916735745
         ],
         "yaxis": "y"
        },
        {
         "hoverinfo": "text",
         "marker": {
          "color": "rgb(35,205,205)"
         },
         "mode": "lines",
         "type": "scatter",
         "x": [
          7375,
          7375,
          7450,
          7450
         ],
         "xaxis": "x",
         "y": [
          6.9005267528017304,
          7.1881218583826145,
          7.1881218583826145,
          6.902437264038076
         ],
         "yaxis": "y"
        },
        {
         "hoverinfo": "text",
         "marker": {
          "color": "rgb(35,205,205)"
         },
         "mode": "lines",
         "type": "scatter",
         "x": [
          7315,
          7315,
          7412.5,
          7412.5
         ],
         "xaxis": "x",
         "y": [
          7.091589449317905,
          7.534175987862556,
          7.534175987862556,
          7.1881218583826145
         ],
         "yaxis": "y"
        },
        {
         "hoverinfo": "text",
         "marker": {
          "color": "rgb(35,205,205)"
         },
         "mode": "lines",
         "type": "scatter",
         "x": [
          7475,
          7475,
          7485,
          7485
         ],
         "xaxis": "x",
         "y": [
          0,
          5.669887289588873,
          5.669887289588873,
          0
         ],
         "yaxis": "y"
        },
        {
         "hoverinfo": "text",
         "marker": {
          "color": "rgb(35,205,205)"
         },
         "mode": "lines",
         "type": "scatter",
         "x": [
          7495,
          7495,
          7505,
          7505
         ],
         "xaxis": "x",
         "y": [
          0,
          5.799696205124031,
          5.799696205124031,
          0
         ],
         "yaxis": "y"
        },
        {
         "hoverinfo": "text",
         "marker": {
          "color": "rgb(35,205,205)"
         },
         "mode": "lines",
         "type": "scatter",
         "x": [
          7480,
          7480,
          7500,
          7500
         ],
         "xaxis": "x",
         "y": [
          5.669887289588873,
          6.336742177195681,
          6.336742177195681,
          5.799696205124031
         ],
         "yaxis": "y"
        },
        {
         "hoverinfo": "text",
         "marker": {
          "color": "rgb(35,205,205)"
         },
         "mode": "lines",
         "type": "scatter",
         "x": [
          7525,
          7525,
          7535,
          7535
         ],
         "xaxis": "x",
         "y": [
          0,
          5.997402724877755,
          5.997402724877755,
          0
         ],
         "yaxis": "y"
        },
        {
         "hoverinfo": "text",
         "marker": {
          "color": "rgb(35,205,205)"
         },
         "mode": "lines",
         "type": "scatter",
         "x": [
          7515,
          7515,
          7530,
          7530
         ],
         "xaxis": "x",
         "y": [
          0,
          6.644150461837165,
          6.644150461837165,
          5.997402724877755
         ],
         "yaxis": "y"
        },
        {
         "hoverinfo": "text",
         "marker": {
          "color": "rgb(35,205,205)"
         },
         "mode": "lines",
         "type": "scatter",
         "x": [
          7490,
          7490,
          7522.5,
          7522.5
         ],
         "xaxis": "x",
         "y": [
          6.336742177195681,
          7.15594047750067,
          7.15594047750067,
          6.644150461837165
         ],
         "yaxis": "y"
        },
        {
         "hoverinfo": "text",
         "marker": {
          "color": "rgb(35,205,205)"
         },
         "mode": "lines",
         "type": "scatter",
         "x": [
          7545,
          7545,
          7555,
          7555
         ],
         "xaxis": "x",
         "y": [
          0,
          6.342258593770651,
          6.342258593770651,
          0
         ],
         "yaxis": "y"
        },
        {
         "hoverinfo": "text",
         "marker": {
          "color": "rgb(35,205,205)"
         },
         "mode": "lines",
         "type": "scatter",
         "x": [
          7585,
          7585,
          7595,
          7595
         ],
         "xaxis": "x",
         "y": [
          0,
          5.718069814005421,
          5.718069814005421,
          0
         ],
         "yaxis": "y"
        },
        {
         "hoverinfo": "text",
         "marker": {
          "color": "rgb(35,205,205)"
         },
         "mode": "lines",
         "type": "scatter",
         "x": [
          7575,
          7575,
          7590,
          7590
         ],
         "xaxis": "x",
         "y": [
          0,
          6.1598672661667635,
          6.1598672661667635,
          5.718069814005421
         ],
         "yaxis": "y"
        },
        {
         "hoverinfo": "text",
         "marker": {
          "color": "rgb(35,205,205)"
         },
         "mode": "lines",
         "type": "scatter",
         "x": [
          7565,
          7565,
          7582.5,
          7582.5
         ],
         "xaxis": "x",
         "y": [
          0,
          6.435774795890886,
          6.435774795890886,
          6.1598672661667635
         ],
         "yaxis": "y"
        },
        {
         "hoverinfo": "text",
         "marker": {
          "color": "rgb(35,205,205)"
         },
         "mode": "lines",
         "type": "scatter",
         "x": [
          7605,
          7605,
          7615,
          7615
         ],
         "xaxis": "x",
         "y": [
          0,
          6.007482887159357,
          6.007482887159357,
          0
         ],
         "yaxis": "y"
        },
        {
         "hoverinfo": "text",
         "marker": {
          "color": "rgb(35,205,205)"
         },
         "mode": "lines",
         "type": "scatter",
         "x": [
          7625,
          7625,
          7635,
          7635
         ],
         "xaxis": "x",
         "y": [
          0,
          6.08042362103836,
          6.08042362103836,
          0
         ],
         "yaxis": "y"
        },
        {
         "hoverinfo": "text",
         "marker": {
          "color": "rgb(35,205,205)"
         },
         "mode": "lines",
         "type": "scatter",
         "x": [
          7610,
          7610,
          7630,
          7630
         ],
         "xaxis": "x",
         "y": [
          6.007482887159357,
          6.672473945079959,
          6.672473945079959,
          6.08042362103836
         ],
         "yaxis": "y"
        },
        {
         "hoverinfo": "text",
         "marker": {
          "color": "rgb(35,205,205)"
         },
         "mode": "lines",
         "type": "scatter",
         "x": [
          7573.75,
          7573.75,
          7620,
          7620
         ],
         "xaxis": "x",
         "y": [
          6.435774795890886,
          7.2037824991213775,
          7.2037824991213775,
          6.672473945079959
         ],
         "yaxis": "y"
        },
        {
         "hoverinfo": "text",
         "marker": {
          "color": "rgb(35,205,205)"
         },
         "mode": "lines",
         "type": "scatter",
         "x": [
          7550,
          7550,
          7596.875,
          7596.875
         ],
         "xaxis": "x",
         "y": [
          6.342258593770651,
          7.522327550388619,
          7.522327550388619,
          7.2037824991213775
         ],
         "yaxis": "y"
        },
        {
         "hoverinfo": "text",
         "marker": {
          "color": "rgb(35,205,205)"
         },
         "mode": "lines",
         "type": "scatter",
         "x": [
          7506.25,
          7506.25,
          7573.4375,
          7573.4375
         ],
         "xaxis": "x",
         "y": [
          7.15594047750067,
          7.752316750976595,
          7.752316750976595,
          7.522327550388619
         ],
         "yaxis": "y"
        },
        {
         "hoverinfo": "text",
         "marker": {
          "color": "rgb(35,205,205)"
         },
         "mode": "lines",
         "type": "scatter",
         "x": [
          7363.75,
          7363.75,
          7539.84375,
          7539.84375
         ],
         "xaxis": "x",
         "y": [
          7.534175987862556,
          7.974507127213755,
          7.974507127213755,
          7.752316750976595
         ],
         "yaxis": "y"
        },
        {
         "hoverinfo": "text",
         "marker": {
          "color": "rgb(35,205,205)"
         },
         "mode": "lines",
         "type": "scatter",
         "x": [
          7179.6875,
          7179.6875,
          7451.796875,
          7451.796875
         ],
         "xaxis": "x",
         "y": [
          7.6671477386503435,
          8.20796815361297,
          8.20796815361297,
          7.974507127213755
         ],
         "yaxis": "y"
        },
        {
         "hoverinfo": "text",
         "marker": {
          "color": "rgb(35,205,205)"
         },
         "mode": "lines",
         "type": "scatter",
         "x": [
          6823.4375,
          6823.4375,
          7315.7421875,
          7315.7421875
         ],
         "xaxis": "x",
         "y": [
          8.057542094367854,
          8.379861249055782,
          8.379861249055782,
          8.20796815361297
         ],
         "yaxis": "y"
        },
        {
         "hoverinfo": "text",
         "marker": {
          "color": "rgb(35,205,205)"
         },
         "mode": "lines",
         "type": "scatter",
         "x": [
          6256.19140625,
          6256.19140625,
          7069.58984375,
          7069.58984375
         ],
         "xaxis": "x",
         "y": [
          8.324145270591432,
          8.506806211658384,
          8.506806211658384,
          8.379861249055782
         ],
         "yaxis": "y"
        },
        {
         "hoverinfo": "text",
         "marker": {
          "color": "rgb(35,205,205)"
         },
         "mode": "lines",
         "type": "scatter",
         "x": [
          7655,
          7655,
          7665,
          7665
         ],
         "xaxis": "x",
         "y": [
          0,
          6.011638438951338,
          6.011638438951338,
          0
         ],
         "yaxis": "y"
        },
        {
         "hoverinfo": "text",
         "marker": {
          "color": "rgb(35,205,205)"
         },
         "mode": "lines",
         "type": "scatter",
         "x": [
          7645,
          7645,
          7660,
          7660
         ],
         "xaxis": "x",
         "y": [
          0,
          6.766324296093828,
          6.766324296093828,
          6.011638438951338
         ],
         "yaxis": "y"
        },
        {
         "hoverinfo": "text",
         "marker": {
          "color": "rgb(35,205,205)"
         },
         "mode": "lines",
         "type": "scatter",
         "x": [
          7685,
          7685,
          7695,
          7695
         ],
         "xaxis": "x",
         "y": [
          0,
          6.133810612821696,
          6.133810612821696,
          0
         ],
         "yaxis": "y"
        },
        {
         "hoverinfo": "text",
         "marker": {
          "color": "rgb(35,205,205)"
         },
         "mode": "lines",
         "type": "scatter",
         "x": [
          7675,
          7675,
          7690,
          7690
         ],
         "xaxis": "x",
         "y": [
          0,
          7.0414320501543415,
          7.0414320501543415,
          6.133810612821696
         ],
         "yaxis": "y"
        },
        {
         "hoverinfo": "text",
         "marker": {
          "color": "rgb(35,205,205)"
         },
         "mode": "lines",
         "type": "scatter",
         "x": [
          7652.5,
          7652.5,
          7682.5,
          7682.5
         ],
         "xaxis": "x",
         "y": [
          6.766324296093828,
          7.252751599483471,
          7.252751599483471,
          7.0414320501543415
         ],
         "yaxis": "y"
        },
        {
         "hoverinfo": "text",
         "marker": {
          "color": "rgb(35,205,205)"
         },
         "mode": "lines",
         "type": "scatter",
         "x": [
          7705,
          7705,
          7715,
          7715
         ],
         "xaxis": "x",
         "y": [
          0,
          6.133853232137433,
          6.133853232137433,
          0
         ],
         "yaxis": "y"
        },
        {
         "hoverinfo": "text",
         "marker": {
          "color": "rgb(35,205,205)"
         },
         "mode": "lines",
         "type": "scatter",
         "x": [
          7735,
          7735,
          7745,
          7745
         ],
         "xaxis": "x",
         "y": [
          0,
          5.929930821584568,
          5.929930821584568,
          0
         ],
         "yaxis": "y"
        },
        {
         "hoverinfo": "text",
         "marker": {
          "color": "rgb(35,205,205)"
         },
         "mode": "lines",
         "type": "scatter",
         "x": [
          7725,
          7725,
          7740,
          7740
         ],
         "xaxis": "x",
         "y": [
          0,
          7.234827127336411,
          7.234827127336411,
          5.929930821584568
         ],
         "yaxis": "y"
        },
        {
         "hoverinfo": "text",
         "marker": {
          "color": "rgb(35,205,205)"
         },
         "mode": "lines",
         "type": "scatter",
         "x": [
          7710,
          7710,
          7732.5,
          7732.5
         ],
         "xaxis": "x",
         "y": [
          6.133853232137433,
          7.632538262983894,
          7.632538262983894,
          7.234827127336411
         ],
         "yaxis": "y"
        },
        {
         "hoverinfo": "text",
         "marker": {
          "color": "rgb(35,205,205)"
         },
         "mode": "lines",
         "type": "scatter",
         "x": [
          7667.5,
          7667.5,
          7721.25,
          7721.25
         ],
         "xaxis": "x",
         "y": [
          7.252751599483471,
          7.856609664752916,
          7.856609664752916,
          7.632538262983894
         ],
         "yaxis": "y"
        },
        {
         "hoverinfo": "text",
         "marker": {
          "color": "rgb(35,205,205)"
         },
         "mode": "lines",
         "type": "scatter",
         "x": [
          7755,
          7755,
          7765,
          7765
         ],
         "xaxis": "x",
         "y": [
          0,
          6.2749380067122615,
          6.2749380067122615,
          0
         ],
         "yaxis": "y"
        },
        {
         "hoverinfo": "text",
         "marker": {
          "color": "rgb(35,205,205)"
         },
         "mode": "lines",
         "type": "scatter",
         "x": [
          7785,
          7785,
          7795,
          7795
         ],
         "xaxis": "x",
         "y": [
          0,
          6.086851730014784,
          6.086851730014784,
          0
         ],
         "yaxis": "y"
        },
        {
         "hoverinfo": "text",
         "marker": {
          "color": "rgb(35,205,205)"
         },
         "mode": "lines",
         "type": "scatter",
         "x": [
          7775,
          7775,
          7790,
          7790
         ],
         "xaxis": "x",
         "y": [
          0,
          6.282461534265018,
          6.282461534265018,
          6.086851730014784
         ],
         "yaxis": "y"
        },
        {
         "hoverinfo": "text",
         "marker": {
          "color": "rgb(35,205,205)"
         },
         "mode": "lines",
         "type": "scatter",
         "x": [
          7815,
          7815,
          7825,
          7825
         ],
         "xaxis": "x",
         "y": [
          0,
          6.065995999803698,
          6.065995999803698,
          0
         ],
         "yaxis": "y"
        },
        {
         "hoverinfo": "text",
         "marker": {
          "color": "rgb(35,205,205)"
         },
         "mode": "lines",
         "type": "scatter",
         "x": [
          7805,
          7805,
          7820,
          7820
         ],
         "xaxis": "x",
         "y": [
          0,
          6.455733997337272,
          6.455733997337272,
          6.065995999803698
         ],
         "yaxis": "y"
        },
        {
         "hoverinfo": "text",
         "marker": {
          "color": "rgb(35,205,205)"
         },
         "mode": "lines",
         "type": "scatter",
         "x": [
          7782.5,
          7782.5,
          7812.5,
          7812.5
         ],
         "xaxis": "x",
         "y": [
          6.282461534265018,
          7.058611301929561,
          7.058611301929561,
          6.455733997337272
         ],
         "yaxis": "y"
        },
        {
         "hoverinfo": "text",
         "marker": {
          "color": "rgb(35,205,205)"
         },
         "mode": "lines",
         "type": "scatter",
         "x": [
          7760,
          7760,
          7797.5,
          7797.5
         ],
         "xaxis": "x",
         "y": [
          6.2749380067122615,
          7.264546156507387,
          7.264546156507387,
          7.058611301929561
         ],
         "yaxis": "y"
        },
        {
         "hoverinfo": "text",
         "marker": {
          "color": "rgb(35,205,205)"
         },
         "mode": "lines",
         "type": "scatter",
         "x": [
          7835,
          7835,
          7845,
          7845
         ],
         "xaxis": "x",
         "y": [
          0,
          6.544278419127017,
          6.544278419127017,
          0
         ],
         "yaxis": "y"
        },
        {
         "hoverinfo": "text",
         "marker": {
          "color": "rgb(35,205,205)"
         },
         "mode": "lines",
         "type": "scatter",
         "x": [
          7855,
          7855,
          7865,
          7865
         ],
         "xaxis": "x",
         "y": [
          0,
          5.419175323898403,
          5.419175323898403,
          0
         ],
         "yaxis": "y"
        },
        {
         "hoverinfo": "text",
         "marker": {
          "color": "rgb(35,205,205)"
         },
         "mode": "lines",
         "type": "scatter",
         "x": [
          7875,
          7875,
          7885,
          7885
         ],
         "xaxis": "x",
         "y": [
          0,
          6.331822486854339,
          6.331822486854339,
          0
         ],
         "yaxis": "y"
        },
        {
         "hoverinfo": "text",
         "marker": {
          "color": "rgb(35,205,205)"
         },
         "mode": "lines",
         "type": "scatter",
         "x": [
          7860,
          7860,
          7880,
          7880
         ],
         "xaxis": "x",
         "y": [
          5.419175323898403,
          6.562347106656613,
          6.562347106656613,
          6.331822486854339
         ],
         "yaxis": "y"
        },
        {
         "hoverinfo": "text",
         "marker": {
          "color": "rgb(35,205,205)"
         },
         "mode": "lines",
         "type": "scatter",
         "x": [
          7895,
          7895,
          7905,
          7905
         ],
         "xaxis": "x",
         "y": [
          0,
          5.901522894078875,
          5.901522894078875,
          0
         ],
         "yaxis": "y"
        },
        {
         "hoverinfo": "text",
         "marker": {
          "color": "rgb(35,205,205)"
         },
         "mode": "lines",
         "type": "scatter",
         "x": [
          7915,
          7915,
          7925,
          7925
         ],
         "xaxis": "x",
         "y": [
          0,
          5.9852862217109655,
          5.9852862217109655,
          0
         ],
         "yaxis": "y"
        },
        {
         "hoverinfo": "text",
         "marker": {
          "color": "rgb(35,205,205)"
         },
         "mode": "lines",
         "type": "scatter",
         "x": [
          7900,
          7900,
          7920,
          7920
         ],
         "xaxis": "x",
         "y": [
          5.901522894078875,
          6.707935718500784,
          6.707935718500784,
          5.9852862217109655
         ],
         "yaxis": "y"
        },
        {
         "hoverinfo": "text",
         "marker": {
          "color": "rgb(35,205,205)"
         },
         "mode": "lines",
         "type": "scatter",
         "x": [
          7870,
          7870,
          7910,
          7910
         ],
         "xaxis": "x",
         "y": [
          6.562347106656613,
          7.130874994455754,
          7.130874994455754,
          6.707935718500784
         ],
         "yaxis": "y"
        },
        {
         "hoverinfo": "text",
         "marker": {
          "color": "rgb(35,205,205)"
         },
         "mode": "lines",
         "type": "scatter",
         "x": [
          7840,
          7840,
          7890,
          7890
         ],
         "xaxis": "x",
         "y": [
          6.544278419127017,
          7.529914970977521,
          7.529914970977521,
          7.130874994455754
         ],
         "yaxis": "y"
        },
        {
         "hoverinfo": "text",
         "marker": {
          "color": "rgb(35,205,205)"
         },
         "mode": "lines",
         "type": "scatter",
         "x": [
          7778.75,
          7778.75,
          7865,
          7865
         ],
         "xaxis": "x",
         "y": [
          7.264546156507387,
          7.681075721897225,
          7.681075721897225,
          7.529914970977521
         ],
         "yaxis": "y"
        },
        {
         "hoverinfo": "text",
         "marker": {
          "color": "rgb(35,205,205)"
         },
         "mode": "lines",
         "type": "scatter",
         "x": [
          7935,
          7935,
          7945,
          7945
         ],
         "xaxis": "x",
         "y": [
          0,
          6.113079567414463,
          6.113079567414463,
          0
         ],
         "yaxis": "y"
        },
        {
         "hoverinfo": "text",
         "marker": {
          "color": "rgb(35,205,205)"
         },
         "mode": "lines",
         "type": "scatter",
         "x": [
          7965,
          7965,
          7975,
          7975
         ],
         "xaxis": "x",
         "y": [
          0,
          6.323134614310095,
          6.323134614310095,
          0
         ],
         "yaxis": "y"
        },
        {
         "hoverinfo": "text",
         "marker": {
          "color": "rgb(35,205,205)"
         },
         "mode": "lines",
         "type": "scatter",
         "x": [
          7955,
          7955,
          7970,
          7970
         ],
         "xaxis": "x",
         "y": [
          0,
          6.874685758950243,
          6.874685758950243,
          6.323134614310095
         ],
         "yaxis": "y"
        },
        {
         "hoverinfo": "text",
         "marker": {
          "color": "rgb(35,205,205)"
         },
         "mode": "lines",
         "type": "scatter",
         "x": [
          7940,
          7940,
          7962.5,
          7962.5
         ],
         "xaxis": "x",
         "y": [
          6.113079567414463,
          7.500109364248211,
          7.500109364248211,
          6.874685758950243
         ],
         "yaxis": "y"
        },
        {
         "hoverinfo": "text",
         "marker": {
          "color": "rgb(35,205,205)"
         },
         "mode": "lines",
         "type": "scatter",
         "x": [
          7985,
          7985,
          7995,
          7995
         ],
         "xaxis": "x",
         "y": [
          0,
          5.7592661936849625,
          5.7592661936849625,
          0
         ],
         "yaxis": "y"
        },
        {
         "hoverinfo": "text",
         "marker": {
          "color": "rgb(35,205,205)"
         },
         "mode": "lines",
         "type": "scatter",
         "x": [
          8005,
          8005,
          8015,
          8015
         ],
         "xaxis": "x",
         "y": [
          0,
          5.7141061324219455,
          5.7141061324219455,
          0
         ],
         "yaxis": "y"
        },
        {
         "hoverinfo": "text",
         "marker": {
          "color": "rgb(35,205,205)"
         },
         "mode": "lines",
         "type": "scatter",
         "x": [
          8025,
          8025,
          8035,
          8035
         ],
         "xaxis": "x",
         "y": [
          0,
          5.877717682583997,
          5.877717682583997,
          0
         ],
         "yaxis": "y"
        },
        {
         "hoverinfo": "text",
         "marker": {
          "color": "rgb(35,205,205)"
         },
         "mode": "lines",
         "type": "scatter",
         "x": [
          8010,
          8010,
          8030,
          8030
         ],
         "xaxis": "x",
         "y": [
          5.7141061324219455,
          6.4410125498053405,
          6.4410125498053405,
          5.877717682583997
         ],
         "yaxis": "y"
        },
        {
         "hoverinfo": "text",
         "marker": {
          "color": "rgb(35,205,205)"
         },
         "mode": "lines",
         "type": "scatter",
         "x": [
          7990,
          7990,
          8020,
          8020
         ],
         "xaxis": "x",
         "y": [
          5.7592661936849625,
          6.622283208177521,
          6.622283208177521,
          6.4410125498053405
         ],
         "yaxis": "y"
        },
        {
         "hoverinfo": "text",
         "marker": {
          "color": "rgb(35,205,205)"
         },
         "mode": "lines",
         "type": "scatter",
         "x": [
          8045,
          8045,
          8055,
          8055
         ],
         "xaxis": "x",
         "y": [
          0,
          6.6840376017087015,
          6.6840376017087015,
          0
         ],
         "yaxis": "y"
        },
        {
         "hoverinfo": "text",
         "marker": {
          "color": "rgb(35,205,205)"
         },
         "mode": "lines",
         "type": "scatter",
         "x": [
          8005,
          8005,
          8050,
          8050
         ],
         "xaxis": "x",
         "y": [
          6.622283208177521,
          7.267015067745313,
          7.267015067745313,
          6.6840376017087015
         ],
         "yaxis": "y"
        },
        {
         "hoverinfo": "text",
         "marker": {
          "color": "rgb(35,205,205)"
         },
         "mode": "lines",
         "type": "scatter",
         "x": [
          8075,
          8075,
          8085,
          8085
         ],
         "xaxis": "x",
         "y": [
          0,
          5.708551875190707,
          5.708551875190707,
          0
         ],
         "yaxis": "y"
        },
        {
         "hoverinfo": "text",
         "marker": {
          "color": "rgb(35,205,205)"
         },
         "mode": "lines",
         "type": "scatter",
         "x": [
          8065,
          8065,
          8080,
          8080
         ],
         "xaxis": "x",
         "y": [
          0,
          6.537362671828787,
          6.537362671828787,
          5.708551875190707
         ],
         "yaxis": "y"
        },
        {
         "hoverinfo": "text",
         "marker": {
          "color": "rgb(35,205,205)"
         },
         "mode": "lines",
         "type": "scatter",
         "x": [
          8105,
          8105,
          8115,
          8115
         ],
         "xaxis": "x",
         "y": [
          0,
          5.943771471080625,
          5.943771471080625,
          0
         ],
         "yaxis": "y"
        },
        {
         "hoverinfo": "text",
         "marker": {
          "color": "rgb(35,205,205)"
         },
         "mode": "lines",
         "type": "scatter",
         "x": [
          8095,
          8095,
          8110,
          8110
         ],
         "xaxis": "x",
         "y": [
          0,
          6.2186578454617845,
          6.2186578454617845,
          5.943771471080625
         ],
         "yaxis": "y"
        },
        {
         "hoverinfo": "text",
         "marker": {
          "color": "rgb(35,205,205)"
         },
         "mode": "lines",
         "type": "scatter",
         "x": [
          8125,
          8125,
          8135,
          8135
         ],
         "xaxis": "x",
         "y": [
          0,
          5.810721331005177,
          5.810721331005177,
          0
         ],
         "yaxis": "y"
        },
        {
         "hoverinfo": "text",
         "marker": {
          "color": "rgb(35,205,205)"
         },
         "mode": "lines",
         "type": "scatter",
         "x": [
          8145,
          8145,
          8155,
          8155
         ],
         "xaxis": "x",
         "y": [
          0,
          5.860337089713703,
          5.860337089713703,
          0
         ],
         "yaxis": "y"
        },
        {
         "hoverinfo": "text",
         "marker": {
          "color": "rgb(35,205,205)"
         },
         "mode": "lines",
         "type": "scatter",
         "x": [
          8130,
          8130,
          8150,
          8150
         ],
         "xaxis": "x",
         "y": [
          5.810721331005177,
          6.8553698664674725,
          6.8553698664674725,
          5.860337089713703
         ],
         "yaxis": "y"
        },
        {
         "hoverinfo": "text",
         "marker": {
          "color": "rgb(35,205,205)"
         },
         "mode": "lines",
         "type": "scatter",
         "x": [
          8102.5,
          8102.5,
          8140,
          8140
         ],
         "xaxis": "x",
         "y": [
          6.2186578454617845,
          7.090283699107533,
          7.090283699107533,
          6.8553698664674725
         ],
         "yaxis": "y"
        },
        {
         "hoverinfo": "text",
         "marker": {
          "color": "rgb(35,205,205)"
         },
         "mode": "lines",
         "type": "scatter",
         "x": [
          8072.5,
          8072.5,
          8121.25,
          8121.25
         ],
         "xaxis": "x",
         "y": [
          6.537362671828787,
          7.27714839853818,
          7.27714839853818,
          7.090283699107533
         ],
         "yaxis": "y"
        },
        {
         "hoverinfo": "text",
         "marker": {
          "color": "rgb(35,205,205)"
         },
         "mode": "lines",
         "type": "scatter",
         "x": [
          8027.5,
          8027.5,
          8096.875,
          8096.875
         ],
         "xaxis": "x",
         "y": [
          7.267015067745313,
          7.633411016780099,
          7.633411016780099,
          7.27714839853818
         ],
         "yaxis": "y"
        },
        {
         "hoverinfo": "text",
         "marker": {
          "color": "rgb(35,205,205)"
         },
         "mode": "lines",
         "type": "scatter",
         "x": [
          7951.25,
          7951.25,
          8062.1875,
          8062.1875
         ],
         "xaxis": "x",
         "y": [
          7.500109364248211,
          7.930296197807583,
          7.930296197807583,
          7.633411016780099
         ],
         "yaxis": "y"
        },
        {
         "hoverinfo": "text",
         "marker": {
          "color": "rgb(35,205,205)"
         },
         "mode": "lines",
         "type": "scatter",
         "x": [
          7821.875,
          7821.875,
          8006.71875,
          8006.71875
         ],
         "xaxis": "x",
         "y": [
          7.681075721897225,
          8.189636122231493,
          8.189636122231493,
          7.930296197807583
         ],
         "yaxis": "y"
        },
        {
         "hoverinfo": "text",
         "marker": {
          "color": "rgb(35,205,205)"
         },
         "mode": "lines",
         "type": "scatter",
         "x": [
          7694.375,
          7694.375,
          7914.296875,
          7914.296875
         ],
         "xaxis": "x",
         "y": [
          7.856609664752916,
          8.594292979044159,
          8.594292979044159,
          8.189636122231493
         ],
         "yaxis": "y"
        },
        {
         "hoverinfo": "text",
         "marker": {
          "color": "rgb(35,205,205)"
         },
         "mode": "lines",
         "type": "scatter",
         "x": [
          6662.890625,
          6662.890625,
          7804.3359375,
          7804.3359375
         ],
         "xaxis": "x",
         "y": [
          8.506806211658384,
          8.73267722443393,
          8.73267722443393,
          8.594292979044159
         ],
         "yaxis": "y"
        },
        {
         "hoverinfo": "text",
         "marker": {
          "color": "rgb(35,205,205)"
         },
         "mode": "lines",
         "type": "scatter",
         "x": [
          5910.3125,
          5910.3125,
          7233.61328125,
          7233.61328125
         ],
         "xaxis": "x",
         "y": [
          8.245851939440657,
          8.906723717322565,
          8.906723717322565,
          8.73267722443393
         ],
         "yaxis": "y"
        },
        {
         "hoverinfo": "text",
         "marker": {
          "color": "rgb(35,205,205)"
         },
         "mode": "lines",
         "type": "scatter",
         "x": [
          5769.53125,
          5769.53125,
          6571.962890625,
          6571.962890625
         ],
         "xaxis": "x",
         "y": [
          8.541499498139661,
          9.016287227984474,
          9.016287227984474,
          8.906723717322565
         ],
         "yaxis": "y"
        },
        {
         "hoverinfo": "text",
         "marker": {
          "color": "rgb(0,116,217)"
         },
         "mode": "lines",
         "type": "scatter",
         "x": [
          5460.625,
          5460.625,
          6170.7470703125,
          6170.7470703125
         ],
         "xaxis": "x",
         "y": [
          8.594016899386473,
          9.149872794126924,
          9.149872794126924,
          9.016287227984474
         ],
         "yaxis": "y"
        },
        {
         "hoverinfo": "text",
         "marker": {
          "color": "rgb(0,116,217)"
         },
         "mode": "lines",
         "type": "scatter",
         "x": [
          5124.0234375,
          5124.0234375,
          5815.68603515625,
          5815.68603515625
         ],
         "xaxis": "x",
         "y": [
          9.03552028542915,
          9.472208779754093,
          9.472208779754093,
          9.149872794126924
         ],
         "yaxis": "y"
        },
        {
         "hoverinfo": "text",
         "marker": {
          "color": "rgb(133,20,75)"
         },
         "mode": "lines",
         "type": "scatter",
         "x": [
          8185,
          8185,
          8195,
          8195
         ],
         "xaxis": "x",
         "y": [
          0,
          5.409247446842824,
          5.409247446842824,
          0
         ],
         "yaxis": "y"
        },
        {
         "hoverinfo": "text",
         "marker": {
          "color": "rgb(133,20,75)"
         },
         "mode": "lines",
         "type": "scatter",
         "x": [
          8175,
          8175,
          8190,
          8190
         ],
         "xaxis": "x",
         "y": [
          0,
          5.831900100819555,
          5.831900100819555,
          5.409247446842824
         ],
         "yaxis": "y"
        },
        {
         "hoverinfo": "text",
         "marker": {
          "color": "rgb(133,20,75)"
         },
         "mode": "lines",
         "type": "scatter",
         "x": [
          8165,
          8165,
          8182.5,
          8182.5
         ],
         "xaxis": "x",
         "y": [
          0,
          6.400961255531266,
          6.400961255531266,
          5.831900100819555
         ],
         "yaxis": "y"
        },
        {
         "hoverinfo": "text",
         "marker": {
          "color": "rgb(133,20,75)"
         },
         "mode": "lines",
         "type": "scatter",
         "x": [
          8215,
          8215,
          8225,
          8225
         ],
         "xaxis": "x",
         "y": [
          0,
          6.28826772518367,
          6.28826772518367,
          0
         ],
         "yaxis": "y"
        },
        {
         "hoverinfo": "text",
         "marker": {
          "color": "rgb(133,20,75)"
         },
         "mode": "lines",
         "type": "scatter",
         "x": [
          8205,
          8205,
          8220,
          8220
         ],
         "xaxis": "x",
         "y": [
          0,
          6.971283503173666,
          6.971283503173666,
          6.28826772518367
         ],
         "yaxis": "y"
        },
        {
         "hoverinfo": "text",
         "marker": {
          "color": "rgb(133,20,75)"
         },
         "mode": "lines",
         "type": "scatter",
         "x": [
          8173.75,
          8173.75,
          8212.5,
          8212.5
         ],
         "xaxis": "x",
         "y": [
          6.400961255531266,
          7.6647760540216465,
          7.6647760540216465,
          6.971283503173666
         ],
         "yaxis": "y"
        },
        {
         "hoverinfo": "text",
         "marker": {
          "color": "rgb(133,20,75)"
         },
         "mode": "lines",
         "type": "scatter",
         "x": [
          8255,
          8255,
          8265,
          8265
         ],
         "xaxis": "x",
         "y": [
          0,
          6.1338611263542955,
          6.1338611263542955,
          0
         ],
         "yaxis": "y"
        },
        {
         "hoverinfo": "text",
         "marker": {
          "color": "rgb(133,20,75)"
         },
         "mode": "lines",
         "type": "scatter",
         "x": [
          8245,
          8245,
          8260,
          8260
         ],
         "xaxis": "x",
         "y": [
          0,
          6.412324041646539,
          6.412324041646539,
          6.1338611263542955
         ],
         "yaxis": "y"
        },
        {
         "hoverinfo": "text",
         "marker": {
          "color": "rgb(133,20,75)"
         },
         "mode": "lines",
         "type": "scatter",
         "x": [
          8295,
          8295,
          8305,
          8305
         ],
         "xaxis": "x",
         "y": [
          0,
          5.761579342701073,
          5.761579342701073,
          0
         ],
         "yaxis": "y"
        },
        {
         "hoverinfo": "text",
         "marker": {
          "color": "rgb(133,20,75)"
         },
         "mode": "lines",
         "type": "scatter",
         "x": [
          8285,
          8285,
          8300,
          8300
         ],
         "xaxis": "x",
         "y": [
          0,
          6.82438168708104,
          6.82438168708104,
          5.761579342701073
         ],
         "yaxis": "y"
        },
        {
         "hoverinfo": "text",
         "marker": {
          "color": "rgb(133,20,75)"
         },
         "mode": "lines",
         "type": "scatter",
         "x": [
          8275,
          8275,
          8292.5,
          8292.5
         ],
         "xaxis": "x",
         "y": [
          0,
          7.397249582977823,
          7.397249582977823,
          6.82438168708104
         ],
         "yaxis": "y"
        },
        {
         "hoverinfo": "text",
         "marker": {
          "color": "rgb(133,20,75)"
         },
         "mode": "lines",
         "type": "scatter",
         "x": [
          8252.5,
          8252.5,
          8283.75,
          8283.75
         ],
         "xaxis": "x",
         "y": [
          6.412324041646539,
          7.715924042003229,
          7.715924042003229,
          7.397249582977823
         ],
         "yaxis": "y"
        },
        {
         "hoverinfo": "text",
         "marker": {
          "color": "rgb(133,20,75)"
         },
         "mode": "lines",
         "type": "scatter",
         "x": [
          8235,
          8235,
          8268.125,
          8268.125
         ],
         "xaxis": "x",
         "y": [
          0,
          8.062999136636584,
          8.062999136636584,
          7.715924042003229
         ],
         "yaxis": "y"
        },
        {
         "hoverinfo": "text",
         "marker": {
          "color": "rgb(133,20,75)"
         },
         "mode": "lines",
         "type": "scatter",
         "x": [
          8193.125,
          8193.125,
          8251.5625,
          8251.5625
         ],
         "xaxis": "x",
         "y": [
          7.6647760540216465,
          8.523082785152882,
          8.523082785152882,
          8.062999136636584
         ],
         "yaxis": "y"
        },
        {
         "hoverinfo": "text",
         "marker": {
          "color": "rgb(133,20,75)"
         },
         "mode": "lines",
         "type": "scatter",
         "x": [
          8315,
          8315,
          8325,
          8325
         ],
         "xaxis": "x",
         "y": [
          0,
          6.490353844259309,
          6.490353844259309,
          0
         ],
         "yaxis": "y"
        },
        {
         "hoverinfo": "text",
         "marker": {
          "color": "rgb(133,20,75)"
         },
         "mode": "lines",
         "type": "scatter",
         "x": [
          8345,
          8345,
          8355,
          8355
         ],
         "xaxis": "x",
         "y": [
          0,
          6.476432331309661,
          6.476432331309661,
          0
         ],
         "yaxis": "y"
        },
        {
         "hoverinfo": "text",
         "marker": {
          "color": "rgb(133,20,75)"
         },
         "mode": "lines",
         "type": "scatter",
         "x": [
          8335,
          8335,
          8350,
          8350
         ],
         "xaxis": "x",
         "y": [
          0,
          7.035843225874082,
          7.035843225874082,
          6.476432331309661
         ],
         "yaxis": "y"
        },
        {
         "hoverinfo": "text",
         "marker": {
          "color": "rgb(133,20,75)"
         },
         "mode": "lines",
         "type": "scatter",
         "x": [
          8320,
          8320,
          8342.5,
          8342.5
         ],
         "xaxis": "x",
         "y": [
          6.490353844259309,
          7.192015952146437,
          7.192015952146437,
          7.035843225874082
         ],
         "yaxis": "y"
        },
        {
         "hoverinfo": "text",
         "marker": {
          "color": "rgb(133,20,75)"
         },
         "mode": "lines",
         "type": "scatter",
         "x": [
          8365,
          8365,
          8375,
          8375
         ],
         "xaxis": "x",
         "y": [
          0,
          6.099483016737328,
          6.099483016737328,
          0
         ],
         "yaxis": "y"
        },
        {
         "hoverinfo": "text",
         "marker": {
          "color": "rgb(133,20,75)"
         },
         "mode": "lines",
         "type": "scatter",
         "x": [
          8395,
          8395,
          8405,
          8405
         ],
         "xaxis": "x",
         "y": [
          0,
          5.546378984310182,
          5.546378984310182,
          0
         ],
         "yaxis": "y"
        },
        {
         "hoverinfo": "text",
         "marker": {
          "color": "rgb(133,20,75)"
         },
         "mode": "lines",
         "type": "scatter",
         "x": [
          8385,
          8385,
          8400,
          8400
         ],
         "xaxis": "x",
         "y": [
          0,
          7.192191913329244,
          7.192191913329244,
          5.546378984310182
         ],
         "yaxis": "y"
        },
        {
         "hoverinfo": "text",
         "marker": {
          "color": "rgb(133,20,75)"
         },
         "mode": "lines",
         "type": "scatter",
         "x": [
          8370,
          8370,
          8392.5,
          8392.5
         ],
         "xaxis": "x",
         "y": [
          6.099483016737328,
          7.465431449653904,
          7.465431449653904,
          7.192191913329244
         ],
         "yaxis": "y"
        },
        {
         "hoverinfo": "text",
         "marker": {
          "color": "rgb(133,20,75)"
         },
         "mode": "lines",
         "type": "scatter",
         "x": [
          8331.25,
          8331.25,
          8381.25,
          8381.25
         ],
         "xaxis": "x",
         "y": [
          7.192015952146437,
          7.9124300443366575,
          7.9124300443366575,
          7.465431449653904
         ],
         "yaxis": "y"
        },
        {
         "hoverinfo": "text",
         "marker": {
          "color": "rgb(133,20,75)"
         },
         "mode": "lines",
         "type": "scatter",
         "x": [
          8425,
          8425,
          8435,
          8435
         ],
         "xaxis": "x",
         "y": [
          0,
          6.9183432219803525,
          6.9183432219803525,
          0
         ],
         "yaxis": "y"
        },
        {
         "hoverinfo": "text",
         "marker": {
          "color": "rgb(133,20,75)"
         },
         "mode": "lines",
         "type": "scatter",
         "x": [
          8415,
          8415,
          8430,
          8430
         ],
         "xaxis": "x",
         "y": [
          0,
          7.577211015232112,
          7.577211015232112,
          6.9183432219803525
         ],
         "yaxis": "y"
        },
        {
         "hoverinfo": "text",
         "marker": {
          "color": "rgb(133,20,75)"
         },
         "mode": "lines",
         "type": "scatter",
         "x": [
          8455,
          8455,
          8465,
          8465
         ],
         "xaxis": "x",
         "y": [
          0,
          6.9640016959301185,
          6.9640016959301185,
          0
         ],
         "yaxis": "y"
        },
        {
         "hoverinfo": "text",
         "marker": {
          "color": "rgb(133,20,75)"
         },
         "mode": "lines",
         "type": "scatter",
         "x": [
          8445,
          8445,
          8460,
          8460
         ],
         "xaxis": "x",
         "y": [
          0,
          7.752961364892861,
          7.752961364892861,
          6.9640016959301185
         ],
         "yaxis": "y"
        },
        {
         "hoverinfo": "text",
         "marker": {
          "color": "rgb(133,20,75)"
         },
         "mode": "lines",
         "type": "scatter",
         "x": [
          8422.5,
          8422.5,
          8452.5,
          8452.5
         ],
         "xaxis": "x",
         "y": [
          7.577211015232112,
          8.124461108044063,
          8.124461108044063,
          7.752961364892861
         ],
         "yaxis": "y"
        },
        {
         "hoverinfo": "text",
         "marker": {
          "color": "rgb(133,20,75)"
         },
         "mode": "lines",
         "type": "scatter",
         "x": [
          8356.25,
          8356.25,
          8437.5,
          8437.5
         ],
         "xaxis": "x",
         "y": [
          7.9124300443366575,
          8.548213778636816,
          8.548213778636816,
          8.124461108044063
         ],
         "yaxis": "y"
        },
        {
         "hoverinfo": "text",
         "marker": {
          "color": "rgb(133,20,75)"
         },
         "mode": "lines",
         "type": "scatter",
         "x": [
          8495,
          8495,
          8505,
          8505
         ],
         "xaxis": "x",
         "y": [
          0,
          4.916841189401588,
          4.916841189401588,
          0
         ],
         "yaxis": "y"
        },
        {
         "hoverinfo": "text",
         "marker": {
          "color": "rgb(133,20,75)"
         },
         "mode": "lines",
         "type": "scatter",
         "x": [
          8485,
          8485,
          8500,
          8500
         ],
         "xaxis": "x",
         "y": [
          0,
          6.641033571059765,
          6.641033571059765,
          4.916841189401588
         ],
         "yaxis": "y"
        },
        {
         "hoverinfo": "text",
         "marker": {
          "color": "rgb(133,20,75)"
         },
         "mode": "lines",
         "type": "scatter",
         "x": [
          8475,
          8475,
          8492.5,
          8492.5
         ],
         "xaxis": "x",
         "y": [
          0,
          6.9492399124317386,
          6.9492399124317386,
          6.641033571059765
         ],
         "yaxis": "y"
        },
        {
         "hoverinfo": "text",
         "marker": {
          "color": "rgb(133,20,75)"
         },
         "mode": "lines",
         "type": "scatter",
         "x": [
          8535,
          8535,
          8545,
          8545
         ],
         "xaxis": "x",
         "y": [
          0,
          5.758696902169428,
          5.758696902169428,
          0
         ],
         "yaxis": "y"
        },
        {
         "hoverinfo": "text",
         "marker": {
          "color": "rgb(133,20,75)"
         },
         "mode": "lines",
         "type": "scatter",
         "x": [
          8525,
          8525,
          8540,
          8540
         ],
         "xaxis": "x",
         "y": [
          0,
          6.19192244980058,
          6.19192244980058,
          5.758696902169428
         ],
         "yaxis": "y"
        },
        {
         "hoverinfo": "text",
         "marker": {
          "color": "rgb(133,20,75)"
         },
         "mode": "lines",
         "type": "scatter",
         "x": [
          8555,
          8555,
          8565,
          8565
         ],
         "xaxis": "x",
         "y": [
          0,
          5.402274637766626,
          5.402274637766626,
          0
         ],
         "yaxis": "y"
        },
        {
         "hoverinfo": "text",
         "marker": {
          "color": "rgb(133,20,75)"
         },
         "mode": "lines",
         "type": "scatter",
         "x": [
          8575,
          8575,
          8585,
          8585
         ],
         "xaxis": "x",
         "y": [
          0,
          6.2972012227699485,
          6.2972012227699485,
          0
         ],
         "yaxis": "y"
        },
        {
         "hoverinfo": "text",
         "marker": {
          "color": "rgb(133,20,75)"
         },
         "mode": "lines",
         "type": "scatter",
         "x": [
          8560,
          8560,
          8580,
          8580
         ],
         "xaxis": "x",
         "y": [
          5.402274637766626,
          6.616694850039632,
          6.616694850039632,
          6.2972012227699485
         ],
         "yaxis": "y"
        },
        {
         "hoverinfo": "text",
         "marker": {
          "color": "rgb(133,20,75)"
         },
         "mode": "lines",
         "type": "scatter",
         "x": [
          8532.5,
          8532.5,
          8570,
          8570
         ],
         "xaxis": "x",
         "y": [
          6.19192244980058,
          7.3841585726983165,
          7.3841585726983165,
          6.616694850039632
         ],
         "yaxis": "y"
        },
        {
         "hoverinfo": "text",
         "marker": {
          "color": "rgb(133,20,75)"
         },
         "mode": "lines",
         "type": "scatter",
         "x": [
          8515,
          8515,
          8551.25,
          8551.25
         ],
         "xaxis": "x",
         "y": [
          0,
          8.214801746864309,
          8.214801746864309,
          7.3841585726983165
         ],
         "yaxis": "y"
        },
        {
         "hoverinfo": "text",
         "marker": {
          "color": "rgb(133,20,75)"
         },
         "mode": "lines",
         "type": "scatter",
         "x": [
          8483.75,
          8483.75,
          8533.125,
          8533.125
         ],
         "xaxis": "x",
         "y": [
          6.9492399124317386,
          8.61710335207218,
          8.61710335207218,
          8.214801746864309
         ],
         "yaxis": "y"
        },
        {
         "hoverinfo": "text",
         "marker": {
          "color": "rgb(133,20,75)"
         },
         "mode": "lines",
         "type": "scatter",
         "x": [
          8396.875,
          8396.875,
          8508.4375,
          8508.4375
         ],
         "xaxis": "x",
         "y": [
          8.548213778636816,
          8.806446823052243,
          8.806446823052243,
          8.61710335207218
         ],
         "yaxis": "y"
        },
        {
         "hoverinfo": "text",
         "marker": {
          "color": "rgb(133,20,75)"
         },
         "mode": "lines",
         "type": "scatter",
         "x": [
          8222.34375,
          8222.34375,
          8452.65625,
          8452.65625
         ],
         "xaxis": "x",
         "y": [
          8.523082785152882,
          8.902851243094473,
          8.902851243094473,
          8.806446823052243
         ],
         "yaxis": "y"
        },
        {
         "hoverinfo": "text",
         "marker": {
          "color": "rgb(255,220,0)"
         },
         "mode": "lines",
         "type": "scatter",
         "x": [
          8615,
          8615,
          8625,
          8625
         ],
         "xaxis": "x",
         "y": [
          0,
          6.2010186922329815,
          6.2010186922329815,
          0
         ],
         "yaxis": "y"
        },
        {
         "hoverinfo": "text",
         "marker": {
          "color": "rgb(255,220,0)"
         },
         "mode": "lines",
         "type": "scatter",
         "x": [
          8605,
          8605,
          8620,
          8620
         ],
         "xaxis": "x",
         "y": [
          0,
          7.3343918359452465,
          7.3343918359452465,
          6.2010186922329815
         ],
         "yaxis": "y"
        },
        {
         "hoverinfo": "text",
         "marker": {
          "color": "rgb(255,220,0)"
         },
         "mode": "lines",
         "type": "scatter",
         "x": [
          8595,
          8595,
          8612.5,
          8612.5
         ],
         "xaxis": "x",
         "y": [
          0,
          7.912032557530762,
          7.912032557530762,
          7.3343918359452465
         ],
         "yaxis": "y"
        },
        {
         "hoverinfo": "text",
         "marker": {
          "color": "rgb(40,35,35)"
         },
         "mode": "lines",
         "type": "scatter",
         "x": [
          8645,
          8645,
          8655,
          8655
         ],
         "xaxis": "x",
         "y": [
          0,
          5.360049722242021,
          5.360049722242021,
          0
         ],
         "yaxis": "y"
        },
        {
         "hoverinfo": "text",
         "marker": {
          "color": "rgb(40,35,35)"
         },
         "mode": "lines",
         "type": "scatter",
         "x": [
          8635,
          8635,
          8650,
          8650
         ],
         "xaxis": "x",
         "y": [
          0,
          6.507170378306046,
          6.507170378306046,
          5.360049722242021
         ],
         "yaxis": "y"
        },
        {
         "hoverinfo": "text",
         "marker": {
          "color": "rgb(40,35,35)"
         },
         "mode": "lines",
         "type": "scatter",
         "x": [
          8665,
          8665,
          8675,
          8675
         ],
         "xaxis": "x",
         "y": [
          0,
          6.759330218490188,
          6.759330218490188,
          0
         ],
         "yaxis": "y"
        },
        {
         "hoverinfo": "text",
         "marker": {
          "color": "rgb(40,35,35)"
         },
         "mode": "lines",
         "type": "scatter",
         "x": [
          8642.5,
          8642.5,
          8670,
          8670
         ],
         "xaxis": "x",
         "y": [
          6.507170378306046,
          7.4802268904052225,
          7.4802268904052225,
          6.759330218490188
         ],
         "yaxis": "y"
        },
        {
         "hoverinfo": "text",
         "marker": {
          "color": "rgb(40,35,35)"
         },
         "mode": "lines",
         "type": "scatter",
         "x": [
          8695,
          8695,
          8705,
          8705
         ],
         "xaxis": "x",
         "y": [
          0,
          6.315232284770091,
          6.315232284770091,
          0
         ],
         "yaxis": "y"
        },
        {
         "hoverinfo": "text",
         "marker": {
          "color": "rgb(40,35,35)"
         },
         "mode": "lines",
         "type": "scatter",
         "x": [
          8685,
          8685,
          8700,
          8700
         ],
         "xaxis": "x",
         "y": [
          0,
          7.584583508726081,
          7.584583508726081,
          6.315232284770091
         ],
         "yaxis": "y"
        },
        {
         "hoverinfo": "text",
         "marker": {
          "color": "rgb(40,35,35)"
         },
         "mode": "lines",
         "type": "scatter",
         "x": [
          8656.25,
          8656.25,
          8692.5,
          8692.5
         ],
         "xaxis": "x",
         "y": [
          7.4802268904052225,
          7.9385299292563865,
          7.9385299292563865,
          7.584583508726081
         ],
         "yaxis": "y"
        },
        {
         "hoverinfo": "text",
         "marker": {
          "color": "rgb(40,35,35)"
         },
         "mode": "lines",
         "type": "scatter",
         "x": [
          8715,
          8715,
          8725,
          8725
         ],
         "xaxis": "x",
         "y": [
          0,
          6.4395119264501,
          6.4395119264501,
          0
         ],
         "yaxis": "y"
        },
        {
         "hoverinfo": "text",
         "marker": {
          "color": "rgb(40,35,35)"
         },
         "mode": "lines",
         "type": "scatter",
         "x": [
          8735,
          8735,
          8745,
          8745
         ],
         "xaxis": "x",
         "y": [
          0,
          6.474922641113587,
          6.474922641113587,
          0
         ],
         "yaxis": "y"
        },
        {
         "hoverinfo": "text",
         "marker": {
          "color": "rgb(40,35,35)"
         },
         "mode": "lines",
         "type": "scatter",
         "x": [
          8720,
          8720,
          8740,
          8740
         ],
         "xaxis": "x",
         "y": [
          6.4395119264501,
          7.529903551655726,
          7.529903551655726,
          6.474922641113587
         ],
         "yaxis": "y"
        },
        {
         "hoverinfo": "text",
         "marker": {
          "color": "rgb(40,35,35)"
         },
         "mode": "lines",
         "type": "scatter",
         "x": [
          8765,
          8765,
          8775,
          8775
         ],
         "xaxis": "x",
         "y": [
          0,
          6.033958069256858,
          6.033958069256858,
          0
         ],
         "yaxis": "y"
        },
        {
         "hoverinfo": "text",
         "marker": {
          "color": "rgb(40,35,35)"
         },
         "mode": "lines",
         "type": "scatter",
         "x": [
          8795,
          8795,
          8805,
          8805
         ],
         "xaxis": "x",
         "y": [
          0,
          5.474723030854747,
          5.474723030854747,
          0
         ],
         "yaxis": "y"
        },
        {
         "hoverinfo": "text",
         "marker": {
          "color": "rgb(40,35,35)"
         },
         "mode": "lines",
         "type": "scatter",
         "x": [
          8785,
          8785,
          8800,
          8800
         ],
         "xaxis": "x",
         "y": [
          0,
          6.362827076979713,
          6.362827076979713,
          5.474723030854747
         ],
         "yaxis": "y"
        },
        {
         "hoverinfo": "text",
         "marker": {
          "color": "rgb(40,35,35)"
         },
         "mode": "lines",
         "type": "scatter",
         "x": [
          8770,
          8770,
          8792.5,
          8792.5
         ],
         "xaxis": "x",
         "y": [
          6.033958069256858,
          7.282949244571512,
          7.282949244571512,
          6.362827076979713
         ],
         "yaxis": "y"
        },
        {
         "hoverinfo": "text",
         "marker": {
          "color": "rgb(40,35,35)"
         },
         "mode": "lines",
         "type": "scatter",
         "x": [
          8755,
          8755,
          8781.25,
          8781.25
         ],
         "xaxis": "x",
         "y": [
          0,
          7.772365232593604,
          7.772365232593604,
          7.282949244571512
         ],
         "yaxis": "y"
        },
        {
         "hoverinfo": "text",
         "marker": {
          "color": "rgb(40,35,35)"
         },
         "mode": "lines",
         "type": "scatter",
         "x": [
          8730,
          8730,
          8768.125,
          8768.125
         ],
         "xaxis": "x",
         "y": [
          7.529903551655726,
          8.064695335350264,
          8.064695335350264,
          7.772365232593604
         ],
         "yaxis": "y"
        },
        {
         "hoverinfo": "text",
         "marker": {
          "color": "rgb(40,35,35)"
         },
         "mode": "lines",
         "type": "scatter",
         "x": [
          8835,
          8835,
          8845,
          8845
         ],
         "xaxis": "x",
         "y": [
          0,
          6.09135710122925,
          6.09135710122925,
          0
         ],
         "yaxis": "y"
        },
        {
         "hoverinfo": "text",
         "marker": {
          "color": "rgb(40,35,35)"
         },
         "mode": "lines",
         "type": "scatter",
         "x": [
          8825,
          8825,
          8840,
          8840
         ],
         "xaxis": "x",
         "y": [
          0,
          6.503699755533829,
          6.503699755533829,
          6.09135710122925
         ],
         "yaxis": "y"
        },
        {
         "hoverinfo": "text",
         "marker": {
          "color": "rgb(40,35,35)"
         },
         "mode": "lines",
         "type": "scatter",
         "x": [
          8815,
          8815,
          8832.5,
          8832.5
         ],
         "xaxis": "x",
         "y": [
          0,
          7.196849340043594,
          7.196849340043594,
          6.503699755533829
         ],
         "yaxis": "y"
        },
        {
         "hoverinfo": "text",
         "marker": {
          "color": "rgb(40,35,35)"
         },
         "mode": "lines",
         "type": "scatter",
         "x": [
          8855,
          8855,
          8865,
          8865
         ],
         "xaxis": "x",
         "y": [
          0,
          7.031658123161887,
          7.031658123161887,
          0
         ],
         "yaxis": "y"
        },
        {
         "hoverinfo": "text",
         "marker": {
          "color": "rgb(40,35,35)"
         },
         "mode": "lines",
         "type": "scatter",
         "x": [
          8875,
          8875,
          8885,
          8885
         ],
         "xaxis": "x",
         "y": [
          0,
          7.380868533073875,
          7.380868533073875,
          0
         ],
         "yaxis": "y"
        },
        {
         "hoverinfo": "text",
         "marker": {
          "color": "rgb(40,35,35)"
         },
         "mode": "lines",
         "type": "scatter",
         "x": [
          8860,
          8860,
          8880,
          8880
         ],
         "xaxis": "x",
         "y": [
          7.031658123161887,
          7.818298055281803,
          7.818298055281803,
          7.380868533073875
         ],
         "yaxis": "y"
        },
        {
         "hoverinfo": "text",
         "marker": {
          "color": "rgb(40,35,35)"
         },
         "mode": "lines",
         "type": "scatter",
         "x": [
          8823.75,
          8823.75,
          8870,
          8870
         ],
         "xaxis": "x",
         "y": [
          7.196849340043594,
          8.136863333690115,
          8.136863333690115,
          7.818298055281803
         ],
         "yaxis": "y"
        },
        {
         "hoverinfo": "text",
         "marker": {
          "color": "rgb(40,35,35)"
         },
         "mode": "lines",
         "type": "scatter",
         "x": [
          8749.0625,
          8749.0625,
          8846.875,
          8846.875
         ],
         "xaxis": "x",
         "y": [
          8.064695335350264,
          8.464492748197783,
          8.464492748197783,
          8.136863333690115
         ],
         "yaxis": "y"
        },
        {
         "hoverinfo": "text",
         "marker": {
          "color": "rgb(40,35,35)"
         },
         "mode": "lines",
         "type": "scatter",
         "x": [
          8674.375,
          8674.375,
          8797.96875,
          8797.96875
         ],
         "xaxis": "x",
         "y": [
          7.9385299292563865,
          8.707378146714126,
          8.707378146714126,
          8.464492748197783
         ],
         "yaxis": "y"
        },
        {
         "hoverinfo": "text",
         "marker": {
          "color": "rgb(0,116,217)"
         },
         "mode": "lines",
         "type": "scatter",
         "x": [
          8603.75,
          8603.75,
          8736.171875,
          8736.171875
         ],
         "xaxis": "x",
         "y": [
          7.912032557530762,
          9.150770210804879,
          9.150770210804879,
          8.707378146714126
         ],
         "yaxis": "y"
        },
        {
         "hoverinfo": "text",
         "marker": {
          "color": "rgb(0,116,217)"
         },
         "mode": "lines",
         "type": "scatter",
         "x": [
          8337.5,
          8337.5,
          8669.9609375,
          8669.9609375
         ],
         "xaxis": "x",
         "y": [
          8.902851243094473,
          9.567299794794334,
          9.567299794794334,
          9.150770210804879
         ],
         "yaxis": "y"
        },
        {
         "hoverinfo": "text",
         "marker": {
          "color": "rgb(0,116,217)"
         },
         "mode": "lines",
         "type": "scatter",
         "x": [
          5469.854736328125,
          5469.854736328125,
          8503.73046875,
          8503.73046875
         ],
         "xaxis": "x",
         "y": [
          9.472208779754093,
          9.66369762230781,
          9.66369762230781,
          9.567299794794334
         ],
         "yaxis": "y"
        },
        {
         "hoverinfo": "text",
         "marker": {
          "color": "rgb(0,116,217)"
         },
         "mode": "lines",
         "type": "scatter",
         "x": [
          4330.48828125,
          4330.48828125,
          6986.7926025390625,
          6986.7926025390625
         ],
         "xaxis": "x",
         "y": [
          9.27570995999955,
          9.723583280115463,
          9.723583280115463,
          9.66369762230781
         ],
         "yaxis": "y"
        },
        {
         "hoverinfo": "text",
         "marker": {
          "color": "rgb(0,116,217)"
         },
         "mode": "lines",
         "type": "scatter",
         "x": [
          3065.009765625,
          3065.009765625,
          5658.640441894531,
          5658.640441894531
         ],
         "xaxis": "x",
         "y": [
          9.46190162467866,
          9.945491350519376,
          9.945491350519376,
          9.723583280115463
         ],
         "yaxis": "y"
        },
        {
         "hoverinfo": "text",
         "marker": {
          "color": "rgb(0,116,217)"
         },
         "mode": "lines",
         "type": "scatter",
         "x": [
          2637.34375,
          2637.34375,
          4361.825103759766,
          4361.825103759766
         ],
         "xaxis": "x",
         "y": [
          9.881065582714392,
          10.758747424336727,
          10.758747424336727,
          9.945491350519376
         ],
         "yaxis": "y"
        },
        {
         "hoverinfo": "text",
         "marker": {
          "color": "rgb(0,116,217)"
         },
         "mode": "lines",
         "type": "scatter",
         "x": [
          8895,
          8895,
          8905,
          8905
         ],
         "xaxis": "x",
         "y": [
          0,
          9.688798571171173,
          9.688798571171173,
          0
         ],
         "yaxis": "y"
        },
        {
         "hoverinfo": "text",
         "marker": {
          "color": "rgb(61,153,112)"
         },
         "mode": "lines",
         "type": "scatter",
         "x": [
          8935,
          8935,
          8945,
          8945
         ],
         "xaxis": "x",
         "y": [
          0,
          6.495079087910023,
          6.495079087910023,
          0
         ],
         "yaxis": "y"
        },
        {
         "hoverinfo": "text",
         "marker": {
          "color": "rgb(61,153,112)"
         },
         "mode": "lines",
         "type": "scatter",
         "x": [
          8925,
          8925,
          8940,
          8940
         ],
         "xaxis": "x",
         "y": [
          0,
          7.315592974612268,
          7.315592974612268,
          6.495079087910023
         ],
         "yaxis": "y"
        },
        {
         "hoverinfo": "text",
         "marker": {
          "color": "rgb(61,153,112)"
         },
         "mode": "lines",
         "type": "scatter",
         "x": [
          8915,
          8915,
          8932.5,
          8932.5
         ],
         "xaxis": "x",
         "y": [
          0,
          8.096601365339449,
          8.096601365339449,
          7.315592974612268
         ],
         "yaxis": "y"
        },
        {
         "hoverinfo": "text",
         "marker": {
          "color": "rgb(61,153,112)"
         },
         "mode": "lines",
         "type": "scatter",
         "x": [
          8965,
          8965,
          8975,
          8975
         ],
         "xaxis": "x",
         "y": [
          0,
          4.923080051977595,
          4.923080051977595,
          0
         ],
         "yaxis": "y"
        },
        {
         "hoverinfo": "text",
         "marker": {
          "color": "rgb(61,153,112)"
         },
         "mode": "lines",
         "type": "scatter",
         "x": [
          8955,
          8955,
          8970,
          8970
         ],
         "xaxis": "x",
         "y": [
          0,
          6.057021717828328,
          6.057021717828328,
          4.923080051977595
         ],
         "yaxis": "y"
        },
        {
         "hoverinfo": "text",
         "marker": {
          "color": "rgb(61,153,112)"
         },
         "mode": "lines",
         "type": "scatter",
         "x": [
          8995,
          8995,
          9005,
          9005
         ],
         "xaxis": "x",
         "y": [
          0,
          6.128801274656915,
          6.128801274656915,
          0
         ],
         "yaxis": "y"
        },
        {
         "hoverinfo": "text",
         "marker": {
          "color": "rgb(61,153,112)"
         },
         "mode": "lines",
         "type": "scatter",
         "x": [
          8985,
          8985,
          9000,
          9000
         ],
         "xaxis": "x",
         "y": [
          0,
          7.042867448600006,
          7.042867448600006,
          6.128801274656915
         ],
         "yaxis": "y"
        },
        {
         "hoverinfo": "text",
         "marker": {
          "color": "rgb(61,153,112)"
         },
         "mode": "lines",
         "type": "scatter",
         "x": [
          9015,
          9015,
          9025,
          9025
         ],
         "xaxis": "x",
         "y": [
          0,
          6.0178824286718715,
          6.0178824286718715,
          0
         ],
         "yaxis": "y"
        },
        {
         "hoverinfo": "text",
         "marker": {
          "color": "rgb(61,153,112)"
         },
         "mode": "lines",
         "type": "scatter",
         "x": [
          9035,
          9035,
          9045,
          9045
         ],
         "xaxis": "x",
         "y": [
          0,
          6.797490228721897,
          6.797490228721897,
          0
         ],
         "yaxis": "y"
        },
        {
         "hoverinfo": "text",
         "marker": {
          "color": "rgb(61,153,112)"
         },
         "mode": "lines",
         "type": "scatter",
         "x": [
          9020,
          9020,
          9040,
          9040
         ],
         "xaxis": "x",
         "y": [
          6.0178824286718715,
          7.2533760700441,
          7.2533760700441,
          6.797490228721897
         ],
         "yaxis": "y"
        },
        {
         "hoverinfo": "text",
         "marker": {
          "color": "rgb(61,153,112)"
         },
         "mode": "lines",
         "type": "scatter",
         "x": [
          8992.5,
          8992.5,
          9030,
          9030
         ],
         "xaxis": "x",
         "y": [
          7.042867448600006,
          7.8275113109726036,
          7.8275113109726036,
          7.2533760700441
         ],
         "yaxis": "y"
        },
        {
         "hoverinfo": "text",
         "marker": {
          "color": "rgb(61,153,112)"
         },
         "mode": "lines",
         "type": "scatter",
         "x": [
          8962.5,
          8962.5,
          9011.25,
          9011.25
         ],
         "xaxis": "x",
         "y": [
          6.057021717828328,
          8.208936269258194,
          8.208936269258194,
          7.8275113109726036
         ],
         "yaxis": "y"
        },
        {
         "hoverinfo": "text",
         "marker": {
          "color": "rgb(61,153,112)"
         },
         "mode": "lines",
         "type": "scatter",
         "x": [
          8923.75,
          8923.75,
          8986.875,
          8986.875
         ],
         "xaxis": "x",
         "y": [
          8.096601365339449,
          8.729660743375963,
          8.729660743375963,
          8.208936269258194
         ],
         "yaxis": "y"
        },
        {
         "hoverinfo": "text",
         "marker": {
          "color": "rgb(255,65,54)"
         },
         "mode": "lines",
         "type": "scatter",
         "x": [
          9065,
          9065,
          9075,
          9075
         ],
         "xaxis": "x",
         "y": [
          0,
          6.287475941344711,
          6.287475941344711,
          0
         ],
         "yaxis": "y"
        },
        {
         "hoverinfo": "text",
         "marker": {
          "color": "rgb(255,65,54)"
         },
         "mode": "lines",
         "type": "scatter",
         "x": [
          9085,
          9085,
          9095,
          9095
         ],
         "xaxis": "x",
         "y": [
          0,
          6.872605626606489,
          6.872605626606489,
          0
         ],
         "yaxis": "y"
        },
        {
         "hoverinfo": "text",
         "marker": {
          "color": "rgb(255,65,54)"
         },
         "mode": "lines",
         "type": "scatter",
         "x": [
          9070,
          9070,
          9090,
          9090
         ],
         "xaxis": "x",
         "y": [
          6.287475941344711,
          7.842478322765007,
          7.842478322765007,
          6.872605626606489
         ],
         "yaxis": "y"
        },
        {
         "hoverinfo": "text",
         "marker": {
          "color": "rgb(255,65,54)"
         },
         "mode": "lines",
         "type": "scatter",
         "x": [
          9115,
          9115,
          9125,
          9125
         ],
         "xaxis": "x",
         "y": [
          0,
          4.986989121744382,
          4.986989121744382,
          0
         ],
         "yaxis": "y"
        },
        {
         "hoverinfo": "text",
         "marker": {
          "color": "rgb(255,65,54)"
         },
         "mode": "lines",
         "type": "scatter",
         "x": [
          9105,
          9105,
          9120,
          9120
         ],
         "xaxis": "x",
         "y": [
          0,
          6.924947504463187,
          6.924947504463187,
          4.986989121744382
         ],
         "yaxis": "y"
        },
        {
         "hoverinfo": "text",
         "marker": {
          "color": "rgb(255,65,54)"
         },
         "mode": "lines",
         "type": "scatter",
         "x": [
          9135,
          9135,
          9145,
          9145
         ],
         "xaxis": "x",
         "y": [
          0,
          6.39574281582392,
          6.39574281582392,
          0
         ],
         "yaxis": "y"
        },
        {
         "hoverinfo": "text",
         "marker": {
          "color": "rgb(255,65,54)"
         },
         "mode": "lines",
         "type": "scatter",
         "x": [
          9165,
          9165,
          9175,
          9175
         ],
         "xaxis": "x",
         "y": [
          0,
          5.850593405523523,
          5.850593405523523,
          0
         ],
         "yaxis": "y"
        },
        {
         "hoverinfo": "text",
         "marker": {
          "color": "rgb(255,65,54)"
         },
         "mode": "lines",
         "type": "scatter",
         "x": [
          9155,
          9155,
          9170,
          9170
         ],
         "xaxis": "x",
         "y": [
          0,
          6.601939046526533,
          6.601939046526533,
          5.850593405523523
         ],
         "yaxis": "y"
        },
        {
         "hoverinfo": "text",
         "marker": {
          "color": "rgb(255,65,54)"
         },
         "mode": "lines",
         "type": "scatter",
         "x": [
          9185,
          9185,
          9195,
          9195
         ],
         "xaxis": "x",
         "y": [
          0,
          6.6161860786600775,
          6.6161860786600775,
          0
         ],
         "yaxis": "y"
        },
        {
         "hoverinfo": "text",
         "marker": {
          "color": "rgb(255,65,54)"
         },
         "mode": "lines",
         "type": "scatter",
         "x": [
          9162.5,
          9162.5,
          9190,
          9190
         ],
         "xaxis": "x",
         "y": [
          6.601939046526533,
          6.932527978846436,
          6.932527978846436,
          6.6161860786600775
         ],
         "yaxis": "y"
        },
        {
         "hoverinfo": "text",
         "marker": {
          "color": "rgb(255,65,54)"
         },
         "mode": "lines",
         "type": "scatter",
         "x": [
          9140,
          9140,
          9176.25,
          9176.25
         ],
         "xaxis": "x",
         "y": [
          6.39574281582392,
          7.434006008085492,
          7.434006008085492,
          6.932527978846436
         ],
         "yaxis": "y"
        },
        {
         "hoverinfo": "text",
         "marker": {
          "color": "rgb(255,65,54)"
         },
         "mode": "lines",
         "type": "scatter",
         "x": [
          9112.5,
          9112.5,
          9158.125,
          9158.125
         ],
         "xaxis": "x",
         "y": [
          6.924947504463187,
          8.104891051522872,
          8.104891051522872,
          7.434006008085492
         ],
         "yaxis": "y"
        },
        {
         "hoverinfo": "text",
         "marker": {
          "color": "rgb(255,65,54)"
         },
         "mode": "lines",
         "type": "scatter",
         "x": [
          9080,
          9080,
          9135.3125,
          9135.3125
         ],
         "xaxis": "x",
         "y": [
          7.842478322765007,
          8.553369595381781,
          8.553369595381781,
          8.104891051522872
         ],
         "yaxis": "y"
        },
        {
         "hoverinfo": "text",
         "marker": {
          "color": "rgb(255,65,54)"
         },
         "mode": "lines",
         "type": "scatter",
         "x": [
          9055,
          9055,
          9107.65625,
          9107.65625
         ],
         "xaxis": "x",
         "y": [
          0,
          8.789200498266196,
          8.789200498266196,
          8.553369595381781
         ],
         "yaxis": "y"
        },
        {
         "hoverinfo": "text",
         "marker": {
          "color": "rgb(0,116,217)"
         },
         "mode": "lines",
         "type": "scatter",
         "x": [
          8955.3125,
          8955.3125,
          9081.328125,
          9081.328125
         ],
         "xaxis": "x",
         "y": [
          8.729660743375963,
          9.346998535819363,
          9.346998535819363,
          8.789200498266196
         ],
         "yaxis": "y"
        },
        {
         "hoverinfo": "text",
         "marker": {
          "color": "rgb(35,205,205)"
         },
         "mode": "lines",
         "type": "scatter",
         "x": [
          9205,
          9205,
          9215,
          9215
         ],
         "xaxis": "x",
         "y": [
          0,
          8.941189338276848,
          8.941189338276848,
          0
         ],
         "yaxis": "y"
        },
        {
         "hoverinfo": "text",
         "marker": {
          "color": "rgb(133,20,75)"
         },
         "mode": "lines",
         "type": "scatter",
         "x": [
          9235,
          9235,
          9245,
          9245
         ],
         "xaxis": "x",
         "y": [
          0,
          6.7087258753387236,
          6.7087258753387236,
          0
         ],
         "yaxis": "y"
        },
        {
         "hoverinfo": "text",
         "marker": {
          "color": "rgb(133,20,75)"
         },
         "mode": "lines",
         "type": "scatter",
         "x": [
          9225,
          9225,
          9240,
          9240
         ],
         "xaxis": "x",
         "y": [
          0,
          7.605626854039185,
          7.605626854039185,
          6.7087258753387236
         ],
         "yaxis": "y"
        },
        {
         "hoverinfo": "text",
         "marker": {
          "color": "rgb(255,220,0)"
         },
         "mode": "lines",
         "type": "scatter",
         "x": [
          9275,
          9275,
          9285,
          9285
         ],
         "xaxis": "x",
         "y": [
          0,
          6.82254460627748,
          6.82254460627748,
          0
         ],
         "yaxis": "y"
        },
        {
         "hoverinfo": "text",
         "marker": {
          "color": "rgb(255,220,0)"
         },
         "mode": "lines",
         "type": "scatter",
         "x": [
          9295,
          9295,
          9305,
          9305
         ],
         "xaxis": "x",
         "y": [
          0,
          7.504245767002267,
          7.504245767002267,
          0
         ],
         "yaxis": "y"
        },
        {
         "hoverinfo": "text",
         "marker": {
          "color": "rgb(255,220,0)"
         },
         "mode": "lines",
         "type": "scatter",
         "x": [
          9280,
          9280,
          9300,
          9300
         ],
         "xaxis": "x",
         "y": [
          6.82254460627748,
          7.734284008119407,
          7.734284008119407,
          7.504245767002267
         ],
         "yaxis": "y"
        },
        {
         "hoverinfo": "text",
         "marker": {
          "color": "rgb(255,220,0)"
         },
         "mode": "lines",
         "type": "scatter",
         "x": [
          9265,
          9265,
          9290,
          9290
         ],
         "xaxis": "x",
         "y": [
          0,
          8.58017835402445,
          8.58017835402445,
          7.734284008119407
         ],
         "yaxis": "y"
        },
        {
         "hoverinfo": "text",
         "marker": {
          "color": "rgb(255,220,0)"
         },
         "mode": "lines",
         "type": "scatter",
         "x": [
          9255,
          9255,
          9277.5,
          9277.5
         ],
         "xaxis": "x",
         "y": [
          0,
          9.028154223501764,
          9.028154223501764,
          8.58017835402445
         ],
         "yaxis": "y"
        },
        {
         "hoverinfo": "text",
         "marker": {
          "color": "rgb(0,116,217)"
         },
         "mode": "lines",
         "type": "scatter",
         "x": [
          9232.5,
          9232.5,
          9266.25,
          9266.25
         ],
         "xaxis": "x",
         "y": [
          7.605626854039185,
          10.040043307965918,
          10.040043307965918,
          9.028154223501764
         ],
         "yaxis": "y"
        },
        {
         "hoverinfo": "text",
         "marker": {
          "color": "rgb(0,116,217)"
         },
         "mode": "lines",
         "type": "scatter",
         "x": [
          9210,
          9210,
          9249.375,
          9249.375
         ],
         "xaxis": "x",
         "y": [
          8.941189338276848,
          10.47363181195856,
          10.47363181195856,
          10.040043307965918
         ],
         "yaxis": "y"
        },
        {
         "hoverinfo": "text",
         "marker": {
          "color": "rgb(0,116,217)"
         },
         "mode": "lines",
         "type": "scatter",
         "x": [
          9018.3203125,
          9018.3203125,
          9229.6875,
          9229.6875
         ],
         "xaxis": "x",
         "y": [
          9.346998535819363,
          10.636386839403244,
          10.636386839403244,
          10.47363181195856
         ],
         "yaxis": "y"
        },
        {
         "hoverinfo": "text",
         "marker": {
          "color": "rgb(0,116,217)"
         },
         "mode": "lines",
         "type": "scatter",
         "x": [
          8900,
          8900,
          9124.00390625,
          9124.00390625
         ],
         "xaxis": "x",
         "y": [
          9.688798571171173,
          11.49234323726408,
          11.49234323726408,
          10.636386839403244
         ],
         "yaxis": "y"
        },
        {
         "hoverinfo": "text",
         "marker": {
          "color": "rgb(0,116,217)"
         },
         "mode": "lines",
         "type": "scatter",
         "x": [
          3499.584426879883,
          3499.584426879883,
          9012.001953125,
          9012.001953125
         ],
         "xaxis": "x",
         "y": [
          10.758747424336727,
          11.96916293104566,
          11.96916293104566,
          11.49234323726408
         ],
         "yaxis": "y"
        },
        {
         "hoverinfo": "text",
         "marker": {
          "color": "rgb(0,116,217)"
         },
         "mode": "lines",
         "type": "scatter",
         "x": [
          499.9897575378418,
          499.9897575378418,
          6255.793190002441,
          6255.793190002441
         ],
         "xaxis": "x",
         "y": [
          11.194456399041725,
          13.063925536971158,
          13.063925536971158,
          11.96916293104566
         ],
         "yaxis": "y"
        }
       ],
       "layout": {
        "autosize": false,
        "height": 1200,
        "hovermode": "closest",
        "showlegend": false,
        "template": {
         "data": {
          "bar": [
           {
            "error_x": {
             "color": "#2a3f5f"
            },
            "error_y": {
             "color": "#2a3f5f"
            },
            "marker": {
             "line": {
              "color": "#E5ECF6",
              "width": 0.5
             }
            },
            "type": "bar"
           }
          ],
          "barpolar": [
           {
            "marker": {
             "line": {
              "color": "#E5ECF6",
              "width": 0.5
             }
            },
            "type": "barpolar"
           }
          ],
          "carpet": [
           {
            "aaxis": {
             "endlinecolor": "#2a3f5f",
             "gridcolor": "white",
             "linecolor": "white",
             "minorgridcolor": "white",
             "startlinecolor": "#2a3f5f"
            },
            "baxis": {
             "endlinecolor": "#2a3f5f",
             "gridcolor": "white",
             "linecolor": "white",
             "minorgridcolor": "white",
             "startlinecolor": "#2a3f5f"
            },
            "type": "carpet"
           }
          ],
          "choropleth": [
           {
            "colorbar": {
             "outlinewidth": 0,
             "ticks": ""
            },
            "type": "choropleth"
           }
          ],
          "contour": [
           {
            "colorbar": {
             "outlinewidth": 0,
             "ticks": ""
            },
            "colorscale": [
             [
              0,
              "#0d0887"
             ],
             [
              0.1111111111111111,
              "#46039f"
             ],
             [
              0.2222222222222222,
              "#7201a8"
             ],
             [
              0.3333333333333333,
              "#9c179e"
             ],
             [
              0.4444444444444444,
              "#bd3786"
             ],
             [
              0.5555555555555556,
              "#d8576b"
             ],
             [
              0.6666666666666666,
              "#ed7953"
             ],
             [
              0.7777777777777778,
              "#fb9f3a"
             ],
             [
              0.8888888888888888,
              "#fdca26"
             ],
             [
              1,
              "#f0f921"
             ]
            ],
            "type": "contour"
           }
          ],
          "contourcarpet": [
           {
            "colorbar": {
             "outlinewidth": 0,
             "ticks": ""
            },
            "type": "contourcarpet"
           }
          ],
          "heatmap": [
           {
            "colorbar": {
             "outlinewidth": 0,
             "ticks": ""
            },
            "colorscale": [
             [
              0,
              "#0d0887"
             ],
             [
              0.1111111111111111,
              "#46039f"
             ],
             [
              0.2222222222222222,
              "#7201a8"
             ],
             [
              0.3333333333333333,
              "#9c179e"
             ],
             [
              0.4444444444444444,
              "#bd3786"
             ],
             [
              0.5555555555555556,
              "#d8576b"
             ],
             [
              0.6666666666666666,
              "#ed7953"
             ],
             [
              0.7777777777777778,
              "#fb9f3a"
             ],
             [
              0.8888888888888888,
              "#fdca26"
             ],
             [
              1,
              "#f0f921"
             ]
            ],
            "type": "heatmap"
           }
          ],
          "heatmapgl": [
           {
            "colorbar": {
             "outlinewidth": 0,
             "ticks": ""
            },
            "colorscale": [
             [
              0,
              "#0d0887"
             ],
             [
              0.1111111111111111,
              "#46039f"
             ],
             [
              0.2222222222222222,
              "#7201a8"
             ],
             [
              0.3333333333333333,
              "#9c179e"
             ],
             [
              0.4444444444444444,
              "#bd3786"
             ],
             [
              0.5555555555555556,
              "#d8576b"
             ],
             [
              0.6666666666666666,
              "#ed7953"
             ],
             [
              0.7777777777777778,
              "#fb9f3a"
             ],
             [
              0.8888888888888888,
              "#fdca26"
             ],
             [
              1,
              "#f0f921"
             ]
            ],
            "type": "heatmapgl"
           }
          ],
          "histogram": [
           {
            "marker": {
             "colorbar": {
              "outlinewidth": 0,
              "ticks": ""
             }
            },
            "type": "histogram"
           }
          ],
          "histogram2d": [
           {
            "colorbar": {
             "outlinewidth": 0,
             "ticks": ""
            },
            "colorscale": [
             [
              0,
              "#0d0887"
             ],
             [
              0.1111111111111111,
              "#46039f"
             ],
             [
              0.2222222222222222,
              "#7201a8"
             ],
             [
              0.3333333333333333,
              "#9c179e"
             ],
             [
              0.4444444444444444,
              "#bd3786"
             ],
             [
              0.5555555555555556,
              "#d8576b"
             ],
             [
              0.6666666666666666,
              "#ed7953"
             ],
             [
              0.7777777777777778,
              "#fb9f3a"
             ],
             [
              0.8888888888888888,
              "#fdca26"
             ],
             [
              1,
              "#f0f921"
             ]
            ],
            "type": "histogram2d"
           }
          ],
          "histogram2dcontour": [
           {
            "colorbar": {
             "outlinewidth": 0,
             "ticks": ""
            },
            "colorscale": [
             [
              0,
              "#0d0887"
             ],
             [
              0.1111111111111111,
              "#46039f"
             ],
             [
              0.2222222222222222,
              "#7201a8"
             ],
             [
              0.3333333333333333,
              "#9c179e"
             ],
             [
              0.4444444444444444,
              "#bd3786"
             ],
             [
              0.5555555555555556,
              "#d8576b"
             ],
             [
              0.6666666666666666,
              "#ed7953"
             ],
             [
              0.7777777777777778,
              "#fb9f3a"
             ],
             [
              0.8888888888888888,
              "#fdca26"
             ],
             [
              1,
              "#f0f921"
             ]
            ],
            "type": "histogram2dcontour"
           }
          ],
          "mesh3d": [
           {
            "colorbar": {
             "outlinewidth": 0,
             "ticks": ""
            },
            "type": "mesh3d"
           }
          ],
          "parcoords": [
           {
            "line": {
             "colorbar": {
              "outlinewidth": 0,
              "ticks": ""
             }
            },
            "type": "parcoords"
           }
          ],
          "scatter": [
           {
            "marker": {
             "colorbar": {
              "outlinewidth": 0,
              "ticks": ""
             }
            },
            "type": "scatter"
           }
          ],
          "scatter3d": [
           {
            "line": {
             "colorbar": {
              "outlinewidth": 0,
              "ticks": ""
             }
            },
            "marker": {
             "colorbar": {
              "outlinewidth": 0,
              "ticks": ""
             }
            },
            "type": "scatter3d"
           }
          ],
          "scattercarpet": [
           {
            "marker": {
             "colorbar": {
              "outlinewidth": 0,
              "ticks": ""
             }
            },
            "type": "scattercarpet"
           }
          ],
          "scattergeo": [
           {
            "marker": {
             "colorbar": {
              "outlinewidth": 0,
              "ticks": ""
             }
            },
            "type": "scattergeo"
           }
          ],
          "scattergl": [
           {
            "marker": {
             "colorbar": {
              "outlinewidth": 0,
              "ticks": ""
             }
            },
            "type": "scattergl"
           }
          ],
          "scattermapbox": [
           {
            "marker": {
             "colorbar": {
              "outlinewidth": 0,
              "ticks": ""
             }
            },
            "type": "scattermapbox"
           }
          ],
          "scatterpolar": [
           {
            "marker": {
             "colorbar": {
              "outlinewidth": 0,
              "ticks": ""
             }
            },
            "type": "scatterpolar"
           }
          ],
          "scatterpolargl": [
           {
            "marker": {
             "colorbar": {
              "outlinewidth": 0,
              "ticks": ""
             }
            },
            "type": "scatterpolargl"
           }
          ],
          "scatterternary": [
           {
            "marker": {
             "colorbar": {
              "outlinewidth": 0,
              "ticks": ""
             }
            },
            "type": "scatterternary"
           }
          ],
          "surface": [
           {
            "colorbar": {
             "outlinewidth": 0,
             "ticks": ""
            },
            "colorscale": [
             [
              0,
              "#0d0887"
             ],
             [
              0.1111111111111111,
              "#46039f"
             ],
             [
              0.2222222222222222,
              "#7201a8"
             ],
             [
              0.3333333333333333,
              "#9c179e"
             ],
             [
              0.4444444444444444,
              "#bd3786"
             ],
             [
              0.5555555555555556,
              "#d8576b"
             ],
             [
              0.6666666666666666,
              "#ed7953"
             ],
             [
              0.7777777777777778,
              "#fb9f3a"
             ],
             [
              0.8888888888888888,
              "#fdca26"
             ],
             [
              1,
              "#f0f921"
             ]
            ],
            "type": "surface"
           }
          ],
          "table": [
           {
            "cells": {
             "fill": {
              "color": "#EBF0F8"
             },
             "line": {
              "color": "white"
             }
            },
            "header": {
             "fill": {
              "color": "#C8D4E3"
             },
             "line": {
              "color": "white"
             }
            },
            "type": "table"
           }
          ]
         },
         "layout": {
          "annotationdefaults": {
           "arrowcolor": "#2a3f5f",
           "arrowhead": 0,
           "arrowwidth": 1
          },
          "colorscale": {
           "diverging": [
            [
             0,
             "#8e0152"
            ],
            [
             0.1,
             "#c51b7d"
            ],
            [
             0.2,
             "#de77ae"
            ],
            [
             0.3,
             "#f1b6da"
            ],
            [
             0.4,
             "#fde0ef"
            ],
            [
             0.5,
             "#f7f7f7"
            ],
            [
             0.6,
             "#e6f5d0"
            ],
            [
             0.7,
             "#b8e186"
            ],
            [
             0.8,
             "#7fbc41"
            ],
            [
             0.9,
             "#4d9221"
            ],
            [
             1,
             "#276419"
            ]
           ],
           "sequential": [
            [
             0,
             "#0d0887"
            ],
            [
             0.1111111111111111,
             "#46039f"
            ],
            [
             0.2222222222222222,
             "#7201a8"
            ],
            [
             0.3333333333333333,
             "#9c179e"
            ],
            [
             0.4444444444444444,
             "#bd3786"
            ],
            [
             0.5555555555555556,
             "#d8576b"
            ],
            [
             0.6666666666666666,
             "#ed7953"
            ],
            [
             0.7777777777777778,
             "#fb9f3a"
            ],
            [
             0.8888888888888888,
             "#fdca26"
            ],
            [
             1,
             "#f0f921"
            ]
           ],
           "sequentialminus": [
            [
             0,
             "#0d0887"
            ],
            [
             0.1111111111111111,
             "#46039f"
            ],
            [
             0.2222222222222222,
             "#7201a8"
            ],
            [
             0.3333333333333333,
             "#9c179e"
            ],
            [
             0.4444444444444444,
             "#bd3786"
            ],
            [
             0.5555555555555556,
             "#d8576b"
            ],
            [
             0.6666666666666666,
             "#ed7953"
            ],
            [
             0.7777777777777778,
             "#fb9f3a"
            ],
            [
             0.8888888888888888,
             "#fdca26"
            ],
            [
             1,
             "#f0f921"
            ]
           ]
          },
          "colorway": [
           "#636efa",
           "#EF553B",
           "#00cc96",
           "#ab63fa",
           "#FFA15A",
           "#19d3f3",
           "#FF6692",
           "#B6E880",
           "#FF97FF",
           "#FECB52"
          ],
          "font": {
           "color": "#2a3f5f"
          },
          "geo": {
           "bgcolor": "white",
           "lakecolor": "white",
           "landcolor": "#E5ECF6",
           "showlakes": true,
           "showland": true,
           "subunitcolor": "white"
          },
          "hoverlabel": {
           "align": "left"
          },
          "hovermode": "closest",
          "mapbox": {
           "style": "light"
          },
          "paper_bgcolor": "white",
          "plot_bgcolor": "#E5ECF6",
          "polar": {
           "angularaxis": {
            "gridcolor": "white",
            "linecolor": "white",
            "ticks": ""
           },
           "bgcolor": "#E5ECF6",
           "radialaxis": {
            "gridcolor": "white",
            "linecolor": "white",
            "ticks": ""
           }
          },
          "scene": {
           "xaxis": {
            "backgroundcolor": "#E5ECF6",
            "gridcolor": "white",
            "gridwidth": 2,
            "linecolor": "white",
            "showbackground": true,
            "ticks": "",
            "zerolinecolor": "white"
           },
           "yaxis": {
            "backgroundcolor": "#E5ECF6",
            "gridcolor": "white",
            "gridwidth": 2,
            "linecolor": "white",
            "showbackground": true,
            "ticks": "",
            "zerolinecolor": "white"
           },
           "zaxis": {
            "backgroundcolor": "#E5ECF6",
            "gridcolor": "white",
            "gridwidth": 2,
            "linecolor": "white",
            "showbackground": true,
            "ticks": "",
            "zerolinecolor": "white"
           }
          },
          "shapedefaults": {
           "line": {
            "color": "#2a3f5f"
           }
          },
          "ternary": {
           "aaxis": {
            "gridcolor": "white",
            "linecolor": "white",
            "ticks": ""
           },
           "baxis": {
            "gridcolor": "white",
            "linecolor": "white",
            "ticks": ""
           },
           "bgcolor": "#E5ECF6",
           "caxis": {
            "gridcolor": "white",
            "linecolor": "white",
            "ticks": ""
           }
          },
          "title": {
           "x": 0.05
          },
          "xaxis": {
           "automargin": true,
           "gridcolor": "white",
           "linecolor": "white",
           "ticks": "",
           "zerolinecolor": "white",
           "zerolinewidth": 2
          },
          "yaxis": {
           "automargin": true,
           "gridcolor": "white",
           "linecolor": "white",
           "ticks": "",
           "zerolinecolor": "white",
           "zerolinewidth": 2
          }
         }
        },
        "width": 1200,
        "xaxis": {
         "mirror": "allticks",
         "rangemode": "tozero",
         "showgrid": false,
         "showline": true,
         "showticklabels": true,
         "tickmode": "array",
         "ticks": "outside",
         "ticktext": [
          "was",
          "he",
          "his",
          "who",
          "had",
          "has",
          "been",
          "their",
          "they",
          "were",
          "on",
          "my",
          "your",
          "since",
          "around",
          "least",
          "system",
          "used",
          "using",
          "old",
          "running",
          "dos",
          "windows",
          "ms",
          "programs",
          "unix",
          "under",
          "current",
          "etc",
          "rules",
          "story",
          "appears",
          "change",
          "argument",
          "statement",
          "original",
          "price",
          "pay",
          "asking",
          "car",
          "bike",
          "engine",
          "food",
          "computer",
          "science",
          "non",
          "government",
          "federal",
          "win",
          "main",
          "power",
          "play",
          "use",
          "should",
          "why",
          "although",
          "reason",
          "reasons",
          "most",
          "very",
          "quite",
          "such",
          "how",
          "many",
          "new",
          "two",
          "between",
          "difference",
          "other",
          "different",
          "these",
          "those",
          "things",
          "right",
          "hand",
          "left",
          "turn",
          "both",
          "either",
          "side",
          "its",
          "our",
          "own",
          "means",
          "whatever",
          "something",
          "nothing",
          "evidence",
          "find",
          "found",
          "anyone",
          "anybody",
          "anything",
          "else",
          "heard",
          "ve",
          "seen",
          "haven",
          "never",
          "ever",
          "she",
          "her",
          "being",
          "without",
          "him",
          "back",
          "ll",
          "go",
          "going",
          "take",
          "look",
          "could",
          "think",
          "might",
          "really",
          "doesn",
          "seem",
          "don",
          "know",
          "again",
          "once",
          "start",
          "try",
          "stop",
          "run",
          "able",
          "money",
          "cost",
          "worth",
          "make",
          "makes",
          "sense",
          "talk",
          "guns",
          "lot",
          "whole",
          "through",
          "faith",
          "order",
          "court",
          "put",
          "together",
          "even",
          "though",
          "after",
          "before",
          "first",
          "second",
          "game",
          "games",
          "season",
          "series",
          "last",
          "night",
          "year",
          "next",
          "here",
          "see",
          "say",
          "let",
          "man",
          "said",
          "says",
          "about",
          "some",
          "any",
          "me",
          "someone",
          "please",
          "post",
          "from",
          "or",
          "at",
          "are",
          "by",
          "be",
          "will",
          "can",
          "only",
          "get",
          "where",
          "you",
          "if",
          "have",
          "would",
          "which",
          "with",
          "an",
          "one",
          "no",
          "more",
          "much",
          "better",
          "than",
          "less",
          "all",
          "us",
          "god",
          "people",
          "them",
          "because",
          "what",
          "we",
          "then",
          "like",
          "just",
          "so",
          "there",
          "may",
          "also",
          "note",
          "getting",
          "thinking",
          "interested",
          "looking",
          "currently",
          "re",
          "doing",
          "wrong",
          "correct",
          "am",
          "now",
          "still",
          "enough",
          "far",
          "away",
          "long",
          "short",
          "term",
          "too",
          "soon",
          "coming",
          "good",
          "bad",
          "idea",
          "well",
          "yes",
          "oh",
          "case",
          "another",
          "yet",
          "as",
          "not",
          "do",
          "does",
          "did",
          "it",
          "but",
          "that",
          "is",
          "this",
          "and",
          "the",
          "of",
          "to",
          "for",
          "0t",
          "date",
          "apr",
          "off",
          "light",
          "comes",
          "goes",
          "down",
          "cut",
          "up",
          "when",
          "time",
          "same",
          "out",
          "into",
          "over",
          "os",
          "comp",
          "pc",
          "mac",
          "ibm",
          "machines",
          "sound",
          "card",
          "video",
          "cards",
          "version",
          "driver",
          "drivers",
          "software",
          "package",
          "includes",
          "public",
          "private",
          "key",
          "keys",
          "word",
          "goal",
          "final",
          "format",
          "moral",
          "objective",
          "user",
          "interface",
          "application",
          "motif",
          "support",
          "hardware",
          "provide",
          "allow",
          "basic",
          "human",
          "rights",
          "life",
          "face",
          "full",
          "value",
          "color",
          "images",
          "display",
          "screen",
          "size",
          "window",
          "manager",
          "graphics",
          "pub",
          "directory",
          "program",
          "file",
          "open",
          "build",
          "name",
          "check",
          "ok",
          "output",
          "entry",
          "section",
          "free",
          "nor",
          "certain",
          "amount",
          "themselves",
          "considered",
          "started",
          "fire",
          "children",
          "dead",
          "big",
          "major",
          "cause",
          "effect",
          "problem",
          "having",
          "problems",
          "nice",
          "condition",
          "great",
          "country",
          "everything",
          "works",
          "fine",
          "way",
          "work",
          "during",
          "world",
          "war",
          "ii",
          "feel",
          "sorry",
          "aren",
          "didn",
          "couldn",
          "real",
          "whether",
          "issue",
          "jesus",
          "christ",
          "love",
          "hear",
          "told",
          "saying",
          "true",
          "come",
          "happen",
          "must",
          "exist",
          "follow",
          "several",
          "past",
          "present",
          "three",
          "four",
          "days",
          "later",
          "couple",
          "ago",
          "months",
          "weeks",
          "years",
          "few",
          "within",
          "week",
          "half",
          "million",
          "day",
          "per",
          "each",
          "every",
          "single",
          "got",
          "came",
          "went",
          "recently",
          "bought",
          "father",
          "son",
          "friend",
          "mine",
          "pretty",
          "looks",
          "sounds",
          "seems",
          "clear",
          "question",
          "answer",
          "important",
          "interesting",
          "made",
          "making",
          "claim",
          "written",
          "point",
          "view",
          "trying",
          "figure",
          "always",
          "tried",
          "everyone",
          "possible",
          "almost",
          "certainly",
          "similar",
          "along",
          "none",
          "further",
          "discussion",
          "serious",
          "comments",
          "questions",
          "asked",
          "specific",
          "mentioned",
          "following",
          "sale",
          "instead",
          "behind",
          "type",
          "kind",
          "sort",
          "happened",
          "situation",
          "sources",
          "parts",
          "various",
          "due",
          "process",
          "early",
          "gas",
          "scsi",
          "fast",
          "chip",
          "clipper",
          "encryption",
          "product",
          "commercial",
          "drives",
          "hard",
          "disk",
          "drive",
          "tape",
          "systems",
          "company",
          "school",
          "technology",
          "market",
          "launch",
          "total",
          "rate",
          "higher",
          "memory",
          "ram",
          "b8f",
          "a86",
          "2di",
          "db",
          "rutgers",
          "home",
          "runs",
          "press",
          "office",
          "bit",
          "little",
          "large",
          "small",
          "number",
          "serial",
          "numbers",
          "thus",
          "space",
          "nasa",
          "gov",
          "research",
          "center",
          "policy",
          "states",
          "united",
          "code",
          "source",
          "state",
          "university",
          "news",
          "usenet",
          "sci",
          "faq",
          "posted",
          "read",
          "write",
          "group",
          "posting",
          "newsgroup",
          "available",
          "via",
          "anonymous",
          "ftp",
          "site",
          "server",
          "mit",
          "american",
          "internet",
          "users",
          "house",
          "white",
          "box",
          "black",
          "young",
          "men",
          "women",
          "common",
          "others",
          "among",
          "police",
          "san",
          "members",
          "family",
          "christian",
          "religious",
          "jewish",
          "arab",
          "history",
          "international",
          "israeli",
          "turkish",
          "greek",
          "society",
          "russian",
          "congress",
          "period",
          "third",
          "jews",
          "armenians",
          "killed",
          "team",
          "hockey",
          "league",
          "baseball",
          "players",
          "teams",
          "best",
          "offer",
          "self",
          "defense",
          "points",
          "record",
          "against",
          "privacy",
          "protect",
          "fbi",
          "special",
          "previous",
          "law",
          "laws",
          "gun",
          "control",
          "armenian",
          "anti",
          "local",
          "bus",
          "standard",
          "mode",
          "legal",
          "political",
          "military",
          "unit",
          "outside",
          "inside",
          "road",
          "division",
          "move",
          "copy",
          "save",
          "willing",
          "designed",
          "longer",
          "necessary",
          "required",
          "lines",
          "crime",
          "front",
          "act",
          "quality",
          "secure",
          "ground",
          "death",
          "shot",
          "including",
          "maybe",
          "perhaps",
          "talking",
          "guy",
          "hit",
          "needed",
          "gets",
          "close",
          "looked",
          "air",
          "force",
          "base",
          "device",
          "command",
          "sent",
          "response",
          "built",
          "cars",
          "performance",
          "plus",
          "tax",
          "weapons",
          "keep",
          "mind",
          "live",
          "shall",
          "israel",
          "subject",
          "matter",
          "guess",
          "opinion",
          "remember",
          "reading",
          "land",
          "population",
          "cover",
          "thing",
          "sure",
          "hope",
          "consider",
          "myself",
          "tell",
          "exactly",
          "explain",
          "call",
          "ask",
          "yourself",
          "action",
          "clearly",
          "taken",
          "taking",
          "takes",
          "place",
          "took",
          "course",
          "knows",
          "wants",
          "except",
          "particular",
          "doubt",
          "actually",
          "however",
          "fact",
          "mean",
          "words",
          "rest",
          "leave",
          "simply",
          "usually",
          "above",
          "below",
          "thought",
          "saw",
          "show",
          "add",
          "suggest",
          "agree",
          "completely",
          "anyway",
          "wouldn",
          "expect",
          "hi",
          "created",
          "living",
          "canada",
          "easy",
          "indeed",
          "today",
          "easily",
          "itself",
          "himself",
          "hell",
          "turkey",
          "truth",
          "believe",
          "christians",
          "ones",
          "involved",
          "become",
          "likely",
          "future",
          "often",
          "church",
          "religion",
          "christianity",
          "bible",
          "according",
          "buy",
          "sell",
          "want",
          "need",
          "wanted",
          "needs",
          "cannot",
          "therefore",
          "assume",
          "hold",
          "understand",
          "accept",
          "carry",
          "result",
          "choice",
          "unless",
          "otherwise",
          "kill",
          "sometimes",
          "probably",
          "won",
          "isn",
          "wasn",
          "already",
          "lost",
          "finally",
          "person",
          "average",
          "machine",
          "attack",
          "applications",
          "normal",
          "example",
          "given",
          "known",
          "cases",
          "medical",
          "board",
          "network",
          "national",
          "radio",
          "tv",
          "cd",
          "player",
          "apple",
          "monitor",
          "controller",
          "security",
          "strong",
          "design",
          "uses",
          "algorithm",
          "position",
          "return",
          "function",
          "based",
          "upon",
          "experience",
          "knowledge",
          "personal",
          "opinions",
          "related",
          "scientific",
          "existence",
          "individual",
          "message",
          "error",
          "part",
          "body",
          "language",
          "done",
          "job",
          "deal",
          "chance",
          "study",
          "results",
          "simple",
          "test",
          "model",
          "report",
          "gave",
          "include",
          "included",
          "complete",
          "form",
          "create",
          "books",
          "theory",
          "mail",
          "send",
          "email",
          "reply",
          "list",
          "address",
          "request",
          "access",
          "contact",
          "information",
          "info",
          "net",
          "peace",
          "give",
          "details",
          "especially",
          "building",
          "business",
          "area",
          "media",
          "working",
          "groups",
          "president",
          "clinton",
          "administration",
          "mouse",
          "city",
          "water",
          "al",
          "called",
          "wrote",
          "help",
          "appreciated",
          "thanks",
          "advance",
          "andrew",
          "interest",
          "general",
          "purpose",
          "care",
          "health",
          "service",
          "insurance",
          "files",
          "data",
          "image",
          "input",
          "dave",
          "phone",
          "fax",
          "earth",
          "red",
          "sun",
          "near",
          "east",
          "set",
          "widget",
          "top",
          "head",
          "line",
          "book",
          "reference",
          "text",
          "stuff",
          "deleted",
          "speed",
          "level",
          "high",
          "low",
          "end",
          "until",
          "while",
          "rather",
          "in",
          "article",
          "de",
          "cc",
          "uiuc",
          "toronto",
          "co",
          "ac",
          "uk",
          "st",
          "vs",
          "la",
          "times",
          "york",
          "april",
          "washington",
          "3t",
          "mark",
          "robert",
          "34u",
          "1d9",
          "bill",
          "mr",
          "stephanopoulos",
          "john",
          "paul",
          "james",
          "mike",
          "michael",
          "dr",
          "bob",
          "edu",
          "cs",
          "com",
          "hp",
          "netcom",
          "writes",
          "ca",
          "steve",
          "jim",
          "david",
          "org"
         ],
         "tickvals": [
          5,
          15,
          25,
          35,
          45,
          55,
          65,
          75,
          85,
          95,
          105,
          115,
          125,
          135,
          145,
          155,
          165,
          175,
          185,
          195,
          205,
          215,
          225,
          235,
          245,
          255,
          265,
          275,
          285,
          295,
          305,
          315,
          325,
          335,
          345,
          355,
          365,
          375,
          385,
          395,
          405,
          415,
          425,
          435,
          445,
          455,
          465,
          475,
          485,
          495,
          505,
          515,
          525,
          535,
          545,
          555,
          565,
          575,
          585,
          595,
          605,
          615,
          625,
          635,
          645,
          655,
          665,
          675,
          685,
          695,
          705,
          715,
          725,
          735,
          745,
          755,
          765,
          775,
          785,
          795,
          805,
          815,
          825,
          835,
          845,
          855,
          865,
          875,
          885,
          895,
          905,
          915,
          925,
          935,
          945,
          955,
          965,
          975,
          985,
          995,
          1005,
          1015,
          1025,
          1035,
          1045,
          1055,
          1065,
          1075,
          1085,
          1095,
          1105,
          1115,
          1125,
          1135,
          1145,
          1155,
          1165,
          1175,
          1185,
          1195,
          1205,
          1215,
          1225,
          1235,
          1245,
          1255,
          1265,
          1275,
          1285,
          1295,
          1305,
          1315,
          1325,
          1335,
          1345,
          1355,
          1365,
          1375,
          1385,
          1395,
          1405,
          1415,
          1425,
          1435,
          1445,
          1455,
          1465,
          1475,
          1485,
          1495,
          1505,
          1515,
          1525,
          1535,
          1545,
          1555,
          1565,
          1575,
          1585,
          1595,
          1605,
          1615,
          1625,
          1635,
          1645,
          1655,
          1665,
          1675,
          1685,
          1695,
          1705,
          1715,
          1725,
          1735,
          1745,
          1755,
          1765,
          1775,
          1785,
          1795,
          1805,
          1815,
          1825,
          1835,
          1845,
          1855,
          1865,
          1875,
          1885,
          1895,
          1905,
          1915,
          1925,
          1935,
          1945,
          1955,
          1965,
          1975,
          1985,
          1995,
          2005,
          2015,
          2025,
          2035,
          2045,
          2055,
          2065,
          2075,
          2085,
          2095,
          2105,
          2115,
          2125,
          2135,
          2145,
          2155,
          2165,
          2175,
          2185,
          2195,
          2205,
          2215,
          2225,
          2235,
          2245,
          2255,
          2265,
          2275,
          2285,
          2295,
          2305,
          2315,
          2325,
          2335,
          2345,
          2355,
          2365,
          2375,
          2385,
          2395,
          2405,
          2415,
          2425,
          2435,
          2445,
          2455,
          2465,
          2475,
          2485,
          2495,
          2505,
          2515,
          2525,
          2535,
          2545,
          2555,
          2565,
          2575,
          2585,
          2595,
          2605,
          2615,
          2625,
          2635,
          2645,
          2655,
          2665,
          2675,
          2685,
          2695,
          2705,
          2715,
          2725,
          2735,
          2745,
          2755,
          2765,
          2775,
          2785,
          2795,
          2805,
          2815,
          2825,
          2835,
          2845,
          2855,
          2865,
          2875,
          2885,
          2895,
          2905,
          2915,
          2925,
          2935,
          2945,
          2955,
          2965,
          2975,
          2985,
          2995,
          3005,
          3015,
          3025,
          3035,
          3045,
          3055,
          3065,
          3075,
          3085,
          3095,
          3105,
          3115,
          3125,
          3135,
          3145,
          3155,
          3165,
          3175,
          3185,
          3195,
          3205,
          3215,
          3225,
          3235,
          3245,
          3255,
          3265,
          3275,
          3285,
          3295,
          3305,
          3315,
          3325,
          3335,
          3345,
          3355,
          3365,
          3375,
          3385,
          3395,
          3405,
          3415,
          3425,
          3435,
          3445,
          3455,
          3465,
          3475,
          3485,
          3495,
          3505,
          3515,
          3525,
          3535,
          3545,
          3555,
          3565,
          3575,
          3585,
          3595,
          3605,
          3615,
          3625,
          3635,
          3645,
          3655,
          3665,
          3675,
          3685,
          3695,
          3705,
          3715,
          3725,
          3735,
          3745,
          3755,
          3765,
          3775,
          3785,
          3795,
          3805,
          3815,
          3825,
          3835,
          3845,
          3855,
          3865,
          3875,
          3885,
          3895,
          3905,
          3915,
          3925,
          3935,
          3945,
          3955,
          3965,
          3975,
          3985,
          3995,
          4005,
          4015,
          4025,
          4035,
          4045,
          4055,
          4065,
          4075,
          4085,
          4095,
          4105,
          4115,
          4125,
          4135,
          4145,
          4155,
          4165,
          4175,
          4185,
          4195,
          4205,
          4215,
          4225,
          4235,
          4245,
          4255,
          4265,
          4275,
          4285,
          4295,
          4305,
          4315,
          4325,
          4335,
          4345,
          4355,
          4365,
          4375,
          4385,
          4395,
          4405,
          4415,
          4425,
          4435,
          4445,
          4455,
          4465,
          4475,
          4485,
          4495,
          4505,
          4515,
          4525,
          4535,
          4545,
          4555,
          4565,
          4575,
          4585,
          4595,
          4605,
          4615,
          4625,
          4635,
          4645,
          4655,
          4665,
          4675,
          4685,
          4695,
          4705,
          4715,
          4725,
          4735,
          4745,
          4755,
          4765,
          4775,
          4785,
          4795,
          4805,
          4815,
          4825,
          4835,
          4845,
          4855,
          4865,
          4875,
          4885,
          4895,
          4905,
          4915,
          4925,
          4935,
          4945,
          4955,
          4965,
          4975,
          4985,
          4995,
          5005,
          5015,
          5025,
          5035,
          5045,
          5055,
          5065,
          5075,
          5085,
          5095,
          5105,
          5115,
          5125,
          5135,
          5145,
          5155,
          5165,
          5175,
          5185,
          5195,
          5205,
          5215,
          5225,
          5235,
          5245,
          5255,
          5265,
          5275,
          5285,
          5295,
          5305,
          5315,
          5325,
          5335,
          5345,
          5355,
          5365,
          5375,
          5385,
          5395,
          5405,
          5415,
          5425,
          5435,
          5445,
          5455,
          5465,
          5475,
          5485,
          5495,
          5505,
          5515,
          5525,
          5535,
          5545,
          5555,
          5565,
          5575,
          5585,
          5595,
          5605,
          5615,
          5625,
          5635,
          5645,
          5655,
          5665,
          5675,
          5685,
          5695,
          5705,
          5715,
          5725,
          5735,
          5745,
          5755,
          5765,
          5775,
          5785,
          5795,
          5805,
          5815,
          5825,
          5835,
          5845,
          5855,
          5865,
          5875,
          5885,
          5895,
          5905,
          5915,
          5925,
          5935,
          5945,
          5955,
          5965,
          5975,
          5985,
          5995,
          6005,
          6015,
          6025,
          6035,
          6045,
          6055,
          6065,
          6075,
          6085,
          6095,
          6105,
          6115,
          6125,
          6135,
          6145,
          6155,
          6165,
          6175,
          6185,
          6195,
          6205,
          6215,
          6225,
          6235,
          6245,
          6255,
          6265,
          6275,
          6285,
          6295,
          6305,
          6315,
          6325,
          6335,
          6345,
          6355,
          6365,
          6375,
          6385,
          6395,
          6405,
          6415,
          6425,
          6435,
          6445,
          6455,
          6465,
          6475,
          6485,
          6495,
          6505,
          6515,
          6525,
          6535,
          6545,
          6555,
          6565,
          6575,
          6585,
          6595,
          6605,
          6615,
          6625,
          6635,
          6645,
          6655,
          6665,
          6675,
          6685,
          6695,
          6705,
          6715,
          6725,
          6735,
          6745,
          6755,
          6765,
          6775,
          6785,
          6795,
          6805,
          6815,
          6825,
          6835,
          6845,
          6855,
          6865,
          6875,
          6885,
          6895,
          6905,
          6915,
          6925,
          6935,
          6945,
          6955,
          6965,
          6975,
          6985,
          6995,
          7005,
          7015,
          7025,
          7035,
          7045,
          7055,
          7065,
          7075,
          7085,
          7095,
          7105,
          7115,
          7125,
          7135,
          7145,
          7155,
          7165,
          7175,
          7185,
          7195,
          7205,
          7215,
          7225,
          7235,
          7245,
          7255,
          7265,
          7275,
          7285,
          7295,
          7305,
          7315,
          7325,
          7335,
          7345,
          7355,
          7365,
          7375,
          7385,
          7395,
          7405,
          7415,
          7425,
          7435,
          7445,
          7455,
          7465,
          7475,
          7485,
          7495,
          7505,
          7515,
          7525,
          7535,
          7545,
          7555,
          7565,
          7575,
          7585,
          7595,
          7605,
          7615,
          7625,
          7635,
          7645,
          7655,
          7665,
          7675,
          7685,
          7695,
          7705,
          7715,
          7725,
          7735,
          7745,
          7755,
          7765,
          7775,
          7785,
          7795,
          7805,
          7815,
          7825,
          7835,
          7845,
          7855,
          7865,
          7875,
          7885,
          7895,
          7905,
          7915,
          7925,
          7935,
          7945,
          7955,
          7965,
          7975,
          7985,
          7995,
          8005,
          8015,
          8025,
          8035,
          8045,
          8055,
          8065,
          8075,
          8085,
          8095,
          8105,
          8115,
          8125,
          8135,
          8145,
          8155,
          8165,
          8175,
          8185,
          8195,
          8205,
          8215,
          8225,
          8235,
          8245,
          8255,
          8265,
          8275,
          8285,
          8295,
          8305,
          8315,
          8325,
          8335,
          8345,
          8355,
          8365,
          8375,
          8385,
          8395,
          8405,
          8415,
          8425,
          8435,
          8445,
          8455,
          8465,
          8475,
          8485,
          8495,
          8505,
          8515,
          8525,
          8535,
          8545,
          8555,
          8565,
          8575,
          8585,
          8595,
          8605,
          8615,
          8625,
          8635,
          8645,
          8655,
          8665,
          8675,
          8685,
          8695,
          8705,
          8715,
          8725,
          8735,
          8745,
          8755,
          8765,
          8775,
          8785,
          8795,
          8805,
          8815,
          8825,
          8835,
          8845,
          8855,
          8865,
          8875,
          8885,
          8895,
          8905,
          8915,
          8925,
          8935,
          8945,
          8955,
          8965,
          8975,
          8985,
          8995,
          9005,
          9015,
          9025,
          9035,
          9045,
          9055,
          9065,
          9075,
          9085,
          9095,
          9105,
          9115,
          9125,
          9135,
          9145,
          9155,
          9165,
          9175,
          9185,
          9195,
          9205,
          9215,
          9225,
          9235,
          9245,
          9255,
          9265,
          9275,
          9285,
          9295,
          9305
         ],
         "type": "linear",
         "zeroline": false
        },
        "yaxis": {
         "mirror": "allticks",
         "rangemode": "tozero",
         "showgrid": false,
         "showline": true,
         "showticklabels": true,
         "ticks": "outside",
         "type": "linear",
         "zeroline": false
        }
       }
      },
      "text/html": [
       "<div>\n",
       "        \n",
       "        \n",
       "            <div id=\"5b9f8fac-8726-4c3f-9fb3-78c10fc2d9a7\" class=\"plotly-graph-div\" style=\"height:1200px; width:1200px;\"></div>\n",
       "            <script type=\"text/javascript\">\n",
       "                require([\"plotly\"], function(Plotly) {\n",
       "                    window.PLOTLYENV=window.PLOTLYENV || {};\n",
       "                    \n",
       "                if (document.getElementById(\"5b9f8fac-8726-4c3f-9fb3-78c10fc2d9a7\")) {\n",
       "                    Plotly.newPlot(\n",
       "                        '5b9f8fac-8726-4c3f-9fb3-78c10fc2d9a7',\n",
       "                        [{\"hoverinfo\": \"text\", \"marker\": {\"color\": \"rgb(0,116,217)\"}, \"mode\": \"lines\", \"type\": \"scatter\", \"x\": [15.0, 15.0, 25.0, 25.0], \"xaxis\": \"x\", \"y\": [0.0, 9.477753450274145, 9.477753450274145, 0.0], \"yaxis\": \"y\"}, {\"hoverinfo\": \"text\", \"marker\": {\"color\": \"rgb(61,153,112)\"}, \"mode\": \"lines\", \"type\": \"scatter\", \"x\": [55.0, 55.0, 65.0, 65.0], \"xaxis\": \"x\", \"y\": [0.0, 7.442111249743226, 7.442111249743226, 0.0], \"yaxis\": \"y\"}, {\"hoverinfo\": \"text\", \"marker\": {\"color\": \"rgb(61,153,112)\"}, \"mode\": \"lines\", \"type\": \"scatter\", \"x\": [45.0, 45.0, 60.0, 60.0], \"xaxis\": \"x\", \"y\": [0.0, 8.837915936991864, 8.837915936991864, 7.442111249743226], \"yaxis\": \"y\"}, {\"hoverinfo\": \"text\", \"marker\": {\"color\": \"rgb(0,116,217)\"}, \"mode\": \"lines\", \"type\": \"scatter\", \"x\": [35.0, 35.0, 52.5, 52.5], \"xaxis\": \"x\", \"y\": [0.0, 9.7634419232035, 9.7634419232035, 8.837915936991864], \"yaxis\": \"y\"}, {\"hoverinfo\": \"text\", \"marker\": {\"color\": \"rgb(0,116,217)\"}, \"mode\": \"lines\", \"type\": \"scatter\", \"x\": [20.0, 20.0, 43.75, 43.75], \"xaxis\": \"x\", \"y\": [9.477753450274145, 10.077123252053509, 10.077123252053509, 9.7634419232035], \"yaxis\": \"y\"}, {\"hoverinfo\": \"text\", \"marker\": {\"color\": \"rgb(0,116,217)\"}, \"mode\": \"lines\", \"type\": \"scatter\", \"x\": [5.0, 5.0, 31.875, 31.875], \"xaxis\": \"x\", \"y\": [0.0, 10.455003715618483, 10.455003715618483, 10.077123252053509], \"yaxis\": \"y\"}, {\"hoverinfo\": \"text\", \"marker\": {\"color\": \"rgb(0,116,217)\"}, \"mode\": \"lines\", \"type\": \"scatter\", \"x\": [85.0, 85.0, 95.0, 95.0], \"xaxis\": \"x\", \"y\": [0.0, 9.256824420668062, 9.256824420668062, 0.0], \"yaxis\": \"y\"}, {\"hoverinfo\": \"text\", \"marker\": {\"color\": \"rgb(0,116,217)\"}, \"mode\": \"lines\", \"type\": \"scatter\", \"x\": [75.0, 75.0, 90.0, 90.0], \"xaxis\": \"x\", \"y\": [0.0, 10.145320137305676, 10.145320137305676, 9.256824420668062], \"yaxis\": \"y\"}, {\"hoverinfo\": \"text\", \"marker\": {\"color\": \"rgb(0,116,217)\"}, \"mode\": \"lines\", \"type\": \"scatter\", \"x\": [115.0, 115.0, 125.0, 125.0], \"xaxis\": \"x\", \"y\": [0.0, 9.505071723532488, 9.505071723532488, 0.0], \"yaxis\": \"y\"}, {\"hoverinfo\": \"text\", \"marker\": {\"color\": \"rgb(0,116,217)\"}, \"mode\": \"lines\", \"type\": \"scatter\", \"x\": [105.0, 105.0, 120.0, 120.0], \"xaxis\": \"x\", \"y\": [0.0, 10.15107417591266, 10.15107417591266, 9.505071723532488], \"yaxis\": \"y\"}, {\"hoverinfo\": \"text\", \"marker\": {\"color\": \"rgb(0,116,217)\"}, \"mode\": \"lines\", \"type\": \"scatter\", \"x\": [82.5, 82.5, 112.5, 112.5], \"xaxis\": \"x\", \"y\": [10.145320137305676, 10.685976554223863, 10.685976554223863, 10.15107417591266], \"yaxis\": \"y\"}, {\"hoverinfo\": \"text\", \"marker\": {\"color\": \"rgb(255,65,54)\"}, \"mode\": \"lines\", \"type\": \"scatter\", \"x\": [145.0, 145.0, 155.0, 155.0], \"xaxis\": \"x\", \"y\": [0.0, 7.116653625642481, 7.116653625642481, 0.0], \"yaxis\": \"y\"}, {\"hoverinfo\": \"text\", \"marker\": {\"color\": \"rgb(255,65,54)\"}, \"mode\": \"lines\", \"type\": \"scatter\", \"x\": [135.0, 135.0, 150.0, 150.0], \"xaxis\": \"x\", \"y\": [0.0, 7.974702705130686, 7.974702705130686, 7.116653625642481], \"yaxis\": \"y\"}, {\"hoverinfo\": \"text\", \"marker\": {\"color\": \"rgb(255,65,54)\"}, \"mode\": \"lines\", \"type\": \"scatter\", \"x\": [185.0, 185.0, 195.0, 195.0], \"xaxis\": \"x\", \"y\": [0.0, 7.469647565659477, 7.469647565659477, 0.0], \"yaxis\": \"y\"}, {\"hoverinfo\": \"text\", \"marker\": {\"color\": \"rgb(255,65,54)\"}, \"mode\": \"lines\", \"type\": \"scatter\", \"x\": [175.0, 175.0, 190.0, 190.0], \"xaxis\": \"x\", \"y\": [0.0, 7.608007033296675, 7.608007033296675, 7.469647565659477], \"yaxis\": \"y\"}, {\"hoverinfo\": \"text\", \"marker\": {\"color\": \"rgb(255,65,54)\"}, \"mode\": \"lines\", \"type\": \"scatter\", \"x\": [165.0, 165.0, 182.5, 182.5], \"xaxis\": \"x\", \"y\": [0.0, 8.301163130416743, 8.301163130416743, 7.608007033296675], \"yaxis\": \"y\"}, {\"hoverinfo\": \"text\", \"marker\": {\"color\": \"rgb(255,65,54)\"}, \"mode\": \"lines\", \"type\": \"scatter\", \"x\": [142.5, 142.5, 173.75, 173.75], \"xaxis\": \"x\", \"y\": [7.974702705130686, 8.582665621376881, 8.582665621376881, 8.301163130416743], \"yaxis\": \"y\"}, {\"hoverinfo\": \"text\", \"marker\": {\"color\": \"rgb(255,65,54)\"}, \"mode\": \"lines\", \"type\": \"scatter\", \"x\": [225.0, 225.0, 235.0, 235.0], \"xaxis\": \"x\", \"y\": [0.0, 5.892337106140139, 5.892337106140139, 0.0], \"yaxis\": \"y\"}, {\"hoverinfo\": \"text\", \"marker\": {\"color\": \"rgb(255,65,54)\"}, \"mode\": \"lines\", \"type\": \"scatter\", \"x\": [215.0, 215.0, 230.0, 230.0], \"xaxis\": \"x\", \"y\": [0.0, 6.164888175937696, 6.164888175937696, 5.892337106140139], \"yaxis\": \"y\"}, {\"hoverinfo\": \"text\", \"marker\": {\"color\": \"rgb(255,65,54)\"}, \"mode\": \"lines\", \"type\": \"scatter\", \"x\": [205.0, 205.0, 222.5, 222.5], \"xaxis\": \"x\", \"y\": [0.0, 6.6690891022283925, 6.6690891022283925, 6.164888175937696], \"yaxis\": \"y\"}, {\"hoverinfo\": \"text\", \"marker\": {\"color\": \"rgb(255,65,54)\"}, \"mode\": \"lines\", \"type\": \"scatter\", \"x\": [245.0, 245.0, 255.0, 255.0], \"xaxis\": \"x\", \"y\": [0.0, 6.742458136694603, 6.742458136694603, 0.0], \"yaxis\": \"y\"}, {\"hoverinfo\": \"text\", \"marker\": {\"color\": \"rgb(255,65,54)\"}, \"mode\": \"lines\", \"type\": \"scatter\", \"x\": [213.75, 213.75, 250.0, 250.0], \"xaxis\": \"x\", \"y\": [6.6690891022283925, 7.226932951121487, 7.226932951121487, 6.742458136694603], \"yaxis\": \"y\"}, {\"hoverinfo\": \"text\", \"marker\": {\"color\": \"rgb(255,65,54)\"}, \"mode\": \"lines\", \"type\": \"scatter\", \"x\": [265.0, 265.0, 275.0, 275.0], \"xaxis\": \"x\", \"y\": [0.0, 7.5889182285779135, 7.5889182285779135, 0.0], \"yaxis\": \"y\"}, {\"hoverinfo\": \"text\", \"marker\": {\"color\": \"rgb(255,65,54)\"}, \"mode\": \"lines\", \"type\": \"scatter\", \"x\": [231.875, 231.875, 270.0, 270.0], \"xaxis\": \"x\", \"y\": [7.226932951121487, 7.837361961679283, 7.837361961679283, 7.5889182285779135], \"yaxis\": \"y\"}, {\"hoverinfo\": \"text\", \"marker\": {\"color\": \"rgb(255,65,54)\"}, \"mode\": \"lines\", \"type\": \"scatter\", \"x\": [305.0, 305.0, 315.0, 315.0], \"xaxis\": \"x\", \"y\": [0.0, 5.840113624832813, 5.840113624832813, 0.0], \"yaxis\": \"y\"}, {\"hoverinfo\": \"text\", \"marker\": {\"color\": \"rgb(255,65,54)\"}, \"mode\": \"lines\", \"type\": \"scatter\", \"x\": [295.0, 295.0, 310.0, 310.0], \"xaxis\": \"x\", \"y\": [0.0, 6.1853267548478525, 6.1853267548478525, 5.840113624832813], \"yaxis\": \"y\"}, {\"hoverinfo\": \"text\", \"marker\": {\"color\": \"rgb(255,65,54)\"}, \"mode\": \"lines\", \"type\": \"scatter\", \"x\": [335.0, 335.0, 345.0, 345.0], \"xaxis\": \"x\", \"y\": [0.0, 5.766215380489116, 5.766215380489116, 0.0], \"yaxis\": \"y\"}, {\"hoverinfo\": \"text\", \"marker\": {\"color\": \"rgb(255,65,54)\"}, \"mode\": \"lines\", \"type\": \"scatter\", \"x\": [325.0, 325.0, 340.0, 340.0], \"xaxis\": \"x\", \"y\": [0.0, 6.856065030273713, 6.856065030273713, 5.766215380489116], \"yaxis\": \"y\"}, {\"hoverinfo\": \"text\", \"marker\": {\"color\": \"rgb(255,65,54)\"}, \"mode\": \"lines\", \"type\": \"scatter\", \"x\": [302.5, 302.5, 332.5, 332.5], \"xaxis\": \"x\", \"y\": [6.1853267548478525, 6.893338476846174, 6.893338476846174, 6.856065030273713], \"yaxis\": \"y\"}, {\"hoverinfo\": \"text\", \"marker\": {\"color\": \"rgb(255,65,54)\"}, \"mode\": \"lines\", \"type\": \"scatter\", \"x\": [375.0, 375.0, 385.0, 385.0], \"xaxis\": \"x\", \"y\": [0.0, 5.915244198732737, 5.915244198732737, 0.0], \"yaxis\": \"y\"}, {\"hoverinfo\": \"text\", \"marker\": {\"color\": \"rgb(255,65,54)\"}, \"mode\": \"lines\", \"type\": \"scatter\", \"x\": [365.0, 365.0, 380.0, 380.0], \"xaxis\": \"x\", \"y\": [0.0, 6.035195683702382, 6.035195683702382, 5.915244198732737], \"yaxis\": \"y\"}, {\"hoverinfo\": \"text\", \"marker\": {\"color\": \"rgb(255,65,54)\"}, \"mode\": \"lines\", \"type\": \"scatter\", \"x\": [355.0, 355.0, 372.5, 372.5], \"xaxis\": \"x\", \"y\": [0.0, 7.280702051036035, 7.280702051036035, 6.035195683702382], \"yaxis\": \"y\"}, {\"hoverinfo\": \"text\", \"marker\": {\"color\": \"rgb(255,65,54)\"}, \"mode\": \"lines\", \"type\": \"scatter\", \"x\": [317.5, 317.5, 363.75, 363.75], \"xaxis\": \"x\", \"y\": [6.893338476846174, 7.439024000600749, 7.439024000600749, 7.280702051036035], \"yaxis\": \"y\"}, {\"hoverinfo\": \"text\", \"marker\": {\"color\": \"rgb(255,65,54)\"}, \"mode\": \"lines\", \"type\": \"scatter\", \"x\": [405.0, 405.0, 415.0, 415.0], \"xaxis\": \"x\", \"y\": [0.0, 6.7237824688685235, 6.7237824688685235, 0.0], \"yaxis\": \"y\"}, {\"hoverinfo\": \"text\", \"marker\": {\"color\": \"rgb(255,65,54)\"}, \"mode\": \"lines\", \"type\": \"scatter\", \"x\": [395.0, 395.0, 410.0, 410.0], \"xaxis\": \"x\", \"y\": [0.0, 7.116220632898423, 7.116220632898423, 6.7237824688685235], \"yaxis\": \"y\"}, {\"hoverinfo\": \"text\", \"marker\": {\"color\": \"rgb(255,65,54)\"}, \"mode\": \"lines\", \"type\": \"scatter\", \"x\": [435.0, 435.0, 445.0, 445.0], \"xaxis\": \"x\", \"y\": [0.0, 6.287837517869732, 6.287837517869732, 0.0], \"yaxis\": \"y\"}, {\"hoverinfo\": \"text\", \"marker\": {\"color\": \"rgb(255,65,54)\"}, \"mode\": \"lines\", \"type\": \"scatter\", \"x\": [425.0, 425.0, 440.0, 440.0], \"xaxis\": \"x\", \"y\": [0.0, 7.20510095102563, 7.20510095102563, 6.287837517869732], \"yaxis\": \"y\"}, {\"hoverinfo\": \"text\", \"marker\": {\"color\": \"rgb(255,65,54)\"}, \"mode\": \"lines\", \"type\": \"scatter\", \"x\": [402.5, 402.5, 432.5, 432.5], \"xaxis\": \"x\", \"y\": [7.116220632898423, 7.902230696245095, 7.902230696245095, 7.20510095102563], \"yaxis\": \"y\"}, {\"hoverinfo\": \"text\", \"marker\": {\"color\": \"rgb(255,65,54)\"}, \"mode\": \"lines\", \"type\": \"scatter\", \"x\": [340.625, 340.625, 417.5, 417.5], \"xaxis\": \"x\", \"y\": [7.439024000600749, 7.978207425733143, 7.978207425733143, 7.902230696245095], \"yaxis\": \"y\"}, {\"hoverinfo\": \"text\", \"marker\": {\"color\": \"rgb(255,65,54)\"}, \"mode\": \"lines\", \"type\": \"scatter\", \"x\": [285.0, 285.0, 379.0625, 379.0625], \"xaxis\": \"x\", \"y\": [0.0, 8.396567113325617, 8.396567113325617, 7.978207425733143], \"yaxis\": \"y\"}, {\"hoverinfo\": \"text\", \"marker\": {\"color\": \"rgb(255,65,54)\"}, \"mode\": \"lines\", \"type\": \"scatter\", \"x\": [250.9375, 250.9375, 332.03125, 332.03125], \"xaxis\": \"x\", \"y\": [7.837361961679283, 8.825782655161648, 8.825782655161648, 8.396567113325617], \"yaxis\": \"y\"}, {\"hoverinfo\": \"text\", \"marker\": {\"color\": \"rgb(255,65,54)\"}, \"mode\": \"lines\", \"type\": \"scatter\", \"x\": [158.125, 158.125, 291.484375, 291.484375], \"xaxis\": \"x\", \"y\": [8.582665621376881, 9.009724143611527, 9.009724143611527, 8.825782655161648], \"yaxis\": \"y\"}, {\"hoverinfo\": \"text\", \"marker\": {\"color\": \"rgb(35,205,205)\"}, \"mode\": \"lines\", \"type\": \"scatter\", \"x\": [465.0, 465.0, 475.0, 475.0], \"xaxis\": \"x\", \"y\": [0.0, 6.064111516209264, 6.064111516209264, 0.0], \"yaxis\": \"y\"}, {\"hoverinfo\": \"text\", \"marker\": {\"color\": \"rgb(35,205,205)\"}, \"mode\": \"lines\", \"type\": \"scatter\", \"x\": [455.0, 455.0, 470.0, 470.0], \"xaxis\": \"x\", \"y\": [0.0, 7.950460861215096, 7.950460861215096, 6.064111516209264], \"yaxis\": \"y\"}, {\"hoverinfo\": \"text\", \"marker\": {\"color\": \"rgb(35,205,205)\"}, \"mode\": \"lines\", \"type\": \"scatter\", \"x\": [485.0, 485.0, 495.0, 495.0], \"xaxis\": \"x\", \"y\": [0.0, 6.454445158624305, 6.454445158624305, 0.0], \"yaxis\": \"y\"}, {\"hoverinfo\": \"text\", \"marker\": {\"color\": \"rgb(35,205,205)\"}, \"mode\": \"lines\", \"type\": \"scatter\", \"x\": [505.0, 505.0, 515.0, 515.0], \"xaxis\": \"x\", \"y\": [0.0, 7.018731867402618, 7.018731867402618, 0.0], \"yaxis\": \"y\"}, {\"hoverinfo\": \"text\", \"marker\": {\"color\": \"rgb(35,205,205)\"}, \"mode\": \"lines\", \"type\": \"scatter\", \"x\": [490.0, 490.0, 510.0, 510.0], \"xaxis\": \"x\", \"y\": [6.454445158624305, 8.370968012393526, 8.370968012393526, 7.018731867402618], \"yaxis\": \"y\"}, {\"hoverinfo\": \"text\", \"marker\": {\"color\": \"rgb(35,205,205)\"}, \"mode\": \"lines\", \"type\": \"scatter\", \"x\": [462.5, 462.5, 500.0, 500.0], \"xaxis\": \"x\", \"y\": [7.950460861215096, 8.764924493175169, 8.764924493175169, 8.370968012393526], \"yaxis\": \"y\"}, {\"hoverinfo\": \"text\", \"marker\": {\"color\": \"rgb(133,20,75)\"}, \"mode\": \"lines\", \"type\": \"scatter\", \"x\": [565.0, 565.0, 575.0, 575.0], \"xaxis\": \"x\", \"y\": [0.0, 6.158097887418459, 6.158097887418459, 0.0], \"yaxis\": \"y\"}, {\"hoverinfo\": \"text\", \"marker\": {\"color\": \"rgb(133,20,75)\"}, \"mode\": \"lines\", \"type\": \"scatter\", \"x\": [555.0, 555.0, 570.0, 570.0], \"xaxis\": \"x\", \"y\": [0.0, 6.375149791463748, 6.375149791463748, 6.158097887418459], \"yaxis\": \"y\"}, {\"hoverinfo\": \"text\", \"marker\": {\"color\": \"rgb(133,20,75)\"}, \"mode\": \"lines\", \"type\": \"scatter\", \"x\": [545.0, 545.0, 562.5, 562.5], \"xaxis\": \"x\", \"y\": [0.0, 7.124838967863035, 7.124838967863035, 6.375149791463748], \"yaxis\": \"y\"}, {\"hoverinfo\": \"text\", \"marker\": {\"color\": \"rgb(133,20,75)\"}, \"mode\": \"lines\", \"type\": \"scatter\", \"x\": [535.0, 535.0, 553.75, 553.75], \"xaxis\": \"x\", \"y\": [0.0, 7.925810034439748, 7.925810034439748, 7.124838967863035], \"yaxis\": \"y\"}, {\"hoverinfo\": \"text\", \"marker\": {\"color\": \"rgb(133,20,75)\"}, \"mode\": \"lines\", \"type\": \"scatter\", \"x\": [525.0, 525.0, 544.375, 544.375], \"xaxis\": \"x\", \"y\": [0.0, 8.446123271712635, 8.446123271712635, 7.925810034439748], \"yaxis\": \"y\"}, {\"hoverinfo\": \"text\", \"marker\": {\"color\": \"rgb(133,20,75)\"}, \"mode\": \"lines\", \"type\": \"scatter\", \"x\": [595.0, 595.0, 605.0, 605.0], \"xaxis\": \"x\", \"y\": [0.0, 7.42205912295255, 7.42205912295255, 0.0], \"yaxis\": \"y\"}, {\"hoverinfo\": \"text\", \"marker\": {\"color\": \"rgb(133,20,75)\"}, \"mode\": \"lines\", \"type\": \"scatter\", \"x\": [585.0, 585.0, 600.0, 600.0], \"xaxis\": \"x\", \"y\": [0.0, 8.170997079383506, 8.170997079383506, 7.42205912295255], \"yaxis\": \"y\"}, {\"hoverinfo\": \"text\", \"marker\": {\"color\": \"rgb(133,20,75)\"}, \"mode\": \"lines\", \"type\": \"scatter\", \"x\": [625.0, 625.0, 635.0, 635.0], \"xaxis\": \"x\", \"y\": [0.0, 7.3250559954278796, 7.3250559954278796, 0.0], \"yaxis\": \"y\"}, {\"hoverinfo\": \"text\", \"marker\": {\"color\": \"rgb(133,20,75)\"}, \"mode\": \"lines\", \"type\": \"scatter\", \"x\": [615.0, 615.0, 630.0, 630.0], \"xaxis\": \"x\", \"y\": [0.0, 8.47707441781292, 8.47707441781292, 7.3250559954278796], \"yaxis\": \"y\"}, {\"hoverinfo\": \"text\", \"marker\": {\"color\": \"rgb(133,20,75)\"}, \"mode\": \"lines\", \"type\": \"scatter\", \"x\": [592.5, 592.5, 622.5, 622.5], \"xaxis\": \"x\", \"y\": [8.170997079383506, 8.862810946586855, 8.862810946586855, 8.47707441781292], \"yaxis\": \"y\"}, {\"hoverinfo\": \"text\", \"marker\": {\"color\": \"rgb(133,20,75)\"}, \"mode\": \"lines\", \"type\": \"scatter\", \"x\": [534.6875, 534.6875, 607.5, 607.5], \"xaxis\": \"x\", \"y\": [8.446123271712635, 9.077371017653537, 9.077371017653537, 8.862810946586855], \"yaxis\": \"y\"}, {\"hoverinfo\": \"text\", \"marker\": {\"color\": \"rgb(0,116,217)\"}, \"mode\": \"lines\", \"type\": \"scatter\", \"x\": [481.25, 481.25, 571.09375, 571.09375], \"xaxis\": \"x\", \"y\": [8.764924493175169, 9.290952261060381, 9.290952261060381, 9.077371017653537], \"yaxis\": \"y\"}, {\"hoverinfo\": \"text\", \"marker\": {\"color\": \"rgb(0,116,217)\"}, \"mode\": \"lines\", \"type\": \"scatter\", \"x\": [224.8046875, 224.8046875, 526.171875, 526.171875], \"xaxis\": \"x\", \"y\": [9.009724143611527, 9.353059786258891, 9.353059786258891, 9.290952261060381], \"yaxis\": \"y\"}, {\"hoverinfo\": \"text\", \"marker\": {\"color\": \"rgb(255,220,0)\"}, \"mode\": \"lines\", \"type\": \"scatter\", \"x\": [665.0, 665.0, 675.0, 675.0], \"xaxis\": \"x\", \"y\": [0.0, 5.933067765599914, 5.933067765599914, 0.0], \"yaxis\": \"y\"}, {\"hoverinfo\": \"text\", \"marker\": {\"color\": \"rgb(255,220,0)\"}, \"mode\": \"lines\", \"type\": \"scatter\", \"x\": [655.0, 655.0, 670.0, 670.0], \"xaxis\": \"x\", \"y\": [0.0, 8.087460814062592, 8.087460814062592, 5.933067765599914], \"yaxis\": \"y\"}, {\"hoverinfo\": \"text\", \"marker\": {\"color\": \"rgb(255,220,0)\"}, \"mode\": \"lines\", \"type\": \"scatter\", \"x\": [715.0, 715.0, 725.0, 725.0], \"xaxis\": \"x\", \"y\": [0.0, 6.950308336794758, 6.950308336794758, 0.0], \"yaxis\": \"y\"}, {\"hoverinfo\": \"text\", \"marker\": {\"color\": \"rgb(255,220,0)\"}, \"mode\": \"lines\", \"type\": \"scatter\", \"x\": [705.0, 705.0, 720.0, 720.0], \"xaxis\": \"x\", \"y\": [0.0, 7.556107815130714, 7.556107815130714, 6.950308336794758], \"yaxis\": \"y\"}, {\"hoverinfo\": \"text\", \"marker\": {\"color\": \"rgb(255,220,0)\"}, \"mode\": \"lines\", \"type\": \"scatter\", \"x\": [695.0, 695.0, 712.5, 712.5], \"xaxis\": \"x\", \"y\": [0.0, 7.786126995964155, 7.786126995964155, 7.556107815130714], \"yaxis\": \"y\"}, {\"hoverinfo\": \"text\", \"marker\": {\"color\": \"rgb(255,220,0)\"}, \"mode\": \"lines\", \"type\": \"scatter\", \"x\": [685.0, 685.0, 703.75, 703.75], \"xaxis\": \"x\", \"y\": [0.0, 8.506632311028628, 8.506632311028628, 7.786126995964155], \"yaxis\": \"y\"}, {\"hoverinfo\": \"text\", \"marker\": {\"color\": \"rgb(255,220,0)\"}, \"mode\": \"lines\", \"type\": \"scatter\", \"x\": [662.5, 662.5, 694.375, 694.375], \"xaxis\": \"x\", \"y\": [8.087460814062592, 8.98421557984739, 8.98421557984739, 8.506632311028628], \"yaxis\": \"y\"}, {\"hoverinfo\": \"text\", \"marker\": {\"color\": \"rgb(40,35,35)\"}, \"mode\": \"lines\", \"type\": \"scatter\", \"x\": [755.0, 755.0, 765.0, 765.0], \"xaxis\": \"x\", \"y\": [0.0, 6.118760719113778, 6.118760719113778, 0.0], \"yaxis\": \"y\"}, {\"hoverinfo\": \"text\", \"marker\": {\"color\": \"rgb(40,35,35)\"}, \"mode\": \"lines\", \"type\": \"scatter\", \"x\": [745.0, 745.0, 760.0, 760.0], \"xaxis\": \"x\", \"y\": [0.0, 6.3537436822415785, 6.3537436822415785, 6.118760719113778], \"yaxis\": \"y\"}, {\"hoverinfo\": \"text\", \"marker\": {\"color\": \"rgb(40,35,35)\"}, \"mode\": \"lines\", \"type\": \"scatter\", \"x\": [735.0, 735.0, 752.5, 752.5], \"xaxis\": \"x\", \"y\": [0.0, 6.9932279913354, 6.9932279913354, 6.3537436822415785], \"yaxis\": \"y\"}, {\"hoverinfo\": \"text\", \"marker\": {\"color\": \"rgb(40,35,35)\"}, \"mode\": \"lines\", \"type\": \"scatter\", \"x\": [785.0, 785.0, 795.0, 795.0], \"xaxis\": \"x\", \"y\": [0.0, 6.352345343250467, 6.352345343250467, 0.0], \"yaxis\": \"y\"}, {\"hoverinfo\": \"text\", \"marker\": {\"color\": \"rgb(40,35,35)\"}, \"mode\": \"lines\", \"type\": \"scatter\", \"x\": [775.0, 775.0, 790.0, 790.0], \"xaxis\": \"x\", \"y\": [0.0, 7.46806228436681, 7.46806228436681, 6.352345343250467], \"yaxis\": \"y\"}, {\"hoverinfo\": \"text\", \"marker\": {\"color\": \"rgb(40,35,35)\"}, \"mode\": \"lines\", \"type\": \"scatter\", \"x\": [743.75, 743.75, 782.5, 782.5], \"xaxis\": \"x\", \"y\": [6.9932279913354, 8.26574620379051, 8.26574620379051, 7.46806228436681], \"yaxis\": \"y\"}, {\"hoverinfo\": \"text\", \"marker\": {\"color\": \"rgb(40,35,35)\"}, \"mode\": \"lines\", \"type\": \"scatter\", \"x\": [815.0, 815.0, 825.0, 825.0], \"xaxis\": \"x\", \"y\": [0.0, 7.5824429872728585, 7.5824429872728585, 0.0], \"yaxis\": \"y\"}, {\"hoverinfo\": \"text\", \"marker\": {\"color\": \"rgb(40,35,35)\"}, \"mode\": \"lines\", \"type\": \"scatter\", \"x\": [805.0, 805.0, 820.0, 820.0], \"xaxis\": \"x\", \"y\": [0.0, 8.402590335998617, 8.402590335998617, 7.5824429872728585], \"yaxis\": \"y\"}, {\"hoverinfo\": \"text\", \"marker\": {\"color\": \"rgb(40,35,35)\"}, \"mode\": \"lines\", \"type\": \"scatter\", \"x\": [763.125, 763.125, 812.5, 812.5], \"xaxis\": \"x\", \"y\": [8.26574620379051, 8.756883353279044, 8.756883353279044, 8.402590335998617], \"yaxis\": \"y\"}, {\"hoverinfo\": \"text\", \"marker\": {\"color\": \"rgb(61,153,112)\"}, \"mode\": \"lines\", \"type\": \"scatter\", \"x\": [835.0, 835.0, 845.0, 845.0], \"xaxis\": \"x\", \"y\": [0.0, 6.13879045029043, 6.13879045029043, 0.0], \"yaxis\": \"y\"}, {\"hoverinfo\": \"text\", \"marker\": {\"color\": \"rgb(61,153,112)\"}, \"mode\": \"lines\", \"type\": \"scatter\", \"x\": [855.0, 855.0, 865.0, 865.0], \"xaxis\": \"x\", \"y\": [0.0, 6.467088301852725, 6.467088301852725, 0.0], \"yaxis\": \"y\"}, {\"hoverinfo\": \"text\", \"marker\": {\"color\": \"rgb(61,153,112)\"}, \"mode\": \"lines\", \"type\": \"scatter\", \"x\": [840.0, 840.0, 860.0, 860.0], \"xaxis\": \"x\", \"y\": [6.13879045029043, 7.156251587284107, 7.156251587284107, 6.467088301852725], \"yaxis\": \"y\"}, {\"hoverinfo\": \"text\", \"marker\": {\"color\": \"rgb(61,153,112)\"}, \"mode\": \"lines\", \"type\": \"scatter\", \"x\": [885.0, 885.0, 895.0, 895.0], \"xaxis\": \"x\", \"y\": [0.0, 6.516945039643116, 6.516945039643116, 0.0], \"yaxis\": \"y\"}, {\"hoverinfo\": \"text\", \"marker\": {\"color\": \"rgb(61,153,112)\"}, \"mode\": \"lines\", \"type\": \"scatter\", \"x\": [875.0, 875.0, 890.0, 890.0], \"xaxis\": \"x\", \"y\": [0.0, 7.367849021045905, 7.367849021045905, 6.516945039643116], \"yaxis\": \"y\"}, {\"hoverinfo\": \"text\", \"marker\": {\"color\": \"rgb(61,153,112)\"}, \"mode\": \"lines\", \"type\": \"scatter\", \"x\": [850.0, 850.0, 882.5, 882.5], \"xaxis\": \"x\", \"y\": [7.156251587284107, 7.771845884705558, 7.771845884705558, 7.367849021045905], \"yaxis\": \"y\"}, {\"hoverinfo\": \"text\", \"marker\": {\"color\": \"rgb(61,153,112)\"}, \"mode\": \"lines\", \"type\": \"scatter\", \"x\": [905.0, 905.0, 915.0, 915.0], \"xaxis\": \"x\", \"y\": [0.0, 5.433362492355711, 5.433362492355711, 0.0], \"yaxis\": \"y\"}, {\"hoverinfo\": \"text\", \"marker\": {\"color\": \"rgb(61,153,112)\"}, \"mode\": \"lines\", \"type\": \"scatter\", \"x\": [925.0, 925.0, 935.0, 935.0], \"xaxis\": \"x\", \"y\": [0.0, 5.582817548679754, 5.582817548679754, 0.0], \"yaxis\": \"y\"}, {\"hoverinfo\": \"text\", \"marker\": {\"color\": \"rgb(61,153,112)\"}, \"mode\": \"lines\", \"type\": \"scatter\", \"x\": [910.0, 910.0, 930.0, 930.0], \"xaxis\": \"x\", \"y\": [5.433362492355711, 6.577330371231938, 6.577330371231938, 5.582817548679754], \"yaxis\": \"y\"}, {\"hoverinfo\": \"text\", \"marker\": {\"color\": \"rgb(61,153,112)\"}, \"mode\": \"lines\", \"type\": \"scatter\", \"x\": [965.0, 965.0, 975.0, 975.0], \"xaxis\": \"x\", \"y\": [0.0, 5.167005806914565, 5.167005806914565, 0.0], \"yaxis\": \"y\"}, {\"hoverinfo\": \"text\", \"marker\": {\"color\": \"rgb(61,153,112)\"}, \"mode\": \"lines\", \"type\": \"scatter\", \"x\": [955.0, 955.0, 970.0, 970.0], \"xaxis\": \"x\", \"y\": [0.0, 5.702805496173619, 5.702805496173619, 5.167005806914565], \"yaxis\": \"y\"}, {\"hoverinfo\": \"text\", \"marker\": {\"color\": \"rgb(61,153,112)\"}, \"mode\": \"lines\", \"type\": \"scatter\", \"x\": [945.0, 945.0, 962.5, 962.5], \"xaxis\": \"x\", \"y\": [0.0, 6.115021926086967, 6.115021926086967, 5.702805496173619], \"yaxis\": \"y\"}, {\"hoverinfo\": \"text\", \"marker\": {\"color\": \"rgb(61,153,112)\"}, \"mode\": \"lines\", \"type\": \"scatter\", \"x\": [985.0, 985.0, 995.0, 995.0], \"xaxis\": \"x\", \"y\": [0.0, 6.537228302670202, 6.537228302670202, 0.0], \"yaxis\": \"y\"}, {\"hoverinfo\": \"text\", \"marker\": {\"color\": \"rgb(61,153,112)\"}, \"mode\": \"lines\", \"type\": \"scatter\", \"x\": [953.75, 953.75, 990.0, 990.0], \"xaxis\": \"x\", \"y\": [6.115021926086967, 7.221630156078871, 7.221630156078871, 6.537228302670202], \"yaxis\": \"y\"}, {\"hoverinfo\": \"text\", \"marker\": {\"color\": \"rgb(61,153,112)\"}, \"mode\": \"lines\", \"type\": \"scatter\", \"x\": [920.0, 920.0, 971.875, 971.875], \"xaxis\": \"x\", \"y\": [6.577330371231938, 7.877630386755786, 7.877630386755786, 7.221630156078871], \"yaxis\": \"y\"}, {\"hoverinfo\": \"text\", \"marker\": {\"color\": \"rgb(61,153,112)\"}, \"mode\": \"lines\", \"type\": \"scatter\", \"x\": [866.25, 866.25, 945.9375, 945.9375], \"xaxis\": \"x\", \"y\": [7.771845884705558, 8.253536162857907, 8.253536162857907, 7.877630386755786], \"yaxis\": \"y\"}, {\"hoverinfo\": \"text\", \"marker\": {\"color\": \"rgb(61,153,112)\"}, \"mode\": \"lines\", \"type\": \"scatter\", \"x\": [1005.0, 1005.0, 1015.0, 1015.0], \"xaxis\": \"x\", \"y\": [0.0, 6.761546563085731, 6.761546563085731, 0.0], \"yaxis\": \"y\"}, {\"hoverinfo\": \"text\", \"marker\": {\"color\": \"rgb(61,153,112)\"}, \"mode\": \"lines\", \"type\": \"scatter\", \"x\": [1025.0, 1025.0, 1035.0, 1035.0], \"xaxis\": \"x\", \"y\": [0.0, 7.822725778881073, 7.822725778881073, 0.0], \"yaxis\": \"y\"}, {\"hoverinfo\": \"text\", \"marker\": {\"color\": \"rgb(61,153,112)\"}, \"mode\": \"lines\", \"type\": \"scatter\", \"x\": [1010.0, 1010.0, 1030.0, 1030.0], \"xaxis\": \"x\", \"y\": [6.761546563085731, 8.331381410841832, 8.331381410841832, 7.822725778881073], \"yaxis\": \"y\"}, {\"hoverinfo\": \"text\", \"marker\": {\"color\": \"rgb(61,153,112)\"}, \"mode\": \"lines\", \"type\": \"scatter\", \"x\": [906.09375, 906.09375, 1020.0, 1020.0], \"xaxis\": \"x\", \"y\": [8.253536162857907, 8.685258970163604, 8.685258970163604, 8.331381410841832], \"yaxis\": \"y\"}, {\"hoverinfo\": \"text\", \"marker\": {\"color\": \"rgb(255,65,54)\"}, \"mode\": \"lines\", \"type\": \"scatter\", \"x\": [1045.0, 1045.0, 1055.0, 1055.0], \"xaxis\": \"x\", \"y\": [0.0, 7.225958700422112, 7.225958700422112, 0.0], \"yaxis\": \"y\"}, {\"hoverinfo\": \"text\", \"marker\": {\"color\": \"rgb(255,65,54)\"}, \"mode\": \"lines\", \"type\": \"scatter\", \"x\": [1075.0, 1075.0, 1085.0, 1085.0], \"xaxis\": \"x\", \"y\": [0.0, 6.186812175148887, 6.186812175148887, 0.0], \"yaxis\": \"y\"}, {\"hoverinfo\": \"text\", \"marker\": {\"color\": \"rgb(255,65,54)\"}, \"mode\": \"lines\", \"type\": \"scatter\", \"x\": [1095.0, 1095.0, 1105.0, 1105.0], \"xaxis\": \"x\", \"y\": [0.0, 6.189336560959054, 6.189336560959054, 0.0], \"yaxis\": \"y\"}, {\"hoverinfo\": \"text\", \"marker\": {\"color\": \"rgb(255,65,54)\"}, \"mode\": \"lines\", \"type\": \"scatter\", \"x\": [1080.0, 1080.0, 1100.0, 1100.0], \"xaxis\": \"x\", \"y\": [6.186812175148887, 6.868640915893088, 6.868640915893088, 6.189336560959054], \"yaxis\": \"y\"}, {\"hoverinfo\": \"text\", \"marker\": {\"color\": \"rgb(255,65,54)\"}, \"mode\": \"lines\", \"type\": \"scatter\", \"x\": [1065.0, 1065.0, 1090.0, 1090.0], \"xaxis\": \"x\", \"y\": [0.0, 7.306451264222574, 7.306451264222574, 6.868640915893088], \"yaxis\": \"y\"}, {\"hoverinfo\": \"text\", \"marker\": {\"color\": \"rgb(255,65,54)\"}, \"mode\": \"lines\", \"type\": \"scatter\", \"x\": [1125.0, 1125.0, 1135.0, 1135.0], \"xaxis\": \"x\", \"y\": [0.0, 6.686638294874985, 6.686638294874985, 0.0], \"yaxis\": \"y\"}, {\"hoverinfo\": \"text\", \"marker\": {\"color\": \"rgb(255,65,54)\"}, \"mode\": \"lines\", \"type\": \"scatter\", \"x\": [1115.0, 1115.0, 1130.0, 1130.0], \"xaxis\": \"x\", \"y\": [0.0, 7.477665251512646, 7.477665251512646, 6.686638294874985], \"yaxis\": \"y\"}, {\"hoverinfo\": \"text\", \"marker\": {\"color\": \"rgb(255,65,54)\"}, \"mode\": \"lines\", \"type\": \"scatter\", \"x\": [1077.5, 1077.5, 1122.5, 1122.5], \"xaxis\": \"x\", \"y\": [7.306451264222574, 7.769109362834478, 7.769109362834478, 7.477665251512646], \"yaxis\": \"y\"}, {\"hoverinfo\": \"text\", \"marker\": {\"color\": \"rgb(255,65,54)\"}, \"mode\": \"lines\", \"type\": \"scatter\", \"x\": [1050.0, 1050.0, 1100.0, 1100.0], \"xaxis\": \"x\", \"y\": [7.225958700422112, 8.148329440500508, 8.148329440500508, 7.769109362834478], \"yaxis\": \"y\"}, {\"hoverinfo\": \"text\", \"marker\": {\"color\": \"rgb(255,65,54)\"}, \"mode\": \"lines\", \"type\": \"scatter\", \"x\": [1155.0, 1155.0, 1165.0, 1165.0], \"xaxis\": \"x\", \"y\": [0.0, 6.301273172187146, 6.301273172187146, 0.0], \"yaxis\": \"y\"}, {\"hoverinfo\": \"text\", \"marker\": {\"color\": \"rgb(255,65,54)\"}, \"mode\": \"lines\", \"type\": \"scatter\", \"x\": [1175.0, 1175.0, 1185.0, 1185.0], \"xaxis\": \"x\", \"y\": [0.0, 6.390969271723506, 6.390969271723506, 0.0], \"yaxis\": \"y\"}, {\"hoverinfo\": \"text\", \"marker\": {\"color\": \"rgb(255,65,54)\"}, \"mode\": \"lines\", \"type\": \"scatter\", \"x\": [1160.0, 1160.0, 1180.0, 1180.0], \"xaxis\": \"x\", \"y\": [6.301273172187146, 7.1329790025026005, 7.1329790025026005, 6.390969271723506], \"yaxis\": \"y\"}, {\"hoverinfo\": \"text\", \"marker\": {\"color\": \"rgb(255,65,54)\"}, \"mode\": \"lines\", \"type\": \"scatter\", \"x\": [1145.0, 1145.0, 1170.0, 1170.0], \"xaxis\": \"x\", \"y\": [0.0, 7.695814552445606, 7.695814552445606, 7.1329790025026005], \"yaxis\": \"y\"}, {\"hoverinfo\": \"text\", \"marker\": {\"color\": \"rgb(255,65,54)\"}, \"mode\": \"lines\", \"type\": \"scatter\", \"x\": [1195.0, 1195.0, 1205.0, 1205.0], \"xaxis\": \"x\", \"y\": [0.0, 6.094601207781587, 6.094601207781587, 0.0], \"yaxis\": \"y\"}, {\"hoverinfo\": \"text\", \"marker\": {\"color\": \"rgb(255,65,54)\"}, \"mode\": \"lines\", \"type\": \"scatter\", \"x\": [1225.0, 1225.0, 1235.0, 1235.0], \"xaxis\": \"x\", \"y\": [0.0, 6.186002527135236, 6.186002527135236, 0.0], \"yaxis\": \"y\"}, {\"hoverinfo\": \"text\", \"marker\": {\"color\": \"rgb(255,65,54)\"}, \"mode\": \"lines\", \"type\": \"scatter\", \"x\": [1215.0, 1215.0, 1230.0, 1230.0], \"xaxis\": \"x\", \"y\": [0.0, 6.535496005419421, 6.535496005419421, 6.186002527135236], \"yaxis\": \"y\"}, {\"hoverinfo\": \"text\", \"marker\": {\"color\": \"rgb(255,65,54)\"}, \"mode\": \"lines\", \"type\": \"scatter\", \"x\": [1200.0, 1200.0, 1222.5, 1222.5], \"xaxis\": \"x\", \"y\": [6.094601207781587, 7.424459851671713, 7.424459851671713, 6.535496005419421], \"yaxis\": \"y\"}, {\"hoverinfo\": \"text\", \"marker\": {\"color\": \"rgb(255,65,54)\"}, \"mode\": \"lines\", \"type\": \"scatter\", \"x\": [1245.0, 1245.0, 1255.0, 1255.0], \"xaxis\": \"x\", \"y\": [0.0, 6.322035580722838, 6.322035580722838, 0.0], \"yaxis\": \"y\"}, {\"hoverinfo\": \"text\", \"marker\": {\"color\": \"rgb(255,65,54)\"}, \"mode\": \"lines\", \"type\": \"scatter\", \"x\": [1275.0, 1275.0, 1285.0, 1285.0], \"xaxis\": \"x\", \"y\": [0.0, 6.404486592747604, 6.404486592747604, 0.0], \"yaxis\": \"y\"}, {\"hoverinfo\": \"text\", \"marker\": {\"color\": \"rgb(255,65,54)\"}, \"mode\": \"lines\", \"type\": \"scatter\", \"x\": [1265.0, 1265.0, 1280.0, 1280.0], \"xaxis\": \"x\", \"y\": [0.0, 7.085914660009358, 7.085914660009358, 6.404486592747604], \"yaxis\": \"y\"}, {\"hoverinfo\": \"text\", \"marker\": {\"color\": \"rgb(255,65,54)\"}, \"mode\": \"lines\", \"type\": \"scatter\", \"x\": [1250.0, 1250.0, 1272.5, 1272.5], \"xaxis\": \"x\", \"y\": [6.322035580722838, 7.35287946183056, 7.35287946183056, 7.085914660009358], \"yaxis\": \"y\"}, {\"hoverinfo\": \"text\", \"marker\": {\"color\": \"rgb(255,65,54)\"}, \"mode\": \"lines\", \"type\": \"scatter\", \"x\": [1305.0, 1305.0, 1315.0, 1315.0], \"xaxis\": \"x\", \"y\": [0.0, 5.238767628312305, 5.238767628312305, 0.0], \"yaxis\": \"y\"}, {\"hoverinfo\": \"text\", \"marker\": {\"color\": \"rgb(255,65,54)\"}, \"mode\": \"lines\", \"type\": \"scatter\", \"x\": [1295.0, 1295.0, 1310.0, 1310.0], \"xaxis\": \"x\", \"y\": [0.0, 6.800999039052948, 6.800999039052948, 5.238767628312305], \"yaxis\": \"y\"}, {\"hoverinfo\": \"text\", \"marker\": {\"color\": \"rgb(255,65,54)\"}, \"mode\": \"lines\", \"type\": \"scatter\", \"x\": [1325.0, 1325.0, 1335.0, 1335.0], \"xaxis\": \"x\", \"y\": [0.0, 6.004254997729834, 6.004254997729834, 0.0], \"yaxis\": \"y\"}, {\"hoverinfo\": \"text\", \"marker\": {\"color\": \"rgb(255,65,54)\"}, \"mode\": \"lines\", \"type\": \"scatter\", \"x\": [1345.0, 1345.0, 1355.0, 1355.0], \"xaxis\": \"x\", \"y\": [0.0, 6.197529747936563, 6.197529747936563, 0.0], \"yaxis\": \"y\"}, {\"hoverinfo\": \"text\", \"marker\": {\"color\": \"rgb(255,65,54)\"}, \"mode\": \"lines\", \"type\": \"scatter\", \"x\": [1330.0, 1330.0, 1350.0, 1350.0], \"xaxis\": \"x\", \"y\": [6.004254997729834, 7.2117889127849155, 7.2117889127849155, 6.197529747936563], \"yaxis\": \"y\"}, {\"hoverinfo\": \"text\", \"marker\": {\"color\": \"rgb(255,65,54)\"}, \"mode\": \"lines\", \"type\": \"scatter\", \"x\": [1302.5, 1302.5, 1340.0, 1340.0], \"xaxis\": \"x\", \"y\": [6.800999039052948, 7.7400706234227235, 7.7400706234227235, 7.2117889127849155], \"yaxis\": \"y\"}, {\"hoverinfo\": \"text\", \"marker\": {\"color\": \"rgb(255,65,54)\"}, \"mode\": \"lines\", \"type\": \"scatter\", \"x\": [1261.25, 1261.25, 1321.25, 1321.25], \"xaxis\": \"x\", \"y\": [7.35287946183056, 7.8915080841285565, 7.8915080841285565, 7.7400706234227235], \"yaxis\": \"y\"}, {\"hoverinfo\": \"text\", \"marker\": {\"color\": \"rgb(255,65,54)\"}, \"mode\": \"lines\", \"type\": \"scatter\", \"x\": [1211.25, 1211.25, 1291.25, 1291.25], \"xaxis\": \"x\", \"y\": [7.424459851671713, 7.968908771516982, 7.968908771516982, 7.8915080841285565], \"yaxis\": \"y\"}, {\"hoverinfo\": \"text\", \"marker\": {\"color\": \"rgb(255,65,54)\"}, \"mode\": \"lines\", \"type\": \"scatter\", \"x\": [1157.5, 1157.5, 1251.25, 1251.25], \"xaxis\": \"x\", \"y\": [7.695814552445606, 8.449297003572024, 8.449297003572024, 7.968908771516982], \"yaxis\": \"y\"}, {\"hoverinfo\": \"text\", \"marker\": {\"color\": \"rgb(255,65,54)\"}, \"mode\": \"lines\", \"type\": \"scatter\", \"x\": [1075.0, 1075.0, 1204.375, 1204.375], \"xaxis\": \"x\", \"y\": [8.148329440500508, 8.486216170085378, 8.486216170085378, 8.449297003572024], \"yaxis\": \"y\"}, {\"hoverinfo\": \"text\", \"marker\": {\"color\": \"rgb(255,65,54)\"}, \"mode\": \"lines\", \"type\": \"scatter\", \"x\": [1365.0, 1365.0, 1375.0, 1375.0], \"xaxis\": \"x\", \"y\": [0.0, 6.755667731630233, 6.755667731630233, 0.0], \"yaxis\": \"y\"}, {\"hoverinfo\": \"text\", \"marker\": {\"color\": \"rgb(255,65,54)\"}, \"mode\": \"lines\", \"type\": \"scatter\", \"x\": [1385.0, 1385.0, 1395.0, 1395.0], \"xaxis\": \"x\", \"y\": [0.0, 5.782606986490787, 5.782606986490787, 0.0], \"yaxis\": \"y\"}, {\"hoverinfo\": \"text\", \"marker\": {\"color\": \"rgb(255,65,54)\"}, \"mode\": \"lines\", \"type\": \"scatter\", \"x\": [1405.0, 1405.0, 1415.0, 1415.0], \"xaxis\": \"x\", \"y\": [0.0, 6.157249503184048, 6.157249503184048, 0.0], \"yaxis\": \"y\"}, {\"hoverinfo\": \"text\", \"marker\": {\"color\": \"rgb(255,65,54)\"}, \"mode\": \"lines\", \"type\": \"scatter\", \"x\": [1390.0, 1390.0, 1410.0, 1410.0], \"xaxis\": \"x\", \"y\": [5.782606986490787, 7.183274945493852, 7.183274945493852, 6.157249503184048], \"yaxis\": \"y\"}, {\"hoverinfo\": \"text\", \"marker\": {\"color\": \"rgb(255,65,54)\"}, \"mode\": \"lines\", \"type\": \"scatter\", \"x\": [1370.0, 1370.0, 1400.0, 1400.0], \"xaxis\": \"x\", \"y\": [6.755667731630233, 7.596710501797971, 7.596710501797971, 7.183274945493852], \"yaxis\": \"y\"}, {\"hoverinfo\": \"text\", \"marker\": {\"color\": \"rgb(255,65,54)\"}, \"mode\": \"lines\", \"type\": \"scatter\", \"x\": [1425.0, 1425.0, 1435.0, 1435.0], \"xaxis\": \"x\", \"y\": [0.0, 6.167276551350689, 6.167276551350689, 0.0], \"yaxis\": \"y\"}, {\"hoverinfo\": \"text\", \"marker\": {\"color\": \"rgb(255,65,54)\"}, \"mode\": \"lines\", \"type\": \"scatter\", \"x\": [1445.0, 1445.0, 1455.0, 1455.0], \"xaxis\": \"x\", \"y\": [0.0, 7.062521065084401, 7.062521065084401, 0.0], \"yaxis\": \"y\"}, {\"hoverinfo\": \"text\", \"marker\": {\"color\": \"rgb(255,65,54)\"}, \"mode\": \"lines\", \"type\": \"scatter\", \"x\": [1430.0, 1430.0, 1450.0, 1450.0], \"xaxis\": \"x\", \"y\": [6.167276551350689, 8.013355212434819, 8.013355212434819, 7.062521065084401], \"yaxis\": \"y\"}, {\"hoverinfo\": \"text\", \"marker\": {\"color\": \"rgb(255,65,54)\"}, \"mode\": \"lines\", \"type\": \"scatter\", \"x\": [1385.0, 1385.0, 1440.0, 1440.0], \"xaxis\": \"x\", \"y\": [7.596710501797971, 8.559538986130008, 8.559538986130008, 8.013355212434819], \"yaxis\": \"y\"}, {\"hoverinfo\": \"text\", \"marker\": {\"color\": \"rgb(255,65,54)\"}, \"mode\": \"lines\", \"type\": \"scatter\", \"x\": [1465.0, 1465.0, 1475.0, 1475.0], \"xaxis\": \"x\", \"y\": [0.0, 6.003637306756656, 6.003637306756656, 0.0], \"yaxis\": \"y\"}, {\"hoverinfo\": \"text\", \"marker\": {\"color\": \"rgb(255,65,54)\"}, \"mode\": \"lines\", \"type\": \"scatter\", \"x\": [1505.0, 1505.0, 1515.0, 1515.0], \"xaxis\": \"x\", \"y\": [0.0, 6.192840901075916, 6.192840901075916, 0.0], \"yaxis\": \"y\"}, {\"hoverinfo\": \"text\", \"marker\": {\"color\": \"rgb(255,65,54)\"}, \"mode\": \"lines\", \"type\": \"scatter\", \"x\": [1495.0, 1495.0, 1510.0, 1510.0], \"xaxis\": \"x\", \"y\": [0.0, 6.455066241085103, 6.455066241085103, 6.192840901075916], \"yaxis\": \"y\"}, {\"hoverinfo\": \"text\", \"marker\": {\"color\": \"rgb(255,65,54)\"}, \"mode\": \"lines\", \"type\": \"scatter\", \"x\": [1485.0, 1485.0, 1502.5, 1502.5], \"xaxis\": \"x\", \"y\": [0.0, 6.910350800536689, 6.910350800536689, 6.455066241085103], \"yaxis\": \"y\"}, {\"hoverinfo\": \"text\", \"marker\": {\"color\": \"rgb(255,65,54)\"}, \"mode\": \"lines\", \"type\": \"scatter\", \"x\": [1525.0, 1525.0, 1535.0, 1535.0], \"xaxis\": \"x\", \"y\": [0.0, 5.777872998599355, 5.777872998599355, 0.0], \"yaxis\": \"y\"}, {\"hoverinfo\": \"text\", \"marker\": {\"color\": \"rgb(255,65,54)\"}, \"mode\": \"lines\", \"type\": \"scatter\", \"x\": [1545.0, 1545.0, 1555.0, 1555.0], \"xaxis\": \"x\", \"y\": [0.0, 6.493647615410747, 6.493647615410747, 0.0], \"yaxis\": \"y\"}, {\"hoverinfo\": \"text\", \"marker\": {\"color\": \"rgb(255,65,54)\"}, \"mode\": \"lines\", \"type\": \"scatter\", \"x\": [1530.0, 1530.0, 1550.0, 1550.0], \"xaxis\": \"x\", \"y\": [5.777872998599355, 7.218514763813616, 7.218514763813616, 6.493647615410747], \"yaxis\": \"y\"}, {\"hoverinfo\": \"text\", \"marker\": {\"color\": \"rgb(255,65,54)\"}, \"mode\": \"lines\", \"type\": \"scatter\", \"x\": [1493.75, 1493.75, 1540.0, 1540.0], \"xaxis\": \"x\", \"y\": [6.910350800536689, 7.715619807426052, 7.715619807426052, 7.218514763813616], \"yaxis\": \"y\"}, {\"hoverinfo\": \"text\", \"marker\": {\"color\": \"rgb(255,65,54)\"}, \"mode\": \"lines\", \"type\": \"scatter\", \"x\": [1470.0, 1470.0, 1516.875, 1516.875], \"xaxis\": \"x\", \"y\": [6.003637306756656, 8.101419754396971, 8.101419754396971, 7.715619807426052], \"yaxis\": \"y\"}, {\"hoverinfo\": \"text\", \"marker\": {\"color\": \"rgb(255,65,54)\"}, \"mode\": \"lines\", \"type\": \"scatter\", \"x\": [1585.0, 1585.0, 1595.0, 1595.0], \"xaxis\": \"x\", \"y\": [0.0, 6.605206559339199, 6.605206559339199, 0.0], \"yaxis\": \"y\"}, {\"hoverinfo\": \"text\", \"marker\": {\"color\": \"rgb(255,65,54)\"}, \"mode\": \"lines\", \"type\": \"scatter\", \"x\": [1575.0, 1575.0, 1590.0, 1590.0], \"xaxis\": \"x\", \"y\": [0.0, 7.1617472871110355, 7.1617472871110355, 6.605206559339199], \"yaxis\": \"y\"}, {\"hoverinfo\": \"text\", \"marker\": {\"color\": \"rgb(255,65,54)\"}, \"mode\": \"lines\", \"type\": \"scatter\", \"x\": [1565.0, 1565.0, 1582.5, 1582.5], \"xaxis\": \"x\", \"y\": [0.0, 7.292978661478296, 7.292978661478296, 7.1617472871110355], \"yaxis\": \"y\"}, {\"hoverinfo\": \"text\", \"marker\": {\"color\": \"rgb(255,65,54)\"}, \"mode\": \"lines\", \"type\": \"scatter\", \"x\": [1615.0, 1615.0, 1625.0, 1625.0], \"xaxis\": \"x\", \"y\": [0.0, 7.0893842900480815, 7.0893842900480815, 0.0], \"yaxis\": \"y\"}, {\"hoverinfo\": \"text\", \"marker\": {\"color\": \"rgb(255,65,54)\"}, \"mode\": \"lines\", \"type\": \"scatter\", \"x\": [1605.0, 1605.0, 1620.0, 1620.0], \"xaxis\": \"x\", \"y\": [0.0, 7.935119642888212, 7.935119642888212, 7.0893842900480815], \"yaxis\": \"y\"}, {\"hoverinfo\": \"text\", \"marker\": {\"color\": \"rgb(255,65,54)\"}, \"mode\": \"lines\", \"type\": \"scatter\", \"x\": [1573.75, 1573.75, 1612.5, 1612.5], \"xaxis\": \"x\", \"y\": [7.292978661478296, 8.308600078416747, 8.308600078416747, 7.935119642888212], \"yaxis\": \"y\"}, {\"hoverinfo\": \"text\", \"marker\": {\"color\": \"rgb(255,65,54)\"}, \"mode\": \"lines\", \"type\": \"scatter\", \"x\": [1493.4375, 1493.4375, 1593.125, 1593.125], \"xaxis\": \"x\", \"y\": [8.101419754396971, 8.759368604031025, 8.759368604031025, 8.308600078416747], \"yaxis\": \"y\"}, {\"hoverinfo\": \"text\", \"marker\": {\"color\": \"rgb(255,65,54)\"}, \"mode\": \"lines\", \"type\": \"scatter\", \"x\": [1412.5, 1412.5, 1543.28125, 1543.28125], \"xaxis\": \"x\", \"y\": [8.559538986130008, 8.8982972940785, 8.8982972940785, 8.759368604031025], \"yaxis\": \"y\"}, {\"hoverinfo\": \"text\", \"marker\": {\"color\": \"rgb(255,65,54)\"}, \"mode\": \"lines\", \"type\": \"scatter\", \"x\": [1139.6875, 1139.6875, 1477.890625, 1477.890625], \"xaxis\": \"x\", \"y\": [8.486216170085378, 8.98511818022492, 8.98511818022492, 8.8982972940785], \"yaxis\": \"y\"}, {\"hoverinfo\": \"text\", \"marker\": {\"color\": \"rgb(0,116,217)\"}, \"mode\": \"lines\", \"type\": \"scatter\", \"x\": [963.046875, 963.046875, 1308.7890625, 1308.7890625], \"xaxis\": \"x\", \"y\": [8.685258970163604, 9.149309722372928, 9.149309722372928, 8.98511818022492], \"yaxis\": \"y\"}, {\"hoverinfo\": \"text\", \"marker\": {\"color\": \"rgb(0,116,217)\"}, \"mode\": \"lines\", \"type\": \"scatter\", \"x\": [787.8125, 787.8125, 1135.91796875, 1135.91796875], \"xaxis\": \"x\", \"y\": [8.756883353279044, 9.247481245683579, 9.247481245683579, 9.149309722372928], \"yaxis\": \"y\"}, {\"hoverinfo\": \"text\", \"marker\": {\"color\": \"rgb(0,116,217)\"}, \"mode\": \"lines\", \"type\": \"scatter\", \"x\": [678.4375, 678.4375, 961.865234375, 961.865234375], \"xaxis\": \"x\", \"y\": [8.98421557984739, 9.570994741028416, 9.570994741028416, 9.247481245683579], \"yaxis\": \"y\"}, {\"hoverinfo\": \"text\", \"marker\": {\"color\": \"rgb(0,116,217)\"}, \"mode\": \"lines\", \"type\": \"scatter\", \"x\": [645.0, 645.0, 820.1513671875, 820.1513671875], \"xaxis\": \"x\", \"y\": [0.0, 9.702949469384272, 9.702949469384272, 9.570994741028416], \"yaxis\": \"y\"}, {\"hoverinfo\": \"text\", \"marker\": {\"color\": \"rgb(0,116,217)\"}, \"mode\": \"lines\", \"type\": \"scatter\", \"x\": [375.48828125, 375.48828125, 732.57568359375, 732.57568359375], \"xaxis\": \"x\", \"y\": [9.353059786258891, 9.806477477667444, 9.806477477667444, 9.702949469384272], \"yaxis\": \"y\"}, {\"hoverinfo\": \"text\", \"marker\": {\"color\": \"rgb(35,205,205)\"}, \"mode\": \"lines\", \"type\": \"scatter\", \"x\": [1685.0, 1685.0, 1695.0, 1695.0], \"xaxis\": \"x\", \"y\": [0.0, 6.729649640888298, 6.729649640888298, 0.0], \"yaxis\": \"y\"}, {\"hoverinfo\": \"text\", \"marker\": {\"color\": \"rgb(35,205,205)\"}, \"mode\": \"lines\", \"type\": \"scatter\", \"x\": [1675.0, 1675.0, 1690.0, 1690.0], \"xaxis\": \"x\", \"y\": [0.0, 7.009456738040745, 7.009456738040745, 6.729649640888298], \"yaxis\": \"y\"}, {\"hoverinfo\": \"text\", \"marker\": {\"color\": \"rgb(35,205,205)\"}, \"mode\": \"lines\", \"type\": \"scatter\", \"x\": [1665.0, 1665.0, 1682.5, 1682.5], \"xaxis\": \"x\", \"y\": [0.0, 8.178669263156245, 8.178669263156245, 7.009456738040745], \"yaxis\": \"y\"}, {\"hoverinfo\": \"text\", \"marker\": {\"color\": \"rgb(0,116,217)\"}, \"mode\": \"lines\", \"type\": \"scatter\", \"x\": [1655.0, 1655.0, 1673.75, 1673.75], \"xaxis\": \"x\", \"y\": [0.0, 9.33319756965775, 9.33319756965775, 8.178669263156245], \"yaxis\": \"y\"}, {\"hoverinfo\": \"text\", \"marker\": {\"color\": \"rgb(0,116,217)\"}, \"mode\": \"lines\", \"type\": \"scatter\", \"x\": [1645.0, 1645.0, 1664.375, 1664.375], \"xaxis\": \"x\", \"y\": [0.0, 9.70830098269894, 9.70830098269894, 9.33319756965775], \"yaxis\": \"y\"}, {\"hoverinfo\": \"text\", \"marker\": {\"color\": \"rgb(0,116,217)\"}, \"mode\": \"lines\", \"type\": \"scatter\", \"x\": [1635.0, 1635.0, 1654.6875, 1654.6875], \"xaxis\": \"x\", \"y\": [0.0, 9.83684934751978, 9.83684934751978, 9.70830098269894], \"yaxis\": \"y\"}, {\"hoverinfo\": \"text\", \"marker\": {\"color\": \"rgb(0,116,217)\"}, \"mode\": \"lines\", \"type\": \"scatter\", \"x\": [554.031982421875, 554.031982421875, 1644.84375, 1644.84375], \"xaxis\": \"x\", \"y\": [9.806477477667444, 10.107126537932363, 10.107126537932363, 9.83684934751978], \"yaxis\": \"y\"}, {\"hoverinfo\": \"text\", \"marker\": {\"color\": \"rgb(0,116,217)\"}, \"mode\": \"lines\", \"type\": \"scatter\", \"x\": [1715.0, 1715.0, 1725.0, 1725.0], \"xaxis\": \"x\", \"y\": [0.0, 10.09836849497017, 10.09836849497017, 0.0], \"yaxis\": \"y\"}, {\"hoverinfo\": \"text\", \"marker\": {\"color\": \"rgb(0,116,217)\"}, \"mode\": \"lines\", \"type\": \"scatter\", \"x\": [1705.0, 1705.0, 1720.0, 1720.0], \"xaxis\": \"x\", \"y\": [0.0, 10.296112221256127, 10.296112221256127, 10.09836849497017], \"yaxis\": \"y\"}, {\"hoverinfo\": \"text\", \"marker\": {\"color\": \"rgb(0,116,217)\"}, \"mode\": \"lines\", \"type\": \"scatter\", \"x\": [1099.4378662109375, 1099.4378662109375, 1712.5, 1712.5], \"xaxis\": \"x\", \"y\": [10.107126537932363, 10.37474167145348, 10.37474167145348, 10.296112221256127], \"yaxis\": \"y\"}, {\"hoverinfo\": \"text\", \"marker\": {\"color\": \"rgb(0,116,217)\"}, \"mode\": \"lines\", \"type\": \"scatter\", \"x\": [1735.0, 1735.0, 1745.0, 1745.0], \"xaxis\": \"x\", \"y\": [0.0, 10.387426473625691, 10.387426473625691, 0.0], \"yaxis\": \"y\"}, {\"hoverinfo\": \"text\", \"marker\": {\"color\": \"rgb(0,116,217)\"}, \"mode\": \"lines\", \"type\": \"scatter\", \"x\": [1405.9689331054688, 1405.9689331054688, 1740.0, 1740.0], \"xaxis\": \"x\", \"y\": [10.37474167145348, 10.59340619632016, 10.59340619632016, 10.387426473625691], \"yaxis\": \"y\"}, {\"hoverinfo\": \"text\", \"marker\": {\"color\": \"rgb(133,20,75)\"}, \"mode\": \"lines\", \"type\": \"scatter\", \"x\": [1755.0, 1755.0, 1765.0, 1765.0], \"xaxis\": \"x\", \"y\": [0.0, 8.91318008876589, 8.91318008876589, 0.0], \"yaxis\": \"y\"}, {\"hoverinfo\": \"text\", \"marker\": {\"color\": \"rgb(255,220,0)\"}, \"mode\": \"lines\", \"type\": \"scatter\", \"x\": [1795.0, 1795.0, 1805.0, 1805.0], \"xaxis\": \"x\", \"y\": [0.0, 8.127396409235004, 8.127396409235004, 0.0], \"yaxis\": \"y\"}, {\"hoverinfo\": \"text\", \"marker\": {\"color\": \"rgb(255,220,0)\"}, \"mode\": \"lines\", \"type\": \"scatter\", \"x\": [1785.0, 1785.0, 1800.0, 1800.0], \"xaxis\": \"x\", \"y\": [0.0, 8.796868906270864, 8.796868906270864, 8.127396409235004], \"yaxis\": \"y\"}, {\"hoverinfo\": \"text\", \"marker\": {\"color\": \"rgb(255,220,0)\"}, \"mode\": \"lines\", \"type\": \"scatter\", \"x\": [1775.0, 1775.0, 1792.5, 1792.5], \"xaxis\": \"x\", \"y\": [0.0, 9.027845406765652, 9.027845406765652, 8.796868906270864], \"yaxis\": \"y\"}, {\"hoverinfo\": \"text\", \"marker\": {\"color\": \"rgb(0,116,217)\"}, \"mode\": \"lines\", \"type\": \"scatter\", \"x\": [1760.0, 1760.0, 1783.75, 1783.75], \"xaxis\": \"x\", \"y\": [8.91318008876589, 9.804269675689055, 9.804269675689055, 9.027845406765652], \"yaxis\": \"y\"}, {\"hoverinfo\": \"text\", \"marker\": {\"color\": \"rgb(40,35,35)\"}, \"mode\": \"lines\", \"type\": \"scatter\", \"x\": [1815.0, 1815.0, 1825.0, 1825.0], \"xaxis\": \"x\", \"y\": [0.0, 9.0494845360666, 9.0494845360666, 0.0], \"yaxis\": \"y\"}, {\"hoverinfo\": \"text\", \"marker\": {\"color\": \"rgb(0,116,217)\"}, \"mode\": \"lines\", \"type\": \"scatter\", \"x\": [1835.0, 1835.0, 1845.0, 1845.0], \"xaxis\": \"x\", \"y\": [0.0, 9.549596906531368, 9.549596906531368, 0.0], \"yaxis\": \"y\"}, {\"hoverinfo\": \"text\", \"marker\": {\"color\": \"rgb(0,116,217)\"}, \"mode\": \"lines\", \"type\": \"scatter\", \"x\": [1820.0, 1820.0, 1840.0, 1840.0], \"xaxis\": \"x\", \"y\": [9.0494845360666, 9.999394596968601, 9.999394596968601, 9.549596906531368], \"yaxis\": \"y\"}, {\"hoverinfo\": \"text\", \"marker\": {\"color\": \"rgb(0,116,217)\"}, \"mode\": \"lines\", \"type\": \"scatter\", \"x\": [1771.875, 1771.875, 1830.0, 1830.0], \"xaxis\": \"x\", \"y\": [9.804269675689055, 10.047801206058315, 10.047801206058315, 9.999394596968601], \"yaxis\": \"y\"}, {\"hoverinfo\": \"text\", \"marker\": {\"color\": \"rgb(0,116,217)\"}, \"mode\": \"lines\", \"type\": \"scatter\", \"x\": [1865.0, 1865.0, 1875.0, 1875.0], \"xaxis\": \"x\", \"y\": [0.0, 9.794399452131666, 9.794399452131666, 0.0], \"yaxis\": \"y\"}, {\"hoverinfo\": \"text\", \"marker\": {\"color\": \"rgb(0,116,217)\"}, \"mode\": \"lines\", \"type\": \"scatter\", \"x\": [1855.0, 1855.0, 1870.0, 1870.0], \"xaxis\": \"x\", \"y\": [0.0, 10.212583887884081, 10.212583887884081, 9.794399452131666], \"yaxis\": \"y\"}, {\"hoverinfo\": \"text\", \"marker\": {\"color\": \"rgb(61,153,112)\"}, \"mode\": \"lines\", \"type\": \"scatter\", \"x\": [1935.0, 1935.0, 1945.0, 1945.0], \"xaxis\": \"x\", \"y\": [0.0, 6.507323182778789, 6.507323182778789, 0.0], \"yaxis\": \"y\"}, {\"hoverinfo\": \"text\", \"marker\": {\"color\": \"rgb(61,153,112)\"}, \"mode\": \"lines\", \"type\": \"scatter\", \"x\": [1925.0, 1925.0, 1940.0, 1940.0], \"xaxis\": \"x\", \"y\": [0.0, 7.031504931018597, 7.031504931018597, 6.507323182778789], \"yaxis\": \"y\"}, {\"hoverinfo\": \"text\", \"marker\": {\"color\": \"rgb(61,153,112)\"}, \"mode\": \"lines\", \"type\": \"scatter\", \"x\": [1915.0, 1915.0, 1932.5, 1932.5], \"xaxis\": \"x\", \"y\": [0.0, 7.777665411245235, 7.777665411245235, 7.031504931018597], \"yaxis\": \"y\"}, {\"hoverinfo\": \"text\", \"marker\": {\"color\": \"rgb(61,153,112)\"}, \"mode\": \"lines\", \"type\": \"scatter\", \"x\": [1905.0, 1905.0, 1923.75, 1923.75], \"xaxis\": \"x\", \"y\": [0.0, 8.169897175611368, 8.169897175611368, 7.777665411245235], \"yaxis\": \"y\"}, {\"hoverinfo\": \"text\", \"marker\": {\"color\": \"rgb(0,116,217)\"}, \"mode\": \"lines\", \"type\": \"scatter\", \"x\": [1895.0, 1895.0, 1914.375, 1914.375], \"xaxis\": \"x\", \"y\": [0.0, 9.404469560885747, 9.404469560885747, 8.169897175611368], \"yaxis\": \"y\"}, {\"hoverinfo\": \"text\", \"marker\": {\"color\": \"rgb(0,116,217)\"}, \"mode\": \"lines\", \"type\": \"scatter\", \"x\": [1885.0, 1885.0, 1904.6875, 1904.6875], \"xaxis\": \"x\", \"y\": [0.0, 9.707827973636299, 9.707827973636299, 9.404469560885747], \"yaxis\": \"y\"}, {\"hoverinfo\": \"text\", \"marker\": {\"color\": \"rgb(255,65,54)\"}, \"mode\": \"lines\", \"type\": \"scatter\", \"x\": [1965.0, 1965.0, 1975.0, 1975.0], \"xaxis\": \"x\", \"y\": [0.0, 8.216691945244179, 8.216691945244179, 0.0], \"yaxis\": \"y\"}, {\"hoverinfo\": \"text\", \"marker\": {\"color\": \"rgb(255,65,54)\"}, \"mode\": \"lines\", \"type\": \"scatter\", \"x\": [1995.0, 1995.0, 2005.0, 2005.0], \"xaxis\": \"x\", \"y\": [0.0, 8.323482418359106, 8.323482418359106, 0.0], \"yaxis\": \"y\"}, {\"hoverinfo\": \"text\", \"marker\": {\"color\": \"rgb(255,65,54)\"}, \"mode\": \"lines\", \"type\": \"scatter\", \"x\": [1985.0, 1985.0, 2000.0, 2000.0], \"xaxis\": \"x\", \"y\": [0.0, 8.55687282976201, 8.55687282976201, 8.323482418359106], \"yaxis\": \"y\"}, {\"hoverinfo\": \"text\", \"marker\": {\"color\": \"rgb(255,65,54)\"}, \"mode\": \"lines\", \"type\": \"scatter\", \"x\": [1970.0, 1970.0, 1992.5, 1992.5], \"xaxis\": \"x\", \"y\": [8.216691945244179, 9.109953124188195, 9.109953124188195, 8.55687282976201], \"yaxis\": \"y\"}, {\"hoverinfo\": \"text\", \"marker\": {\"color\": \"rgb(35,205,205)\"}, \"mode\": \"lines\", \"type\": \"scatter\", \"x\": [2025.0, 2025.0, 2035.0, 2035.0], \"xaxis\": \"x\", \"y\": [0.0, 8.915060926054773, 8.915060926054773, 0.0], \"yaxis\": \"y\"}, {\"hoverinfo\": \"text\", \"marker\": {\"color\": \"rgb(35,205,205)\"}, \"mode\": \"lines\", \"type\": \"scatter\", \"x\": [2015.0, 2015.0, 2030.0, 2030.0], \"xaxis\": \"x\", \"y\": [0.0, 9.13046923220767, 9.13046923220767, 8.915060926054773], \"yaxis\": \"y\"}, {\"hoverinfo\": \"text\", \"marker\": {\"color\": \"rgb(0,116,217)\"}, \"mode\": \"lines\", \"type\": \"scatter\", \"x\": [1981.25, 1981.25, 2022.5, 2022.5], \"xaxis\": \"x\", \"y\": [9.109953124188195, 9.605666189933501, 9.605666189933501, 9.13046923220767], \"yaxis\": \"y\"}, {\"hoverinfo\": \"text\", \"marker\": {\"color\": \"rgb(0,116,217)\"}, \"mode\": \"lines\", \"type\": \"scatter\", \"x\": [1955.0, 1955.0, 2001.875, 2001.875], \"xaxis\": \"x\", \"y\": [0.0, 9.669954085176604, 9.669954085176604, 9.605666189933501], \"yaxis\": \"y\"}, {\"hoverinfo\": \"text\", \"marker\": {\"color\": \"rgb(133,20,75)\"}, \"mode\": \"lines\", \"type\": \"scatter\", \"x\": [2045.0, 2045.0, 2055.0, 2055.0], \"xaxis\": \"x\", \"y\": [0.0, 8.98731781658577, 8.98731781658577, 0.0], \"yaxis\": \"y\"}, {\"hoverinfo\": \"text\", \"marker\": {\"color\": \"rgb(255,220,0)\"}, \"mode\": \"lines\", \"type\": \"scatter\", \"x\": [2095.0, 2095.0, 2105.0, 2105.0], \"xaxis\": \"x\", \"y\": [0.0, 6.9474356791264835, 6.9474356791264835, 0.0], \"yaxis\": \"y\"}, {\"hoverinfo\": \"text\", \"marker\": {\"color\": \"rgb(255,220,0)\"}, \"mode\": \"lines\", \"type\": \"scatter\", \"x\": [2085.0, 2085.0, 2100.0, 2100.0], \"xaxis\": \"x\", \"y\": [0.0, 8.312396939500525, 8.312396939500525, 6.9474356791264835], \"yaxis\": \"y\"}, {\"hoverinfo\": \"text\", \"marker\": {\"color\": \"rgb(255,220,0)\"}, \"mode\": \"lines\", \"type\": \"scatter\", \"x\": [2075.0, 2075.0, 2092.5, 2092.5], \"xaxis\": \"x\", \"y\": [0.0, 8.689212975503088, 8.689212975503088, 8.312396939500525], \"yaxis\": \"y\"}, {\"hoverinfo\": \"text\", \"marker\": {\"color\": \"rgb(40,35,35)\"}, \"mode\": \"lines\", \"type\": \"scatter\", \"x\": [2115.0, 2115.0, 2125.0, 2125.0], \"xaxis\": \"x\", \"y\": [0.0, 5.855278859173128, 5.855278859173128, 0.0], \"yaxis\": \"y\"}, {\"hoverinfo\": \"text\", \"marker\": {\"color\": \"rgb(40,35,35)\"}, \"mode\": \"lines\", \"type\": \"scatter\", \"x\": [2145.0, 2145.0, 2155.0, 2155.0], \"xaxis\": \"x\", \"y\": [0.0, 5.729972694106034, 5.729972694106034, 0.0], \"yaxis\": \"y\"}, {\"hoverinfo\": \"text\", \"marker\": {\"color\": \"rgb(40,35,35)\"}, \"mode\": \"lines\", \"type\": \"scatter\", \"x\": [2135.0, 2135.0, 2150.0, 2150.0], \"xaxis\": \"x\", \"y\": [0.0, 6.252443800598514, 6.252443800598514, 5.729972694106034], \"yaxis\": \"y\"}, {\"hoverinfo\": \"text\", \"marker\": {\"color\": \"rgb(40,35,35)\"}, \"mode\": \"lines\", \"type\": \"scatter\", \"x\": [2120.0, 2120.0, 2142.5, 2142.5], \"xaxis\": \"x\", \"y\": [5.855278859173128, 7.006387928117227, 7.006387928117227, 6.252443800598514], \"yaxis\": \"y\"}, {\"hoverinfo\": \"text\", \"marker\": {\"color\": \"rgb(40,35,35)\"}, \"mode\": \"lines\", \"type\": \"scatter\", \"x\": [2185.0, 2185.0, 2195.0, 2195.0], \"xaxis\": \"x\", \"y\": [0.0, 5.599090081732703, 5.599090081732703, 0.0], \"yaxis\": \"y\"}, {\"hoverinfo\": \"text\", \"marker\": {\"color\": \"rgb(40,35,35)\"}, \"mode\": \"lines\", \"type\": \"scatter\", \"x\": [2175.0, 2175.0, 2190.0, 2190.0], \"xaxis\": \"x\", \"y\": [0.0, 6.507468300159263, 6.507468300159263, 5.599090081732703], \"yaxis\": \"y\"}, {\"hoverinfo\": \"text\", \"marker\": {\"color\": \"rgb(40,35,35)\"}, \"mode\": \"lines\", \"type\": \"scatter\", \"x\": [2165.0, 2165.0, 2182.5, 2182.5], \"xaxis\": \"x\", \"y\": [0.0, 7.139765274520109, 7.139765274520109, 6.507468300159263], \"yaxis\": \"y\"}, {\"hoverinfo\": \"text\", \"marker\": {\"color\": \"rgb(40,35,35)\"}, \"mode\": \"lines\", \"type\": \"scatter\", \"x\": [2131.25, 2131.25, 2173.75, 2173.75], \"xaxis\": \"x\", \"y\": [7.006387928117227, 7.445174264609385, 7.445174264609385, 7.139765274520109], \"yaxis\": \"y\"}, {\"hoverinfo\": \"text\", \"marker\": {\"color\": \"rgb(40,35,35)\"}, \"mode\": \"lines\", \"type\": \"scatter\", \"x\": [2215.0, 2215.0, 2225.0, 2225.0], \"xaxis\": \"x\", \"y\": [0.0, 7.63719412685781, 7.63719412685781, 0.0], \"yaxis\": \"y\"}, {\"hoverinfo\": \"text\", \"marker\": {\"color\": \"rgb(40,35,35)\"}, \"mode\": \"lines\", \"type\": \"scatter\", \"x\": [2205.0, 2205.0, 2220.0, 2220.0], \"xaxis\": \"x\", \"y\": [0.0, 7.88062303270904, 7.88062303270904, 7.63719412685781], \"yaxis\": \"y\"}, {\"hoverinfo\": \"text\", \"marker\": {\"color\": \"rgb(40,35,35)\"}, \"mode\": \"lines\", \"type\": \"scatter\", \"x\": [2152.5, 2152.5, 2212.5, 2212.5], \"xaxis\": \"x\", \"y\": [7.445174264609385, 8.360357192992836, 8.360357192992836, 7.88062303270904], \"yaxis\": \"y\"}, {\"hoverinfo\": \"text\", \"marker\": {\"color\": \"rgb(40,35,35)\"}, \"mode\": \"lines\", \"type\": \"scatter\", \"x\": [2245.0, 2245.0, 2255.0, 2255.0], \"xaxis\": \"x\", \"y\": [0.0, 6.401816438035842, 6.401816438035842, 0.0], \"yaxis\": \"y\"}, {\"hoverinfo\": \"text\", \"marker\": {\"color\": \"rgb(40,35,35)\"}, \"mode\": \"lines\", \"type\": \"scatter\", \"x\": [2235.0, 2235.0, 2250.0, 2250.0], \"xaxis\": \"x\", \"y\": [0.0, 7.59311532861778, 7.59311532861778, 6.401816438035842], \"yaxis\": \"y\"}, {\"hoverinfo\": \"text\", \"marker\": {\"color\": \"rgb(40,35,35)\"}, \"mode\": \"lines\", \"type\": \"scatter\", \"x\": [2275.0, 2275.0, 2285.0, 2285.0], \"xaxis\": \"x\", \"y\": [0.0, 5.478616605716021, 5.478616605716021, 0.0], \"yaxis\": \"y\"}, {\"hoverinfo\": \"text\", \"marker\": {\"color\": \"rgb(40,35,35)\"}, \"mode\": \"lines\", \"type\": \"scatter\", \"x\": [2265.0, 2265.0, 2280.0, 2280.0], \"xaxis\": \"x\", \"y\": [0.0, 6.512034186011757, 6.512034186011757, 5.478616605716021], \"yaxis\": \"y\"}, {\"hoverinfo\": \"text\", \"marker\": {\"color\": \"rgb(40,35,35)\"}, \"mode\": \"lines\", \"type\": \"scatter\", \"x\": [2305.0, 2305.0, 2315.0, 2315.0], \"xaxis\": \"x\", \"y\": [0.0, 6.11603270613828, 6.11603270613828, 0.0], \"yaxis\": \"y\"}, {\"hoverinfo\": \"text\", \"marker\": {\"color\": \"rgb(40,35,35)\"}, \"mode\": \"lines\", \"type\": \"scatter\", \"x\": [2295.0, 2295.0, 2310.0, 2310.0], \"xaxis\": \"x\", \"y\": [0.0, 7.330318634661048, 7.330318634661048, 6.11603270613828], \"yaxis\": \"y\"}, {\"hoverinfo\": \"text\", \"marker\": {\"color\": \"rgb(40,35,35)\"}, \"mode\": \"lines\", \"type\": \"scatter\", \"x\": [2272.5, 2272.5, 2302.5, 2302.5], \"xaxis\": \"x\", \"y\": [6.512034186011757, 7.748141465089869, 7.748141465089869, 7.330318634661048], \"yaxis\": \"y\"}, {\"hoverinfo\": \"text\", \"marker\": {\"color\": \"rgb(40,35,35)\"}, \"mode\": \"lines\", \"type\": \"scatter\", \"x\": [2242.5, 2242.5, 2287.5, 2287.5], \"xaxis\": \"x\", \"y\": [7.59311532861778, 8.129151340344432, 8.129151340344432, 7.748141465089869], \"yaxis\": \"y\"}, {\"hoverinfo\": \"text\", \"marker\": {\"color\": \"rgb(40,35,35)\"}, \"mode\": \"lines\", \"type\": \"scatter\", \"x\": [2335.0, 2335.0, 2345.0, 2345.0], \"xaxis\": \"x\", \"y\": [0.0, 6.169016777208617, 6.169016777208617, 0.0], \"yaxis\": \"y\"}, {\"hoverinfo\": \"text\", \"marker\": {\"color\": \"rgb(40,35,35)\"}, \"mode\": \"lines\", \"type\": \"scatter\", \"x\": [2325.0, 2325.0, 2340.0, 2340.0], \"xaxis\": \"x\", \"y\": [0.0, 7.123969253913992, 7.123969253913992, 6.169016777208617], \"yaxis\": \"y\"}, {\"hoverinfo\": \"text\", \"marker\": {\"color\": \"rgb(40,35,35)\"}, \"mode\": \"lines\", \"type\": \"scatter\", \"x\": [2365.0, 2365.0, 2375.0, 2375.0], \"xaxis\": \"x\", \"y\": [0.0, 5.822291980203346, 5.822291980203346, 0.0], \"yaxis\": \"y\"}, {\"hoverinfo\": \"text\", \"marker\": {\"color\": \"rgb(40,35,35)\"}, \"mode\": \"lines\", \"type\": \"scatter\", \"x\": [2355.0, 2355.0, 2370.0, 2370.0], \"xaxis\": \"x\", \"y\": [0.0, 7.232147964993622, 7.232147964993622, 5.822291980203346], \"yaxis\": \"y\"}, {\"hoverinfo\": \"text\", \"marker\": {\"color\": \"rgb(40,35,35)\"}, \"mode\": \"lines\", \"type\": \"scatter\", \"x\": [2395.0, 2395.0, 2405.0, 2405.0], \"xaxis\": \"x\", \"y\": [0.0, 6.361189976270215, 6.361189976270215, 0.0], \"yaxis\": \"y\"}, {\"hoverinfo\": \"text\", \"marker\": {\"color\": \"rgb(40,35,35)\"}, \"mode\": \"lines\", \"type\": \"scatter\", \"x\": [2385.0, 2385.0, 2400.0, 2400.0], \"xaxis\": \"x\", \"y\": [0.0, 7.8641180730966145, 7.8641180730966145, 6.361189976270215], \"yaxis\": \"y\"}, {\"hoverinfo\": \"text\", \"marker\": {\"color\": \"rgb(40,35,35)\"}, \"mode\": \"lines\", \"type\": \"scatter\", \"x\": [2362.5, 2362.5, 2392.5, 2392.5], \"xaxis\": \"x\", \"y\": [7.232147964993622, 8.472584713875262, 8.472584713875262, 7.8641180730966145], \"yaxis\": \"y\"}, {\"hoverinfo\": \"text\", \"marker\": {\"color\": \"rgb(40,35,35)\"}, \"mode\": \"lines\", \"type\": \"scatter\", \"x\": [2332.5, 2332.5, 2377.5, 2377.5], \"xaxis\": \"x\", \"y\": [7.123969253913992, 8.677870459221312, 8.677870459221312, 8.472584713875262], \"yaxis\": \"y\"}, {\"hoverinfo\": \"text\", \"marker\": {\"color\": \"rgb(40,35,35)\"}, \"mode\": \"lines\", \"type\": \"scatter\", \"x\": [2265.0, 2265.0, 2355.0, 2355.0], \"xaxis\": \"x\", \"y\": [8.129151340344432, 8.911132047703584, 8.911132047703584, 8.677870459221312], \"yaxis\": \"y\"}, {\"hoverinfo\": \"text\", \"marker\": {\"color\": \"rgb(40,35,35)\"}, \"mode\": \"lines\", \"type\": \"scatter\", \"x\": [2182.5, 2182.5, 2310.0, 2310.0], \"xaxis\": \"x\", \"y\": [8.360357192992836, 9.07376208401481, 9.07376208401481, 8.911132047703584], \"yaxis\": \"y\"}, {\"hoverinfo\": \"text\", \"marker\": {\"color\": \"rgb(0,116,217)\"}, \"mode\": \"lines\", \"type\": \"scatter\", \"x\": [2083.75, 2083.75, 2246.25, 2246.25], \"xaxis\": \"x\", \"y\": [8.689212975503088, 9.257853377414667, 9.257853377414667, 9.07376208401481], \"yaxis\": \"y\"}, {\"hoverinfo\": \"text\", \"marker\": {\"color\": \"rgb(0,116,217)\"}, \"mode\": \"lines\", \"type\": \"scatter\", \"x\": [2065.0, 2065.0, 2165.0, 2165.0], \"xaxis\": \"x\", \"y\": [0.0, 9.493577314699383, 9.493577314699383, 9.257853377414667], \"yaxis\": \"y\"}, {\"hoverinfo\": \"text\", \"marker\": {\"color\": \"rgb(0,116,217)\"}, \"mode\": \"lines\", \"type\": \"scatter\", \"x\": [2050.0, 2050.0, 2115.0, 2115.0], \"xaxis\": \"x\", \"y\": [8.98731781658577, 9.687761633092867, 9.687761633092867, 9.493577314699383], \"yaxis\": \"y\"}, {\"hoverinfo\": \"text\", \"marker\": {\"color\": \"rgb(0,116,217)\"}, \"mode\": \"lines\", \"type\": \"scatter\", \"x\": [1978.4375, 1978.4375, 2082.5, 2082.5], \"xaxis\": \"x\", \"y\": [9.669954085176604, 9.952768830273573, 9.952768830273573, 9.687761633092867], \"yaxis\": \"y\"}, {\"hoverinfo\": \"text\", \"marker\": {\"color\": \"rgb(0,116,217)\"}, \"mode\": \"lines\", \"type\": \"scatter\", \"x\": [1894.84375, 1894.84375, 2030.46875, 2030.46875], \"xaxis\": \"x\", \"y\": [9.707827973636299, 10.222434355008115, 10.222434355008115, 9.952768830273573], \"yaxis\": \"y\"}, {\"hoverinfo\": \"text\", \"marker\": {\"color\": \"rgb(0,116,217)\"}, \"mode\": \"lines\", \"type\": \"scatter\", \"x\": [1862.5, 1862.5, 1962.65625, 1962.65625], \"xaxis\": \"x\", \"y\": [10.212583887884081, 10.249328534980988, 10.249328534980988, 10.222434355008115], \"yaxis\": \"y\"}, {\"hoverinfo\": \"text\", \"marker\": {\"color\": \"rgb(0,116,217)\"}, \"mode\": \"lines\", \"type\": \"scatter\", \"x\": [1800.9375, 1800.9375, 1912.578125, 1912.578125], \"xaxis\": \"x\", \"y\": [10.047801206058315, 10.43135715785032, 10.43135715785032, 10.249328534980988], \"yaxis\": \"y\"}, {\"hoverinfo\": \"text\", \"marker\": {\"color\": \"rgb(61,153,112)\"}, \"mode\": \"lines\", \"type\": \"scatter\", \"x\": [2445.0, 2445.0, 2455.0, 2455.0], \"xaxis\": \"x\", \"y\": [0.0, 7.209996583607493, 7.209996583607493, 0.0], \"yaxis\": \"y\"}, {\"hoverinfo\": \"text\", \"marker\": {\"color\": \"rgb(61,153,112)\"}, \"mode\": \"lines\", \"type\": \"scatter\", \"x\": [2435.0, 2435.0, 2450.0, 2450.0], \"xaxis\": \"x\", \"y\": [0.0, 8.186663535266044, 8.186663535266044, 7.209996583607493], \"yaxis\": \"y\"}, {\"hoverinfo\": \"text\", \"marker\": {\"color\": \"rgb(61,153,112)\"}, \"mode\": \"lines\", \"type\": \"scatter\", \"x\": [2425.0, 2425.0, 2442.5, 2442.5], \"xaxis\": \"x\", \"y\": [0.0, 8.568463522358542, 8.568463522358542, 8.186663535266044], \"yaxis\": \"y\"}, {\"hoverinfo\": \"text\", \"marker\": {\"color\": \"rgb(0,116,217)\"}, \"mode\": \"lines\", \"type\": \"scatter\", \"x\": [2465.0, 2465.0, 2475.0, 2475.0], \"xaxis\": \"x\", \"y\": [0.0, 9.504925554923306, 9.504925554923306, 0.0], \"yaxis\": \"y\"}, {\"hoverinfo\": \"text\", \"marker\": {\"color\": \"rgb(0,116,217)\"}, \"mode\": \"lines\", \"type\": \"scatter\", \"x\": [2433.75, 2433.75, 2470.0, 2470.0], \"xaxis\": \"x\", \"y\": [8.568463522358542, 9.807683304904412, 9.807683304904412, 9.504925554923306], \"yaxis\": \"y\"}, {\"hoverinfo\": \"text\", \"marker\": {\"color\": \"rgb(0,116,217)\"}, \"mode\": \"lines\", \"type\": \"scatter\", \"x\": [2495.0, 2495.0, 2505.0, 2505.0], \"xaxis\": \"x\", \"y\": [0.0, 9.332414674121825, 9.332414674121825, 0.0], \"yaxis\": \"y\"}, {\"hoverinfo\": \"text\", \"marker\": {\"color\": \"rgb(0,116,217)\"}, \"mode\": \"lines\", \"type\": \"scatter\", \"x\": [2485.0, 2485.0, 2500.0, 2500.0], \"xaxis\": \"x\", \"y\": [0.0, 9.813063061844241, 9.813063061844241, 9.332414674121825], \"yaxis\": \"y\"}, {\"hoverinfo\": \"text\", \"marker\": {\"color\": \"rgb(0,116,217)\"}, \"mode\": \"lines\", \"type\": \"scatter\", \"x\": [2451.875, 2451.875, 2492.5, 2492.5], \"xaxis\": \"x\", \"y\": [9.807683304904412, 10.02254838480925, 10.02254838480925, 9.813063061844241], \"yaxis\": \"y\"}, {\"hoverinfo\": \"text\", \"marker\": {\"color\": \"rgb(255,65,54)\"}, \"mode\": \"lines\", \"type\": \"scatter\", \"x\": [2525.0, 2525.0, 2535.0, 2535.0], \"xaxis\": \"x\", \"y\": [0.0, 9.094666766717832, 9.094666766717832, 0.0], \"yaxis\": \"y\"}, {\"hoverinfo\": \"text\", \"marker\": {\"color\": \"rgb(0,116,217)\"}, \"mode\": \"lines\", \"type\": \"scatter\", \"x\": [2515.0, 2515.0, 2530.0, 2530.0], \"xaxis\": \"x\", \"y\": [0.0, 9.877010996237601, 9.877010996237601, 9.094666766717832], \"yaxis\": \"y\"}, {\"hoverinfo\": \"text\", \"marker\": {\"color\": \"rgb(0,116,217)\"}, \"mode\": \"lines\", \"type\": \"scatter\", \"x\": [2545.0, 2545.0, 2555.0, 2555.0], \"xaxis\": \"x\", \"y\": [0.0, 10.006090352737756, 10.006090352737756, 0.0], \"yaxis\": \"y\"}, {\"hoverinfo\": \"text\", \"marker\": {\"color\": \"rgb(0,116,217)\"}, \"mode\": \"lines\", \"type\": \"scatter\", \"x\": [2522.5, 2522.5, 2550.0, 2550.0], \"xaxis\": \"x\", \"y\": [9.877010996237601, 10.21345022113607, 10.21345022113607, 10.006090352737756], \"yaxis\": \"y\"}, {\"hoverinfo\": \"text\", \"marker\": {\"color\": \"rgb(0,116,217)\"}, \"mode\": \"lines\", \"type\": \"scatter\", \"x\": [2472.1875, 2472.1875, 2536.25, 2536.25], \"xaxis\": \"x\", \"y\": [10.02254838480925, 10.412080921750993, 10.412080921750993, 10.21345022113607], \"yaxis\": \"y\"}, {\"hoverinfo\": \"text\", \"marker\": {\"color\": \"rgb(0,116,217)\"}, \"mode\": \"lines\", \"type\": \"scatter\", \"x\": [2415.0, 2415.0, 2504.21875, 2504.21875], \"xaxis\": \"x\", \"y\": [0.0, 10.546984896578756, 10.546984896578756, 10.412080921750993], \"yaxis\": \"y\"}, {\"hoverinfo\": \"text\", \"marker\": {\"color\": \"rgb(0,116,217)\"}, \"mode\": \"lines\", \"type\": \"scatter\", \"x\": [1856.7578125, 1856.7578125, 2459.609375, 2459.609375], \"xaxis\": \"x\", \"y\": [10.43135715785032, 10.697495230747927, 10.697495230747927, 10.546984896578756], \"yaxis\": \"y\"}, {\"hoverinfo\": \"text\", \"marker\": {\"color\": \"rgb(0,116,217)\"}, \"mode\": \"lines\", \"type\": \"scatter\", \"x\": [1572.9844665527344, 1572.9844665527344, 2158.18359375, 2158.18359375], \"xaxis\": \"x\", \"y\": [10.59340619632016, 10.842225340883177, 10.842225340883177, 10.697495230747927], \"yaxis\": \"y\"}, {\"hoverinfo\": \"text\", \"marker\": {\"color\": \"rgb(0,116,217)\"}, \"mode\": \"lines\", \"type\": \"scatter\", \"x\": [97.5, 97.5, 1865.5840301513672, 1865.5840301513672], \"xaxis\": \"x\", \"y\": [10.685976554223863, 10.930167874385134, 10.930167874385134, 10.842225340883177], \"yaxis\": \"y\"}, {\"hoverinfo\": \"text\", \"marker\": {\"color\": \"rgb(0,116,217)\"}, \"mode\": \"lines\", \"type\": \"scatter\", \"x\": [18.4375, 18.4375, 981.5420150756836, 981.5420150756836], \"xaxis\": \"x\", \"y\": [10.455003715618483, 11.194456399041725, 11.194456399041725, 10.930167874385134], \"yaxis\": \"y\"}, {\"hoverinfo\": \"text\", \"marker\": {\"color\": \"rgb(35,205,205)\"}, \"mode\": \"lines\", \"type\": \"scatter\", \"x\": [2575.0, 2575.0, 2585.0, 2585.0], \"xaxis\": \"x\", \"y\": [0.0, 6.455361492903304, 6.455361492903304, 0.0], \"yaxis\": \"y\"}, {\"hoverinfo\": \"text\", \"marker\": {\"color\": \"rgb(35,205,205)\"}, \"mode\": \"lines\", \"type\": \"scatter\", \"x\": [2565.0, 2565.0, 2580.0, 2580.0], \"xaxis\": \"x\", \"y\": [0.0, 7.791398072416283, 7.791398072416283, 6.455361492903304], \"yaxis\": \"y\"}, {\"hoverinfo\": \"text\", \"marker\": {\"color\": \"rgb(35,205,205)\"}, \"mode\": \"lines\", \"type\": \"scatter\", \"x\": [2615.0, 2615.0, 2625.0, 2625.0], \"xaxis\": \"x\", \"y\": [0.0, 6.029026627871869, 6.029026627871869, 0.0], \"yaxis\": \"y\"}, {\"hoverinfo\": \"text\", \"marker\": {\"color\": \"rgb(35,205,205)\"}, \"mode\": \"lines\", \"type\": \"scatter\", \"x\": [2605.0, 2605.0, 2620.0, 2620.0], \"xaxis\": \"x\", \"y\": [0.0, 6.442352236579363, 6.442352236579363, 6.029026627871869], \"yaxis\": \"y\"}, {\"hoverinfo\": \"text\", \"marker\": {\"color\": \"rgb(35,205,205)\"}, \"mode\": \"lines\", \"type\": \"scatter\", \"x\": [2635.0, 2635.0, 2645.0, 2645.0], \"xaxis\": \"x\", \"y\": [0.0, 6.748768929432775, 6.748768929432775, 0.0], \"yaxis\": \"y\"}, {\"hoverinfo\": \"text\", \"marker\": {\"color\": \"rgb(35,205,205)\"}, \"mode\": \"lines\", \"type\": \"scatter\", \"x\": [2612.5, 2612.5, 2640.0, 2640.0], \"xaxis\": \"x\", \"y\": [6.442352236579363, 7.36168971808594, 7.36168971808594, 6.748768929432775], \"yaxis\": \"y\"}, {\"hoverinfo\": \"text\", \"marker\": {\"color\": \"rgb(35,205,205)\"}, \"mode\": \"lines\", \"type\": \"scatter\", \"x\": [2595.0, 2595.0, 2626.25, 2626.25], \"xaxis\": \"x\", \"y\": [0.0, 8.18283004417211, 8.18283004417211, 7.36168971808594], \"yaxis\": \"y\"}, {\"hoverinfo\": \"text\", \"marker\": {\"color\": \"rgb(35,205,205)\"}, \"mode\": \"lines\", \"type\": \"scatter\", \"x\": [2572.5, 2572.5, 2610.625, 2610.625], \"xaxis\": \"x\", \"y\": [7.791398072416283, 8.388709575127356, 8.388709575127356, 8.18283004417211], \"yaxis\": \"y\"}, {\"hoverinfo\": \"text\", \"marker\": {\"color\": \"rgb(133,20,75)\"}, \"mode\": \"lines\", \"type\": \"scatter\", \"x\": [2675.0, 2675.0, 2685.0, 2685.0], \"xaxis\": \"x\", \"y\": [0.0, 7.890049296031066, 7.890049296031066, 0.0], \"yaxis\": \"y\"}, {\"hoverinfo\": \"text\", \"marker\": {\"color\": \"rgb(133,20,75)\"}, \"mode\": \"lines\", \"type\": \"scatter\", \"x\": [2665.0, 2665.0, 2680.0, 2680.0], \"xaxis\": \"x\", \"y\": [0.0, 9.01480204255817, 9.01480204255817, 7.890049296031066], \"yaxis\": \"y\"}, {\"hoverinfo\": \"text\", \"marker\": {\"color\": \"rgb(133,20,75)\"}, \"mode\": \"lines\", \"type\": \"scatter\", \"x\": [2655.0, 2655.0, 2672.5, 2672.5], \"xaxis\": \"x\", \"y\": [0.0, 9.113799020466335, 9.113799020466335, 9.01480204255817], \"yaxis\": \"y\"}, {\"hoverinfo\": \"text\", \"marker\": {\"color\": \"rgb(255,220,0)\"}, \"mode\": \"lines\", \"type\": \"scatter\", \"x\": [2705.0, 2705.0, 2715.0, 2715.0], \"xaxis\": \"x\", \"y\": [0.0, 8.722325627218899, 8.722325627218899, 0.0], \"yaxis\": \"y\"}, {\"hoverinfo\": \"text\", \"marker\": {\"color\": \"rgb(0,116,217)\"}, \"mode\": \"lines\", \"type\": \"scatter\", \"x\": [2695.0, 2695.0, 2710.0, 2710.0], \"xaxis\": \"x\", \"y\": [0.0, 9.177791336357155, 9.177791336357155, 8.722325627218899], \"yaxis\": \"y\"}, {\"hoverinfo\": \"text\", \"marker\": {\"color\": \"rgb(0,116,217)\"}, \"mode\": \"lines\", \"type\": \"scatter\", \"x\": [2663.75, 2663.75, 2702.5, 2702.5], \"xaxis\": \"x\", \"y\": [9.113799020466335, 9.585383722466062, 9.585383722466062, 9.177791336357155], \"yaxis\": \"y\"}, {\"hoverinfo\": \"text\", \"marker\": {\"color\": \"rgb(0,116,217)\"}, \"mode\": \"lines\", \"type\": \"scatter\", \"x\": [2591.5625, 2591.5625, 2683.125, 2683.125], \"xaxis\": \"x\", \"y\": [8.388709575127356, 9.881065582714392, 9.881065582714392, 9.585383722466062], \"yaxis\": \"y\"}, {\"hoverinfo\": \"text\", \"marker\": {\"color\": \"rgb(40,35,35)\"}, \"mode\": \"lines\", \"type\": \"scatter\", \"x\": [2725.0, 2725.0, 2735.0, 2735.0], \"xaxis\": \"x\", \"y\": [0.0, 5.947335138981524, 5.947335138981524, 0.0], \"yaxis\": \"y\"}, {\"hoverinfo\": \"text\", \"marker\": {\"color\": \"rgb(40,35,35)\"}, \"mode\": \"lines\", \"type\": \"scatter\", \"x\": [2765.0, 2765.0, 2775.0, 2775.0], \"xaxis\": \"x\", \"y\": [0.0, 5.677594655954883, 5.677594655954883, 0.0], \"yaxis\": \"y\"}, {\"hoverinfo\": \"text\", \"marker\": {\"color\": \"rgb(40,35,35)\"}, \"mode\": \"lines\", \"type\": \"scatter\", \"x\": [2755.0, 2755.0, 2770.0, 2770.0], \"xaxis\": \"x\", \"y\": [0.0, 6.448944623674623, 6.448944623674623, 5.677594655954883], \"yaxis\": \"y\"}, {\"hoverinfo\": \"text\", \"marker\": {\"color\": \"rgb(40,35,35)\"}, \"mode\": \"lines\", \"type\": \"scatter\", \"x\": [2745.0, 2745.0, 2762.5, 2762.5], \"xaxis\": \"x\", \"y\": [0.0, 6.552083255252004, 6.552083255252004, 6.448944623674623], \"yaxis\": \"y\"}, {\"hoverinfo\": \"text\", \"marker\": {\"color\": \"rgb(40,35,35)\"}, \"mode\": \"lines\", \"type\": \"scatter\", \"x\": [2730.0, 2730.0, 2753.75, 2753.75], \"xaxis\": \"x\", \"y\": [5.947335138981524, 7.471419835127718, 7.471419835127718, 6.552083255252004], \"yaxis\": \"y\"}, {\"hoverinfo\": \"text\", \"marker\": {\"color\": \"rgb(40,35,35)\"}, \"mode\": \"lines\", \"type\": \"scatter\", \"x\": [2805.0, 2805.0, 2815.0, 2815.0], \"xaxis\": \"x\", \"y\": [0.0, 6.0485783691053765, 6.0485783691053765, 0.0], \"yaxis\": \"y\"}, {\"hoverinfo\": \"text\", \"marker\": {\"color\": \"rgb(40,35,35)\"}, \"mode\": \"lines\", \"type\": \"scatter\", \"x\": [2795.0, 2795.0, 2810.0, 2810.0], \"xaxis\": \"x\", \"y\": [0.0, 6.377732926549594, 6.377732926549594, 6.0485783691053765], \"yaxis\": \"y\"}, {\"hoverinfo\": \"text\", \"marker\": {\"color\": \"rgb(40,35,35)\"}, \"mode\": \"lines\", \"type\": \"scatter\", \"x\": [2785.0, 2785.0, 2802.5, 2802.5], \"xaxis\": \"x\", \"y\": [0.0, 6.662949008093224, 6.662949008093224, 6.377732926549594], \"yaxis\": \"y\"}, {\"hoverinfo\": \"text\", \"marker\": {\"color\": \"rgb(40,35,35)\"}, \"mode\": \"lines\", \"type\": \"scatter\", \"x\": [2835.0, 2835.0, 2845.0, 2845.0], \"xaxis\": \"x\", \"y\": [0.0, 6.15772694378012, 6.15772694378012, 0.0], \"yaxis\": \"y\"}, {\"hoverinfo\": \"text\", \"marker\": {\"color\": \"rgb(40,35,35)\"}, \"mode\": \"lines\", \"type\": \"scatter\", \"x\": [2825.0, 2825.0, 2840.0, 2840.0], \"xaxis\": \"x\", \"y\": [0.0, 6.622389769111675, 6.622389769111675, 6.15772694378012], \"yaxis\": \"y\"}, {\"hoverinfo\": \"text\", \"marker\": {\"color\": \"rgb(40,35,35)\"}, \"mode\": \"lines\", \"type\": \"scatter\", \"x\": [2865.0, 2865.0, 2875.0, 2875.0], \"xaxis\": \"x\", \"y\": [0.0, 6.134575903506765, 6.134575903506765, 0.0], \"yaxis\": \"y\"}, {\"hoverinfo\": \"text\", \"marker\": {\"color\": \"rgb(40,35,35)\"}, \"mode\": \"lines\", \"type\": \"scatter\", \"x\": [2855.0, 2855.0, 2870.0, 2870.0], \"xaxis\": \"x\", \"y\": [0.0, 7.096887516809364, 7.096887516809364, 6.134575903506765], \"yaxis\": \"y\"}, {\"hoverinfo\": \"text\", \"marker\": {\"color\": \"rgb(40,35,35)\"}, \"mode\": \"lines\", \"type\": \"scatter\", \"x\": [2832.5, 2832.5, 2862.5, 2862.5], \"xaxis\": \"x\", \"y\": [6.622389769111675, 7.713646021986176, 7.713646021986176, 7.096887516809364], \"yaxis\": \"y\"}, {\"hoverinfo\": \"text\", \"marker\": {\"color\": \"rgb(40,35,35)\"}, \"mode\": \"lines\", \"type\": \"scatter\", \"x\": [2793.75, 2793.75, 2847.5, 2847.5], \"xaxis\": \"x\", \"y\": [6.662949008093224, 7.976496263464631, 7.976496263464631, 7.713646021986176], \"yaxis\": \"y\"}, {\"hoverinfo\": \"text\", \"marker\": {\"color\": \"rgb(40,35,35)\"}, \"mode\": \"lines\", \"type\": \"scatter\", \"x\": [2741.875, 2741.875, 2820.625, 2820.625], \"xaxis\": \"x\", \"y\": [7.471419835127718, 8.505521271061193, 8.505521271061193, 7.976496263464631], \"yaxis\": \"y\"}, {\"hoverinfo\": \"text\", \"marker\": {\"color\": \"rgb(61,153,112)\"}, \"mode\": \"lines\", \"type\": \"scatter\", \"x\": [2885.0, 2885.0, 2895.0, 2895.0], \"xaxis\": \"x\", \"y\": [0.0, 6.8490972725759764, 6.8490972725759764, 0.0], \"yaxis\": \"y\"}, {\"hoverinfo\": \"text\", \"marker\": {\"color\": \"rgb(61,153,112)\"}, \"mode\": \"lines\", \"type\": \"scatter\", \"x\": [2905.0, 2905.0, 2915.0, 2915.0], \"xaxis\": \"x\", \"y\": [0.0, 7.040967720640345, 7.040967720640345, 0.0], \"yaxis\": \"y\"}, {\"hoverinfo\": \"text\", \"marker\": {\"color\": \"rgb(61,153,112)\"}, \"mode\": \"lines\", \"type\": \"scatter\", \"x\": [2890.0, 2890.0, 2910.0, 2910.0], \"xaxis\": \"x\", \"y\": [6.8490972725759764, 7.272451959450661, 7.272451959450661, 7.040967720640345], \"yaxis\": \"y\"}, {\"hoverinfo\": \"text\", \"marker\": {\"color\": \"rgb(61,153,112)\"}, \"mode\": \"lines\", \"type\": \"scatter\", \"x\": [2935.0, 2935.0, 2945.0, 2945.0], \"xaxis\": \"x\", \"y\": [0.0, 6.1821176869158005, 6.1821176869158005, 0.0], \"yaxis\": \"y\"}, {\"hoverinfo\": \"text\", \"marker\": {\"color\": \"rgb(61,153,112)\"}, \"mode\": \"lines\", \"type\": \"scatter\", \"x\": [2925.0, 2925.0, 2940.0, 2940.0], \"xaxis\": \"x\", \"y\": [0.0, 6.708426265188501, 6.708426265188501, 6.1821176869158005], \"yaxis\": \"y\"}, {\"hoverinfo\": \"text\", \"marker\": {\"color\": \"rgb(61,153,112)\"}, \"mode\": \"lines\", \"type\": \"scatter\", \"x\": [2965.0, 2965.0, 2975.0, 2975.0], \"xaxis\": \"x\", \"y\": [0.0, 5.750554285986182, 5.750554285986182, 0.0], \"yaxis\": \"y\"}, {\"hoverinfo\": \"text\", \"marker\": {\"color\": \"rgb(61,153,112)\"}, \"mode\": \"lines\", \"type\": \"scatter\", \"x\": [2955.0, 2955.0, 2970.0, 2970.0], \"xaxis\": \"x\", \"y\": [0.0, 6.709497945501285, 6.709497945501285, 5.750554285986182], \"yaxis\": \"y\"}, {\"hoverinfo\": \"text\", \"marker\": {\"color\": \"rgb(61,153,112)\"}, \"mode\": \"lines\", \"type\": \"scatter\", \"x\": [2932.5, 2932.5, 2962.5, 2962.5], \"xaxis\": \"x\", \"y\": [6.708426265188501, 7.448553996028293, 7.448553996028293, 6.709497945501285], \"yaxis\": \"y\"}, {\"hoverinfo\": \"text\", \"marker\": {\"color\": \"rgb(61,153,112)\"}, \"mode\": \"lines\", \"type\": \"scatter\", \"x\": [2985.0, 2985.0, 2995.0, 2995.0], \"xaxis\": \"x\", \"y\": [0.0, 5.5866029087494296, 5.5866029087494296, 0.0], \"yaxis\": \"y\"}, {\"hoverinfo\": \"text\", \"marker\": {\"color\": \"rgb(61,153,112)\"}, \"mode\": \"lines\", \"type\": \"scatter\", \"x\": [3005.0, 3005.0, 3015.0, 3015.0], \"xaxis\": \"x\", \"y\": [0.0, 6.074069239033769, 6.074069239033769, 0.0], \"yaxis\": \"y\"}, {\"hoverinfo\": \"text\", \"marker\": {\"color\": \"rgb(61,153,112)\"}, \"mode\": \"lines\", \"type\": \"scatter\", \"x\": [2990.0, 2990.0, 3010.0, 3010.0], \"xaxis\": \"x\", \"y\": [5.5866029087494296, 6.7487647994651105, 6.7487647994651105, 6.074069239033769], \"yaxis\": \"y\"}, {\"hoverinfo\": \"text\", \"marker\": {\"color\": \"rgb(61,153,112)\"}, \"mode\": \"lines\", \"type\": \"scatter\", \"x\": [3045.0, 3045.0, 3055.0, 3055.0], \"xaxis\": \"x\", \"y\": [0.0, 5.458625736141576, 5.458625736141576, 0.0], \"yaxis\": \"y\"}, {\"hoverinfo\": \"text\", \"marker\": {\"color\": \"rgb(61,153,112)\"}, \"mode\": \"lines\", \"type\": \"scatter\", \"x\": [3035.0, 3035.0, 3050.0, 3050.0], \"xaxis\": \"x\", \"y\": [0.0, 6.3532541832011225, 6.3532541832011225, 5.458625736141576], \"yaxis\": \"y\"}, {\"hoverinfo\": \"text\", \"marker\": {\"color\": \"rgb(61,153,112)\"}, \"mode\": \"lines\", \"type\": \"scatter\", \"x\": [3025.0, 3025.0, 3042.5, 3042.5], \"xaxis\": \"x\", \"y\": [0.0, 6.754354179043856, 6.754354179043856, 6.3532541832011225], \"yaxis\": \"y\"}, {\"hoverinfo\": \"text\", \"marker\": {\"color\": \"rgb(61,153,112)\"}, \"mode\": \"lines\", \"type\": \"scatter\", \"x\": [3000.0, 3000.0, 3033.75, 3033.75], \"xaxis\": \"x\", \"y\": [6.7487647994651105, 7.492473570377124, 7.492473570377124, 6.754354179043856], \"yaxis\": \"y\"}, {\"hoverinfo\": \"text\", \"marker\": {\"color\": \"rgb(61,153,112)\"}, \"mode\": \"lines\", \"type\": \"scatter\", \"x\": [2947.5, 2947.5, 3016.875, 3016.875], \"xaxis\": \"x\", \"y\": [7.448553996028293, 7.760627961060617, 7.760627961060617, 7.492473570377124], \"yaxis\": \"y\"}, {\"hoverinfo\": \"text\", \"marker\": {\"color\": \"rgb(61,153,112)\"}, \"mode\": \"lines\", \"type\": \"scatter\", \"x\": [3075.0, 3075.0, 3085.0, 3085.0], \"xaxis\": \"x\", \"y\": [0.0, 5.813096346393318, 5.813096346393318, 0.0], \"yaxis\": \"y\"}, {\"hoverinfo\": \"text\", \"marker\": {\"color\": \"rgb(61,153,112)\"}, \"mode\": \"lines\", \"type\": \"scatter\", \"x\": [3065.0, 3065.0, 3080.0, 3080.0], \"xaxis\": \"x\", \"y\": [0.0, 6.936462312599334, 6.936462312599334, 5.813096346393318], \"yaxis\": \"y\"}, {\"hoverinfo\": \"text\", \"marker\": {\"color\": \"rgb(61,153,112)\"}, \"mode\": \"lines\", \"type\": \"scatter\", \"x\": [3115.0, 3115.0, 3125.0, 3125.0], \"xaxis\": \"x\", \"y\": [0.0, 6.325777934588598, 6.325777934588598, 0.0], \"yaxis\": \"y\"}, {\"hoverinfo\": \"text\", \"marker\": {\"color\": \"rgb(61,153,112)\"}, \"mode\": \"lines\", \"type\": \"scatter\", \"x\": [3105.0, 3105.0, 3120.0, 3120.0], \"xaxis\": \"x\", \"y\": [0.0, 6.479785932919455, 6.479785932919455, 6.325777934588598], \"yaxis\": \"y\"}, {\"hoverinfo\": \"text\", \"marker\": {\"color\": \"rgb(61,153,112)\"}, \"mode\": \"lines\", \"type\": \"scatter\", \"x\": [3095.0, 3095.0, 3112.5, 3112.5], \"xaxis\": \"x\", \"y\": [0.0, 7.485907782957097, 7.485907782957097, 6.479785932919455], \"yaxis\": \"y\"}, {\"hoverinfo\": \"text\", \"marker\": {\"color\": \"rgb(61,153,112)\"}, \"mode\": \"lines\", \"type\": \"scatter\", \"x\": [3072.5, 3072.5, 3103.75, 3103.75], \"xaxis\": \"x\", \"y\": [6.936462312599334, 8.057733903482388, 8.057733903482388, 7.485907782957097], \"yaxis\": \"y\"}, {\"hoverinfo\": \"text\", \"marker\": {\"color\": \"rgb(61,153,112)\"}, \"mode\": \"lines\", \"type\": \"scatter\", \"x\": [2982.1875, 2982.1875, 3088.125, 3088.125], \"xaxis\": \"x\", \"y\": [7.760627961060617, 8.195489645546026, 8.195489645546026, 8.057733903482388], \"yaxis\": \"y\"}, {\"hoverinfo\": \"text\", \"marker\": {\"color\": \"rgb(61,153,112)\"}, \"mode\": \"lines\", \"type\": \"scatter\", \"x\": [3135.0, 3135.0, 3145.0, 3145.0], \"xaxis\": \"x\", \"y\": [0.0, 6.451874273311211, 6.451874273311211, 0.0], \"yaxis\": \"y\"}, {\"hoverinfo\": \"text\", \"marker\": {\"color\": \"rgb(61,153,112)\"}, \"mode\": \"lines\", \"type\": \"scatter\", \"x\": [3155.0, 3155.0, 3165.0, 3165.0], \"xaxis\": \"x\", \"y\": [0.0, 6.500669264200113, 6.500669264200113, 0.0], \"yaxis\": \"y\"}, {\"hoverinfo\": \"text\", \"marker\": {\"color\": \"rgb(61,153,112)\"}, \"mode\": \"lines\", \"type\": \"scatter\", \"x\": [3140.0, 3140.0, 3160.0, 3160.0], \"xaxis\": \"x\", \"y\": [6.451874273311211, 6.924826614354592, 6.924826614354592, 6.500669264200113], \"yaxis\": \"y\"}, {\"hoverinfo\": \"text\", \"marker\": {\"color\": \"rgb(61,153,112)\"}, \"mode\": \"lines\", \"type\": \"scatter\", \"x\": [3185.0, 3185.0, 3195.0, 3195.0], \"xaxis\": \"x\", \"y\": [0.0, 6.006429875283416, 6.006429875283416, 0.0], \"yaxis\": \"y\"}, {\"hoverinfo\": \"text\", \"marker\": {\"color\": \"rgb(61,153,112)\"}, \"mode\": \"lines\", \"type\": \"scatter\", \"x\": [3175.0, 3175.0, 3190.0, 3190.0], \"xaxis\": \"x\", \"y\": [0.0, 7.300029451108077, 7.300029451108077, 6.006429875283416], \"yaxis\": \"y\"}, {\"hoverinfo\": \"text\", \"marker\": {\"color\": \"rgb(61,153,112)\"}, \"mode\": \"lines\", \"type\": \"scatter\", \"x\": [3150.0, 3150.0, 3182.5, 3182.5], \"xaxis\": \"x\", \"y\": [6.924826614354592, 8.316695512578024, 8.316695512578024, 7.300029451108077], \"yaxis\": \"y\"}, {\"hoverinfo\": \"text\", \"marker\": {\"color\": \"rgb(61,153,112)\"}, \"mode\": \"lines\", \"type\": \"scatter\", \"x\": [3035.15625, 3035.15625, 3166.25, 3166.25], \"xaxis\": \"x\", \"y\": [8.195489645546026, 8.49642865372025, 8.49642865372025, 8.316695512578024], \"yaxis\": \"y\"}, {\"hoverinfo\": \"text\", \"marker\": {\"color\": \"rgb(61,153,112)\"}, \"mode\": \"lines\", \"type\": \"scatter\", \"x\": [2900.0, 2900.0, 3100.703125, 3100.703125], \"xaxis\": \"x\", \"y\": [7.272451959450661, 8.721625020804774, 8.721625020804774, 8.49642865372025], \"yaxis\": \"y\"}, {\"hoverinfo\": \"text\", \"marker\": {\"color\": \"rgb(0,116,217)\"}, \"mode\": \"lines\", \"type\": \"scatter\", \"x\": [2781.25, 2781.25, 3000.3515625, 3000.3515625], \"xaxis\": \"x\", \"y\": [8.505521271061193, 9.149135501934678, 9.149135501934678, 8.721625020804774], \"yaxis\": \"y\"}, {\"hoverinfo\": \"text\", \"marker\": {\"color\": \"rgb(255,65,54)\"}, \"mode\": \"lines\", \"type\": \"scatter\", \"x\": [3215.0, 3215.0, 3225.0, 3225.0], \"xaxis\": \"x\", \"y\": [0.0, 6.383451915811953, 6.383451915811953, 0.0], \"yaxis\": \"y\"}, {\"hoverinfo\": \"text\", \"marker\": {\"color\": \"rgb(255,65,54)\"}, \"mode\": \"lines\", \"type\": \"scatter\", \"x\": [3205.0, 3205.0, 3220.0, 3220.0], \"xaxis\": \"x\", \"y\": [0.0, 7.757501749346434, 7.757501749346434, 6.383451915811953], \"yaxis\": \"y\"}, {\"hoverinfo\": \"text\", \"marker\": {\"color\": \"rgb(35,205,205)\"}, \"mode\": \"lines\", \"type\": \"scatter\", \"x\": [3255.0, 3255.0, 3265.0, 3265.0], \"xaxis\": \"x\", \"y\": [0.0, 6.506550441857814, 6.506550441857814, 0.0], \"yaxis\": \"y\"}, {\"hoverinfo\": \"text\", \"marker\": {\"color\": \"rgb(35,205,205)\"}, \"mode\": \"lines\", \"type\": \"scatter\", \"x\": [3245.0, 3245.0, 3260.0, 3260.0], \"xaxis\": \"x\", \"y\": [0.0, 7.198961861952579, 7.198961861952579, 6.506550441857814], \"yaxis\": \"y\"}, {\"hoverinfo\": \"text\", \"marker\": {\"color\": \"rgb(35,205,205)\"}, \"mode\": \"lines\", \"type\": \"scatter\", \"x\": [3235.0, 3235.0, 3252.5, 3252.5], \"xaxis\": \"x\", \"y\": [0.0, 7.70394454002164, 7.70394454002164, 7.198961861952579], \"yaxis\": \"y\"}, {\"hoverinfo\": \"text\", \"marker\": {\"color\": \"rgb(35,205,205)\"}, \"mode\": \"lines\", \"type\": \"scatter\", \"x\": [3285.0, 3285.0, 3295.0, 3295.0], \"xaxis\": \"x\", \"y\": [0.0, 5.804235862145823, 5.804235862145823, 0.0], \"yaxis\": \"y\"}, {\"hoverinfo\": \"text\", \"marker\": {\"color\": \"rgb(35,205,205)\"}, \"mode\": \"lines\", \"type\": \"scatter\", \"x\": [3315.0, 3315.0, 3325.0, 3325.0], \"xaxis\": \"x\", \"y\": [0.0, 6.0117950650124685, 6.0117950650124685, 0.0], \"yaxis\": \"y\"}, {\"hoverinfo\": \"text\", \"marker\": {\"color\": \"rgb(35,205,205)\"}, \"mode\": \"lines\", \"type\": \"scatter\", \"x\": [3305.0, 3305.0, 3320.0, 3320.0], \"xaxis\": \"x\", \"y\": [0.0, 6.402496771504721, 6.402496771504721, 6.0117950650124685], \"yaxis\": \"y\"}, {\"hoverinfo\": \"text\", \"marker\": {\"color\": \"rgb(35,205,205)\"}, \"mode\": \"lines\", \"type\": \"scatter\", \"x\": [3290.0, 3290.0, 3312.5, 3312.5], \"xaxis\": \"x\", \"y\": [5.804235862145823, 7.297568686195941, 7.297568686195941, 6.402496771504721], \"yaxis\": \"y\"}, {\"hoverinfo\": \"text\", \"marker\": {\"color\": \"rgb(35,205,205)\"}, \"mode\": \"lines\", \"type\": \"scatter\", \"x\": [3275.0, 3275.0, 3301.25, 3301.25], \"xaxis\": \"x\", \"y\": [0.0, 7.911846890846669, 7.911846890846669, 7.297568686195941], \"yaxis\": \"y\"}, {\"hoverinfo\": \"text\", \"marker\": {\"color\": \"rgb(35,205,205)\"}, \"mode\": \"lines\", \"type\": \"scatter\", \"x\": [3243.75, 3243.75, 3288.125, 3288.125], \"xaxis\": \"x\", \"y\": [7.70394454002164, 8.20025003766403, 8.20025003766403, 7.911846890846669], \"yaxis\": \"y\"}, {\"hoverinfo\": \"text\", \"marker\": {\"color\": \"rgb(0,116,217)\"}, \"mode\": \"lines\", \"type\": \"scatter\", \"x\": [3212.5, 3212.5, 3265.9375, 3265.9375], \"xaxis\": \"x\", \"y\": [7.757501749346434, 9.194710715306211, 9.194710715306211, 8.20025003766403], \"yaxis\": \"y\"}, {\"hoverinfo\": \"text\", \"marker\": {\"color\": \"rgb(0,116,217)\"}, \"mode\": \"lines\", \"type\": \"scatter\", \"x\": [2890.80078125, 2890.80078125, 3239.21875, 3239.21875], \"xaxis\": \"x\", \"y\": [9.149135501934678, 9.46190162467866, 9.46190162467866, 9.194710715306211], \"yaxis\": \"y\"}, {\"hoverinfo\": \"text\", \"marker\": {\"color\": \"rgb(133,20,75)\"}, \"mode\": \"lines\", \"type\": \"scatter\", \"x\": [3335.0, 3335.0, 3345.0, 3345.0], \"xaxis\": \"x\", \"y\": [0.0, 6.864626974187386, 6.864626974187386, 0.0], \"yaxis\": \"y\"}, {\"hoverinfo\": \"text\", \"marker\": {\"color\": \"rgb(133,20,75)\"}, \"mode\": \"lines\", \"type\": \"scatter\", \"x\": [3355.0, 3355.0, 3365.0, 3365.0], \"xaxis\": \"x\", \"y\": [0.0, 6.305359849971606, 6.305359849971606, 0.0], \"yaxis\": \"y\"}, {\"hoverinfo\": \"text\", \"marker\": {\"color\": \"rgb(133,20,75)\"}, \"mode\": \"lines\", \"type\": \"scatter\", \"x\": [3375.0, 3375.0, 3385.0, 3385.0], \"xaxis\": \"x\", \"y\": [0.0, 6.381369687466905, 6.381369687466905, 0.0], \"yaxis\": \"y\"}, {\"hoverinfo\": \"text\", \"marker\": {\"color\": \"rgb(133,20,75)\"}, \"mode\": \"lines\", \"type\": \"scatter\", \"x\": [3360.0, 3360.0, 3380.0, 3380.0], \"xaxis\": \"x\", \"y\": [6.305359849971606, 7.270902100881495, 7.270902100881495, 6.381369687466905], \"yaxis\": \"y\"}, {\"hoverinfo\": \"text\", \"marker\": {\"color\": \"rgb(133,20,75)\"}, \"mode\": \"lines\", \"type\": \"scatter\", \"x\": [3395.0, 3395.0, 3405.0, 3405.0], \"xaxis\": \"x\", \"y\": [0.0, 5.958962569926668, 5.958962569926668, 0.0], \"yaxis\": \"y\"}, {\"hoverinfo\": \"text\", \"marker\": {\"color\": \"rgb(133,20,75)\"}, \"mode\": \"lines\", \"type\": \"scatter\", \"x\": [3415.0, 3415.0, 3425.0, 3425.0], \"xaxis\": \"x\", \"y\": [0.0, 6.309295455456276, 6.309295455456276, 0.0], \"yaxis\": \"y\"}, {\"hoverinfo\": \"text\", \"marker\": {\"color\": \"rgb(133,20,75)\"}, \"mode\": \"lines\", \"type\": \"scatter\", \"x\": [3400.0, 3400.0, 3420.0, 3420.0], \"xaxis\": \"x\", \"y\": [5.958962569926668, 7.380426216753366, 7.380426216753366, 6.309295455456276], \"yaxis\": \"y\"}, {\"hoverinfo\": \"text\", \"marker\": {\"color\": \"rgb(133,20,75)\"}, \"mode\": \"lines\", \"type\": \"scatter\", \"x\": [3370.0, 3370.0, 3410.0, 3410.0], \"xaxis\": \"x\", \"y\": [7.270902100881495, 7.688116141005588, 7.688116141005588, 7.380426216753366], \"yaxis\": \"y\"}, {\"hoverinfo\": \"text\", \"marker\": {\"color\": \"rgb(133,20,75)\"}, \"mode\": \"lines\", \"type\": \"scatter\", \"x\": [3340.0, 3340.0, 3390.0, 3390.0], \"xaxis\": \"x\", \"y\": [6.864626974187386, 8.019389568619268, 8.019389568619268, 7.688116141005588], \"yaxis\": \"y\"}, {\"hoverinfo\": \"text\", \"marker\": {\"color\": \"rgb(133,20,75)\"}, \"mode\": \"lines\", \"type\": \"scatter\", \"x\": [3435.0, 3435.0, 3445.0, 3445.0], \"xaxis\": \"x\", \"y\": [0.0, 6.635345703323729, 6.635345703323729, 0.0], \"yaxis\": \"y\"}, {\"hoverinfo\": \"text\", \"marker\": {\"color\": \"rgb(133,20,75)\"}, \"mode\": \"lines\", \"type\": \"scatter\", \"x\": [3455.0, 3455.0, 3465.0, 3465.0], \"xaxis\": \"x\", \"y\": [0.0, 6.035844781140648, 6.035844781140648, 0.0], \"yaxis\": \"y\"}, {\"hoverinfo\": \"text\", \"marker\": {\"color\": \"rgb(133,20,75)\"}, \"mode\": \"lines\", \"type\": \"scatter\", \"x\": [3485.0, 3485.0, 3495.0, 3495.0], \"xaxis\": \"x\", \"y\": [0.0, 5.743438698263656, 5.743438698263656, 0.0], \"yaxis\": \"y\"}, {\"hoverinfo\": \"text\", \"marker\": {\"color\": \"rgb(133,20,75)\"}, \"mode\": \"lines\", \"type\": \"scatter\", \"x\": [3475.0, 3475.0, 3490.0, 3490.0], \"xaxis\": \"x\", \"y\": [0.0, 6.820661587262829, 6.820661587262829, 5.743438698263656], \"yaxis\": \"y\"}, {\"hoverinfo\": \"text\", \"marker\": {\"color\": \"rgb(133,20,75)\"}, \"mode\": \"lines\", \"type\": \"scatter\", \"x\": [3460.0, 3460.0, 3482.5, 3482.5], \"xaxis\": \"x\", \"y\": [6.035844781140648, 7.289285507401284, 7.289285507401284, 6.820661587262829], \"yaxis\": \"y\"}, {\"hoverinfo\": \"text\", \"marker\": {\"color\": \"rgb(133,20,75)\"}, \"mode\": \"lines\", \"type\": \"scatter\", \"x\": [3440.0, 3440.0, 3471.25, 3471.25], \"xaxis\": \"x\", \"y\": [6.635345703323729, 7.65871316067603, 7.65871316067603, 7.289285507401284], \"yaxis\": \"y\"}, {\"hoverinfo\": \"text\", \"marker\": {\"color\": \"rgb(133,20,75)\"}, \"mode\": \"lines\", \"type\": \"scatter\", \"x\": [3505.0, 3505.0, 3515.0, 3515.0], \"xaxis\": \"x\", \"y\": [0.0, 6.275307625131217, 6.275307625131217, 0.0], \"yaxis\": \"y\"}, {\"hoverinfo\": \"text\", \"marker\": {\"color\": \"rgb(133,20,75)\"}, \"mode\": \"lines\", \"type\": \"scatter\", \"x\": [3525.0, 3525.0, 3535.0, 3535.0], \"xaxis\": \"x\", \"y\": [0.0, 6.448955734569946, 6.448955734569946, 0.0], \"yaxis\": \"y\"}, {\"hoverinfo\": \"text\", \"marker\": {\"color\": \"rgb(133,20,75)\"}, \"mode\": \"lines\", \"type\": \"scatter\", \"x\": [3510.0, 3510.0, 3530.0, 3530.0], \"xaxis\": \"x\", \"y\": [6.275307625131217, 7.247671715465121, 7.247671715465121, 6.448955734569946], \"yaxis\": \"y\"}, {\"hoverinfo\": \"text\", \"marker\": {\"color\": \"rgb(133,20,75)\"}, \"mode\": \"lines\", \"type\": \"scatter\", \"x\": [3555.0, 3555.0, 3565.0, 3565.0], \"xaxis\": \"x\", \"y\": [0.0, 5.010963260128555, 5.010963260128555, 0.0], \"yaxis\": \"y\"}, {\"hoverinfo\": \"text\", \"marker\": {\"color\": \"rgb(133,20,75)\"}, \"mode\": \"lines\", \"type\": \"scatter\", \"x\": [3545.0, 3545.0, 3560.0, 3560.0], \"xaxis\": \"x\", \"y\": [0.0, 6.2626703331312745, 6.2626703331312745, 5.010963260128555], \"yaxis\": \"y\"}, {\"hoverinfo\": \"text\", \"marker\": {\"color\": \"rgb(133,20,75)\"}, \"mode\": \"lines\", \"type\": \"scatter\", \"x\": [3575.0, 3575.0, 3585.0, 3585.0], \"xaxis\": \"x\", \"y\": [0.0, 7.101461219905849, 7.101461219905849, 0.0], \"yaxis\": \"y\"}, {\"hoverinfo\": \"text\", \"marker\": {\"color\": \"rgb(133,20,75)\"}, \"mode\": \"lines\", \"type\": \"scatter\", \"x\": [3552.5, 3552.5, 3580.0, 3580.0], \"xaxis\": \"x\", \"y\": [6.2626703331312745, 7.512544705055696, 7.512544705055696, 7.101461219905849], \"yaxis\": \"y\"}, {\"hoverinfo\": \"text\", \"marker\": {\"color\": \"rgb(133,20,75)\"}, \"mode\": \"lines\", \"type\": \"scatter\", \"x\": [3520.0, 3520.0, 3566.25, 3566.25], \"xaxis\": \"x\", \"y\": [7.247671715465121, 8.027484462481343, 8.027484462481343, 7.512544705055696], \"yaxis\": \"y\"}, {\"hoverinfo\": \"text\", \"marker\": {\"color\": \"rgb(133,20,75)\"}, \"mode\": \"lines\", \"type\": \"scatter\", \"x\": [3455.625, 3455.625, 3543.125, 3543.125], \"xaxis\": \"x\", \"y\": [7.65871316067603, 8.252595189724751, 8.252595189724751, 8.027484462481343], \"yaxis\": \"y\"}, {\"hoverinfo\": \"text\", \"marker\": {\"color\": \"rgb(133,20,75)\"}, \"mode\": \"lines\", \"type\": \"scatter\", \"x\": [3365.0, 3365.0, 3499.375, 3499.375], \"xaxis\": \"x\", \"y\": [8.019389568619268, 8.464570599028432, 8.464570599028432, 8.252595189724751], \"yaxis\": \"y\"}, {\"hoverinfo\": \"text\", \"marker\": {\"color\": \"rgb(133,20,75)\"}, \"mode\": \"lines\", \"type\": \"scatter\", \"x\": [3615.0, 3615.0, 3625.0, 3625.0], \"xaxis\": \"x\", \"y\": [0.0, 5.942901205120866, 5.942901205120866, 0.0], \"yaxis\": \"y\"}, {\"hoverinfo\": \"text\", \"marker\": {\"color\": \"rgb(133,20,75)\"}, \"mode\": \"lines\", \"type\": \"scatter\", \"x\": [3605.0, 3605.0, 3620.0, 3620.0], \"xaxis\": \"x\", \"y\": [0.0, 6.760767135619402, 6.760767135619402, 5.942901205120866], \"yaxis\": \"y\"}, {\"hoverinfo\": \"text\", \"marker\": {\"color\": \"rgb(133,20,75)\"}, \"mode\": \"lines\", \"type\": \"scatter\", \"x\": [3595.0, 3595.0, 3612.5, 3612.5], \"xaxis\": \"x\", \"y\": [0.0, 7.262183094736307, 7.262183094736307, 6.760767135619402], \"yaxis\": \"y\"}, {\"hoverinfo\": \"text\", \"marker\": {\"color\": \"rgb(133,20,75)\"}, \"mode\": \"lines\", \"type\": \"scatter\", \"x\": [3635.0, 3635.0, 3645.0, 3645.0], \"xaxis\": \"x\", \"y\": [0.0, 6.144046472728935, 6.144046472728935, 0.0], \"yaxis\": \"y\"}, {\"hoverinfo\": \"text\", \"marker\": {\"color\": \"rgb(133,20,75)\"}, \"mode\": \"lines\", \"type\": \"scatter\", \"x\": [3665.0, 3665.0, 3675.0, 3675.0], \"xaxis\": \"x\", \"y\": [0.0, 5.7122327480955715, 5.7122327480955715, 0.0], \"yaxis\": \"y\"}, {\"hoverinfo\": \"text\", \"marker\": {\"color\": \"rgb(133,20,75)\"}, \"mode\": \"lines\", \"type\": \"scatter\", \"x\": [3655.0, 3655.0, 3670.0, 3670.0], \"xaxis\": \"x\", \"y\": [0.0, 6.267362353421288, 6.267362353421288, 5.7122327480955715], \"yaxis\": \"y\"}, {\"hoverinfo\": \"text\", \"marker\": {\"color\": \"rgb(133,20,75)\"}, \"mode\": \"lines\", \"type\": \"scatter\", \"x\": [3640.0, 3640.0, 3662.5, 3662.5], \"xaxis\": \"x\", \"y\": [6.144046472728935, 6.826813541132363, 6.826813541132363, 6.267362353421288], \"yaxis\": \"y\"}, {\"hoverinfo\": \"text\", \"marker\": {\"color\": \"rgb(133,20,75)\"}, \"mode\": \"lines\", \"type\": \"scatter\", \"x\": [3695.0, 3695.0, 3705.0, 3705.0], \"xaxis\": \"x\", \"y\": [0.0, 6.637301791609361, 6.637301791609361, 0.0], \"yaxis\": \"y\"}, {\"hoverinfo\": \"text\", \"marker\": {\"color\": \"rgb(133,20,75)\"}, \"mode\": \"lines\", \"type\": \"scatter\", \"x\": [3685.0, 3685.0, 3700.0, 3700.0], \"xaxis\": \"x\", \"y\": [0.0, 7.158898898100042, 7.158898898100042, 6.637301791609361], \"yaxis\": \"y\"}, {\"hoverinfo\": \"text\", \"marker\": {\"color\": \"rgb(133,20,75)\"}, \"mode\": \"lines\", \"type\": \"scatter\", \"x\": [3651.25, 3651.25, 3692.5, 3692.5], \"xaxis\": \"x\", \"y\": [6.826813541132363, 7.498247132148653, 7.498247132148653, 7.158898898100042], \"yaxis\": \"y\"}, {\"hoverinfo\": \"text\", \"marker\": {\"color\": \"rgb(133,20,75)\"}, \"mode\": \"lines\", \"type\": \"scatter\", \"x\": [3715.0, 3715.0, 3725.0, 3725.0], \"xaxis\": \"x\", \"y\": [0.0, 4.991709404877414, 4.991709404877414, 0.0], \"yaxis\": \"y\"}, {\"hoverinfo\": \"text\", \"marker\": {\"color\": \"rgb(133,20,75)\"}, \"mode\": \"lines\", \"type\": \"scatter\", \"x\": [3735.0, 3735.0, 3745.0, 3745.0], \"xaxis\": \"x\", \"y\": [0.0, 5.884946389195752, 5.884946389195752, 0.0], \"yaxis\": \"y\"}, {\"hoverinfo\": \"text\", \"marker\": {\"color\": \"rgb(133,20,75)\"}, \"mode\": \"lines\", \"type\": \"scatter\", \"x\": [3755.0, 3755.0, 3765.0, 3765.0], \"xaxis\": \"x\", \"y\": [0.0, 5.886790359323124, 5.886790359323124, 0.0], \"yaxis\": \"y\"}, {\"hoverinfo\": \"text\", \"marker\": {\"color\": \"rgb(133,20,75)\"}, \"mode\": \"lines\", \"type\": \"scatter\", \"x\": [3740.0, 3740.0, 3760.0, 3760.0], \"xaxis\": \"x\", \"y\": [5.884946389195752, 6.682228809263469, 6.682228809263469, 5.886790359323124], \"yaxis\": \"y\"}, {\"hoverinfo\": \"text\", \"marker\": {\"color\": \"rgb(133,20,75)\"}, \"mode\": \"lines\", \"type\": \"scatter\", \"x\": [3720.0, 3720.0, 3750.0, 3750.0], \"xaxis\": \"x\", \"y\": [4.991709404877414, 7.1984520566251335, 7.1984520566251335, 6.682228809263469], \"yaxis\": \"y\"}, {\"hoverinfo\": \"text\", \"marker\": {\"color\": \"rgb(133,20,75)\"}, \"mode\": \"lines\", \"type\": \"scatter\", \"x\": [3785.0, 3785.0, 3795.0, 3795.0], \"xaxis\": \"x\", \"y\": [0.0, 5.89093474741304, 5.89093474741304, 0.0], \"yaxis\": \"y\"}, {\"hoverinfo\": \"text\", \"marker\": {\"color\": \"rgb(133,20,75)\"}, \"mode\": \"lines\", \"type\": \"scatter\", \"x\": [3775.0, 3775.0, 3790.0, 3790.0], \"xaxis\": \"x\", \"y\": [0.0, 6.731598829930923, 6.731598829930923, 5.89093474741304], \"yaxis\": \"y\"}, {\"hoverinfo\": \"text\", \"marker\": {\"color\": \"rgb(133,20,75)\"}, \"mode\": \"lines\", \"type\": \"scatter\", \"x\": [3815.0, 3815.0, 3825.0, 3825.0], \"xaxis\": \"x\", \"y\": [0.0, 5.89489431171039, 5.89489431171039, 0.0], \"yaxis\": \"y\"}, {\"hoverinfo\": \"text\", \"marker\": {\"color\": \"rgb(133,20,75)\"}, \"mode\": \"lines\", \"type\": \"scatter\", \"x\": [3805.0, 3805.0, 3820.0, 3820.0], \"xaxis\": \"x\", \"y\": [0.0, 6.822210996669857, 6.822210996669857, 5.89489431171039], \"yaxis\": \"y\"}, {\"hoverinfo\": \"text\", \"marker\": {\"color\": \"rgb(133,20,75)\"}, \"mode\": \"lines\", \"type\": \"scatter\", \"x\": [3782.5, 3782.5, 3812.5, 3812.5], \"xaxis\": \"x\", \"y\": [6.731598829930923, 7.3927345286999655, 7.3927345286999655, 6.822210996669857], \"yaxis\": \"y\"}, {\"hoverinfo\": \"text\", \"marker\": {\"color\": \"rgb(133,20,75)\"}, \"mode\": \"lines\", \"type\": \"scatter\", \"x\": [3735.0, 3735.0, 3797.5, 3797.5], \"xaxis\": \"x\", \"y\": [7.1984520566251335, 7.81071923861074, 7.81071923861074, 7.3927345286999655], \"yaxis\": \"y\"}, {\"hoverinfo\": \"text\", \"marker\": {\"color\": \"rgb(133,20,75)\"}, \"mode\": \"lines\", \"type\": \"scatter\", \"x\": [3671.875, 3671.875, 3766.25, 3766.25], \"xaxis\": \"x\", \"y\": [7.498247132148653, 8.02994301130535, 8.02994301130535, 7.81071923861074], \"yaxis\": \"y\"}, {\"hoverinfo\": \"text\", \"marker\": {\"color\": \"rgb(133,20,75)\"}, \"mode\": \"lines\", \"type\": \"scatter\", \"x\": [3603.75, 3603.75, 3719.0625, 3719.0625], \"xaxis\": \"x\", \"y\": [7.262183094736307, 8.650466143641312, 8.650466143641312, 8.02994301130535], \"yaxis\": \"y\"}, {\"hoverinfo\": \"text\", \"marker\": {\"color\": \"rgb(133,20,75)\"}, \"mode\": \"lines\", \"type\": \"scatter\", \"x\": [3432.1875, 3432.1875, 3661.40625, 3661.40625], \"xaxis\": \"x\", \"y\": [8.464570599028432, 8.719231332197793, 8.719231332197793, 8.650466143641312], \"yaxis\": \"y\"}, {\"hoverinfo\": \"text\", \"marker\": {\"color\": \"rgb(133,20,75)\"}, \"mode\": \"lines\", \"type\": \"scatter\", \"x\": [3845.0, 3845.0, 3855.0, 3855.0], \"xaxis\": \"x\", \"y\": [0.0, 5.7778500792262095, 5.7778500792262095, 0.0], \"yaxis\": \"y\"}, {\"hoverinfo\": \"text\", \"marker\": {\"color\": \"rgb(133,20,75)\"}, \"mode\": \"lines\", \"type\": \"scatter\", \"x\": [3865.0, 3865.0, 3875.0, 3875.0], \"xaxis\": \"x\", \"y\": [0.0, 5.929716467693455, 5.929716467693455, 0.0], \"yaxis\": \"y\"}, {\"hoverinfo\": \"text\", \"marker\": {\"color\": \"rgb(133,20,75)\"}, \"mode\": \"lines\", \"type\": \"scatter\", \"x\": [3850.0, 3850.0, 3870.0, 3870.0], \"xaxis\": \"x\", \"y\": [5.7778500792262095, 6.822510035986444, 6.822510035986444, 5.929716467693455], \"yaxis\": \"y\"}, {\"hoverinfo\": \"text\", \"marker\": {\"color\": \"rgb(133,20,75)\"}, \"mode\": \"lines\", \"type\": \"scatter\", \"x\": [3835.0, 3835.0, 3860.0, 3860.0], \"xaxis\": \"x\", \"y\": [0.0, 7.315204265659056, 7.315204265659056, 6.822510035986444], \"yaxis\": \"y\"}, {\"hoverinfo\": \"text\", \"marker\": {\"color\": \"rgb(133,20,75)\"}, \"mode\": \"lines\", \"type\": \"scatter\", \"x\": [3885.0, 3885.0, 3895.0, 3895.0], \"xaxis\": \"x\", \"y\": [0.0, 5.589567295310162, 5.589567295310162, 0.0], \"yaxis\": \"y\"}, {\"hoverinfo\": \"text\", \"marker\": {\"color\": \"rgb(133,20,75)\"}, \"mode\": \"lines\", \"type\": \"scatter\", \"x\": [3925.0, 3925.0, 3935.0, 3935.0], \"xaxis\": \"x\", \"y\": [0.0, 4.812153252873742, 4.812153252873742, 0.0], \"yaxis\": \"y\"}, {\"hoverinfo\": \"text\", \"marker\": {\"color\": \"rgb(133,20,75)\"}, \"mode\": \"lines\", \"type\": \"scatter\", \"x\": [3915.0, 3915.0, 3930.0, 3930.0], \"xaxis\": \"x\", \"y\": [0.0, 4.992652484877607, 4.992652484877607, 4.812153252873742], \"yaxis\": \"y\"}, {\"hoverinfo\": \"text\", \"marker\": {\"color\": \"rgb(133,20,75)\"}, \"mode\": \"lines\", \"type\": \"scatter\", \"x\": [3905.0, 3905.0, 3922.5, 3922.5], \"xaxis\": \"x\", \"y\": [0.0, 5.567003864165371, 5.567003864165371, 4.992652484877607], \"yaxis\": \"y\"}, {\"hoverinfo\": \"text\", \"marker\": {\"color\": \"rgb(133,20,75)\"}, \"mode\": \"lines\", \"type\": \"scatter\", \"x\": [3945.0, 3945.0, 3955.0, 3955.0], \"xaxis\": \"x\", \"y\": [0.0, 5.8408819570319555, 5.8408819570319555, 0.0], \"yaxis\": \"y\"}, {\"hoverinfo\": \"text\", \"marker\": {\"color\": \"rgb(133,20,75)\"}, \"mode\": \"lines\", \"type\": \"scatter\", \"x\": [3913.75, 3913.75, 3950.0, 3950.0], \"xaxis\": \"x\", \"y\": [5.567003864165371, 6.092034791922843, 6.092034791922843, 5.8408819570319555], \"yaxis\": \"y\"}, {\"hoverinfo\": \"text\", \"marker\": {\"color\": \"rgb(133,20,75)\"}, \"mode\": \"lines\", \"type\": \"scatter\", \"x\": [3890.0, 3890.0, 3931.875, 3931.875], \"xaxis\": \"x\", \"y\": [5.589567295310162, 6.607770800345474, 6.607770800345474, 6.092034791922843], \"yaxis\": \"y\"}, {\"hoverinfo\": \"text\", \"marker\": {\"color\": \"rgb(133,20,75)\"}, \"mode\": \"lines\", \"type\": \"scatter\", \"x\": [3965.0, 3965.0, 3975.0, 3975.0], \"xaxis\": \"x\", \"y\": [0.0, 6.15297861149328, 6.15297861149328, 0.0], \"yaxis\": \"y\"}, {\"hoverinfo\": \"text\", \"marker\": {\"color\": \"rgb(133,20,75)\"}, \"mode\": \"lines\", \"type\": \"scatter\", \"x\": [3985.0, 3985.0, 3995.0, 3995.0], \"xaxis\": \"x\", \"y\": [0.0, 6.164890189500006, 6.164890189500006, 0.0], \"yaxis\": \"y\"}, {\"hoverinfo\": \"text\", \"marker\": {\"color\": \"rgb(133,20,75)\"}, \"mode\": \"lines\", \"type\": \"scatter\", \"x\": [3970.0, 3970.0, 3990.0, 3990.0], \"xaxis\": \"x\", \"y\": [6.15297861149328, 6.978508002684294, 6.978508002684294, 6.164890189500006], \"yaxis\": \"y\"}, {\"hoverinfo\": \"text\", \"marker\": {\"color\": \"rgb(133,20,75)\"}, \"mode\": \"lines\", \"type\": \"scatter\", \"x\": [3910.9375, 3910.9375, 3980.0, 3980.0], \"xaxis\": \"x\", \"y\": [6.607770800345474, 7.392222960110962, 7.392222960110962, 6.978508002684294], \"yaxis\": \"y\"}, {\"hoverinfo\": \"text\", \"marker\": {\"color\": \"rgb(133,20,75)\"}, \"mode\": \"lines\", \"type\": \"scatter\", \"x\": [3847.5, 3847.5, 3945.46875, 3945.46875], \"xaxis\": \"x\", \"y\": [7.315204265659056, 7.713454472195142, 7.713454472195142, 7.392222960110962], \"yaxis\": \"y\"}, {\"hoverinfo\": \"text\", \"marker\": {\"color\": \"rgb(133,20,75)\"}, \"mode\": \"lines\", \"type\": \"scatter\", \"x\": [4005.0, 4005.0, 4015.0, 4015.0], \"xaxis\": \"x\", \"y\": [0.0, 6.993537110625681, 6.993537110625681, 0.0], \"yaxis\": \"y\"}, {\"hoverinfo\": \"text\", \"marker\": {\"color\": \"rgb(133,20,75)\"}, \"mode\": \"lines\", \"type\": \"scatter\", \"x\": [4035.0, 4035.0, 4045.0, 4045.0], \"xaxis\": \"x\", \"y\": [0.0, 6.519508715334349, 6.519508715334349, 0.0], \"yaxis\": \"y\"}, {\"hoverinfo\": \"text\", \"marker\": {\"color\": \"rgb(133,20,75)\"}, \"mode\": \"lines\", \"type\": \"scatter\", \"x\": [4025.0, 4025.0, 4040.0, 4040.0], \"xaxis\": \"x\", \"y\": [0.0, 7.236448364726682, 7.236448364726682, 6.519508715334349], \"yaxis\": \"y\"}, {\"hoverinfo\": \"text\", \"marker\": {\"color\": \"rgb(133,20,75)\"}, \"mode\": \"lines\", \"type\": \"scatter\", \"x\": [4010.0, 4010.0, 4032.5, 4032.5], \"xaxis\": \"x\", \"y\": [6.993537110625681, 7.8822502355305115, 7.8822502355305115, 7.236448364726682], \"yaxis\": \"y\"}, {\"hoverinfo\": \"text\", \"marker\": {\"color\": \"rgb(133,20,75)\"}, \"mode\": \"lines\", \"type\": \"scatter\", \"x\": [3896.484375, 3896.484375, 4021.25, 4021.25], \"xaxis\": \"x\", \"y\": [7.713454472195142, 8.299015325460758, 8.299015325460758, 7.8822502355305115], \"yaxis\": \"y\"}, {\"hoverinfo\": \"text\", \"marker\": {\"color\": \"rgb(133,20,75)\"}, \"mode\": \"lines\", \"type\": \"scatter\", \"x\": [4065.0, 4065.0, 4075.0, 4075.0], \"xaxis\": \"x\", \"y\": [0.0, 5.675370345024058, 5.675370345024058, 0.0], \"yaxis\": \"y\"}, {\"hoverinfo\": \"text\", \"marker\": {\"color\": \"rgb(133,20,75)\"}, \"mode\": \"lines\", \"type\": \"scatter\", \"x\": [4055.0, 4055.0, 4070.0, 4070.0], \"xaxis\": \"x\", \"y\": [0.0, 6.634190277376284, 6.634190277376284, 5.675370345024058], \"yaxis\": \"y\"}, {\"hoverinfo\": \"text\", \"marker\": {\"color\": \"rgb(133,20,75)\"}, \"mode\": \"lines\", \"type\": \"scatter\", \"x\": [4085.0, 4085.0, 4095.0, 4095.0], \"xaxis\": \"x\", \"y\": [0.0, 5.5869161212557, 5.5869161212557, 0.0], \"yaxis\": \"y\"}, {\"hoverinfo\": \"text\", \"marker\": {\"color\": \"rgb(133,20,75)\"}, \"mode\": \"lines\", \"type\": \"scatter\", \"x\": [4105.0, 4105.0, 4115.0, 4115.0], \"xaxis\": \"x\", \"y\": [0.0, 4.7931861610422795, 4.7931861610422795, 0.0], \"yaxis\": \"y\"}, {\"hoverinfo\": \"text\", \"marker\": {\"color\": \"rgb(133,20,75)\"}, \"mode\": \"lines\", \"type\": \"scatter\", \"x\": [4125.0, 4125.0, 4135.0, 4135.0], \"xaxis\": \"x\", \"y\": [0.0, 4.821267484773976, 4.821267484773976, 0.0], \"yaxis\": \"y\"}, {\"hoverinfo\": \"text\", \"marker\": {\"color\": \"rgb(133,20,75)\"}, \"mode\": \"lines\", \"type\": \"scatter\", \"x\": [4110.0, 4110.0, 4130.0, 4130.0], \"xaxis\": \"x\", \"y\": [4.7931861610422795, 6.392613650419103, 6.392613650419103, 4.821267484773976], \"yaxis\": \"y\"}, {\"hoverinfo\": \"text\", \"marker\": {\"color\": \"rgb(133,20,75)\"}, \"mode\": \"lines\", \"type\": \"scatter\", \"x\": [4090.0, 4090.0, 4120.0, 4120.0], \"xaxis\": \"x\", \"y\": [5.5869161212557, 6.828820902974722, 6.828820902974722, 6.392613650419103], \"yaxis\": \"y\"}, {\"hoverinfo\": \"text\", \"marker\": {\"color\": \"rgb(133,20,75)\"}, \"mode\": \"lines\", \"type\": \"scatter\", \"x\": [4062.5, 4062.5, 4105.0, 4105.0], \"xaxis\": \"x\", \"y\": [6.634190277376284, 7.374787019013183, 7.374787019013183, 6.828820902974722], \"yaxis\": \"y\"}, {\"hoverinfo\": \"text\", \"marker\": {\"color\": \"rgb(133,20,75)\"}, \"mode\": \"lines\", \"type\": \"scatter\", \"x\": [4155.0, 4155.0, 4165.0, 4165.0], \"xaxis\": \"x\", \"y\": [0.0, 5.3196120978287675, 5.3196120978287675, 0.0], \"yaxis\": \"y\"}, {\"hoverinfo\": \"text\", \"marker\": {\"color\": \"rgb(133,20,75)\"}, \"mode\": \"lines\", \"type\": \"scatter\", \"x\": [4145.0, 4145.0, 4160.0, 4160.0], \"xaxis\": \"x\", \"y\": [0.0, 6.0215243182352856, 6.0215243182352856, 5.3196120978287675], \"yaxis\": \"y\"}, {\"hoverinfo\": \"text\", \"marker\": {\"color\": \"rgb(133,20,75)\"}, \"mode\": \"lines\", \"type\": \"scatter\", \"x\": [4175.0, 4175.0, 4185.0, 4185.0], \"xaxis\": \"x\", \"y\": [0.0, 6.549641432764589, 6.549641432764589, 0.0], \"yaxis\": \"y\"}, {\"hoverinfo\": \"text\", \"marker\": {\"color\": \"rgb(133,20,75)\"}, \"mode\": \"lines\", \"type\": \"scatter\", \"x\": [4152.5, 4152.5, 4180.0, 4180.0], \"xaxis\": \"x\", \"y\": [6.0215243182352856, 6.911041585420572, 6.911041585420572, 6.549641432764589], \"yaxis\": \"y\"}, {\"hoverinfo\": \"text\", \"marker\": {\"color\": \"rgb(133,20,75)\"}, \"mode\": \"lines\", \"type\": \"scatter\", \"x\": [4195.0, 4195.0, 4205.0, 4205.0], \"xaxis\": \"x\", \"y\": [0.0, 5.521509250563471, 5.521509250563471, 0.0], \"yaxis\": \"y\"}, {\"hoverinfo\": \"text\", \"marker\": {\"color\": \"rgb(133,20,75)\"}, \"mode\": \"lines\", \"type\": \"scatter\", \"x\": [4215.0, 4215.0, 4225.0, 4225.0], \"xaxis\": \"x\", \"y\": [0.0, 6.066732961345646, 6.066732961345646, 0.0], \"yaxis\": \"y\"}, {\"hoverinfo\": \"text\", \"marker\": {\"color\": \"rgb(133,20,75)\"}, \"mode\": \"lines\", \"type\": \"scatter\", \"x\": [4200.0, 4200.0, 4220.0, 4220.0], \"xaxis\": \"x\", \"y\": [5.521509250563471, 7.06688960799976, 7.06688960799976, 6.066732961345646], \"yaxis\": \"y\"}, {\"hoverinfo\": \"text\", \"marker\": {\"color\": \"rgb(133,20,75)\"}, \"mode\": \"lines\", \"type\": \"scatter\", \"x\": [4166.25, 4166.25, 4210.0, 4210.0], \"xaxis\": \"x\", \"y\": [6.911041585420572, 7.7977111010703375, 7.7977111010703375, 7.06688960799976], \"yaxis\": \"y\"}, {\"hoverinfo\": \"text\", \"marker\": {\"color\": \"rgb(133,20,75)\"}, \"mode\": \"lines\", \"type\": \"scatter\", \"x\": [4083.75, 4083.75, 4188.125, 4188.125], \"xaxis\": \"x\", \"y\": [7.374787019013183, 8.07600597149578, 8.07600597149578, 7.7977111010703375], \"yaxis\": \"y\"}, {\"hoverinfo\": \"text\", \"marker\": {\"color\": \"rgb(133,20,75)\"}, \"mode\": \"lines\", \"type\": \"scatter\", \"x\": [4235.0, 4235.0, 4245.0, 4245.0], \"xaxis\": \"x\", \"y\": [0.0, 6.058322985533943, 6.058322985533943, 0.0], \"yaxis\": \"y\"}, {\"hoverinfo\": \"text\", \"marker\": {\"color\": \"rgb(133,20,75)\"}, \"mode\": \"lines\", \"type\": \"scatter\", \"x\": [4255.0, 4255.0, 4265.0, 4265.0], \"xaxis\": \"x\", \"y\": [0.0, 6.1069295210774825, 6.1069295210774825, 0.0], \"yaxis\": \"y\"}, {\"hoverinfo\": \"text\", \"marker\": {\"color\": \"rgb(133,20,75)\"}, \"mode\": \"lines\", \"type\": \"scatter\", \"x\": [4240.0, 4240.0, 4260.0, 4260.0], \"xaxis\": \"x\", \"y\": [6.058322985533943, 6.763520187504369, 6.763520187504369, 6.1069295210774825], \"yaxis\": \"y\"}, {\"hoverinfo\": \"text\", \"marker\": {\"color\": \"rgb(133,20,75)\"}, \"mode\": \"lines\", \"type\": \"scatter\", \"x\": [4275.0, 4275.0, 4285.0, 4285.0], \"xaxis\": \"x\", \"y\": [0.0, 6.330581294848885, 6.330581294848885, 0.0], \"yaxis\": \"y\"}, {\"hoverinfo\": \"text\", \"marker\": {\"color\": \"rgb(133,20,75)\"}, \"mode\": \"lines\", \"type\": \"scatter\", \"x\": [4295.0, 4295.0, 4305.0, 4305.0], \"xaxis\": \"x\", \"y\": [0.0, 5.803873235554976, 5.803873235554976, 0.0], \"yaxis\": \"y\"}, {\"hoverinfo\": \"text\", \"marker\": {\"color\": \"rgb(133,20,75)\"}, \"mode\": \"lines\", \"type\": \"scatter\", \"x\": [4315.0, 4315.0, 4325.0, 4325.0], \"xaxis\": \"x\", \"y\": [0.0, 5.872920850627406, 5.872920850627406, 0.0], \"yaxis\": \"y\"}, {\"hoverinfo\": \"text\", \"marker\": {\"color\": \"rgb(133,20,75)\"}, \"mode\": \"lines\", \"type\": \"scatter\", \"x\": [4300.0, 4300.0, 4320.0, 4320.0], \"xaxis\": \"x\", \"y\": [5.803873235554976, 6.5581216187112945, 6.5581216187112945, 5.872920850627406], \"yaxis\": \"y\"}, {\"hoverinfo\": \"text\", \"marker\": {\"color\": \"rgb(133,20,75)\"}, \"mode\": \"lines\", \"type\": \"scatter\", \"x\": [4355.0, 4355.0, 4365.0, 4365.0], \"xaxis\": \"x\", \"y\": [0.0, 5.913662033079005, 5.913662033079005, 0.0], \"yaxis\": \"y\"}, {\"hoverinfo\": \"text\", \"marker\": {\"color\": \"rgb(133,20,75)\"}, \"mode\": \"lines\", \"type\": \"scatter\", \"x\": [4345.0, 4345.0, 4360.0, 4360.0], \"xaxis\": \"x\", \"y\": [0.0, 6.49951064970364, 6.49951064970364, 5.913662033079005], \"yaxis\": \"y\"}, {\"hoverinfo\": \"text\", \"marker\": {\"color\": \"rgb(133,20,75)\"}, \"mode\": \"lines\", \"type\": \"scatter\", \"x\": [4335.0, 4335.0, 4352.5, 4352.5], \"xaxis\": \"x\", \"y\": [0.0, 7.103728476090663, 7.103728476090663, 6.49951064970364], \"yaxis\": \"y\"}, {\"hoverinfo\": \"text\", \"marker\": {\"color\": \"rgb(133,20,75)\"}, \"mode\": \"lines\", \"type\": \"scatter\", \"x\": [4310.0, 4310.0, 4343.75, 4343.75], \"xaxis\": \"x\", \"y\": [6.5581216187112945, 7.230410346452669, 7.230410346452669, 7.103728476090663], \"yaxis\": \"y\"}, {\"hoverinfo\": \"text\", \"marker\": {\"color\": \"rgb(133,20,75)\"}, \"mode\": \"lines\", \"type\": \"scatter\", \"x\": [4280.0, 4280.0, 4326.875, 4326.875], \"xaxis\": \"x\", \"y\": [6.330581294848885, 7.44620990031989, 7.44620990031989, 7.230410346452669], \"yaxis\": \"y\"}, {\"hoverinfo\": \"text\", \"marker\": {\"color\": \"rgb(133,20,75)\"}, \"mode\": \"lines\", \"type\": \"scatter\", \"x\": [4250.0, 4250.0, 4303.4375, 4303.4375], \"xaxis\": \"x\", \"y\": [6.763520187504369, 7.557345498611481, 7.557345498611481, 7.44620990031989], \"yaxis\": \"y\"}, {\"hoverinfo\": \"text\", \"marker\": {\"color\": \"rgb(133,20,75)\"}, \"mode\": \"lines\", \"type\": \"scatter\", \"x\": [4385.0, 4385.0, 4395.0, 4395.0], \"xaxis\": \"x\", \"y\": [0.0, 5.876538666291586, 5.876538666291586, 0.0], \"yaxis\": \"y\"}, {\"hoverinfo\": \"text\", \"marker\": {\"color\": \"rgb(133,20,75)\"}, \"mode\": \"lines\", \"type\": \"scatter\", \"x\": [4375.0, 4375.0, 4390.0, 4390.0], \"xaxis\": \"x\", \"y\": [0.0, 6.122250008822476, 6.122250008822476, 5.876538666291586], \"yaxis\": \"y\"}, {\"hoverinfo\": \"text\", \"marker\": {\"color\": \"rgb(133,20,75)\"}, \"mode\": \"lines\", \"type\": \"scatter\", \"x\": [4415.0, 4415.0, 4425.0, 4425.0], \"xaxis\": \"x\", \"y\": [0.0, 6.077870502938414, 6.077870502938414, 0.0], \"yaxis\": \"y\"}, {\"hoverinfo\": \"text\", \"marker\": {\"color\": \"rgb(133,20,75)\"}, \"mode\": \"lines\", \"type\": \"scatter\", \"x\": [4405.0, 4405.0, 4420.0, 4420.0], \"xaxis\": \"x\", \"y\": [0.0, 6.210376414800604, 6.210376414800604, 6.077870502938414], \"yaxis\": \"y\"}, {\"hoverinfo\": \"text\", \"marker\": {\"color\": \"rgb(133,20,75)\"}, \"mode\": \"lines\", \"type\": \"scatter\", \"x\": [4382.5, 4382.5, 4412.5, 4412.5], \"xaxis\": \"x\", \"y\": [6.122250008822476, 6.9116802834878115, 6.9116802834878115, 6.210376414800604], \"yaxis\": \"y\"}, {\"hoverinfo\": \"text\", \"marker\": {\"color\": \"rgb(133,20,75)\"}, \"mode\": \"lines\", \"type\": \"scatter\", \"x\": [4445.0, 4445.0, 4455.0, 4455.0], \"xaxis\": \"x\", \"y\": [0.0, 5.0824647586540275, 5.0824647586540275, 0.0], \"yaxis\": \"y\"}, {\"hoverinfo\": \"text\", \"marker\": {\"color\": \"rgb(133,20,75)\"}, \"mode\": \"lines\", \"type\": \"scatter\", \"x\": [4435.0, 4435.0, 4450.0, 4450.0], \"xaxis\": \"x\", \"y\": [0.0, 6.331384047871772, 6.331384047871772, 5.0824647586540275], \"yaxis\": \"y\"}, {\"hoverinfo\": \"text\", \"marker\": {\"color\": \"rgb(133,20,75)\"}, \"mode\": \"lines\", \"type\": \"scatter\", \"x\": [4465.0, 4465.0, 4475.0, 4475.0], \"xaxis\": \"x\", \"y\": [0.0, 5.923833015822348, 5.923833015822348, 0.0], \"yaxis\": \"y\"}, {\"hoverinfo\": \"text\", \"marker\": {\"color\": \"rgb(133,20,75)\"}, \"mode\": \"lines\", \"type\": \"scatter\", \"x\": [4485.0, 4485.0, 4495.0, 4495.0], \"xaxis\": \"x\", \"y\": [0.0, 6.037724390978024, 6.037724390978024, 0.0], \"yaxis\": \"y\"}, {\"hoverinfo\": \"text\", \"marker\": {\"color\": \"rgb(133,20,75)\"}, \"mode\": \"lines\", \"type\": \"scatter\", \"x\": [4470.0, 4470.0, 4490.0, 4490.0], \"xaxis\": \"x\", \"y\": [5.923833015822348, 6.5964485877934695, 6.5964485877934695, 6.037724390978024], \"yaxis\": \"y\"}, {\"hoverinfo\": \"text\", \"marker\": {\"color\": \"rgb(133,20,75)\"}, \"mode\": \"lines\", \"type\": \"scatter\", \"x\": [4442.5, 4442.5, 4480.0, 4480.0], \"xaxis\": \"x\", \"y\": [6.331384047871772, 7.039014892603038, 7.039014892603038, 6.5964485877934695], \"yaxis\": \"y\"}, {\"hoverinfo\": \"text\", \"marker\": {\"color\": \"rgb(133,20,75)\"}, \"mode\": \"lines\", \"type\": \"scatter\", \"x\": [4397.5, 4397.5, 4461.25, 4461.25], \"xaxis\": \"x\", \"y\": [6.9116802834878115, 7.329439007259494, 7.329439007259494, 7.039014892603038], \"yaxis\": \"y\"}, {\"hoverinfo\": \"text\", \"marker\": {\"color\": \"rgb(133,20,75)\"}, \"mode\": \"lines\", \"type\": \"scatter\", \"x\": [4505.0, 4505.0, 4515.0, 4515.0], \"xaxis\": \"x\", \"y\": [0.0, 6.416556153279093, 6.416556153279093, 0.0], \"yaxis\": \"y\"}, {\"hoverinfo\": \"text\", \"marker\": {\"color\": \"rgb(133,20,75)\"}, \"mode\": \"lines\", \"type\": \"scatter\", \"x\": [4535.0, 4535.0, 4545.0, 4545.0], \"xaxis\": \"x\", \"y\": [0.0, 5.300055315615082, 5.300055315615082, 0.0], \"yaxis\": \"y\"}, {\"hoverinfo\": \"text\", \"marker\": {\"color\": \"rgb(133,20,75)\"}, \"mode\": \"lines\", \"type\": \"scatter\", \"x\": [4555.0, 4555.0, 4565.0, 4565.0], \"xaxis\": \"x\", \"y\": [0.0, 5.844297190050498, 5.844297190050498, 0.0], \"yaxis\": \"y\"}, {\"hoverinfo\": \"text\", \"marker\": {\"color\": \"rgb(133,20,75)\"}, \"mode\": \"lines\", \"type\": \"scatter\", \"x\": [4540.0, 4540.0, 4560.0, 4560.0], \"xaxis\": \"x\", \"y\": [5.300055315615082, 6.363791101483926, 6.363791101483926, 5.844297190050498], \"yaxis\": \"y\"}, {\"hoverinfo\": \"text\", \"marker\": {\"color\": \"rgb(133,20,75)\"}, \"mode\": \"lines\", \"type\": \"scatter\", \"x\": [4525.0, 4525.0, 4550.0, 4550.0], \"xaxis\": \"x\", \"y\": [0.0, 6.7099541487757355, 6.7099541487757355, 6.363791101483926], \"yaxis\": \"y\"}, {\"hoverinfo\": \"text\", \"marker\": {\"color\": \"rgb(133,20,75)\"}, \"mode\": \"lines\", \"type\": \"scatter\", \"x\": [4510.0, 4510.0, 4537.5, 4537.5], \"xaxis\": \"x\", \"y\": [6.416556153279093, 7.104171289059921, 7.104171289059921, 6.7099541487757355], \"yaxis\": \"y\"}, {\"hoverinfo\": \"text\", \"marker\": {\"color\": \"rgb(133,20,75)\"}, \"mode\": \"lines\", \"type\": \"scatter\", \"x\": [4585.0, 4585.0, 4595.0, 4595.0], \"xaxis\": \"x\", \"y\": [0.0, 5.660507833660799, 5.660507833660799, 0.0], \"yaxis\": \"y\"}, {\"hoverinfo\": \"text\", \"marker\": {\"color\": \"rgb(133,20,75)\"}, \"mode\": \"lines\", \"type\": \"scatter\", \"x\": [4575.0, 4575.0, 4590.0, 4590.0], \"xaxis\": \"x\", \"y\": [0.0, 6.501519335901578, 6.501519335901578, 5.660507833660799], \"yaxis\": \"y\"}, {\"hoverinfo\": \"text\", \"marker\": {\"color\": \"rgb(133,20,75)\"}, \"mode\": \"lines\", \"type\": \"scatter\", \"x\": [4605.0, 4605.0, 4615.0, 4615.0], \"xaxis\": \"x\", \"y\": [0.0, 5.838320329643017, 5.838320329643017, 0.0], \"yaxis\": \"y\"}, {\"hoverinfo\": \"text\", \"marker\": {\"color\": \"rgb(133,20,75)\"}, \"mode\": \"lines\", \"type\": \"scatter\", \"x\": [4625.0, 4625.0, 4635.0, 4635.0], \"xaxis\": \"x\", \"y\": [0.0, 6.236128352950404, 6.236128352950404, 0.0], \"yaxis\": \"y\"}, {\"hoverinfo\": \"text\", \"marker\": {\"color\": \"rgb(133,20,75)\"}, \"mode\": \"lines\", \"type\": \"scatter\", \"x\": [4610.0, 4610.0, 4630.0, 4630.0], \"xaxis\": \"x\", \"y\": [5.838320329643017, 6.8947113677778855, 6.8947113677778855, 6.236128352950404], \"yaxis\": \"y\"}, {\"hoverinfo\": \"text\", \"marker\": {\"color\": \"rgb(133,20,75)\"}, \"mode\": \"lines\", \"type\": \"scatter\", \"x\": [4582.5, 4582.5, 4620.0, 4620.0], \"xaxis\": \"x\", \"y\": [6.501519335901578, 7.123894643689883, 7.123894643689883, 6.8947113677778855], \"yaxis\": \"y\"}, {\"hoverinfo\": \"text\", \"marker\": {\"color\": \"rgb(133,20,75)\"}, \"mode\": \"lines\", \"type\": \"scatter\", \"x\": [4523.75, 4523.75, 4601.25, 4601.25], \"xaxis\": \"x\", \"y\": [7.104171289059921, 7.64681154365021, 7.64681154365021, 7.123894643689883], \"yaxis\": \"y\"}, {\"hoverinfo\": \"text\", \"marker\": {\"color\": \"rgb(133,20,75)\"}, \"mode\": \"lines\", \"type\": \"scatter\", \"x\": [4429.375, 4429.375, 4562.5, 4562.5], \"xaxis\": \"x\", \"y\": [7.329439007259494, 7.893619610569423, 7.893619610569423, 7.64681154365021], \"yaxis\": \"y\"}, {\"hoverinfo\": \"text\", \"marker\": {\"color\": \"rgb(133,20,75)\"}, \"mode\": \"lines\", \"type\": \"scatter\", \"x\": [4276.71875, 4276.71875, 4495.9375, 4495.9375], \"xaxis\": \"x\", \"y\": [7.557345498611481, 8.172028933212394, 8.172028933212394, 7.893619610569423], \"yaxis\": \"y\"}, {\"hoverinfo\": \"text\", \"marker\": {\"color\": \"rgb(133,20,75)\"}, \"mode\": \"lines\", \"type\": \"scatter\", \"x\": [4135.9375, 4135.9375, 4386.328125, 4386.328125], \"xaxis\": \"x\", \"y\": [8.07600597149578, 8.33410374350518, 8.33410374350518, 8.172028933212394], \"yaxis\": \"y\"}, {\"hoverinfo\": \"text\", \"marker\": {\"color\": \"rgb(133,20,75)\"}, \"mode\": \"lines\", \"type\": \"scatter\", \"x\": [3958.8671875, 3958.8671875, 4261.1328125, 4261.1328125], \"xaxis\": \"x\", \"y\": [8.299015325460758, 8.765019928752045, 8.765019928752045, 8.33410374350518], \"yaxis\": \"y\"}, {\"hoverinfo\": \"text\", \"marker\": {\"color\": \"rgb(133,20,75)\"}, \"mode\": \"lines\", \"type\": \"scatter\", \"x\": [3546.796875, 3546.796875, 4110.0, 4110.0], \"xaxis\": \"x\", \"y\": [8.719231332197793, 8.946502004102863, 8.946502004102863, 8.765019928752045], \"yaxis\": \"y\"}, {\"hoverinfo\": \"text\", \"marker\": {\"color\": \"rgb(255,220,0)\"}, \"mode\": \"lines\", \"type\": \"scatter\", \"x\": [4645.0, 4645.0, 4655.0, 4655.0], \"xaxis\": \"x\", \"y\": [0.0, 6.692799665035846, 6.692799665035846, 0.0], \"yaxis\": \"y\"}, {\"hoverinfo\": \"text\", \"marker\": {\"color\": \"rgb(255,220,0)\"}, \"mode\": \"lines\", \"type\": \"scatter\", \"x\": [4665.0, 4665.0, 4675.0, 4675.0], \"xaxis\": \"x\", \"y\": [0.0, 5.0382324376236705, 5.0382324376236705, 0.0], \"yaxis\": \"y\"}, {\"hoverinfo\": \"text\", \"marker\": {\"color\": \"rgb(255,220,0)\"}, \"mode\": \"lines\", \"type\": \"scatter\", \"x\": [4695.0, 4695.0, 4705.0, 4705.0], \"xaxis\": \"x\", \"y\": [0.0, 5.599307767711425, 5.599307767711425, 0.0], \"yaxis\": \"y\"}, {\"hoverinfo\": \"text\", \"marker\": {\"color\": \"rgb(255,220,0)\"}, \"mode\": \"lines\", \"type\": \"scatter\", \"x\": [4685.0, 4685.0, 4700.0, 4700.0], \"xaxis\": \"x\", \"y\": [0.0, 6.318015082764131, 6.318015082764131, 5.599307767711425], \"yaxis\": \"y\"}, {\"hoverinfo\": \"text\", \"marker\": {\"color\": \"rgb(255,220,0)\"}, \"mode\": \"lines\", \"type\": \"scatter\", \"x\": [4670.0, 4670.0, 4692.5, 4692.5], \"xaxis\": \"x\", \"y\": [5.0382324376236705, 7.293105756461753, 7.293105756461753, 6.318015082764131], \"yaxis\": \"y\"}, {\"hoverinfo\": \"text\", \"marker\": {\"color\": \"rgb(255,220,0)\"}, \"mode\": \"lines\", \"type\": \"scatter\", \"x\": [4650.0, 4650.0, 4681.25, 4681.25], \"xaxis\": \"x\", \"y\": [6.692799665035846, 7.923150819412074, 7.923150819412074, 7.293105756461753], \"yaxis\": \"y\"}, {\"hoverinfo\": \"text\", \"marker\": {\"color\": \"rgb(255,220,0)\"}, \"mode\": \"lines\", \"type\": \"scatter\", \"x\": [4725.0, 4725.0, 4735.0, 4735.0], \"xaxis\": \"x\", \"y\": [0.0, 5.73218887647297, 5.73218887647297, 0.0], \"yaxis\": \"y\"}, {\"hoverinfo\": \"text\", \"marker\": {\"color\": \"rgb(255,220,0)\"}, \"mode\": \"lines\", \"type\": \"scatter\", \"x\": [4715.0, 4715.0, 4730.0, 4730.0], \"xaxis\": \"x\", \"y\": [0.0, 6.081745154018472, 6.081745154018472, 5.73218887647297], \"yaxis\": \"y\"}, {\"hoverinfo\": \"text\", \"marker\": {\"color\": \"rgb(255,220,0)\"}, \"mode\": \"lines\", \"type\": \"scatter\", \"x\": [4745.0, 4745.0, 4755.0, 4755.0], \"xaxis\": \"x\", \"y\": [0.0, 6.765288675041108, 6.765288675041108, 0.0], \"yaxis\": \"y\"}, {\"hoverinfo\": \"text\", \"marker\": {\"color\": \"rgb(255,220,0)\"}, \"mode\": \"lines\", \"type\": \"scatter\", \"x\": [4722.5, 4722.5, 4750.0, 4750.0], \"xaxis\": \"x\", \"y\": [6.081745154018472, 7.239410250490967, 7.239410250490967, 6.765288675041108], \"yaxis\": \"y\"}, {\"hoverinfo\": \"text\", \"marker\": {\"color\": \"rgb(255,220,0)\"}, \"mode\": \"lines\", \"type\": \"scatter\", \"x\": [4775.0, 4775.0, 4785.0, 4785.0], \"xaxis\": \"x\", \"y\": [0.0, 6.247946761861758, 6.247946761861758, 0.0], \"yaxis\": \"y\"}, {\"hoverinfo\": \"text\", \"marker\": {\"color\": \"rgb(255,220,0)\"}, \"mode\": \"lines\", \"type\": \"scatter\", \"x\": [4765.0, 4765.0, 4780.0, 4780.0], \"xaxis\": \"x\", \"y\": [0.0, 6.909167059435789, 6.909167059435789, 6.247946761861758], \"yaxis\": \"y\"}, {\"hoverinfo\": \"text\", \"marker\": {\"color\": \"rgb(255,220,0)\"}, \"mode\": \"lines\", \"type\": \"scatter\", \"x\": [4805.0, 4805.0, 4815.0, 4815.0], \"xaxis\": \"x\", \"y\": [0.0, 6.484752413695499, 6.484752413695499, 0.0], \"yaxis\": \"y\"}, {\"hoverinfo\": \"text\", \"marker\": {\"color\": \"rgb(255,220,0)\"}, \"mode\": \"lines\", \"type\": \"scatter\", \"x\": [4795.0, 4795.0, 4810.0, 4810.0], \"xaxis\": \"x\", \"y\": [0.0, 6.9396306676418655, 6.9396306676418655, 6.484752413695499], \"yaxis\": \"y\"}, {\"hoverinfo\": \"text\", \"marker\": {\"color\": \"rgb(255,220,0)\"}, \"mode\": \"lines\", \"type\": \"scatter\", \"x\": [4772.5, 4772.5, 4802.5, 4802.5], \"xaxis\": \"x\", \"y\": [6.909167059435789, 7.428650701420006, 7.428650701420006, 6.9396306676418655], \"yaxis\": \"y\"}, {\"hoverinfo\": \"text\", \"marker\": {\"color\": \"rgb(255,220,0)\"}, \"mode\": \"lines\", \"type\": \"scatter\", \"x\": [4835.0, 4835.0, 4845.0, 4845.0], \"xaxis\": \"x\", \"y\": [0.0, 5.996836112076329, 5.996836112076329, 0.0], \"yaxis\": \"y\"}, {\"hoverinfo\": \"text\", \"marker\": {\"color\": \"rgb(255,220,0)\"}, \"mode\": \"lines\", \"type\": \"scatter\", \"x\": [4825.0, 4825.0, 4840.0, 4840.0], \"xaxis\": \"x\", \"y\": [0.0, 6.556249347280286, 6.556249347280286, 5.996836112076329], \"yaxis\": \"y\"}, {\"hoverinfo\": \"text\", \"marker\": {\"color\": \"rgb(255,220,0)\"}, \"mode\": \"lines\", \"type\": \"scatter\", \"x\": [4855.0, 4855.0, 4865.0, 4865.0], \"xaxis\": \"x\", \"y\": [0.0, 6.568981324116194, 6.568981324116194, 0.0], \"yaxis\": \"y\"}, {\"hoverinfo\": \"text\", \"marker\": {\"color\": \"rgb(255,220,0)\"}, \"mode\": \"lines\", \"type\": \"scatter\", \"x\": [4832.5, 4832.5, 4860.0, 4860.0], \"xaxis\": \"x\", \"y\": [6.556249347280286, 7.578145398467767, 7.578145398467767, 6.568981324116194], \"yaxis\": \"y\"}, {\"hoverinfo\": \"text\", \"marker\": {\"color\": \"rgb(255,220,0)\"}, \"mode\": \"lines\", \"type\": \"scatter\", \"x\": [4787.5, 4787.5, 4846.25, 4846.25], \"xaxis\": \"x\", \"y\": [7.428650701420006, 7.987671331419068, 7.987671331419068, 7.578145398467767], \"yaxis\": \"y\"}, {\"hoverinfo\": \"text\", \"marker\": {\"color\": \"rgb(255,220,0)\"}, \"mode\": \"lines\", \"type\": \"scatter\", \"x\": [4736.25, 4736.25, 4816.875, 4816.875], \"xaxis\": \"x\", \"y\": [7.239410250490967, 8.443037040681347, 8.443037040681347, 7.987671331419068], \"yaxis\": \"y\"}, {\"hoverinfo\": \"text\", \"marker\": {\"color\": \"rgb(255,220,0)\"}, \"mode\": \"lines\", \"type\": \"scatter\", \"x\": [4665.625, 4665.625, 4776.5625, 4776.5625], \"xaxis\": \"x\", \"y\": [7.923150819412074, 8.6251496708819, 8.6251496708819, 8.443037040681347], \"yaxis\": \"y\"}, {\"hoverinfo\": \"text\", \"marker\": {\"color\": \"rgb(40,35,35)\"}, \"mode\": \"lines\", \"type\": \"scatter\", \"x\": [4875.0, 4875.0, 4885.0, 4885.0], \"xaxis\": \"x\", \"y\": [0.0, 6.388991137139687, 6.388991137139687, 0.0], \"yaxis\": \"y\"}, {\"hoverinfo\": \"text\", \"marker\": {\"color\": \"rgb(40,35,35)\"}, \"mode\": \"lines\", \"type\": \"scatter\", \"x\": [4905.0, 4905.0, 4915.0, 4915.0], \"xaxis\": \"x\", \"y\": [0.0, 5.900512955241053, 5.900512955241053, 0.0], \"yaxis\": \"y\"}, {\"hoverinfo\": \"text\", \"marker\": {\"color\": \"rgb(40,35,35)\"}, \"mode\": \"lines\", \"type\": \"scatter\", \"x\": [4895.0, 4895.0, 4910.0, 4910.0], \"xaxis\": \"x\", \"y\": [0.0, 6.895308134718881, 6.895308134718881, 5.900512955241053], \"yaxis\": \"y\"}, {\"hoverinfo\": \"text\", \"marker\": {\"color\": \"rgb(40,35,35)\"}, \"mode\": \"lines\", \"type\": \"scatter\", \"x\": [4925.0, 4925.0, 4935.0, 4935.0], \"xaxis\": \"x\", \"y\": [0.0, 6.314044809120643, 6.314044809120643, 0.0], \"yaxis\": \"y\"}, {\"hoverinfo\": \"text\", \"marker\": {\"color\": \"rgb(40,35,35)\"}, \"mode\": \"lines\", \"type\": \"scatter\", \"x\": [4945.0, 4945.0, 4955.0, 4955.0], \"xaxis\": \"x\", \"y\": [0.0, 6.571515838886851, 6.571515838886851, 0.0], \"yaxis\": \"y\"}, {\"hoverinfo\": \"text\", \"marker\": {\"color\": \"rgb(40,35,35)\"}, \"mode\": \"lines\", \"type\": \"scatter\", \"x\": [4930.0, 4930.0, 4950.0, 4950.0], \"xaxis\": \"x\", \"y\": [6.314044809120643, 7.535853562916663, 7.535853562916663, 6.571515838886851], \"yaxis\": \"y\"}, {\"hoverinfo\": \"text\", \"marker\": {\"color\": \"rgb(40,35,35)\"}, \"mode\": \"lines\", \"type\": \"scatter\", \"x\": [4902.5, 4902.5, 4940.0, 4940.0], \"xaxis\": \"x\", \"y\": [6.895308134718881, 8.139129906360129, 8.139129906360129, 7.535853562916663], \"yaxis\": \"y\"}, {\"hoverinfo\": \"text\", \"marker\": {\"color\": \"rgb(40,35,35)\"}, \"mode\": \"lines\", \"type\": \"scatter\", \"x\": [4880.0, 4880.0, 4921.25, 4921.25], \"xaxis\": \"x\", \"y\": [6.388991137139687, 8.406227392221062, 8.406227392221062, 8.139129906360129], \"yaxis\": \"y\"}, {\"hoverinfo\": \"text\", \"marker\": {\"color\": \"rgb(40,35,35)\"}, \"mode\": \"lines\", \"type\": \"scatter\", \"x\": [4965.0, 4965.0, 4975.0, 4975.0], \"xaxis\": \"x\", \"y\": [0.0, 7.346544171671376, 7.346544171671376, 0.0], \"yaxis\": \"y\"}, {\"hoverinfo\": \"text\", \"marker\": {\"color\": \"rgb(40,35,35)\"}, \"mode\": \"lines\", \"type\": \"scatter\", \"x\": [4985.0, 4985.0, 4995.0, 4995.0], \"xaxis\": \"x\", \"y\": [0.0, 6.661682905160445, 6.661682905160445, 0.0], \"yaxis\": \"y\"}, {\"hoverinfo\": \"text\", \"marker\": {\"color\": \"rgb(40,35,35)\"}, \"mode\": \"lines\", \"type\": \"scatter\", \"x\": [5005.0, 5005.0, 5015.0, 5015.0], \"xaxis\": \"x\", \"y\": [0.0, 5.805168021565202, 5.805168021565202, 0.0], \"yaxis\": \"y\"}, {\"hoverinfo\": \"text\", \"marker\": {\"color\": \"rgb(40,35,35)\"}, \"mode\": \"lines\", \"type\": \"scatter\", \"x\": [5025.0, 5025.0, 5035.0, 5035.0], \"xaxis\": \"x\", \"y\": [0.0, 6.093998647635772, 6.093998647635772, 0.0], \"yaxis\": \"y\"}, {\"hoverinfo\": \"text\", \"marker\": {\"color\": \"rgb(40,35,35)\"}, \"mode\": \"lines\", \"type\": \"scatter\", \"x\": [5010.0, 5010.0, 5030.0, 5030.0], \"xaxis\": \"x\", \"y\": [5.805168021565202, 6.900685955103818, 6.900685955103818, 6.093998647635772], \"yaxis\": \"y\"}, {\"hoverinfo\": \"text\", \"marker\": {\"color\": \"rgb(40,35,35)\"}, \"mode\": \"lines\", \"type\": \"scatter\", \"x\": [4990.0, 4990.0, 5020.0, 5020.0], \"xaxis\": \"x\", \"y\": [6.661682905160445, 7.8324619721523385, 7.8324619721523385, 6.900685955103818], \"yaxis\": \"y\"}, {\"hoverinfo\": \"text\", \"marker\": {\"color\": \"rgb(40,35,35)\"}, \"mode\": \"lines\", \"type\": \"scatter\", \"x\": [4970.0, 4970.0, 5005.0, 5005.0], \"xaxis\": \"x\", \"y\": [7.346544171671376, 8.412204426854007, 8.412204426854007, 7.8324619721523385], \"yaxis\": \"y\"}, {\"hoverinfo\": \"text\", \"marker\": {\"color\": \"rgb(40,35,35)\"}, \"mode\": \"lines\", \"type\": \"scatter\", \"x\": [4900.625, 4900.625, 4987.5, 4987.5], \"xaxis\": \"x\", \"y\": [8.406227392221062, 8.704503343450126, 8.704503343450126, 8.412204426854007], \"yaxis\": \"y\"}, {\"hoverinfo\": \"text\", \"marker\": {\"color\": \"rgb(0,116,217)\"}, \"mode\": \"lines\", \"type\": \"scatter\", \"x\": [4721.09375, 4721.09375, 4944.0625, 4944.0625], \"xaxis\": \"x\", \"y\": [8.6251496708819, 9.150337936690597, 9.150337936690597, 8.704503343450126], \"yaxis\": \"y\"}, {\"hoverinfo\": \"text\", \"marker\": {\"color\": \"rgb(0,116,217)\"}, \"mode\": \"lines\", \"type\": \"scatter\", \"x\": [3828.3984375, 3828.3984375, 4832.578125, 4832.578125], \"xaxis\": \"x\", \"y\": [8.946502004102863, 9.27570995999955, 9.27570995999955, 9.150337936690597], \"yaxis\": \"y\"}, {\"hoverinfo\": \"text\", \"marker\": {\"color\": \"rgb(61,153,112)\"}, \"mode\": \"lines\", \"type\": \"scatter\", \"x\": [5055.0, 5055.0, 5065.0, 5065.0], \"xaxis\": \"x\", \"y\": [0.0, 4.866090060337397, 4.866090060337397, 0.0], \"yaxis\": \"y\"}, {\"hoverinfo\": \"text\", \"marker\": {\"color\": \"rgb(61,153,112)\"}, \"mode\": \"lines\", \"type\": \"scatter\", \"x\": [5085.0, 5085.0, 5095.0, 5095.0], \"xaxis\": \"x\", \"y\": [0.0, 5.537771826839716, 5.537771826839716, 0.0], \"yaxis\": \"y\"}, {\"hoverinfo\": \"text\", \"marker\": {\"color\": \"rgb(61,153,112)\"}, \"mode\": \"lines\", \"type\": \"scatter\", \"x\": [5075.0, 5075.0, 5090.0, 5090.0], \"xaxis\": \"x\", \"y\": [0.0, 5.897000684001294, 5.897000684001294, 5.537771826839716], \"yaxis\": \"y\"}, {\"hoverinfo\": \"text\", \"marker\": {\"color\": \"rgb(61,153,112)\"}, \"mode\": \"lines\", \"type\": \"scatter\", \"x\": [5060.0, 5060.0, 5082.5, 5082.5], \"xaxis\": \"x\", \"y\": [4.866090060337397, 7.650385389423435, 7.650385389423435, 5.897000684001294], \"yaxis\": \"y\"}, {\"hoverinfo\": \"text\", \"marker\": {\"color\": \"rgb(61,153,112)\"}, \"mode\": \"lines\", \"type\": \"scatter\", \"x\": [5045.0, 5045.0, 5071.25, 5071.25], \"xaxis\": \"x\", \"y\": [0.0, 7.950782594823288, 7.950782594823288, 7.650385389423435], \"yaxis\": \"y\"}, {\"hoverinfo\": \"text\", \"marker\": {\"color\": \"rgb(61,153,112)\"}, \"mode\": \"lines\", \"type\": \"scatter\", \"x\": [5105.0, 5105.0, 5115.0, 5115.0], \"xaxis\": \"x\", \"y\": [0.0, 3.5348578192968305, 3.5348578192968305, 0.0], \"yaxis\": \"y\"}, {\"hoverinfo\": \"text\", \"marker\": {\"color\": \"rgb(61,153,112)\"}, \"mode\": \"lines\", \"type\": \"scatter\", \"x\": [5125.0, 5125.0, 5135.0, 5135.0], \"xaxis\": \"x\", \"y\": [0.0, 5.945338675164711, 5.945338675164711, 0.0], \"yaxis\": \"y\"}, {\"hoverinfo\": \"text\", \"marker\": {\"color\": \"rgb(61,153,112)\"}, \"mode\": \"lines\", \"type\": \"scatter\", \"x\": [5110.0, 5110.0, 5130.0, 5130.0], \"xaxis\": \"x\", \"y\": [3.5348578192968305, 7.202495424648093, 7.202495424648093, 5.945338675164711], \"yaxis\": \"y\"}, {\"hoverinfo\": \"text\", \"marker\": {\"color\": \"rgb(61,153,112)\"}, \"mode\": \"lines\", \"type\": \"scatter\", \"x\": [5145.0, 5145.0, 5155.0, 5155.0], \"xaxis\": \"x\", \"y\": [0.0, 7.315529069309004, 7.315529069309004, 0.0], \"yaxis\": \"y\"}, {\"hoverinfo\": \"text\", \"marker\": {\"color\": \"rgb(61,153,112)\"}, \"mode\": \"lines\", \"type\": \"scatter\", \"x\": [5120.0, 5120.0, 5150.0, 5150.0], \"xaxis\": \"x\", \"y\": [7.202495424648093, 8.322150076183329, 8.322150076183329, 7.315529069309004], \"yaxis\": \"y\"}, {\"hoverinfo\": \"text\", \"marker\": {\"color\": \"rgb(61,153,112)\"}, \"mode\": \"lines\", \"type\": \"scatter\", \"x\": [5165.0, 5165.0, 5175.0, 5175.0], \"xaxis\": \"x\", \"y\": [0.0, 6.217261383011438, 6.217261383011438, 0.0], \"yaxis\": \"y\"}, {\"hoverinfo\": \"text\", \"marker\": {\"color\": \"rgb(61,153,112)\"}, \"mode\": \"lines\", \"type\": \"scatter\", \"x\": [5195.0, 5195.0, 5205.0, 5205.0], \"xaxis\": \"x\", \"y\": [0.0, 6.512958939910896, 6.512958939910896, 0.0], \"yaxis\": \"y\"}, {\"hoverinfo\": \"text\", \"marker\": {\"color\": \"rgb(61,153,112)\"}, \"mode\": \"lines\", \"type\": \"scatter\", \"x\": [5185.0, 5185.0, 5200.0, 5200.0], \"xaxis\": \"x\", \"y\": [0.0, 6.642034033295352, 6.642034033295352, 6.512958939910896], \"yaxis\": \"y\"}, {\"hoverinfo\": \"text\", \"marker\": {\"color\": \"rgb(61,153,112)\"}, \"mode\": \"lines\", \"type\": \"scatter\", \"x\": [5215.0, 5215.0, 5225.0, 5225.0], \"xaxis\": \"x\", \"y\": [0.0, 5.663750426860736, 5.663750426860736, 0.0], \"yaxis\": \"y\"}, {\"hoverinfo\": \"text\", \"marker\": {\"color\": \"rgb(61,153,112)\"}, \"mode\": \"lines\", \"type\": \"scatter\", \"x\": [5245.0, 5245.0, 5255.0, 5255.0], \"xaxis\": \"x\", \"y\": [0.0, 6.187459743209236, 6.187459743209236, 0.0], \"yaxis\": \"y\"}, {\"hoverinfo\": \"text\", \"marker\": {\"color\": \"rgb(61,153,112)\"}, \"mode\": \"lines\", \"type\": \"scatter\", \"x\": [5235.0, 5235.0, 5250.0, 5250.0], \"xaxis\": \"x\", \"y\": [0.0, 6.512192569581091, 6.512192569581091, 6.187459743209236], \"yaxis\": \"y\"}, {\"hoverinfo\": \"text\", \"marker\": {\"color\": \"rgb(61,153,112)\"}, \"mode\": \"lines\", \"type\": \"scatter\", \"x\": [5220.0, 5220.0, 5242.5, 5242.5], \"xaxis\": \"x\", \"y\": [5.663750426860736, 7.042988653403311, 7.042988653403311, 6.512192569581091], \"yaxis\": \"y\"}, {\"hoverinfo\": \"text\", \"marker\": {\"color\": \"rgb(61,153,112)\"}, \"mode\": \"lines\", \"type\": \"scatter\", \"x\": [5192.5, 5192.5, 5231.25, 5231.25], \"xaxis\": \"x\", \"y\": [6.642034033295352, 7.668657238935077, 7.668657238935077, 7.042988653403311], \"yaxis\": \"y\"}, {\"hoverinfo\": \"text\", \"marker\": {\"color\": \"rgb(61,153,112)\"}, \"mode\": \"lines\", \"type\": \"scatter\", \"x\": [5170.0, 5170.0, 5211.875, 5211.875], \"xaxis\": \"x\", \"y\": [6.217261383011438, 7.8227026168287, 7.8227026168287, 7.668657238935077], \"yaxis\": \"y\"}, {\"hoverinfo\": \"text\", \"marker\": {\"color\": \"rgb(61,153,112)\"}, \"mode\": \"lines\", \"type\": \"scatter\", \"x\": [5275.0, 5275.0, 5285.0, 5285.0], \"xaxis\": \"x\", \"y\": [0.0, 5.580752053281181, 5.580752053281181, 0.0], \"yaxis\": \"y\"}, {\"hoverinfo\": \"text\", \"marker\": {\"color\": \"rgb(61,153,112)\"}, \"mode\": \"lines\", \"type\": \"scatter\", \"x\": [5295.0, 5295.0, 5305.0, 5305.0], \"xaxis\": \"x\", \"y\": [0.0, 5.775873522859503, 5.775873522859503, 0.0], \"yaxis\": \"y\"}, {\"hoverinfo\": \"text\", \"marker\": {\"color\": \"rgb(61,153,112)\"}, \"mode\": \"lines\", \"type\": \"scatter\", \"x\": [5280.0, 5280.0, 5300.0, 5300.0], \"xaxis\": \"x\", \"y\": [5.580752053281181, 6.228221900557345, 6.228221900557345, 5.775873522859503], \"yaxis\": \"y\"}, {\"hoverinfo\": \"text\", \"marker\": {\"color\": \"rgb(61,153,112)\"}, \"mode\": \"lines\", \"type\": \"scatter\", \"x\": [5265.0, 5265.0, 5290.0, 5290.0], \"xaxis\": \"x\", \"y\": [0.0, 6.721354986377026, 6.721354986377026, 6.228221900557345], \"yaxis\": \"y\"}, {\"hoverinfo\": \"text\", \"marker\": {\"color\": \"rgb(61,153,112)\"}, \"mode\": \"lines\", \"type\": \"scatter\", \"x\": [5315.0, 5315.0, 5325.0, 5325.0], \"xaxis\": \"x\", \"y\": [0.0, 6.949839400507643, 6.949839400507643, 0.0], \"yaxis\": \"y\"}, {\"hoverinfo\": \"text\", \"marker\": {\"color\": \"rgb(61,153,112)\"}, \"mode\": \"lines\", \"type\": \"scatter\", \"x\": [5277.5, 5277.5, 5320.0, 5320.0], \"xaxis\": \"x\", \"y\": [6.721354986377026, 7.886838126005867, 7.886838126005867, 6.949839400507643], \"yaxis\": \"y\"}, {\"hoverinfo\": \"text\", \"marker\": {\"color\": \"rgb(61,153,112)\"}, \"mode\": \"lines\", \"type\": \"scatter\", \"x\": [5190.9375, 5190.9375, 5298.75, 5298.75], \"xaxis\": \"x\", \"y\": [7.8227026168287, 8.787543278831244, 8.787543278831244, 7.886838126005867], \"yaxis\": \"y\"}, {\"hoverinfo\": \"text\", \"marker\": {\"color\": \"rgb(61,153,112)\"}, \"mode\": \"lines\", \"type\": \"scatter\", \"x\": [5135.0, 5135.0, 5244.84375, 5244.84375], \"xaxis\": \"x\", \"y\": [8.322150076183329, 8.906451267894266, 8.906451267894266, 8.787543278831244], \"yaxis\": \"y\"}, {\"hoverinfo\": \"text\", \"marker\": {\"color\": \"rgb(61,153,112)\"}, \"mode\": \"lines\", \"type\": \"scatter\", \"x\": [5058.125, 5058.125, 5189.921875, 5189.921875], \"xaxis\": \"x\", \"y\": [7.950782594823288, 9.03552028542915, 9.03552028542915, 8.906451267894266], \"yaxis\": \"y\"}, {\"hoverinfo\": \"text\", \"marker\": {\"color\": \"rgb(255,65,54)\"}, \"mode\": \"lines\", \"type\": \"scatter\", \"x\": [5345.0, 5345.0, 5355.0, 5355.0], \"xaxis\": \"x\", \"y\": [0.0, 6.5304148332926415, 6.5304148332926415, 0.0], \"yaxis\": \"y\"}, {\"hoverinfo\": \"text\", \"marker\": {\"color\": \"rgb(255,65,54)\"}, \"mode\": \"lines\", \"type\": \"scatter\", \"x\": [5335.0, 5335.0, 5350.0, 5350.0], \"xaxis\": \"x\", \"y\": [0.0, 7.356572769931956, 7.356572769931956, 6.5304148332926415], \"yaxis\": \"y\"}, {\"hoverinfo\": \"text\", \"marker\": {\"color\": \"rgb(255,65,54)\"}, \"mode\": \"lines\", \"type\": \"scatter\", \"x\": [5365.0, 5365.0, 5375.0, 5375.0], \"xaxis\": \"x\", \"y\": [0.0, 5.569520409939342, 5.569520409939342, 0.0], \"yaxis\": \"y\"}, {\"hoverinfo\": \"text\", \"marker\": {\"color\": \"rgb(255,65,54)\"}, \"mode\": \"lines\", \"type\": \"scatter\", \"x\": [5385.0, 5385.0, 5395.0, 5395.0], \"xaxis\": \"x\", \"y\": [0.0, 6.157474043932803, 6.157474043932803, 0.0], \"yaxis\": \"y\"}, {\"hoverinfo\": \"text\", \"marker\": {\"color\": \"rgb(255,65,54)\"}, \"mode\": \"lines\", \"type\": \"scatter\", \"x\": [5370.0, 5370.0, 5390.0, 5390.0], \"xaxis\": \"x\", \"y\": [5.569520409939342, 7.1406129596183465, 7.1406129596183465, 6.157474043932803], \"yaxis\": \"y\"}, {\"hoverinfo\": \"text\", \"marker\": {\"color\": \"rgb(255,65,54)\"}, \"mode\": \"lines\", \"type\": \"scatter\", \"x\": [5415.0, 5415.0, 5425.0, 5425.0], \"xaxis\": \"x\", \"y\": [0.0, 5.3788989669322556, 5.3788989669322556, 0.0], \"yaxis\": \"y\"}, {\"hoverinfo\": \"text\", \"marker\": {\"color\": \"rgb(255,65,54)\"}, \"mode\": \"lines\", \"type\": \"scatter\", \"x\": [5405.0, 5405.0, 5420.0, 5420.0], \"xaxis\": \"x\", \"y\": [0.0, 6.039781848530569, 6.039781848530569, 5.3788989669322556], \"yaxis\": \"y\"}, {\"hoverinfo\": \"text\", \"marker\": {\"color\": \"rgb(255,65,54)\"}, \"mode\": \"lines\", \"type\": \"scatter\", \"x\": [5445.0, 5445.0, 5455.0, 5455.0], \"xaxis\": \"x\", \"y\": [0.0, 6.2328018720452025, 6.2328018720452025, 0.0], \"yaxis\": \"y\"}, {\"hoverinfo\": \"text\", \"marker\": {\"color\": \"rgb(255,65,54)\"}, \"mode\": \"lines\", \"type\": \"scatter\", \"x\": [5435.0, 5435.0, 5450.0, 5450.0], \"xaxis\": \"x\", \"y\": [0.0, 6.7255178668534725, 6.7255178668534725, 6.2328018720452025], \"yaxis\": \"y\"}, {\"hoverinfo\": \"text\", \"marker\": {\"color\": \"rgb(255,65,54)\"}, \"mode\": \"lines\", \"type\": \"scatter\", \"x\": [5412.5, 5412.5, 5442.5, 5442.5], \"xaxis\": \"x\", \"y\": [6.039781848530569, 7.447820317571277, 7.447820317571277, 6.7255178668534725], \"yaxis\": \"y\"}, {\"hoverinfo\": \"text\", \"marker\": {\"color\": \"rgb(255,65,54)\"}, \"mode\": \"lines\", \"type\": \"scatter\", \"x\": [5380.0, 5380.0, 5427.5, 5427.5], \"xaxis\": \"x\", \"y\": [7.1406129596183465, 7.9806964828022515, 7.9806964828022515, 7.447820317571277], \"yaxis\": \"y\"}, {\"hoverinfo\": \"text\", \"marker\": {\"color\": \"rgb(255,65,54)\"}, \"mode\": \"lines\", \"type\": \"scatter\", \"x\": [5342.5, 5342.5, 5403.75, 5403.75], \"xaxis\": \"x\", \"y\": [7.356572769931956, 8.136190764681606, 8.136190764681606, 7.9806964828022515], \"yaxis\": \"y\"}, {\"hoverinfo\": \"text\", \"marker\": {\"color\": \"rgb(255,65,54)\"}, \"mode\": \"lines\", \"type\": \"scatter\", \"x\": [5465.0, 5465.0, 5475.0, 5475.0], \"xaxis\": \"x\", \"y\": [0.0, 6.810765423674648, 6.810765423674648, 0.0], \"yaxis\": \"y\"}, {\"hoverinfo\": \"text\", \"marker\": {\"color\": \"rgb(255,65,54)\"}, \"mode\": \"lines\", \"type\": \"scatter\", \"x\": [5485.0, 5485.0, 5495.0, 5495.0], \"xaxis\": \"x\", \"y\": [0.0, 6.292494384560477, 6.292494384560477, 0.0], \"yaxis\": \"y\"}, {\"hoverinfo\": \"text\", \"marker\": {\"color\": \"rgb(255,65,54)\"}, \"mode\": \"lines\", \"type\": \"scatter\", \"x\": [5505.0, 5505.0, 5515.0, 5515.0], \"xaxis\": \"x\", \"y\": [0.0, 6.178465702315916, 6.178465702315916, 0.0], \"yaxis\": \"y\"}, {\"hoverinfo\": \"text\", \"marker\": {\"color\": \"rgb(255,65,54)\"}, \"mode\": \"lines\", \"type\": \"scatter\", \"x\": [5525.0, 5525.0, 5535.0, 5535.0], \"xaxis\": \"x\", \"y\": [0.0, 6.207288000700711, 6.207288000700711, 0.0], \"yaxis\": \"y\"}, {\"hoverinfo\": \"text\", \"marker\": {\"color\": \"rgb(255,65,54)\"}, \"mode\": \"lines\", \"type\": \"scatter\", \"x\": [5545.0, 5545.0, 5555.0, 5555.0], \"xaxis\": \"x\", \"y\": [0.0, 6.324201847155134, 6.324201847155134, 0.0], \"yaxis\": \"y\"}, {\"hoverinfo\": \"text\", \"marker\": {\"color\": \"rgb(255,65,54)\"}, \"mode\": \"lines\", \"type\": \"scatter\", \"x\": [5530.0, 5530.0, 5550.0, 5550.0], \"xaxis\": \"x\", \"y\": [6.207288000700711, 6.708077883469556, 6.708077883469556, 6.324201847155134], \"yaxis\": \"y\"}, {\"hoverinfo\": \"text\", \"marker\": {\"color\": \"rgb(255,65,54)\"}, \"mode\": \"lines\", \"type\": \"scatter\", \"x\": [5510.0, 5510.0, 5540.0, 5540.0], \"xaxis\": \"x\", \"y\": [6.178465702315916, 7.20903503567223, 7.20903503567223, 6.708077883469556], \"yaxis\": \"y\"}, {\"hoverinfo\": \"text\", \"marker\": {\"color\": \"rgb(255,65,54)\"}, \"mode\": \"lines\", \"type\": \"scatter\", \"x\": [5490.0, 5490.0, 5525.0, 5525.0], \"xaxis\": \"x\", \"y\": [6.292494384560477, 7.3796423572734, 7.3796423572734, 7.20903503567223], \"yaxis\": \"y\"}, {\"hoverinfo\": \"text\", \"marker\": {\"color\": \"rgb(255,65,54)\"}, \"mode\": \"lines\", \"type\": \"scatter\", \"x\": [5470.0, 5470.0, 5507.5, 5507.5], \"xaxis\": \"x\", \"y\": [6.810765423674648, 7.9576267984287, 7.9576267984287, 7.3796423572734], \"yaxis\": \"y\"}, {\"hoverinfo\": \"text\", \"marker\": {\"color\": \"rgb(255,65,54)\"}, \"mode\": \"lines\", \"type\": \"scatter\", \"x\": [5575.0, 5575.0, 5585.0, 5585.0], \"xaxis\": \"x\", \"y\": [0.0, 6.139018443211414, 6.139018443211414, 0.0], \"yaxis\": \"y\"}, {\"hoverinfo\": \"text\", \"marker\": {\"color\": \"rgb(255,65,54)\"}, \"mode\": \"lines\", \"type\": \"scatter\", \"x\": [5595.0, 5595.0, 5605.0, 5605.0], \"xaxis\": \"x\", \"y\": [0.0, 6.186662080598287, 6.186662080598287, 0.0], \"yaxis\": \"y\"}, {\"hoverinfo\": \"text\", \"marker\": {\"color\": \"rgb(255,65,54)\"}, \"mode\": \"lines\", \"type\": \"scatter\", \"x\": [5580.0, 5580.0, 5600.0, 5600.0], \"xaxis\": \"x\", \"y\": [6.139018443211414, 6.953913157101538, 6.953913157101538, 6.186662080598287], \"yaxis\": \"y\"}, {\"hoverinfo\": \"text\", \"marker\": {\"color\": \"rgb(255,65,54)\"}, \"mode\": \"lines\", \"type\": \"scatter\", \"x\": [5565.0, 5565.0, 5590.0, 5590.0], \"xaxis\": \"x\", \"y\": [0.0, 7.3099045731087715, 7.3099045731087715, 6.953913157101538], \"yaxis\": \"y\"}, {\"hoverinfo\": \"text\", \"marker\": {\"color\": \"rgb(255,65,54)\"}, \"mode\": \"lines\", \"type\": \"scatter\", \"x\": [5625.0, 5625.0, 5635.0, 5635.0], \"xaxis\": \"x\", \"y\": [0.0, 5.864636962144476, 5.864636962144476, 0.0], \"yaxis\": \"y\"}, {\"hoverinfo\": \"text\", \"marker\": {\"color\": \"rgb(255,65,54)\"}, \"mode\": \"lines\", \"type\": \"scatter\", \"x\": [5615.0, 5615.0, 5630.0, 5630.0], \"xaxis\": \"x\", \"y\": [0.0, 7.053269095105669, 7.053269095105669, 5.864636962144476], \"yaxis\": \"y\"}, {\"hoverinfo\": \"text\", \"marker\": {\"color\": \"rgb(255,65,54)\"}, \"mode\": \"lines\", \"type\": \"scatter\", \"x\": [5655.0, 5655.0, 5665.0, 5665.0], \"xaxis\": \"x\", \"y\": [0.0, 6.608231671085905, 6.608231671085905, 0.0], \"yaxis\": \"y\"}, {\"hoverinfo\": \"text\", \"marker\": {\"color\": \"rgb(255,65,54)\"}, \"mode\": \"lines\", \"type\": \"scatter\", \"x\": [5645.0, 5645.0, 5660.0, 5660.0], \"xaxis\": \"x\", \"y\": [0.0, 7.064791480265351, 7.064791480265351, 6.608231671085905], \"yaxis\": \"y\"}, {\"hoverinfo\": \"text\", \"marker\": {\"color\": \"rgb(255,65,54)\"}, \"mode\": \"lines\", \"type\": \"scatter\", \"x\": [5622.5, 5622.5, 5652.5, 5652.5], \"xaxis\": \"x\", \"y\": [7.053269095105669, 7.788970047336734, 7.788970047336734, 7.064791480265351], \"yaxis\": \"y\"}, {\"hoverinfo\": \"text\", \"marker\": {\"color\": \"rgb(255,65,54)\"}, \"mode\": \"lines\", \"type\": \"scatter\", \"x\": [5577.5, 5577.5, 5637.5, 5637.5], \"xaxis\": \"x\", \"y\": [7.3099045731087715, 8.001493845786078, 8.001493845786078, 7.788970047336734], \"yaxis\": \"y\"}, {\"hoverinfo\": \"text\", \"marker\": {\"color\": \"rgb(255,65,54)\"}, \"mode\": \"lines\", \"type\": \"scatter\", \"x\": [5488.75, 5488.75, 5607.5, 5607.5], \"xaxis\": \"x\", \"y\": [7.9576267984287, 8.33486248561885, 8.33486248561885, 8.001493845786078], \"yaxis\": \"y\"}, {\"hoverinfo\": \"text\", \"marker\": {\"color\": \"rgb(255,65,54)\"}, \"mode\": \"lines\", \"type\": \"scatter\", \"x\": [5373.125, 5373.125, 5548.125, 5548.125], \"xaxis\": \"x\", \"y\": [8.136190764681606, 8.594016899386473, 8.594016899386473, 8.33486248561885], \"yaxis\": \"y\"}, {\"hoverinfo\": \"text\", \"marker\": {\"color\": \"rgb(35,205,205)\"}, \"mode\": \"lines\", \"type\": \"scatter\", \"x\": [5685.0, 5685.0, 5695.0, 5695.0], \"xaxis\": \"x\", \"y\": [0.0, 5.784988681908441, 5.784988681908441, 0.0], \"yaxis\": \"y\"}, {\"hoverinfo\": \"text\", \"marker\": {\"color\": \"rgb(35,205,205)\"}, \"mode\": \"lines\", \"type\": \"scatter\", \"x\": [5715.0, 5715.0, 5725.0, 5725.0], \"xaxis\": \"x\", \"y\": [0.0, 5.833430619724528, 5.833430619724528, 0.0], \"yaxis\": \"y\"}, {\"hoverinfo\": \"text\", \"marker\": {\"color\": \"rgb(35,205,205)\"}, \"mode\": \"lines\", \"type\": \"scatter\", \"x\": [5705.0, 5705.0, 5720.0, 5720.0], \"xaxis\": \"x\", \"y\": [0.0, 6.223385382350095, 6.223385382350095, 5.833430619724528], \"yaxis\": \"y\"}, {\"hoverinfo\": \"text\", \"marker\": {\"color\": \"rgb(35,205,205)\"}, \"mode\": \"lines\", \"type\": \"scatter\", \"x\": [5690.0, 5690.0, 5712.5, 5712.5], \"xaxis\": \"x\", \"y\": [5.784988681908441, 6.626921642058846, 6.626921642058846, 6.223385382350095], \"yaxis\": \"y\"}, {\"hoverinfo\": \"text\", \"marker\": {\"color\": \"rgb(35,205,205)\"}, \"mode\": \"lines\", \"type\": \"scatter\", \"x\": [5675.0, 5675.0, 5701.25, 5701.25], \"xaxis\": \"x\", \"y\": [0.0, 7.1970074462771825, 7.1970074462771825, 6.626921642058846], \"yaxis\": \"y\"}, {\"hoverinfo\": \"text\", \"marker\": {\"color\": \"rgb(35,205,205)\"}, \"mode\": \"lines\", \"type\": \"scatter\", \"x\": [5735.0, 5735.0, 5745.0, 5745.0], \"xaxis\": \"x\", \"y\": [0.0, 5.52706937343443, 5.52706937343443, 0.0], \"yaxis\": \"y\"}, {\"hoverinfo\": \"text\", \"marker\": {\"color\": \"rgb(35,205,205)\"}, \"mode\": \"lines\", \"type\": \"scatter\", \"x\": [5755.0, 5755.0, 5765.0, 5765.0], \"xaxis\": \"x\", \"y\": [0.0, 5.0252641459313345, 5.0252641459313345, 0.0], \"yaxis\": \"y\"}, {\"hoverinfo\": \"text\", \"marker\": {\"color\": \"rgb(35,205,205)\"}, \"mode\": \"lines\", \"type\": \"scatter\", \"x\": [5775.0, 5775.0, 5785.0, 5785.0], \"xaxis\": \"x\", \"y\": [0.0, 6.071219363771629, 6.071219363771629, 0.0], \"yaxis\": \"y\"}, {\"hoverinfo\": \"text\", \"marker\": {\"color\": \"rgb(35,205,205)\"}, \"mode\": \"lines\", \"type\": \"scatter\", \"x\": [5760.0, 5760.0, 5780.0, 5780.0], \"xaxis\": \"x\", \"y\": [5.0252641459313345, 6.887787751094627, 6.887787751094627, 6.071219363771629], \"yaxis\": \"y\"}, {\"hoverinfo\": \"text\", \"marker\": {\"color\": \"rgb(35,205,205)\"}, \"mode\": \"lines\", \"type\": \"scatter\", \"x\": [5740.0, 5740.0, 5770.0, 5770.0], \"xaxis\": \"x\", \"y\": [5.52706937343443, 7.349882631413456, 7.349882631413456, 6.887787751094627], \"yaxis\": \"y\"}, {\"hoverinfo\": \"text\", \"marker\": {\"color\": \"rgb(35,205,205)\"}, \"mode\": \"lines\", \"type\": \"scatter\", \"x\": [5688.125, 5688.125, 5755.0, 5755.0], \"xaxis\": \"x\", \"y\": [7.1970074462771825, 8.025036628950087, 8.025036628950087, 7.349882631413456], \"yaxis\": \"y\"}, {\"hoverinfo\": \"text\", \"marker\": {\"color\": \"rgb(35,205,205)\"}, \"mode\": \"lines\", \"type\": \"scatter\", \"x\": [5805.0, 5805.0, 5815.0, 5815.0], \"xaxis\": \"x\", \"y\": [0.0, 6.358738749273389, 6.358738749273389, 0.0], \"yaxis\": \"y\"}, {\"hoverinfo\": \"text\", \"marker\": {\"color\": \"rgb(35,205,205)\"}, \"mode\": \"lines\", \"type\": \"scatter\", \"x\": [5795.0, 5795.0, 5810.0, 5810.0], \"xaxis\": \"x\", \"y\": [0.0, 7.525182240995887, 7.525182240995887, 6.358738749273389], \"yaxis\": \"y\"}, {\"hoverinfo\": \"text\", \"marker\": {\"color\": \"rgb(35,205,205)\"}, \"mode\": \"lines\", \"type\": \"scatter\", \"x\": [5835.0, 5835.0, 5845.0, 5845.0], \"xaxis\": \"x\", \"y\": [0.0, 6.9603059083689045, 6.9603059083689045, 0.0], \"yaxis\": \"y\"}, {\"hoverinfo\": \"text\", \"marker\": {\"color\": \"rgb(35,205,205)\"}, \"mode\": \"lines\", \"type\": \"scatter\", \"x\": [5825.0, 5825.0, 5840.0, 5840.0], \"xaxis\": \"x\", \"y\": [0.0, 7.549909963246636, 7.549909963246636, 6.9603059083689045], \"yaxis\": \"y\"}, {\"hoverinfo\": \"text\", \"marker\": {\"color\": \"rgb(35,205,205)\"}, \"mode\": \"lines\", \"type\": \"scatter\", \"x\": [5802.5, 5802.5, 5832.5, 5832.5], \"xaxis\": \"x\", \"y\": [7.525182240995887, 8.260513132500023, 8.260513132500023, 7.549909963246636], \"yaxis\": \"y\"}, {\"hoverinfo\": \"text\", \"marker\": {\"color\": \"rgb(35,205,205)\"}, \"mode\": \"lines\", \"type\": \"scatter\", \"x\": [5721.5625, 5721.5625, 5817.5, 5817.5], \"xaxis\": \"x\", \"y\": [8.025036628950087, 8.541499498139661, 8.541499498139661, 8.260513132500023], \"yaxis\": \"y\"}, {\"hoverinfo\": \"text\", \"marker\": {\"color\": \"rgb(35,205,205)\"}, \"mode\": \"lines\", \"type\": \"scatter\", \"x\": [5875.0, 5875.0, 5885.0, 5885.0], \"xaxis\": \"x\", \"y\": [0.0, 5.933634583648748, 5.933634583648748, 0.0], \"yaxis\": \"y\"}, {\"hoverinfo\": \"text\", \"marker\": {\"color\": \"rgb(35,205,205)\"}, \"mode\": \"lines\", \"type\": \"scatter\", \"x\": [5865.0, 5865.0, 5880.0, 5880.0], \"xaxis\": \"x\", \"y\": [0.0, 6.245909706686052, 6.245909706686052, 5.933634583648748], \"yaxis\": \"y\"}, {\"hoverinfo\": \"text\", \"marker\": {\"color\": \"rgb(35,205,205)\"}, \"mode\": \"lines\", \"type\": \"scatter\", \"x\": [5895.0, 5895.0, 5905.0, 5905.0], \"xaxis\": \"x\", \"y\": [0.0, 6.3695509514870805, 6.3695509514870805, 0.0], \"yaxis\": \"y\"}, {\"hoverinfo\": \"text\", \"marker\": {\"color\": \"rgb(35,205,205)\"}, \"mode\": \"lines\", \"type\": \"scatter\", \"x\": [5872.5, 5872.5, 5900.0, 5900.0], \"xaxis\": \"x\", \"y\": [6.245909706686052, 7.610082054448151, 7.610082054448151, 6.3695509514870805], \"yaxis\": \"y\"}, {\"hoverinfo\": \"text\", \"marker\": {\"color\": \"rgb(35,205,205)\"}, \"mode\": \"lines\", \"type\": \"scatter\", \"x\": [5855.0, 5855.0, 5886.25, 5886.25], \"xaxis\": \"x\", \"y\": [0.0, 7.748510177720592, 7.748510177720592, 7.610082054448151], \"yaxis\": \"y\"}, {\"hoverinfo\": \"text\", \"marker\": {\"color\": \"rgb(35,205,205)\"}, \"mode\": \"lines\", \"type\": \"scatter\", \"x\": [5915.0, 5915.0, 5925.0, 5925.0], \"xaxis\": \"x\", \"y\": [0.0, 5.833651208501757, 5.833651208501757, 0.0], \"yaxis\": \"y\"}, {\"hoverinfo\": \"text\", \"marker\": {\"color\": \"rgb(35,205,205)\"}, \"mode\": \"lines\", \"type\": \"scatter\", \"x\": [5935.0, 5935.0, 5945.0, 5945.0], \"xaxis\": \"x\", \"y\": [0.0, 6.626781219485048, 6.626781219485048, 0.0], \"yaxis\": \"y\"}, {\"hoverinfo\": \"text\", \"marker\": {\"color\": \"rgb(35,205,205)\"}, \"mode\": \"lines\", \"type\": \"scatter\", \"x\": [5920.0, 5920.0, 5940.0, 5940.0], \"xaxis\": \"x\", \"y\": [5.833651208501757, 7.179365230884279, 7.179365230884279, 6.626781219485048], \"yaxis\": \"y\"}, {\"hoverinfo\": \"text\", \"marker\": {\"color\": \"rgb(35,205,205)\"}, \"mode\": \"lines\", \"type\": \"scatter\", \"x\": [5955.0, 5955.0, 5965.0, 5965.0], \"xaxis\": \"x\", \"y\": [0.0, 6.370261837606904, 6.370261837606904, 0.0], \"yaxis\": \"y\"}, {\"hoverinfo\": \"text\", \"marker\": {\"color\": \"rgb(35,205,205)\"}, \"mode\": \"lines\", \"type\": \"scatter\", \"x\": [5975.0, 5975.0, 5985.0, 5985.0], \"xaxis\": \"x\", \"y\": [0.0, 6.462756490891616, 6.462756490891616, 0.0], \"yaxis\": \"y\"}, {\"hoverinfo\": \"text\", \"marker\": {\"color\": \"rgb(35,205,205)\"}, \"mode\": \"lines\", \"type\": \"scatter\", \"x\": [5960.0, 5960.0, 5980.0, 5980.0], \"xaxis\": \"x\", \"y\": [6.370261837606904, 7.198013888968953, 7.198013888968953, 6.462756490891616], \"yaxis\": \"y\"}, {\"hoverinfo\": \"text\", \"marker\": {\"color\": \"rgb(35,205,205)\"}, \"mode\": \"lines\", \"type\": \"scatter\", \"x\": [5930.0, 5930.0, 5970.0, 5970.0], \"xaxis\": \"x\", \"y\": [7.179365230884279, 7.847363763439675, 7.847363763439675, 7.198013888968953], \"yaxis\": \"y\"}, {\"hoverinfo\": \"text\", \"marker\": {\"color\": \"rgb(35,205,205)\"}, \"mode\": \"lines\", \"type\": \"scatter\", \"x\": [5870.625, 5870.625, 5950.0, 5950.0], \"xaxis\": \"x\", \"y\": [7.748510177720592, 8.245851939440657, 8.245851939440657, 7.847363763439675], \"yaxis\": \"y\"}, {\"hoverinfo\": \"text\", \"marker\": {\"color\": \"rgb(35,205,205)\"}, \"mode\": \"lines\", \"type\": \"scatter\", \"x\": [5995.0, 5995.0, 6005.0, 6005.0], \"xaxis\": \"x\", \"y\": [0.0, 5.641855699340735, 5.641855699340735, 0.0], \"yaxis\": \"y\"}, {\"hoverinfo\": \"text\", \"marker\": {\"color\": \"rgb(35,205,205)\"}, \"mode\": \"lines\", \"type\": \"scatter\", \"x\": [6015.0, 6015.0, 6025.0, 6025.0], \"xaxis\": \"x\", \"y\": [0.0, 6.265873155990408, 6.265873155990408, 0.0], \"yaxis\": \"y\"}, {\"hoverinfo\": \"text\", \"marker\": {\"color\": \"rgb(35,205,205)\"}, \"mode\": \"lines\", \"type\": \"scatter\", \"x\": [6000.0, 6000.0, 6020.0, 6020.0], \"xaxis\": \"x\", \"y\": [5.641855699340735, 6.97039321653385, 6.97039321653385, 6.265873155990408], \"yaxis\": \"y\"}, {\"hoverinfo\": \"text\", \"marker\": {\"color\": \"rgb(35,205,205)\"}, \"mode\": \"lines\", \"type\": \"scatter\", \"x\": [6045.0, 6045.0, 6055.0, 6055.0], \"xaxis\": \"x\", \"y\": [0.0, 6.166988388779104, 6.166988388779104, 0.0], \"yaxis\": \"y\"}, {\"hoverinfo\": \"text\", \"marker\": {\"color\": \"rgb(35,205,205)\"}, \"mode\": \"lines\", \"type\": \"scatter\", \"x\": [6035.0, 6035.0, 6050.0, 6050.0], \"xaxis\": \"x\", \"y\": [0.0, 6.534392116227569, 6.534392116227569, 6.166988388779104], \"yaxis\": \"y\"}, {\"hoverinfo\": \"text\", \"marker\": {\"color\": \"rgb(35,205,205)\"}, \"mode\": \"lines\", \"type\": \"scatter\", \"x\": [6065.0, 6065.0, 6075.0, 6075.0], \"xaxis\": \"x\", \"y\": [0.0, 5.705643284875302, 5.705643284875302, 0.0], \"yaxis\": \"y\"}, {\"hoverinfo\": \"text\", \"marker\": {\"color\": \"rgb(35,205,205)\"}, \"mode\": \"lines\", \"type\": \"scatter\", \"x\": [6095.0, 6095.0, 6105.0, 6105.0], \"xaxis\": \"x\", \"y\": [0.0, 5.450945320784393, 5.450945320784393, 0.0], \"yaxis\": \"y\"}, {\"hoverinfo\": \"text\", \"marker\": {\"color\": \"rgb(35,205,205)\"}, \"mode\": \"lines\", \"type\": \"scatter\", \"x\": [6085.0, 6085.0, 6100.0, 6100.0], \"xaxis\": \"x\", \"y\": [0.0, 6.113172845468206, 6.113172845468206, 5.450945320784393], \"yaxis\": \"y\"}, {\"hoverinfo\": \"text\", \"marker\": {\"color\": \"rgb(35,205,205)\"}, \"mode\": \"lines\", \"type\": \"scatter\", \"x\": [6070.0, 6070.0, 6092.5, 6092.5], \"xaxis\": \"x\", \"y\": [5.705643284875302, 6.605641295015422, 6.605641295015422, 6.113172845468206], \"yaxis\": \"y\"}, {\"hoverinfo\": \"text\", \"marker\": {\"color\": \"rgb(35,205,205)\"}, \"mode\": \"lines\", \"type\": \"scatter\", \"x\": [6042.5, 6042.5, 6081.25, 6081.25], \"xaxis\": \"x\", \"y\": [6.534392116227569, 7.231643249865714, 7.231643249865714, 6.605641295015422], \"yaxis\": \"y\"}, {\"hoverinfo\": \"text\", \"marker\": {\"color\": \"rgb(35,205,205)\"}, \"mode\": \"lines\", \"type\": \"scatter\", \"x\": [6010.0, 6010.0, 6061.875, 6061.875], \"xaxis\": \"x\", \"y\": [6.97039321653385, 7.423450340940802, 7.423450340940802, 7.231643249865714], \"yaxis\": \"y\"}, {\"hoverinfo\": \"text\", \"marker\": {\"color\": \"rgb(35,205,205)\"}, \"mode\": \"lines\", \"type\": \"scatter\", \"x\": [6115.0, 6115.0, 6125.0, 6125.0], \"xaxis\": \"x\", \"y\": [0.0, 6.659835176786228, 6.659835176786228, 0.0], \"yaxis\": \"y\"}, {\"hoverinfo\": \"text\", \"marker\": {\"color\": \"rgb(35,205,205)\"}, \"mode\": \"lines\", \"type\": \"scatter\", \"x\": [6135.0, 6135.0, 6145.0, 6145.0], \"xaxis\": \"x\", \"y\": [0.0, 6.080465487858545, 6.080465487858545, 0.0], \"yaxis\": \"y\"}, {\"hoverinfo\": \"text\", \"marker\": {\"color\": \"rgb(35,205,205)\"}, \"mode\": \"lines\", \"type\": \"scatter\", \"x\": [6155.0, 6155.0, 6165.0, 6165.0], \"xaxis\": \"x\", \"y\": [0.0, 6.531490730618877, 6.531490730618877, 0.0], \"yaxis\": \"y\"}, {\"hoverinfo\": \"text\", \"marker\": {\"color\": \"rgb(35,205,205)\"}, \"mode\": \"lines\", \"type\": \"scatter\", \"x\": [6140.0, 6140.0, 6160.0, 6160.0], \"xaxis\": \"x\", \"y\": [6.080465487858545, 7.080680990088819, 7.080680990088819, 6.531490730618877], \"yaxis\": \"y\"}, {\"hoverinfo\": \"text\", \"marker\": {\"color\": \"rgb(35,205,205)\"}, \"mode\": \"lines\", \"type\": \"scatter\", \"x\": [6120.0, 6120.0, 6150.0, 6150.0], \"xaxis\": \"x\", \"y\": [6.659835176786228, 7.550946421603881, 7.550946421603881, 7.080680990088819], \"yaxis\": \"y\"}, {\"hoverinfo\": \"text\", \"marker\": {\"color\": \"rgb(35,205,205)\"}, \"mode\": \"lines\", \"type\": \"scatter\", \"x\": [6185.0, 6185.0, 6195.0, 6195.0], \"xaxis\": \"x\", \"y\": [0.0, 6.283505656069016, 6.283505656069016, 0.0], \"yaxis\": \"y\"}, {\"hoverinfo\": \"text\", \"marker\": {\"color\": \"rgb(35,205,205)\"}, \"mode\": \"lines\", \"type\": \"scatter\", \"x\": [6175.0, 6175.0, 6190.0, 6190.0], \"xaxis\": \"x\", \"y\": [0.0, 6.758787821195727, 6.758787821195727, 6.283505656069016], \"yaxis\": \"y\"}, {\"hoverinfo\": \"text\", \"marker\": {\"color\": \"rgb(35,205,205)\"}, \"mode\": \"lines\", \"type\": \"scatter\", \"x\": [6215.0, 6215.0, 6225.0, 6225.0], \"xaxis\": \"x\", \"y\": [0.0, 5.572339509054533, 5.572339509054533, 0.0], \"yaxis\": \"y\"}, {\"hoverinfo\": \"text\", \"marker\": {\"color\": \"rgb(35,205,205)\"}, \"mode\": \"lines\", \"type\": \"scatter\", \"x\": [6205.0, 6205.0, 6220.0, 6220.0], \"xaxis\": \"x\", \"y\": [0.0, 6.850341211535091, 6.850341211535091, 5.572339509054533], \"yaxis\": \"y\"}, {\"hoverinfo\": \"text\", \"marker\": {\"color\": \"rgb(35,205,205)\"}, \"mode\": \"lines\", \"type\": \"scatter\", \"x\": [6235.0, 6235.0, 6245.0, 6245.0], \"xaxis\": \"x\", \"y\": [0.0, 5.809266488723452, 5.809266488723452, 0.0], \"yaxis\": \"y\"}, {\"hoverinfo\": \"text\", \"marker\": {\"color\": \"rgb(35,205,205)\"}, \"mode\": \"lines\", \"type\": \"scatter\", \"x\": [6255.0, 6255.0, 6265.0, 6265.0], \"xaxis\": \"x\", \"y\": [0.0, 5.90587645896088, 5.90587645896088, 0.0], \"yaxis\": \"y\"}, {\"hoverinfo\": \"text\", \"marker\": {\"color\": \"rgb(35,205,205)\"}, \"mode\": \"lines\", \"type\": \"scatter\", \"x\": [6285.0, 6285.0, 6295.0, 6295.0], \"xaxis\": \"x\", \"y\": [0.0, 5.663913141318885, 5.663913141318885, 0.0], \"yaxis\": \"y\"}, {\"hoverinfo\": \"text\", \"marker\": {\"color\": \"rgb(35,205,205)\"}, \"mode\": \"lines\", \"type\": \"scatter\", \"x\": [6275.0, 6275.0, 6290.0, 6290.0], \"xaxis\": \"x\", \"y\": [0.0, 6.403877116861616, 6.403877116861616, 5.663913141318885], \"yaxis\": \"y\"}, {\"hoverinfo\": \"text\", \"marker\": {\"color\": \"rgb(35,205,205)\"}, \"mode\": \"lines\", \"type\": \"scatter\", \"x\": [6260.0, 6260.0, 6282.5, 6282.5], \"xaxis\": \"x\", \"y\": [5.90587645896088, 6.829377302039139, 6.829377302039139, 6.403877116861616], \"yaxis\": \"y\"}, {\"hoverinfo\": \"text\", \"marker\": {\"color\": \"rgb(35,205,205)\"}, \"mode\": \"lines\", \"type\": \"scatter\", \"x\": [6240.0, 6240.0, 6271.25, 6271.25], \"xaxis\": \"x\", \"y\": [5.809266488723452, 6.925894680354084, 6.925894680354084, 6.829377302039139], \"yaxis\": \"y\"}, {\"hoverinfo\": \"text\", \"marker\": {\"color\": \"rgb(35,205,205)\"}, \"mode\": \"lines\", \"type\": \"scatter\", \"x\": [6212.5, 6212.5, 6255.625, 6255.625], \"xaxis\": \"x\", \"y\": [6.850341211535091, 7.44617779678828, 7.44617779678828, 6.925894680354084], \"yaxis\": \"y\"}, {\"hoverinfo\": \"text\", \"marker\": {\"color\": \"rgb(35,205,205)\"}, \"mode\": \"lines\", \"type\": \"scatter\", \"x\": [6182.5, 6182.5, 6234.0625, 6234.0625], \"xaxis\": \"x\", \"y\": [6.758787821195727, 7.658568222712811, 7.658568222712811, 7.44617779678828], \"yaxis\": \"y\"}, {\"hoverinfo\": \"text\", \"marker\": {\"color\": \"rgb(35,205,205)\"}, \"mode\": \"lines\", \"type\": \"scatter\", \"x\": [6135.0, 6135.0, 6208.28125, 6208.28125], \"xaxis\": \"x\", \"y\": [7.550946421603881, 7.835267941898323, 7.835267941898323, 7.658568222712811], \"yaxis\": \"y\"}, {\"hoverinfo\": \"text\", \"marker\": {\"color\": \"rgb(35,205,205)\"}, \"mode\": \"lines\", \"type\": \"scatter\", \"x\": [6035.9375, 6035.9375, 6171.640625, 6171.640625], \"xaxis\": \"x\", \"y\": [7.423450340940802, 7.85935360252078, 7.85935360252078, 7.835267941898323], \"yaxis\": \"y\"}, {\"hoverinfo\": \"text\", \"marker\": {\"color\": \"rgb(35,205,205)\"}, \"mode\": \"lines\", \"type\": \"scatter\", \"x\": [6315.0, 6315.0, 6325.0, 6325.0], \"xaxis\": \"x\", \"y\": [0.0, 5.6921827834907415, 5.6921827834907415, 0.0], \"yaxis\": \"y\"}, {\"hoverinfo\": \"text\", \"marker\": {\"color\": \"rgb(35,205,205)\"}, \"mode\": \"lines\", \"type\": \"scatter\", \"x\": [6305.0, 6305.0, 6320.0, 6320.0], \"xaxis\": \"x\", \"y\": [0.0, 6.460979814673346, 6.460979814673346, 5.6921827834907415], \"yaxis\": \"y\"}, {\"hoverinfo\": \"text\", \"marker\": {\"color\": \"rgb(35,205,205)\"}, \"mode\": \"lines\", \"type\": \"scatter\", \"x\": [6355.0, 6355.0, 6365.0, 6365.0], \"xaxis\": \"x\", \"y\": [0.0, 5.717829858582411, 5.717829858582411, 0.0], \"yaxis\": \"y\"}, {\"hoverinfo\": \"text\", \"marker\": {\"color\": \"rgb(35,205,205)\"}, \"mode\": \"lines\", \"type\": \"scatter\", \"x\": [6345.0, 6345.0, 6360.0, 6360.0], \"xaxis\": \"x\", \"y\": [0.0, 6.20719622737676, 6.20719622737676, 5.717829858582411], \"yaxis\": \"y\"}, {\"hoverinfo\": \"text\", \"marker\": {\"color\": \"rgb(35,205,205)\"}, \"mode\": \"lines\", \"type\": \"scatter\", \"x\": [6335.0, 6335.0, 6352.5, 6352.5], \"xaxis\": \"x\", \"y\": [0.0, 6.653462032488997, 6.653462032488997, 6.20719622737676], \"yaxis\": \"y\"}, {\"hoverinfo\": \"text\", \"marker\": {\"color\": \"rgb(35,205,205)\"}, \"mode\": \"lines\", \"type\": \"scatter\", \"x\": [6385.0, 6385.0, 6395.0, 6395.0], \"xaxis\": \"x\", \"y\": [0.0, 5.7803487290888125, 5.7803487290888125, 0.0], \"yaxis\": \"y\"}, {\"hoverinfo\": \"text\", \"marker\": {\"color\": \"rgb(35,205,205)\"}, \"mode\": \"lines\", \"type\": \"scatter\", \"x\": [6375.0, 6375.0, 6390.0, 6390.0], \"xaxis\": \"x\", \"y\": [0.0, 6.524154021263008, 6.524154021263008, 5.7803487290888125], \"yaxis\": \"y\"}, {\"hoverinfo\": \"text\", \"marker\": {\"color\": \"rgb(35,205,205)\"}, \"mode\": \"lines\", \"type\": \"scatter\", \"x\": [6405.0, 6405.0, 6415.0, 6415.0], \"xaxis\": \"x\", \"y\": [0.0, 6.74016613645787, 6.74016613645787, 0.0], \"yaxis\": \"y\"}, {\"hoverinfo\": \"text\", \"marker\": {\"color\": \"rgb(35,205,205)\"}, \"mode\": \"lines\", \"type\": \"scatter\", \"x\": [6382.5, 6382.5, 6410.0, 6410.0], \"xaxis\": \"x\", \"y\": [6.524154021263008, 7.2343807642394165, 7.2343807642394165, 6.74016613645787], \"yaxis\": \"y\"}, {\"hoverinfo\": \"text\", \"marker\": {\"color\": \"rgb(35,205,205)\"}, \"mode\": \"lines\", \"type\": \"scatter\", \"x\": [6343.75, 6343.75, 6396.25, 6396.25], \"xaxis\": \"x\", \"y\": [6.653462032488997, 7.465852098035536, 7.465852098035536, 7.2343807642394165], \"yaxis\": \"y\"}, {\"hoverinfo\": \"text\", \"marker\": {\"color\": \"rgb(35,205,205)\"}, \"mode\": \"lines\", \"type\": \"scatter\", \"x\": [6312.5, 6312.5, 6370.0, 6370.0], \"xaxis\": \"x\", \"y\": [6.460979814673346, 7.65234612344974, 7.65234612344974, 7.465852098035536], \"yaxis\": \"y\"}, {\"hoverinfo\": \"text\", \"marker\": {\"color\": \"rgb(35,205,205)\"}, \"mode\": \"lines\", \"type\": \"scatter\", \"x\": [6435.0, 6435.0, 6445.0, 6445.0], \"xaxis\": \"x\", \"y\": [0.0, 5.724817690676647, 5.724817690676647, 0.0], \"yaxis\": \"y\"}, {\"hoverinfo\": \"text\", \"marker\": {\"color\": \"rgb(35,205,205)\"}, \"mode\": \"lines\", \"type\": \"scatter\", \"x\": [6455.0, 6455.0, 6465.0, 6465.0], \"xaxis\": \"x\", \"y\": [0.0, 6.294719281753862, 6.294719281753862, 0.0], \"yaxis\": \"y\"}, {\"hoverinfo\": \"text\", \"marker\": {\"color\": \"rgb(35,205,205)\"}, \"mode\": \"lines\", \"type\": \"scatter\", \"x\": [6440.0, 6440.0, 6460.0, 6460.0], \"xaxis\": \"x\", \"y\": [5.724817690676647, 7.1508080337655, 7.1508080337655, 6.294719281753862], \"yaxis\": \"y\"}, {\"hoverinfo\": \"text\", \"marker\": {\"color\": \"rgb(35,205,205)\"}, \"mode\": \"lines\", \"type\": \"scatter\", \"x\": [6425.0, 6425.0, 6450.0, 6450.0], \"xaxis\": \"x\", \"y\": [0.0, 7.399324920403884, 7.399324920403884, 7.1508080337655], \"yaxis\": \"y\"}, {\"hoverinfo\": \"text\", \"marker\": {\"color\": \"rgb(35,205,205)\"}, \"mode\": \"lines\", \"type\": \"scatter\", \"x\": [6485.0, 6485.0, 6495.0, 6495.0], \"xaxis\": \"x\", \"y\": [0.0, 5.772509026663255, 5.772509026663255, 0.0], \"yaxis\": \"y\"}, {\"hoverinfo\": \"text\", \"marker\": {\"color\": \"rgb(35,205,205)\"}, \"mode\": \"lines\", \"type\": \"scatter\", \"x\": [6505.0, 6505.0, 6515.0, 6515.0], \"xaxis\": \"x\", \"y\": [0.0, 5.840573310423449, 5.840573310423449, 0.0], \"yaxis\": \"y\"}, {\"hoverinfo\": \"text\", \"marker\": {\"color\": \"rgb(35,205,205)\"}, \"mode\": \"lines\", \"type\": \"scatter\", \"x\": [6490.0, 6490.0, 6510.0, 6510.0], \"xaxis\": \"x\", \"y\": [5.772509026663255, 6.321179228572961, 6.321179228572961, 5.840573310423449], \"yaxis\": \"y\"}, {\"hoverinfo\": \"text\", \"marker\": {\"color\": \"rgb(35,205,205)\"}, \"mode\": \"lines\", \"type\": \"scatter\", \"x\": [6475.0, 6475.0, 6500.0, 6500.0], \"xaxis\": \"x\", \"y\": [0.0, 7.086994774075587, 7.086994774075587, 6.321179228572961], \"yaxis\": \"y\"}, {\"hoverinfo\": \"text\", \"marker\": {\"color\": \"rgb(35,205,205)\"}, \"mode\": \"lines\", \"type\": \"scatter\", \"x\": [6525.0, 6525.0, 6535.0, 6535.0], \"xaxis\": \"x\", \"y\": [0.0, 6.542517480551381, 6.542517480551381, 0.0], \"yaxis\": \"y\"}, {\"hoverinfo\": \"text\", \"marker\": {\"color\": \"rgb(35,205,205)\"}, \"mode\": \"lines\", \"type\": \"scatter\", \"x\": [6555.0, 6555.0, 6565.0, 6565.0], \"xaxis\": \"x\", \"y\": [0.0, 6.38663264436794, 6.38663264436794, 0.0], \"yaxis\": \"y\"}, {\"hoverinfo\": \"text\", \"marker\": {\"color\": \"rgb(35,205,205)\"}, \"mode\": \"lines\", \"type\": \"scatter\", \"x\": [6545.0, 6545.0, 6560.0, 6560.0], \"xaxis\": \"x\", \"y\": [0.0, 6.768823284331616, 6.768823284331616, 6.38663264436794], \"yaxis\": \"y\"}, {\"hoverinfo\": \"text\", \"marker\": {\"color\": \"rgb(35,205,205)\"}, \"mode\": \"lines\", \"type\": \"scatter\", \"x\": [6530.0, 6530.0, 6552.5, 6552.5], \"xaxis\": \"x\", \"y\": [6.542517480551381, 7.383352087960424, 7.383352087960424, 6.768823284331616], \"yaxis\": \"y\"}, {\"hoverinfo\": \"text\", \"marker\": {\"color\": \"rgb(35,205,205)\"}, \"mode\": \"lines\", \"type\": \"scatter\", \"x\": [6487.5, 6487.5, 6541.25, 6541.25], \"xaxis\": \"x\", \"y\": [7.086994774075587, 7.685894369069437, 7.685894369069437, 7.383352087960424], \"yaxis\": \"y\"}, {\"hoverinfo\": \"text\", \"marker\": {\"color\": \"rgb(35,205,205)\"}, \"mode\": \"lines\", \"type\": \"scatter\", \"x\": [6437.5, 6437.5, 6514.375, 6514.375], \"xaxis\": \"x\", \"y\": [7.399324920403884, 7.871096555539473, 7.871096555539473, 7.685894369069437], \"yaxis\": \"y\"}, {\"hoverinfo\": \"text\", \"marker\": {\"color\": \"rgb(35,205,205)\"}, \"mode\": \"lines\", \"type\": \"scatter\", \"x\": [6341.25, 6341.25, 6475.9375, 6475.9375], \"xaxis\": \"x\", \"y\": [7.65234612344974, 8.117801133474712, 8.117801133474712, 7.871096555539473], \"yaxis\": \"y\"}, {\"hoverinfo\": \"text\", \"marker\": {\"color\": \"rgb(35,205,205)\"}, \"mode\": \"lines\", \"type\": \"scatter\", \"x\": [6103.7890625, 6103.7890625, 6408.59375, 6408.59375], \"xaxis\": \"x\", \"y\": [7.85935360252078, 8.324145270591432, 8.324145270591432, 8.117801133474712], \"yaxis\": \"y\"}, {\"hoverinfo\": \"text\", \"marker\": {\"color\": \"rgb(35,205,205)\"}, \"mode\": \"lines\", \"type\": \"scatter\", \"x\": [6585.0, 6585.0, 6595.0, 6595.0], \"xaxis\": \"x\", \"y\": [0.0, 6.202751941199803, 6.202751941199803, 0.0], \"yaxis\": \"y\"}, {\"hoverinfo\": \"text\", \"marker\": {\"color\": \"rgb(35,205,205)\"}, \"mode\": \"lines\", \"type\": \"scatter\", \"x\": [6575.0, 6575.0, 6590.0, 6590.0], \"xaxis\": \"x\", \"y\": [0.0, 6.877978710533267, 6.877978710533267, 6.202751941199803], \"yaxis\": \"y\"}, {\"hoverinfo\": \"text\", \"marker\": {\"color\": \"rgb(35,205,205)\"}, \"mode\": \"lines\", \"type\": \"scatter\", \"x\": [6605.0, 6605.0, 6615.0, 6615.0], \"xaxis\": \"x\", \"y\": [0.0, 5.767036006448365, 5.767036006448365, 0.0], \"yaxis\": \"y\"}, {\"hoverinfo\": \"text\", \"marker\": {\"color\": \"rgb(35,205,205)\"}, \"mode\": \"lines\", \"type\": \"scatter\", \"x\": [6635.0, 6635.0, 6645.0, 6645.0], \"xaxis\": \"x\", \"y\": [0.0, 5.863568731797431, 5.863568731797431, 0.0], \"yaxis\": \"y\"}, {\"hoverinfo\": \"text\", \"marker\": {\"color\": \"rgb(35,205,205)\"}, \"mode\": \"lines\", \"type\": \"scatter\", \"x\": [6625.0, 6625.0, 6640.0, 6640.0], \"xaxis\": \"x\", \"y\": [0.0, 5.998162162935807, 5.998162162935807, 5.863568731797431], \"yaxis\": \"y\"}, {\"hoverinfo\": \"text\", \"marker\": {\"color\": \"rgb(35,205,205)\"}, \"mode\": \"lines\", \"type\": \"scatter\", \"x\": [6665.0, 6665.0, 6675.0, 6675.0], \"xaxis\": \"x\", \"y\": [0.0, 5.32390903755993, 5.32390903755993, 0.0], \"yaxis\": \"y\"}, {\"hoverinfo\": \"text\", \"marker\": {\"color\": \"rgb(35,205,205)\"}, \"mode\": \"lines\", \"type\": \"scatter\", \"x\": [6655.0, 6655.0, 6670.0, 6670.0], \"xaxis\": \"x\", \"y\": [0.0, 6.006424537621119, 6.006424537621119, 5.32390903755993], \"yaxis\": \"y\"}, {\"hoverinfo\": \"text\", \"marker\": {\"color\": \"rgb(35,205,205)\"}, \"mode\": \"lines\", \"type\": \"scatter\", \"x\": [6632.5, 6632.5, 6662.5, 6662.5], \"xaxis\": \"x\", \"y\": [5.998162162935807, 6.910592760673706, 6.910592760673706, 6.006424537621119], \"yaxis\": \"y\"}, {\"hoverinfo\": \"text\", \"marker\": {\"color\": \"rgb(35,205,205)\"}, \"mode\": \"lines\", \"type\": \"scatter\", \"x\": [6610.0, 6610.0, 6647.5, 6647.5], \"xaxis\": \"x\", \"y\": [5.767036006448365, 7.079830706161077, 7.079830706161077, 6.910592760673706], \"yaxis\": \"y\"}, {\"hoverinfo\": \"text\", \"marker\": {\"color\": \"rgb(35,205,205)\"}, \"mode\": \"lines\", \"type\": \"scatter\", \"x\": [6582.5, 6582.5, 6628.75, 6628.75], \"xaxis\": \"x\", \"y\": [6.877978710533267, 7.47078071256714, 7.47078071256714, 7.079830706161077], \"yaxis\": \"y\"}, {\"hoverinfo\": \"text\", \"marker\": {\"color\": \"rgb(35,205,205)\"}, \"mode\": \"lines\", \"type\": \"scatter\", \"x\": [6685.0, 6685.0, 6695.0, 6695.0], \"xaxis\": \"x\", \"y\": [0.0, 5.873706898721198, 5.873706898721198, 0.0], \"yaxis\": \"y\"}, {\"hoverinfo\": \"text\", \"marker\": {\"color\": \"rgb(35,205,205)\"}, \"mode\": \"lines\", \"type\": \"scatter\", \"x\": [6705.0, 6705.0, 6715.0, 6715.0], \"xaxis\": \"x\", \"y\": [0.0, 5.4092371012143685, 5.4092371012143685, 0.0], \"yaxis\": \"y\"}, {\"hoverinfo\": \"text\", \"marker\": {\"color\": \"rgb(35,205,205)\"}, \"mode\": \"lines\", \"type\": \"scatter\", \"x\": [6735.0, 6735.0, 6745.0, 6745.0], \"xaxis\": \"x\", \"y\": [0.0, 5.508498205099683, 5.508498205099683, 0.0], \"yaxis\": \"y\"}, {\"hoverinfo\": \"text\", \"marker\": {\"color\": \"rgb(35,205,205)\"}, \"mode\": \"lines\", \"type\": \"scatter\", \"x\": [6725.0, 6725.0, 6740.0, 6740.0], \"xaxis\": \"x\", \"y\": [0.0, 5.863585259277411, 5.863585259277411, 5.508498205099683], \"yaxis\": \"y\"}, {\"hoverinfo\": \"text\", \"marker\": {\"color\": \"rgb(35,205,205)\"}, \"mode\": \"lines\", \"type\": \"scatter\", \"x\": [6710.0, 6710.0, 6732.5, 6732.5], \"xaxis\": \"x\", \"y\": [5.4092371012143685, 6.2805472257567665, 6.2805472257567665, 5.863585259277411], \"yaxis\": \"y\"}, {\"hoverinfo\": \"text\", \"marker\": {\"color\": \"rgb(35,205,205)\"}, \"mode\": \"lines\", \"type\": \"scatter\", \"x\": [6690.0, 6690.0, 6721.25, 6721.25], \"xaxis\": \"x\", \"y\": [5.873706898721198, 7.113860803845928, 7.113860803845928, 6.2805472257567665], \"yaxis\": \"y\"}, {\"hoverinfo\": \"text\", \"marker\": {\"color\": \"rgb(35,205,205)\"}, \"mode\": \"lines\", \"type\": \"scatter\", \"x\": [6765.0, 6765.0, 6775.0, 6775.0], \"xaxis\": \"x\", \"y\": [0.0, 5.192325575112698, 5.192325575112698, 0.0], \"yaxis\": \"y\"}, {\"hoverinfo\": \"text\", \"marker\": {\"color\": \"rgb(35,205,205)\"}, \"mode\": \"lines\", \"type\": \"scatter\", \"x\": [6755.0, 6755.0, 6770.0, 6770.0], \"xaxis\": \"x\", \"y\": [0.0, 6.276739390510103, 6.276739390510103, 5.192325575112698], \"yaxis\": \"y\"}, {\"hoverinfo\": \"text\", \"marker\": {\"color\": \"rgb(35,205,205)\"}, \"mode\": \"lines\", \"type\": \"scatter\", \"x\": [6795.0, 6795.0, 6805.0, 6805.0], \"xaxis\": \"x\", \"y\": [0.0, 6.0343860480338884, 6.0343860480338884, 0.0], \"yaxis\": \"y\"}, {\"hoverinfo\": \"text\", \"marker\": {\"color\": \"rgb(35,205,205)\"}, \"mode\": \"lines\", \"type\": \"scatter\", \"x\": [6785.0, 6785.0, 6800.0, 6800.0], \"xaxis\": \"x\", \"y\": [0.0, 6.604537576243604, 6.604537576243604, 6.0343860480338884], \"yaxis\": \"y\"}, {\"hoverinfo\": \"text\", \"marker\": {\"color\": \"rgb(35,205,205)\"}, \"mode\": \"lines\", \"type\": \"scatter\", \"x\": [6762.5, 6762.5, 6792.5, 6792.5], \"xaxis\": \"x\", \"y\": [6.276739390510103, 6.73094462875626, 6.73094462875626, 6.604537576243604], \"yaxis\": \"y\"}, {\"hoverinfo\": \"text\", \"marker\": {\"color\": \"rgb(35,205,205)\"}, \"mode\": \"lines\", \"type\": \"scatter\", \"x\": [6825.0, 6825.0, 6835.0, 6835.0], \"xaxis\": \"x\", \"y\": [0.0, 6.207774465354503, 6.207774465354503, 0.0], \"yaxis\": \"y\"}, {\"hoverinfo\": \"text\", \"marker\": {\"color\": \"rgb(35,205,205)\"}, \"mode\": \"lines\", \"type\": \"scatter\", \"x\": [6815.0, 6815.0, 6830.0, 6830.0], \"xaxis\": \"x\", \"y\": [0.0, 6.63221425698985, 6.63221425698985, 6.207774465354503], \"yaxis\": \"y\"}, {\"hoverinfo\": \"text\", \"marker\": {\"color\": \"rgb(35,205,205)\"}, \"mode\": \"lines\", \"type\": \"scatter\", \"x\": [6845.0, 6845.0, 6855.0, 6855.0], \"xaxis\": \"x\", \"y\": [0.0, 5.898381440807829, 5.898381440807829, 0.0], \"yaxis\": \"y\"}, {\"hoverinfo\": \"text\", \"marker\": {\"color\": \"rgb(35,205,205)\"}, \"mode\": \"lines\", \"type\": \"scatter\", \"x\": [6865.0, 6865.0, 6875.0, 6875.0], \"xaxis\": \"x\", \"y\": [0.0, 5.7672944678545965, 5.7672944678545965, 0.0], \"yaxis\": \"y\"}, {\"hoverinfo\": \"text\", \"marker\": {\"color\": \"rgb(35,205,205)\"}, \"mode\": \"lines\", \"type\": \"scatter\", \"x\": [6885.0, 6885.0, 6895.0, 6895.0], \"xaxis\": \"x\", \"y\": [0.0, 6.054300839723125, 6.054300839723125, 0.0], \"yaxis\": \"y\"}, {\"hoverinfo\": \"text\", \"marker\": {\"color\": \"rgb(35,205,205)\"}, \"mode\": \"lines\", \"type\": \"scatter\", \"x\": [6870.0, 6870.0, 6890.0, 6890.0], \"xaxis\": \"x\", \"y\": [5.7672944678545965, 6.397843930131305, 6.397843930131305, 6.054300839723125], \"yaxis\": \"y\"}, {\"hoverinfo\": \"text\", \"marker\": {\"color\": \"rgb(35,205,205)\"}, \"mode\": \"lines\", \"type\": \"scatter\", \"x\": [6850.0, 6850.0, 6880.0, 6880.0], \"xaxis\": \"x\", \"y\": [5.898381440807829, 6.829245356496403, 6.829245356496403, 6.397843930131305], \"yaxis\": \"y\"}, {\"hoverinfo\": \"text\", \"marker\": {\"color\": \"rgb(35,205,205)\"}, \"mode\": \"lines\", \"type\": \"scatter\", \"x\": [6822.5, 6822.5, 6865.0, 6865.0], \"xaxis\": \"x\", \"y\": [6.63221425698985, 6.967537272207265, 6.967537272207265, 6.829245356496403], \"yaxis\": \"y\"}, {\"hoverinfo\": \"text\", \"marker\": {\"color\": \"rgb(35,205,205)\"}, \"mode\": \"lines\", \"type\": \"scatter\", \"x\": [6777.5, 6777.5, 6843.75, 6843.75], \"xaxis\": \"x\", \"y\": [6.73094462875626, 7.176251697195888, 7.176251697195888, 6.967537272207265], \"yaxis\": \"y\"}, {\"hoverinfo\": \"text\", \"marker\": {\"color\": \"rgb(35,205,205)\"}, \"mode\": \"lines\", \"type\": \"scatter\", \"x\": [6705.625, 6705.625, 6810.625, 6810.625], \"xaxis\": \"x\", \"y\": [7.113860803845928, 7.5297756476804345, 7.5297756476804345, 7.176251697195888], \"yaxis\": \"y\"}, {\"hoverinfo\": \"text\", \"marker\": {\"color\": \"rgb(35,205,205)\"}, \"mode\": \"lines\", \"type\": \"scatter\", \"x\": [6605.625, 6605.625, 6758.125, 6758.125], \"xaxis\": \"x\", \"y\": [7.47078071256714, 7.707112759495636, 7.707112759495636, 7.5297756476804345], \"yaxis\": \"y\"}, {\"hoverinfo\": \"text\", \"marker\": {\"color\": \"rgb(35,205,205)\"}, \"mode\": \"lines\", \"type\": \"scatter\", \"x\": [6905.0, 6905.0, 6915.0, 6915.0], \"xaxis\": \"x\", \"y\": [0.0, 5.984965245004259, 5.984965245004259, 0.0], \"yaxis\": \"y\"}, {\"hoverinfo\": \"text\", \"marker\": {\"color\": \"rgb(35,205,205)\"}, \"mode\": \"lines\", \"type\": \"scatter\", \"x\": [6925.0, 6925.0, 6935.0, 6935.0], \"xaxis\": \"x\", \"y\": [0.0, 5.11944385226439, 5.11944385226439, 0.0], \"yaxis\": \"y\"}, {\"hoverinfo\": \"text\", \"marker\": {\"color\": \"rgb(35,205,205)\"}, \"mode\": \"lines\", \"type\": \"scatter\", \"x\": [6955.0, 6955.0, 6965.0, 6965.0], \"xaxis\": \"x\", \"y\": [0.0, 5.6218656529794, 5.6218656529794, 0.0], \"yaxis\": \"y\"}, {\"hoverinfo\": \"text\", \"marker\": {\"color\": \"rgb(35,205,205)\"}, \"mode\": \"lines\", \"type\": \"scatter\", \"x\": [6945.0, 6945.0, 6960.0, 6960.0], \"xaxis\": \"x\", \"y\": [0.0, 6.05634219091121, 6.05634219091121, 5.6218656529794], \"yaxis\": \"y\"}, {\"hoverinfo\": \"text\", \"marker\": {\"color\": \"rgb(35,205,205)\"}, \"mode\": \"lines\", \"type\": \"scatter\", \"x\": [6930.0, 6930.0, 6952.5, 6952.5], \"xaxis\": \"x\", \"y\": [5.11944385226439, 6.449454898184912, 6.449454898184912, 6.05634219091121], \"yaxis\": \"y\"}, {\"hoverinfo\": \"text\", \"marker\": {\"color\": \"rgb(35,205,205)\"}, \"mode\": \"lines\", \"type\": \"scatter\", \"x\": [6975.0, 6975.0, 6985.0, 6985.0], \"xaxis\": \"x\", \"y\": [0.0, 5.85666447312673, 5.85666447312673, 0.0], \"yaxis\": \"y\"}, {\"hoverinfo\": \"text\", \"marker\": {\"color\": \"rgb(35,205,205)\"}, \"mode\": \"lines\", \"type\": \"scatter\", \"x\": [7005.0, 7005.0, 7015.0, 7015.0], \"xaxis\": \"x\", \"y\": [0.0, 5.498630677655052, 5.498630677655052, 0.0], \"yaxis\": \"y\"}, {\"hoverinfo\": \"text\", \"marker\": {\"color\": \"rgb(35,205,205)\"}, \"mode\": \"lines\", \"type\": \"scatter\", \"x\": [6995.0, 6995.0, 7010.0, 7010.0], \"xaxis\": \"x\", \"y\": [0.0, 6.19720728908718, 6.19720728908718, 5.498630677655052], \"yaxis\": \"y\"}, {\"hoverinfo\": \"text\", \"marker\": {\"color\": \"rgb(35,205,205)\"}, \"mode\": \"lines\", \"type\": \"scatter\", \"x\": [6980.0, 6980.0, 7002.5, 7002.5], \"xaxis\": \"x\", \"y\": [5.85666447312673, 6.6777697500007696, 6.6777697500007696, 6.19720728908718], \"yaxis\": \"y\"}, {\"hoverinfo\": \"text\", \"marker\": {\"color\": \"rgb(35,205,205)\"}, \"mode\": \"lines\", \"type\": \"scatter\", \"x\": [6941.25, 6941.25, 6991.25, 6991.25], \"xaxis\": \"x\", \"y\": [6.449454898184912, 6.980329309615594, 6.980329309615594, 6.6777697500007696], \"yaxis\": \"y\"}, {\"hoverinfo\": \"text\", \"marker\": {\"color\": \"rgb(35,205,205)\"}, \"mode\": \"lines\", \"type\": \"scatter\", \"x\": [7035.0, 7035.0, 7045.0, 7045.0], \"xaxis\": \"x\", \"y\": [0.0, 5.790914532655528, 5.790914532655528, 0.0], \"yaxis\": \"y\"}, {\"hoverinfo\": \"text\", \"marker\": {\"color\": \"rgb(35,205,205)\"}, \"mode\": \"lines\", \"type\": \"scatter\", \"x\": [7025.0, 7025.0, 7040.0, 7040.0], \"xaxis\": \"x\", \"y\": [0.0, 6.407149083991918, 6.407149083991918, 5.790914532655528], \"yaxis\": \"y\"}, {\"hoverinfo\": \"text\", \"marker\": {\"color\": \"rgb(35,205,205)\"}, \"mode\": \"lines\", \"type\": \"scatter\", \"x\": [7065.0, 7065.0, 7075.0, 7075.0], \"xaxis\": \"x\", \"y\": [0.0, 5.811725119753648, 5.811725119753648, 0.0], \"yaxis\": \"y\"}, {\"hoverinfo\": \"text\", \"marker\": {\"color\": \"rgb(35,205,205)\"}, \"mode\": \"lines\", \"type\": \"scatter\", \"x\": [7055.0, 7055.0, 7070.0, 7070.0], \"xaxis\": \"x\", \"y\": [0.0, 6.520451806654981, 6.520451806654981, 5.811725119753648], \"yaxis\": \"y\"}, {\"hoverinfo\": \"text\", \"marker\": {\"color\": \"rgb(35,205,205)\"}, \"mode\": \"lines\", \"type\": \"scatter\", \"x\": [7032.5, 7032.5, 7062.5, 7062.5], \"xaxis\": \"x\", \"y\": [6.407149083991918, 6.845016650301082, 6.845016650301082, 6.520451806654981], \"yaxis\": \"y\"}, {\"hoverinfo\": \"text\", \"marker\": {\"color\": \"rgb(35,205,205)\"}, \"mode\": \"lines\", \"type\": \"scatter\", \"x\": [7085.0, 7085.0, 7095.0, 7095.0], \"xaxis\": \"x\", \"y\": [0.0, 6.159861041098311, 6.159861041098311, 0.0], \"yaxis\": \"y\"}, {\"hoverinfo\": \"text\", \"marker\": {\"color\": \"rgb(35,205,205)\"}, \"mode\": \"lines\", \"type\": \"scatter\", \"x\": [7105.0, 7105.0, 7115.0, 7115.0], \"xaxis\": \"x\", \"y\": [0.0, 6.499455277510627, 6.499455277510627, 0.0], \"yaxis\": \"y\"}, {\"hoverinfo\": \"text\", \"marker\": {\"color\": \"rgb(35,205,205)\"}, \"mode\": \"lines\", \"type\": \"scatter\", \"x\": [7090.0, 7090.0, 7110.0, 7110.0], \"xaxis\": \"x\", \"y\": [6.159861041098311, 7.05024936702946, 7.05024936702946, 6.499455277510627], \"yaxis\": \"y\"}, {\"hoverinfo\": \"text\", \"marker\": {\"color\": \"rgb(35,205,205)\"}, \"mode\": \"lines\", \"type\": \"scatter\", \"x\": [7047.5, 7047.5, 7100.0, 7100.0], \"xaxis\": \"x\", \"y\": [6.845016650301082, 7.318476524208145, 7.318476524208145, 7.05024936702946], \"yaxis\": \"y\"}, {\"hoverinfo\": \"text\", \"marker\": {\"color\": \"rgb(35,205,205)\"}, \"mode\": \"lines\", \"type\": \"scatter\", \"x\": [6966.25, 6966.25, 7073.75, 7073.75], \"xaxis\": \"x\", \"y\": [6.980329309615594, 7.576018160544338, 7.576018160544338, 7.318476524208145], \"yaxis\": \"y\"}, {\"hoverinfo\": \"text\", \"marker\": {\"color\": \"rgb(35,205,205)\"}, \"mode\": \"lines\", \"type\": \"scatter\", \"x\": [6910.0, 6910.0, 7020.0, 7020.0], \"xaxis\": \"x\", \"y\": [5.984965245004259, 7.761595299529078, 7.761595299529078, 7.576018160544338], \"yaxis\": \"y\"}, {\"hoverinfo\": \"text\", \"marker\": {\"color\": \"rgb(35,205,205)\"}, \"mode\": \"lines\", \"type\": \"scatter\", \"x\": [6681.875, 6681.875, 6965.0, 6965.0], \"xaxis\": \"x\", \"y\": [7.707112759495636, 8.057542094367854, 8.057542094367854, 7.761595299529078], \"yaxis\": \"y\"}, {\"hoverinfo\": \"text\", \"marker\": {\"color\": \"rgb(35,205,205)\"}, \"mode\": \"lines\", \"type\": \"scatter\", \"x\": [7125.0, 7125.0, 7135.0, 7135.0], \"xaxis\": \"x\", \"y\": [0.0, 6.501833001700604, 6.501833001700604, 0.0], \"yaxis\": \"y\"}, {\"hoverinfo\": \"text\", \"marker\": {\"color\": \"rgb(35,205,205)\"}, \"mode\": \"lines\", \"type\": \"scatter\", \"x\": [7155.0, 7155.0, 7165.0, 7165.0], \"xaxis\": \"x\", \"y\": [0.0, 6.268407266634665, 6.268407266634665, 0.0], \"yaxis\": \"y\"}, {\"hoverinfo\": \"text\", \"marker\": {\"color\": \"rgb(35,205,205)\"}, \"mode\": \"lines\", \"type\": \"scatter\", \"x\": [7145.0, 7145.0, 7160.0, 7160.0], \"xaxis\": \"x\", \"y\": [0.0, 6.948029435969857, 6.948029435969857, 6.268407266634665], \"yaxis\": \"y\"}, {\"hoverinfo\": \"text\", \"marker\": {\"color\": \"rgb(35,205,205)\"}, \"mode\": \"lines\", \"type\": \"scatter\", \"x\": [7130.0, 7130.0, 7152.5, 7152.5], \"xaxis\": \"x\", \"y\": [6.501833001700604, 7.275903508006793, 7.275903508006793, 6.948029435969857], \"yaxis\": \"y\"}, {\"hoverinfo\": \"text\", \"marker\": {\"color\": \"rgb(35,205,205)\"}, \"mode\": \"lines\", \"type\": \"scatter\", \"x\": [7175.0, 7175.0, 7185.0, 7185.0], \"xaxis\": \"x\", \"y\": [0.0, 6.327729493956266, 6.327729493956266, 0.0], \"yaxis\": \"y\"}, {\"hoverinfo\": \"text\", \"marker\": {\"color\": \"rgb(35,205,205)\"}, \"mode\": \"lines\", \"type\": \"scatter\", \"x\": [7205.0, 7205.0, 7215.0, 7215.0], \"xaxis\": \"x\", \"y\": [0.0, 5.8524655093205125, 5.8524655093205125, 0.0], \"yaxis\": \"y\"}, {\"hoverinfo\": \"text\", \"marker\": {\"color\": \"rgb(35,205,205)\"}, \"mode\": \"lines\", \"type\": \"scatter\", \"x\": [7195.0, 7195.0, 7210.0, 7210.0], \"xaxis\": \"x\", \"y\": [0.0, 6.771072815537624, 6.771072815537624, 5.8524655093205125], \"yaxis\": \"y\"}, {\"hoverinfo\": \"text\", \"marker\": {\"color\": \"rgb(35,205,205)\"}, \"mode\": \"lines\", \"type\": \"scatter\", \"x\": [7180.0, 7180.0, 7202.5, 7202.5], \"xaxis\": \"x\", \"y\": [6.327729493956266, 6.791083379711175, 6.791083379711175, 6.771072815537624], \"yaxis\": \"y\"}, {\"hoverinfo\": \"text\", \"marker\": {\"color\": \"rgb(35,205,205)\"}, \"mode\": \"lines\", \"type\": \"scatter\", \"x\": [7225.0, 7225.0, 7235.0, 7235.0], \"xaxis\": \"x\", \"y\": [0.0, 6.612485857123884, 6.612485857123884, 0.0], \"yaxis\": \"y\"}, {\"hoverinfo\": \"text\", \"marker\": {\"color\": \"rgb(35,205,205)\"}, \"mode\": \"lines\", \"type\": \"scatter\", \"x\": [7245.0, 7245.0, 7255.0, 7255.0], \"xaxis\": \"x\", \"y\": [0.0, 5.603881214882897, 5.603881214882897, 0.0], \"yaxis\": \"y\"}, {\"hoverinfo\": \"text\", \"marker\": {\"color\": \"rgb(35,205,205)\"}, \"mode\": \"lines\", \"type\": \"scatter\", \"x\": [7265.0, 7265.0, 7275.0, 7275.0], \"xaxis\": \"x\", \"y\": [0.0, 5.976486745268279, 5.976486745268279, 0.0], \"yaxis\": \"y\"}, {\"hoverinfo\": \"text\", \"marker\": {\"color\": \"rgb(35,205,205)\"}, \"mode\": \"lines\", \"type\": \"scatter\", \"x\": [7250.0, 7250.0, 7270.0, 7270.0], \"xaxis\": \"x\", \"y\": [5.603881214882897, 6.631677922947902, 6.631677922947902, 5.976486745268279], \"yaxis\": \"y\"}, {\"hoverinfo\": \"text\", \"marker\": {\"color\": \"rgb(35,205,205)\"}, \"mode\": \"lines\", \"type\": \"scatter\", \"x\": [7230.0, 7230.0, 7260.0, 7260.0], \"xaxis\": \"x\", \"y\": [6.612485857123884, 7.087485313312175, 7.087485313312175, 6.631677922947902], \"yaxis\": \"y\"}, {\"hoverinfo\": \"text\", \"marker\": {\"color\": \"rgb(35,205,205)\"}, \"mode\": \"lines\", \"type\": \"scatter\", \"x\": [7191.25, 7191.25, 7245.0, 7245.0], \"xaxis\": \"x\", \"y\": [6.791083379711175, 7.5273442194641875, 7.5273442194641875, 7.087485313312175], \"yaxis\": \"y\"}, {\"hoverinfo\": \"text\", \"marker\": {\"color\": \"rgb(35,205,205)\"}, \"mode\": \"lines\", \"type\": \"scatter\", \"x\": [7141.25, 7141.25, 7218.125, 7218.125], \"xaxis\": \"x\", \"y\": [7.275903508006793, 7.6671477386503435, 7.6671477386503435, 7.5273442194641875], \"yaxis\": \"y\"}, {\"hoverinfo\": \"text\", \"marker\": {\"color\": \"rgb(35,205,205)\"}, \"mode\": \"lines\", \"type\": \"scatter\", \"x\": [7285.0, 7285.0, 7295.0, 7295.0], \"xaxis\": \"x\", \"y\": [0.0, 5.517346236988209, 5.517346236988209, 0.0], \"yaxis\": \"y\"}, {\"hoverinfo\": \"text\", \"marker\": {\"color\": \"rgb(35,205,205)\"}, \"mode\": \"lines\", \"type\": \"scatter\", \"x\": [7305.0, 7305.0, 7315.0, 7315.0], \"xaxis\": \"x\", \"y\": [0.0, 5.657045364025522, 5.657045364025522, 0.0], \"yaxis\": \"y\"}, {\"hoverinfo\": \"text\", \"marker\": {\"color\": \"rgb(35,205,205)\"}, \"mode\": \"lines\", \"type\": \"scatter\", \"x\": [7290.0, 7290.0, 7310.0, 7310.0], \"xaxis\": \"x\", \"y\": [5.517346236988209, 6.428961127916182, 6.428961127916182, 5.657045364025522], \"yaxis\": \"y\"}, {\"hoverinfo\": \"text\", \"marker\": {\"color\": \"rgb(35,205,205)\"}, \"mode\": \"lines\", \"type\": \"scatter\", \"x\": [7325.0, 7325.0, 7335.0, 7335.0], \"xaxis\": \"x\", \"y\": [0.0, 6.667016550626714, 6.667016550626714, 0.0], \"yaxis\": \"y\"}, {\"hoverinfo\": \"text\", \"marker\": {\"color\": \"rgb(35,205,205)\"}, \"mode\": \"lines\", \"type\": \"scatter\", \"x\": [7300.0, 7300.0, 7330.0, 7330.0], \"xaxis\": \"x\", \"y\": [6.428961127916182, 7.091589449317905, 7.091589449317905, 6.667016550626714], \"yaxis\": \"y\"}, {\"hoverinfo\": \"text\", \"marker\": {\"color\": \"rgb(35,205,205)\"}, \"mode\": \"lines\", \"type\": \"scatter\", \"x\": [7355.0, 7355.0, 7365.0, 7365.0], \"xaxis\": \"x\", \"y\": [0.0, 5.867355057316546, 5.867355057316546, 0.0], \"yaxis\": \"y\"}, {\"hoverinfo\": \"text\", \"marker\": {\"color\": \"rgb(35,205,205)\"}, \"mode\": \"lines\", \"type\": \"scatter\", \"x\": [7345.0, 7345.0, 7360.0, 7360.0], \"xaxis\": \"x\", \"y\": [0.0, 6.366264492101283, 6.366264492101283, 5.867355057316546], \"yaxis\": \"y\"}, {\"hoverinfo\": \"text\", \"marker\": {\"color\": \"rgb(35,205,205)\"}, \"mode\": \"lines\", \"type\": \"scatter\", \"x\": [7385.0, 7385.0, 7395.0, 7395.0], \"xaxis\": \"x\", \"y\": [0.0, 5.264488393697897, 5.264488393697897, 0.0], \"yaxis\": \"y\"}, {\"hoverinfo\": \"text\", \"marker\": {\"color\": \"rgb(35,205,205)\"}, \"mode\": \"lines\", \"type\": \"scatter\", \"x\": [7375.0, 7375.0, 7390.0, 7390.0], \"xaxis\": \"x\", \"y\": [0.0, 5.8594088267459234, 5.8594088267459234, 5.264488393697897], \"yaxis\": \"y\"}, {\"hoverinfo\": \"text\", \"marker\": {\"color\": \"rgb(35,205,205)\"}, \"mode\": \"lines\", \"type\": \"scatter\", \"x\": [7415.0, 7415.0, 7425.0, 7425.0], \"xaxis\": \"x\", \"y\": [0.0, 5.702771168606472, 5.702771168606472, 0.0], \"yaxis\": \"y\"}, {\"hoverinfo\": \"text\", \"marker\": {\"color\": \"rgb(35,205,205)\"}, \"mode\": \"lines\", \"type\": \"scatter\", \"x\": [7405.0, 7405.0, 7420.0, 7420.0], \"xaxis\": \"x\", \"y\": [0.0, 6.053997040015828, 6.053997040015828, 5.702771168606472], \"yaxis\": \"y\"}, {\"hoverinfo\": \"text\", \"marker\": {\"color\": \"rgb(35,205,205)\"}, \"mode\": \"lines\", \"type\": \"scatter\", \"x\": [7382.5, 7382.5, 7412.5, 7412.5], \"xaxis\": \"x\", \"y\": [5.8594088267459234, 6.457556968486451, 6.457556968486451, 6.053997040015828], \"yaxis\": \"y\"}, {\"hoverinfo\": \"text\", \"marker\": {\"color\": \"rgb(35,205,205)\"}, \"mode\": \"lines\", \"type\": \"scatter\", \"x\": [7352.5, 7352.5, 7397.5, 7397.5], \"xaxis\": \"x\", \"y\": [6.366264492101283, 6.9005267528017304, 6.9005267528017304, 6.457556968486451], \"yaxis\": \"y\"}, {\"hoverinfo\": \"text\", \"marker\": {\"color\": \"rgb(35,205,205)\"}, \"mode\": \"lines\", \"type\": \"scatter\", \"x\": [7435.0, 7435.0, 7445.0, 7445.0], \"xaxis\": \"x\", \"y\": [0.0, 5.348109092953458, 5.348109092953458, 0.0], \"yaxis\": \"y\"}, {\"hoverinfo\": \"text\", \"marker\": {\"color\": \"rgb(35,205,205)\"}, \"mode\": \"lines\", \"type\": \"scatter\", \"x\": [7455.0, 7455.0, 7465.0, 7465.0], \"xaxis\": \"x\", \"y\": [0.0, 6.237767916735745, 6.237767916735745, 0.0], \"yaxis\": \"y\"}, {\"hoverinfo\": \"text\", \"marker\": {\"color\": \"rgb(35,205,205)\"}, \"mode\": \"lines\", \"type\": \"scatter\", \"x\": [7440.0, 7440.0, 7460.0, 7460.0], \"xaxis\": \"x\", \"y\": [5.348109092953458, 6.902437264038076, 6.902437264038076, 6.237767916735745], \"yaxis\": \"y\"}, {\"hoverinfo\": \"text\", \"marker\": {\"color\": \"rgb(35,205,205)\"}, \"mode\": \"lines\", \"type\": \"scatter\", \"x\": [7375.0, 7375.0, 7450.0, 7450.0], \"xaxis\": \"x\", \"y\": [6.9005267528017304, 7.1881218583826145, 7.1881218583826145, 6.902437264038076], \"yaxis\": \"y\"}, {\"hoverinfo\": \"text\", \"marker\": {\"color\": \"rgb(35,205,205)\"}, \"mode\": \"lines\", \"type\": \"scatter\", \"x\": [7315.0, 7315.0, 7412.5, 7412.5], \"xaxis\": \"x\", \"y\": [7.091589449317905, 7.534175987862556, 7.534175987862556, 7.1881218583826145], \"yaxis\": \"y\"}, {\"hoverinfo\": \"text\", \"marker\": {\"color\": \"rgb(35,205,205)\"}, \"mode\": \"lines\", \"type\": \"scatter\", \"x\": [7475.0, 7475.0, 7485.0, 7485.0], \"xaxis\": \"x\", \"y\": [0.0, 5.669887289588873, 5.669887289588873, 0.0], \"yaxis\": \"y\"}, {\"hoverinfo\": \"text\", \"marker\": {\"color\": \"rgb(35,205,205)\"}, \"mode\": \"lines\", \"type\": \"scatter\", \"x\": [7495.0, 7495.0, 7505.0, 7505.0], \"xaxis\": \"x\", \"y\": [0.0, 5.799696205124031, 5.799696205124031, 0.0], \"yaxis\": \"y\"}, {\"hoverinfo\": \"text\", \"marker\": {\"color\": \"rgb(35,205,205)\"}, \"mode\": \"lines\", \"type\": \"scatter\", \"x\": [7480.0, 7480.0, 7500.0, 7500.0], \"xaxis\": \"x\", \"y\": [5.669887289588873, 6.336742177195681, 6.336742177195681, 5.799696205124031], \"yaxis\": \"y\"}, {\"hoverinfo\": \"text\", \"marker\": {\"color\": \"rgb(35,205,205)\"}, \"mode\": \"lines\", \"type\": \"scatter\", \"x\": [7525.0, 7525.0, 7535.0, 7535.0], \"xaxis\": \"x\", \"y\": [0.0, 5.997402724877755, 5.997402724877755, 0.0], \"yaxis\": \"y\"}, {\"hoverinfo\": \"text\", \"marker\": {\"color\": \"rgb(35,205,205)\"}, \"mode\": \"lines\", \"type\": \"scatter\", \"x\": [7515.0, 7515.0, 7530.0, 7530.0], \"xaxis\": \"x\", \"y\": [0.0, 6.644150461837165, 6.644150461837165, 5.997402724877755], \"yaxis\": \"y\"}, {\"hoverinfo\": \"text\", \"marker\": {\"color\": \"rgb(35,205,205)\"}, \"mode\": \"lines\", \"type\": \"scatter\", \"x\": [7490.0, 7490.0, 7522.5, 7522.5], \"xaxis\": \"x\", \"y\": [6.336742177195681, 7.15594047750067, 7.15594047750067, 6.644150461837165], \"yaxis\": \"y\"}, {\"hoverinfo\": \"text\", \"marker\": {\"color\": \"rgb(35,205,205)\"}, \"mode\": \"lines\", \"type\": \"scatter\", \"x\": [7545.0, 7545.0, 7555.0, 7555.0], \"xaxis\": \"x\", \"y\": [0.0, 6.342258593770651, 6.342258593770651, 0.0], \"yaxis\": \"y\"}, {\"hoverinfo\": \"text\", \"marker\": {\"color\": \"rgb(35,205,205)\"}, \"mode\": \"lines\", \"type\": \"scatter\", \"x\": [7585.0, 7585.0, 7595.0, 7595.0], \"xaxis\": \"x\", \"y\": [0.0, 5.718069814005421, 5.718069814005421, 0.0], \"yaxis\": \"y\"}, {\"hoverinfo\": \"text\", \"marker\": {\"color\": \"rgb(35,205,205)\"}, \"mode\": \"lines\", \"type\": \"scatter\", \"x\": [7575.0, 7575.0, 7590.0, 7590.0], \"xaxis\": \"x\", \"y\": [0.0, 6.1598672661667635, 6.1598672661667635, 5.718069814005421], \"yaxis\": \"y\"}, {\"hoverinfo\": \"text\", \"marker\": {\"color\": \"rgb(35,205,205)\"}, \"mode\": \"lines\", \"type\": \"scatter\", \"x\": [7565.0, 7565.0, 7582.5, 7582.5], \"xaxis\": \"x\", \"y\": [0.0, 6.435774795890886, 6.435774795890886, 6.1598672661667635], \"yaxis\": \"y\"}, {\"hoverinfo\": \"text\", \"marker\": {\"color\": \"rgb(35,205,205)\"}, \"mode\": \"lines\", \"type\": \"scatter\", \"x\": [7605.0, 7605.0, 7615.0, 7615.0], \"xaxis\": \"x\", \"y\": [0.0, 6.007482887159357, 6.007482887159357, 0.0], \"yaxis\": \"y\"}, {\"hoverinfo\": \"text\", \"marker\": {\"color\": \"rgb(35,205,205)\"}, \"mode\": \"lines\", \"type\": \"scatter\", \"x\": [7625.0, 7625.0, 7635.0, 7635.0], \"xaxis\": \"x\", \"y\": [0.0, 6.08042362103836, 6.08042362103836, 0.0], \"yaxis\": \"y\"}, {\"hoverinfo\": \"text\", \"marker\": {\"color\": \"rgb(35,205,205)\"}, \"mode\": \"lines\", \"type\": \"scatter\", \"x\": [7610.0, 7610.0, 7630.0, 7630.0], \"xaxis\": \"x\", \"y\": [6.007482887159357, 6.672473945079959, 6.672473945079959, 6.08042362103836], \"yaxis\": \"y\"}, {\"hoverinfo\": \"text\", \"marker\": {\"color\": \"rgb(35,205,205)\"}, \"mode\": \"lines\", \"type\": \"scatter\", \"x\": [7573.75, 7573.75, 7620.0, 7620.0], \"xaxis\": \"x\", \"y\": [6.435774795890886, 7.2037824991213775, 7.2037824991213775, 6.672473945079959], \"yaxis\": \"y\"}, {\"hoverinfo\": \"text\", \"marker\": {\"color\": \"rgb(35,205,205)\"}, \"mode\": \"lines\", \"type\": \"scatter\", \"x\": [7550.0, 7550.0, 7596.875, 7596.875], \"xaxis\": \"x\", \"y\": [6.342258593770651, 7.522327550388619, 7.522327550388619, 7.2037824991213775], \"yaxis\": \"y\"}, {\"hoverinfo\": \"text\", \"marker\": {\"color\": \"rgb(35,205,205)\"}, \"mode\": \"lines\", \"type\": \"scatter\", \"x\": [7506.25, 7506.25, 7573.4375, 7573.4375], \"xaxis\": \"x\", \"y\": [7.15594047750067, 7.752316750976595, 7.752316750976595, 7.522327550388619], \"yaxis\": \"y\"}, {\"hoverinfo\": \"text\", \"marker\": {\"color\": \"rgb(35,205,205)\"}, \"mode\": \"lines\", \"type\": \"scatter\", \"x\": [7363.75, 7363.75, 7539.84375, 7539.84375], \"xaxis\": \"x\", \"y\": [7.534175987862556, 7.974507127213755, 7.974507127213755, 7.752316750976595], \"yaxis\": \"y\"}, {\"hoverinfo\": \"text\", \"marker\": {\"color\": \"rgb(35,205,205)\"}, \"mode\": \"lines\", \"type\": \"scatter\", \"x\": [7179.6875, 7179.6875, 7451.796875, 7451.796875], \"xaxis\": \"x\", \"y\": [7.6671477386503435, 8.20796815361297, 8.20796815361297, 7.974507127213755], \"yaxis\": \"y\"}, {\"hoverinfo\": \"text\", \"marker\": {\"color\": \"rgb(35,205,205)\"}, \"mode\": \"lines\", \"type\": \"scatter\", \"x\": [6823.4375, 6823.4375, 7315.7421875, 7315.7421875], \"xaxis\": \"x\", \"y\": [8.057542094367854, 8.379861249055782, 8.379861249055782, 8.20796815361297], \"yaxis\": \"y\"}, {\"hoverinfo\": \"text\", \"marker\": {\"color\": \"rgb(35,205,205)\"}, \"mode\": \"lines\", \"type\": \"scatter\", \"x\": [6256.19140625, 6256.19140625, 7069.58984375, 7069.58984375], \"xaxis\": \"x\", \"y\": [8.324145270591432, 8.506806211658384, 8.506806211658384, 8.379861249055782], \"yaxis\": \"y\"}, {\"hoverinfo\": \"text\", \"marker\": {\"color\": \"rgb(35,205,205)\"}, \"mode\": \"lines\", \"type\": \"scatter\", \"x\": [7655.0, 7655.0, 7665.0, 7665.0], \"xaxis\": \"x\", \"y\": [0.0, 6.011638438951338, 6.011638438951338, 0.0], \"yaxis\": \"y\"}, {\"hoverinfo\": \"text\", \"marker\": {\"color\": \"rgb(35,205,205)\"}, \"mode\": \"lines\", \"type\": \"scatter\", \"x\": [7645.0, 7645.0, 7660.0, 7660.0], \"xaxis\": \"x\", \"y\": [0.0, 6.766324296093828, 6.766324296093828, 6.011638438951338], \"yaxis\": \"y\"}, {\"hoverinfo\": \"text\", \"marker\": {\"color\": \"rgb(35,205,205)\"}, \"mode\": \"lines\", \"type\": \"scatter\", \"x\": [7685.0, 7685.0, 7695.0, 7695.0], \"xaxis\": \"x\", \"y\": [0.0, 6.133810612821696, 6.133810612821696, 0.0], \"yaxis\": \"y\"}, {\"hoverinfo\": \"text\", \"marker\": {\"color\": \"rgb(35,205,205)\"}, \"mode\": \"lines\", \"type\": \"scatter\", \"x\": [7675.0, 7675.0, 7690.0, 7690.0], \"xaxis\": \"x\", \"y\": [0.0, 7.0414320501543415, 7.0414320501543415, 6.133810612821696], \"yaxis\": \"y\"}, {\"hoverinfo\": \"text\", \"marker\": {\"color\": \"rgb(35,205,205)\"}, \"mode\": \"lines\", \"type\": \"scatter\", \"x\": [7652.5, 7652.5, 7682.5, 7682.5], \"xaxis\": \"x\", \"y\": [6.766324296093828, 7.252751599483471, 7.252751599483471, 7.0414320501543415], \"yaxis\": \"y\"}, {\"hoverinfo\": \"text\", \"marker\": {\"color\": \"rgb(35,205,205)\"}, \"mode\": \"lines\", \"type\": \"scatter\", \"x\": [7705.0, 7705.0, 7715.0, 7715.0], \"xaxis\": \"x\", \"y\": [0.0, 6.133853232137433, 6.133853232137433, 0.0], \"yaxis\": \"y\"}, {\"hoverinfo\": \"text\", \"marker\": {\"color\": \"rgb(35,205,205)\"}, \"mode\": \"lines\", \"type\": \"scatter\", \"x\": [7735.0, 7735.0, 7745.0, 7745.0], \"xaxis\": \"x\", \"y\": [0.0, 5.929930821584568, 5.929930821584568, 0.0], \"yaxis\": \"y\"}, {\"hoverinfo\": \"text\", \"marker\": {\"color\": \"rgb(35,205,205)\"}, \"mode\": \"lines\", \"type\": \"scatter\", \"x\": [7725.0, 7725.0, 7740.0, 7740.0], \"xaxis\": \"x\", \"y\": [0.0, 7.234827127336411, 7.234827127336411, 5.929930821584568], \"yaxis\": \"y\"}, {\"hoverinfo\": \"text\", \"marker\": {\"color\": \"rgb(35,205,205)\"}, \"mode\": \"lines\", \"type\": \"scatter\", \"x\": [7710.0, 7710.0, 7732.5, 7732.5], \"xaxis\": \"x\", \"y\": [6.133853232137433, 7.632538262983894, 7.632538262983894, 7.234827127336411], \"yaxis\": \"y\"}, {\"hoverinfo\": \"text\", \"marker\": {\"color\": \"rgb(35,205,205)\"}, \"mode\": \"lines\", \"type\": \"scatter\", \"x\": [7667.5, 7667.5, 7721.25, 7721.25], \"xaxis\": \"x\", \"y\": [7.252751599483471, 7.856609664752916, 7.856609664752916, 7.632538262983894], \"yaxis\": \"y\"}, {\"hoverinfo\": \"text\", \"marker\": {\"color\": \"rgb(35,205,205)\"}, \"mode\": \"lines\", \"type\": \"scatter\", \"x\": [7755.0, 7755.0, 7765.0, 7765.0], \"xaxis\": \"x\", \"y\": [0.0, 6.2749380067122615, 6.2749380067122615, 0.0], \"yaxis\": \"y\"}, {\"hoverinfo\": \"text\", \"marker\": {\"color\": \"rgb(35,205,205)\"}, \"mode\": \"lines\", \"type\": \"scatter\", \"x\": [7785.0, 7785.0, 7795.0, 7795.0], \"xaxis\": \"x\", \"y\": [0.0, 6.086851730014784, 6.086851730014784, 0.0], \"yaxis\": \"y\"}, {\"hoverinfo\": \"text\", \"marker\": {\"color\": \"rgb(35,205,205)\"}, \"mode\": \"lines\", \"type\": \"scatter\", \"x\": [7775.0, 7775.0, 7790.0, 7790.0], \"xaxis\": \"x\", \"y\": [0.0, 6.282461534265018, 6.282461534265018, 6.086851730014784], \"yaxis\": \"y\"}, {\"hoverinfo\": \"text\", \"marker\": {\"color\": \"rgb(35,205,205)\"}, \"mode\": \"lines\", \"type\": \"scatter\", \"x\": [7815.0, 7815.0, 7825.0, 7825.0], \"xaxis\": \"x\", \"y\": [0.0, 6.065995999803698, 6.065995999803698, 0.0], \"yaxis\": \"y\"}, {\"hoverinfo\": \"text\", \"marker\": {\"color\": \"rgb(35,205,205)\"}, \"mode\": \"lines\", \"type\": \"scatter\", \"x\": [7805.0, 7805.0, 7820.0, 7820.0], \"xaxis\": \"x\", \"y\": [0.0, 6.455733997337272, 6.455733997337272, 6.065995999803698], \"yaxis\": \"y\"}, {\"hoverinfo\": \"text\", \"marker\": {\"color\": \"rgb(35,205,205)\"}, \"mode\": \"lines\", \"type\": \"scatter\", \"x\": [7782.5, 7782.5, 7812.5, 7812.5], \"xaxis\": \"x\", \"y\": [6.282461534265018, 7.058611301929561, 7.058611301929561, 6.455733997337272], \"yaxis\": \"y\"}, {\"hoverinfo\": \"text\", \"marker\": {\"color\": \"rgb(35,205,205)\"}, \"mode\": \"lines\", \"type\": \"scatter\", \"x\": [7760.0, 7760.0, 7797.5, 7797.5], \"xaxis\": \"x\", \"y\": [6.2749380067122615, 7.264546156507387, 7.264546156507387, 7.058611301929561], \"yaxis\": \"y\"}, {\"hoverinfo\": \"text\", \"marker\": {\"color\": \"rgb(35,205,205)\"}, \"mode\": \"lines\", \"type\": \"scatter\", \"x\": [7835.0, 7835.0, 7845.0, 7845.0], \"xaxis\": \"x\", \"y\": [0.0, 6.544278419127017, 6.544278419127017, 0.0], \"yaxis\": \"y\"}, {\"hoverinfo\": \"text\", \"marker\": {\"color\": \"rgb(35,205,205)\"}, \"mode\": \"lines\", \"type\": \"scatter\", \"x\": [7855.0, 7855.0, 7865.0, 7865.0], \"xaxis\": \"x\", \"y\": [0.0, 5.419175323898403, 5.419175323898403, 0.0], \"yaxis\": \"y\"}, {\"hoverinfo\": \"text\", \"marker\": {\"color\": \"rgb(35,205,205)\"}, \"mode\": \"lines\", \"type\": \"scatter\", \"x\": [7875.0, 7875.0, 7885.0, 7885.0], \"xaxis\": \"x\", \"y\": [0.0, 6.331822486854339, 6.331822486854339, 0.0], \"yaxis\": \"y\"}, {\"hoverinfo\": \"text\", \"marker\": {\"color\": \"rgb(35,205,205)\"}, \"mode\": \"lines\", \"type\": \"scatter\", \"x\": [7860.0, 7860.0, 7880.0, 7880.0], \"xaxis\": \"x\", \"y\": [5.419175323898403, 6.562347106656613, 6.562347106656613, 6.331822486854339], \"yaxis\": \"y\"}, {\"hoverinfo\": \"text\", \"marker\": {\"color\": \"rgb(35,205,205)\"}, \"mode\": \"lines\", \"type\": \"scatter\", \"x\": [7895.0, 7895.0, 7905.0, 7905.0], \"xaxis\": \"x\", \"y\": [0.0, 5.901522894078875, 5.901522894078875, 0.0], \"yaxis\": \"y\"}, {\"hoverinfo\": \"text\", \"marker\": {\"color\": \"rgb(35,205,205)\"}, \"mode\": \"lines\", \"type\": \"scatter\", \"x\": [7915.0, 7915.0, 7925.0, 7925.0], \"xaxis\": \"x\", \"y\": [0.0, 5.9852862217109655, 5.9852862217109655, 0.0], \"yaxis\": \"y\"}, {\"hoverinfo\": \"text\", \"marker\": {\"color\": \"rgb(35,205,205)\"}, \"mode\": \"lines\", \"type\": \"scatter\", \"x\": [7900.0, 7900.0, 7920.0, 7920.0], \"xaxis\": \"x\", \"y\": [5.901522894078875, 6.707935718500784, 6.707935718500784, 5.9852862217109655], \"yaxis\": \"y\"}, {\"hoverinfo\": \"text\", \"marker\": {\"color\": \"rgb(35,205,205)\"}, \"mode\": \"lines\", \"type\": \"scatter\", \"x\": [7870.0, 7870.0, 7910.0, 7910.0], \"xaxis\": \"x\", \"y\": [6.562347106656613, 7.130874994455754, 7.130874994455754, 6.707935718500784], \"yaxis\": \"y\"}, {\"hoverinfo\": \"text\", \"marker\": {\"color\": \"rgb(35,205,205)\"}, \"mode\": \"lines\", \"type\": \"scatter\", \"x\": [7840.0, 7840.0, 7890.0, 7890.0], \"xaxis\": \"x\", \"y\": [6.544278419127017, 7.529914970977521, 7.529914970977521, 7.130874994455754], \"yaxis\": \"y\"}, {\"hoverinfo\": \"text\", \"marker\": {\"color\": \"rgb(35,205,205)\"}, \"mode\": \"lines\", \"type\": \"scatter\", \"x\": [7778.75, 7778.75, 7865.0, 7865.0], \"xaxis\": \"x\", \"y\": [7.264546156507387, 7.681075721897225, 7.681075721897225, 7.529914970977521], \"yaxis\": \"y\"}, {\"hoverinfo\": \"text\", \"marker\": {\"color\": \"rgb(35,205,205)\"}, \"mode\": \"lines\", \"type\": \"scatter\", \"x\": [7935.0, 7935.0, 7945.0, 7945.0], \"xaxis\": \"x\", \"y\": [0.0, 6.113079567414463, 6.113079567414463, 0.0], \"yaxis\": \"y\"}, {\"hoverinfo\": \"text\", \"marker\": {\"color\": \"rgb(35,205,205)\"}, \"mode\": \"lines\", \"type\": \"scatter\", \"x\": [7965.0, 7965.0, 7975.0, 7975.0], \"xaxis\": \"x\", \"y\": [0.0, 6.323134614310095, 6.323134614310095, 0.0], \"yaxis\": \"y\"}, {\"hoverinfo\": \"text\", \"marker\": {\"color\": \"rgb(35,205,205)\"}, \"mode\": \"lines\", \"type\": \"scatter\", \"x\": [7955.0, 7955.0, 7970.0, 7970.0], \"xaxis\": \"x\", \"y\": [0.0, 6.874685758950243, 6.874685758950243, 6.323134614310095], \"yaxis\": \"y\"}, {\"hoverinfo\": \"text\", \"marker\": {\"color\": \"rgb(35,205,205)\"}, \"mode\": \"lines\", \"type\": \"scatter\", \"x\": [7940.0, 7940.0, 7962.5, 7962.5], \"xaxis\": \"x\", \"y\": [6.113079567414463, 7.500109364248211, 7.500109364248211, 6.874685758950243], \"yaxis\": \"y\"}, {\"hoverinfo\": \"text\", \"marker\": {\"color\": \"rgb(35,205,205)\"}, \"mode\": \"lines\", \"type\": \"scatter\", \"x\": [7985.0, 7985.0, 7995.0, 7995.0], \"xaxis\": \"x\", \"y\": [0.0, 5.7592661936849625, 5.7592661936849625, 0.0], \"yaxis\": \"y\"}, {\"hoverinfo\": \"text\", \"marker\": {\"color\": \"rgb(35,205,205)\"}, \"mode\": \"lines\", \"type\": \"scatter\", \"x\": [8005.0, 8005.0, 8015.0, 8015.0], \"xaxis\": \"x\", \"y\": [0.0, 5.7141061324219455, 5.7141061324219455, 0.0], \"yaxis\": \"y\"}, {\"hoverinfo\": \"text\", \"marker\": {\"color\": \"rgb(35,205,205)\"}, \"mode\": \"lines\", \"type\": \"scatter\", \"x\": [8025.0, 8025.0, 8035.0, 8035.0], \"xaxis\": \"x\", \"y\": [0.0, 5.877717682583997, 5.877717682583997, 0.0], \"yaxis\": \"y\"}, {\"hoverinfo\": \"text\", \"marker\": {\"color\": \"rgb(35,205,205)\"}, \"mode\": \"lines\", \"type\": \"scatter\", \"x\": [8010.0, 8010.0, 8030.0, 8030.0], \"xaxis\": \"x\", \"y\": [5.7141061324219455, 6.4410125498053405, 6.4410125498053405, 5.877717682583997], \"yaxis\": \"y\"}, {\"hoverinfo\": \"text\", \"marker\": {\"color\": \"rgb(35,205,205)\"}, \"mode\": \"lines\", \"type\": \"scatter\", \"x\": [7990.0, 7990.0, 8020.0, 8020.0], \"xaxis\": \"x\", \"y\": [5.7592661936849625, 6.622283208177521, 6.622283208177521, 6.4410125498053405], \"yaxis\": \"y\"}, {\"hoverinfo\": \"text\", \"marker\": {\"color\": \"rgb(35,205,205)\"}, \"mode\": \"lines\", \"type\": \"scatter\", \"x\": [8045.0, 8045.0, 8055.0, 8055.0], \"xaxis\": \"x\", \"y\": [0.0, 6.6840376017087015, 6.6840376017087015, 0.0], \"yaxis\": \"y\"}, {\"hoverinfo\": \"text\", \"marker\": {\"color\": \"rgb(35,205,205)\"}, \"mode\": \"lines\", \"type\": \"scatter\", \"x\": [8005.0, 8005.0, 8050.0, 8050.0], \"xaxis\": \"x\", \"y\": [6.622283208177521, 7.267015067745313, 7.267015067745313, 6.6840376017087015], \"yaxis\": \"y\"}, {\"hoverinfo\": \"text\", \"marker\": {\"color\": \"rgb(35,205,205)\"}, \"mode\": \"lines\", \"type\": \"scatter\", \"x\": [8075.0, 8075.0, 8085.0, 8085.0], \"xaxis\": \"x\", \"y\": [0.0, 5.708551875190707, 5.708551875190707, 0.0], \"yaxis\": \"y\"}, {\"hoverinfo\": \"text\", \"marker\": {\"color\": \"rgb(35,205,205)\"}, \"mode\": \"lines\", \"type\": \"scatter\", \"x\": [8065.0, 8065.0, 8080.0, 8080.0], \"xaxis\": \"x\", \"y\": [0.0, 6.537362671828787, 6.537362671828787, 5.708551875190707], \"yaxis\": \"y\"}, {\"hoverinfo\": \"text\", \"marker\": {\"color\": \"rgb(35,205,205)\"}, \"mode\": \"lines\", \"type\": \"scatter\", \"x\": [8105.0, 8105.0, 8115.0, 8115.0], \"xaxis\": \"x\", \"y\": [0.0, 5.943771471080625, 5.943771471080625, 0.0], \"yaxis\": \"y\"}, {\"hoverinfo\": \"text\", \"marker\": {\"color\": \"rgb(35,205,205)\"}, \"mode\": \"lines\", \"type\": \"scatter\", \"x\": [8095.0, 8095.0, 8110.0, 8110.0], \"xaxis\": \"x\", \"y\": [0.0, 6.2186578454617845, 6.2186578454617845, 5.943771471080625], \"yaxis\": \"y\"}, {\"hoverinfo\": \"text\", \"marker\": {\"color\": \"rgb(35,205,205)\"}, \"mode\": \"lines\", \"type\": \"scatter\", \"x\": [8125.0, 8125.0, 8135.0, 8135.0], \"xaxis\": \"x\", \"y\": [0.0, 5.810721331005177, 5.810721331005177, 0.0], \"yaxis\": \"y\"}, {\"hoverinfo\": \"text\", \"marker\": {\"color\": \"rgb(35,205,205)\"}, \"mode\": \"lines\", \"type\": \"scatter\", \"x\": [8145.0, 8145.0, 8155.0, 8155.0], \"xaxis\": \"x\", \"y\": [0.0, 5.860337089713703, 5.860337089713703, 0.0], \"yaxis\": \"y\"}, {\"hoverinfo\": \"text\", \"marker\": {\"color\": \"rgb(35,205,205)\"}, \"mode\": \"lines\", \"type\": \"scatter\", \"x\": [8130.0, 8130.0, 8150.0, 8150.0], \"xaxis\": \"x\", \"y\": [5.810721331005177, 6.8553698664674725, 6.8553698664674725, 5.860337089713703], \"yaxis\": \"y\"}, {\"hoverinfo\": \"text\", \"marker\": {\"color\": \"rgb(35,205,205)\"}, \"mode\": \"lines\", \"type\": \"scatter\", \"x\": [8102.5, 8102.5, 8140.0, 8140.0], \"xaxis\": \"x\", \"y\": [6.2186578454617845, 7.090283699107533, 7.090283699107533, 6.8553698664674725], \"yaxis\": \"y\"}, {\"hoverinfo\": \"text\", \"marker\": {\"color\": \"rgb(35,205,205)\"}, \"mode\": \"lines\", \"type\": \"scatter\", \"x\": [8072.5, 8072.5, 8121.25, 8121.25], \"xaxis\": \"x\", \"y\": [6.537362671828787, 7.27714839853818, 7.27714839853818, 7.090283699107533], \"yaxis\": \"y\"}, {\"hoverinfo\": \"text\", \"marker\": {\"color\": \"rgb(35,205,205)\"}, \"mode\": \"lines\", \"type\": \"scatter\", \"x\": [8027.5, 8027.5, 8096.875, 8096.875], \"xaxis\": \"x\", \"y\": [7.267015067745313, 7.633411016780099, 7.633411016780099, 7.27714839853818], \"yaxis\": \"y\"}, {\"hoverinfo\": \"text\", \"marker\": {\"color\": \"rgb(35,205,205)\"}, \"mode\": \"lines\", \"type\": \"scatter\", \"x\": [7951.25, 7951.25, 8062.1875, 8062.1875], \"xaxis\": \"x\", \"y\": [7.500109364248211, 7.930296197807583, 7.930296197807583, 7.633411016780099], \"yaxis\": \"y\"}, {\"hoverinfo\": \"text\", \"marker\": {\"color\": \"rgb(35,205,205)\"}, \"mode\": \"lines\", \"type\": \"scatter\", \"x\": [7821.875, 7821.875, 8006.71875, 8006.71875], \"xaxis\": \"x\", \"y\": [7.681075721897225, 8.189636122231493, 8.189636122231493, 7.930296197807583], \"yaxis\": \"y\"}, {\"hoverinfo\": \"text\", \"marker\": {\"color\": \"rgb(35,205,205)\"}, \"mode\": \"lines\", \"type\": \"scatter\", \"x\": [7694.375, 7694.375, 7914.296875, 7914.296875], \"xaxis\": \"x\", \"y\": [7.856609664752916, 8.594292979044159, 8.594292979044159, 8.189636122231493], \"yaxis\": \"y\"}, {\"hoverinfo\": \"text\", \"marker\": {\"color\": \"rgb(35,205,205)\"}, \"mode\": \"lines\", \"type\": \"scatter\", \"x\": [6662.890625, 6662.890625, 7804.3359375, 7804.3359375], \"xaxis\": \"x\", \"y\": [8.506806211658384, 8.73267722443393, 8.73267722443393, 8.594292979044159], \"yaxis\": \"y\"}, {\"hoverinfo\": \"text\", \"marker\": {\"color\": \"rgb(35,205,205)\"}, \"mode\": \"lines\", \"type\": \"scatter\", \"x\": [5910.3125, 5910.3125, 7233.61328125, 7233.61328125], \"xaxis\": \"x\", \"y\": [8.245851939440657, 8.906723717322565, 8.906723717322565, 8.73267722443393], \"yaxis\": \"y\"}, {\"hoverinfo\": \"text\", \"marker\": {\"color\": \"rgb(35,205,205)\"}, \"mode\": \"lines\", \"type\": \"scatter\", \"x\": [5769.53125, 5769.53125, 6571.962890625, 6571.962890625], \"xaxis\": \"x\", \"y\": [8.541499498139661, 9.016287227984474, 9.016287227984474, 8.906723717322565], \"yaxis\": \"y\"}, {\"hoverinfo\": \"text\", \"marker\": {\"color\": \"rgb(0,116,217)\"}, \"mode\": \"lines\", \"type\": \"scatter\", \"x\": [5460.625, 5460.625, 6170.7470703125, 6170.7470703125], \"xaxis\": \"x\", \"y\": [8.594016899386473, 9.149872794126924, 9.149872794126924, 9.016287227984474], \"yaxis\": \"y\"}, {\"hoverinfo\": \"text\", \"marker\": {\"color\": \"rgb(0,116,217)\"}, \"mode\": \"lines\", \"type\": \"scatter\", \"x\": [5124.0234375, 5124.0234375, 5815.68603515625, 5815.68603515625], \"xaxis\": \"x\", \"y\": [9.03552028542915, 9.472208779754093, 9.472208779754093, 9.149872794126924], \"yaxis\": \"y\"}, {\"hoverinfo\": \"text\", \"marker\": {\"color\": \"rgb(133,20,75)\"}, \"mode\": \"lines\", \"type\": \"scatter\", \"x\": [8185.0, 8185.0, 8195.0, 8195.0], \"xaxis\": \"x\", \"y\": [0.0, 5.409247446842824, 5.409247446842824, 0.0], \"yaxis\": \"y\"}, {\"hoverinfo\": \"text\", \"marker\": {\"color\": \"rgb(133,20,75)\"}, \"mode\": \"lines\", \"type\": \"scatter\", \"x\": [8175.0, 8175.0, 8190.0, 8190.0], \"xaxis\": \"x\", \"y\": [0.0, 5.831900100819555, 5.831900100819555, 5.409247446842824], \"yaxis\": \"y\"}, {\"hoverinfo\": \"text\", \"marker\": {\"color\": \"rgb(133,20,75)\"}, \"mode\": \"lines\", \"type\": \"scatter\", \"x\": [8165.0, 8165.0, 8182.5, 8182.5], \"xaxis\": \"x\", \"y\": [0.0, 6.400961255531266, 6.400961255531266, 5.831900100819555], \"yaxis\": \"y\"}, {\"hoverinfo\": \"text\", \"marker\": {\"color\": \"rgb(133,20,75)\"}, \"mode\": \"lines\", \"type\": \"scatter\", \"x\": [8215.0, 8215.0, 8225.0, 8225.0], \"xaxis\": \"x\", \"y\": [0.0, 6.28826772518367, 6.28826772518367, 0.0], \"yaxis\": \"y\"}, {\"hoverinfo\": \"text\", \"marker\": {\"color\": \"rgb(133,20,75)\"}, \"mode\": \"lines\", \"type\": \"scatter\", \"x\": [8205.0, 8205.0, 8220.0, 8220.0], \"xaxis\": \"x\", \"y\": [0.0, 6.971283503173666, 6.971283503173666, 6.28826772518367], \"yaxis\": \"y\"}, {\"hoverinfo\": \"text\", \"marker\": {\"color\": \"rgb(133,20,75)\"}, \"mode\": \"lines\", \"type\": \"scatter\", \"x\": [8173.75, 8173.75, 8212.5, 8212.5], \"xaxis\": \"x\", \"y\": [6.400961255531266, 7.6647760540216465, 7.6647760540216465, 6.971283503173666], \"yaxis\": \"y\"}, {\"hoverinfo\": \"text\", \"marker\": {\"color\": \"rgb(133,20,75)\"}, \"mode\": \"lines\", \"type\": \"scatter\", \"x\": [8255.0, 8255.0, 8265.0, 8265.0], \"xaxis\": \"x\", \"y\": [0.0, 6.1338611263542955, 6.1338611263542955, 0.0], \"yaxis\": \"y\"}, {\"hoverinfo\": \"text\", \"marker\": {\"color\": \"rgb(133,20,75)\"}, \"mode\": \"lines\", \"type\": \"scatter\", \"x\": [8245.0, 8245.0, 8260.0, 8260.0], \"xaxis\": \"x\", \"y\": [0.0, 6.412324041646539, 6.412324041646539, 6.1338611263542955], \"yaxis\": \"y\"}, {\"hoverinfo\": \"text\", \"marker\": {\"color\": \"rgb(133,20,75)\"}, \"mode\": \"lines\", \"type\": \"scatter\", \"x\": [8295.0, 8295.0, 8305.0, 8305.0], \"xaxis\": \"x\", \"y\": [0.0, 5.761579342701073, 5.761579342701073, 0.0], \"yaxis\": \"y\"}, {\"hoverinfo\": \"text\", \"marker\": {\"color\": \"rgb(133,20,75)\"}, \"mode\": \"lines\", \"type\": \"scatter\", \"x\": [8285.0, 8285.0, 8300.0, 8300.0], \"xaxis\": \"x\", \"y\": [0.0, 6.82438168708104, 6.82438168708104, 5.761579342701073], \"yaxis\": \"y\"}, {\"hoverinfo\": \"text\", \"marker\": {\"color\": \"rgb(133,20,75)\"}, \"mode\": \"lines\", \"type\": \"scatter\", \"x\": [8275.0, 8275.0, 8292.5, 8292.5], \"xaxis\": \"x\", \"y\": [0.0, 7.397249582977823, 7.397249582977823, 6.82438168708104], \"yaxis\": \"y\"}, {\"hoverinfo\": \"text\", \"marker\": {\"color\": \"rgb(133,20,75)\"}, \"mode\": \"lines\", \"type\": \"scatter\", \"x\": [8252.5, 8252.5, 8283.75, 8283.75], \"xaxis\": \"x\", \"y\": [6.412324041646539, 7.715924042003229, 7.715924042003229, 7.397249582977823], \"yaxis\": \"y\"}, {\"hoverinfo\": \"text\", \"marker\": {\"color\": \"rgb(133,20,75)\"}, \"mode\": \"lines\", \"type\": \"scatter\", \"x\": [8235.0, 8235.0, 8268.125, 8268.125], \"xaxis\": \"x\", \"y\": [0.0, 8.062999136636584, 8.062999136636584, 7.715924042003229], \"yaxis\": \"y\"}, {\"hoverinfo\": \"text\", \"marker\": {\"color\": \"rgb(133,20,75)\"}, \"mode\": \"lines\", \"type\": \"scatter\", \"x\": [8193.125, 8193.125, 8251.5625, 8251.5625], \"xaxis\": \"x\", \"y\": [7.6647760540216465, 8.523082785152882, 8.523082785152882, 8.062999136636584], \"yaxis\": \"y\"}, {\"hoverinfo\": \"text\", \"marker\": {\"color\": \"rgb(133,20,75)\"}, \"mode\": \"lines\", \"type\": \"scatter\", \"x\": [8315.0, 8315.0, 8325.0, 8325.0], \"xaxis\": \"x\", \"y\": [0.0, 6.490353844259309, 6.490353844259309, 0.0], \"yaxis\": \"y\"}, {\"hoverinfo\": \"text\", \"marker\": {\"color\": \"rgb(133,20,75)\"}, \"mode\": \"lines\", \"type\": \"scatter\", \"x\": [8345.0, 8345.0, 8355.0, 8355.0], \"xaxis\": \"x\", \"y\": [0.0, 6.476432331309661, 6.476432331309661, 0.0], \"yaxis\": \"y\"}, {\"hoverinfo\": \"text\", \"marker\": {\"color\": \"rgb(133,20,75)\"}, \"mode\": \"lines\", \"type\": \"scatter\", \"x\": [8335.0, 8335.0, 8350.0, 8350.0], \"xaxis\": \"x\", \"y\": [0.0, 7.035843225874082, 7.035843225874082, 6.476432331309661], \"yaxis\": \"y\"}, {\"hoverinfo\": \"text\", \"marker\": {\"color\": \"rgb(133,20,75)\"}, \"mode\": \"lines\", \"type\": \"scatter\", \"x\": [8320.0, 8320.0, 8342.5, 8342.5], \"xaxis\": \"x\", \"y\": [6.490353844259309, 7.192015952146437, 7.192015952146437, 7.035843225874082], \"yaxis\": \"y\"}, {\"hoverinfo\": \"text\", \"marker\": {\"color\": \"rgb(133,20,75)\"}, \"mode\": \"lines\", \"type\": \"scatter\", \"x\": [8365.0, 8365.0, 8375.0, 8375.0], \"xaxis\": \"x\", \"y\": [0.0, 6.099483016737328, 6.099483016737328, 0.0], \"yaxis\": \"y\"}, {\"hoverinfo\": \"text\", \"marker\": {\"color\": \"rgb(133,20,75)\"}, \"mode\": \"lines\", \"type\": \"scatter\", \"x\": [8395.0, 8395.0, 8405.0, 8405.0], \"xaxis\": \"x\", \"y\": [0.0, 5.546378984310182, 5.546378984310182, 0.0], \"yaxis\": \"y\"}, {\"hoverinfo\": \"text\", \"marker\": {\"color\": \"rgb(133,20,75)\"}, \"mode\": \"lines\", \"type\": \"scatter\", \"x\": [8385.0, 8385.0, 8400.0, 8400.0], \"xaxis\": \"x\", \"y\": [0.0, 7.192191913329244, 7.192191913329244, 5.546378984310182], \"yaxis\": \"y\"}, {\"hoverinfo\": \"text\", \"marker\": {\"color\": \"rgb(133,20,75)\"}, \"mode\": \"lines\", \"type\": \"scatter\", \"x\": [8370.0, 8370.0, 8392.5, 8392.5], \"xaxis\": \"x\", \"y\": [6.099483016737328, 7.465431449653904, 7.465431449653904, 7.192191913329244], \"yaxis\": \"y\"}, {\"hoverinfo\": \"text\", \"marker\": {\"color\": \"rgb(133,20,75)\"}, \"mode\": \"lines\", \"type\": \"scatter\", \"x\": [8331.25, 8331.25, 8381.25, 8381.25], \"xaxis\": \"x\", \"y\": [7.192015952146437, 7.9124300443366575, 7.9124300443366575, 7.465431449653904], \"yaxis\": \"y\"}, {\"hoverinfo\": \"text\", \"marker\": {\"color\": \"rgb(133,20,75)\"}, \"mode\": \"lines\", \"type\": \"scatter\", \"x\": [8425.0, 8425.0, 8435.0, 8435.0], \"xaxis\": \"x\", \"y\": [0.0, 6.9183432219803525, 6.9183432219803525, 0.0], \"yaxis\": \"y\"}, {\"hoverinfo\": \"text\", \"marker\": {\"color\": \"rgb(133,20,75)\"}, \"mode\": \"lines\", \"type\": \"scatter\", \"x\": [8415.0, 8415.0, 8430.0, 8430.0], \"xaxis\": \"x\", \"y\": [0.0, 7.577211015232112, 7.577211015232112, 6.9183432219803525], \"yaxis\": \"y\"}, {\"hoverinfo\": \"text\", \"marker\": {\"color\": \"rgb(133,20,75)\"}, \"mode\": \"lines\", \"type\": \"scatter\", \"x\": [8455.0, 8455.0, 8465.0, 8465.0], \"xaxis\": \"x\", \"y\": [0.0, 6.9640016959301185, 6.9640016959301185, 0.0], \"yaxis\": \"y\"}, {\"hoverinfo\": \"text\", \"marker\": {\"color\": \"rgb(133,20,75)\"}, \"mode\": \"lines\", \"type\": \"scatter\", \"x\": [8445.0, 8445.0, 8460.0, 8460.0], \"xaxis\": \"x\", \"y\": [0.0, 7.752961364892861, 7.752961364892861, 6.9640016959301185], \"yaxis\": \"y\"}, {\"hoverinfo\": \"text\", \"marker\": {\"color\": \"rgb(133,20,75)\"}, \"mode\": \"lines\", \"type\": \"scatter\", \"x\": [8422.5, 8422.5, 8452.5, 8452.5], \"xaxis\": \"x\", \"y\": [7.577211015232112, 8.124461108044063, 8.124461108044063, 7.752961364892861], \"yaxis\": \"y\"}, {\"hoverinfo\": \"text\", \"marker\": {\"color\": \"rgb(133,20,75)\"}, \"mode\": \"lines\", \"type\": \"scatter\", \"x\": [8356.25, 8356.25, 8437.5, 8437.5], \"xaxis\": \"x\", \"y\": [7.9124300443366575, 8.548213778636816, 8.548213778636816, 8.124461108044063], \"yaxis\": \"y\"}, {\"hoverinfo\": \"text\", \"marker\": {\"color\": \"rgb(133,20,75)\"}, \"mode\": \"lines\", \"type\": \"scatter\", \"x\": [8495.0, 8495.0, 8505.0, 8505.0], \"xaxis\": \"x\", \"y\": [0.0, 4.916841189401588, 4.916841189401588, 0.0], \"yaxis\": \"y\"}, {\"hoverinfo\": \"text\", \"marker\": {\"color\": \"rgb(133,20,75)\"}, \"mode\": \"lines\", \"type\": \"scatter\", \"x\": [8485.0, 8485.0, 8500.0, 8500.0], \"xaxis\": \"x\", \"y\": [0.0, 6.641033571059765, 6.641033571059765, 4.916841189401588], \"yaxis\": \"y\"}, {\"hoverinfo\": \"text\", \"marker\": {\"color\": \"rgb(133,20,75)\"}, \"mode\": \"lines\", \"type\": \"scatter\", \"x\": [8475.0, 8475.0, 8492.5, 8492.5], \"xaxis\": \"x\", \"y\": [0.0, 6.9492399124317386, 6.9492399124317386, 6.641033571059765], \"yaxis\": \"y\"}, {\"hoverinfo\": \"text\", \"marker\": {\"color\": \"rgb(133,20,75)\"}, \"mode\": \"lines\", \"type\": \"scatter\", \"x\": [8535.0, 8535.0, 8545.0, 8545.0], \"xaxis\": \"x\", \"y\": [0.0, 5.758696902169428, 5.758696902169428, 0.0], \"yaxis\": \"y\"}, {\"hoverinfo\": \"text\", \"marker\": {\"color\": \"rgb(133,20,75)\"}, \"mode\": \"lines\", \"type\": \"scatter\", \"x\": [8525.0, 8525.0, 8540.0, 8540.0], \"xaxis\": \"x\", \"y\": [0.0, 6.19192244980058, 6.19192244980058, 5.758696902169428], \"yaxis\": \"y\"}, {\"hoverinfo\": \"text\", \"marker\": {\"color\": \"rgb(133,20,75)\"}, \"mode\": \"lines\", \"type\": \"scatter\", \"x\": [8555.0, 8555.0, 8565.0, 8565.0], \"xaxis\": \"x\", \"y\": [0.0, 5.402274637766626, 5.402274637766626, 0.0], \"yaxis\": \"y\"}, {\"hoverinfo\": \"text\", \"marker\": {\"color\": \"rgb(133,20,75)\"}, \"mode\": \"lines\", \"type\": \"scatter\", \"x\": [8575.0, 8575.0, 8585.0, 8585.0], \"xaxis\": \"x\", \"y\": [0.0, 6.2972012227699485, 6.2972012227699485, 0.0], \"yaxis\": \"y\"}, {\"hoverinfo\": \"text\", \"marker\": {\"color\": \"rgb(133,20,75)\"}, \"mode\": \"lines\", \"type\": \"scatter\", \"x\": [8560.0, 8560.0, 8580.0, 8580.0], \"xaxis\": \"x\", \"y\": [5.402274637766626, 6.616694850039632, 6.616694850039632, 6.2972012227699485], \"yaxis\": \"y\"}, {\"hoverinfo\": \"text\", \"marker\": {\"color\": \"rgb(133,20,75)\"}, \"mode\": \"lines\", \"type\": \"scatter\", \"x\": [8532.5, 8532.5, 8570.0, 8570.0], \"xaxis\": \"x\", \"y\": [6.19192244980058, 7.3841585726983165, 7.3841585726983165, 6.616694850039632], \"yaxis\": \"y\"}, {\"hoverinfo\": \"text\", \"marker\": {\"color\": \"rgb(133,20,75)\"}, \"mode\": \"lines\", \"type\": \"scatter\", \"x\": [8515.0, 8515.0, 8551.25, 8551.25], \"xaxis\": \"x\", \"y\": [0.0, 8.214801746864309, 8.214801746864309, 7.3841585726983165], \"yaxis\": \"y\"}, {\"hoverinfo\": \"text\", \"marker\": {\"color\": \"rgb(133,20,75)\"}, \"mode\": \"lines\", \"type\": \"scatter\", \"x\": [8483.75, 8483.75, 8533.125, 8533.125], \"xaxis\": \"x\", \"y\": [6.9492399124317386, 8.61710335207218, 8.61710335207218, 8.214801746864309], \"yaxis\": \"y\"}, {\"hoverinfo\": \"text\", \"marker\": {\"color\": \"rgb(133,20,75)\"}, \"mode\": \"lines\", \"type\": \"scatter\", \"x\": [8396.875, 8396.875, 8508.4375, 8508.4375], \"xaxis\": \"x\", \"y\": [8.548213778636816, 8.806446823052243, 8.806446823052243, 8.61710335207218], \"yaxis\": \"y\"}, {\"hoverinfo\": \"text\", \"marker\": {\"color\": \"rgb(133,20,75)\"}, \"mode\": \"lines\", \"type\": \"scatter\", \"x\": [8222.34375, 8222.34375, 8452.65625, 8452.65625], \"xaxis\": \"x\", \"y\": [8.523082785152882, 8.902851243094473, 8.902851243094473, 8.806446823052243], \"yaxis\": \"y\"}, {\"hoverinfo\": \"text\", \"marker\": {\"color\": \"rgb(255,220,0)\"}, \"mode\": \"lines\", \"type\": \"scatter\", \"x\": [8615.0, 8615.0, 8625.0, 8625.0], \"xaxis\": \"x\", \"y\": [0.0, 6.2010186922329815, 6.2010186922329815, 0.0], \"yaxis\": \"y\"}, {\"hoverinfo\": \"text\", \"marker\": {\"color\": \"rgb(255,220,0)\"}, \"mode\": \"lines\", \"type\": \"scatter\", \"x\": [8605.0, 8605.0, 8620.0, 8620.0], \"xaxis\": \"x\", \"y\": [0.0, 7.3343918359452465, 7.3343918359452465, 6.2010186922329815], \"yaxis\": \"y\"}, {\"hoverinfo\": \"text\", \"marker\": {\"color\": \"rgb(255,220,0)\"}, \"mode\": \"lines\", \"type\": \"scatter\", \"x\": [8595.0, 8595.0, 8612.5, 8612.5], \"xaxis\": \"x\", \"y\": [0.0, 7.912032557530762, 7.912032557530762, 7.3343918359452465], \"yaxis\": \"y\"}, {\"hoverinfo\": \"text\", \"marker\": {\"color\": \"rgb(40,35,35)\"}, \"mode\": \"lines\", \"type\": \"scatter\", \"x\": [8645.0, 8645.0, 8655.0, 8655.0], \"xaxis\": \"x\", \"y\": [0.0, 5.360049722242021, 5.360049722242021, 0.0], \"yaxis\": \"y\"}, {\"hoverinfo\": \"text\", \"marker\": {\"color\": \"rgb(40,35,35)\"}, \"mode\": \"lines\", \"type\": \"scatter\", \"x\": [8635.0, 8635.0, 8650.0, 8650.0], \"xaxis\": \"x\", \"y\": [0.0, 6.507170378306046, 6.507170378306046, 5.360049722242021], \"yaxis\": \"y\"}, {\"hoverinfo\": \"text\", \"marker\": {\"color\": \"rgb(40,35,35)\"}, \"mode\": \"lines\", \"type\": \"scatter\", \"x\": [8665.0, 8665.0, 8675.0, 8675.0], \"xaxis\": \"x\", \"y\": [0.0, 6.759330218490188, 6.759330218490188, 0.0], \"yaxis\": \"y\"}, {\"hoverinfo\": \"text\", \"marker\": {\"color\": \"rgb(40,35,35)\"}, \"mode\": \"lines\", \"type\": \"scatter\", \"x\": [8642.5, 8642.5, 8670.0, 8670.0], \"xaxis\": \"x\", \"y\": [6.507170378306046, 7.4802268904052225, 7.4802268904052225, 6.759330218490188], \"yaxis\": \"y\"}, {\"hoverinfo\": \"text\", \"marker\": {\"color\": \"rgb(40,35,35)\"}, \"mode\": \"lines\", \"type\": \"scatter\", \"x\": [8695.0, 8695.0, 8705.0, 8705.0], \"xaxis\": \"x\", \"y\": [0.0, 6.315232284770091, 6.315232284770091, 0.0], \"yaxis\": \"y\"}, {\"hoverinfo\": \"text\", \"marker\": {\"color\": \"rgb(40,35,35)\"}, \"mode\": \"lines\", \"type\": \"scatter\", \"x\": [8685.0, 8685.0, 8700.0, 8700.0], \"xaxis\": \"x\", \"y\": [0.0, 7.584583508726081, 7.584583508726081, 6.315232284770091], \"yaxis\": \"y\"}, {\"hoverinfo\": \"text\", \"marker\": {\"color\": \"rgb(40,35,35)\"}, \"mode\": \"lines\", \"type\": \"scatter\", \"x\": [8656.25, 8656.25, 8692.5, 8692.5], \"xaxis\": \"x\", \"y\": [7.4802268904052225, 7.9385299292563865, 7.9385299292563865, 7.584583508726081], \"yaxis\": \"y\"}, {\"hoverinfo\": \"text\", \"marker\": {\"color\": \"rgb(40,35,35)\"}, \"mode\": \"lines\", \"type\": \"scatter\", \"x\": [8715.0, 8715.0, 8725.0, 8725.0], \"xaxis\": \"x\", \"y\": [0.0, 6.4395119264501, 6.4395119264501, 0.0], \"yaxis\": \"y\"}, {\"hoverinfo\": \"text\", \"marker\": {\"color\": \"rgb(40,35,35)\"}, \"mode\": \"lines\", \"type\": \"scatter\", \"x\": [8735.0, 8735.0, 8745.0, 8745.0], \"xaxis\": \"x\", \"y\": [0.0, 6.474922641113587, 6.474922641113587, 0.0], \"yaxis\": \"y\"}, {\"hoverinfo\": \"text\", \"marker\": {\"color\": \"rgb(40,35,35)\"}, \"mode\": \"lines\", \"type\": \"scatter\", \"x\": [8720.0, 8720.0, 8740.0, 8740.0], \"xaxis\": \"x\", \"y\": [6.4395119264501, 7.529903551655726, 7.529903551655726, 6.474922641113587], \"yaxis\": \"y\"}, {\"hoverinfo\": \"text\", \"marker\": {\"color\": \"rgb(40,35,35)\"}, \"mode\": \"lines\", \"type\": \"scatter\", \"x\": [8765.0, 8765.0, 8775.0, 8775.0], \"xaxis\": \"x\", \"y\": [0.0, 6.033958069256858, 6.033958069256858, 0.0], \"yaxis\": \"y\"}, {\"hoverinfo\": \"text\", \"marker\": {\"color\": \"rgb(40,35,35)\"}, \"mode\": \"lines\", \"type\": \"scatter\", \"x\": [8795.0, 8795.0, 8805.0, 8805.0], \"xaxis\": \"x\", \"y\": [0.0, 5.474723030854747, 5.474723030854747, 0.0], \"yaxis\": \"y\"}, {\"hoverinfo\": \"text\", \"marker\": {\"color\": \"rgb(40,35,35)\"}, \"mode\": \"lines\", \"type\": \"scatter\", \"x\": [8785.0, 8785.0, 8800.0, 8800.0], \"xaxis\": \"x\", \"y\": [0.0, 6.362827076979713, 6.362827076979713, 5.474723030854747], \"yaxis\": \"y\"}, {\"hoverinfo\": \"text\", \"marker\": {\"color\": \"rgb(40,35,35)\"}, \"mode\": \"lines\", \"type\": \"scatter\", \"x\": [8770.0, 8770.0, 8792.5, 8792.5], \"xaxis\": \"x\", \"y\": [6.033958069256858, 7.282949244571512, 7.282949244571512, 6.362827076979713], \"yaxis\": \"y\"}, {\"hoverinfo\": \"text\", \"marker\": {\"color\": \"rgb(40,35,35)\"}, \"mode\": \"lines\", \"type\": \"scatter\", \"x\": [8755.0, 8755.0, 8781.25, 8781.25], \"xaxis\": \"x\", \"y\": [0.0, 7.772365232593604, 7.772365232593604, 7.282949244571512], \"yaxis\": \"y\"}, {\"hoverinfo\": \"text\", \"marker\": {\"color\": \"rgb(40,35,35)\"}, \"mode\": \"lines\", \"type\": \"scatter\", \"x\": [8730.0, 8730.0, 8768.125, 8768.125], \"xaxis\": \"x\", \"y\": [7.529903551655726, 8.064695335350264, 8.064695335350264, 7.772365232593604], \"yaxis\": \"y\"}, {\"hoverinfo\": \"text\", \"marker\": {\"color\": \"rgb(40,35,35)\"}, \"mode\": \"lines\", \"type\": \"scatter\", \"x\": [8835.0, 8835.0, 8845.0, 8845.0], \"xaxis\": \"x\", \"y\": [0.0, 6.09135710122925, 6.09135710122925, 0.0], \"yaxis\": \"y\"}, {\"hoverinfo\": \"text\", \"marker\": {\"color\": \"rgb(40,35,35)\"}, \"mode\": \"lines\", \"type\": \"scatter\", \"x\": [8825.0, 8825.0, 8840.0, 8840.0], \"xaxis\": \"x\", \"y\": [0.0, 6.503699755533829, 6.503699755533829, 6.09135710122925], \"yaxis\": \"y\"}, {\"hoverinfo\": \"text\", \"marker\": {\"color\": \"rgb(40,35,35)\"}, \"mode\": \"lines\", \"type\": \"scatter\", \"x\": [8815.0, 8815.0, 8832.5, 8832.5], \"xaxis\": \"x\", \"y\": [0.0, 7.196849340043594, 7.196849340043594, 6.503699755533829], \"yaxis\": \"y\"}, {\"hoverinfo\": \"text\", \"marker\": {\"color\": \"rgb(40,35,35)\"}, \"mode\": \"lines\", \"type\": \"scatter\", \"x\": [8855.0, 8855.0, 8865.0, 8865.0], \"xaxis\": \"x\", \"y\": [0.0, 7.031658123161887, 7.031658123161887, 0.0], \"yaxis\": \"y\"}, {\"hoverinfo\": \"text\", \"marker\": {\"color\": \"rgb(40,35,35)\"}, \"mode\": \"lines\", \"type\": \"scatter\", \"x\": [8875.0, 8875.0, 8885.0, 8885.0], \"xaxis\": \"x\", \"y\": [0.0, 7.380868533073875, 7.380868533073875, 0.0], \"yaxis\": \"y\"}, {\"hoverinfo\": \"text\", \"marker\": {\"color\": \"rgb(40,35,35)\"}, \"mode\": \"lines\", \"type\": \"scatter\", \"x\": [8860.0, 8860.0, 8880.0, 8880.0], \"xaxis\": \"x\", \"y\": [7.031658123161887, 7.818298055281803, 7.818298055281803, 7.380868533073875], \"yaxis\": \"y\"}, {\"hoverinfo\": \"text\", \"marker\": {\"color\": \"rgb(40,35,35)\"}, \"mode\": \"lines\", \"type\": \"scatter\", \"x\": [8823.75, 8823.75, 8870.0, 8870.0], \"xaxis\": \"x\", \"y\": [7.196849340043594, 8.136863333690115, 8.136863333690115, 7.818298055281803], \"yaxis\": \"y\"}, {\"hoverinfo\": \"text\", \"marker\": {\"color\": \"rgb(40,35,35)\"}, \"mode\": \"lines\", \"type\": \"scatter\", \"x\": [8749.0625, 8749.0625, 8846.875, 8846.875], \"xaxis\": \"x\", \"y\": [8.064695335350264, 8.464492748197783, 8.464492748197783, 8.136863333690115], \"yaxis\": \"y\"}, {\"hoverinfo\": \"text\", \"marker\": {\"color\": \"rgb(40,35,35)\"}, \"mode\": \"lines\", \"type\": \"scatter\", \"x\": [8674.375, 8674.375, 8797.96875, 8797.96875], \"xaxis\": \"x\", \"y\": [7.9385299292563865, 8.707378146714126, 8.707378146714126, 8.464492748197783], \"yaxis\": \"y\"}, {\"hoverinfo\": \"text\", \"marker\": {\"color\": \"rgb(0,116,217)\"}, \"mode\": \"lines\", \"type\": \"scatter\", \"x\": [8603.75, 8603.75, 8736.171875, 8736.171875], \"xaxis\": \"x\", \"y\": [7.912032557530762, 9.150770210804879, 9.150770210804879, 8.707378146714126], \"yaxis\": \"y\"}, {\"hoverinfo\": \"text\", \"marker\": {\"color\": \"rgb(0,116,217)\"}, \"mode\": \"lines\", \"type\": \"scatter\", \"x\": [8337.5, 8337.5, 8669.9609375, 8669.9609375], \"xaxis\": \"x\", \"y\": [8.902851243094473, 9.567299794794334, 9.567299794794334, 9.150770210804879], \"yaxis\": \"y\"}, {\"hoverinfo\": \"text\", \"marker\": {\"color\": \"rgb(0,116,217)\"}, \"mode\": \"lines\", \"type\": \"scatter\", \"x\": [5469.854736328125, 5469.854736328125, 8503.73046875, 8503.73046875], \"xaxis\": \"x\", \"y\": [9.472208779754093, 9.66369762230781, 9.66369762230781, 9.567299794794334], \"yaxis\": \"y\"}, {\"hoverinfo\": \"text\", \"marker\": {\"color\": \"rgb(0,116,217)\"}, \"mode\": \"lines\", \"type\": \"scatter\", \"x\": [4330.48828125, 4330.48828125, 6986.7926025390625, 6986.7926025390625], \"xaxis\": \"x\", \"y\": [9.27570995999955, 9.723583280115463, 9.723583280115463, 9.66369762230781], \"yaxis\": \"y\"}, {\"hoverinfo\": \"text\", \"marker\": {\"color\": \"rgb(0,116,217)\"}, \"mode\": \"lines\", \"type\": \"scatter\", \"x\": [3065.009765625, 3065.009765625, 5658.640441894531, 5658.640441894531], \"xaxis\": \"x\", \"y\": [9.46190162467866, 9.945491350519376, 9.945491350519376, 9.723583280115463], \"yaxis\": \"y\"}, {\"hoverinfo\": \"text\", \"marker\": {\"color\": \"rgb(0,116,217)\"}, \"mode\": \"lines\", \"type\": \"scatter\", \"x\": [2637.34375, 2637.34375, 4361.825103759766, 4361.825103759766], \"xaxis\": \"x\", \"y\": [9.881065582714392, 10.758747424336727, 10.758747424336727, 9.945491350519376], \"yaxis\": \"y\"}, {\"hoverinfo\": \"text\", \"marker\": {\"color\": \"rgb(0,116,217)\"}, \"mode\": \"lines\", \"type\": \"scatter\", \"x\": [8895.0, 8895.0, 8905.0, 8905.0], \"xaxis\": \"x\", \"y\": [0.0, 9.688798571171173, 9.688798571171173, 0.0], \"yaxis\": \"y\"}, {\"hoverinfo\": \"text\", \"marker\": {\"color\": \"rgb(61,153,112)\"}, \"mode\": \"lines\", \"type\": \"scatter\", \"x\": [8935.0, 8935.0, 8945.0, 8945.0], \"xaxis\": \"x\", \"y\": [0.0, 6.495079087910023, 6.495079087910023, 0.0], \"yaxis\": \"y\"}, {\"hoverinfo\": \"text\", \"marker\": {\"color\": \"rgb(61,153,112)\"}, \"mode\": \"lines\", \"type\": \"scatter\", \"x\": [8925.0, 8925.0, 8940.0, 8940.0], \"xaxis\": \"x\", \"y\": [0.0, 7.315592974612268, 7.315592974612268, 6.495079087910023], \"yaxis\": \"y\"}, {\"hoverinfo\": \"text\", \"marker\": {\"color\": \"rgb(61,153,112)\"}, \"mode\": \"lines\", \"type\": \"scatter\", \"x\": [8915.0, 8915.0, 8932.5, 8932.5], \"xaxis\": \"x\", \"y\": [0.0, 8.096601365339449, 8.096601365339449, 7.315592974612268], \"yaxis\": \"y\"}, {\"hoverinfo\": \"text\", \"marker\": {\"color\": \"rgb(61,153,112)\"}, \"mode\": \"lines\", \"type\": \"scatter\", \"x\": [8965.0, 8965.0, 8975.0, 8975.0], \"xaxis\": \"x\", \"y\": [0.0, 4.923080051977595, 4.923080051977595, 0.0], \"yaxis\": \"y\"}, {\"hoverinfo\": \"text\", \"marker\": {\"color\": \"rgb(61,153,112)\"}, \"mode\": \"lines\", \"type\": \"scatter\", \"x\": [8955.0, 8955.0, 8970.0, 8970.0], \"xaxis\": \"x\", \"y\": [0.0, 6.057021717828328, 6.057021717828328, 4.923080051977595], \"yaxis\": \"y\"}, {\"hoverinfo\": \"text\", \"marker\": {\"color\": \"rgb(61,153,112)\"}, \"mode\": \"lines\", \"type\": \"scatter\", \"x\": [8995.0, 8995.0, 9005.0, 9005.0], \"xaxis\": \"x\", \"y\": [0.0, 6.128801274656915, 6.128801274656915, 0.0], \"yaxis\": \"y\"}, {\"hoverinfo\": \"text\", \"marker\": {\"color\": \"rgb(61,153,112)\"}, \"mode\": \"lines\", \"type\": \"scatter\", \"x\": [8985.0, 8985.0, 9000.0, 9000.0], \"xaxis\": \"x\", \"y\": [0.0, 7.042867448600006, 7.042867448600006, 6.128801274656915], \"yaxis\": \"y\"}, {\"hoverinfo\": \"text\", \"marker\": {\"color\": \"rgb(61,153,112)\"}, \"mode\": \"lines\", \"type\": \"scatter\", \"x\": [9015.0, 9015.0, 9025.0, 9025.0], \"xaxis\": \"x\", \"y\": [0.0, 6.0178824286718715, 6.0178824286718715, 0.0], \"yaxis\": \"y\"}, {\"hoverinfo\": \"text\", \"marker\": {\"color\": \"rgb(61,153,112)\"}, \"mode\": \"lines\", \"type\": \"scatter\", \"x\": [9035.0, 9035.0, 9045.0, 9045.0], \"xaxis\": \"x\", \"y\": [0.0, 6.797490228721897, 6.797490228721897, 0.0], \"yaxis\": \"y\"}, {\"hoverinfo\": \"text\", \"marker\": {\"color\": \"rgb(61,153,112)\"}, \"mode\": \"lines\", \"type\": \"scatter\", \"x\": [9020.0, 9020.0, 9040.0, 9040.0], \"xaxis\": \"x\", \"y\": [6.0178824286718715, 7.2533760700441, 7.2533760700441, 6.797490228721897], \"yaxis\": \"y\"}, {\"hoverinfo\": \"text\", \"marker\": {\"color\": \"rgb(61,153,112)\"}, \"mode\": \"lines\", \"type\": \"scatter\", \"x\": [8992.5, 8992.5, 9030.0, 9030.0], \"xaxis\": \"x\", \"y\": [7.042867448600006, 7.8275113109726036, 7.8275113109726036, 7.2533760700441], \"yaxis\": \"y\"}, {\"hoverinfo\": \"text\", \"marker\": {\"color\": \"rgb(61,153,112)\"}, \"mode\": \"lines\", \"type\": \"scatter\", \"x\": [8962.5, 8962.5, 9011.25, 9011.25], \"xaxis\": \"x\", \"y\": [6.057021717828328, 8.208936269258194, 8.208936269258194, 7.8275113109726036], \"yaxis\": \"y\"}, {\"hoverinfo\": \"text\", \"marker\": {\"color\": \"rgb(61,153,112)\"}, \"mode\": \"lines\", \"type\": \"scatter\", \"x\": [8923.75, 8923.75, 8986.875, 8986.875], \"xaxis\": \"x\", \"y\": [8.096601365339449, 8.729660743375963, 8.729660743375963, 8.208936269258194], \"yaxis\": \"y\"}, {\"hoverinfo\": \"text\", \"marker\": {\"color\": \"rgb(255,65,54)\"}, \"mode\": \"lines\", \"type\": \"scatter\", \"x\": [9065.0, 9065.0, 9075.0, 9075.0], \"xaxis\": \"x\", \"y\": [0.0, 6.287475941344711, 6.287475941344711, 0.0], \"yaxis\": \"y\"}, {\"hoverinfo\": \"text\", \"marker\": {\"color\": \"rgb(255,65,54)\"}, \"mode\": \"lines\", \"type\": \"scatter\", \"x\": [9085.0, 9085.0, 9095.0, 9095.0], \"xaxis\": \"x\", \"y\": [0.0, 6.872605626606489, 6.872605626606489, 0.0], \"yaxis\": \"y\"}, {\"hoverinfo\": \"text\", \"marker\": {\"color\": \"rgb(255,65,54)\"}, \"mode\": \"lines\", \"type\": \"scatter\", \"x\": [9070.0, 9070.0, 9090.0, 9090.0], \"xaxis\": \"x\", \"y\": [6.287475941344711, 7.842478322765007, 7.842478322765007, 6.872605626606489], \"yaxis\": \"y\"}, {\"hoverinfo\": \"text\", \"marker\": {\"color\": \"rgb(255,65,54)\"}, \"mode\": \"lines\", \"type\": \"scatter\", \"x\": [9115.0, 9115.0, 9125.0, 9125.0], \"xaxis\": \"x\", \"y\": [0.0, 4.986989121744382, 4.986989121744382, 0.0], \"yaxis\": \"y\"}, {\"hoverinfo\": \"text\", \"marker\": {\"color\": \"rgb(255,65,54)\"}, \"mode\": \"lines\", \"type\": \"scatter\", \"x\": [9105.0, 9105.0, 9120.0, 9120.0], \"xaxis\": \"x\", \"y\": [0.0, 6.924947504463187, 6.924947504463187, 4.986989121744382], \"yaxis\": \"y\"}, {\"hoverinfo\": \"text\", \"marker\": {\"color\": \"rgb(255,65,54)\"}, \"mode\": \"lines\", \"type\": \"scatter\", \"x\": [9135.0, 9135.0, 9145.0, 9145.0], \"xaxis\": \"x\", \"y\": [0.0, 6.39574281582392, 6.39574281582392, 0.0], \"yaxis\": \"y\"}, {\"hoverinfo\": \"text\", \"marker\": {\"color\": \"rgb(255,65,54)\"}, \"mode\": \"lines\", \"type\": \"scatter\", \"x\": [9165.0, 9165.0, 9175.0, 9175.0], \"xaxis\": \"x\", \"y\": [0.0, 5.850593405523523, 5.850593405523523, 0.0], \"yaxis\": \"y\"}, {\"hoverinfo\": \"text\", \"marker\": {\"color\": \"rgb(255,65,54)\"}, \"mode\": \"lines\", \"type\": \"scatter\", \"x\": [9155.0, 9155.0, 9170.0, 9170.0], \"xaxis\": \"x\", \"y\": [0.0, 6.601939046526533, 6.601939046526533, 5.850593405523523], \"yaxis\": \"y\"}, {\"hoverinfo\": \"text\", \"marker\": {\"color\": \"rgb(255,65,54)\"}, \"mode\": \"lines\", \"type\": \"scatter\", \"x\": [9185.0, 9185.0, 9195.0, 9195.0], \"xaxis\": \"x\", \"y\": [0.0, 6.6161860786600775, 6.6161860786600775, 0.0], \"yaxis\": \"y\"}, {\"hoverinfo\": \"text\", \"marker\": {\"color\": \"rgb(255,65,54)\"}, \"mode\": \"lines\", \"type\": \"scatter\", \"x\": [9162.5, 9162.5, 9190.0, 9190.0], \"xaxis\": \"x\", \"y\": [6.601939046526533, 6.932527978846436, 6.932527978846436, 6.6161860786600775], \"yaxis\": \"y\"}, {\"hoverinfo\": \"text\", \"marker\": {\"color\": \"rgb(255,65,54)\"}, \"mode\": \"lines\", \"type\": \"scatter\", \"x\": [9140.0, 9140.0, 9176.25, 9176.25], \"xaxis\": \"x\", \"y\": [6.39574281582392, 7.434006008085492, 7.434006008085492, 6.932527978846436], \"yaxis\": \"y\"}, {\"hoverinfo\": \"text\", \"marker\": {\"color\": \"rgb(255,65,54)\"}, \"mode\": \"lines\", \"type\": \"scatter\", \"x\": [9112.5, 9112.5, 9158.125, 9158.125], \"xaxis\": \"x\", \"y\": [6.924947504463187, 8.104891051522872, 8.104891051522872, 7.434006008085492], \"yaxis\": \"y\"}, {\"hoverinfo\": \"text\", \"marker\": {\"color\": \"rgb(255,65,54)\"}, \"mode\": \"lines\", \"type\": \"scatter\", \"x\": [9080.0, 9080.0, 9135.3125, 9135.3125], \"xaxis\": \"x\", \"y\": [7.842478322765007, 8.553369595381781, 8.553369595381781, 8.104891051522872], \"yaxis\": \"y\"}, {\"hoverinfo\": \"text\", \"marker\": {\"color\": \"rgb(255,65,54)\"}, \"mode\": \"lines\", \"type\": \"scatter\", \"x\": [9055.0, 9055.0, 9107.65625, 9107.65625], \"xaxis\": \"x\", \"y\": [0.0, 8.789200498266196, 8.789200498266196, 8.553369595381781], \"yaxis\": \"y\"}, {\"hoverinfo\": \"text\", \"marker\": {\"color\": \"rgb(0,116,217)\"}, \"mode\": \"lines\", \"type\": \"scatter\", \"x\": [8955.3125, 8955.3125, 9081.328125, 9081.328125], \"xaxis\": \"x\", \"y\": [8.729660743375963, 9.346998535819363, 9.346998535819363, 8.789200498266196], \"yaxis\": \"y\"}, {\"hoverinfo\": \"text\", \"marker\": {\"color\": \"rgb(35,205,205)\"}, \"mode\": \"lines\", \"type\": \"scatter\", \"x\": [9205.0, 9205.0, 9215.0, 9215.0], \"xaxis\": \"x\", \"y\": [0.0, 8.941189338276848, 8.941189338276848, 0.0], \"yaxis\": \"y\"}, {\"hoverinfo\": \"text\", \"marker\": {\"color\": \"rgb(133,20,75)\"}, \"mode\": \"lines\", \"type\": \"scatter\", \"x\": [9235.0, 9235.0, 9245.0, 9245.0], \"xaxis\": \"x\", \"y\": [0.0, 6.7087258753387236, 6.7087258753387236, 0.0], \"yaxis\": \"y\"}, {\"hoverinfo\": \"text\", \"marker\": {\"color\": \"rgb(133,20,75)\"}, \"mode\": \"lines\", \"type\": \"scatter\", \"x\": [9225.0, 9225.0, 9240.0, 9240.0], \"xaxis\": \"x\", \"y\": [0.0, 7.605626854039185, 7.605626854039185, 6.7087258753387236], \"yaxis\": \"y\"}, {\"hoverinfo\": \"text\", \"marker\": {\"color\": \"rgb(255,220,0)\"}, \"mode\": \"lines\", \"type\": \"scatter\", \"x\": [9275.0, 9275.0, 9285.0, 9285.0], \"xaxis\": \"x\", \"y\": [0.0, 6.82254460627748, 6.82254460627748, 0.0], \"yaxis\": \"y\"}, {\"hoverinfo\": \"text\", \"marker\": {\"color\": \"rgb(255,220,0)\"}, \"mode\": \"lines\", \"type\": \"scatter\", \"x\": [9295.0, 9295.0, 9305.0, 9305.0], \"xaxis\": \"x\", \"y\": [0.0, 7.504245767002267, 7.504245767002267, 0.0], \"yaxis\": \"y\"}, {\"hoverinfo\": \"text\", \"marker\": {\"color\": \"rgb(255,220,0)\"}, \"mode\": \"lines\", \"type\": \"scatter\", \"x\": [9280.0, 9280.0, 9300.0, 9300.0], \"xaxis\": \"x\", \"y\": [6.82254460627748, 7.734284008119407, 7.734284008119407, 7.504245767002267], \"yaxis\": \"y\"}, {\"hoverinfo\": \"text\", \"marker\": {\"color\": \"rgb(255,220,0)\"}, \"mode\": \"lines\", \"type\": \"scatter\", \"x\": [9265.0, 9265.0, 9290.0, 9290.0], \"xaxis\": \"x\", \"y\": [0.0, 8.58017835402445, 8.58017835402445, 7.734284008119407], \"yaxis\": \"y\"}, {\"hoverinfo\": \"text\", \"marker\": {\"color\": \"rgb(255,220,0)\"}, \"mode\": \"lines\", \"type\": \"scatter\", \"x\": [9255.0, 9255.0, 9277.5, 9277.5], \"xaxis\": \"x\", \"y\": [0.0, 9.028154223501764, 9.028154223501764, 8.58017835402445], \"yaxis\": \"y\"}, {\"hoverinfo\": \"text\", \"marker\": {\"color\": \"rgb(0,116,217)\"}, \"mode\": \"lines\", \"type\": \"scatter\", \"x\": [9232.5, 9232.5, 9266.25, 9266.25], \"xaxis\": \"x\", \"y\": [7.605626854039185, 10.040043307965918, 10.040043307965918, 9.028154223501764], \"yaxis\": \"y\"}, {\"hoverinfo\": \"text\", \"marker\": {\"color\": \"rgb(0,116,217)\"}, \"mode\": \"lines\", \"type\": \"scatter\", \"x\": [9210.0, 9210.0, 9249.375, 9249.375], \"xaxis\": \"x\", \"y\": [8.941189338276848, 10.47363181195856, 10.47363181195856, 10.040043307965918], \"yaxis\": \"y\"}, {\"hoverinfo\": \"text\", \"marker\": {\"color\": \"rgb(0,116,217)\"}, \"mode\": \"lines\", \"type\": \"scatter\", \"x\": [9018.3203125, 9018.3203125, 9229.6875, 9229.6875], \"xaxis\": \"x\", \"y\": [9.346998535819363, 10.636386839403244, 10.636386839403244, 10.47363181195856], \"yaxis\": \"y\"}, {\"hoverinfo\": \"text\", \"marker\": {\"color\": \"rgb(0,116,217)\"}, \"mode\": \"lines\", \"type\": \"scatter\", \"x\": [8900.0, 8900.0, 9124.00390625, 9124.00390625], \"xaxis\": \"x\", \"y\": [9.688798571171173, 11.49234323726408, 11.49234323726408, 10.636386839403244], \"yaxis\": \"y\"}, {\"hoverinfo\": \"text\", \"marker\": {\"color\": \"rgb(0,116,217)\"}, \"mode\": \"lines\", \"type\": \"scatter\", \"x\": [3499.584426879883, 3499.584426879883, 9012.001953125, 9012.001953125], \"xaxis\": \"x\", \"y\": [10.758747424336727, 11.96916293104566, 11.96916293104566, 11.49234323726408], \"yaxis\": \"y\"}, {\"hoverinfo\": \"text\", \"marker\": {\"color\": \"rgb(0,116,217)\"}, \"mode\": \"lines\", \"type\": \"scatter\", \"x\": [499.9897575378418, 499.9897575378418, 6255.793190002441, 6255.793190002441], \"xaxis\": \"x\", \"y\": [11.194456399041725, 13.063925536971158, 13.063925536971158, 11.96916293104566], \"yaxis\": \"y\"}],\n",
       "                        {\"autosize\": false, \"height\": 1200, \"hovermode\": \"closest\", \"showlegend\": false, \"template\": {\"data\": {\"bar\": [{\"error_x\": {\"color\": \"#2a3f5f\"}, \"error_y\": {\"color\": \"#2a3f5f\"}, \"marker\": {\"line\": {\"color\": \"#E5ECF6\", \"width\": 0.5}}, \"type\": \"bar\"}], \"barpolar\": [{\"marker\": {\"line\": {\"color\": \"#E5ECF6\", \"width\": 0.5}}, \"type\": \"barpolar\"}], \"carpet\": [{\"aaxis\": {\"endlinecolor\": \"#2a3f5f\", \"gridcolor\": \"white\", \"linecolor\": \"white\", \"minorgridcolor\": \"white\", \"startlinecolor\": \"#2a3f5f\"}, \"baxis\": {\"endlinecolor\": \"#2a3f5f\", \"gridcolor\": \"white\", \"linecolor\": \"white\", \"minorgridcolor\": \"white\", \"startlinecolor\": \"#2a3f5f\"}, \"type\": \"carpet\"}], \"choropleth\": [{\"colorbar\": {\"outlinewidth\": 0, \"ticks\": \"\"}, \"type\": \"choropleth\"}], \"contour\": [{\"colorbar\": {\"outlinewidth\": 0, \"ticks\": \"\"}, \"colorscale\": [[0.0, \"#0d0887\"], [0.1111111111111111, \"#46039f\"], [0.2222222222222222, \"#7201a8\"], [0.3333333333333333, \"#9c179e\"], [0.4444444444444444, \"#bd3786\"], [0.5555555555555556, \"#d8576b\"], [0.6666666666666666, \"#ed7953\"], [0.7777777777777778, \"#fb9f3a\"], [0.8888888888888888, \"#fdca26\"], [1.0, \"#f0f921\"]], \"type\": \"contour\"}], \"contourcarpet\": [{\"colorbar\": {\"outlinewidth\": 0, \"ticks\": \"\"}, \"type\": \"contourcarpet\"}], \"heatmap\": [{\"colorbar\": {\"outlinewidth\": 0, \"ticks\": \"\"}, \"colorscale\": [[0.0, \"#0d0887\"], [0.1111111111111111, \"#46039f\"], [0.2222222222222222, \"#7201a8\"], [0.3333333333333333, \"#9c179e\"], [0.4444444444444444, \"#bd3786\"], [0.5555555555555556, \"#d8576b\"], [0.6666666666666666, \"#ed7953\"], [0.7777777777777778, \"#fb9f3a\"], [0.8888888888888888, \"#fdca26\"], [1.0, \"#f0f921\"]], \"type\": \"heatmap\"}], \"heatmapgl\": [{\"colorbar\": {\"outlinewidth\": 0, \"ticks\": \"\"}, \"colorscale\": [[0.0, \"#0d0887\"], [0.1111111111111111, \"#46039f\"], [0.2222222222222222, \"#7201a8\"], [0.3333333333333333, \"#9c179e\"], [0.4444444444444444, \"#bd3786\"], [0.5555555555555556, \"#d8576b\"], [0.6666666666666666, \"#ed7953\"], [0.7777777777777778, \"#fb9f3a\"], [0.8888888888888888, \"#fdca26\"], [1.0, \"#f0f921\"]], \"type\": \"heatmapgl\"}], \"histogram\": [{\"marker\": {\"colorbar\": {\"outlinewidth\": 0, \"ticks\": \"\"}}, \"type\": \"histogram\"}], \"histogram2d\": [{\"colorbar\": {\"outlinewidth\": 0, \"ticks\": \"\"}, \"colorscale\": [[0.0, \"#0d0887\"], [0.1111111111111111, \"#46039f\"], [0.2222222222222222, \"#7201a8\"], [0.3333333333333333, \"#9c179e\"], [0.4444444444444444, \"#bd3786\"], [0.5555555555555556, \"#d8576b\"], [0.6666666666666666, \"#ed7953\"], [0.7777777777777778, \"#fb9f3a\"], [0.8888888888888888, \"#fdca26\"], [1.0, \"#f0f921\"]], \"type\": \"histogram2d\"}], \"histogram2dcontour\": [{\"colorbar\": {\"outlinewidth\": 0, \"ticks\": \"\"}, \"colorscale\": [[0.0, \"#0d0887\"], [0.1111111111111111, \"#46039f\"], [0.2222222222222222, \"#7201a8\"], [0.3333333333333333, \"#9c179e\"], [0.4444444444444444, \"#bd3786\"], [0.5555555555555556, \"#d8576b\"], [0.6666666666666666, \"#ed7953\"], [0.7777777777777778, \"#fb9f3a\"], [0.8888888888888888, \"#fdca26\"], [1.0, \"#f0f921\"]], \"type\": \"histogram2dcontour\"}], \"mesh3d\": [{\"colorbar\": {\"outlinewidth\": 0, \"ticks\": \"\"}, \"type\": \"mesh3d\"}], \"parcoords\": [{\"line\": {\"colorbar\": {\"outlinewidth\": 0, \"ticks\": \"\"}}, \"type\": \"parcoords\"}], \"scatter\": [{\"marker\": {\"colorbar\": {\"outlinewidth\": 0, \"ticks\": \"\"}}, \"type\": \"scatter\"}], \"scatter3d\": [{\"line\": {\"colorbar\": {\"outlinewidth\": 0, \"ticks\": \"\"}}, \"marker\": {\"colorbar\": {\"outlinewidth\": 0, \"ticks\": \"\"}}, \"type\": \"scatter3d\"}], \"scattercarpet\": [{\"marker\": {\"colorbar\": {\"outlinewidth\": 0, \"ticks\": \"\"}}, \"type\": \"scattercarpet\"}], \"scattergeo\": [{\"marker\": {\"colorbar\": {\"outlinewidth\": 0, \"ticks\": \"\"}}, \"type\": \"scattergeo\"}], \"scattergl\": [{\"marker\": {\"colorbar\": {\"outlinewidth\": 0, \"ticks\": \"\"}}, \"type\": \"scattergl\"}], \"scattermapbox\": [{\"marker\": {\"colorbar\": {\"outlinewidth\": 0, \"ticks\": \"\"}}, \"type\": \"scattermapbox\"}], \"scatterpolar\": [{\"marker\": {\"colorbar\": {\"outlinewidth\": 0, \"ticks\": \"\"}}, \"type\": \"scatterpolar\"}], \"scatterpolargl\": [{\"marker\": {\"colorbar\": {\"outlinewidth\": 0, \"ticks\": \"\"}}, \"type\": \"scatterpolargl\"}], \"scatterternary\": [{\"marker\": {\"colorbar\": {\"outlinewidth\": 0, \"ticks\": \"\"}}, \"type\": \"scatterternary\"}], \"surface\": [{\"colorbar\": {\"outlinewidth\": 0, \"ticks\": \"\"}, \"colorscale\": [[0.0, \"#0d0887\"], [0.1111111111111111, \"#46039f\"], [0.2222222222222222, \"#7201a8\"], [0.3333333333333333, \"#9c179e\"], [0.4444444444444444, \"#bd3786\"], [0.5555555555555556, \"#d8576b\"], [0.6666666666666666, \"#ed7953\"], [0.7777777777777778, \"#fb9f3a\"], [0.8888888888888888, \"#fdca26\"], [1.0, \"#f0f921\"]], \"type\": \"surface\"}], \"table\": [{\"cells\": {\"fill\": {\"color\": \"#EBF0F8\"}, \"line\": {\"color\": \"white\"}}, \"header\": {\"fill\": {\"color\": \"#C8D4E3\"}, \"line\": {\"color\": \"white\"}}, \"type\": \"table\"}]}, \"layout\": {\"annotationdefaults\": {\"arrowcolor\": \"#2a3f5f\", \"arrowhead\": 0, \"arrowwidth\": 1}, \"colorscale\": {\"diverging\": [[0, \"#8e0152\"], [0.1, \"#c51b7d\"], [0.2, \"#de77ae\"], [0.3, \"#f1b6da\"], [0.4, \"#fde0ef\"], [0.5, \"#f7f7f7\"], [0.6, \"#e6f5d0\"], [0.7, \"#b8e186\"], [0.8, \"#7fbc41\"], [0.9, \"#4d9221\"], [1, \"#276419\"]], \"sequential\": [[0.0, \"#0d0887\"], [0.1111111111111111, \"#46039f\"], [0.2222222222222222, \"#7201a8\"], [0.3333333333333333, \"#9c179e\"], [0.4444444444444444, \"#bd3786\"], [0.5555555555555556, \"#d8576b\"], [0.6666666666666666, \"#ed7953\"], [0.7777777777777778, \"#fb9f3a\"], [0.8888888888888888, \"#fdca26\"], [1.0, \"#f0f921\"]], \"sequentialminus\": [[0.0, \"#0d0887\"], [0.1111111111111111, \"#46039f\"], [0.2222222222222222, \"#7201a8\"], [0.3333333333333333, \"#9c179e\"], [0.4444444444444444, \"#bd3786\"], [0.5555555555555556, \"#d8576b\"], [0.6666666666666666, \"#ed7953\"], [0.7777777777777778, \"#fb9f3a\"], [0.8888888888888888, \"#fdca26\"], [1.0, \"#f0f921\"]]}, \"colorway\": [\"#636efa\", \"#EF553B\", \"#00cc96\", \"#ab63fa\", \"#FFA15A\", \"#19d3f3\", \"#FF6692\", \"#B6E880\", \"#FF97FF\", \"#FECB52\"], \"font\": {\"color\": \"#2a3f5f\"}, \"geo\": {\"bgcolor\": \"white\", \"lakecolor\": \"white\", \"landcolor\": \"#E5ECF6\", \"showlakes\": true, \"showland\": true, \"subunitcolor\": \"white\"}, \"hoverlabel\": {\"align\": \"left\"}, \"hovermode\": \"closest\", \"mapbox\": {\"style\": \"light\"}, \"paper_bgcolor\": \"white\", \"plot_bgcolor\": \"#E5ECF6\", \"polar\": {\"angularaxis\": {\"gridcolor\": \"white\", \"linecolor\": \"white\", \"ticks\": \"\"}, \"bgcolor\": \"#E5ECF6\", \"radialaxis\": {\"gridcolor\": \"white\", \"linecolor\": \"white\", \"ticks\": \"\"}}, \"scene\": {\"xaxis\": {\"backgroundcolor\": \"#E5ECF6\", \"gridcolor\": \"white\", \"gridwidth\": 2, \"linecolor\": \"white\", \"showbackground\": true, \"ticks\": \"\", \"zerolinecolor\": \"white\"}, \"yaxis\": {\"backgroundcolor\": \"#E5ECF6\", \"gridcolor\": \"white\", \"gridwidth\": 2, \"linecolor\": \"white\", \"showbackground\": true, \"ticks\": \"\", \"zerolinecolor\": \"white\"}, \"zaxis\": {\"backgroundcolor\": \"#E5ECF6\", \"gridcolor\": \"white\", \"gridwidth\": 2, \"linecolor\": \"white\", \"showbackground\": true, \"ticks\": \"\", \"zerolinecolor\": \"white\"}}, \"shapedefaults\": {\"line\": {\"color\": \"#2a3f5f\"}}, \"ternary\": {\"aaxis\": {\"gridcolor\": \"white\", \"linecolor\": \"white\", \"ticks\": \"\"}, \"baxis\": {\"gridcolor\": \"white\", \"linecolor\": \"white\", \"ticks\": \"\"}, \"bgcolor\": \"#E5ECF6\", \"caxis\": {\"gridcolor\": \"white\", \"linecolor\": \"white\", \"ticks\": \"\"}}, \"title\": {\"x\": 0.05}, \"xaxis\": {\"automargin\": true, \"gridcolor\": \"white\", \"linecolor\": \"white\", \"ticks\": \"\", \"zerolinecolor\": \"white\", \"zerolinewidth\": 2}, \"yaxis\": {\"automargin\": true, \"gridcolor\": \"white\", \"linecolor\": \"white\", \"ticks\": \"\", \"zerolinecolor\": \"white\", \"zerolinewidth\": 2}}}, \"width\": 1200, \"xaxis\": {\"mirror\": \"allticks\", \"rangemode\": \"tozero\", \"showgrid\": false, \"showline\": true, \"showticklabels\": true, \"tickmode\": \"array\", \"ticks\": \"outside\", \"ticktext\": [\"was\", \"he\", \"his\", \"who\", \"had\", \"has\", \"been\", \"their\", \"they\", \"were\", \"on\", \"my\", \"your\", \"since\", \"around\", \"least\", \"system\", \"used\", \"using\", \"old\", \"running\", \"dos\", \"windows\", \"ms\", \"programs\", \"unix\", \"under\", \"current\", \"etc\", \"rules\", \"story\", \"appears\", \"change\", \"argument\", \"statement\", \"original\", \"price\", \"pay\", \"asking\", \"car\", \"bike\", \"engine\", \"food\", \"computer\", \"science\", \"non\", \"government\", \"federal\", \"win\", \"main\", \"power\", \"play\", \"use\", \"should\", \"why\", \"although\", \"reason\", \"reasons\", \"most\", \"very\", \"quite\", \"such\", \"how\", \"many\", \"new\", \"two\", \"between\", \"difference\", \"other\", \"different\", \"these\", \"those\", \"things\", \"right\", \"hand\", \"left\", \"turn\", \"both\", \"either\", \"side\", \"its\", \"our\", \"own\", \"means\", \"whatever\", \"something\", \"nothing\", \"evidence\", \"find\", \"found\", \"anyone\", \"anybody\", \"anything\", \"else\", \"heard\", \"ve\", \"seen\", \"haven\", \"never\", \"ever\", \"she\", \"her\", \"being\", \"without\", \"him\", \"back\", \"ll\", \"go\", \"going\", \"take\", \"look\", \"could\", \"think\", \"might\", \"really\", \"doesn\", \"seem\", \"don\", \"know\", \"again\", \"once\", \"start\", \"try\", \"stop\", \"run\", \"able\", \"money\", \"cost\", \"worth\", \"make\", \"makes\", \"sense\", \"talk\", \"guns\", \"lot\", \"whole\", \"through\", \"faith\", \"order\", \"court\", \"put\", \"together\", \"even\", \"though\", \"after\", \"before\", \"first\", \"second\", \"game\", \"games\", \"season\", \"series\", \"last\", \"night\", \"year\", \"next\", \"here\", \"see\", \"say\", \"let\", \"man\", \"said\", \"says\", \"about\", \"some\", \"any\", \"me\", \"someone\", \"please\", \"post\", \"from\", \"or\", \"at\", \"are\", \"by\", \"be\", \"will\", \"can\", \"only\", \"get\", \"where\", \"you\", \"if\", \"have\", \"would\", \"which\", \"with\", \"an\", \"one\", \"no\", \"more\", \"much\", \"better\", \"than\", \"less\", \"all\", \"us\", \"god\", \"people\", \"them\", \"because\", \"what\", \"we\", \"then\", \"like\", \"just\", \"so\", \"there\", \"may\", \"also\", \"note\", \"getting\", \"thinking\", \"interested\", \"looking\", \"currently\", \"re\", \"doing\", \"wrong\", \"correct\", \"am\", \"now\", \"still\", \"enough\", \"far\", \"away\", \"long\", \"short\", \"term\", \"too\", \"soon\", \"coming\", \"good\", \"bad\", \"idea\", \"well\", \"yes\", \"oh\", \"case\", \"another\", \"yet\", \"as\", \"not\", \"do\", \"does\", \"did\", \"it\", \"but\", \"that\", \"is\", \"this\", \"and\", \"the\", \"of\", \"to\", \"for\", \"0t\", \"date\", \"apr\", \"off\", \"light\", \"comes\", \"goes\", \"down\", \"cut\", \"up\", \"when\", \"time\", \"same\", \"out\", \"into\", \"over\", \"os\", \"comp\", \"pc\", \"mac\", \"ibm\", \"machines\", \"sound\", \"card\", \"video\", \"cards\", \"version\", \"driver\", \"drivers\", \"software\", \"package\", \"includes\", \"public\", \"private\", \"key\", \"keys\", \"word\", \"goal\", \"final\", \"format\", \"moral\", \"objective\", \"user\", \"interface\", \"application\", \"motif\", \"support\", \"hardware\", \"provide\", \"allow\", \"basic\", \"human\", \"rights\", \"life\", \"face\", \"full\", \"value\", \"color\", \"images\", \"display\", \"screen\", \"size\", \"window\", \"manager\", \"graphics\", \"pub\", \"directory\", \"program\", \"file\", \"open\", \"build\", \"name\", \"check\", \"ok\", \"output\", \"entry\", \"section\", \"free\", \"nor\", \"certain\", \"amount\", \"themselves\", \"considered\", \"started\", \"fire\", \"children\", \"dead\", \"big\", \"major\", \"cause\", \"effect\", \"problem\", \"having\", \"problems\", \"nice\", \"condition\", \"great\", \"country\", \"everything\", \"works\", \"fine\", \"way\", \"work\", \"during\", \"world\", \"war\", \"ii\", \"feel\", \"sorry\", \"aren\", \"didn\", \"couldn\", \"real\", \"whether\", \"issue\", \"jesus\", \"christ\", \"love\", \"hear\", \"told\", \"saying\", \"true\", \"come\", \"happen\", \"must\", \"exist\", \"follow\", \"several\", \"past\", \"present\", \"three\", \"four\", \"days\", \"later\", \"couple\", \"ago\", \"months\", \"weeks\", \"years\", \"few\", \"within\", \"week\", \"half\", \"million\", \"day\", \"per\", \"each\", \"every\", \"single\", \"got\", \"came\", \"went\", \"recently\", \"bought\", \"father\", \"son\", \"friend\", \"mine\", \"pretty\", \"looks\", \"sounds\", \"seems\", \"clear\", \"question\", \"answer\", \"important\", \"interesting\", \"made\", \"making\", \"claim\", \"written\", \"point\", \"view\", \"trying\", \"figure\", \"always\", \"tried\", \"everyone\", \"possible\", \"almost\", \"certainly\", \"similar\", \"along\", \"none\", \"further\", \"discussion\", \"serious\", \"comments\", \"questions\", \"asked\", \"specific\", \"mentioned\", \"following\", \"sale\", \"instead\", \"behind\", \"type\", \"kind\", \"sort\", \"happened\", \"situation\", \"sources\", \"parts\", \"various\", \"due\", \"process\", \"early\", \"gas\", \"scsi\", \"fast\", \"chip\", \"clipper\", \"encryption\", \"product\", \"commercial\", \"drives\", \"hard\", \"disk\", \"drive\", \"tape\", \"systems\", \"company\", \"school\", \"technology\", \"market\", \"launch\", \"total\", \"rate\", \"higher\", \"memory\", \"ram\", \"b8f\", \"a86\", \"2di\", \"db\", \"rutgers\", \"home\", \"runs\", \"press\", \"office\", \"bit\", \"little\", \"large\", \"small\", \"number\", \"serial\", \"numbers\", \"thus\", \"space\", \"nasa\", \"gov\", \"research\", \"center\", \"policy\", \"states\", \"united\", \"code\", \"source\", \"state\", \"university\", \"news\", \"usenet\", \"sci\", \"faq\", \"posted\", \"read\", \"write\", \"group\", \"posting\", \"newsgroup\", \"available\", \"via\", \"anonymous\", \"ftp\", \"site\", \"server\", \"mit\", \"american\", \"internet\", \"users\", \"house\", \"white\", \"box\", \"black\", \"young\", \"men\", \"women\", \"common\", \"others\", \"among\", \"police\", \"san\", \"members\", \"family\", \"christian\", \"religious\", \"jewish\", \"arab\", \"history\", \"international\", \"israeli\", \"turkish\", \"greek\", \"society\", \"russian\", \"congress\", \"period\", \"third\", \"jews\", \"armenians\", \"killed\", \"team\", \"hockey\", \"league\", \"baseball\", \"players\", \"teams\", \"best\", \"offer\", \"self\", \"defense\", \"points\", \"record\", \"against\", \"privacy\", \"protect\", \"fbi\", \"special\", \"previous\", \"law\", \"laws\", \"gun\", \"control\", \"armenian\", \"anti\", \"local\", \"bus\", \"standard\", \"mode\", \"legal\", \"political\", \"military\", \"unit\", \"outside\", \"inside\", \"road\", \"division\", \"move\", \"copy\", \"save\", \"willing\", \"designed\", \"longer\", \"necessary\", \"required\", \"lines\", \"crime\", \"front\", \"act\", \"quality\", \"secure\", \"ground\", \"death\", \"shot\", \"including\", \"maybe\", \"perhaps\", \"talking\", \"guy\", \"hit\", \"needed\", \"gets\", \"close\", \"looked\", \"air\", \"force\", \"base\", \"device\", \"command\", \"sent\", \"response\", \"built\", \"cars\", \"performance\", \"plus\", \"tax\", \"weapons\", \"keep\", \"mind\", \"live\", \"shall\", \"israel\", \"subject\", \"matter\", \"guess\", \"opinion\", \"remember\", \"reading\", \"land\", \"population\", \"cover\", \"thing\", \"sure\", \"hope\", \"consider\", \"myself\", \"tell\", \"exactly\", \"explain\", \"call\", \"ask\", \"yourself\", \"action\", \"clearly\", \"taken\", \"taking\", \"takes\", \"place\", \"took\", \"course\", \"knows\", \"wants\", \"except\", \"particular\", \"doubt\", \"actually\", \"however\", \"fact\", \"mean\", \"words\", \"rest\", \"leave\", \"simply\", \"usually\", \"above\", \"below\", \"thought\", \"saw\", \"show\", \"add\", \"suggest\", \"agree\", \"completely\", \"anyway\", \"wouldn\", \"expect\", \"hi\", \"created\", \"living\", \"canada\", \"easy\", \"indeed\", \"today\", \"easily\", \"itself\", \"himself\", \"hell\", \"turkey\", \"truth\", \"believe\", \"christians\", \"ones\", \"involved\", \"become\", \"likely\", \"future\", \"often\", \"church\", \"religion\", \"christianity\", \"bible\", \"according\", \"buy\", \"sell\", \"want\", \"need\", \"wanted\", \"needs\", \"cannot\", \"therefore\", \"assume\", \"hold\", \"understand\", \"accept\", \"carry\", \"result\", \"choice\", \"unless\", \"otherwise\", \"kill\", \"sometimes\", \"probably\", \"won\", \"isn\", \"wasn\", \"already\", \"lost\", \"finally\", \"person\", \"average\", \"machine\", \"attack\", \"applications\", \"normal\", \"example\", \"given\", \"known\", \"cases\", \"medical\", \"board\", \"network\", \"national\", \"radio\", \"tv\", \"cd\", \"player\", \"apple\", \"monitor\", \"controller\", \"security\", \"strong\", \"design\", \"uses\", \"algorithm\", \"position\", \"return\", \"function\", \"based\", \"upon\", \"experience\", \"knowledge\", \"personal\", \"opinions\", \"related\", \"scientific\", \"existence\", \"individual\", \"message\", \"error\", \"part\", \"body\", \"language\", \"done\", \"job\", \"deal\", \"chance\", \"study\", \"results\", \"simple\", \"test\", \"model\", \"report\", \"gave\", \"include\", \"included\", \"complete\", \"form\", \"create\", \"books\", \"theory\", \"mail\", \"send\", \"email\", \"reply\", \"list\", \"address\", \"request\", \"access\", \"contact\", \"information\", \"info\", \"net\", \"peace\", \"give\", \"details\", \"especially\", \"building\", \"business\", \"area\", \"media\", \"working\", \"groups\", \"president\", \"clinton\", \"administration\", \"mouse\", \"city\", \"water\", \"al\", \"called\", \"wrote\", \"help\", \"appreciated\", \"thanks\", \"advance\", \"andrew\", \"interest\", \"general\", \"purpose\", \"care\", \"health\", \"service\", \"insurance\", \"files\", \"data\", \"image\", \"input\", \"dave\", \"phone\", \"fax\", \"earth\", \"red\", \"sun\", \"near\", \"east\", \"set\", \"widget\", \"top\", \"head\", \"line\", \"book\", \"reference\", \"text\", \"stuff\", \"deleted\", \"speed\", \"level\", \"high\", \"low\", \"end\", \"until\", \"while\", \"rather\", \"in\", \"article\", \"de\", \"cc\", \"uiuc\", \"toronto\", \"co\", \"ac\", \"uk\", \"st\", \"vs\", \"la\", \"times\", \"york\", \"april\", \"washington\", \"3t\", \"mark\", \"robert\", \"34u\", \"1d9\", \"bill\", \"mr\", \"stephanopoulos\", \"john\", \"paul\", \"james\", \"mike\", \"michael\", \"dr\", \"bob\", \"edu\", \"cs\", \"com\", \"hp\", \"netcom\", \"writes\", \"ca\", \"steve\", \"jim\", \"david\", \"org\"], \"tickvals\": [5.0, 15.0, 25.0, 35.0, 45.0, 55.0, 65.0, 75.0, 85.0, 95.0, 105.0, 115.0, 125.0, 135.0, 145.0, 155.0, 165.0, 175.0, 185.0, 195.0, 205.0, 215.0, 225.0, 235.0, 245.0, 255.0, 265.0, 275.0, 285.0, 295.0, 305.0, 315.0, 325.0, 335.0, 345.0, 355.0, 365.0, 375.0, 385.0, 395.0, 405.0, 415.0, 425.0, 435.0, 445.0, 455.0, 465.0, 475.0, 485.0, 495.0, 505.0, 515.0, 525.0, 535.0, 545.0, 555.0, 565.0, 575.0, 585.0, 595.0, 605.0, 615.0, 625.0, 635.0, 645.0, 655.0, 665.0, 675.0, 685.0, 695.0, 705.0, 715.0, 725.0, 735.0, 745.0, 755.0, 765.0, 775.0, 785.0, 795.0, 805.0, 815.0, 825.0, 835.0, 845.0, 855.0, 865.0, 875.0, 885.0, 895.0, 905.0, 915.0, 925.0, 935.0, 945.0, 955.0, 965.0, 975.0, 985.0, 995.0, 1005.0, 1015.0, 1025.0, 1035.0, 1045.0, 1055.0, 1065.0, 1075.0, 1085.0, 1095.0, 1105.0, 1115.0, 1125.0, 1135.0, 1145.0, 1155.0, 1165.0, 1175.0, 1185.0, 1195.0, 1205.0, 1215.0, 1225.0, 1235.0, 1245.0, 1255.0, 1265.0, 1275.0, 1285.0, 1295.0, 1305.0, 1315.0, 1325.0, 1335.0, 1345.0, 1355.0, 1365.0, 1375.0, 1385.0, 1395.0, 1405.0, 1415.0, 1425.0, 1435.0, 1445.0, 1455.0, 1465.0, 1475.0, 1485.0, 1495.0, 1505.0, 1515.0, 1525.0, 1535.0, 1545.0, 1555.0, 1565.0, 1575.0, 1585.0, 1595.0, 1605.0, 1615.0, 1625.0, 1635.0, 1645.0, 1655.0, 1665.0, 1675.0, 1685.0, 1695.0, 1705.0, 1715.0, 1725.0, 1735.0, 1745.0, 1755.0, 1765.0, 1775.0, 1785.0, 1795.0, 1805.0, 1815.0, 1825.0, 1835.0, 1845.0, 1855.0, 1865.0, 1875.0, 1885.0, 1895.0, 1905.0, 1915.0, 1925.0, 1935.0, 1945.0, 1955.0, 1965.0, 1975.0, 1985.0, 1995.0, 2005.0, 2015.0, 2025.0, 2035.0, 2045.0, 2055.0, 2065.0, 2075.0, 2085.0, 2095.0, 2105.0, 2115.0, 2125.0, 2135.0, 2145.0, 2155.0, 2165.0, 2175.0, 2185.0, 2195.0, 2205.0, 2215.0, 2225.0, 2235.0, 2245.0, 2255.0, 2265.0, 2275.0, 2285.0, 2295.0, 2305.0, 2315.0, 2325.0, 2335.0, 2345.0, 2355.0, 2365.0, 2375.0, 2385.0, 2395.0, 2405.0, 2415.0, 2425.0, 2435.0, 2445.0, 2455.0, 2465.0, 2475.0, 2485.0, 2495.0, 2505.0, 2515.0, 2525.0, 2535.0, 2545.0, 2555.0, 2565.0, 2575.0, 2585.0, 2595.0, 2605.0, 2615.0, 2625.0, 2635.0, 2645.0, 2655.0, 2665.0, 2675.0, 2685.0, 2695.0, 2705.0, 2715.0, 2725.0, 2735.0, 2745.0, 2755.0, 2765.0, 2775.0, 2785.0, 2795.0, 2805.0, 2815.0, 2825.0, 2835.0, 2845.0, 2855.0, 2865.0, 2875.0, 2885.0, 2895.0, 2905.0, 2915.0, 2925.0, 2935.0, 2945.0, 2955.0, 2965.0, 2975.0, 2985.0, 2995.0, 3005.0, 3015.0, 3025.0, 3035.0, 3045.0, 3055.0, 3065.0, 3075.0, 3085.0, 3095.0, 3105.0, 3115.0, 3125.0, 3135.0, 3145.0, 3155.0, 3165.0, 3175.0, 3185.0, 3195.0, 3205.0, 3215.0, 3225.0, 3235.0, 3245.0, 3255.0, 3265.0, 3275.0, 3285.0, 3295.0, 3305.0, 3315.0, 3325.0, 3335.0, 3345.0, 3355.0, 3365.0, 3375.0, 3385.0, 3395.0, 3405.0, 3415.0, 3425.0, 3435.0, 3445.0, 3455.0, 3465.0, 3475.0, 3485.0, 3495.0, 3505.0, 3515.0, 3525.0, 3535.0, 3545.0, 3555.0, 3565.0, 3575.0, 3585.0, 3595.0, 3605.0, 3615.0, 3625.0, 3635.0, 3645.0, 3655.0, 3665.0, 3675.0, 3685.0, 3695.0, 3705.0, 3715.0, 3725.0, 3735.0, 3745.0, 3755.0, 3765.0, 3775.0, 3785.0, 3795.0, 3805.0, 3815.0, 3825.0, 3835.0, 3845.0, 3855.0, 3865.0, 3875.0, 3885.0, 3895.0, 3905.0, 3915.0, 3925.0, 3935.0, 3945.0, 3955.0, 3965.0, 3975.0, 3985.0, 3995.0, 4005.0, 4015.0, 4025.0, 4035.0, 4045.0, 4055.0, 4065.0, 4075.0, 4085.0, 4095.0, 4105.0, 4115.0, 4125.0, 4135.0, 4145.0, 4155.0, 4165.0, 4175.0, 4185.0, 4195.0, 4205.0, 4215.0, 4225.0, 4235.0, 4245.0, 4255.0, 4265.0, 4275.0, 4285.0, 4295.0, 4305.0, 4315.0, 4325.0, 4335.0, 4345.0, 4355.0, 4365.0, 4375.0, 4385.0, 4395.0, 4405.0, 4415.0, 4425.0, 4435.0, 4445.0, 4455.0, 4465.0, 4475.0, 4485.0, 4495.0, 4505.0, 4515.0, 4525.0, 4535.0, 4545.0, 4555.0, 4565.0, 4575.0, 4585.0, 4595.0, 4605.0, 4615.0, 4625.0, 4635.0, 4645.0, 4655.0, 4665.0, 4675.0, 4685.0, 4695.0, 4705.0, 4715.0, 4725.0, 4735.0, 4745.0, 4755.0, 4765.0, 4775.0, 4785.0, 4795.0, 4805.0, 4815.0, 4825.0, 4835.0, 4845.0, 4855.0, 4865.0, 4875.0, 4885.0, 4895.0, 4905.0, 4915.0, 4925.0, 4935.0, 4945.0, 4955.0, 4965.0, 4975.0, 4985.0, 4995.0, 5005.0, 5015.0, 5025.0, 5035.0, 5045.0, 5055.0, 5065.0, 5075.0, 5085.0, 5095.0, 5105.0, 5115.0, 5125.0, 5135.0, 5145.0, 5155.0, 5165.0, 5175.0, 5185.0, 5195.0, 5205.0, 5215.0, 5225.0, 5235.0, 5245.0, 5255.0, 5265.0, 5275.0, 5285.0, 5295.0, 5305.0, 5315.0, 5325.0, 5335.0, 5345.0, 5355.0, 5365.0, 5375.0, 5385.0, 5395.0, 5405.0, 5415.0, 5425.0, 5435.0, 5445.0, 5455.0, 5465.0, 5475.0, 5485.0, 5495.0, 5505.0, 5515.0, 5525.0, 5535.0, 5545.0, 5555.0, 5565.0, 5575.0, 5585.0, 5595.0, 5605.0, 5615.0, 5625.0, 5635.0, 5645.0, 5655.0, 5665.0, 5675.0, 5685.0, 5695.0, 5705.0, 5715.0, 5725.0, 5735.0, 5745.0, 5755.0, 5765.0, 5775.0, 5785.0, 5795.0, 5805.0, 5815.0, 5825.0, 5835.0, 5845.0, 5855.0, 5865.0, 5875.0, 5885.0, 5895.0, 5905.0, 5915.0, 5925.0, 5935.0, 5945.0, 5955.0, 5965.0, 5975.0, 5985.0, 5995.0, 6005.0, 6015.0, 6025.0, 6035.0, 6045.0, 6055.0, 6065.0, 6075.0, 6085.0, 6095.0, 6105.0, 6115.0, 6125.0, 6135.0, 6145.0, 6155.0, 6165.0, 6175.0, 6185.0, 6195.0, 6205.0, 6215.0, 6225.0, 6235.0, 6245.0, 6255.0, 6265.0, 6275.0, 6285.0, 6295.0, 6305.0, 6315.0, 6325.0, 6335.0, 6345.0, 6355.0, 6365.0, 6375.0, 6385.0, 6395.0, 6405.0, 6415.0, 6425.0, 6435.0, 6445.0, 6455.0, 6465.0, 6475.0, 6485.0, 6495.0, 6505.0, 6515.0, 6525.0, 6535.0, 6545.0, 6555.0, 6565.0, 6575.0, 6585.0, 6595.0, 6605.0, 6615.0, 6625.0, 6635.0, 6645.0, 6655.0, 6665.0, 6675.0, 6685.0, 6695.0, 6705.0, 6715.0, 6725.0, 6735.0, 6745.0, 6755.0, 6765.0, 6775.0, 6785.0, 6795.0, 6805.0, 6815.0, 6825.0, 6835.0, 6845.0, 6855.0, 6865.0, 6875.0, 6885.0, 6895.0, 6905.0, 6915.0, 6925.0, 6935.0, 6945.0, 6955.0, 6965.0, 6975.0, 6985.0, 6995.0, 7005.0, 7015.0, 7025.0, 7035.0, 7045.0, 7055.0, 7065.0, 7075.0, 7085.0, 7095.0, 7105.0, 7115.0, 7125.0, 7135.0, 7145.0, 7155.0, 7165.0, 7175.0, 7185.0, 7195.0, 7205.0, 7215.0, 7225.0, 7235.0, 7245.0, 7255.0, 7265.0, 7275.0, 7285.0, 7295.0, 7305.0, 7315.0, 7325.0, 7335.0, 7345.0, 7355.0, 7365.0, 7375.0, 7385.0, 7395.0, 7405.0, 7415.0, 7425.0, 7435.0, 7445.0, 7455.0, 7465.0, 7475.0, 7485.0, 7495.0, 7505.0, 7515.0, 7525.0, 7535.0, 7545.0, 7555.0, 7565.0, 7575.0, 7585.0, 7595.0, 7605.0, 7615.0, 7625.0, 7635.0, 7645.0, 7655.0, 7665.0, 7675.0, 7685.0, 7695.0, 7705.0, 7715.0, 7725.0, 7735.0, 7745.0, 7755.0, 7765.0, 7775.0, 7785.0, 7795.0, 7805.0, 7815.0, 7825.0, 7835.0, 7845.0, 7855.0, 7865.0, 7875.0, 7885.0, 7895.0, 7905.0, 7915.0, 7925.0, 7935.0, 7945.0, 7955.0, 7965.0, 7975.0, 7985.0, 7995.0, 8005.0, 8015.0, 8025.0, 8035.0, 8045.0, 8055.0, 8065.0, 8075.0, 8085.0, 8095.0, 8105.0, 8115.0, 8125.0, 8135.0, 8145.0, 8155.0, 8165.0, 8175.0, 8185.0, 8195.0, 8205.0, 8215.0, 8225.0, 8235.0, 8245.0, 8255.0, 8265.0, 8275.0, 8285.0, 8295.0, 8305.0, 8315.0, 8325.0, 8335.0, 8345.0, 8355.0, 8365.0, 8375.0, 8385.0, 8395.0, 8405.0, 8415.0, 8425.0, 8435.0, 8445.0, 8455.0, 8465.0, 8475.0, 8485.0, 8495.0, 8505.0, 8515.0, 8525.0, 8535.0, 8545.0, 8555.0, 8565.0, 8575.0, 8585.0, 8595.0, 8605.0, 8615.0, 8625.0, 8635.0, 8645.0, 8655.0, 8665.0, 8675.0, 8685.0, 8695.0, 8705.0, 8715.0, 8725.0, 8735.0, 8745.0, 8755.0, 8765.0, 8775.0, 8785.0, 8795.0, 8805.0, 8815.0, 8825.0, 8835.0, 8845.0, 8855.0, 8865.0, 8875.0, 8885.0, 8895.0, 8905.0, 8915.0, 8925.0, 8935.0, 8945.0, 8955.0, 8965.0, 8975.0, 8985.0, 8995.0, 9005.0, 9015.0, 9025.0, 9035.0, 9045.0, 9055.0, 9065.0, 9075.0, 9085.0, 9095.0, 9105.0, 9115.0, 9125.0, 9135.0, 9145.0, 9155.0, 9165.0, 9175.0, 9185.0, 9195.0, 9205.0, 9215.0, 9225.0, 9235.0, 9245.0, 9255.0, 9265.0, 9275.0, 9285.0, 9295.0, 9305.0], \"type\": \"linear\", \"zeroline\": false}, \"yaxis\": {\"mirror\": \"allticks\", \"rangemode\": \"tozero\", \"showgrid\": false, \"showline\": true, \"showticklabels\": true, \"ticks\": \"outside\", \"type\": \"linear\", \"zeroline\": false}},\n",
       "                        {\"responsive\": true}\n",
       "                    ).then(function(){\n",
       "                            \n",
       "var gd = document.getElementById('5b9f8fac-8726-4c3f-9fb3-78c10fc2d9a7');\n",
       "var x = new MutationObserver(function (mutations, observer) {{\n",
       "        var display = window.getComputedStyle(gd).display;\n",
       "        if (!display || display === 'none') {{\n",
       "            console.log([gd, 'removed!']);\n",
       "            Plotly.purge(gd);\n",
       "            observer.disconnect();\n",
       "        }}\n",
       "}});\n",
       "\n",
       "// Listen for the removal of the full notebook cells\n",
       "var notebookContainer = gd.closest('#notebook-container');\n",
       "if (notebookContainer) {{\n",
       "    x.observe(notebookContainer, {childList: true});\n",
       "}}\n",
       "\n",
       "// Listen for the clearing of the current output cell\n",
       "var outputEl = gd.closest('.output');\n",
       "if (outputEl) {{\n",
       "    x.observe(outputEl, {childList: true});\n",
       "}}\n",
       "\n",
       "                        })\n",
       "                };\n",
       "                });\n",
       "            </script>\n",
       "        </div>"
      ]
     },
     "metadata": {},
     "output_type": "display_data"
    }
   ],
   "source": [
    "fig = ff.create_dendrogram(np.stack(mc_glove.Vector.values, axis=0), labels=mc_glove[\"Word\"].values)\n",
    "fig.update_layout(width=1200, height=1200)\n",
    "fig.show()"
   ]
  },
  {
   "cell_type": "markdown",
   "metadata": {},
   "source": [
    "We can try another clustering algorithm and see if that changes our results"
   ]
  },
  {
   "cell_type": "code",
   "execution_count": 389,
   "metadata": {},
   "outputs": [
    {
     "data": {
      "text/plain": [
       "0.04554279490607367"
      ]
     },
     "execution_count": 389,
     "metadata": {},
     "output_type": "execute_result"
    }
   ],
   "source": [
    "from sklearn.cluster import KMeans\n",
    "KM_w2v = KMeans(n_clusters=NUM_TAGS)\n",
    "KM_w2v.fit(np.stack(mc_w2v.Vector.values, axis=0))\n",
    "ari(KM_w2v.labels_, mc_w2v.POS)"
   ]
  },
  {
   "cell_type": "code",
   "execution_count": 390,
   "metadata": {},
   "outputs": [
    {
     "data": {
      "text/plain": [
       "0.02616784276543452"
      ]
     },
     "execution_count": 390,
     "metadata": {},
     "output_type": "execute_result"
    }
   ],
   "source": [
    "KM_glove = KMeans(n_clusters=NUM_TAGS)\n",
    "KM_glove.fit(np.stack(mc_glove.Vector.values, axis=0))\n",
    "ari(KM_glove.labels_, mc_glove.POS)"
   ]
  },
  {
   "cell_type": "code",
   "execution_count": 391,
   "metadata": {},
   "outputs": [
    {
     "data": {
      "text/plain": [
       "0.19024590215540035"
      ]
     },
     "execution_count": 391,
     "metadata": {},
     "output_type": "execute_result"
    }
   ],
   "source": [
    "KM_counts = KMeans(n_clusters=NUM_TAGS)\n",
    "KM_counts.fit(np.stack(mc_counts.Vector.values, axis=0))\n",
    "ari(KM_counts.labels_, mc_counts.POS)"
   ]
  },
  {
   "cell_type": "code",
   "execution_count": 392,
   "metadata": {},
   "outputs": [
    {
     "data": {
      "text/plain": [
       "0.13287540707315038"
      ]
     },
     "execution_count": 392,
     "metadata": {},
     "output_type": "execute_result"
    }
   ],
   "source": [
    "KM_tfidf = KMeans(n_clusters=NUM_TAGS)\n",
    "KM_tfidf.fit(np.stack(mc_tfidf.Vector.values, axis=0))\n",
    "ari(KM_tfidf.labels_, mc_tfidf.POS)"
   ]
  },
  {
   "cell_type": "code",
   "execution_count": 393,
   "metadata": {},
   "outputs": [
    {
     "data": {
      "text/plain": [
       "0.19768047073243047"
      ]
     },
     "execution_count": 393,
     "metadata": {},
     "output_type": "execute_result"
    }
   ],
   "source": [
    "KM_lsa = KMeans(n_clusters=NUM_TAGS)\n",
    "KM_lsa.fit(np.stack(mc_lsa.Vector.values, axis=0))\n",
    "ari(KM_lsa.labels_, mc_lsa.POS)"
   ]
  },
  {
   "cell_type": "markdown",
   "metadata": {},
   "source": [
    "We can now perform DR and view just the embeddings with no clustering..."
   ]
  },
  {
   "cell_type": "code",
   "execution_count": 394,
   "metadata": {},
   "outputs": [],
   "source": [
    "from umap import UMAP\n",
    "umap = UMAP(n_components=2)"
   ]
  },
  {
   "cell_type": "code",
   "execution_count": 395,
   "metadata": {},
   "outputs": [],
   "source": [
    "umap_w2v = umap.fit_transform(np.stack(mc_w2v.Vector.values, axis=0))\n",
    "umap_glove = umap.fit_transform(np.stack(mc_glove.Vector.values, axis=0))\n",
    "umap_counts = umap.fit_transform(np.stack(mc_counts.Vector.values, axis=0))\n",
    "umap_tfidf = umap.fit_transform(np.stack(mc_tfidf.Vector.values, axis=0))\n",
    "umap_lsa = umap.fit_transform(np.stack(mc_lsa.Vector.values, axis=0))"
   ]
  },
  {
   "cell_type": "code",
   "execution_count": 396,
   "metadata": {},
   "outputs": [],
   "source": [
    "import plotly.express as px\n",
    "\n",
    "def view_2D(points):\n",
    "    temp = pd.DataFrame(points, columns=[\"x\", \"y\"])\n",
    "    temp[\"Word\"] = mc_w2v.Word.values\n",
    "    temp[\"POS\"] = mc_w2v.POS.values\n",
    "    fig = px.scatter(temp, x=\"x\", y=\"y\", text=\"Word\", color=\"POS\")\n",
    "    fig.update_traces(textposition=\"top center\")\n",
    "    fig.show()"
   ]
  },
  {
   "cell_type": "code",
   "execution_count": 397,
   "metadata": {},
   "outputs": [
    {
     "data": {
      "application/vnd.plotly.v1+json": {
       "config": {
        "plotlyServerURL": "https://plot.ly"
       },
       "data": [
        {
         "hoverlabel": {
          "namelength": 0
         },
         "hovertemplate": "POS=DET<br>x=%{x}<br>y=%{y}<br>Word=%{text}",
         "legendgroup": "POS=DET",
         "marker": {
          "color": "#636efa",
          "symbol": "circle"
         },
         "mode": "markers+text",
         "name": "POS=DET",
         "showlegend": true,
         "text": [
          "the",
          "this",
          "an",
          "all",
          "no",
          "any",
          "some",
          "which",
          "these",
          "those",
          "both",
          "another",
          "each",
          "every",
          "either",
          "whatever"
         ],
         "textposition": "top center",
         "type": "scatter",
         "x": [
          3.0406699180603027,
          3.4920272827148438,
          4.286367893218994,
          4.199123859405518,
          3.84169864654541,
          5.317689895629883,
          4.452230453491211,
          3.7578961849212646,
          3.846116065979004,
          3.79135799407959,
          5.971004009246826,
          4.742514133453369,
          6.706572532653809,
          5.130419731140137,
          3.936162233352661,
          5.3884711265563965
         ],
         "xaxis": "x",
         "y": [
          12.866804122924805,
          13.130387306213379,
          14.100046157836914,
          13.405889511108398,
          14.071088790893555,
          13.636087417602539,
          13.883890151977539,
          14.02956485748291,
          14.024603843688965,
          14.141472816467285,
          14.203895568847656,
          13.591004371643066,
          13.995092391967773,
          13.793453216552734,
          14.094807624816895,
          14.936158180236816
         ],
         "yaxis": "y"
        },
        {
         "hoverlabel": {
          "namelength": 0
         },
         "hovertemplate": "POS=PRT<br>x=%{x}<br>y=%{y}<br>Word=%{text}",
         "legendgroup": "POS=PRT",
         "marker": {
          "color": "#EF553B",
          "symbol": "circle"
         },
         "mode": "markers+text",
         "name": "POS=PRT",
         "showlegend": true,
         "text": [
          "to"
         ],
         "textposition": "top center",
         "type": "scatter",
         "x": [
          3.1002984046936035
         ],
         "xaxis": "x",
         "y": [
          12.9259672164917
         ],
         "yaxis": "y"
        },
        {
         "hoverlabel": {
          "namelength": 0
         },
         "hovertemplate": "POS=ADP<br>x=%{x}<br>y=%{y}<br>Word=%{text}",
         "legendgroup": "POS=ADP",
         "marker": {
          "color": "#00cc96",
          "symbol": "circle"
         },
         "mode": "markers+text",
         "name": "POS=ADP",
         "showlegend": true,
         "text": [
          "of",
          "in",
          "that",
          "for",
          "on",
          "with",
          "as",
          "if",
          "from",
          "by",
          "at",
          "about",
          "out",
          "like",
          "than",
          "because",
          "into",
          "over",
          "after",
          "off",
          "since",
          "before",
          "while",
          "without",
          "through",
          "under",
          "between",
          "around",
          "against",
          "though",
          "above",
          "whether",
          "during",
          "until",
          "although",
          "unless",
          "per",
          "within",
          "except",
          "among",
          "via",
          "upon",
          "near",
          "behind",
          "along",
          "outside",
          "below",
          "inside"
         ],
         "textposition": "top center",
         "type": "scatter",
         "x": [
          3.096916675567627,
          3.1687095165252686,
          3.1963274478912354,
          3.535062074661255,
          3.5144622325897217,
          3.6244757175445557,
          3.897665500640869,
          3.857926845550537,
          4.161438465118408,
          4.20709753036499,
          4.718836307525635,
          4.675570487976074,
          4.78231954574585,
          3.7226362228393555,
          3.3193206787109375,
          3.659775733947754,
          4.34585428237915,
          4.886635780334473,
          5.432581901550293,
          6.01154899597168,
          4.015608787536621,
          5.139104843139648,
          4.669465065002441,
          4.577203273773193,
          4.529775142669678,
          6.795636177062988,
          5.420121192932129,
          5.827098846435547,
          4.9475250244140625,
          4.278160572052002,
          5.463635444641113,
          4.401147365570068,
          5.643674373626709,
          5.37858772277832,
          5.594532012939453,
          4.762901306152344,
          7.379566669464111,
          5.983815670013428,
          3.4885270595550537,
          5.995610237121582,
          8.433472633361816,
          4.955604553222656,
          7.028474807739258,
          5.962007522583008,
          5.863627910614014,
          6.2954206466674805,
          7.596433162689209,
          6.412032127380371
         ],
         "xaxis": "x",
         "y": [
          12.92577838897705,
          12.900883674621582,
          13.025440216064453,
          13.193047523498535,
          13.31878662109375,
          13.313068389892578,
          13.712528228759766,
          13.241206169128418,
          13.71558952331543,
          14.05122184753418,
          14.031959533691406,
          13.653425216674805,
          12.93913459777832,
          15.183985710144043,
          14.507057189941406,
          13.793642044067383,
          14.512860298156738,
          13.215150833129883,
          12.871420860290527,
          13.20181655883789,
          13.386991500854492,
          12.955460548400879,
          13.066370010375977,
          14.238624572753906,
          14.065545082092285,
          14.679261207580566,
          14.547725677490234,
          13.751993179321289,
          15.584494590759277,
          13.671454429626465,
          14.828089714050293,
          14.796652793884277,
          16.477458953857422,
          13.07193660736084,
          13.888209342956543,
          13.801616668701172,
          12.859943389892578,
          14.61008358001709,
          15.421810150146484,
          15.940048217773438,
          13.971915245056152,
          15.381937980651855,
          15.062573432922363,
          13.415916442871094,
          13.896514892578125,
          13.647090911865234,
          14.991130828857422,
          12.502153396606445
         ],
         "yaxis": "y"
        },
        {
         "hoverlabel": {
          "namelength": 0
         },
         "hovertemplate": "POS=CONJ<br>x=%{x}<br>y=%{y}<br>Word=%{text}",
         "legendgroup": "POS=CONJ",
         "marker": {
          "color": "#ab63fa",
          "symbol": "circle"
         },
         "mode": "markers+text",
         "name": "POS=CONJ",
         "showlegend": true,
         "text": [
          "and",
          "or",
          "but",
          "plus",
          "nor"
         ],
         "textposition": "top center",
         "type": "scatter",
         "x": [
          3.1165904998779297,
          3.592486619949341,
          3.494300127029419,
          7.390290260314941,
          4.974185943603516
         ],
         "xaxis": "x",
         "y": [
          12.947943687438965,
          13.6602783203125,
          13.159602165222168,
          15.286161422729492,
          15.553278923034668
         ],
         "yaxis": "y"
        },
        {
         "hoverlabel": {
          "namelength": 0
         },
         "hovertemplate": "POS=VERB<br>x=%{x}<br>y=%{y}<br>Word=%{text}",
         "legendgroup": "POS=VERB",
         "marker": {
          "color": "#FFA15A",
          "symbol": "circle"
         },
         "mode": "markers+text",
         "name": "POS=VERB",
         "showlegend": true,
         "text": [
          "is",
          "be",
          "are",
          "have",
          "was",
          "can",
          "will",
          "would",
          "do",
          "has",
          "were",
          "know",
          "get",
          "had",
          "been",
          "does",
          "should",
          "could",
          "am",
          "may",
          "see",
          "make",
          "say",
          "used",
          "being",
          "said",
          "did",
          "go",
          "going",
          "believe",
          "using",
          "find",
          "take",
          "must",
          "might",
          "made",
          "got",
          "let",
          "come",
          "give",
          "seems",
          "run",
          "says",
          "ca",
          "called",
          "based",
          "done",
          "having",
          "keep",
          "following",
          "doing",
          "looking",
          "seen",
          "trying",
          "wrote",
          "given",
          "getting",
          "makes",
          "remember",
          "running",
          "came",
          "saying",
          "went",
          "buy",
          "including",
          "comes",
          "working",
          "posting",
          "started",
          "known",
          "tried",
          "consider",
          "making",
          "took",
          "talking",
          "killed",
          "asked",
          "goes",
          "taken",
          "posted",
          "wanted",
          "written",
          "happened",
          "interesting",
          "gets",
          "assume",
          "add",
          "includes",
          "lost",
          "coming",
          "considered",
          "happen",
          "allow",
          "taking",
          "mentioned",
          "expect",
          "thinking",
          "needed",
          "according",
          "involved",
          "appreciated",
          "included",
          "leave",
          "save",
          "follow",
          "deleted",
          "created",
          "shall",
          "asking",
          "required",
          "wants",
          "looked",
          "takes",
          "appears",
          "gave",
          "designed"
         ],
         "textposition": "top center",
         "type": "scatter",
         "x": [
          3.1728577613830566,
          3.343289852142334,
          3.5434412956237793,
          3.629530906677246,
          5.429306983947754,
          4.077420711517334,
          4.466700553894043,
          3.483570098876953,
          3.7540171146392822,
          4.164933204650879,
          5.337967395782471,
          4.413309097290039,
          4.95045804977417,
          5.650511264801025,
          4.13669490814209,
          4.108870506286621,
          4.287794589996338,
          4.847309112548828,
          3.3884243965148926,
          3.9271440505981445,
          3.9388866424560547,
          4.168065071105957,
          4.229976654052734,
          7.184195041656494,
          4.172964096069336,
          5.472723484039307,
          5.431859493255615,
          5.408628940582275,
          5.686990737915039,
          4.024811267852783,
          8.119524955749512,
          6.43136739730835,
          5.249368667602539,
          5.006897449493408,
          5.363938808441162,
          4.614617824554443,
          5.880558967590332,
          5.055840969085693,
          3.3515615463256836,
          4.753983020782471,
          4.4039740562438965,
          8.68503475189209,
          6.2809271812438965,
          6.709809303283691,
          6.0065693855285645,
          5.4209980964660645,
          5.197009086608887,
          7.039468765258789,
          5.066988468170166,
          7.868956565856934,
          4.894052028656006,
          7.516955375671387,
          5.635295391082764,
          3.390223741531372,
          5.212024211883545,
          4.591763496398926,
          5.607716083526611,
          4.508913040161133,
          6.1794939041137695,
          8.465972900390625,
          5.593181610107422,
          4.637578964233398,
          5.782700538635254,
          7.571146011352539,
          7.583856105804443,
          7.7302422523498535,
          7.345709800720215,
          5.796875953674316,
          6.254868030548096,
          5.053806304931641,
          7.263348579406738,
          5.063241958618164,
          7.373892784118652,
          5.913857460021973,
          3.4197707176208496,
          6.417483329772949,
          5.346168041229248,
          5.542510032653809,
          5.553067684173584,
          7.465086460113525,
          5.8846659660339355,
          7.519712448120117,
          6.428859233856201,
          5.6829752922058105,
          6.5901970863342285,
          5.214515209197998,
          7.44179105758667,
          7.670965671539307,
          7.6811041831970215,
          6.145480155944824,
          5.955976486206055,
          6.566898822784424,
          7.936712265014648,
          5.511122226715088,
          7.29885196685791,
          5.604081630706787,
          6.937134265899658,
          7.085171222686768,
          6.7588300704956055,
          6.107110977172852,
          7.519121170043945,
          7.333669662475586,
          6.8219523429870605,
          7.4280924797058105,
          4.6678466796875,
          5.867543697357178,
          6.660156726837158,
          5.307600498199463,
          7.369340896606445,
          7.161919116973877,
          7.202843189239502,
          6.643430233001709,
          5.740698337554932,
          8.280591011047363,
          5.809187412261963,
          7.696662902832031
         ],
         "xaxis": "x",
         "y": [
          12.993791580200195,
          13.334924697875977,
          13.706388473510742,
          13.223735809326172,
          12.349373817443848,
          13.69954776763916,
          13.970281600952148,
          13.511065483093262,
          13.850164413452148,
          13.156135559082031,
          12.296326637268066,
          13.397068977355957,
          13.75855827331543,
          12.471555709838867,
          13.161826133728027,
          14.917240142822266,
          14.476578712463379,
          14.666276931762695,
          15.135812759399414,
          13.95392894744873,
          13.508291244506836,
          13.565608024597168,
          14.62253475189209,
          14.882928848266602,
          14.232430458068848,
          12.477737426757812,
          12.291685104370117,
          13.686602592468262,
          13.40903377532959,
          15.108125686645508,
          15.820878982543945,
          14.234313011169434,
          13.117340087890625,
          15.927377700805664,
          14.970686912536621,
          13.28190803527832,
          12.697179794311523,
          13.893831253051758,
          15.495306015014648,
          13.283361434936523,
          14.33957290649414,
          15.480992317199707,
          15.338506698608398,
          16.20447540283203,
          14.475823402404785,
          14.528599739074707,
          14.33424186706543,
          13.102840423583984,
          13.969883918762207,
          14.704733848571777,
          14.089494705200195,
          14.138187408447266,
          13.403182983398438,
          15.43149471282959,
          12.82960033416748,
          14.486557006835938,
          13.273148536682129,
          14.549949645996094,
          13.985225677490234,
          14.999603271484375,
          12.49975872039795,
          15.12841510772705,
          12.455527305603027,
          15.611132621765137,
          14.820672988891602,
          14.389663696289062,
          13.677430152893066,
          15.323086738586426,
          12.31570816040039,
          14.752793312072754,
          13.517900466918945,
          15.590044021606445,
          12.833710670471191,
          12.657949447631836,
          15.560242652893066,
          15.743673324584961,
          14.773740768432617,
          14.024511337280273,
          13.085138320922852,
          14.338831901550293,
          12.933038711547852,
          15.136616706848145,
          13.128119468688965,
          14.969572067260742,
          14.005517959594727,
          14.767008781433105,
          16.04436492919922,
          14.870491981506348,
          14.207585334777832,
          13.552331924438477,
          15.764122009277344,
          14.152383804321289,
          15.669783592224121,
          13.229403495788574,
          15.465896606445312,
          14.592181205749512,
          15.360551834106445,
          16.07774543762207,
          15.236629486083984,
          14.784353256225586,
          13.981953620910645,
          15.180924415588379,
          15.155068397521973,
          15.545150756835938,
          15.557788848876953,
          14.772676467895508,
          15.365964889526367,
          15.61462688446045,
          14.975648880004883,
          16.49962043762207,
          15.275847434997559,
          13.367537498474121,
          14.099692344665527,
          14.873215675354004,
          12.757207870483398,
          16.135984420776367
         ],
         "yaxis": "y"
        },
        {
         "hoverlabel": {
          "namelength": 0
         },
         "hovertemplate": "POS=PRON<br>x=%{x}<br>y=%{y}<br>Word=%{text}",
         "legendgroup": "POS=PRON",
         "marker": {
          "color": "#19d3f3",
          "symbol": "circle"
         },
         "mode": "markers+text",
         "name": "POS=PRON",
         "showlegend": true,
         "text": [
          "it",
          "you",
          "they",
          "what",
          "my",
          "we",
          "he",
          "your",
          "me",
          "who",
          "their",
          "them",
          "his",
          "us",
          "our",
          "its",
          "him",
          "she",
          "her",
          "themselves",
          "itself",
          "myself",
          "himself",
          "yourself"
         ],
         "textposition": "top center",
         "type": "scatter",
         "x": [
          3.240206003189087,
          3.607846736907959,
          3.689152717590332,
          3.6441221237182617,
          4.647167682647705,
          4.158274173736572,
          5.227258205413818,
          3.8770995140075684,
          4.52864408493042,
          3.60404372215271,
          3.904208183288574,
          5.0614824295043945,
          5.145440101623535,
          5.461781978607178,
          4.350302696228027,
          5.151195526123047,
          5.172253608703613,
          5.907458782196045,
          5.855329990386963,
          4.7310075759887695,
          5.151280879974365,
          5.923134803771973,
          5.196049690246582,
          6.630733489990234
         ],
         "xaxis": "x",
         "y": [
          13.056344985961914,
          13.410106658935547,
          13.622127532958984,
          14.190718650817871,
          12.978165626525879,
          15.813213348388672,
          12.071940422058105,
          14.570784568786621,
          13.490158081054688,
          14.15146255493164,
          14.354414939880371,
          13.025697708129883,
          12.083160400390625,
          16.433198928833008,
          15.872880935668945,
          14.446759223937988,
          12.05480670928955,
          12.453242301940918,
          12.461663246154785,
          15.788217544555664,
          14.771588325500488,
          14.221879959106445,
          12.270109176635742,
          15.35584831237793
         ],
         "yaxis": "y"
        },
        {
         "hoverlabel": {
          "namelength": 0
         },
         "hovertemplate": "POS=ADV<br>x=%{x}<br>y=%{y}<br>Word=%{text}",
         "legendgroup": "POS=ADV",
         "marker": {
          "color": "#FF6692",
          "symbol": "circle"
         },
         "mode": "markers+text",
         "name": "POS=ADV",
         "showlegend": true,
         "text": [
          "not",
          "there",
          "so",
          "more",
          "when",
          "just",
          "up",
          "only",
          "how",
          "also",
          "then",
          "well",
          "very",
          "even",
          "now",
          "why",
          "first",
          "here",
          "where",
          "too",
          "really",
          "back",
          "still",
          "better",
          "never",
          "down",
          "long",
          "however",
          "probably",
          "again",
          "enough",
          "far",
          "actually",
          "rather",
          "else",
          "less",
          "maybe",
          "always",
          "quite",
          "yet",
          "away",
          "ever",
          "already",
          "once",
          "ago",
          "perhaps",
          "pretty",
          "often",
          "simply",
          "almost",
          "later",
          "instead",
          "certainly",
          "anyway",
          "usually",
          "exactly",
          "thus",
          "especially",
          "therefore",
          "early",
          "recently",
          "sometimes",
          "soon",
          "further",
          "together",
          "close",
          "currently",
          "otherwise",
          "clearly",
          "completely",
          "easily",
          "indeed",
          "finally"
         ],
         "textposition": "top center",
         "type": "scatter",
         "x": [
          3.290253162384033,
          4.530790328979492,
          3.7499473094940186,
          3.362152338027954,
          5.124892234802246,
          5.870465278625488,
          3.240553855895996,
          4.287153244018555,
          4.020599365234375,
          3.67820405960083,
          4.306202411651611,
          4.177619934082031,
          5.064469814300537,
          3.7708988189697266,
          5.28859806060791,
          4.057579040527344,
          6.434086322784424,
          5.384897232055664,
          6.782233238220215,
          4.352158546447754,
          5.366827011108398,
          5.699398040771484,
          5.162558078765869,
          3.3684120178222656,
          5.00862455368042,
          5.880070686340332,
          5.14829683303833,
          3.9485673904418945,
          5.119101524353027,
          4.724161148071289,
          5.115910053253174,
          4.1217803955078125,
          4.282229900360107,
          3.3669910430908203,
          4.83920431137085,
          3.4027328491210938,
          3.4960968494415283,
          4.932099342346191,
          4.840701103210449,
          5.312767505645752,
          5.394958019256592,
          5.899050712585449,
          5.94101619720459,
          4.871753215789795,
          6.769552707672119,
          4.9007039070129395,
          3.4418344497680664,
          4.725793361663818,
          4.252500057220459,
          5.444972038269043,
          6.489476680755615,
          5.850105285644531,
          4.3094635009765625,
          5.179794788360596,
          5.76276969909668,
          4.088814735412598,
          7.408044338226318,
          5.85824728012085,
          4.628904819488525,
          7.040521621704102,
          7.463484764099121,
          7.967776298522949,
          6.656790256500244,
          5.574990749359131,
          6.913528919219971,
          6.25867223739624,
          7.992336273193359,
          7.10919189453125,
          5.416274547576904,
          6.30512809753418,
          7.133670330047607,
          5.07873010635376,
          6.276416778564453
         ],
         "xaxis": "x",
         "y": [
          13.075491905212402,
          13.91049861907959,
          13.372920036315918,
          14.423108100891113,
          13.125934600830078,
          12.9878568649292,
          15.358835220336914,
          13.384279251098633,
          14.629876136779785,
          14.332207679748535,
          13.033732414245605,
          13.635828971862793,
          14.22863483428955,
          13.605789184570312,
          13.365562438964844,
          14.920625686645508,
          13.633296966552734,
          14.016341209411621,
          12.990041732788086,
          14.20337963104248,
          13.946240425109863,
          12.482595443725586,
          13.56477165222168,
          14.552229881286621,
          13.166789054870605,
          13.264440536499023,
          13.446623802185059,
          13.901796340942383,
          14.09829044342041,
          13.054882049560547,
          14.222228050231934,
          13.755966186523438,
          14.015339851379395,
          14.517065048217773,
          13.844051361083984,
          14.541827201843262,
          15.414875984191895,
          13.72878360748291,
          14.235733032226562,
          13.745622634887695,
          12.835086822509766,
          14.14895248413086,
          13.991360664367676,
          13.251419067382812,
          12.959127426147461,
          14.92159366607666,
          15.228041648864746,
          14.47259521484375,
          14.419007301330566,
          13.891128540039062,
          13.3854341506958,
          14.852715492248535,
          14.159860610961914,
          13.927863121032715,
          15.483516693115234,
          14.462583541870117,
          16.603275299072266,
          14.040023803710938,
          15.369916915893555,
          15.048213958740234,
          14.0619478225708,
          15.356542587280273,
          15.525452613830566,
          15.018043518066406,
          14.160947799682617,
          14.048418045043945,
          14.320409774780273,
          15.415848731994629,
          15.200562477111816,
          14.374567985534668,
          14.706625938415527,
          15.041739463806152,
          13.178415298461914
         ],
         "yaxis": "y"
        },
        {
         "hoverlabel": {
          "namelength": 0
         },
         "hovertemplate": "POS=NUM<br>x=%{x}<br>y=%{y}<br>Word=%{text}",
         "legendgroup": "POS=NUM",
         "marker": {
          "color": "#B6E880",
          "symbol": "circle"
         },
         "mode": "markers+text",
         "name": "POS=NUM",
         "showlegend": true,
         "text": [
          "one",
          "two",
          "three",
          "34u",
          "1d9",
          "0t",
          "four",
          "3t",
          "2di",
          "million"
         ],
         "textposition": "top center",
         "type": "scatter",
         "x": [
          4.4097514152526855,
          6.626338005065918,
          6.652380466461182,
          6.97009801864624,
          7.163669109344482,
          7.300713062286377,
          6.7713422775268555,
          6.750620365142822,
          6.962210178375244,
          6.306136131286621
         ],
         "xaxis": "x",
         "y": [
          13.387212753295898,
          13.470932006835938,
          13.556108474731445,
          15.622173309326172,
          15.201191902160645,
          15.203788757324219,
          13.8588285446167,
          14.956483840942383,
          15.213040351867676,
          16.40302276611328
         ],
         "yaxis": "y"
        },
        {
         "hoverlabel": {
          "namelength": 0
         },
         "hovertemplate": "POS=NOUN<br>x=%{x}<br>y=%{y}<br>Word=%{text}",
         "legendgroup": "POS=NOUN",
         "marker": {
          "color": "#FF97FF",
          "symbol": "circle"
         },
         "mode": "markers+text",
         "name": "POS=NOUN",
         "showlegend": true,
         "text": [
          "writes",
          "article",
          "edu",
          "people",
          "don",
          "think",
          "use",
          "com",
          "time",
          "way",
          "god",
          "right",
          "system",
          "ve",
          "re",
          "want",
          "anyone",
          "need",
          "something",
          "problem",
          "work",
          "year",
          "file",
          "please",
          "point",
          "years",
          "information",
          "ll",
          "government",
          "things",
          "windows",
          "program",
          "number",
          "question",
          "sure",
          "etc",
          "help",
          "bit",
          "read",
          "space",
          "thanks",
          "data",
          "drive",
          "mail",
          "world",
          "someone",
          "doesn",
          "case",
          "thing",
          "key",
          "power",
          "look",
          "law",
          "didn",
          "part",
          "cs",
          "fact",
          "state",
          "anything",
          "day",
          "name",
          "set",
          "tell",
          "course",
          "news",
          "put",
          "line",
          "lot",
          "car",
          "list",
          "try",
          "jesus",
          "game",
          "end",
          "software",
          "b8f",
          "life",
          "team",
          "non",
          "window",
          "post",
          "mean",
          "support",
          "public",
          "group",
          "example",
          "nothing",
          "found",
          "reason",
          "send",
          "mr",
          "version",
          "card",
          "order",
          "call",
          "person",
          "gun",
          "files",
          "problems",
          "computer",
          "thought",
          "others",
          "yes",
          "place",
          "chip",
          "isn",
          "left",
          "man",
          "a86",
          "heard",
          "times",
          "control",
          "means",
          "israel",
          "john",
          "won",
          "start",
          "subject",
          "info",
          "idea",
          "note",
          "email",
          "dos",
          "play",
          "david",
          "code",
          "scsi",
          "seem",
          "access",
          "kind",
          "jews",
          "book",
          "source",
          "ftp",
          "image",
          "sun",
          "university",
          "cannot",
          "evidence",
          "money",
          "human",
          "pc",
          "disk",
          "today",
          "christian",
          "mac",
          "systems",
          "issue",
          "president",
          "graphics",
          "children",
          "told",
          "ask",
          "research",
          "nasa",
          "questions",
          "win",
          "change",
          "speed",
          "home",
          "answer",
          "games",
          "word",
          "standard",
          "states",
          "encryption",
          "net",
          "works",
          "price",
          "type",
          "rights",
          "memory",
          "hand",
          "address",
          "hope",
          "show",
          "stuff",
          "server",
          "side",
          "war",
          "days",
          "check",
          "message",
          "cost",
          "matter",
          "color",
          "april",
          "output",
          "feel",
          "agree",
          "science",
          "everyone",
          "phone",
          "everything",
          "center",
          "display",
          "db",
          "include",
          "mark",
          "understand",
          "claim",
          "ac",
          "cause",
          "machine",
          "bill",
          "area",
          "provide",
          "wouldn",
          "apple",
          "package",
          "season",
          "anybody",
          "men",
          "programs",
          "hp",
          "truth",
          "care",
          "technology",
          "guess",
          "history",
          "religion",
          "christians",
          "turkish",
          "write",
          "security",
          "church",
          "armenians",
          "size",
          "pub",
          "country",
          "mind",
          "video",
          "cc",
          "mit",
          "keys",
          "house",
          "ibm",
          "difference",
          "sort",
          "numbers",
          "couple",
          "argument",
          "hardware",
          "period",
          "application",
          "correct",
          "internet",
          "talk",
          "gov",
          "screen",
          "ok",
          "faith",
          "level",
          "police",
          "service",
          "earth",
          "clipper",
          "driver",
          "christ",
          "faq",
          "love",
          "saw",
          "contact",
          "players",
          "top",
          "groups",
          "hockey",
          "box",
          "body",
          "fast",
          "experience",
          "death",
          "user",
          "press",
          "hi",
          "deal",
          "uses",
          "hell",
          "pay",
          "city",
          "simple",
          "reading",
          "uk",
          "org",
          "value",
          "sense",
          "vs",
          "jewish",
          "points",
          "exist",
          "fine",
          "week",
          "words",
          "force",
          "build",
          "bike",
          "copy",
          "paul",
          "head",
          "ms",
          "view",
          "guns",
          "stop",
          "board",
          "turn",
          "entry",
          "mode",
          "washington",
          "runs",
          "light",
          "lines",
          "rate",
          "self",
          "bus",
          "fire",
          "steve",
          "return",
          "position",
          "sound",
          "drivers",
          "league",
          "hit",
          "laws",
          "hear",
          "form",
          "become",
          "health",
          "model",
          "discussion",
          "section",
          "women",
          "built",
          "haven",
          "rest",
          "netcom",
          "business",
          "ones",
          "text",
          "anti",
          "st",
          "oh",
          "situation",
          "weapons",
          "test",
          "advance",
          "aren",
          "past",
          "sorry",
          "front",
          "crime",
          "needs",
          "night",
          "opinion",
          "drives",
          "face",
          "guy",
          "de",
          "uiuc",
          "statement",
          "ground",
          "sell",
          "future",
          "defense",
          "society",
          "wasn",
          "clinton",
          "monitor",
          "looks",
          "unix",
          "effect",
          "job",
          "friend",
          "company",
          "cars",
          "kill",
          "motif",
          "offer",
          "act",
          "books",
          "mouse",
          "error",
          "format",
          "cases",
          "study",
          "process",
          "os",
          "mike",
          "move",
          "users",
          "purpose",
          "water",
          "privacy",
          "cd",
          "accept",
          "result",
          "ram",
          "worth",
          "sources",
          "office",
          "controller",
          "manager",
          "months",
          "policy",
          "rules",
          "half",
          "members",
          "andrew",
          "parts",
          "court",
          "action",
          "directory",
          "widget",
          "sent",
          "date",
          "land",
          "fax",
          "school",
          "present",
          "series",
          "building",
          "radio",
          "co",
          "cut",
          "air",
          "food",
          "network",
          "longer",
          "administration",
          "population",
          "response",
          "reference",
          "robert",
          "york",
          "road",
          "san",
          "sale",
          "request",
          "knows",
          "comments",
          "michael",
          "player",
          "mine",
          "create",
          "knowledge",
          "couldn",
          "interface",
          "fbi",
          "cover",
          "cards",
          "images",
          "story",
          "reply",
          "comp",
          "toronto",
          "tv",
          "hold",
          "performance",
          "quality",
          "jim",
          "la",
          "site",
          "doubt",
          "weeks",
          "report",
          "apr",
          "existence",
          "al",
          "device",
          "explain",
          "media",
          "baseball",
          "father",
          "canada",
          "engine",
          "division",
          "figure",
          "theory",
          "input",
          "teams",
          "james",
          "details",
          "family",
          "product",
          "algorithm",
          "results",
          "congress",
          "stephanopoulos",
          "record",
          "interest",
          "carry",
          "east",
          "goal",
          "design",
          "tape",
          "market",
          "turkey",
          "command",
          "greek",
          "function",
          "living",
          "applications",
          "chance",
          "opinions",
          "launch",
          "term",
          "protect",
          "insurance",
          "objective",
          "ii",
          "christianity",
          "newsgroup",
          "sci",
          "unit",
          "peace",
          "rutgers",
          "bought",
          "gas",
          "base",
          "dr",
          "son",
          "machines",
          "language",
          "amount",
          "usenet",
          "suggest",
          "reasons",
          "dave",
          "bob",
          "none",
          "secure",
          "shot",
          "condition",
          "attack",
          "sounds",
          "arab",
          "tax",
          "choice"
         ],
         "textposition": "top center",
         "type": "scatter",
         "x": [
          3.560277223587036,
          3.5535521507263184,
          3.655362606048584,
          3.873542308807373,
          3.7003817558288574,
          4.128629207611084,
          8.180190086364746,
          3.5699965953826904,
          5.024837493896484,
          4.635122299194336,
          4.225839614868164,
          5.601961135864258,
          7.524853706359863,
          5.47113037109375,
          5.243797302246094,
          5.850674629211426,
          5.604139804840088,
          7.469411849975586,
          4.9941487312316895,
          7.41225004196167,
          7.64581823348999,
          6.66878604888916,
          8.456932067871094,
          8.462718963623047,
          4.360382556915283,
          6.791687965393066,
          8.468972206115723,
          5.7807087898254395,
          6.587247848510742,
          5.224670886993408,
          8.877531051635742,
          8.519068717956543,
          6.649456024169922,
          4.782501697540283,
          4.001863956451416,
          7.230988502502441,
          7.313380241394043,
          6.933200359344482,
          4.891798496246338,
          6.915558815002441,
          8.339624404907227,
          8.230502128601074,
          8.037450790405273,
          8.426875114440918,
          4.0282416343688965,
          4.613912582397461,
          4.333871841430664,
          5.238088130950928,
          4.489078998565674,
          6.925734519958496,
          6.936073303222656,
          5.76564359664917,
          5.525437355041504,
          5.532793998718262,
          5.7491865158081055,
          4.975741386413574,
          4.122319221496582,
          5.660193920135498,
          5.274935245513916,
          5.664981365203857,
          5.126643657684326,
          5.771997451782227,
          4.492913722991943,
          4.780524730682373,
          6.249238967895508,
          4.778675556182861,
          6.569064617156982,
          6.952773571014404,
          6.463626384735107,
          7.724525451660156,
          5.658076286315918,
          4.9103593826293945,
          5.852575302124023,
          5.827416896820068,
          8.343461036682129,
          7.312780857086182,
          4.605069637298584,
          6.312833309173584,
          5.217080593109131,
          8.633496284484863,
          6.502127170562744,
          4.129265785217285,
          6.6350836753845215,
          6.96048641204834,
          7.277613162994385,
          4.485144138336182,
          3.922534704208374,
          5.959091663360596,
          3.907693862915039,
          7.9253740310668945,
          6.359750747680664,
          8.304162979125977,
          8.043794631958008,
          6.597634792327881,
          6.398292064666748,
          4.302703857421875,
          6.024642467498779,
          8.553507804870605,
          6.941015720367432,
          6.986184597015381,
          5.769009113311768,
          4.0552287101745605,
          5.006355285644531,
          6.253348350524902,
          6.790210247039795,
          4.833882808685303,
          5.830766201019287,
          5.1104512214660645,
          7.196086406707764,
          6.295669078826904,
          5.001582622528076,
          6.34410285949707,
          4.499879837036133,
          4.833694934844971,
          3.405092239379883,
          6.068711280822754,
          6.045771598815918,
          5.117092132568359,
          7.567334175109863,
          5.507917881011963,
          5.377563953399658,
          8.380696296691895,
          8.825849533081055,
          6.099488735198975,
          6.462341785430908,
          7.957934856414795,
          8.21699047088623,
          4.910071849822998,
          8.828913688659668,
          6.974634647369385,
          4.922100067138672,
          7.3232951164245605,
          7.781794548034668,
          8.5466947555542,
          8.104366302490234,
          7.2605156898498535,
          7.027218818664551,
          4.387315273284912,
          4.445883274078369,
          6.937130928039551,
          4.890859603881836,
          8.58375072479248,
          8.024312973022461,
          5.7558441162109375,
          4.427255153656006,
          8.014498710632324,
          7.357169151306152,
          4.596250534057617,
          6.307125568389893,
          7.53813362121582,
          6.288548946380615,
          5.689098358154297,
          4.84555721282959,
          5.014179229736328,
          7.585505485534668,
          4.849668025970459,
          6.7232842445373535,
          7.201394081115723,
          8.029766082763672,
          6.494810104370117,
          4.957204341888428,
          6.879853248596191,
          4.964892864227295,
          8.186777114868164,
          5.772881507873535,
          6.491523742675781,
          6.0497307777404785,
          7.635677337646484,
          7.816029071807861,
          7.682398319244385,
          5.170229434967041,
          8.142428398132324,
          5.721545696258545,
          8.086299896240234,
          5.277406692504883,
          5.108618259429932,
          6.05045747756958,
          8.531087875366211,
          5.825129985809326,
          5.675160884857178,
          6.881357192993164,
          7.183289051055908,
          8.027119636535645,
          7.177332878112793,
          4.602188587188721,
          8.398201942443848,
          6.0208916664123535,
          7.809296607971191,
          6.853701114654541,
          4.393686771392822,
          5.5555806159973145,
          4.949523448944092,
          7.240927696228027,
          5.829163074493408,
          4.952268123626709,
          8.305634498596191,
          7.567573070526123,
          7.989795207977295,
          6.023013114929199,
          4.254777908325195,
          4.4702982902526855,
          6.298129558563232,
          6.097207069396973,
          8.479310989379883,
          6.2187981605529785,
          6.1386542320251465,
          5.494437217712402,
          4.806835174560547,
          8.500667572021484,
          7.44210147857666,
          6.601021766662598,
          7.203362941741943,
          5.902771949768066,
          8.408037185668945,
          7.589029788970947,
          4.545346736907959,
          6.931469917297363,
          6.447669982910156,
          5.401470184326172,
          5.458910942077637,
          4.488946914672852,
          4.508020877838135,
          5.519247055053711,
          8.089439392089844,
          6.675221920013428,
          5.318850994110107,
          5.559472560882568,
          8.305520057678223,
          8.591304779052734,
          5.799561023712158,
          4.873317241668701,
          8.184449195861816,
          6.588554382324219,
          8.277878761291504,
          6.779289245605469,
          6.2933430671691895,
          8.170855522155762,
          6.845192909240723,
          4.912800312042236,
          6.2106218338012695,
          6.566151142120361,
          4.512682914733887,
          8.471756935119629,
          6.386911392211914,
          8.695300102233887,
          4.816868305206299,
          8.658690452575684,
          5.4461236000061035,
          7.236892223358154,
          8.184078216552734,
          7.415495872497559,
          4.355379581451416,
          7.52318811416626,
          5.792426109313965,
          7.263773441314697,
          6.278895378112793,
          6.593797206878662,
          8.066390037536621,
          4.897185325622559,
          7.701231002807617,
          4.809285640716553,
          6.119268894195557,
          8.137120246887207,
          6.213843822479248,
          7.799121856689453,
          7.340254783630371,
          6.148092746734619,
          7.5819878578186035,
          7.079150676727295,
          8.015823364257812,
          5.590331554412842,
          5.417610168457031,
          8.631909370422363,
          6.033562183380127,
          7.447356224060059,
          7.557979106903076,
          7.938917636871338,
          5.279201507568359,
          6.9277238845825195,
          6.762321949005127,
          7.330002307891846,
          7.288918495178223,
          6.1236796379089355,
          4.6945481300354,
          7.10292387008667,
          4.321720123291016,
          6.936514377593994,
          3.4087815284729004,
          6.625314235687256,
          4.3001604080200195,
          7.762005805969238,
          7.247204780578613,
          4.7181172370910645,
          6.263431072235107,
          7.519531726837158,
          5.986077308654785,
          8.034461975097656,
          4.808677673339844,
          6.202211380004883,
          8.8671236038208,
          5.270870685577393,
          6.092492580413818,
          5.573754787445068,
          7.733775615692139,
          6.037524700164795,
          7.769070148468018,
          8.269046783447266,
          6.81150484085083,
          6.4331746101379395,
          6.6106343269348145,
          6.5500030517578125,
          6.312338352203369,
          6.2143025398254395,
          7.754209518432617,
          6.380967140197754,
          6.227903842926025,
          7.821164608001709,
          5.4617695808410645,
          7.539699077606201,
          8.068799018859863,
          6.149202823638916,
          6.422348499298096,
          5.5071187019348145,
          5.905389785766602,
          6.511603355407715,
          4.903964519500732,
          6.974447727203369,
          7.73006010055542,
          5.597168922424316,
          7.625140190124512,
          5.691267967224121,
          7.3029680252075195,
          5.650096893310547,
          6.325168132781982,
          5.728481292724609,
          6.574690341949463,
          7.115112781524658,
          8.158428192138672,
          5.304802417755127,
          6.761652946472168,
          5.483038425445557,
          6.645264625549316,
          6.205341815948486,
          7.852243423461914,
          8.373086929321289,
          4.9276628494262695,
          3.398261070251465,
          7.29371976852417,
          6.323163032531738,
          6.172983169555664,
          7.29902458190918,
          6.415728569030762,
          4.656528472900391,
          8.06238842010498,
          7.278323173522949,
          6.119158744812012,
          7.419692516326904,
          6.2876105308532715,
          4.5297088623046875,
          7.043227672576904,
          7.563797473907471,
          6.633036136627197,
          6.231285572052002,
          5.033801555633545,
          6.289046287536621,
          6.251339912414551,
          6.132495880126953,
          6.273154258728027,
          8.719112396240234,
          6.471288204193115,
          6.964540004730225,
          6.886607646942139,
          7.453831672668457,
          6.408092021942139,
          6.744159698486328,
          8.491206169128418,
          7.506072998046875,
          5.389314651489258,
          7.287224769592285,
          7.919846057891846,
          8.305909156799316,
          7.989196300506592,
          6.003949165344238,
          6.076240539550781,
          7.288691997528076,
          8.85343074798584,
          6.6211371421813965,
          7.538212776184082,
          8.730883598327637,
          6.853538513183594,
          6.640380859375,
          6.561329364776611,
          7.336231231689453,
          4.620051383972168,
          7.232809543609619,
          8.173595428466797,
          7.159512042999268,
          7.683841705322266,
          6.516148090362549,
          8.079970359802246,
          8.626124382019043,
          7.142083644866943,
          4.862229824066162,
          6.730700492858887,
          6.438448429107666,
          6.319242477416992,
          6.280433177947998,
          7.010976314544678,
          5.675179958343506,
          5.34438419342041,
          8.609516143798828,
          8.20339298248291,
          7.789649963378906,
          8.064574241638184,
          5.065601825714111,
          7.742541313171387,
          6.8727617263793945,
          3.4225263595581055,
          6.819003582000732,
          6.501861095428467,
          7.812585830688477,
          6.37734842300415,
          7.111170291900635,
          6.944648742675781,
          6.233962535858154,
          8.648102760314941,
          6.928673267364502,
          6.341928958892822,
          6.122156143188477,
          6.892461776733398,
          7.464331150054932,
          6.785498142242432,
          6.916038990020752,
          5.990711212158203,
          6.82928466796875,
          7.561593055725098,
          7.737439155578613,
          7.886566638946533,
          7.730035781860352,
          6.359734058380127,
          6.223425388336182,
          6.821041107177734,
          8.639259338378906,
          5.297405242919922,
          6.5687994956970215,
          8.063223838806152,
          6.31308126449585,
          6.95847225189209,
          7.995410919189453,
          8.173234939575195,
          6.19673490524292,
          8.424056053161621,
          7.595067024230957,
          6.683643341064453,
          6.903814315795898,
          5.826342582702637,
          7.730515956878662,
          7.104583740234375,
          5.505951881408691,
          6.982481479644775,
          8.430068016052246,
          5.224712371826172,
          6.756465911865234,
          6.553244590759277,
          5.0308146476745605,
          4.268404483795166,
          6.80328893661499,
          7.163947582244873,
          5.344442844390869,
          6.404670238494873,
          6.155574321746826,
          5.01625394821167,
          6.887436866760254,
          6.8774800300598145,
          6.717123985290527,
          7.414365291595459,
          5.522792816162109,
          7.663987636566162,
          6.383564472198486,
          7.063666820526123,
          7.0931196212768555,
          7.094551086425781,
          8.781622886657715,
          6.765964031219482,
          7.349915504455566,
          6.28330659866333,
          6.521799564361572,
          6.66373348236084,
          7.277172565460205,
          6.423198223114014,
          7.014175891876221,
          6.069427013397217,
          7.8007588386535645,
          7.472877502441406,
          7.548515319824219,
          5.479377746582031,
          7.711672782897949,
          5.573322296142578,
          7.714666843414307,
          5.130532264709473,
          8.689266204833984,
          6.32442045211792,
          6.88491153717041,
          7.0019707679748535,
          6.96999979019165,
          6.7787394523620605,
          7.02302885055542,
          5.676974296569824,
          7.821987152099609,
          4.513622760772705,
          7.35106086730957,
          7.885125160217285,
          7.730856418609619,
          4.86959171295166,
          5.05579948425293,
          6.610836982727051,
          6.43027400970459,
          7.011865615844727,
          7.098252296447754,
          5.108372211456299,
          8.31948471069336,
          7.2188215255737305,
          7.416088581085205,
          7.159684181213379,
          6.026077747344971,
          4.800012588500977,
          6.792352199554443,
          6.534261703491211,
          6.884974479675293,
          6.676499843597412,
          6.360267162322998,
          7.426447868347168,
          6.675144672393799,
          3.566115617752075,
          4.916358947753906,
          6.396956443786621,
          7.026111125946045
         ],
         "xaxis": "x",
         "y": [
          12.982962608337402,
          12.894046783447266,
          12.888426780700684,
          14.67880916595459,
          13.628316879272461,
          14.397710800170898,
          15.83259391784668,
          12.923577308654785,
          13.486649513244629,
          14.041769027709961,
          15.399650573730469,
          13.487090110778809,
          14.320547103881836,
          13.102701187133789,
          13.628472328186035,
          14.988718032836914,
          14.382454872131348,
          16.039255142211914,
          14.197710037231445,
          13.519837379455566,
          13.679583549499512,
          13.938847541809082,
          14.560805320739746,
          13.808714866638184,
          14.347027778625488,
          13.111641883850098,
          14.618830680847168,
          14.190471649169922,
          17.21169090270996,
          13.385025978088379,
          14.940728187561035,
          14.51844596862793,
          15.300505638122559,
          14.859674453735352,
          13.32040786743164,
          14.831247329711914,
          13.506024360656738,
          13.752039909362793,
          14.293006896972656,
          16.129505157470703,
          13.883346557617188,
          15.385908126831055,
          14.328144073486328,
          13.73835563659668,
          14.141125679016113,
          13.715165138244629,
          13.530733108520508,
          14.594023704528809,
          13.388717651367188,
          17.149229049682617,
          14.514591217041016,
          14.054308891296387,
          16.133628845214844,
          12.301865577697754,
          14.450716972351074,
          15.06560230255127,
          14.337791442871094,
          16.45128059387207,
          13.814092636108398,
          12.840426445007324,
          12.129487991333008,
          15.150943756103516,
          13.732941627502441,
          14.412996292114258,
          12.686210632324219,
          13.120452880859375,
          15.043869972229004,
          12.596028327941895,
          13.41333293914795,
          14.540905952453613,
          14.128637313842773,
          12.034173011779785,
          14.950867652893066,
          14.9140043258667,
          15.749258995056152,
          15.734943389892578,
          15.916254997253418,
          14.844520568847656,
          15.281599044799805,
          15.073092460632324,
          14.08448314666748,
          14.712175369262695,
          14.402318954467773,
          16.94567108154297,
          12.655433654785156,
          14.605999946594238,
          14.269669532775879,
          12.700348854064941,
          15.092809677124023,
          14.508275032043457,
          16.740062713623047,
          14.415685653686523,
          15.691631317138672,
          13.455965042114258,
          15.3023681640625,
          14.757747650146484,
          16.219812393188477,
          14.511709213256836,
          13.35645580291748,
          14.58228874206543,
          13.15072250366211,
          14.66066837310791,
          14.438905715942383,
          14.506536483764648,
          17.384172439575195,
          14.062777519226074,
          13.346921920776367,
          12.207538604736328,
          15.41183090209961,
          13.098623275756836,
          13.960038185119629,
          16.37176513671875,
          14.851425170898438,
          16.398088455200195,
          15.444350242614746,
          14.040562629699707,
          13.669452667236328,
          15.210561752319336,
          14.427721977233887,
          14.043778419494629,
          14.580602645874023,
          13.976651191711426,
          14.878347396850586,
          14.968293190002441,
          14.13741397857666,
          15.018582344055176,
          15.295401573181152,
          14.062643051147461,
          15.123506546020508,
          12.884613990783691,
          16.391101837158203,
          14.28421401977539,
          14.95938777923584,
          14.260201454162598,
          15.345215797424316,
          14.750322341918945,
          16.205703735351562,
          15.078067779541016,
          15.255782127380371,
          16.63042640686035,
          16.006032943725586,
          15.466050148010254,
          14.301587104797363,
          16.088809967041016,
          15.726061820983887,
          15.506518363952637,
          14.466445922851562,
          15.116453170776367,
          16.965763092041016,
          12.942298889160156,
          12.307014465332031,
          12.58035945892334,
          15.23958969116211,
          16.08696174621582,
          14.552519798278809,
          15.310983657836914,
          14.875252723693848,
          14.328962326049805,
          15.990701675415039,
          15.183112144470215,
          15.196442604064941,
          14.128154754638672,
          15.14155387878418,
          14.737738609313965,
          16.603191375732422,
          17.356294631958008,
          15.558009147644043,
          13.782490730285645,
          15.984823226928711,
          14.220290184020996,
          16.266742706298828,
          15.749077796936035,
          13.47856330871582,
          14.159022331237793,
          13.737679481506348,
          15.007973670959473,
          14.708894729614258,
          15.425331115722656,
          13.446195602416992,
          16.67704200744629,
          13.73547649383545,
          14.780077934265137,
          14.739849090576172,
          16.244651794433594,
          14.592612266540527,
          15.195599555969238,
          16.84239387512207,
          15.41655445098877,
          12.713932991027832,
          14.935050964355469,
          15.2677583694458,
          14.907028198242188,
          16.493976593017578,
          13.881837844848633,
          16.240320205688477,
          15.204909324645996,
          16.518306732177734,
          15.14412784576416,
          14.170633316040039,
          14.801736831665039,
          15.211260795593262,
          14.95349407196045,
          14.481064796447754,
          15.607633590698242,
          16.959531784057617,
          14.556495666503906,
          15.39831829071045,
          14.134406089782715,
          15.500617980957031,
          14.913098335266113,
          13.990790367126465,
          14.403141975402832,
          15.850040435791016,
          14.467368125915527,
          14.254639625549316,
          15.225728988647461,
          16.67245864868164,
          17.213176727294922,
          14.180828094482422,
          16.578205108642578,
          15.730567932128906,
          15.690681457519531,
          16.790878295898438,
          14.827101707458496,
          17.303207397460938,
          15.260878562927246,
          16.722728729248047,
          14.881218910217285,
          14.320815086364746,
          16.567155838012695,
          14.32022762298584,
          15.645424842834473,
          14.6947660446167,
          15.833463668823242,
          17.228193283081055,
          16.939912796020508,
          15.448129653930664,
          14.571256637573242,
          14.271068572998047,
          15.64766788482666,
          13.8202486038208,
          15.145121574401855,
          15.597999572753906,
          15.645777702331543,
          14.998821258544922,
          14.987871170043945,
          14.646843910217285,
          14.395008087158203,
          14.323516845703125,
          15.260436058044434,
          15.510357856750488,
          15.346214294433594,
          15.893342971801758,
          16.10760498046875,
          16.43047332763672,
          16.28775405883789,
          17.365097045898438,
          14.784335136413574,
          12.067405700683594,
          14.067610740661621,
          15.610082626342773,
          12.709315299987793,
          14.607038497924805,
          15.115826606750488,
          15.23599624633789,
          12.789915084838867,
          15.000396728515625,
          15.183953285217285,
          14.956761360168457,
          16.109100341796875,
          14.743508338928223,
          15.191327095031738,
          15.093780517578125,
          16.796497344970703,
          14.035555839538574,
          15.914198875427246,
          15.860668182373047,
          15.181174278259277,
          16.536069869995117,
          16.041046142578125,
          15.0396146774292,
          12.833232879638672,
          15.462675094604492,
          16.072269439697266,
          15.964195251464844,
          14.670615196228027,
          14.820947647094727,
          15.528182029724121,
          15.5116605758667,
          15.220495223999023,
          13.813488960266113,
          12.850449562072754,
          15.158940315246582,
          16.34541893005371,
          15.97465705871582,
          13.537928581237793,
          14.877278327941895,
          15.290756225585938,
          13.238492965698242,
          14.962173461914062,
          15.08142375946045,
          16.219017028808594,
          14.084138870239258,
          15.848891258239746,
          13.336459159851074,
          15.185675621032715,
          14.695904731750488,
          15.992203712463379,
          15.103924751281738,
          14.195112228393555,
          14.782001495361328,
          15.858468055725098,
          16.07476806640625,
          15.414998054504395,
          12.295048713684082,
          16.257699966430664,
          15.764195442199707,
          14.631464958190918,
          16.436628341674805,
          14.150132179260254,
          14.97751235961914,
          13.78715991973877,
          16.100278854370117,
          13.95210075378418,
          15.646228790283203,
          15.537801742553711,
          16.6704044342041,
          15.250349998474121,
          15.201173782348633,
          15.145442008972168,
          15.626445770263672,
          15.846653938293457,
          13.726653099060059,
          13.776140213012695,
          15.115171432495117,
          16.213876724243164,
          15.884862899780273,
          14.781493186950684,
          16.47071075439453,
          15.89806842803955,
          13.594417572021484,
          15.303625106811523,
          16.194782257080078,
          14.820789337158203,
          14.147183418273926,
          14.053948402404785,
          15.459417343139648,
          14.888763427734375,
          13.604199409484863,
          16.09234046936035,
          15.83263111114502,
          14.675122261047363,
          14.856163024902344,
          14.372809410095215,
          15.670180320739746,
          13.072654724121094,
          15.545378684997559,
          12.85236930847168,
          15.13355827331543,
          16.64673614501953,
          14.95276165008545,
          15.731730461120605,
          16.14936637878418,
          16.001054763793945,
          13.234123229980469,
          17.03287696838379,
          14.655576705932617,
          14.382877349853516,
          15.324560165405273,
          14.515412330627441,
          15.934700965881348,
          15.011423110961914,
          16.558624267578125,
          13.441739082336426,
          15.643842697143555,
          15.099273681640625,
          14.679869651794434,
          15.790899276733398,
          14.228693962097168,
          15.248339653015137,
          14.957878112792969,
          14.891735076904297,
          15.969064712524414,
          15.81949234008789,
          15.736451148986816,
          15.17005443572998,
          14.385502815246582,
          15.328027725219727,
          15.361384391784668,
          15.52293586730957,
          15.768426895141602,
          17.322717666625977,
          14.679746627807617,
          15.421643257141113,
          12.842529296875,
          15.651476860046387,
          15.845672607421875,
          14.823185920715332,
          16.489683151245117,
          15.238947868347168,
          14.986918449401855,
          14.219244003295898,
          16.277721405029297,
          15.798495292663574,
          14.258545875549316,
          12.421216011047363,
          14.409804344177246,
          14.592144966125488,
          16.224916458129883,
          15.754437446594238,
          14.478927612304688,
          15.092671394348145,
          14.603886604309082,
          15.142810821533203,
          16.257116317749023,
          14.964240074157715,
          15.634724617004395,
          15.468505859375,
          14.661788940429688,
          12.403916358947754,
          16.135272979736328,
          15.353720664978027,
          15.288095474243164,
          15.58301067352295,
          14.389076232910156,
          15.46608829498291,
          15.149369239807129,
          17.135122299194336,
          16.050167083740234,
          15.22612476348877,
          14.405242919921875,
          15.064750671386719,
          15.683573722839355,
          13.55601978302002,
          15.792227745056152,
          14.809921264648438,
          15.06032943725586,
          14.254911422729492,
          14.15141773223877,
          15.199891090393066,
          15.28309154510498,
          14.969036102294922,
          14.938493728637695,
          14.971451759338379,
          14.618638038635254,
          15.33675765991211,
          12.342904090881348,
          15.223334312438965,
          15.530888557434082,
          15.257664680480957,
          12.603084564208984,
          13.825533866882324,
          13.363978385925293,
          14.663727760314941,
          14.287191390991211,
          15.357534408569336,
          15.907026290893555,
          15.478080749511719,
          15.550968170166016,
          14.861273765563965,
          14.304450988769531,
          15.013670921325684,
          13.049056053161621,
          15.739148139953613,
          15.619851112365723,
          15.310643196105957,
          15.467111587524414,
          15.298684120178223,
          15.089025497436523,
          15.945452690124512,
          14.835638046264648,
          12.026747703552246,
          16.091299057006836,
          14.396547317504883,
          14.78297233581543,
          15.632437705993652,
          15.023880004882812,
          15.280930519104004,
          14.893949508666992,
          15.414859771728516,
          15.553672790527344,
          15.12526798248291,
          15.124578475952148,
          17.168479919433594,
          15.463166236877441,
          16.936126708984375,
          16.82355499267578,
          15.277253150939941,
          15.309971809387207,
          15.969328880310059,
          15.335567474365234,
          15.496270179748535,
          16.058176040649414,
          14.974708557128906,
          15.7501802444458,
          16.779550552368164,
          14.78513240814209,
          16.668474197387695,
          15.217229843139648,
          15.968241691589355,
          15.11398983001709,
          14.595595359802246,
          15.263849258422852,
          16.017789840698242,
          16.33220672607422,
          16.13542366027832,
          16.630815505981445,
          15.57575798034668,
          15.525568008422852,
          15.678659439086914,
          12.830589294433594,
          14.252826690673828,
          16.342430114746094,
          16.272891998291016,
          15.618885040283203,
          13.146018028259277,
          12.284806251525879,
          15.361781120300293,
          15.885212898254395,
          12.114363670349121,
          15.552773475646973,
          15.303960800170898,
          15.85815715789795,
          15.652119636535645,
          14.964826583862305,
          14.784852027893066,
          15.679405212402344,
          14.662517547607422,
          15.53002643585205,
          17.301992416381836,
          15.54824161529541,
          14.981141090393066,
          16.01564598083496,
          15.392374038696289,
          16.394893646240234,
          16.63849449157715,
          15.487975120544434
         ],
         "yaxis": "y"
        },
        {
         "hoverlabel": {
          "namelength": 0
         },
         "hovertemplate": "POS=ADJ<br>x=%{x}<br>y=%{y}<br>Word=%{text}",
         "legendgroup": "POS=ADJ",
         "marker": {
          "color": "#FECB52",
          "symbol": "circle"
         },
         "mode": "markers+text",
         "name": "POS=ADJ",
         "showlegend": true,
         "text": [
          "other",
          "good",
          "new",
          "much",
          "many",
          "most",
          "such",
          "same",
          "last",
          "own",
          "available",
          "few",
          "little",
          "true",
          "best",
          "least",
          "different",
          "second",
          "great",
          "possible",
          "high",
          "hard",
          "real",
          "old",
          "wrong",
          "able",
          "next",
          "free",
          "several",
          "bad",
          "general",
          "big",
          "current",
          "american",
          "local",
          "large",
          "small",
          "whole",
          "national",
          "bible",
          "full",
          "open",
          "interested",
          "important",
          "live",
          "armenian",
          "original",
          "low",
          "israeli",
          "similar",
          "single",
          "certain",
          "likely",
          "nice",
          "white",
          "clear",
          "third",
          "major",
          "common",
          "short",
          "particular",
          "private",
          "black",
          "military",
          "easy",
          "strong",
          "dead",
          "due",
          "anonymous",
          "special",
          "religious",
          "legal",
          "personal",
          "united",
          "specific",
          "previous",
          "necessary",
          "total",
          "young",
          "moral",
          "federal",
          "various",
          "main",
          "political",
          "related",
          "red",
          "medical",
          "willing",
          "serial",
          "average",
          "serious",
          "higher",
          "complete",
          "basic",
          "final",
          "russian",
          "normal",
          "international",
          "commercial",
          "individual",
          "scientific"
         ],
         "textposition": "top center",
         "type": "scatter",
         "x": [
          3.621455669403076,
          5.812499523162842,
          7.043643951416016,
          3.6223678588867188,
          3.961083173751831,
          3.7016232013702393,
          3.9358744621276855,
          4.652149677276611,
          6.525561809539795,
          4.012434005737305,
          8.445825576782227,
          6.972863674163818,
          6.07686710357666,
          4.52346134185791,
          7.355950355529785,
          5.27960205078125,
          7.1573357582092285,
          6.406275749206543,
          5.892398357391357,
          5.746796607971191,
          7.665963172912598,
          8.034814834594727,
          4.75377082824707,
          7.007791996002197,
          4.680571556091309,
          3.3601932525634766,
          6.142152309417725,
          6.081529140472412,
          5.423369884490967,
          6.177728652954102,
          5.631164073944092,
          6.629158973693848,
          7.500112533569336,
          5.8058037757873535,
          7.542459487915039,
          6.0858941078186035,
          5.962364196777344,
          5.270186424255371,
          6.300918102264404,
          4.453390598297119,
          7.5836639404296875,
          8.190887451171875,
          7.621304988861084,
          5.563803195953369,
          4.8365559577941895,
          5.6084723472595215,
          7.758613586425781,
          7.60168981552124,
          4.850963115692139,
          7.447012424468994,
          7.766073703765869,
          5.871115684509277,
          6.196420669555664,
          5.70609188079834,
          6.08764123916626,
          4.559130668640137,
          6.64432954788208,
          6.47531795501709,
          7.17000675201416,
          6.662892818450928,
          6.877927780151367,
          6.882594108581543,
          6.192829608917236,
          5.766459941864014,
          7.066473007202148,
          6.487076282501221,
          6.4249587059021,
          6.596953868865967,
          8.507040023803711,
          8.107139587402344,
          4.523801803588867,
          5.581679821014404,
          5.098952770233154,
          6.009888648986816,
          7.2336955070495605,
          6.782113552093506,
          6.146839618682861,
          6.390809535980225,
          6.428054332733154,
          5.453329086303711,
          6.090187072753906,
          7.704525470733643,
          6.978909969329834,
          5.8268280029296875,
          7.310770034790039,
          6.5408477783203125,
          7.185453414916992,
          7.393634796142578,
          7.925748348236084,
          6.464585304260254,
          5.6630353927612305,
          6.2661027908325195,
          7.723974227905273,
          7.050255298614502,
          6.700785160064697,
          6.068787097930908,
          7.161245346069336,
          6.028064727783203,
          7.1165571212768555,
          6.38966703414917,
          5.499424457550049
         ],
         "xaxis": "x",
         "y": [
          13.514762878417969,
          13.837082862854004,
          15.472088813781738,
          14.716487884521484,
          14.429553985595703,
          13.894258499145508,
          14.279901504516602,
          13.645495414733887,
          13.830531120300293,
          14.697376251220703,
          14.189360618591309,
          13.131452560424805,
          13.032498359680176,
          15.12534236907959,
          14.597526550292969,
          14.4423828125,
          12.942276954650879,
          13.697002410888672,
          13.781929016113281,
          14.487740516662598,
          16.17699432373047,
          14.088557243347168,
          14.04052734375,
          14.026015281677246,
          14.955780982971191,
          15.328596115112305,
          13.715677261352539,
          14.736065864562988,
          13.1311616897583,
          13.902652740478516,
          15.484538078308105,
          13.07745361328125,
          16.639141082763672,
          16.62725257873535,
          15.643034934997559,
          14.353781700134277,
          14.241718292236328,
          14.271496772766113,
          16.83225440979004,
          15.643799781799316,
          14.228769302368164,
          14.9619140625,
          14.885178565979004,
          13.782831192016602,
          15.805315017700195,
          16.746383666992188,
          14.542834281921387,
          16.12466049194336,
          16.381818771362305,
          14.053840637207031,
          15.573665618896484,
          14.671608924865723,
          15.864768028259277,
          13.981025695800781,
          16.810667037963867,
          14.815995216369629,
          15.138010025024414,
          15.211820602416992,
          16.028762817382812,
          14.259121894836426,
          14.47338581085205,
          16.860370635986328,
          14.814895629882812,
          16.514667510986328,
          15.47338581085205,
          17.32765769958496,
          15.652474403381348,
          14.419154167175293,
          14.383450508117676,
          15.005927085876465,
          15.671111106872559,
          16.059757232666016,
          15.17861270904541,
          16.74298858642578,
          15.652902603149414,
          15.386218070983887,
          15.979194641113281,
          15.90145206451416,
          14.152881622314453,
          15.861089706420898,
          16.774526596069336,
          14.32568073272705,
          15.26656436920166,
          16.663902282714844,
          14.584858894348145,
          13.888580322265625,
          16.29051399230957,
          15.073561668395996,
          15.831679344177246,
          15.198493957519531,
          14.080127716064453,
          15.875299453735352,
          14.790303230285645,
          16.247861862182617,
          15.392776489257812,
          16.468605041503906,
          15.05649185180664,
          16.598247528076172,
          15.814549446105957,
          15.71921157836914,
          15.273117065429688
         ],
         "yaxis": "y"
        }
       ],
       "layout": {
        "height": 600,
        "legend": {
         "tracegroupgap": 0
        },
        "margin": {
         "t": 60
        },
        "template": {
         "data": {
          "bar": [
           {
            "error_x": {
             "color": "#2a3f5f"
            },
            "error_y": {
             "color": "#2a3f5f"
            },
            "marker": {
             "line": {
              "color": "#E5ECF6",
              "width": 0.5
             }
            },
            "type": "bar"
           }
          ],
          "barpolar": [
           {
            "marker": {
             "line": {
              "color": "#E5ECF6",
              "width": 0.5
             }
            },
            "type": "barpolar"
           }
          ],
          "carpet": [
           {
            "aaxis": {
             "endlinecolor": "#2a3f5f",
             "gridcolor": "white",
             "linecolor": "white",
             "minorgridcolor": "white",
             "startlinecolor": "#2a3f5f"
            },
            "baxis": {
             "endlinecolor": "#2a3f5f",
             "gridcolor": "white",
             "linecolor": "white",
             "minorgridcolor": "white",
             "startlinecolor": "#2a3f5f"
            },
            "type": "carpet"
           }
          ],
          "choropleth": [
           {
            "colorbar": {
             "outlinewidth": 0,
             "ticks": ""
            },
            "type": "choropleth"
           }
          ],
          "contour": [
           {
            "colorbar": {
             "outlinewidth": 0,
             "ticks": ""
            },
            "colorscale": [
             [
              0,
              "#0d0887"
             ],
             [
              0.1111111111111111,
              "#46039f"
             ],
             [
              0.2222222222222222,
              "#7201a8"
             ],
             [
              0.3333333333333333,
              "#9c179e"
             ],
             [
              0.4444444444444444,
              "#bd3786"
             ],
             [
              0.5555555555555556,
              "#d8576b"
             ],
             [
              0.6666666666666666,
              "#ed7953"
             ],
             [
              0.7777777777777778,
              "#fb9f3a"
             ],
             [
              0.8888888888888888,
              "#fdca26"
             ],
             [
              1,
              "#f0f921"
             ]
            ],
            "type": "contour"
           }
          ],
          "contourcarpet": [
           {
            "colorbar": {
             "outlinewidth": 0,
             "ticks": ""
            },
            "type": "contourcarpet"
           }
          ],
          "heatmap": [
           {
            "colorbar": {
             "outlinewidth": 0,
             "ticks": ""
            },
            "colorscale": [
             [
              0,
              "#0d0887"
             ],
             [
              0.1111111111111111,
              "#46039f"
             ],
             [
              0.2222222222222222,
              "#7201a8"
             ],
             [
              0.3333333333333333,
              "#9c179e"
             ],
             [
              0.4444444444444444,
              "#bd3786"
             ],
             [
              0.5555555555555556,
              "#d8576b"
             ],
             [
              0.6666666666666666,
              "#ed7953"
             ],
             [
              0.7777777777777778,
              "#fb9f3a"
             ],
             [
              0.8888888888888888,
              "#fdca26"
             ],
             [
              1,
              "#f0f921"
             ]
            ],
            "type": "heatmap"
           }
          ],
          "heatmapgl": [
           {
            "colorbar": {
             "outlinewidth": 0,
             "ticks": ""
            },
            "colorscale": [
             [
              0,
              "#0d0887"
             ],
             [
              0.1111111111111111,
              "#46039f"
             ],
             [
              0.2222222222222222,
              "#7201a8"
             ],
             [
              0.3333333333333333,
              "#9c179e"
             ],
             [
              0.4444444444444444,
              "#bd3786"
             ],
             [
              0.5555555555555556,
              "#d8576b"
             ],
             [
              0.6666666666666666,
              "#ed7953"
             ],
             [
              0.7777777777777778,
              "#fb9f3a"
             ],
             [
              0.8888888888888888,
              "#fdca26"
             ],
             [
              1,
              "#f0f921"
             ]
            ],
            "type": "heatmapgl"
           }
          ],
          "histogram": [
           {
            "marker": {
             "colorbar": {
              "outlinewidth": 0,
              "ticks": ""
             }
            },
            "type": "histogram"
           }
          ],
          "histogram2d": [
           {
            "colorbar": {
             "outlinewidth": 0,
             "ticks": ""
            },
            "colorscale": [
             [
              0,
              "#0d0887"
             ],
             [
              0.1111111111111111,
              "#46039f"
             ],
             [
              0.2222222222222222,
              "#7201a8"
             ],
             [
              0.3333333333333333,
              "#9c179e"
             ],
             [
              0.4444444444444444,
              "#bd3786"
             ],
             [
              0.5555555555555556,
              "#d8576b"
             ],
             [
              0.6666666666666666,
              "#ed7953"
             ],
             [
              0.7777777777777778,
              "#fb9f3a"
             ],
             [
              0.8888888888888888,
              "#fdca26"
             ],
             [
              1,
              "#f0f921"
             ]
            ],
            "type": "histogram2d"
           }
          ],
          "histogram2dcontour": [
           {
            "colorbar": {
             "outlinewidth": 0,
             "ticks": ""
            },
            "colorscale": [
             [
              0,
              "#0d0887"
             ],
             [
              0.1111111111111111,
              "#46039f"
             ],
             [
              0.2222222222222222,
              "#7201a8"
             ],
             [
              0.3333333333333333,
              "#9c179e"
             ],
             [
              0.4444444444444444,
              "#bd3786"
             ],
             [
              0.5555555555555556,
              "#d8576b"
             ],
             [
              0.6666666666666666,
              "#ed7953"
             ],
             [
              0.7777777777777778,
              "#fb9f3a"
             ],
             [
              0.8888888888888888,
              "#fdca26"
             ],
             [
              1,
              "#f0f921"
             ]
            ],
            "type": "histogram2dcontour"
           }
          ],
          "mesh3d": [
           {
            "colorbar": {
             "outlinewidth": 0,
             "ticks": ""
            },
            "type": "mesh3d"
           }
          ],
          "parcoords": [
           {
            "line": {
             "colorbar": {
              "outlinewidth": 0,
              "ticks": ""
             }
            },
            "type": "parcoords"
           }
          ],
          "scatter": [
           {
            "marker": {
             "colorbar": {
              "outlinewidth": 0,
              "ticks": ""
             }
            },
            "type": "scatter"
           }
          ],
          "scatter3d": [
           {
            "line": {
             "colorbar": {
              "outlinewidth": 0,
              "ticks": ""
             }
            },
            "marker": {
             "colorbar": {
              "outlinewidth": 0,
              "ticks": ""
             }
            },
            "type": "scatter3d"
           }
          ],
          "scattercarpet": [
           {
            "marker": {
             "colorbar": {
              "outlinewidth": 0,
              "ticks": ""
             }
            },
            "type": "scattercarpet"
           }
          ],
          "scattergeo": [
           {
            "marker": {
             "colorbar": {
              "outlinewidth": 0,
              "ticks": ""
             }
            },
            "type": "scattergeo"
           }
          ],
          "scattergl": [
           {
            "marker": {
             "colorbar": {
              "outlinewidth": 0,
              "ticks": ""
             }
            },
            "type": "scattergl"
           }
          ],
          "scattermapbox": [
           {
            "marker": {
             "colorbar": {
              "outlinewidth": 0,
              "ticks": ""
             }
            },
            "type": "scattermapbox"
           }
          ],
          "scatterpolar": [
           {
            "marker": {
             "colorbar": {
              "outlinewidth": 0,
              "ticks": ""
             }
            },
            "type": "scatterpolar"
           }
          ],
          "scatterpolargl": [
           {
            "marker": {
             "colorbar": {
              "outlinewidth": 0,
              "ticks": ""
             }
            },
            "type": "scatterpolargl"
           }
          ],
          "scatterternary": [
           {
            "marker": {
             "colorbar": {
              "outlinewidth": 0,
              "ticks": ""
             }
            },
            "type": "scatterternary"
           }
          ],
          "surface": [
           {
            "colorbar": {
             "outlinewidth": 0,
             "ticks": ""
            },
            "colorscale": [
             [
              0,
              "#0d0887"
             ],
             [
              0.1111111111111111,
              "#46039f"
             ],
             [
              0.2222222222222222,
              "#7201a8"
             ],
             [
              0.3333333333333333,
              "#9c179e"
             ],
             [
              0.4444444444444444,
              "#bd3786"
             ],
             [
              0.5555555555555556,
              "#d8576b"
             ],
             [
              0.6666666666666666,
              "#ed7953"
             ],
             [
              0.7777777777777778,
              "#fb9f3a"
             ],
             [
              0.8888888888888888,
              "#fdca26"
             ],
             [
              1,
              "#f0f921"
             ]
            ],
            "type": "surface"
           }
          ],
          "table": [
           {
            "cells": {
             "fill": {
              "color": "#EBF0F8"
             },
             "line": {
              "color": "white"
             }
            },
            "header": {
             "fill": {
              "color": "#C8D4E3"
             },
             "line": {
              "color": "white"
             }
            },
            "type": "table"
           }
          ]
         },
         "layout": {
          "annotationdefaults": {
           "arrowcolor": "#2a3f5f",
           "arrowhead": 0,
           "arrowwidth": 1
          },
          "colorscale": {
           "diverging": [
            [
             0,
             "#8e0152"
            ],
            [
             0.1,
             "#c51b7d"
            ],
            [
             0.2,
             "#de77ae"
            ],
            [
             0.3,
             "#f1b6da"
            ],
            [
             0.4,
             "#fde0ef"
            ],
            [
             0.5,
             "#f7f7f7"
            ],
            [
             0.6,
             "#e6f5d0"
            ],
            [
             0.7,
             "#b8e186"
            ],
            [
             0.8,
             "#7fbc41"
            ],
            [
             0.9,
             "#4d9221"
            ],
            [
             1,
             "#276419"
            ]
           ],
           "sequential": [
            [
             0,
             "#0d0887"
            ],
            [
             0.1111111111111111,
             "#46039f"
            ],
            [
             0.2222222222222222,
             "#7201a8"
            ],
            [
             0.3333333333333333,
             "#9c179e"
            ],
            [
             0.4444444444444444,
             "#bd3786"
            ],
            [
             0.5555555555555556,
             "#d8576b"
            ],
            [
             0.6666666666666666,
             "#ed7953"
            ],
            [
             0.7777777777777778,
             "#fb9f3a"
            ],
            [
             0.8888888888888888,
             "#fdca26"
            ],
            [
             1,
             "#f0f921"
            ]
           ],
           "sequentialminus": [
            [
             0,
             "#0d0887"
            ],
            [
             0.1111111111111111,
             "#46039f"
            ],
            [
             0.2222222222222222,
             "#7201a8"
            ],
            [
             0.3333333333333333,
             "#9c179e"
            ],
            [
             0.4444444444444444,
             "#bd3786"
            ],
            [
             0.5555555555555556,
             "#d8576b"
            ],
            [
             0.6666666666666666,
             "#ed7953"
            ],
            [
             0.7777777777777778,
             "#fb9f3a"
            ],
            [
             0.8888888888888888,
             "#fdca26"
            ],
            [
             1,
             "#f0f921"
            ]
           ]
          },
          "colorway": [
           "#636efa",
           "#EF553B",
           "#00cc96",
           "#ab63fa",
           "#FFA15A",
           "#19d3f3",
           "#FF6692",
           "#B6E880",
           "#FF97FF",
           "#FECB52"
          ],
          "font": {
           "color": "#2a3f5f"
          },
          "geo": {
           "bgcolor": "white",
           "lakecolor": "white",
           "landcolor": "#E5ECF6",
           "showlakes": true,
           "showland": true,
           "subunitcolor": "white"
          },
          "hoverlabel": {
           "align": "left"
          },
          "hovermode": "closest",
          "mapbox": {
           "style": "light"
          },
          "paper_bgcolor": "white",
          "plot_bgcolor": "#E5ECF6",
          "polar": {
           "angularaxis": {
            "gridcolor": "white",
            "linecolor": "white",
            "ticks": ""
           },
           "bgcolor": "#E5ECF6",
           "radialaxis": {
            "gridcolor": "white",
            "linecolor": "white",
            "ticks": ""
           }
          },
          "scene": {
           "xaxis": {
            "backgroundcolor": "#E5ECF6",
            "gridcolor": "white",
            "gridwidth": 2,
            "linecolor": "white",
            "showbackground": true,
            "ticks": "",
            "zerolinecolor": "white"
           },
           "yaxis": {
            "backgroundcolor": "#E5ECF6",
            "gridcolor": "white",
            "gridwidth": 2,
            "linecolor": "white",
            "showbackground": true,
            "ticks": "",
            "zerolinecolor": "white"
           },
           "zaxis": {
            "backgroundcolor": "#E5ECF6",
            "gridcolor": "white",
            "gridwidth": 2,
            "linecolor": "white",
            "showbackground": true,
            "ticks": "",
            "zerolinecolor": "white"
           }
          },
          "shapedefaults": {
           "line": {
            "color": "#2a3f5f"
           }
          },
          "ternary": {
           "aaxis": {
            "gridcolor": "white",
            "linecolor": "white",
            "ticks": ""
           },
           "baxis": {
            "gridcolor": "white",
            "linecolor": "white",
            "ticks": ""
           },
           "bgcolor": "#E5ECF6",
           "caxis": {
            "gridcolor": "white",
            "linecolor": "white",
            "ticks": ""
           }
          },
          "title": {
           "x": 0.05
          },
          "xaxis": {
           "automargin": true,
           "gridcolor": "white",
           "linecolor": "white",
           "ticks": "",
           "zerolinecolor": "white",
           "zerolinewidth": 2
          },
          "yaxis": {
           "automargin": true,
           "gridcolor": "white",
           "linecolor": "white",
           "ticks": "",
           "zerolinecolor": "white",
           "zerolinewidth": 2
          }
         }
        },
        "xaxis": {
         "anchor": "y",
         "domain": [
          0,
          0.98
         ],
         "title": {
          "text": "x"
         }
        },
        "yaxis": {
         "anchor": "x",
         "domain": [
          0,
          1
         ],
         "title": {
          "text": "y"
         }
        }
       }
      },
      "text/html": [
       "<div>\n",
       "        \n",
       "        \n",
       "            <div id=\"bbd31903-8c24-4ade-a7c7-ce339da76aaa\" class=\"plotly-graph-div\" style=\"height:600px; width:100%;\"></div>\n",
       "            <script type=\"text/javascript\">\n",
       "                require([\"plotly\"], function(Plotly) {\n",
       "                    window.PLOTLYENV=window.PLOTLYENV || {};\n",
       "                    \n",
       "                if (document.getElementById(\"bbd31903-8c24-4ade-a7c7-ce339da76aaa\")) {\n",
       "                    Plotly.newPlot(\n",
       "                        'bbd31903-8c24-4ade-a7c7-ce339da76aaa',\n",
       "                        [{\"hoverlabel\": {\"namelength\": 0}, \"hovertemplate\": \"POS=DET<br>x=%{x}<br>y=%{y}<br>Word=%{text}\", \"legendgroup\": \"POS=DET\", \"marker\": {\"color\": \"#636efa\", \"symbol\": \"circle\"}, \"mode\": \"markers+text\", \"name\": \"POS=DET\", \"showlegend\": true, \"text\": [\"the\", \"this\", \"an\", \"all\", \"no\", \"any\", \"some\", \"which\", \"these\", \"those\", \"both\", \"another\", \"each\", \"every\", \"either\", \"whatever\"], \"textposition\": \"top center\", \"type\": \"scatter\", \"x\": [3.0406699180603027, 3.4920272827148438, 4.286367893218994, 4.199123859405518, 3.84169864654541, 5.317689895629883, 4.452230453491211, 3.7578961849212646, 3.846116065979004, 3.79135799407959, 5.971004009246826, 4.742514133453369, 6.706572532653809, 5.130419731140137, 3.936162233352661, 5.3884711265563965], \"xaxis\": \"x\", \"y\": [12.866804122924805, 13.130387306213379, 14.100046157836914, 13.405889511108398, 14.071088790893555, 13.636087417602539, 13.883890151977539, 14.02956485748291, 14.024603843688965, 14.141472816467285, 14.203895568847656, 13.591004371643066, 13.995092391967773, 13.793453216552734, 14.094807624816895, 14.936158180236816], \"yaxis\": \"y\"}, {\"hoverlabel\": {\"namelength\": 0}, \"hovertemplate\": \"POS=PRT<br>x=%{x}<br>y=%{y}<br>Word=%{text}\", \"legendgroup\": \"POS=PRT\", \"marker\": {\"color\": \"#EF553B\", \"symbol\": \"circle\"}, \"mode\": \"markers+text\", \"name\": \"POS=PRT\", \"showlegend\": true, \"text\": [\"to\"], \"textposition\": \"top center\", \"type\": \"scatter\", \"x\": [3.1002984046936035], \"xaxis\": \"x\", \"y\": [12.9259672164917], \"yaxis\": \"y\"}, {\"hoverlabel\": {\"namelength\": 0}, \"hovertemplate\": \"POS=ADP<br>x=%{x}<br>y=%{y}<br>Word=%{text}\", \"legendgroup\": \"POS=ADP\", \"marker\": {\"color\": \"#00cc96\", \"symbol\": \"circle\"}, \"mode\": \"markers+text\", \"name\": \"POS=ADP\", \"showlegend\": true, \"text\": [\"of\", \"in\", \"that\", \"for\", \"on\", \"with\", \"as\", \"if\", \"from\", \"by\", \"at\", \"about\", \"out\", \"like\", \"than\", \"because\", \"into\", \"over\", \"after\", \"off\", \"since\", \"before\", \"while\", \"without\", \"through\", \"under\", \"between\", \"around\", \"against\", \"though\", \"above\", \"whether\", \"during\", \"until\", \"although\", \"unless\", \"per\", \"within\", \"except\", \"among\", \"via\", \"upon\", \"near\", \"behind\", \"along\", \"outside\", \"below\", \"inside\"], \"textposition\": \"top center\", \"type\": \"scatter\", \"x\": [3.096916675567627, 3.1687095165252686, 3.1963274478912354, 3.535062074661255, 3.5144622325897217, 3.6244757175445557, 3.897665500640869, 3.857926845550537, 4.161438465118408, 4.20709753036499, 4.718836307525635, 4.675570487976074, 4.78231954574585, 3.7226362228393555, 3.3193206787109375, 3.659775733947754, 4.34585428237915, 4.886635780334473, 5.432581901550293, 6.01154899597168, 4.015608787536621, 5.139104843139648, 4.669465065002441, 4.577203273773193, 4.529775142669678, 6.795636177062988, 5.420121192932129, 5.827098846435547, 4.9475250244140625, 4.278160572052002, 5.463635444641113, 4.401147365570068, 5.643674373626709, 5.37858772277832, 5.594532012939453, 4.762901306152344, 7.379566669464111, 5.983815670013428, 3.4885270595550537, 5.995610237121582, 8.433472633361816, 4.955604553222656, 7.028474807739258, 5.962007522583008, 5.863627910614014, 6.2954206466674805, 7.596433162689209, 6.412032127380371], \"xaxis\": \"x\", \"y\": [12.92577838897705, 12.900883674621582, 13.025440216064453, 13.193047523498535, 13.31878662109375, 13.313068389892578, 13.712528228759766, 13.241206169128418, 13.71558952331543, 14.05122184753418, 14.031959533691406, 13.653425216674805, 12.93913459777832, 15.183985710144043, 14.507057189941406, 13.793642044067383, 14.512860298156738, 13.215150833129883, 12.871420860290527, 13.20181655883789, 13.386991500854492, 12.955460548400879, 13.066370010375977, 14.238624572753906, 14.065545082092285, 14.679261207580566, 14.547725677490234, 13.751993179321289, 15.584494590759277, 13.671454429626465, 14.828089714050293, 14.796652793884277, 16.477458953857422, 13.07193660736084, 13.888209342956543, 13.801616668701172, 12.859943389892578, 14.61008358001709, 15.421810150146484, 15.940048217773438, 13.971915245056152, 15.381937980651855, 15.062573432922363, 13.415916442871094, 13.896514892578125, 13.647090911865234, 14.991130828857422, 12.502153396606445], \"yaxis\": \"y\"}, {\"hoverlabel\": {\"namelength\": 0}, \"hovertemplate\": \"POS=CONJ<br>x=%{x}<br>y=%{y}<br>Word=%{text}\", \"legendgroup\": \"POS=CONJ\", \"marker\": {\"color\": \"#ab63fa\", \"symbol\": \"circle\"}, \"mode\": \"markers+text\", \"name\": \"POS=CONJ\", \"showlegend\": true, \"text\": [\"and\", \"or\", \"but\", \"plus\", \"nor\"], \"textposition\": \"top center\", \"type\": \"scatter\", \"x\": [3.1165904998779297, 3.592486619949341, 3.494300127029419, 7.390290260314941, 4.974185943603516], \"xaxis\": \"x\", \"y\": [12.947943687438965, 13.6602783203125, 13.159602165222168, 15.286161422729492, 15.553278923034668], \"yaxis\": \"y\"}, {\"hoverlabel\": {\"namelength\": 0}, \"hovertemplate\": \"POS=VERB<br>x=%{x}<br>y=%{y}<br>Word=%{text}\", \"legendgroup\": \"POS=VERB\", \"marker\": {\"color\": \"#FFA15A\", \"symbol\": \"circle\"}, \"mode\": \"markers+text\", \"name\": \"POS=VERB\", \"showlegend\": true, \"text\": [\"is\", \"be\", \"are\", \"have\", \"was\", \"can\", \"will\", \"would\", \"do\", \"has\", \"were\", \"know\", \"get\", \"had\", \"been\", \"does\", \"should\", \"could\", \"am\", \"may\", \"see\", \"make\", \"say\", \"used\", \"being\", \"said\", \"did\", \"go\", \"going\", \"believe\", \"using\", \"find\", \"take\", \"must\", \"might\", \"made\", \"got\", \"let\", \"come\", \"give\", \"seems\", \"run\", \"says\", \"ca\", \"called\", \"based\", \"done\", \"having\", \"keep\", \"following\", \"doing\", \"looking\", \"seen\", \"trying\", \"wrote\", \"given\", \"getting\", \"makes\", \"remember\", \"running\", \"came\", \"saying\", \"went\", \"buy\", \"including\", \"comes\", \"working\", \"posting\", \"started\", \"known\", \"tried\", \"consider\", \"making\", \"took\", \"talking\", \"killed\", \"asked\", \"goes\", \"taken\", \"posted\", \"wanted\", \"written\", \"happened\", \"interesting\", \"gets\", \"assume\", \"add\", \"includes\", \"lost\", \"coming\", \"considered\", \"happen\", \"allow\", \"taking\", \"mentioned\", \"expect\", \"thinking\", \"needed\", \"according\", \"involved\", \"appreciated\", \"included\", \"leave\", \"save\", \"follow\", \"deleted\", \"created\", \"shall\", \"asking\", \"required\", \"wants\", \"looked\", \"takes\", \"appears\", \"gave\", \"designed\"], \"textposition\": \"top center\", \"type\": \"scatter\", \"x\": [3.1728577613830566, 3.343289852142334, 3.5434412956237793, 3.629530906677246, 5.429306983947754, 4.077420711517334, 4.466700553894043, 3.483570098876953, 3.7540171146392822, 4.164933204650879, 5.337967395782471, 4.413309097290039, 4.95045804977417, 5.650511264801025, 4.13669490814209, 4.108870506286621, 4.287794589996338, 4.847309112548828, 3.3884243965148926, 3.9271440505981445, 3.9388866424560547, 4.168065071105957, 4.229976654052734, 7.184195041656494, 4.172964096069336, 5.472723484039307, 5.431859493255615, 5.408628940582275, 5.686990737915039, 4.024811267852783, 8.119524955749512, 6.43136739730835, 5.249368667602539, 5.006897449493408, 5.363938808441162, 4.614617824554443, 5.880558967590332, 5.055840969085693, 3.3515615463256836, 4.753983020782471, 4.4039740562438965, 8.68503475189209, 6.2809271812438965, 6.709809303283691, 6.0065693855285645, 5.4209980964660645, 5.197009086608887, 7.039468765258789, 5.066988468170166, 7.868956565856934, 4.894052028656006, 7.516955375671387, 5.635295391082764, 3.390223741531372, 5.212024211883545, 4.591763496398926, 5.607716083526611, 4.508913040161133, 6.1794939041137695, 8.465972900390625, 5.593181610107422, 4.637578964233398, 5.782700538635254, 7.571146011352539, 7.583856105804443, 7.7302422523498535, 7.345709800720215, 5.796875953674316, 6.254868030548096, 5.053806304931641, 7.263348579406738, 5.063241958618164, 7.373892784118652, 5.913857460021973, 3.4197707176208496, 6.417483329772949, 5.346168041229248, 5.542510032653809, 5.553067684173584, 7.465086460113525, 5.8846659660339355, 7.519712448120117, 6.428859233856201, 5.6829752922058105, 6.5901970863342285, 5.214515209197998, 7.44179105758667, 7.670965671539307, 7.6811041831970215, 6.145480155944824, 5.955976486206055, 6.566898822784424, 7.936712265014648, 5.511122226715088, 7.29885196685791, 5.604081630706787, 6.937134265899658, 7.085171222686768, 6.7588300704956055, 6.107110977172852, 7.519121170043945, 7.333669662475586, 6.8219523429870605, 7.4280924797058105, 4.6678466796875, 5.867543697357178, 6.660156726837158, 5.307600498199463, 7.369340896606445, 7.161919116973877, 7.202843189239502, 6.643430233001709, 5.740698337554932, 8.280591011047363, 5.809187412261963, 7.696662902832031], \"xaxis\": \"x\", \"y\": [12.993791580200195, 13.334924697875977, 13.706388473510742, 13.223735809326172, 12.349373817443848, 13.69954776763916, 13.970281600952148, 13.511065483093262, 13.850164413452148, 13.156135559082031, 12.296326637268066, 13.397068977355957, 13.75855827331543, 12.471555709838867, 13.161826133728027, 14.917240142822266, 14.476578712463379, 14.666276931762695, 15.135812759399414, 13.95392894744873, 13.508291244506836, 13.565608024597168, 14.62253475189209, 14.882928848266602, 14.232430458068848, 12.477737426757812, 12.291685104370117, 13.686602592468262, 13.40903377532959, 15.108125686645508, 15.820878982543945, 14.234313011169434, 13.117340087890625, 15.927377700805664, 14.970686912536621, 13.28190803527832, 12.697179794311523, 13.893831253051758, 15.495306015014648, 13.283361434936523, 14.33957290649414, 15.480992317199707, 15.338506698608398, 16.20447540283203, 14.475823402404785, 14.528599739074707, 14.33424186706543, 13.102840423583984, 13.969883918762207, 14.704733848571777, 14.089494705200195, 14.138187408447266, 13.403182983398438, 15.43149471282959, 12.82960033416748, 14.486557006835938, 13.273148536682129, 14.549949645996094, 13.985225677490234, 14.999603271484375, 12.49975872039795, 15.12841510772705, 12.455527305603027, 15.611132621765137, 14.820672988891602, 14.389663696289062, 13.677430152893066, 15.323086738586426, 12.31570816040039, 14.752793312072754, 13.517900466918945, 15.590044021606445, 12.833710670471191, 12.657949447631836, 15.560242652893066, 15.743673324584961, 14.773740768432617, 14.024511337280273, 13.085138320922852, 14.338831901550293, 12.933038711547852, 15.136616706848145, 13.128119468688965, 14.969572067260742, 14.005517959594727, 14.767008781433105, 16.04436492919922, 14.870491981506348, 14.207585334777832, 13.552331924438477, 15.764122009277344, 14.152383804321289, 15.669783592224121, 13.229403495788574, 15.465896606445312, 14.592181205749512, 15.360551834106445, 16.07774543762207, 15.236629486083984, 14.784353256225586, 13.981953620910645, 15.180924415588379, 15.155068397521973, 15.545150756835938, 15.557788848876953, 14.772676467895508, 15.365964889526367, 15.61462688446045, 14.975648880004883, 16.49962043762207, 15.275847434997559, 13.367537498474121, 14.099692344665527, 14.873215675354004, 12.757207870483398, 16.135984420776367], \"yaxis\": \"y\"}, {\"hoverlabel\": {\"namelength\": 0}, \"hovertemplate\": \"POS=PRON<br>x=%{x}<br>y=%{y}<br>Word=%{text}\", \"legendgroup\": \"POS=PRON\", \"marker\": {\"color\": \"#19d3f3\", \"symbol\": \"circle\"}, \"mode\": \"markers+text\", \"name\": \"POS=PRON\", \"showlegend\": true, \"text\": [\"it\", \"you\", \"they\", \"what\", \"my\", \"we\", \"he\", \"your\", \"me\", \"who\", \"their\", \"them\", \"his\", \"us\", \"our\", \"its\", \"him\", \"she\", \"her\", \"themselves\", \"itself\", \"myself\", \"himself\", \"yourself\"], \"textposition\": \"top center\", \"type\": \"scatter\", \"x\": [3.240206003189087, 3.607846736907959, 3.689152717590332, 3.6441221237182617, 4.647167682647705, 4.158274173736572, 5.227258205413818, 3.8770995140075684, 4.52864408493042, 3.60404372215271, 3.904208183288574, 5.0614824295043945, 5.145440101623535, 5.461781978607178, 4.350302696228027, 5.151195526123047, 5.172253608703613, 5.907458782196045, 5.855329990386963, 4.7310075759887695, 5.151280879974365, 5.923134803771973, 5.196049690246582, 6.630733489990234], \"xaxis\": \"x\", \"y\": [13.056344985961914, 13.410106658935547, 13.622127532958984, 14.190718650817871, 12.978165626525879, 15.813213348388672, 12.071940422058105, 14.570784568786621, 13.490158081054688, 14.15146255493164, 14.354414939880371, 13.025697708129883, 12.083160400390625, 16.433198928833008, 15.872880935668945, 14.446759223937988, 12.05480670928955, 12.453242301940918, 12.461663246154785, 15.788217544555664, 14.771588325500488, 14.221879959106445, 12.270109176635742, 15.35584831237793], \"yaxis\": \"y\"}, {\"hoverlabel\": {\"namelength\": 0}, \"hovertemplate\": \"POS=ADV<br>x=%{x}<br>y=%{y}<br>Word=%{text}\", \"legendgroup\": \"POS=ADV\", \"marker\": {\"color\": \"#FF6692\", \"symbol\": \"circle\"}, \"mode\": \"markers+text\", \"name\": \"POS=ADV\", \"showlegend\": true, \"text\": [\"not\", \"there\", \"so\", \"more\", \"when\", \"just\", \"up\", \"only\", \"how\", \"also\", \"then\", \"well\", \"very\", \"even\", \"now\", \"why\", \"first\", \"here\", \"where\", \"too\", \"really\", \"back\", \"still\", \"better\", \"never\", \"down\", \"long\", \"however\", \"probably\", \"again\", \"enough\", \"far\", \"actually\", \"rather\", \"else\", \"less\", \"maybe\", \"always\", \"quite\", \"yet\", \"away\", \"ever\", \"already\", \"once\", \"ago\", \"perhaps\", \"pretty\", \"often\", \"simply\", \"almost\", \"later\", \"instead\", \"certainly\", \"anyway\", \"usually\", \"exactly\", \"thus\", \"especially\", \"therefore\", \"early\", \"recently\", \"sometimes\", \"soon\", \"further\", \"together\", \"close\", \"currently\", \"otherwise\", \"clearly\", \"completely\", \"easily\", \"indeed\", \"finally\"], \"textposition\": \"top center\", \"type\": \"scatter\", \"x\": [3.290253162384033, 4.530790328979492, 3.7499473094940186, 3.362152338027954, 5.124892234802246, 5.870465278625488, 3.240553855895996, 4.287153244018555, 4.020599365234375, 3.67820405960083, 4.306202411651611, 4.177619934082031, 5.064469814300537, 3.7708988189697266, 5.28859806060791, 4.057579040527344, 6.434086322784424, 5.384897232055664, 6.782233238220215, 4.352158546447754, 5.366827011108398, 5.699398040771484, 5.162558078765869, 3.3684120178222656, 5.00862455368042, 5.880070686340332, 5.14829683303833, 3.9485673904418945, 5.119101524353027, 4.724161148071289, 5.115910053253174, 4.1217803955078125, 4.282229900360107, 3.3669910430908203, 4.83920431137085, 3.4027328491210938, 3.4960968494415283, 4.932099342346191, 4.840701103210449, 5.312767505645752, 5.394958019256592, 5.899050712585449, 5.94101619720459, 4.871753215789795, 6.769552707672119, 4.9007039070129395, 3.4418344497680664, 4.725793361663818, 4.252500057220459, 5.444972038269043, 6.489476680755615, 5.850105285644531, 4.3094635009765625, 5.179794788360596, 5.76276969909668, 4.088814735412598, 7.408044338226318, 5.85824728012085, 4.628904819488525, 7.040521621704102, 7.463484764099121, 7.967776298522949, 6.656790256500244, 5.574990749359131, 6.913528919219971, 6.25867223739624, 7.992336273193359, 7.10919189453125, 5.416274547576904, 6.30512809753418, 7.133670330047607, 5.07873010635376, 6.276416778564453], \"xaxis\": \"x\", \"y\": [13.075491905212402, 13.91049861907959, 13.372920036315918, 14.423108100891113, 13.125934600830078, 12.9878568649292, 15.358835220336914, 13.384279251098633, 14.629876136779785, 14.332207679748535, 13.033732414245605, 13.635828971862793, 14.22863483428955, 13.605789184570312, 13.365562438964844, 14.920625686645508, 13.633296966552734, 14.016341209411621, 12.990041732788086, 14.20337963104248, 13.946240425109863, 12.482595443725586, 13.56477165222168, 14.552229881286621, 13.166789054870605, 13.264440536499023, 13.446623802185059, 13.901796340942383, 14.09829044342041, 13.054882049560547, 14.222228050231934, 13.755966186523438, 14.015339851379395, 14.517065048217773, 13.844051361083984, 14.541827201843262, 15.414875984191895, 13.72878360748291, 14.235733032226562, 13.745622634887695, 12.835086822509766, 14.14895248413086, 13.991360664367676, 13.251419067382812, 12.959127426147461, 14.92159366607666, 15.228041648864746, 14.47259521484375, 14.419007301330566, 13.891128540039062, 13.3854341506958, 14.852715492248535, 14.159860610961914, 13.927863121032715, 15.483516693115234, 14.462583541870117, 16.603275299072266, 14.040023803710938, 15.369916915893555, 15.048213958740234, 14.0619478225708, 15.356542587280273, 15.525452613830566, 15.018043518066406, 14.160947799682617, 14.048418045043945, 14.320409774780273, 15.415848731994629, 15.200562477111816, 14.374567985534668, 14.706625938415527, 15.041739463806152, 13.178415298461914], \"yaxis\": \"y\"}, {\"hoverlabel\": {\"namelength\": 0}, \"hovertemplate\": \"POS=NUM<br>x=%{x}<br>y=%{y}<br>Word=%{text}\", \"legendgroup\": \"POS=NUM\", \"marker\": {\"color\": \"#B6E880\", \"symbol\": \"circle\"}, \"mode\": \"markers+text\", \"name\": \"POS=NUM\", \"showlegend\": true, \"text\": [\"one\", \"two\", \"three\", \"34u\", \"1d9\", \"0t\", \"four\", \"3t\", \"2di\", \"million\"], \"textposition\": \"top center\", \"type\": \"scatter\", \"x\": [4.4097514152526855, 6.626338005065918, 6.652380466461182, 6.97009801864624, 7.163669109344482, 7.300713062286377, 6.7713422775268555, 6.750620365142822, 6.962210178375244, 6.306136131286621], \"xaxis\": \"x\", \"y\": [13.387212753295898, 13.470932006835938, 13.556108474731445, 15.622173309326172, 15.201191902160645, 15.203788757324219, 13.8588285446167, 14.956483840942383, 15.213040351867676, 16.40302276611328], \"yaxis\": \"y\"}, {\"hoverlabel\": {\"namelength\": 0}, \"hovertemplate\": \"POS=NOUN<br>x=%{x}<br>y=%{y}<br>Word=%{text}\", \"legendgroup\": \"POS=NOUN\", \"marker\": {\"color\": \"#FF97FF\", \"symbol\": \"circle\"}, \"mode\": \"markers+text\", \"name\": \"POS=NOUN\", \"showlegend\": true, \"text\": [\"writes\", \"article\", \"edu\", \"people\", \"don\", \"think\", \"use\", \"com\", \"time\", \"way\", \"god\", \"right\", \"system\", \"ve\", \"re\", \"want\", \"anyone\", \"need\", \"something\", \"problem\", \"work\", \"year\", \"file\", \"please\", \"point\", \"years\", \"information\", \"ll\", \"government\", \"things\", \"windows\", \"program\", \"number\", \"question\", \"sure\", \"etc\", \"help\", \"bit\", \"read\", \"space\", \"thanks\", \"data\", \"drive\", \"mail\", \"world\", \"someone\", \"doesn\", \"case\", \"thing\", \"key\", \"power\", \"look\", \"law\", \"didn\", \"part\", \"cs\", \"fact\", \"state\", \"anything\", \"day\", \"name\", \"set\", \"tell\", \"course\", \"news\", \"put\", \"line\", \"lot\", \"car\", \"list\", \"try\", \"jesus\", \"game\", \"end\", \"software\", \"b8f\", \"life\", \"team\", \"non\", \"window\", \"post\", \"mean\", \"support\", \"public\", \"group\", \"example\", \"nothing\", \"found\", \"reason\", \"send\", \"mr\", \"version\", \"card\", \"order\", \"call\", \"person\", \"gun\", \"files\", \"problems\", \"computer\", \"thought\", \"others\", \"yes\", \"place\", \"chip\", \"isn\", \"left\", \"man\", \"a86\", \"heard\", \"times\", \"control\", \"means\", \"israel\", \"john\", \"won\", \"start\", \"subject\", \"info\", \"idea\", \"note\", \"email\", \"dos\", \"play\", \"david\", \"code\", \"scsi\", \"seem\", \"access\", \"kind\", \"jews\", \"book\", \"source\", \"ftp\", \"image\", \"sun\", \"university\", \"cannot\", \"evidence\", \"money\", \"human\", \"pc\", \"disk\", \"today\", \"christian\", \"mac\", \"systems\", \"issue\", \"president\", \"graphics\", \"children\", \"told\", \"ask\", \"research\", \"nasa\", \"questions\", \"win\", \"change\", \"speed\", \"home\", \"answer\", \"games\", \"word\", \"standard\", \"states\", \"encryption\", \"net\", \"works\", \"price\", \"type\", \"rights\", \"memory\", \"hand\", \"address\", \"hope\", \"show\", \"stuff\", \"server\", \"side\", \"war\", \"days\", \"check\", \"message\", \"cost\", \"matter\", \"color\", \"april\", \"output\", \"feel\", \"agree\", \"science\", \"everyone\", \"phone\", \"everything\", \"center\", \"display\", \"db\", \"include\", \"mark\", \"understand\", \"claim\", \"ac\", \"cause\", \"machine\", \"bill\", \"area\", \"provide\", \"wouldn\", \"apple\", \"package\", \"season\", \"anybody\", \"men\", \"programs\", \"hp\", \"truth\", \"care\", \"technology\", \"guess\", \"history\", \"religion\", \"christians\", \"turkish\", \"write\", \"security\", \"church\", \"armenians\", \"size\", \"pub\", \"country\", \"mind\", \"video\", \"cc\", \"mit\", \"keys\", \"house\", \"ibm\", \"difference\", \"sort\", \"numbers\", \"couple\", \"argument\", \"hardware\", \"period\", \"application\", \"correct\", \"internet\", \"talk\", \"gov\", \"screen\", \"ok\", \"faith\", \"level\", \"police\", \"service\", \"earth\", \"clipper\", \"driver\", \"christ\", \"faq\", \"love\", \"saw\", \"contact\", \"players\", \"top\", \"groups\", \"hockey\", \"box\", \"body\", \"fast\", \"experience\", \"death\", \"user\", \"press\", \"hi\", \"deal\", \"uses\", \"hell\", \"pay\", \"city\", \"simple\", \"reading\", \"uk\", \"org\", \"value\", \"sense\", \"vs\", \"jewish\", \"points\", \"exist\", \"fine\", \"week\", \"words\", \"force\", \"build\", \"bike\", \"copy\", \"paul\", \"head\", \"ms\", \"view\", \"guns\", \"stop\", \"board\", \"turn\", \"entry\", \"mode\", \"washington\", \"runs\", \"light\", \"lines\", \"rate\", \"self\", \"bus\", \"fire\", \"steve\", \"return\", \"position\", \"sound\", \"drivers\", \"league\", \"hit\", \"laws\", \"hear\", \"form\", \"become\", \"health\", \"model\", \"discussion\", \"section\", \"women\", \"built\", \"haven\", \"rest\", \"netcom\", \"business\", \"ones\", \"text\", \"anti\", \"st\", \"oh\", \"situation\", \"weapons\", \"test\", \"advance\", \"aren\", \"past\", \"sorry\", \"front\", \"crime\", \"needs\", \"night\", \"opinion\", \"drives\", \"face\", \"guy\", \"de\", \"uiuc\", \"statement\", \"ground\", \"sell\", \"future\", \"defense\", \"society\", \"wasn\", \"clinton\", \"monitor\", \"looks\", \"unix\", \"effect\", \"job\", \"friend\", \"company\", \"cars\", \"kill\", \"motif\", \"offer\", \"act\", \"books\", \"mouse\", \"error\", \"format\", \"cases\", \"study\", \"process\", \"os\", \"mike\", \"move\", \"users\", \"purpose\", \"water\", \"privacy\", \"cd\", \"accept\", \"result\", \"ram\", \"worth\", \"sources\", \"office\", \"controller\", \"manager\", \"months\", \"policy\", \"rules\", \"half\", \"members\", \"andrew\", \"parts\", \"court\", \"action\", \"directory\", \"widget\", \"sent\", \"date\", \"land\", \"fax\", \"school\", \"present\", \"series\", \"building\", \"radio\", \"co\", \"cut\", \"air\", \"food\", \"network\", \"longer\", \"administration\", \"population\", \"response\", \"reference\", \"robert\", \"york\", \"road\", \"san\", \"sale\", \"request\", \"knows\", \"comments\", \"michael\", \"player\", \"mine\", \"create\", \"knowledge\", \"couldn\", \"interface\", \"fbi\", \"cover\", \"cards\", \"images\", \"story\", \"reply\", \"comp\", \"toronto\", \"tv\", \"hold\", \"performance\", \"quality\", \"jim\", \"la\", \"site\", \"doubt\", \"weeks\", \"report\", \"apr\", \"existence\", \"al\", \"device\", \"explain\", \"media\", \"baseball\", \"father\", \"canada\", \"engine\", \"division\", \"figure\", \"theory\", \"input\", \"teams\", \"james\", \"details\", \"family\", \"product\", \"algorithm\", \"results\", \"congress\", \"stephanopoulos\", \"record\", \"interest\", \"carry\", \"east\", \"goal\", \"design\", \"tape\", \"market\", \"turkey\", \"command\", \"greek\", \"function\", \"living\", \"applications\", \"chance\", \"opinions\", \"launch\", \"term\", \"protect\", \"insurance\", \"objective\", \"ii\", \"christianity\", \"newsgroup\", \"sci\", \"unit\", \"peace\", \"rutgers\", \"bought\", \"gas\", \"base\", \"dr\", \"son\", \"machines\", \"language\", \"amount\", \"usenet\", \"suggest\", \"reasons\", \"dave\", \"bob\", \"none\", \"secure\", \"shot\", \"condition\", \"attack\", \"sounds\", \"arab\", \"tax\", \"choice\"], \"textposition\": \"top center\", \"type\": \"scatter\", \"x\": [3.560277223587036, 3.5535521507263184, 3.655362606048584, 3.873542308807373, 3.7003817558288574, 4.128629207611084, 8.180190086364746, 3.5699965953826904, 5.024837493896484, 4.635122299194336, 4.225839614868164, 5.601961135864258, 7.524853706359863, 5.47113037109375, 5.243797302246094, 5.850674629211426, 5.604139804840088, 7.469411849975586, 4.9941487312316895, 7.41225004196167, 7.64581823348999, 6.66878604888916, 8.456932067871094, 8.462718963623047, 4.360382556915283, 6.791687965393066, 8.468972206115723, 5.7807087898254395, 6.587247848510742, 5.224670886993408, 8.877531051635742, 8.519068717956543, 6.649456024169922, 4.782501697540283, 4.001863956451416, 7.230988502502441, 7.313380241394043, 6.933200359344482, 4.891798496246338, 6.915558815002441, 8.339624404907227, 8.230502128601074, 8.037450790405273, 8.426875114440918, 4.0282416343688965, 4.613912582397461, 4.333871841430664, 5.238088130950928, 4.489078998565674, 6.925734519958496, 6.936073303222656, 5.76564359664917, 5.525437355041504, 5.532793998718262, 5.7491865158081055, 4.975741386413574, 4.122319221496582, 5.660193920135498, 5.274935245513916, 5.664981365203857, 5.126643657684326, 5.771997451782227, 4.492913722991943, 4.780524730682373, 6.249238967895508, 4.778675556182861, 6.569064617156982, 6.952773571014404, 6.463626384735107, 7.724525451660156, 5.658076286315918, 4.9103593826293945, 5.852575302124023, 5.827416896820068, 8.343461036682129, 7.312780857086182, 4.605069637298584, 6.312833309173584, 5.217080593109131, 8.633496284484863, 6.502127170562744, 4.129265785217285, 6.6350836753845215, 6.96048641204834, 7.277613162994385, 4.485144138336182, 3.922534704208374, 5.959091663360596, 3.907693862915039, 7.9253740310668945, 6.359750747680664, 8.304162979125977, 8.043794631958008, 6.597634792327881, 6.398292064666748, 4.302703857421875, 6.024642467498779, 8.553507804870605, 6.941015720367432, 6.986184597015381, 5.769009113311768, 4.0552287101745605, 5.006355285644531, 6.253348350524902, 6.790210247039795, 4.833882808685303, 5.830766201019287, 5.1104512214660645, 7.196086406707764, 6.295669078826904, 5.001582622528076, 6.34410285949707, 4.499879837036133, 4.833694934844971, 3.405092239379883, 6.068711280822754, 6.045771598815918, 5.117092132568359, 7.567334175109863, 5.507917881011963, 5.377563953399658, 8.380696296691895, 8.825849533081055, 6.099488735198975, 6.462341785430908, 7.957934856414795, 8.21699047088623, 4.910071849822998, 8.828913688659668, 6.974634647369385, 4.922100067138672, 7.3232951164245605, 7.781794548034668, 8.5466947555542, 8.104366302490234, 7.2605156898498535, 7.027218818664551, 4.387315273284912, 4.445883274078369, 6.937130928039551, 4.890859603881836, 8.58375072479248, 8.024312973022461, 5.7558441162109375, 4.427255153656006, 8.014498710632324, 7.357169151306152, 4.596250534057617, 6.307125568389893, 7.53813362121582, 6.288548946380615, 5.689098358154297, 4.84555721282959, 5.014179229736328, 7.585505485534668, 4.849668025970459, 6.7232842445373535, 7.201394081115723, 8.029766082763672, 6.494810104370117, 4.957204341888428, 6.879853248596191, 4.964892864227295, 8.186777114868164, 5.772881507873535, 6.491523742675781, 6.0497307777404785, 7.635677337646484, 7.816029071807861, 7.682398319244385, 5.170229434967041, 8.142428398132324, 5.721545696258545, 8.086299896240234, 5.277406692504883, 5.108618259429932, 6.05045747756958, 8.531087875366211, 5.825129985809326, 5.675160884857178, 6.881357192993164, 7.183289051055908, 8.027119636535645, 7.177332878112793, 4.602188587188721, 8.398201942443848, 6.0208916664123535, 7.809296607971191, 6.853701114654541, 4.393686771392822, 5.5555806159973145, 4.949523448944092, 7.240927696228027, 5.829163074493408, 4.952268123626709, 8.305634498596191, 7.567573070526123, 7.989795207977295, 6.023013114929199, 4.254777908325195, 4.4702982902526855, 6.298129558563232, 6.097207069396973, 8.479310989379883, 6.2187981605529785, 6.1386542320251465, 5.494437217712402, 4.806835174560547, 8.500667572021484, 7.44210147857666, 6.601021766662598, 7.203362941741943, 5.902771949768066, 8.408037185668945, 7.589029788970947, 4.545346736907959, 6.931469917297363, 6.447669982910156, 5.401470184326172, 5.458910942077637, 4.488946914672852, 4.508020877838135, 5.519247055053711, 8.089439392089844, 6.675221920013428, 5.318850994110107, 5.559472560882568, 8.305520057678223, 8.591304779052734, 5.799561023712158, 4.873317241668701, 8.184449195861816, 6.588554382324219, 8.277878761291504, 6.779289245605469, 6.2933430671691895, 8.170855522155762, 6.845192909240723, 4.912800312042236, 6.2106218338012695, 6.566151142120361, 4.512682914733887, 8.471756935119629, 6.386911392211914, 8.695300102233887, 4.816868305206299, 8.658690452575684, 5.4461236000061035, 7.236892223358154, 8.184078216552734, 7.415495872497559, 4.355379581451416, 7.52318811416626, 5.792426109313965, 7.263773441314697, 6.278895378112793, 6.593797206878662, 8.066390037536621, 4.897185325622559, 7.701231002807617, 4.809285640716553, 6.119268894195557, 8.137120246887207, 6.213843822479248, 7.799121856689453, 7.340254783630371, 6.148092746734619, 7.5819878578186035, 7.079150676727295, 8.015823364257812, 5.590331554412842, 5.417610168457031, 8.631909370422363, 6.033562183380127, 7.447356224060059, 7.557979106903076, 7.938917636871338, 5.279201507568359, 6.9277238845825195, 6.762321949005127, 7.330002307891846, 7.288918495178223, 6.1236796379089355, 4.6945481300354, 7.10292387008667, 4.321720123291016, 6.936514377593994, 3.4087815284729004, 6.625314235687256, 4.3001604080200195, 7.762005805969238, 7.247204780578613, 4.7181172370910645, 6.263431072235107, 7.519531726837158, 5.986077308654785, 8.034461975097656, 4.808677673339844, 6.202211380004883, 8.8671236038208, 5.270870685577393, 6.092492580413818, 5.573754787445068, 7.733775615692139, 6.037524700164795, 7.769070148468018, 8.269046783447266, 6.81150484085083, 6.4331746101379395, 6.6106343269348145, 6.5500030517578125, 6.312338352203369, 6.2143025398254395, 7.754209518432617, 6.380967140197754, 6.227903842926025, 7.821164608001709, 5.4617695808410645, 7.539699077606201, 8.068799018859863, 6.149202823638916, 6.422348499298096, 5.5071187019348145, 5.905389785766602, 6.511603355407715, 4.903964519500732, 6.974447727203369, 7.73006010055542, 5.597168922424316, 7.625140190124512, 5.691267967224121, 7.3029680252075195, 5.650096893310547, 6.325168132781982, 5.728481292724609, 6.574690341949463, 7.115112781524658, 8.158428192138672, 5.304802417755127, 6.761652946472168, 5.483038425445557, 6.645264625549316, 6.205341815948486, 7.852243423461914, 8.373086929321289, 4.9276628494262695, 3.398261070251465, 7.29371976852417, 6.323163032531738, 6.172983169555664, 7.29902458190918, 6.415728569030762, 4.656528472900391, 8.06238842010498, 7.278323173522949, 6.119158744812012, 7.419692516326904, 6.2876105308532715, 4.5297088623046875, 7.043227672576904, 7.563797473907471, 6.633036136627197, 6.231285572052002, 5.033801555633545, 6.289046287536621, 6.251339912414551, 6.132495880126953, 6.273154258728027, 8.719112396240234, 6.471288204193115, 6.964540004730225, 6.886607646942139, 7.453831672668457, 6.408092021942139, 6.744159698486328, 8.491206169128418, 7.506072998046875, 5.389314651489258, 7.287224769592285, 7.919846057891846, 8.305909156799316, 7.989196300506592, 6.003949165344238, 6.076240539550781, 7.288691997528076, 8.85343074798584, 6.6211371421813965, 7.538212776184082, 8.730883598327637, 6.853538513183594, 6.640380859375, 6.561329364776611, 7.336231231689453, 4.620051383972168, 7.232809543609619, 8.173595428466797, 7.159512042999268, 7.683841705322266, 6.516148090362549, 8.079970359802246, 8.626124382019043, 7.142083644866943, 4.862229824066162, 6.730700492858887, 6.438448429107666, 6.319242477416992, 6.280433177947998, 7.010976314544678, 5.675179958343506, 5.34438419342041, 8.609516143798828, 8.20339298248291, 7.789649963378906, 8.064574241638184, 5.065601825714111, 7.742541313171387, 6.8727617263793945, 3.4225263595581055, 6.819003582000732, 6.501861095428467, 7.812585830688477, 6.37734842300415, 7.111170291900635, 6.944648742675781, 6.233962535858154, 8.648102760314941, 6.928673267364502, 6.341928958892822, 6.122156143188477, 6.892461776733398, 7.464331150054932, 6.785498142242432, 6.916038990020752, 5.990711212158203, 6.82928466796875, 7.561593055725098, 7.737439155578613, 7.886566638946533, 7.730035781860352, 6.359734058380127, 6.223425388336182, 6.821041107177734, 8.639259338378906, 5.297405242919922, 6.5687994956970215, 8.063223838806152, 6.31308126449585, 6.95847225189209, 7.995410919189453, 8.173234939575195, 6.19673490524292, 8.424056053161621, 7.595067024230957, 6.683643341064453, 6.903814315795898, 5.826342582702637, 7.730515956878662, 7.104583740234375, 5.505951881408691, 6.982481479644775, 8.430068016052246, 5.224712371826172, 6.756465911865234, 6.553244590759277, 5.0308146476745605, 4.268404483795166, 6.80328893661499, 7.163947582244873, 5.344442844390869, 6.404670238494873, 6.155574321746826, 5.01625394821167, 6.887436866760254, 6.8774800300598145, 6.717123985290527, 7.414365291595459, 5.522792816162109, 7.663987636566162, 6.383564472198486, 7.063666820526123, 7.0931196212768555, 7.094551086425781, 8.781622886657715, 6.765964031219482, 7.349915504455566, 6.28330659866333, 6.521799564361572, 6.66373348236084, 7.277172565460205, 6.423198223114014, 7.014175891876221, 6.069427013397217, 7.8007588386535645, 7.472877502441406, 7.548515319824219, 5.479377746582031, 7.711672782897949, 5.573322296142578, 7.714666843414307, 5.130532264709473, 8.689266204833984, 6.32442045211792, 6.88491153717041, 7.0019707679748535, 6.96999979019165, 6.7787394523620605, 7.02302885055542, 5.676974296569824, 7.821987152099609, 4.513622760772705, 7.35106086730957, 7.885125160217285, 7.730856418609619, 4.86959171295166, 5.05579948425293, 6.610836982727051, 6.43027400970459, 7.011865615844727, 7.098252296447754, 5.108372211456299, 8.31948471069336, 7.2188215255737305, 7.416088581085205, 7.159684181213379, 6.026077747344971, 4.800012588500977, 6.792352199554443, 6.534261703491211, 6.884974479675293, 6.676499843597412, 6.360267162322998, 7.426447868347168, 6.675144672393799, 3.566115617752075, 4.916358947753906, 6.396956443786621, 7.026111125946045], \"xaxis\": \"x\", \"y\": [12.982962608337402, 12.894046783447266, 12.888426780700684, 14.67880916595459, 13.628316879272461, 14.397710800170898, 15.83259391784668, 12.923577308654785, 13.486649513244629, 14.041769027709961, 15.399650573730469, 13.487090110778809, 14.320547103881836, 13.102701187133789, 13.628472328186035, 14.988718032836914, 14.382454872131348, 16.039255142211914, 14.197710037231445, 13.519837379455566, 13.679583549499512, 13.938847541809082, 14.560805320739746, 13.808714866638184, 14.347027778625488, 13.111641883850098, 14.618830680847168, 14.190471649169922, 17.21169090270996, 13.385025978088379, 14.940728187561035, 14.51844596862793, 15.300505638122559, 14.859674453735352, 13.32040786743164, 14.831247329711914, 13.506024360656738, 13.752039909362793, 14.293006896972656, 16.129505157470703, 13.883346557617188, 15.385908126831055, 14.328144073486328, 13.73835563659668, 14.141125679016113, 13.715165138244629, 13.530733108520508, 14.594023704528809, 13.388717651367188, 17.149229049682617, 14.514591217041016, 14.054308891296387, 16.133628845214844, 12.301865577697754, 14.450716972351074, 15.06560230255127, 14.337791442871094, 16.45128059387207, 13.814092636108398, 12.840426445007324, 12.129487991333008, 15.150943756103516, 13.732941627502441, 14.412996292114258, 12.686210632324219, 13.120452880859375, 15.043869972229004, 12.596028327941895, 13.41333293914795, 14.540905952453613, 14.128637313842773, 12.034173011779785, 14.950867652893066, 14.9140043258667, 15.749258995056152, 15.734943389892578, 15.916254997253418, 14.844520568847656, 15.281599044799805, 15.073092460632324, 14.08448314666748, 14.712175369262695, 14.402318954467773, 16.94567108154297, 12.655433654785156, 14.605999946594238, 14.269669532775879, 12.700348854064941, 15.092809677124023, 14.508275032043457, 16.740062713623047, 14.415685653686523, 15.691631317138672, 13.455965042114258, 15.3023681640625, 14.757747650146484, 16.219812393188477, 14.511709213256836, 13.35645580291748, 14.58228874206543, 13.15072250366211, 14.66066837310791, 14.438905715942383, 14.506536483764648, 17.384172439575195, 14.062777519226074, 13.346921920776367, 12.207538604736328, 15.41183090209961, 13.098623275756836, 13.960038185119629, 16.37176513671875, 14.851425170898438, 16.398088455200195, 15.444350242614746, 14.040562629699707, 13.669452667236328, 15.210561752319336, 14.427721977233887, 14.043778419494629, 14.580602645874023, 13.976651191711426, 14.878347396850586, 14.968293190002441, 14.13741397857666, 15.018582344055176, 15.295401573181152, 14.062643051147461, 15.123506546020508, 12.884613990783691, 16.391101837158203, 14.28421401977539, 14.95938777923584, 14.260201454162598, 15.345215797424316, 14.750322341918945, 16.205703735351562, 15.078067779541016, 15.255782127380371, 16.63042640686035, 16.006032943725586, 15.466050148010254, 14.301587104797363, 16.088809967041016, 15.726061820983887, 15.506518363952637, 14.466445922851562, 15.116453170776367, 16.965763092041016, 12.942298889160156, 12.307014465332031, 12.58035945892334, 15.23958969116211, 16.08696174621582, 14.552519798278809, 15.310983657836914, 14.875252723693848, 14.328962326049805, 15.990701675415039, 15.183112144470215, 15.196442604064941, 14.128154754638672, 15.14155387878418, 14.737738609313965, 16.603191375732422, 17.356294631958008, 15.558009147644043, 13.782490730285645, 15.984823226928711, 14.220290184020996, 16.266742706298828, 15.749077796936035, 13.47856330871582, 14.159022331237793, 13.737679481506348, 15.007973670959473, 14.708894729614258, 15.425331115722656, 13.446195602416992, 16.67704200744629, 13.73547649383545, 14.780077934265137, 14.739849090576172, 16.244651794433594, 14.592612266540527, 15.195599555969238, 16.84239387512207, 15.41655445098877, 12.713932991027832, 14.935050964355469, 15.2677583694458, 14.907028198242188, 16.493976593017578, 13.881837844848633, 16.240320205688477, 15.204909324645996, 16.518306732177734, 15.14412784576416, 14.170633316040039, 14.801736831665039, 15.211260795593262, 14.95349407196045, 14.481064796447754, 15.607633590698242, 16.959531784057617, 14.556495666503906, 15.39831829071045, 14.134406089782715, 15.500617980957031, 14.913098335266113, 13.990790367126465, 14.403141975402832, 15.850040435791016, 14.467368125915527, 14.254639625549316, 15.225728988647461, 16.67245864868164, 17.213176727294922, 14.180828094482422, 16.578205108642578, 15.730567932128906, 15.690681457519531, 16.790878295898438, 14.827101707458496, 17.303207397460938, 15.260878562927246, 16.722728729248047, 14.881218910217285, 14.320815086364746, 16.567155838012695, 14.32022762298584, 15.645424842834473, 14.6947660446167, 15.833463668823242, 17.228193283081055, 16.939912796020508, 15.448129653930664, 14.571256637573242, 14.271068572998047, 15.64766788482666, 13.8202486038208, 15.145121574401855, 15.597999572753906, 15.645777702331543, 14.998821258544922, 14.987871170043945, 14.646843910217285, 14.395008087158203, 14.323516845703125, 15.260436058044434, 15.510357856750488, 15.346214294433594, 15.893342971801758, 16.10760498046875, 16.43047332763672, 16.28775405883789, 17.365097045898438, 14.784335136413574, 12.067405700683594, 14.067610740661621, 15.610082626342773, 12.709315299987793, 14.607038497924805, 15.115826606750488, 15.23599624633789, 12.789915084838867, 15.000396728515625, 15.183953285217285, 14.956761360168457, 16.109100341796875, 14.743508338928223, 15.191327095031738, 15.093780517578125, 16.796497344970703, 14.035555839538574, 15.914198875427246, 15.860668182373047, 15.181174278259277, 16.536069869995117, 16.041046142578125, 15.0396146774292, 12.833232879638672, 15.462675094604492, 16.072269439697266, 15.964195251464844, 14.670615196228027, 14.820947647094727, 15.528182029724121, 15.5116605758667, 15.220495223999023, 13.813488960266113, 12.850449562072754, 15.158940315246582, 16.34541893005371, 15.97465705871582, 13.537928581237793, 14.877278327941895, 15.290756225585938, 13.238492965698242, 14.962173461914062, 15.08142375946045, 16.219017028808594, 14.084138870239258, 15.848891258239746, 13.336459159851074, 15.185675621032715, 14.695904731750488, 15.992203712463379, 15.103924751281738, 14.195112228393555, 14.782001495361328, 15.858468055725098, 16.07476806640625, 15.414998054504395, 12.295048713684082, 16.257699966430664, 15.764195442199707, 14.631464958190918, 16.436628341674805, 14.150132179260254, 14.97751235961914, 13.78715991973877, 16.100278854370117, 13.95210075378418, 15.646228790283203, 15.537801742553711, 16.6704044342041, 15.250349998474121, 15.201173782348633, 15.145442008972168, 15.626445770263672, 15.846653938293457, 13.726653099060059, 13.776140213012695, 15.115171432495117, 16.213876724243164, 15.884862899780273, 14.781493186950684, 16.47071075439453, 15.89806842803955, 13.594417572021484, 15.303625106811523, 16.194782257080078, 14.820789337158203, 14.147183418273926, 14.053948402404785, 15.459417343139648, 14.888763427734375, 13.604199409484863, 16.09234046936035, 15.83263111114502, 14.675122261047363, 14.856163024902344, 14.372809410095215, 15.670180320739746, 13.072654724121094, 15.545378684997559, 12.85236930847168, 15.13355827331543, 16.64673614501953, 14.95276165008545, 15.731730461120605, 16.14936637878418, 16.001054763793945, 13.234123229980469, 17.03287696838379, 14.655576705932617, 14.382877349853516, 15.324560165405273, 14.515412330627441, 15.934700965881348, 15.011423110961914, 16.558624267578125, 13.441739082336426, 15.643842697143555, 15.099273681640625, 14.679869651794434, 15.790899276733398, 14.228693962097168, 15.248339653015137, 14.957878112792969, 14.891735076904297, 15.969064712524414, 15.81949234008789, 15.736451148986816, 15.17005443572998, 14.385502815246582, 15.328027725219727, 15.361384391784668, 15.52293586730957, 15.768426895141602, 17.322717666625977, 14.679746627807617, 15.421643257141113, 12.842529296875, 15.651476860046387, 15.845672607421875, 14.823185920715332, 16.489683151245117, 15.238947868347168, 14.986918449401855, 14.219244003295898, 16.277721405029297, 15.798495292663574, 14.258545875549316, 12.421216011047363, 14.409804344177246, 14.592144966125488, 16.224916458129883, 15.754437446594238, 14.478927612304688, 15.092671394348145, 14.603886604309082, 15.142810821533203, 16.257116317749023, 14.964240074157715, 15.634724617004395, 15.468505859375, 14.661788940429688, 12.403916358947754, 16.135272979736328, 15.353720664978027, 15.288095474243164, 15.58301067352295, 14.389076232910156, 15.46608829498291, 15.149369239807129, 17.135122299194336, 16.050167083740234, 15.22612476348877, 14.405242919921875, 15.064750671386719, 15.683573722839355, 13.55601978302002, 15.792227745056152, 14.809921264648438, 15.06032943725586, 14.254911422729492, 14.15141773223877, 15.199891090393066, 15.28309154510498, 14.969036102294922, 14.938493728637695, 14.971451759338379, 14.618638038635254, 15.33675765991211, 12.342904090881348, 15.223334312438965, 15.530888557434082, 15.257664680480957, 12.603084564208984, 13.825533866882324, 13.363978385925293, 14.663727760314941, 14.287191390991211, 15.357534408569336, 15.907026290893555, 15.478080749511719, 15.550968170166016, 14.861273765563965, 14.304450988769531, 15.013670921325684, 13.049056053161621, 15.739148139953613, 15.619851112365723, 15.310643196105957, 15.467111587524414, 15.298684120178223, 15.089025497436523, 15.945452690124512, 14.835638046264648, 12.026747703552246, 16.091299057006836, 14.396547317504883, 14.78297233581543, 15.632437705993652, 15.023880004882812, 15.280930519104004, 14.893949508666992, 15.414859771728516, 15.553672790527344, 15.12526798248291, 15.124578475952148, 17.168479919433594, 15.463166236877441, 16.936126708984375, 16.82355499267578, 15.277253150939941, 15.309971809387207, 15.969328880310059, 15.335567474365234, 15.496270179748535, 16.058176040649414, 14.974708557128906, 15.7501802444458, 16.779550552368164, 14.78513240814209, 16.668474197387695, 15.217229843139648, 15.968241691589355, 15.11398983001709, 14.595595359802246, 15.263849258422852, 16.017789840698242, 16.33220672607422, 16.13542366027832, 16.630815505981445, 15.57575798034668, 15.525568008422852, 15.678659439086914, 12.830589294433594, 14.252826690673828, 16.342430114746094, 16.272891998291016, 15.618885040283203, 13.146018028259277, 12.284806251525879, 15.361781120300293, 15.885212898254395, 12.114363670349121, 15.552773475646973, 15.303960800170898, 15.85815715789795, 15.652119636535645, 14.964826583862305, 14.784852027893066, 15.679405212402344, 14.662517547607422, 15.53002643585205, 17.301992416381836, 15.54824161529541, 14.981141090393066, 16.01564598083496, 15.392374038696289, 16.394893646240234, 16.63849449157715, 15.487975120544434], \"yaxis\": \"y\"}, {\"hoverlabel\": {\"namelength\": 0}, \"hovertemplate\": \"POS=ADJ<br>x=%{x}<br>y=%{y}<br>Word=%{text}\", \"legendgroup\": \"POS=ADJ\", \"marker\": {\"color\": \"#FECB52\", \"symbol\": \"circle\"}, \"mode\": \"markers+text\", \"name\": \"POS=ADJ\", \"showlegend\": true, \"text\": [\"other\", \"good\", \"new\", \"much\", \"many\", \"most\", \"such\", \"same\", \"last\", \"own\", \"available\", \"few\", \"little\", \"true\", \"best\", \"least\", \"different\", \"second\", \"great\", \"possible\", \"high\", \"hard\", \"real\", \"old\", \"wrong\", \"able\", \"next\", \"free\", \"several\", \"bad\", \"general\", \"big\", \"current\", \"american\", \"local\", \"large\", \"small\", \"whole\", \"national\", \"bible\", \"full\", \"open\", \"interested\", \"important\", \"live\", \"armenian\", \"original\", \"low\", \"israeli\", \"similar\", \"single\", \"certain\", \"likely\", \"nice\", \"white\", \"clear\", \"third\", \"major\", \"common\", \"short\", \"particular\", \"private\", \"black\", \"military\", \"easy\", \"strong\", \"dead\", \"due\", \"anonymous\", \"special\", \"religious\", \"legal\", \"personal\", \"united\", \"specific\", \"previous\", \"necessary\", \"total\", \"young\", \"moral\", \"federal\", \"various\", \"main\", \"political\", \"related\", \"red\", \"medical\", \"willing\", \"serial\", \"average\", \"serious\", \"higher\", \"complete\", \"basic\", \"final\", \"russian\", \"normal\", \"international\", \"commercial\", \"individual\", \"scientific\"], \"textposition\": \"top center\", \"type\": \"scatter\", \"x\": [3.621455669403076, 5.812499523162842, 7.043643951416016, 3.6223678588867188, 3.961083173751831, 3.7016232013702393, 3.9358744621276855, 4.652149677276611, 6.525561809539795, 4.012434005737305, 8.445825576782227, 6.972863674163818, 6.07686710357666, 4.52346134185791, 7.355950355529785, 5.27960205078125, 7.1573357582092285, 6.406275749206543, 5.892398357391357, 5.746796607971191, 7.665963172912598, 8.034814834594727, 4.75377082824707, 7.007791996002197, 4.680571556091309, 3.3601932525634766, 6.142152309417725, 6.081529140472412, 5.423369884490967, 6.177728652954102, 5.631164073944092, 6.629158973693848, 7.500112533569336, 5.8058037757873535, 7.542459487915039, 6.0858941078186035, 5.962364196777344, 5.270186424255371, 6.300918102264404, 4.453390598297119, 7.5836639404296875, 8.190887451171875, 7.621304988861084, 5.563803195953369, 4.8365559577941895, 5.6084723472595215, 7.758613586425781, 7.60168981552124, 4.850963115692139, 7.447012424468994, 7.766073703765869, 5.871115684509277, 6.196420669555664, 5.70609188079834, 6.08764123916626, 4.559130668640137, 6.64432954788208, 6.47531795501709, 7.17000675201416, 6.662892818450928, 6.877927780151367, 6.882594108581543, 6.192829608917236, 5.766459941864014, 7.066473007202148, 6.487076282501221, 6.4249587059021, 6.596953868865967, 8.507040023803711, 8.107139587402344, 4.523801803588867, 5.581679821014404, 5.098952770233154, 6.009888648986816, 7.2336955070495605, 6.782113552093506, 6.146839618682861, 6.390809535980225, 6.428054332733154, 5.453329086303711, 6.090187072753906, 7.704525470733643, 6.978909969329834, 5.8268280029296875, 7.310770034790039, 6.5408477783203125, 7.185453414916992, 7.393634796142578, 7.925748348236084, 6.464585304260254, 5.6630353927612305, 6.2661027908325195, 7.723974227905273, 7.050255298614502, 6.700785160064697, 6.068787097930908, 7.161245346069336, 6.028064727783203, 7.1165571212768555, 6.38966703414917, 5.499424457550049], \"xaxis\": \"x\", \"y\": [13.514762878417969, 13.837082862854004, 15.472088813781738, 14.716487884521484, 14.429553985595703, 13.894258499145508, 14.279901504516602, 13.645495414733887, 13.830531120300293, 14.697376251220703, 14.189360618591309, 13.131452560424805, 13.032498359680176, 15.12534236907959, 14.597526550292969, 14.4423828125, 12.942276954650879, 13.697002410888672, 13.781929016113281, 14.487740516662598, 16.17699432373047, 14.088557243347168, 14.04052734375, 14.026015281677246, 14.955780982971191, 15.328596115112305, 13.715677261352539, 14.736065864562988, 13.1311616897583, 13.902652740478516, 15.484538078308105, 13.07745361328125, 16.639141082763672, 16.62725257873535, 15.643034934997559, 14.353781700134277, 14.241718292236328, 14.271496772766113, 16.83225440979004, 15.643799781799316, 14.228769302368164, 14.9619140625, 14.885178565979004, 13.782831192016602, 15.805315017700195, 16.746383666992188, 14.542834281921387, 16.12466049194336, 16.381818771362305, 14.053840637207031, 15.573665618896484, 14.671608924865723, 15.864768028259277, 13.981025695800781, 16.810667037963867, 14.815995216369629, 15.138010025024414, 15.211820602416992, 16.028762817382812, 14.259121894836426, 14.47338581085205, 16.860370635986328, 14.814895629882812, 16.514667510986328, 15.47338581085205, 17.32765769958496, 15.652474403381348, 14.419154167175293, 14.383450508117676, 15.005927085876465, 15.671111106872559, 16.059757232666016, 15.17861270904541, 16.74298858642578, 15.652902603149414, 15.386218070983887, 15.979194641113281, 15.90145206451416, 14.152881622314453, 15.861089706420898, 16.774526596069336, 14.32568073272705, 15.26656436920166, 16.663902282714844, 14.584858894348145, 13.888580322265625, 16.29051399230957, 15.073561668395996, 15.831679344177246, 15.198493957519531, 14.080127716064453, 15.875299453735352, 14.790303230285645, 16.247861862182617, 15.392776489257812, 16.468605041503906, 15.05649185180664, 16.598247528076172, 15.814549446105957, 15.71921157836914, 15.273117065429688], \"yaxis\": \"y\"}],\n",
       "                        {\"height\": 600, \"legend\": {\"tracegroupgap\": 0}, \"margin\": {\"t\": 60}, \"template\": {\"data\": {\"bar\": [{\"error_x\": {\"color\": \"#2a3f5f\"}, \"error_y\": {\"color\": \"#2a3f5f\"}, \"marker\": {\"line\": {\"color\": \"#E5ECF6\", \"width\": 0.5}}, \"type\": \"bar\"}], \"barpolar\": [{\"marker\": {\"line\": {\"color\": \"#E5ECF6\", \"width\": 0.5}}, \"type\": \"barpolar\"}], \"carpet\": [{\"aaxis\": {\"endlinecolor\": \"#2a3f5f\", \"gridcolor\": \"white\", \"linecolor\": \"white\", \"minorgridcolor\": \"white\", \"startlinecolor\": \"#2a3f5f\"}, \"baxis\": {\"endlinecolor\": \"#2a3f5f\", \"gridcolor\": \"white\", \"linecolor\": \"white\", \"minorgridcolor\": \"white\", \"startlinecolor\": \"#2a3f5f\"}, \"type\": \"carpet\"}], \"choropleth\": [{\"colorbar\": {\"outlinewidth\": 0, \"ticks\": \"\"}, \"type\": \"choropleth\"}], \"contour\": [{\"colorbar\": {\"outlinewidth\": 0, \"ticks\": \"\"}, \"colorscale\": [[0.0, \"#0d0887\"], [0.1111111111111111, \"#46039f\"], [0.2222222222222222, \"#7201a8\"], [0.3333333333333333, \"#9c179e\"], [0.4444444444444444, \"#bd3786\"], [0.5555555555555556, \"#d8576b\"], [0.6666666666666666, \"#ed7953\"], [0.7777777777777778, \"#fb9f3a\"], [0.8888888888888888, \"#fdca26\"], [1.0, \"#f0f921\"]], \"type\": \"contour\"}], \"contourcarpet\": [{\"colorbar\": {\"outlinewidth\": 0, \"ticks\": \"\"}, \"type\": \"contourcarpet\"}], \"heatmap\": [{\"colorbar\": {\"outlinewidth\": 0, \"ticks\": \"\"}, \"colorscale\": [[0.0, \"#0d0887\"], [0.1111111111111111, \"#46039f\"], [0.2222222222222222, \"#7201a8\"], [0.3333333333333333, \"#9c179e\"], [0.4444444444444444, \"#bd3786\"], [0.5555555555555556, \"#d8576b\"], [0.6666666666666666, \"#ed7953\"], [0.7777777777777778, \"#fb9f3a\"], [0.8888888888888888, \"#fdca26\"], [1.0, \"#f0f921\"]], \"type\": \"heatmap\"}], \"heatmapgl\": [{\"colorbar\": {\"outlinewidth\": 0, \"ticks\": \"\"}, \"colorscale\": [[0.0, \"#0d0887\"], [0.1111111111111111, \"#46039f\"], [0.2222222222222222, \"#7201a8\"], [0.3333333333333333, \"#9c179e\"], [0.4444444444444444, \"#bd3786\"], [0.5555555555555556, \"#d8576b\"], [0.6666666666666666, \"#ed7953\"], [0.7777777777777778, \"#fb9f3a\"], [0.8888888888888888, \"#fdca26\"], [1.0, \"#f0f921\"]], \"type\": \"heatmapgl\"}], \"histogram\": [{\"marker\": {\"colorbar\": {\"outlinewidth\": 0, \"ticks\": \"\"}}, \"type\": \"histogram\"}], \"histogram2d\": [{\"colorbar\": {\"outlinewidth\": 0, \"ticks\": \"\"}, \"colorscale\": [[0.0, \"#0d0887\"], [0.1111111111111111, \"#46039f\"], [0.2222222222222222, \"#7201a8\"], [0.3333333333333333, \"#9c179e\"], [0.4444444444444444, \"#bd3786\"], [0.5555555555555556, \"#d8576b\"], [0.6666666666666666, \"#ed7953\"], [0.7777777777777778, \"#fb9f3a\"], [0.8888888888888888, \"#fdca26\"], [1.0, \"#f0f921\"]], \"type\": \"histogram2d\"}], \"histogram2dcontour\": [{\"colorbar\": {\"outlinewidth\": 0, \"ticks\": \"\"}, \"colorscale\": [[0.0, \"#0d0887\"], [0.1111111111111111, \"#46039f\"], [0.2222222222222222, \"#7201a8\"], [0.3333333333333333, \"#9c179e\"], [0.4444444444444444, \"#bd3786\"], [0.5555555555555556, \"#d8576b\"], [0.6666666666666666, \"#ed7953\"], [0.7777777777777778, \"#fb9f3a\"], [0.8888888888888888, \"#fdca26\"], [1.0, \"#f0f921\"]], \"type\": \"histogram2dcontour\"}], \"mesh3d\": [{\"colorbar\": {\"outlinewidth\": 0, \"ticks\": \"\"}, \"type\": \"mesh3d\"}], \"parcoords\": [{\"line\": {\"colorbar\": {\"outlinewidth\": 0, \"ticks\": \"\"}}, \"type\": \"parcoords\"}], \"scatter\": [{\"marker\": {\"colorbar\": {\"outlinewidth\": 0, \"ticks\": \"\"}}, \"type\": \"scatter\"}], \"scatter3d\": [{\"line\": {\"colorbar\": {\"outlinewidth\": 0, \"ticks\": \"\"}}, \"marker\": {\"colorbar\": {\"outlinewidth\": 0, \"ticks\": \"\"}}, \"type\": \"scatter3d\"}], \"scattercarpet\": [{\"marker\": {\"colorbar\": {\"outlinewidth\": 0, \"ticks\": \"\"}}, \"type\": \"scattercarpet\"}], \"scattergeo\": [{\"marker\": {\"colorbar\": {\"outlinewidth\": 0, \"ticks\": \"\"}}, \"type\": \"scattergeo\"}], \"scattergl\": [{\"marker\": {\"colorbar\": {\"outlinewidth\": 0, \"ticks\": \"\"}}, \"type\": \"scattergl\"}], \"scattermapbox\": [{\"marker\": {\"colorbar\": {\"outlinewidth\": 0, \"ticks\": \"\"}}, \"type\": \"scattermapbox\"}], \"scatterpolar\": [{\"marker\": {\"colorbar\": {\"outlinewidth\": 0, \"ticks\": \"\"}}, \"type\": \"scatterpolar\"}], \"scatterpolargl\": [{\"marker\": {\"colorbar\": {\"outlinewidth\": 0, \"ticks\": \"\"}}, \"type\": \"scatterpolargl\"}], \"scatterternary\": [{\"marker\": {\"colorbar\": {\"outlinewidth\": 0, \"ticks\": \"\"}}, \"type\": \"scatterternary\"}], \"surface\": [{\"colorbar\": {\"outlinewidth\": 0, \"ticks\": \"\"}, \"colorscale\": [[0.0, \"#0d0887\"], [0.1111111111111111, \"#46039f\"], [0.2222222222222222, \"#7201a8\"], [0.3333333333333333, \"#9c179e\"], [0.4444444444444444, \"#bd3786\"], [0.5555555555555556, \"#d8576b\"], [0.6666666666666666, \"#ed7953\"], [0.7777777777777778, \"#fb9f3a\"], [0.8888888888888888, \"#fdca26\"], [1.0, \"#f0f921\"]], \"type\": \"surface\"}], \"table\": [{\"cells\": {\"fill\": {\"color\": \"#EBF0F8\"}, \"line\": {\"color\": \"white\"}}, \"header\": {\"fill\": {\"color\": \"#C8D4E3\"}, \"line\": {\"color\": \"white\"}}, \"type\": \"table\"}]}, \"layout\": {\"annotationdefaults\": {\"arrowcolor\": \"#2a3f5f\", \"arrowhead\": 0, \"arrowwidth\": 1}, \"colorscale\": {\"diverging\": [[0, \"#8e0152\"], [0.1, \"#c51b7d\"], [0.2, \"#de77ae\"], [0.3, \"#f1b6da\"], [0.4, \"#fde0ef\"], [0.5, \"#f7f7f7\"], [0.6, \"#e6f5d0\"], [0.7, \"#b8e186\"], [0.8, \"#7fbc41\"], [0.9, \"#4d9221\"], [1, \"#276419\"]], \"sequential\": [[0.0, \"#0d0887\"], [0.1111111111111111, \"#46039f\"], [0.2222222222222222, \"#7201a8\"], [0.3333333333333333, \"#9c179e\"], [0.4444444444444444, \"#bd3786\"], [0.5555555555555556, \"#d8576b\"], [0.6666666666666666, \"#ed7953\"], [0.7777777777777778, \"#fb9f3a\"], [0.8888888888888888, \"#fdca26\"], [1.0, \"#f0f921\"]], \"sequentialminus\": [[0.0, \"#0d0887\"], [0.1111111111111111, \"#46039f\"], [0.2222222222222222, \"#7201a8\"], [0.3333333333333333, \"#9c179e\"], [0.4444444444444444, \"#bd3786\"], [0.5555555555555556, \"#d8576b\"], [0.6666666666666666, \"#ed7953\"], [0.7777777777777778, \"#fb9f3a\"], [0.8888888888888888, \"#fdca26\"], [1.0, \"#f0f921\"]]}, \"colorway\": [\"#636efa\", \"#EF553B\", \"#00cc96\", \"#ab63fa\", \"#FFA15A\", \"#19d3f3\", \"#FF6692\", \"#B6E880\", \"#FF97FF\", \"#FECB52\"], \"font\": {\"color\": \"#2a3f5f\"}, \"geo\": {\"bgcolor\": \"white\", \"lakecolor\": \"white\", \"landcolor\": \"#E5ECF6\", \"showlakes\": true, \"showland\": true, \"subunitcolor\": \"white\"}, \"hoverlabel\": {\"align\": \"left\"}, \"hovermode\": \"closest\", \"mapbox\": {\"style\": \"light\"}, \"paper_bgcolor\": \"white\", \"plot_bgcolor\": \"#E5ECF6\", \"polar\": {\"angularaxis\": {\"gridcolor\": \"white\", \"linecolor\": \"white\", \"ticks\": \"\"}, \"bgcolor\": \"#E5ECF6\", \"radialaxis\": {\"gridcolor\": \"white\", \"linecolor\": \"white\", \"ticks\": \"\"}}, \"scene\": {\"xaxis\": {\"backgroundcolor\": \"#E5ECF6\", \"gridcolor\": \"white\", \"gridwidth\": 2, \"linecolor\": \"white\", \"showbackground\": true, \"ticks\": \"\", \"zerolinecolor\": \"white\"}, \"yaxis\": {\"backgroundcolor\": \"#E5ECF6\", \"gridcolor\": \"white\", \"gridwidth\": 2, \"linecolor\": \"white\", \"showbackground\": true, \"ticks\": \"\", \"zerolinecolor\": \"white\"}, \"zaxis\": {\"backgroundcolor\": \"#E5ECF6\", \"gridcolor\": \"white\", \"gridwidth\": 2, \"linecolor\": \"white\", \"showbackground\": true, \"ticks\": \"\", \"zerolinecolor\": \"white\"}}, \"shapedefaults\": {\"line\": {\"color\": \"#2a3f5f\"}}, \"ternary\": {\"aaxis\": {\"gridcolor\": \"white\", \"linecolor\": \"white\", \"ticks\": \"\"}, \"baxis\": {\"gridcolor\": \"white\", \"linecolor\": \"white\", \"ticks\": \"\"}, \"bgcolor\": \"#E5ECF6\", \"caxis\": {\"gridcolor\": \"white\", \"linecolor\": \"white\", \"ticks\": \"\"}}, \"title\": {\"x\": 0.05}, \"xaxis\": {\"automargin\": true, \"gridcolor\": \"white\", \"linecolor\": \"white\", \"ticks\": \"\", \"zerolinecolor\": \"white\", \"zerolinewidth\": 2}, \"yaxis\": {\"automargin\": true, \"gridcolor\": \"white\", \"linecolor\": \"white\", \"ticks\": \"\", \"zerolinecolor\": \"white\", \"zerolinewidth\": 2}}}, \"xaxis\": {\"anchor\": \"y\", \"domain\": [0.0, 0.98], \"title\": {\"text\": \"x\"}}, \"yaxis\": {\"anchor\": \"x\", \"domain\": [0.0, 1.0], \"title\": {\"text\": \"y\"}}},\n",
       "                        {\"responsive\": true}\n",
       "                    ).then(function(){\n",
       "                            \n",
       "var gd = document.getElementById('bbd31903-8c24-4ade-a7c7-ce339da76aaa');\n",
       "var x = new MutationObserver(function (mutations, observer) {{\n",
       "        var display = window.getComputedStyle(gd).display;\n",
       "        if (!display || display === 'none') {{\n",
       "            console.log([gd, 'removed!']);\n",
       "            Plotly.purge(gd);\n",
       "            observer.disconnect();\n",
       "        }}\n",
       "}});\n",
       "\n",
       "// Listen for the removal of the full notebook cells\n",
       "var notebookContainer = gd.closest('#notebook-container');\n",
       "if (notebookContainer) {{\n",
       "    x.observe(notebookContainer, {childList: true});\n",
       "}}\n",
       "\n",
       "// Listen for the clearing of the current output cell\n",
       "var outputEl = gd.closest('.output');\n",
       "if (outputEl) {{\n",
       "    x.observe(outputEl, {childList: true});\n",
       "}}\n",
       "\n",
       "                        })\n",
       "                };\n",
       "                });\n",
       "            </script>\n",
       "        </div>"
      ]
     },
     "metadata": {},
     "output_type": "display_data"
    }
   ],
   "source": [
    "view_2D(umap_lsa)"
   ]
  },
  {
   "cell_type": "markdown",
   "metadata": {},
   "source": [
    "Above, we ran our tests for POS clustering on w2v with window=5, but we've discussed before that such paradigmatic information is better captured by small window sizes. Let's therefore try w2v with window-size 1."
   ]
  },
  {
   "cell_type": "code",
   "execution_count": 398,
   "metadata": {},
   "outputs": [
    {
     "name": "stdout",
     "output_type": "stream",
     "text": [
      "0.09865210839216504\n",
      "0.08797440937132575\n"
     ]
    }
   ],
   "source": [
    "small_window = Word2Vec([sent.split() for sent in X_combined], size=300, window=1, min_count=1, workers=8)\n",
    "small_window.train([sent.split() for sent in X_combined], total_examples=model.corpus_count, epochs=15)\n",
    "mc_small_window = pd.DataFrame([(word, most_common[word], small_window.wv[word]) for word in most_common if word in count.vocabulary_], \n",
    "                      columns=[\"Word\", \"POS\", \"Vector\"])\n",
    "\n",
    "AC_small_window = AgglomerativeClustering(n_clusters=NUM_TAGS)\n",
    "AC_small_window.fit(np.stack(mc_small_window.Vector.values, axis=0))\n",
    "print(ari(AC_small_window.labels_, mc_small_window.POS))\n",
    "\n",
    "KM_small_window = KMeans(n_clusters=NUM_TAGS)\n",
    "KM_small_window.fit(np.stack(mc_small_window.Vector.values, axis=0))\n",
    "print(ari(KM_small_window.labels_, mc_small_window.POS))"
   ]
  },
  {
   "cell_type": "code",
   "execution_count": null,
   "metadata": {},
   "outputs": [],
   "source": []
  }
 ],
 "metadata": {
  "kernelspec": {
   "display_name": "Python 3",
   "language": "python",
   "name": "python3"
  },
  "language_info": {
   "codemirror_mode": {
    "name": "ipython",
    "version": 3
   },
   "file_extension": ".py",
   "mimetype": "text/x-python",
   "name": "python",
   "nbconvert_exporter": "python",
   "pygments_lexer": "ipython3",
   "version": "3.7.3"
  }
 },
 "nbformat": 4,
 "nbformat_minor": 2
}
